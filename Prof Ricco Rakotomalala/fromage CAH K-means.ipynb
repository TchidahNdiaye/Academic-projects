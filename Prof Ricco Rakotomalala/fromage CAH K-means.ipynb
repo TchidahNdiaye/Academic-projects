{
 "cells": [
  {
   "cell_type": "markdown",
   "metadata": {},
   "source": [
    "# 1. Chargement des données et descriptions de la BD"
   ]
  },
  {
   "cell_type": "code",
   "execution_count": 1,
   "metadata": {},
   "outputs": [],
   "source": [
    "#charger les données - attention aux options\n",
    "fromage <- read.table(file=\"fromage.txt\",header=T,row.names=1,sep=\"\\t\",dec=\".\")"
   ]
  },
  {
   "cell_type": "code",
   "execution_count": 2,
   "metadata": {},
   "outputs": [
    {
     "data": {
      "text/html": [
       "<table>\n",
       "<thead><tr><th></th><th scope=col>calories</th><th scope=col>sodium</th><th scope=col>calcium</th><th scope=col>lipides</th><th scope=col>retinol</th><th scope=col>folates</th><th scope=col>proteines</th><th scope=col>cholesterol</th><th scope=col>magnesium</th></tr></thead>\n",
       "<tbody>\n",
       "\t<tr><th scope=row>CarredelEst</th><td>314  </td><td>353.5</td><td> 72.6</td><td>26.3 </td><td> 51.6</td><td>30.3 </td><td>21.0 </td><td> 70  </td><td>20   </td></tr>\n",
       "\t<tr><th scope=row>Babybel</th><td>314  </td><td>238.0</td><td>209.8</td><td>25.1 </td><td> 63.7</td><td> 6.4 </td><td>22.6 </td><td> 70  </td><td>27   </td></tr>\n",
       "\t<tr><th scope=row>Beaufort</th><td>401  </td><td>112.0</td><td>259.4</td><td>33.3 </td><td> 54.9</td><td> 1.2 </td><td>26.6 </td><td>120  </td><td>41   </td></tr>\n",
       "\t<tr><th scope=row>Bleu</th><td>342  </td><td>336.0</td><td>211.1</td><td>28.9 </td><td> 37.1</td><td>27.5 </td><td>20.2 </td><td> 90  </td><td>27   </td></tr>\n",
       "\t<tr><th scope=row>Camembert</th><td>264  </td><td>314.0</td><td>215.9</td><td>19.5 </td><td>103.0</td><td>36.4 </td><td>23.4 </td><td> 60  </td><td>20   </td></tr>\n",
       "\t<tr><th scope=row>Cantal</th><td>367  </td><td>256.0</td><td>264.0</td><td>28.8 </td><td> 48.8</td><td> 5.7 </td><td>23.0 </td><td> 90  </td><td>30   </td></tr>\n",
       "</tbody>\n",
       "</table>\n"
      ],
      "text/latex": [
       "\\begin{tabular}{r|lllllllll}\n",
       "  & calories & sodium & calcium & lipides & retinol & folates & proteines & cholesterol & magnesium\\\\\n",
       "\\hline\n",
       "\tCarredelEst & 314   & 353.5 &  72.6 & 26.3  &  51.6 & 30.3  & 21.0  &  70   & 20   \\\\\n",
       "\tBabybel & 314   & 238.0 & 209.8 & 25.1  &  63.7 &  6.4  & 22.6  &  70   & 27   \\\\\n",
       "\tBeaufort & 401   & 112.0 & 259.4 & 33.3  &  54.9 &  1.2  & 26.6  & 120   & 41   \\\\\n",
       "\tBleu & 342   & 336.0 & 211.1 & 28.9  &  37.1 & 27.5  & 20.2  &  90   & 27   \\\\\n",
       "\tCamembert & 264   & 314.0 & 215.9 & 19.5  & 103.0 & 36.4  & 23.4  &  60   & 20   \\\\\n",
       "\tCantal & 367   & 256.0 & 264.0 & 28.8  &  48.8 &  5.7  & 23.0  &  90   & 30   \\\\\n",
       "\\end{tabular}\n"
      ],
      "text/markdown": [
       "\n",
       "| <!--/--> | calories | sodium | calcium | lipides | retinol | folates | proteines | cholesterol | magnesium |\n",
       "|---|---|---|---|---|---|---|---|---|---|\n",
       "| CarredelEst | 314   | 353.5 |  72.6 | 26.3  |  51.6 | 30.3  | 21.0  |  70   | 20    |\n",
       "| Babybel | 314   | 238.0 | 209.8 | 25.1  |  63.7 |  6.4  | 22.6  |  70   | 27    |\n",
       "| Beaufort | 401   | 112.0 | 259.4 | 33.3  |  54.9 |  1.2  | 26.6  | 120   | 41    |\n",
       "| Bleu | 342   | 336.0 | 211.1 | 28.9  |  37.1 | 27.5  | 20.2  |  90   | 27    |\n",
       "| Camembert | 264   | 314.0 | 215.9 | 19.5  | 103.0 | 36.4  | 23.4  |  60   | 20    |\n",
       "| Cantal | 367   | 256.0 | 264.0 | 28.8  |  48.8 |  5.7  | 23.0  |  90   | 30    |\n",
       "\n"
      ],
      "text/plain": [
       "            calories sodium calcium lipides retinol folates proteines\n",
       "CarredelEst 314      353.5   72.6   26.3     51.6   30.3    21.0     \n",
       "Babybel     314      238.0  209.8   25.1     63.7    6.4    22.6     \n",
       "Beaufort    401      112.0  259.4   33.3     54.9    1.2    26.6     \n",
       "Bleu        342      336.0  211.1   28.9     37.1   27.5    20.2     \n",
       "Camembert   264      314.0  215.9   19.5    103.0   36.4    23.4     \n",
       "Cantal      367      256.0  264.0   28.8     48.8    5.7    23.0     \n",
       "            cholesterol magnesium\n",
       "CarredelEst  70         20       \n",
       "Babybel      70         27       \n",
       "Beaufort    120         41       \n",
       "Bleu         90         27       \n",
       "Camembert    60         20       \n",
       "Cantal       90         30       "
      ]
     },
     "metadata": {},
     "output_type": "display_data"
    }
   ],
   "source": [
    "#afficher les premières lignes\n",
    "head(fromage)"
   ]
  },
  {
   "cell_type": "code",
   "execution_count": 3,
   "metadata": {},
   "outputs": [
    {
     "data": {
      "text/plain": [
       "    calories       sodium         calcium         lipides         retinol      \n",
       " Min.   : 70   Min.   : 22.0   Min.   : 72.6   Min.   : 3.40   Min.   : 37.10  \n",
       " 1st Qu.:292   1st Qu.:140.0   1st Qu.:132.9   1st Qu.:23.40   1st Qu.: 51.60  \n",
       " Median :321   Median :223.0   Median :202.3   Median :26.30   Median : 62.30  \n",
       " Mean   :300   Mean   :210.1   Mean   :185.7   Mean   :24.16   Mean   : 67.56  \n",
       " 3rd Qu.:355   3rd Qu.:276.0   3rd Qu.:220.5   3rd Qu.:29.10   3rd Qu.: 76.40  \n",
       " Max.   :406   Max.   :432.0   Max.   :334.6   Max.   :33.30   Max.   :150.50  \n",
       "    folates        proteines      cholesterol       magnesium    \n",
       " Min.   : 1.20   Min.   : 4.10   Min.   : 10.00   Min.   :10.00  \n",
       " 1st Qu.: 4.90   1st Qu.:17.80   1st Qu.: 70.00   1st Qu.:20.00  \n",
       " Median : 6.40   Median :21.00   Median : 80.00   Median :26.00  \n",
       " Mean   :13.01   Mean   :20.17   Mean   : 74.59   Mean   :26.97  \n",
       " 3rd Qu.:21.10   3rd Qu.:23.40   3rd Qu.: 90.00   3rd Qu.:30.00  \n",
       " Max.   :36.40   Max.   :35.70   Max.   :120.00   Max.   :51.00  "
      ]
     },
     "metadata": {},
     "output_type": "display_data"
    }
   ],
   "source": [
    "#stat. descriptives\n",
    "summary(fromage)"
   ]
  },
  {
   "cell_type": "code",
   "execution_count": 4,
   "metadata": {
    "scrolled": true
   },
   "outputs": [
    {
     "data": {
      "image/png": "[encoded data removed]",
      "text/plain": [
       "plot without title"
      ]
     },
     "metadata": {},
     "output_type": "display_data"
    }
   ],
   "source": [
    "#graphique - croisement deux à deux\n",
    "pairs(fromage)"
   ]
  },
  {
   "cell_type": "code",
   "execution_count": 6,
   "metadata": {},
   "outputs": [
    {
     "data": {
      "text/html": [
       "<ol class=list-inline>\n",
       "\t<li>29</li>\n",
       "\t<li>9</li>\n",
       "</ol>\n"
      ],
      "text/latex": [
       "\\begin{enumerate*}\n",
       "\\item 29\n",
       "\\item 9\n",
       "\\end{enumerate*}\n"
      ],
      "text/markdown": [
       "1. 29\n",
       "2. 9\n",
       "\n",
       "\n"
      ],
      "text/plain": [
       "[1] 29  9"
      ]
     },
     "metadata": {},
     "output_type": "display_data"
    }
   ],
   "source": [
    "# Dimension de la base de données\n",
    "dim(fromage)"
   ]
  },
  {
   "cell_type": "markdown",
   "metadata": {},
   "source": [
    "On a une base de données de 29 observations et 9 variables."
   ]
  },
  {
   "cell_type": "code",
   "execution_count": 7,
   "metadata": {},
   "outputs": [
    {
     "data": {
      "text/html": [
       "<ol class=list-inline>\n",
       "\t<li>'calories'</li>\n",
       "\t<li>'sodium'</li>\n",
       "\t<li>'calcium'</li>\n",
       "\t<li>'lipides'</li>\n",
       "\t<li>'retinol'</li>\n",
       "\t<li>'folates'</li>\n",
       "\t<li>'proteines'</li>\n",
       "\t<li>'cholesterol'</li>\n",
       "\t<li>'magnesium'</li>\n",
       "</ol>\n"
      ],
      "text/latex": [
       "\\begin{enumerate*}\n",
       "\\item 'calories'\n",
       "\\item 'sodium'\n",
       "\\item 'calcium'\n",
       "\\item 'lipides'\n",
       "\\item 'retinol'\n",
       "\\item 'folates'\n",
       "\\item 'proteines'\n",
       "\\item 'cholesterol'\n",
       "\\item 'magnesium'\n",
       "\\end{enumerate*}\n"
      ],
      "text/markdown": [
       "1. 'calories'\n",
       "2. 'sodium'\n",
       "3. 'calcium'\n",
       "4. 'lipides'\n",
       "5. 'retinol'\n",
       "6. 'folates'\n",
       "7. 'proteines'\n",
       "8. 'cholesterol'\n",
       "9. 'magnesium'\n",
       "\n",
       "\n"
      ],
      "text/plain": [
       "[1] \"calories\"    \"sodium\"      \"calcium\"     \"lipides\"     \"retinol\"    \n",
       "[6] \"folates\"     \"proteines\"   \"cholesterol\" \"magnesium\"  "
      ]
     },
     "metadata": {},
     "output_type": "display_data"
    }
   ],
   "source": [
    "# Nom des variables de la BD\n",
    "names(fromage)"
   ]
  },
  {
   "cell_type": "code",
   "execution_count": 8,
   "metadata": {},
   "outputs": [
    {
     "name": "stdout",
     "output_type": "stream",
     "text": [
      "'data.frame':\t29 obs. of  9 variables:\n",
      " $ calories   : int  314 314 401 342 264 367 344 292 406 399 ...\n",
      " $ sodium     : num  354 238 112 336 314 ...\n",
      " $ calcium    : num  72.6 209.8 259.4 211.1 215.9 ...\n",
      " $ lipides    : num  26.3 25.1 33.3 28.9 19.5 28.8 27.9 25.4 32.5 32.4 ...\n",
      " $ retinol    : num  51.6 63.7 54.9 37.1 103 ...\n",
      " $ folates    : num  30.3 6.4 1.2 27.5 36.4 5.7 36.3 32.5 4.9 1.3 ...\n",
      " $ proteines  : num  21 22.6 26.6 20.2 23.4 23 19.5 17.8 26 29.2 ...\n",
      " $ cholesterol: int  70 70 120 90 60 90 80 70 110 120 ...\n",
      " $ magnesium  : int  20 27 41 27 20 30 36 25 28 51 ...\n"
     ]
    }
   ],
   "source": [
    "# \n",
    "str(fromage)"
   ]
  },
  {
   "cell_type": "markdown",
   "metadata": {},
   "source": [
    "# 2. Classification Ascendante hiérachique"
   ]
  },
  {
   "cell_type": "code",
   "execution_count": 9,
   "metadata": {},
   "outputs": [],
   "source": [
    "#centrage réduction des données\n",
    "fromage.cr <- scale(fromage,center=T,scale=T)"
   ]
  },
  {
   "cell_type": "code",
   "execution_count": 10,
   "metadata": {},
   "outputs": [
    {
     "data": {
      "text/html": [
       "<table>\n",
       "<thead><tr><th></th><th scope=col>calories</th><th scope=col>sodium</th><th scope=col>calcium</th><th scope=col>lipides</th><th scope=col>retinol</th><th scope=col>folates</th><th scope=col>proteines</th><th scope=col>cholesterol</th><th scope=col>magnesium</th></tr></thead>\n",
       "<tbody>\n",
       "\t<tr><th scope=row>CarredelEst</th><td> 0.1519405  </td><td> 1.3196100  </td><td>-1.5598542  </td><td> 0.2634039  </td><td>-0.6605970  </td><td> 1.4748064  </td><td>0.119405148 </td><td>-0.1623680  </td><td>-0.615416005</td></tr>\n",
       "\t<tr><th scope=row>Babybel</th><td> 0.1519405  </td><td> 0.2568464  </td><td> 0.3318060  </td><td> 0.1157959  </td><td>-0.1598334  </td><td>-0.5638620  </td><td>0.349297216 </td><td>-0.1623680  </td><td> 0.003046614</td></tr>\n",
       "\t<tr><th scope=row>Beaufort</th><td> 1.0984739  </td><td>-0.9025320  </td><td> 1.0156715  </td><td> 1.1244504  </td><td>-0.5240251  </td><td>-1.0074216  </td><td>0.924027388 </td><td> 1.6078095  </td><td> 1.239971851</td></tr>\n",
       "\t<tr><th scope=row>Bleu</th><td> 0.4565720  </td><td> 1.1585852  </td><td> 0.3497299  </td><td> 0.5832211  </td><td>-1.2606856  </td><td> 1.2359666  </td><td>0.004459113 </td><td> 0.5457030  </td><td> 0.003046614</td></tr>\n",
       "\t<tr><th scope=row>Camembert</th><td>-0.3920441  </td><td> 0.9561541  </td><td> 0.4159104  </td><td>-0.5730413  </td><td> 1.4666137  </td><td> 1.9951360  </td><td>0.464243251 </td><td>-0.5164035  </td><td>-0.615416005</td></tr>\n",
       "\t<tr><th scope=row>Cantal</th><td> 0.7285643  </td><td> 0.4224719  </td><td> 1.0790945  </td><td> 0.5709205  </td><td>-0.7764761  </td><td>-0.6235719  </td><td>0.406770234 </td><td> 0.5457030  </td><td> 0.268102022</td></tr>\n",
       "</tbody>\n",
       "</table>\n"
      ],
      "text/latex": [
       "\\begin{tabular}{r|lllllllll}\n",
       "  & calories & sodium & calcium & lipides & retinol & folates & proteines & cholesterol & magnesium\\\\\n",
       "\\hline\n",
       "\tCarredelEst &  0.1519405   &  1.3196100   & -1.5598542   &  0.2634039   & -0.6605970   &  1.4748064   & 0.119405148  & -0.1623680   & -0.615416005\\\\\n",
       "\tBabybel &  0.1519405   &  0.2568464   &  0.3318060   &  0.1157959   & -0.1598334   & -0.5638620   & 0.349297216  & -0.1623680   &  0.003046614\\\\\n",
       "\tBeaufort &  1.0984739   & -0.9025320   &  1.0156715   &  1.1244504   & -0.5240251   & -1.0074216   & 0.924027388  &  1.6078095   &  1.239971851\\\\\n",
       "\tBleu &  0.4565720   &  1.1585852   &  0.3497299   &  0.5832211   & -1.2606856   &  1.2359666   & 0.004459113  &  0.5457030   &  0.003046614\\\\\n",
       "\tCamembert & -0.3920441   &  0.9561541   &  0.4159104   & -0.5730413   &  1.4666137   &  1.9951360   & 0.464243251  & -0.5164035   & -0.615416005\\\\\n",
       "\tCantal &  0.7285643   &  0.4224719   &  1.0790945   &  0.5709205   & -0.7764761   & -0.6235719   & 0.406770234  &  0.5457030   &  0.268102022\\\\\n",
       "\\end{tabular}\n"
      ],
      "text/markdown": [
       "\n",
       "| <!--/--> | calories | sodium | calcium | lipides | retinol | folates | proteines | cholesterol | magnesium |\n",
       "|---|---|---|---|---|---|---|---|---|---|\n",
       "| CarredelEst |  0.1519405   |  1.3196100   | -1.5598542   |  0.2634039   | -0.6605970   |  1.4748064   | 0.119405148  | -0.1623680   | -0.615416005 |\n",
       "| Babybel |  0.1519405   |  0.2568464   |  0.3318060   |  0.1157959   | -0.1598334   | -0.5638620   | 0.349297216  | -0.1623680   |  0.003046614 |\n",
       "| Beaufort |  1.0984739   | -0.9025320   |  1.0156715   |  1.1244504   | -0.5240251   | -1.0074216   | 0.924027388  |  1.6078095   |  1.239971851 |\n",
       "| Bleu |  0.4565720   |  1.1585852   |  0.3497299   |  0.5832211   | -1.2606856   |  1.2359666   | 0.004459113  |  0.5457030   |  0.003046614 |\n",
       "| Camembert | -0.3920441   |  0.9561541   |  0.4159104   | -0.5730413   |  1.4666137   |  1.9951360   | 0.464243251  | -0.5164035   | -0.615416005 |\n",
       "| Cantal |  0.7285643   |  0.4224719   |  1.0790945   |  0.5709205   | -0.7764761   | -0.6235719   | 0.406770234  |  0.5457030   |  0.268102022 |\n",
       "\n"
      ],
      "text/plain": [
       "            calories   sodium     calcium    lipides    retinol    folates   \n",
       "CarredelEst  0.1519405  1.3196100 -1.5598542  0.2634039 -0.6605970  1.4748064\n",
       "Babybel      0.1519405  0.2568464  0.3318060  0.1157959 -0.1598334 -0.5638620\n",
       "Beaufort     1.0984739 -0.9025320  1.0156715  1.1244504 -0.5240251 -1.0074216\n",
       "Bleu         0.4565720  1.1585852  0.3497299  0.5832211 -1.2606856  1.2359666\n",
       "Camembert   -0.3920441  0.9561541  0.4159104 -0.5730413  1.4666137  1.9951360\n",
       "Cantal       0.7285643  0.4224719  1.0790945  0.5709205 -0.7764761 -0.6235719\n",
       "            proteines   cholesterol magnesium   \n",
       "CarredelEst 0.119405148 -0.1623680  -0.615416005\n",
       "Babybel     0.349297216 -0.1623680   0.003046614\n",
       "Beaufort    0.924027388  1.6078095   1.239971851\n",
       "Bleu        0.004459113  0.5457030   0.003046614\n",
       "Camembert   0.464243251 -0.5164035  -0.615416005\n",
       "Cantal      0.406770234  0.5457030   0.268102022"
      ]
     },
     "metadata": {},
     "output_type": "display_data"
    }
   ],
   "source": [
    "# Les cinq première lignes des données centées réduites\n",
    "head(fromage.cr)"
   ]
  },
  {
   "cell_type": "code",
   "execution_count": 11,
   "metadata": {},
   "outputs": [
    {
     "data": {
      "text/plain": [
       "    calories            sodium           calcium           lipides        \n",
       " Min.   :-2.50270   Min.   :-1.7307   Min.   :-1.5599   Min.   :-2.55345  \n",
       " 1st Qu.:-0.08741   1st Qu.:-0.6449   1st Qu.:-0.7285   1st Qu.:-0.09332  \n",
       " Median : 0.22810   Median : 0.1188   Median : 0.2284   Median : 0.26340  \n",
       " Mean   : 0.00000   Mean   : 0.0000   Mean   : 0.0000   Mean   : 0.00000  \n",
       " 3rd Qu.: 0.59801   3rd Qu.: 0.6065   3rd Qu.: 0.4793   3rd Qu.: 0.60782  \n",
       " Max.   : 1.15287   Max.   : 2.0419   Max.   : 2.0525   Max.   : 1.12445  \n",
       "    retinol           folates          proteines        cholesterol     \n",
       " Min.   :-1.2607   Min.   :-1.0074   Min.   :-2.3088   Min.   :-2.2866  \n",
       " 1st Qu.:-0.6606   1st Qu.:-0.6918   1st Qu.:-0.3404   1st Qu.:-0.1624  \n",
       " Median :-0.2178   Median :-0.5639   Median : 0.1194   Median : 0.1917  \n",
       " Mean   : 0.0000   Mean   : 0.0000   Mean   : 0.0000   Mean   : 0.0000  \n",
       " 3rd Qu.: 0.3658   3rd Qu.: 0.6900   3rd Qu.: 0.4642   3rd Qu.: 0.5457  \n",
       " Max.   : 3.4324   Max.   : 1.9951   Max.   : 2.2315   Max.   : 1.6078  \n",
       "   magnesium       \n",
       " Min.   :-1.49893  \n",
       " 1st Qu.:-0.61542  \n",
       " Median :-0.08531  \n",
       " Mean   : 0.00000  \n",
       " 3rd Qu.: 0.26810  \n",
       " Max.   : 2.12349  "
      ]
     },
     "metadata": {},
     "output_type": "display_data"
    }
   ],
   "source": [
    "# Cela n'est pas nécessaire mais observons les statistiques descriptives.\n",
    "summary(fromage.cr)"
   ]
  },
  {
   "cell_type": "code",
   "execution_count": 12,
   "metadata": {},
   "outputs": [],
   "source": [
    "# Calcul de la distance entre individus\n",
    "d.fromage <- dist(fromage.cr)"
   ]
  },
  {
   "cell_type": "code",
   "execution_count": 13,
   "metadata": {},
   "outputs": [
    {
     "name": "stdout",
     "output_type": "stream",
     "text": [
      "                   CarredelEst   Babybel  Beaufort      Bleu Camembert\n",
      "Babybel              3.0938507                                        \n",
      "Beaufort             5.1586908 3.0080471                              \n",
      "Bleu                 2.2763453 2.4892322 3.8047035                    \n",
      "Camembert            3.1735357 3.3138152 5.4828542 3.4407728          \n",
      "Cantal               3.7386007 1.4436900 2.1803932 2.2522028 4.1340177\n",
      "Chabichou            2.7138300 3.4519939 4.6186880 3.2911710 3.0549758\n",
      "Chaource             2.9837850 3.3948937 5.2921420 3.6813854 1.8540394\n",
      "Cheddar              3.9279821 2.2107743 1.9469941 3.2681949 4.3669098\n",
      "Comte                5.4350981 3.5086421 1.1208041 4.3039421 5.8586695\n",
      "Coulomniers          1.6910070 2.5672505 4.5850643 2.8048481 3.2373875\n",
      "Edam                 4.5746681 1.9833032 2.0958689 3.4230948 4.2634829\n",
      "Emmental             5.7024506 3.3146990 1.1833531 4.2886258 5.5682190\n",
      "Fr.chevrepatemolle   4.9877143 5.2541823 7.2611737 6.0711136 3.7100077\n",
      "Fr.fondu.45          2.8244916 1.9391530 4.5154596 2.9456535 3.2264062\n",
      "Fr.frais20nat.       5.7356978 5.4765434 7.7595097 6.3000935 5.5093512\n",
      "Fr.frais40nat.       5.1610270 5.1736673 7.3743126 5.9500498 5.0961195\n",
      "Maroilles            3.7839438 1.8361776 2.5048065 2.4112364 4.4518208\n",
      "Morbier              3.1984543 0.9526489 2.5903913 2.1956210 3.7453452\n",
      "Parmesan             5.6272394 3.3557350 3.0257667 4.4948762 4.6909076\n",
      "Petitsuisse40        4.9275515 4.9423318 7.1938511 5.8288621 5.0218714\n",
      "PontlEveque          2.8292118 1.0495643 3.5182172 2.7339761 3.7331865\n",
      "Pyrenees             2.8975553 1.1403005 2.6201387 2.1792515 3.8941565\n",
      "Reblochon            3.0208288 0.8104892 3.1274558 2.4349725 3.1210423\n",
      "Rocquefort           2.8379019 2.6544735 4.1119457 2.6017432 3.5103975\n",
      "SaintPaulin          3.6546348 0.8408843 2.9813102 2.7231016 3.4177266\n",
      "Tome                 2.4465936 1.4040141 3.5453194 2.6515457 3.6347684\n",
      "Vacherin             3.7845564 1.4911340 2.4728876 2.8325929 4.3721923\n",
      "Yaourtlaitent.nat.   6.3679257 5.4125320 7.5931372 6.4996097 6.1383274\n",
      "                      Cantal Chabichou  Chaource   Cheddar     Comte\n",
      "Babybel                                                             \n",
      "Beaufort                                                            \n",
      "Bleu                                                                \n",
      "Camembert                                                           \n",
      "Cantal                                                              \n",
      "Chabichou          4.0935938                                        \n",
      "Chaource           4.2952813 1.9566172                              \n",
      "Cheddar            2.0691105 3.5388655 3.9277970                    \n",
      "Comte              2.9232710 4.6378581 5.5558203 2.4709176          \n",
      "Coulomniers        3.4304480 2.7121390 2.8189306 3.1286723 4.9699277\n",
      "Edam               1.9101100 3.9798333 4.3429751 2.5699110 2.3201702\n",
      "Emmental           2.6310821 5.0032878 5.6208501 2.7469093 1.4674593\n",
      "Fr.chevrepatemolle 6.4213941 3.9846219 2.7368031 5.8798337 7.4889511\n",
      "Fr.fondu.45        2.7830271 3.8182140 3.0815667 3.3087928 5.0184708\n",
      "Fr.frais20nat.     6.5401258 6.1765560 5.8206816 7.1494337 8.0763259\n",
      "Fr.frais40nat.     6.2895863 5.3697623 5.0534402 6.5630434 7.6784293\n",
      "Maroilles          1.2076858 4.0923122 4.4050614 2.5916394 2.9275518\n",
      "Morbier            0.8811332 3.6441789 3.7619500 1.9428878 3.1383273\n",
      "Parmesan           3.0627675 5.0230407 5.0642731 3.3421932 3.1474018\n",
      "Petitsuisse40      6.1101080 5.1847351 4.9317099 6.3255769 7.4770214\n",
      "PontlEveque        2.0928780 3.6320555 3.6746684 2.5794631 3.9664586\n",
      "Pyrenees           1.2946283 3.4461412 3.7545122 1.6877884 3.1817203\n",
      "Reblochon          1.6774643 3.1516847 2.9831120 2.2477912 3.5832563\n",
      "Rocquefort         2.8059584 3.4011648 3.0218374 2.8064619 4.5788733\n",
      "SaintPaulin        1.4522538 3.9264481 3.8031535 2.5651764 3.5820588\n",
      "Tome               2.2764046 3.2672856 3.3030057 2.1826915 3.9848718\n",
      "Vacherin           1.5976487 3.8114186 4.1669255 2.2875192 3.0669983\n",
      "Yaourtlaitent.nat. 6.3144487 6.9429667 6.4712621 7.2193864 7.9932958\n",
      "                   Coulomniers      Edam  Emmental Fr.chevrepatemolle\n",
      "Babybel                                                              \n",
      "Beaufort                                                             \n",
      "Bleu                                                                 \n",
      "Camembert                                                            \n",
      "Cantal                                                               \n",
      "Chabichou                                                            \n",
      "Chaource                                                             \n",
      "Cheddar                                                              \n",
      "Comte                                                                \n",
      "Coulomniers                                                          \n",
      "Edam                 4.1525442                                       \n",
      "Emmental             5.1363187 1.8322965                             \n",
      "Fr.chevrepatemolle   4.3585704 6.1643653 7.4713330                   \n",
      "Fr.fondu.45          2.6195293 3.6468573 5.0240427          4.7679721\n",
      "Fr.frais20nat.       5.1714711 6.3365147 7.6645667          5.2963777\n",
      "Fr.frais40nat.       4.4179884 6.1368448 7.4181455          4.3263015\n",
      "Maroilles            3.7698508 2.0181288 3.0056089          6.5577036\n",
      "Morbier              2.9463127 2.0472104 3.0949293          5.9039286\n",
      "Parmesan             5.4236972 2.3370586 2.6246566          7.0838431\n",
      "Petitsuisse40        4.1562188 5.9696811 7.2560259          4.2866557\n",
      "PontlEveque          2.0755181 2.7545791 3.9334298          5.2456015\n",
      "Pyrenees             2.3041863 2.4330945 3.2543640          5.7353315\n",
      "Reblochon            2.6001884 2.1114514 3.5207953          4.9325546\n",
      "Rocquefort           2.9630770 3.8785843 4.8558490          5.3222966\n",
      "SaintPaulin          3.0874019 1.7837264 3.0461664          5.5507097\n",
      "Tome                 1.6071979 3.1315557 4.1573770          5.0395708\n",
      "Vacherin             3.0734984 1.9871683 2.8863243          5.8224382\n",
      "Yaourtlaitent.nat.   5.7868559 6.1576722 7.4822322          6.1853121\n",
      "                   Fr.fondu.45 Fr.frais20nat. Fr.frais40nat. Maroilles\n",
      "Babybel                                                               \n",
      "Beaufort                                                              \n",
      "Bleu                                                                  \n",
      "Camembert                                                             \n",
      "Cantal                                                                \n",
      "Chabichou                                                             \n",
      "Chaource                                                              \n",
      "Cheddar                                                               \n",
      "Comte                                                                 \n",
      "Coulomniers                                                           \n",
      "Edam                                                                  \n",
      "Emmental                                                              \n",
      "Fr.chevrepatemolle                                                    \n",
      "Fr.fondu.45                                                           \n",
      "Fr.frais20nat.       5.6157347                                        \n",
      "Fr.frais40nat.       5.2136088      1.3762687                         \n",
      "Maroilles            2.7547164      6.7160730      6.4734764          \n",
      "Morbier              2.1832734      6.3301274      6.0188851 1.2185458\n",
      "Parmesan             4.6175607      8.0666040      7.9171654 3.3128987\n",
      "Petitsuisse40        5.0471206      1.5982410      0.7228946 6.3152009\n",
      "PontlEveque          1.9620815      5.0262557      4.6637738 2.3758327\n",
      "Pyrenees             2.3132698      6.0209863      5.5880245 1.7801437\n",
      "Reblochon            1.6112552      5.6253561      5.2283580 1.7368928\n",
      "Rocquefort           1.8884016      7.1217486      6.5459846 2.7264893\n",
      "SaintPaulin          2.4888988      5.3592217      5.1911186 2.0876546\n",
      "Tome                 1.8065824      5.6105659      5.0713279 2.5461393\n",
      "Vacherin             2.9303184      5.6065220      5.2523753 1.9119587\n",
      "Yaourtlaitent.nat.   5.4788804      1.9490715      2.8193897 6.3952081\n",
      "                     Morbier  Parmesan Petitsuisse40 PontlEveque  Pyrenees\n",
      "Babybel                                                                   \n",
      "Beaufort                                                                  \n",
      "Bleu                                                                      \n",
      "Camembert                                                                 \n",
      "Cantal                                                                    \n",
      "Chabichou                                                                 \n",
      "Chaource                                                                  \n",
      "Cheddar                                                                   \n",
      "Comte                                                                     \n",
      "Coulomniers                                                               \n",
      "Edam                                                                      \n",
      "Emmental                                                                  \n",
      "Fr.chevrepatemolle                                                        \n",
      "Fr.fondu.45                                                               \n",
      "Fr.frais20nat.                                                            \n",
      "Fr.frais40nat.                                                            \n",
      "Maroilles                                                                 \n",
      "Morbier                                                                   \n",
      "Parmesan           3.1194050                                              \n",
      "Petitsuisse40      5.7900933 7.7141497                                    \n",
      "PontlEveque        1.6436366 4.2952540     4.3965792                      \n",
      "Pyrenees           1.0031721 3.8045589     5.3566691   1.2025719          \n",
      "Reblochon          1.1685544 3.4624649     5.0653959   1.4524508 1.3954650\n",
      "Rocquefort         2.3030257 4.4119890     6.3944640   2.9570293 2.4681465\n",
      "SaintPaulin        1.4193083 3.1866769     5.0087776   1.5708876 1.6503050\n",
      "Tome               1.6714748 4.3974589     4.7911012   0.9426685 1.1182617\n",
      "Vacherin           1.6604407 3.9415144     5.0486673   1.6672445 1.4299547\n",
      "Yaourtlaitent.nat. 6.2035704 7.9294875     3.0110571   5.0172315 6.0198508\n",
      "                   Reblochon Rocquefort SaintPaulin      Tome  Vacherin\n",
      "Babybel                                                                \n",
      "Beaufort                                                               \n",
      "Bleu                                                                   \n",
      "Camembert                                                              \n",
      "Cantal                                                                 \n",
      "Chabichou                                                              \n",
      "Chaource                                                               \n",
      "Cheddar                                                                \n",
      "Comte                                                                  \n",
      "Coulomniers                                                            \n",
      "Edam                                                                   \n",
      "Emmental                                                               \n",
      "Fr.chevrepatemolle                                                     \n",
      "Fr.fondu.45                                                            \n",
      "Fr.frais20nat.                                                         \n",
      "Fr.frais40nat.                                                         \n",
      "Maroilles                                                              \n",
      "Morbier                                                                \n",
      "Parmesan                                                               \n",
      "Petitsuisse40                                                          \n",
      "PontlEveque                                                            \n",
      "Pyrenees                                                               \n",
      "Reblochon                                                              \n",
      "Rocquefort         2.1621474                                           \n",
      "SaintPaulin        1.3723274  3.2538342                                \n",
      "Tome               1.5427728  2.3541993   2.1077941                    \n",
      "Vacherin           1.7560208  3.4001520   1.5867705 2.0574933          \n",
      "Yaourtlaitent.nat. 5.5477307  7.1541825   5.2030743 5.7393840 5.4103043\n"
     ]
    }
   ],
   "source": [
    "# Affichage de la distance entre les individus\n",
    "print(d.fromage)"
   ]
  },
  {
   "cell_type": "code",
   "execution_count": 14,
   "metadata": {},
   "outputs": [],
   "source": [
    "# CAH selon le critère de Ward\n",
    "cah.ward <- hclust(d.fromage,method=\"ward.D2\")"
   ]
  },
  {
   "cell_type": "code",
   "execution_count": 15,
   "metadata": {},
   "outputs": [
    {
     "data": {
      "image/png": "[encoded data removed]",
      "text/plain": [
       "Plot with title \"Cluster Dendrogram\""
      ]
     },
     "metadata": {},
     "output_type": "display_data"
    }
   ],
   "source": [
    "# Affichage dendrogramme\n",
    "plot(cah.ward)"
   ]
  },
  {
   "cell_type": "code",
   "execution_count": 17,
   "metadata": {},
   "outputs": [
    {
     "data": {
      "image/png": "[encoded data removed]",
      "text/plain": [
       "Plot with title \"Cluster Dendrogram\""
      ]
     },
     "metadata": {},
     "output_type": "display_data"
    }
   ],
   "source": [
    "# Dendrogramme avec matérialisation des groupes\n",
    "plot(cah.ward)\n",
    "rect.hclust(cah.ward,k=4)"
   ]
  },
  {
   "cell_type": "code",
   "execution_count": 18,
   "metadata": {},
   "outputs": [],
   "source": [
    "# Découpage en 4 groupes\n",
    "groupes.cah <- cutree(cah.ward,k=4)"
   ]
  },
  {
   "cell_type": "code",
   "execution_count": 19,
   "metadata": {},
   "outputs": [
    {
     "name": "stdout",
     "output_type": "stream",
     "text": [
      "       CarredelEst            Babybel               Bleu             Cantal \n",
      "                 1                  1                  1                  1 \n",
      "           Cheddar        Coulomniers               Edam        Fr.fondu.45 \n",
      "                 1                  1                  1                  1 \n",
      "         Maroilles            Morbier        PontlEveque           Pyrenees \n",
      "                 1                  1                  1                  1 \n",
      "         Reblochon         Rocquefort        SaintPaulin               Tome \n",
      "                 1                  1                  1                  1 \n",
      "          Vacherin           Beaufort              Comte           Emmental \n",
      "                 1                  2                  2                  2 \n",
      "          Parmesan          Camembert          Chabichou           Chaource \n",
      "                 2                  3                  3                  3 \n",
      "Fr.chevrepatemolle     Fr.frais20nat.     Fr.frais40nat.      Petitsuisse40 \n",
      "                 3                  4                  4                  4 \n",
      "Yaourtlaitent.nat. \n",
      "                 4 \n"
     ]
    }
   ],
   "source": [
    "# Liste des groupes\n",
    "print(sort(groupes.cah))"
   ]
  },
  {
   "cell_type": "markdown",
   "metadata": {},
   "source": [
    "# 3. Clustering par la méthode des K-MEANS"
   ]
  },
  {
   "cell_type": "code",
   "execution_count": 20,
   "metadata": {},
   "outputs": [],
   "source": [
    "#k-means avec les données centrées et réduites\n",
    "#center = 4 - nombre de groupes demandés\n",
    "#nstart = 5 - nombre d'essais avec différents individus de départ\n",
    "groupes.kmeans <- kmeans(fromage.cr,centers=4,nstart=5)"
   ]
  },
  {
   "cell_type": "code",
   "execution_count": 21,
   "metadata": {
    "scrolled": true
   },
   "outputs": [
    {
     "name": "stdout",
     "output_type": "stream",
     "text": [
      "K-means clustering with 4 clusters of sizes 14, 6, 4, 5\n",
      "\n",
      "Cluster means:\n",
      "    calories     sodium    calcium     lipides    retinol    folates  proteines\n",
      "1  0.3726429  0.5276310  0.1925511  0.41101185 -0.3108901 -0.4505349  0.1522469\n",
      "2 -0.1309315  0.3941009 -1.0428188 -0.03591228  1.1713977  1.5572630 -0.1847229\n",
      "3 -2.1572744 -1.5213272 -0.7167418 -2.19980413 -0.5136787  0.2955348 -1.8634139\n",
      "4  0.8395372 -0.7332260  1.2856329  0.65210487 -0.1242419 -0.8436457  1.2861074\n",
      "  cholesterol  magnesium\n",
      "1   0.3181087  0.0156683\n",
      "2  -0.2213739 -0.4681630\n",
      "3  -1.9945017 -1.3884943\n",
      "4   0.9705456  1.6287198\n",
      "\n",
      "Clustering vector:\n",
      "       CarredelEst            Babybel           Beaufort               Bleu \n",
      "                 2                  1                  4                  1 \n",
      "         Camembert             Cantal          Chabichou           Chaource \n",
      "                 2                  1                  2                  2 \n",
      "           Cheddar              Comte        Coulomniers               Edam \n",
      "                 1                  4                  2                  4 \n",
      "          Emmental Fr.chevrepatemolle        Fr.fondu.45     Fr.frais20nat. \n",
      "                 4                  2                  1                  3 \n",
      "    Fr.frais40nat.          Maroilles            Morbier           Parmesan \n",
      "                 3                  1                  1                  4 \n",
      "     Petitsuisse40        PontlEveque           Pyrenees          Reblochon \n",
      "                 3                  1                  1                  1 \n",
      "        Rocquefort        SaintPaulin               Tome           Vacherin \n",
      "                 1                  1                  1                  1 \n",
      "Yaourtlaitent.nat. \n",
      "                 3 \n",
      "\n",
      "Within cluster sum of squares by cluster:\n",
      "[1] 28.737063 25.431001  6.446342  9.871039\n",
      " (between_SS / total_SS =  72.0 %)\n",
      "\n",
      "Available components:\n",
      "\n",
      "[1] \"cluster\"      \"centers\"      \"totss\"        \"withinss\"     \"tot.withinss\"\n",
      "[6] \"betweenss\"    \"size\"         \"iter\"         \"ifault\"      \n"
     ]
    }
   ],
   "source": [
    "#affichage des résultats\n",
    "print(groupes.kmeans)"
   ]
  },
  {
   "cell_type": "code",
   "execution_count": 22,
   "metadata": {},
   "outputs": [
    {
     "name": "stdout",
     "output_type": "stream",
     "text": [
      "           \n",
      "groupes.cah  1  2  3  4\n",
      "          1 14  2  0  1\n",
      "          2  0  0  0  4\n",
      "          3  0  4  0  0\n",
      "          4  0  0  4  0\n"
     ]
    },
    {
     "data": {
      "text/plain": [
       "           \n",
       "groupes.cah  1  2  3  4\n",
       "          1 14  2  0  1\n",
       "          2  0  0  0  4\n",
       "          3  0  4  0  0\n",
       "          4  0  0  4  0"
      ]
     },
     "metadata": {},
     "output_type": "display_data"
    }
   ],
   "source": [
    "# correspondance avec les groupes de la CAH\n",
    "table(groupes.cah,groupes.kmeans$cluster)"
   ]
  },
  {
   "cell_type": "markdown",
   "metadata": {},
   "source": [
    "<h2>3.1. Détection du nombre de clusters pour les K-means</h2> "
   ]
  },
  {
   "cell_type": "code",
   "execution_count": 25,
   "metadata": {},
   "outputs": [],
   "source": [
    "#(1)évaluer la proportion d'inertie expliquée\n",
    "inertie.expl <- rep(0,times=10)\n",
    "for (k in 2:10){\n",
    "  clus <- kmeans(fromage.cr,centers=k,nstart=5)  \n",
    "  inertie.expl[k] <- clus$betweenss/clus$totss\n",
    "}"
   ]
  },
  {
   "cell_type": "code",
   "execution_count": 26,
   "metadata": {
    "scrolled": true
   },
   "outputs": [
    {
     "data": {
      "image/png": "[encoded data removed]",
      "text/plain": [
       "plot without title"
      ]
     },
     "metadata": {},
     "output_type": "display_data"
    }
   ],
   "source": [
    "#graphique\n",
    "plot(1:10,inertie.expl,type=\"b\",xlab=\"Nb. de groupes\",ylab=\"% inertie expliquée\")"
   ]
  },
  {
   "cell_type": "code",
   "execution_count": 30,
   "metadata": {},
   "outputs": [
    {
     "name": "stderr",
     "output_type": "stream",
     "text": [
      "Installing package into 'D:/Documents/R/win-library/3.6'\n",
      "(as 'lib' is unspecified)\n",
      "also installing the dependencies 'modeltools', 'DEoptimR', 'mclust', 'flexmix', 'prabclus', 'diptest', 'robustbase'\n",
      "\n"
     ]
    },
    {
     "name": "stdout",
     "output_type": "stream",
     "text": [
      "package 'modeltools' successfully unpacked and MD5 sums checked\n",
      "package 'DEoptimR' successfully unpacked and MD5 sums checked\n",
      "package 'mclust' successfully unpacked and MD5 sums checked\n",
      "package 'flexmix' successfully unpacked and MD5 sums checked\n",
      "package 'prabclus' successfully unpacked and MD5 sums checked\n",
      "package 'diptest' successfully unpacked and MD5 sums checked\n",
      "package 'robustbase' successfully unpacked and MD5 sums checked\n",
      "package 'fpc' successfully unpacked and MD5 sums checked\n",
      "\n",
      "The downloaded binary packages are in\n",
      "\tC:\\Users\\X230\\AppData\\Local\\Temp\\RtmpUBJdnw\\downloaded_packages\n"
     ]
    }
   ],
   "source": [
    "#(2) indice de Calinski Harabasz\n",
    "#utilisation du package fpc\n",
    "# Installation du package\n",
    "install.packages(\"fpc\")"
   ]
  },
  {
   "cell_type": "code",
   "execution_count": 31,
   "metadata": {},
   "outputs": [
    {
     "name": "stderr",
     "output_type": "stream",
     "text": [
      "Warning message:\n",
      "\"package 'fpc' was built under R version 3.6.3\""
     ]
    }
   ],
   "source": [
    "# Chargement du package\n",
    "library(fpc)"
   ]
  },
  {
   "cell_type": "code",
   "execution_count": 32,
   "metadata": {},
   "outputs": [],
   "source": [
    "# évaluation des solutions\n",
    "sol.kmeans <- kmeansruns(fromage.cr,krange=2:10,criterion=\"ch\")"
   ]
  },
  {
   "cell_type": "code",
   "execution_count": 34,
   "metadata": {
    "scrolled": true
   },
   "outputs": [
    {
     "data": {
      "image/png": "[encoded data removed]",
      "text/plain": [
       "plot without title"
      ]
     },
     "metadata": {},
     "output_type": "display_data"
    }
   ],
   "source": [
    "# graphique\n",
    "plot(1:10,sol.kmeans$crit,type=\"b\",xlab=\"Nb. de groupes\",ylab=\"Calinski Harabasz\")"
   ]
  },
  {
   "cell_type": "markdown",
   "metadata": {},
   "source": [
    "# 4.  INTERPRETATION - STAT. UNIVARIEES COMPARATIVES"
   ]
  },
  {
   "cell_type": "code",
   "execution_count": 35,
   "metadata": {},
   "outputs": [],
   "source": [
    "#fonction de calcul des stats\n",
    "stat.comp <- function(x,y){\n",
    "  #nombre de groupes\n",
    "  K <- length(unique(y))\n",
    "  #nb. d'observations\n",
    "  n <- length(x)\n",
    "  #moyenne globale\n",
    "  m <- mean(x)\n",
    "  #variabilité totale\n",
    "  TSS <- sum((x-m)^2)\n",
    "  #effectifs conditionnels\n",
    "  nk <- table(y)\n",
    "  #moyennes conditionnelles\n",
    "  mk <- tapply(x,y,mean)\n",
    "  #variabilité expliquée\n",
    "  BSS <- sum(nk * (mk - m)^2)\n",
    "  #moyennes + prop. variance expliquée\n",
    "  result <- c(mk,100.0*BSS/TSS)\n",
    "  #nommer les élements du vecteur\n",
    "  names(result) <- c(paste(\"G\",1:K),\"% epl.\")\n",
    "  #renvoyer le résultat\n",
    "  return(result)\n",
    "}"
   ]
  },
  {
   "cell_type": "code",
   "execution_count": 36,
   "metadata": {},
   "outputs": [
    {
     "name": "stdout",
     "output_type": "stream",
     "text": [
      "        calories   sodium   calcium  lipides   retinol   folates proteines\n",
      "G 1    331.11765 262.7941 189.40000 27.15294  60.09412  9.711765  21.37647\n",
      "G 2    389.75000 126.0000 280.67500 30.65000  64.27500  2.525000  30.22500\n",
      "G 3    276.50000 235.5000 127.20000 22.82500 115.00000 34.050000  17.95000\n",
      "G 4    101.75000  44.7500 133.75000  6.27500  55.15000 16.475000   7.20000\n",
      "% epl.  87.97373  56.6772  41.27705 86.85973  64.89488 63.494807  82.70802\n",
      "       cholesterol magnesium\n",
      "G 1       82.35294  26.88235\n",
      "G 2      107.50000  45.75000\n",
      "G 3       65.00000  24.25000\n",
      "G 4       18.25000  11.25000\n",
      "% epl.    82.46284  67.71603\n"
     ]
    }
   ],
   "source": [
    "#appliquer stat.comp aux variables de\n",
    "#la base originelle fromage\n",
    "#et non pas aux variables centrées et réduites\n",
    "print(sapply(fromage,stat.comp,y=groupes.cah))"
   ]
  },
  {
   "cell_type": "markdown",
   "metadata": {},
   "source": [
    "# 5. CAH et ACP"
   ]
  },
  {
   "cell_type": "markdown",
   "metadata": {},
   "source": [
    "<h2>5.1. Ananlyse en composantes principales sur les données de base</h2>"
   ]
  },
  {
   "cell_type": "code",
   "execution_count": 37,
   "metadata": {},
   "outputs": [],
   "source": [
    "#ACP\n",
    "acp <- princomp(fromage,cor=T,scores=T)"
   ]
  },
  {
   "cell_type": "code",
   "execution_count": 38,
   "metadata": {
    "scrolled": true
   },
   "outputs": [
    {
     "data": {
      "image/png": "[encoded data removed]",
      "text/plain": [
       "plot without title"
      ]
     },
     "metadata": {},
     "output_type": "display_data"
    }
   ],
   "source": [
    "#screeplot - 2 axes retenus\n",
    "plot(1:9,acp$sdev^2,type=\"b\",xlab=\"Nombre de facteurs\",ylab=\"Valeurs Propres\")"
   ]
  },
  {
   "cell_type": "code",
   "execution_count": 39,
   "metadata": {
    "scrolled": true
   },
   "outputs": [
    {
     "data": {
      "image/png": "[encoded data removed]",
      "text/plain": [
       "plot without title"
      ]
     },
     "metadata": {},
     "output_type": "display_data"
    }
   ],
   "source": [
    "#biplot\n",
    "biplot(acp,cex=0.65)"
   ]
  },
  {
   "cell_type": "code",
   "execution_count": 40,
   "metadata": {
    "scrolled": true
   },
   "outputs": [
    {
     "data": {
      "image/png": "[encoded data removed]",
      "text/plain": [
       "plot without title"
      ]
     },
     "metadata": {},
     "output_type": "display_data"
    }
   ],
   "source": [
    "#positionnement des groupes dans le plan factoriel avec etiquettes des points\n",
    "plot(acp$scores[,1],acp$scores[,2],type=\"n\",xlim=c(-5,5),ylim=c(-5,5))\n",
    "text(acp$scores[,1],acp$scores[,2],col=c(\"red\",\"green\",\"blue\",\"black\")[groupes.cah],cex=0.65,labels=rownames(fromage),xlim=c(-5,5),ylim=c(-5,5))"
   ]
  },
  {
   "cell_type": "code",
   "execution_count": 41,
   "metadata": {},
   "outputs": [],
   "source": [
    "#retirer les 4 obs. du groupe 4\n",
    "fromage.subset <- fromage[groupes.cah!=4,]"
   ]
  },
  {
   "cell_type": "code",
   "execution_count": 42,
   "metadata": {},
   "outputs": [],
   "source": [
    "#centrage réduction\n",
    "fromage.subset.cr <- scale(fromage.subset,center=T,scale=T)"
   ]
  },
  {
   "cell_type": "code",
   "execution_count": 43,
   "metadata": {},
   "outputs": [],
   "source": [
    "#matrice de distance\n",
    "d.subset <- dist(fromage.subset.cr)"
   ]
  },
  {
   "cell_type": "code",
   "execution_count": 44,
   "metadata": {},
   "outputs": [],
   "source": [
    "#cah 2\n",
    "cah.subset <- hclust(d.subset,method=\"ward.D2\")"
   ]
  },
  {
   "cell_type": "code",
   "execution_count": 45,
   "metadata": {
    "scrolled": true
   },
   "outputs": [
    {
     "data": {
      "image/png": "[encoded data removed]",
      "text/plain": [
       "Plot with title \"Cluster Dendrogram\""
      ]
     },
     "metadata": {},
     "output_type": "display_data"
    }
   ],
   "source": [
    "plot(cah.subset)"
   ]
  },
  {
   "cell_type": "code",
   "execution_count": 47,
   "metadata": {},
   "outputs": [],
   "source": [
    "# Choix des groupes\n",
    "groupes.subset <- cutree(cah.subset,k=3)"
   ]
  },
  {
   "cell_type": "code",
   "execution_count": 48,
   "metadata": {
    "scrolled": true
   },
   "outputs": [
    {
     "data": {
      "text/html": [
       "<dl class=dl-horizontal>\n",
       "\t<dt>CarredelEst</dt>\n",
       "\t\t<dd>1</dd>\n",
       "\t<dt>Camembert</dt>\n",
       "\t\t<dd>1</dd>\n",
       "\t<dt>Chabichou</dt>\n",
       "\t\t<dd>1</dd>\n",
       "\t<dt>Chaource</dt>\n",
       "\t\t<dd>1</dd>\n",
       "\t<dt>Coulomniers</dt>\n",
       "\t\t<dd>1</dd>\n",
       "\t<dt>Fr.chevrepatemolle</dt>\n",
       "\t\t<dd>1</dd>\n",
       "\t<dt>Babybel</dt>\n",
       "\t\t<dd>2</dd>\n",
       "\t<dt>Bleu</dt>\n",
       "\t\t<dd>2</dd>\n",
       "\t<dt>Cantal</dt>\n",
       "\t\t<dd>2</dd>\n",
       "\t<dt>Edam</dt>\n",
       "\t\t<dd>2</dd>\n",
       "\t<dt>Fr.fondu.45</dt>\n",
       "\t\t<dd>2</dd>\n",
       "\t<dt>Maroilles</dt>\n",
       "\t\t<dd>2</dd>\n",
       "\t<dt>Morbier</dt>\n",
       "\t\t<dd>2</dd>\n",
       "\t<dt>PontlEveque</dt>\n",
       "\t\t<dd>2</dd>\n",
       "\t<dt>Pyrenees</dt>\n",
       "\t\t<dd>2</dd>\n",
       "\t<dt>Reblochon</dt>\n",
       "\t\t<dd>2</dd>\n",
       "\t<dt>Rocquefort</dt>\n",
       "\t\t<dd>2</dd>\n",
       "\t<dt>SaintPaulin</dt>\n",
       "\t\t<dd>2</dd>\n",
       "\t<dt>Tome</dt>\n",
       "\t\t<dd>2</dd>\n",
       "\t<dt>Vacherin</dt>\n",
       "\t\t<dd>2</dd>\n",
       "\t<dt>Beaufort</dt>\n",
       "\t\t<dd>3</dd>\n",
       "\t<dt>Cheddar</dt>\n",
       "\t\t<dd>3</dd>\n",
       "\t<dt>Comte</dt>\n",
       "\t\t<dd>3</dd>\n",
       "\t<dt>Emmental</dt>\n",
       "\t\t<dd>3</dd>\n",
       "\t<dt>Parmesan</dt>\n",
       "\t\t<dd>3</dd>\n",
       "</dl>\n"
      ],
      "text/latex": [
       "\\begin{description*}\n",
       "\\item[CarredelEst] 1\n",
       "\\item[Camembert] 1\n",
       "\\item[Chabichou] 1\n",
       "\\item[Chaource] 1\n",
       "\\item[Coulomniers] 1\n",
       "\\item[Fr.chevrepatemolle] 1\n",
       "\\item[Babybel] 2\n",
       "\\item[Bleu] 2\n",
       "\\item[Cantal] 2\n",
       "\\item[Edam] 2\n",
       "\\item[Fr.fondu.45] 2\n",
       "\\item[Maroilles] 2\n",
       "\\item[Morbier] 2\n",
       "\\item[PontlEveque] 2\n",
       "\\item[Pyrenees] 2\n",
       "\\item[Reblochon] 2\n",
       "\\item[Rocquefort] 2\n",
       "\\item[SaintPaulin] 2\n",
       "\\item[Tome] 2\n",
       "\\item[Vacherin] 2\n",
       "\\item[Beaufort] 3\n",
       "\\item[Cheddar] 3\n",
       "\\item[Comte] 3\n",
       "\\item[Emmental] 3\n",
       "\\item[Parmesan] 3\n",
       "\\end{description*}\n"
      ],
      "text/markdown": [
       "CarredelEst\n",
       ":   1Camembert\n",
       ":   1Chabichou\n",
       ":   1Chaource\n",
       ":   1Coulomniers\n",
       ":   1Fr.chevrepatemolle\n",
       ":   1Babybel\n",
       ":   2Bleu\n",
       ":   2Cantal\n",
       ":   2Edam\n",
       ":   2Fr.fondu.45\n",
       ":   2Maroilles\n",
       ":   2Morbier\n",
       ":   2PontlEveque\n",
       ":   2Pyrenees\n",
       ":   2Reblochon\n",
       ":   2Rocquefort\n",
       ":   2SaintPaulin\n",
       ":   2Tome\n",
       ":   2Vacherin\n",
       ":   2Beaufort\n",
       ":   3Cheddar\n",
       ":   3Comte\n",
       ":   3Emmental\n",
       ":   3Parmesan\n",
       ":   3\n",
       "\n"
      ],
      "text/plain": [
       "       CarredelEst          Camembert          Chabichou           Chaource \n",
       "                 1                  1                  1                  1 \n",
       "       Coulomniers Fr.chevrepatemolle            Babybel               Bleu \n",
       "                 1                  1                  2                  2 \n",
       "            Cantal               Edam        Fr.fondu.45          Maroilles \n",
       "                 2                  2                  2                  2 \n",
       "           Morbier        PontlEveque           Pyrenees          Reblochon \n",
       "                 2                  2                  2                  2 \n",
       "        Rocquefort        SaintPaulin               Tome           Vacherin \n",
       "                 2                  2                  2                  2 \n",
       "          Beaufort            Cheddar              Comte           Emmental \n",
       "                 3                  3                  3                  3 \n",
       "          Parmesan \n",
       "                 3 "
      ]
     },
     "metadata": {},
     "output_type": "display_data"
    }
   ],
   "source": [
    "#affichage des groupes\n",
    "sort(groupes.subset)"
   ]
  },
  {
   "cell_type": "code",
   "execution_count": 49,
   "metadata": {
    "scrolled": true
   },
   "outputs": [
    {
     "name": "stdout",
     "output_type": "stream",
     "text": [
      "       CarredelEst          Camembert          Chabichou           Chaource \n",
      "                 1                  1                  1                  1 \n",
      "       Coulomniers Fr.chevrepatemolle            Babybel               Bleu \n",
      "                 1                  1                  2                  2 \n",
      "            Cantal               Edam        Fr.fondu.45          Maroilles \n",
      "                 2                  2                  2                  2 \n",
      "           Morbier        PontlEveque           Pyrenees          Reblochon \n",
      "                 2                  2                  2                  2 \n",
      "        Rocquefort        SaintPaulin               Tome           Vacherin \n",
      "                 2                  2                  2                  2 \n",
      "          Beaufort            Cheddar              Comte           Emmental \n",
      "                 3                  3                  3                  3 \n",
      "          Parmesan \n",
      "                 3 \n"
     ]
    }
   ],
   "source": [
    "#affichage des groupes\n",
    "print(sort(groupes.subset))"
   ]
  },
  {
   "cell_type": "code",
   "execution_count": 50,
   "metadata": {},
   "outputs": [],
   "source": [
    "#acp\n",
    "acp.subset <- princomp(fromage.subset,cor=T,scores=T)"
   ]
  },
  {
   "cell_type": "code",
   "execution_count": 51,
   "metadata": {
    "scrolled": true
   },
   "outputs": [
    {
     "data": {
      "image/png": "[encoded data removed]",
      "text/plain": [
       "plot without title"
      ]
     },
     "metadata": {},
     "output_type": "display_data"
    }
   ],
   "source": [
    "#screeplot - 2 axes retenus\n",
    "plot(1:9,acp.subset$sdev^2,type=\"b\")"
   ]
  },
  {
   "cell_type": "code",
   "execution_count": 52,
   "metadata": {
    "scrolled": true
   },
   "outputs": [
    {
     "data": {
      "image/png": "[encoded data removed]",
      "text/plain": [
       "plot without title"
      ]
     },
     "metadata": {},
     "output_type": "display_data"
    }
   ],
   "source": [
    "#biplot\n",
    "biplot(acp.subset,cex=0.65)"
   ]
  },
  {
   "cell_type": "code",
   "execution_count": 54,
   "metadata": {},
   "outputs": [
    {
     "data": {
      "image/png": "[encoded data removed]",
      "text/plain": [
       "plot without title"
      ]
     },
     "metadata": {},
     "output_type": "display_data"
    }
   ],
   "source": [
    "#positionnement des groupes dans le plan factoriel\n",
    "plot(acp.subset$scores[,1],acp.subset$scores[,2],type=\"n\",xlim=c(-6,6),ylim=c(-6,6))\n",
    "#etiquettes des points\n",
    "text(acp.subset$scores[,1],acp.subset$scores[,2],col=c(\"red\",\"green\",\"blue\")[groupes.subset],cex=0.65,labels=rownames(fromage.subset),xlim=c(-6,6),ylim=c(-6,6))"
   ]
  },
  {
   "cell_type": "code",
   "execution_count": 55,
   "metadata": {},
   "outputs": [
    {
     "name": "stdout",
     "output_type": "stream",
     "text": [
      "        calories    sodium   calcium  lipides  retinol   folates proteines\n",
      "G 1    288.00000 252.91667 110.10000 23.86667 95.86667 31.266667  18.88333\n",
      "G 2    328.64286 265.71429 206.12143 26.94286 59.28571  7.771429  21.13571\n",
      "G 3    393.00000 135.20000 261.00000 31.02000 66.70000  3.000000  29.38000\n",
      "% epl.  59.74552  32.30605  54.13597 42.18571 37.05382 81.214779  60.62056\n",
      "       cholesterol magnesium\n",
      "G 1       68.33333  21.66667\n",
      "G 2       81.42857  28.28571\n",
      "G 3      108.00000  42.20000\n",
      "% epl.    60.21201  49.18237\n"
     ]
    }
   ],
   "source": [
    "#stat. comparatives\n",
    "print(sapply(fromage.subset,stat.comp,y=groupes.subset))"
   ]
  },
  {
   "cell_type": "code",
   "execution_count": null,
   "metadata": {},
   "outputs": [],
   "source": []
  }
 ],
 "metadata": {
  "kernelspec": {
   "display_name": "R",
   "language": "R",
   "name": "ir"
  },
  "language_info": {
   "codemirror_mode": "r",
   "file_extension": ".r",
   "mimetype": "text/x-r-source",
   "name": "R",
   "pygments_lexer": "r",
   "version": "3.6.1"
  }
 },
 "nbformat": 4,
 "nbformat_minor": 4
}
