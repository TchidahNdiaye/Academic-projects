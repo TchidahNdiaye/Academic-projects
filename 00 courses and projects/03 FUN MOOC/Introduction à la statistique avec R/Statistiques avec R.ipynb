{
 "cells": [
  {
   "cell_type": "markdown",
   "metadata": {},
   "source": [
    "<h1><center>INTRODUCTION A LA STATISTIQUE AVEC R</center></h1>"
   ]
  },
  {
   "cell_type": "code",
   "execution_count": 1,
   "metadata": {},
   "outputs": [
    {
     "name": "stderr",
     "output_type": "stream",
     "text": [
      "Warning message:\n",
      "\"package 'gplots' was built under R version 3.6.3\"\n",
      "Attaching package: 'gplots'\n",
      "\n",
      "The following object is masked from 'package:stats':\n",
      "\n",
      "    lowess\n",
      "\n",
      "Warning message:\n",
      "\"package 'caTools' was built under R version 3.6.2\"Warning message:\n",
      "\"package 'binom' was built under R version 3.6.3\"Warning message:\n",
      "\"package 'Epi' was built under R version 3.6.3\"Warning message:\n",
      "\"package 'corrplot' was built under R version 3.6.3\"corrplot 0.84 loaded\n"
     ]
    }
   ],
   "source": [
    "# CHARGEMENT DES LIBRAIRIES\n",
    "library(gplots)\n",
    "library(caTools)\n",
    "library(prettyR)\n",
    "library(binom)\n",
    "library(Epi)\n",
    "library(corrplot)\n",
    "library(psy)\n",
    "library(survival)\n"
   ]
  },
  {
   "cell_type": "code",
   "execution_count": 1,
   "metadata": {},
   "outputs": [
    {
     "name": "stderr",
     "output_type": "stream",
     "text": [
      "Installing package into 'D:/Documents/R/win-library/3.6'\n",
      "(as 'lib' is unspecified)\n",
      "also installing the dependency 'doParallel'\n",
      "\n"
     ]
    },
  {
   "cell_type": "markdown",
   "metadata": {},
   "source": [
    "<div class=\"alert alert-success alertsuccess\" style=\"margin-top: 20px\">\n",
    "    <h1 align=\"center\">SOMMAIRE</h1>\n",
    "\n",
    "\n",
    "<ul>\n",
    "<li><a href=\"#SEMAINE-01\">S01 : Introduction aux statistiques et à R</a></li>\n",
    "<li><a href=\"#SEMAINE-02\">S02 : Intervalles de confiance et association entre variables</a></li>\n",
    "<li><a href=\"#SEMAINE-03\">S03 : Tests statistiques - pratiques des tests statistiques</a></li>\n",
    "<li><a href=\"#SEMAINE-04\">S04 : Régression linéaire simple et multiple - Régression logistique</a></li>\n",
    "<li><a href=\"#SEMAINE-05\">S05 : Données de survie - Méthodes exploratoires multidimentionnelles</a></li>    \n",
    "</ul>\n",
    "\n",
    "</div>"
   ]
  },
  {
   "cell_type": "markdown",
   "metadata": {},
   "source": [
    "<a id=\"ref1\"></a>\n",
    "<h1 align=center>SEMAINE 01</h1>\n",
    "<h1 align=center> Introduction aux statistiques et à R</h1>"
   ]
  },
  {
   "cell_type": "markdown",
   "metadata": {},
   "source": [
    "# 02 Représentations graphiques"
   ]
  },
  {
   "cell_type": "code",
   "execution_count": 1,
   "metadata": {},
   "outputs": [
    {
     "name": "stdout",
     "output_type": "stream",
     "text": [
      "'data.frame':\t799 obs. of  9 variables:\n",
      " $ age      : int  31 49 50 47 23 34 24 52 42 45 ...\n",
      " $ prof     : Factor w/ 8 levels \"agriculteur\",..: 3 NA 7 6 8 6 3 2 6 6 ...\n",
      " $ dep.cons : int  0 0 0 0 1 0 1 0 1 0 ...\n",
      " $ scz.cons : int  0 0 0 0 0 0 0 0 0 0 ...\n",
      " $ grav.cons: int  1 2 2 1 2 1 5 1 5 5 ...\n",
      " $ n.enfant : int  2 7 2 0 1 3 5 2 1 2 ...\n",
      " $ rs       : int  2 2 2 2 2 1 3 2 3 2 ...\n",
      " $ ed       : int  1 2 3 2 2 2 3 2 3 2 ...\n",
      " $ dr       : int  1 1 2 2 2 1 2 2 1 2 ...\n"
     ]
    },
    {
     "data": {
      "text/html": [
       "<table>\n",
       "<thead><tr><th scope=col>age</th><th scope=col>prof</th><th scope=col>dep.cons</th><th scope=col>scz.cons</th><th scope=col>grav.cons</th><th scope=col>n.enfant</th><th scope=col>rs</th><th scope=col>ed</th><th scope=col>dr</th></tr></thead>\n",
       "<tbody>\n",
       "\t<tr><td>31                </td><td>autre             </td><td>0                 </td><td>0                 </td><td>1                 </td><td>2                 </td><td>2                 </td><td>1                 </td><td>1                 </td></tr>\n",
       "\t<tr><td>49                </td><td>NA                </td><td>0                 </td><td>0                 </td><td>2                 </td><td>7                 </td><td>2                 </td><td>2                 </td><td>1                 </td></tr>\n",
       "\t<tr><td>50                </td><td>prof.intermediaire</td><td>0                 </td><td>0                 </td><td>2                 </td><td>2                 </td><td>2                 </td><td>3                 </td><td>2                 </td></tr>\n",
       "\t<tr><td>47                </td><td>ouvrier           </td><td>0                 </td><td>0                 </td><td>1                 </td><td>0                 </td><td>2                 </td><td>2                 </td><td>2                 </td></tr>\n",
       "\t<tr><td>23                </td><td>sans emploi       </td><td>1                 </td><td>0                 </td><td>2                 </td><td>1                 </td><td>2                 </td><td>2                 </td><td>2                 </td></tr>\n",
       "\t<tr><td>34                </td><td>ouvrier           </td><td>0                 </td><td>0                 </td><td>1                 </td><td>3                 </td><td>1                 </td><td>2                 </td><td>1                 </td></tr>\n",
       "</tbody>\n",
       "</table>\n"
      ],
      "text/latex": [
       "\\begin{tabular}{r|lllllllll}\n",
       " age & prof & dep.cons & scz.cons & grav.cons & n.enfant & rs & ed & dr\\\\\n",
       "\\hline\n",
       "\t 31                 & autre              & 0                  & 0                  & 1                  & 2                  & 2                  & 1                  & 1                 \\\\\n",
       "\t 49                 & NA                 & 0                  & 0                  & 2                  & 7                  & 2                  & 2                  & 1                 \\\\\n",
       "\t 50                 & prof.intermediaire & 0                  & 0                  & 2                  & 2                  & 2                  & 3                  & 2                 \\\\\n",
       "\t 47                 & ouvrier            & 0                  & 0                  & 1                  & 0                  & 2                  & 2                  & 2                 \\\\\n",
       "\t 23                 & sans emploi        & 1                  & 0                  & 2                  & 1                  & 2                  & 2                  & 2                 \\\\\n",
       "\t 34                 & ouvrier            & 0                  & 0                  & 1                  & 3                  & 1                  & 2                  & 1                 \\\\\n",
       "\\end{tabular}\n"
      ],
      "text/markdown": [
       "\n",
       "| age | prof | dep.cons | scz.cons | grav.cons | n.enfant | rs | ed | dr |\n",
       "|---|---|---|---|---|---|---|---|---|\n",
       "| 31                 | autre              | 0                  | 0                  | 1                  | 2                  | 2                  | 1                  | 1                  |\n",
       "| 49                 | NA                 | 0                  | 0                  | 2                  | 7                  | 2                  | 2                  | 1                  |\n",
       "| 50                 | prof.intermediaire | 0                  | 0                  | 2                  | 2                  | 2                  | 3                  | 2                  |\n",
       "| 47                 | ouvrier            | 0                  | 0                  | 1                  | 0                  | 2                  | 2                  | 2                  |\n",
       "| 23                 | sans emploi        | 1                  | 0                  | 2                  | 1                  | 2                  | 2                  | 2                  |\n",
       "| 34                 | ouvrier            | 0                  | 0                  | 1                  | 3                  | 1                  | 2                  | 1                  |\n",
       "\n"
      ],
      "text/plain": [
       "  age prof               dep.cons scz.cons grav.cons n.enfant rs ed dr\n",
       "1 31  autre              0        0        1         2        2  1  1 \n",
       "2 49  NA                 0        0        2         7        2  2  1 \n",
       "3 50  prof.intermediaire 0        0        2         2        2  3  2 \n",
       "4 47  ouvrier            0        0        1         0        2  2  2 \n",
       "5 23  sans emploi        1        0        2         1        2  2  2 \n",
       "6 34  ouvrier            0        0        1         3        1  2  1 "
      ]
     },
     "metadata": {},
     "output_type": "display_data"
    }
   ],
   "source": [
    "# importation du fichier csv\n",
    "smp <- read.csv2(\"smp1.csv\")\n",
    "\n",
    "# description de la base importée\n",
    "str(smp)\n",
    "\n",
    "# Affichage des premieres lignes de la base\n",
    "head(smp)"
   ]
  },
  {
   "cell_type": "code",
   "execution_count": 2,
   "metadata": {},
   "outputs": [
    {
     "name": "stdout",
     "output_type": "stream",
     "text": [
      "'data.frame':\t2000 obs. of  17 variables:\n",
      " $ age       : int  31 45 46 35 39 31 34 39 38 50 ...\n",
      " $ job       : Factor w/ 12 levels \"admin.\",\"blue-collar\",..: 5 3 8 5 5 5 3 1 2 5 ...\n",
      " $ marital   : Factor w/ 3 levels \"divorced\",\"married\",..: 3 2 1 2 2 3 2 2 2 2 ...\n",
      " $ education : Factor w/ 4 levels \"primary\",\"secondary\",..: 3 3 2 3 2 3 3 2 2 3 ...\n",
      " $ default   : Factor w/ 2 levels \"no\",\"yes\": 1 1 1 1 1 1 1 1 1 2 ...\n",
      " $ balance   : int  0 1752 4329 1108 1410 499 0 26233 8444 72 ...\n",
      " $ housing   : Factor w/ 2 levels \"no\",\"yes\": 2 2 1 2 2 2 2 1 2 1 ...\n",
      " $ loan      : Factor w/ 2 levels \"no\",\"yes\": 1 2 1 1 1 1 1 1 1 1 ...\n",
      " $ contact   : Factor w/ 3 levels \"cellular\",\"telephone\",..: 1 1 1 1 3 3 1 1 1 1 ...\n",
      " $ day       : int  15 20 21 17 23 9 6 2 17 22 ...\n",
      " $ month     : Factor w/ 12 levels \"apr\",\"aug\",\"dec\",..: 1 10 10 10 9 7 9 11 1 2 ...\n",
      " $ duration  : int  185 56 534 52 55 122 611 462 39 171 ...\n",
      " $ campaign  : int  2 2 2 1 1 2 1 1 2 13 ...\n",
      " $ pdays     : int  -1 -1 -1 -1 -1 -1 183 -1 324 -1 ...\n",
      " $ previous  : int  0 0 0 0 0 0 1 0 1 0 ...\n",
      " $ poutcome  : Factor w/ 4 levels \"failure\",\"other\",..: 4 4 4 4 4 4 1 4 2 4 ...\n",
      " $ subscribed: Factor w/ 2 levels \"no\",\"yes\": 1 1 2 1 1 1 2 1 1 1 ...\n"
     ]
    },
    {
     "data": {
      "text/html": [
       "<table>\n",
       "<thead><tr><th scope=col>age</th><th scope=col>job</th><th scope=col>marital</th><th scope=col>education</th><th scope=col>default</th><th scope=col>balance</th><th scope=col>housing</th><th scope=col>loan</th><th scope=col>contact</th><th scope=col>day</th><th scope=col>month</th><th scope=col>duration</th><th scope=col>campaign</th><th scope=col>pdays</th><th scope=col>previous</th><th scope=col>poutcome</th><th scope=col>subscribed</th></tr></thead>\n",
       "<tbody>\n",
       "\t<tr><td>31          </td><td>management  </td><td>single      </td><td>tertiary    </td><td>no          </td><td>   0        </td><td>yes         </td><td>no          </td><td>cellular    </td><td>15          </td><td>apr         </td><td>185         </td><td>2           </td><td>-1          </td><td>0           </td><td>unknown     </td><td>no          </td></tr>\n",
       "\t<tr><td>45          </td><td>entrepreneur</td><td>married     </td><td>tertiary    </td><td>no          </td><td>1752        </td><td>yes         </td><td>yes         </td><td>cellular    </td><td>20          </td><td>nov         </td><td> 56         </td><td>2           </td><td>-1          </td><td>0           </td><td>unknown     </td><td>no          </td></tr>\n",
       "\t<tr><td>46          </td><td>services    </td><td>divorced    </td><td>secondary   </td><td>no          </td><td>4329        </td><td>no          </td><td>no          </td><td>cellular    </td><td>21          </td><td>nov         </td><td>534         </td><td>2           </td><td>-1          </td><td>0           </td><td>unknown     </td><td>yes         </td></tr>\n",
       "\t<tr><td>35          </td><td>management  </td><td>married     </td><td>tertiary    </td><td>no          </td><td>1108        </td><td>yes         </td><td>no          </td><td>cellular    </td><td>17          </td><td>nov         </td><td> 52         </td><td>1           </td><td>-1          </td><td>0           </td><td>unknown     </td><td>no          </td></tr>\n",
       "\t<tr><td>39          </td><td>management  </td><td>married     </td><td>secondary   </td><td>no          </td><td>1410        </td><td>yes         </td><td>no          </td><td>unknown     </td><td>23          </td><td>may         </td><td> 55         </td><td>1           </td><td>-1          </td><td>0           </td><td>unknown     </td><td>no          </td></tr>\n",
       "\t<tr><td>31          </td><td>management  </td><td>single      </td><td>tertiary    </td><td>no          </td><td> 499        </td><td>yes         </td><td>no          </td><td>unknown     </td><td> 9          </td><td>jun         </td><td>122         </td><td>2           </td><td>-1          </td><td>0           </td><td>unknown     </td><td>no          </td></tr>\n",
       "</tbody>\n",
       "</table>\n"
      ],
      "text/latex": [
       "\\begin{tabular}{r|lllllllllllllllll}\n",
       " age & job & marital & education & default & balance & housing & loan & contact & day & month & duration & campaign & pdays & previous & poutcome & subscribed\\\\\n",
       "\\hline\n",
       "\t 31           & management   & single       & tertiary     & no           &    0         & yes          & no           & cellular     & 15           & apr          & 185          & 2            & -1           & 0            & unknown      & no          \\\\\n",
       "\t 45           & entrepreneur & married      & tertiary     & no           & 1752         & yes          & yes          & cellular     & 20           & nov          &  56          & 2            & -1           & 0            & unknown      & no          \\\\\n",
       "\t 46           & services     & divorced     & secondary    & no           & 4329         & no           & no           & cellular     & 21           & nov          & 534          & 2            & -1           & 0            & unknown      & yes         \\\\\n",
       "\t 35           & management   & married      & tertiary     & no           & 1108         & yes          & no           & cellular     & 17           & nov          &  52          & 1            & -1           & 0            & unknown      & no          \\\\\n",
       "\t 39           & management   & married      & secondary    & no           & 1410         & yes          & no           & unknown      & 23           & may          &  55          & 1            & -1           & 0            & unknown      & no          \\\\\n",
       "\t 31           & management   & single       & tertiary     & no           &  499         & yes          & no           & unknown      &  9           & jun          & 122          & 2            & -1           & 0            & unknown      & no          \\\\\n",
       "\\end{tabular}\n"
      ],
      "text/markdown": [
       "\n",
       "| age | job | marital | education | default | balance | housing | loan | contact | day | month | duration | campaign | pdays | previous | poutcome | subscribed |\n",
       "|---|---|---|---|---|---|---|---|---|---|---|---|---|---|---|---|---|\n",
       "| 31           | management   | single       | tertiary     | no           |    0         | yes          | no           | cellular     | 15           | apr          | 185          | 2            | -1           | 0            | unknown      | no           |\n",
       "| 45           | entrepreneur | married      | tertiary     | no           | 1752         | yes          | yes          | cellular     | 20           | nov          |  56          | 2            | -1           | 0            | unknown      | no           |\n",
       "| 46           | services     | divorced     | secondary    | no           | 4329         | no           | no           | cellular     | 21           | nov          | 534          | 2            | -1           | 0            | unknown      | yes          |\n",
       "| 35           | management   | married      | tertiary     | no           | 1108         | yes          | no           | cellular     | 17           | nov          |  52          | 1            | -1           | 0            | unknown      | no           |\n",
       "| 39           | management   | married      | secondary    | no           | 1410         | yes          | no           | unknown      | 23           | may          |  55          | 1            | -1           | 0            | unknown      | no           |\n",
       "| 31           | management   | single       | tertiary     | no           |  499         | yes          | no           | unknown      |  9           | jun          | 122          | 2            | -1           | 0            | unknown      | no           |\n",
       "\n"
      ],
      "text/plain": [
       "  age job          marital  education default balance housing loan contact  day\n",
       "1 31  management   single   tertiary  no         0    yes     no   cellular 15 \n",
       "2 45  entrepreneur married  tertiary  no      1752    yes     yes  cellular 20 \n",
       "3 46  services     divorced secondary no      4329    no      no   cellular 21 \n",
       "4 35  management   married  tertiary  no      1108    yes     no   cellular 17 \n",
       "5 39  management   married  secondary no      1410    yes     no   unknown  23 \n",
       "6 31  management   single   tertiary  no       499    yes     no   unknown   9 \n",
       "  month duration campaign pdays previous poutcome subscribed\n",
       "1 apr   185      2        -1    0        unknown  no        \n",
       "2 nov    56      2        -1    0        unknown  no        \n",
       "3 nov   534      2        -1    0        unknown  yes       \n",
       "4 nov    52      1        -1    0        unknown  no        \n",
       "5 may    55      1        -1    0        unknown  no        \n",
       "6 jun   122      2        -1    0        unknown  no        "
      ]
     },
     "metadata": {},
     "output_type": "display_data"
    }
   ],
   "source": [
    "# Essai d'importation d'un fichier de donner sans passer par le choose directory\n",
    "# en utilisant directement le lien d'emplacement du fichier sur notre disque.\n",
    "# j'ai pu constater que sur mon ordinateur, il faut doubler les antislash comme\n",
    "# sur SAS. Et que la fonction read.csv2 est utilisé dans le cas où le séparateur \n",
    "# des collonnes de votre csv est un point virgule et on utilise read.csv lorsque \n",
    "# les variables sont séparées par une virgule.\n",
    "bank <- read.csv(\"D:\\\\Documents\\\\Data Science\\\\03 Dataset\\\\bank-sample.csv\")\n",
    "str(bank)\n",
    "head(bank)"
   ]
  },
  {
   "cell_type": "markdown",
   "metadata": {},
   "source": [
    "Pour représenter la distribution d'une variable qualitative, on utilise un  diagramme en bâton (barplot sous R), le camembert (pie sous R)."
   ]
  },
  {
   "cell_type": "code",
   "execution_count": 3,
   "metadata": {},
   "outputs": [
    {
     "data": {
      "text/plain": [
       "\n",
       "       agriculteur            artisan              autre              cadre \n",
       "                 6                 90                 31                 24 \n",
       "           employe            ouvrier prof.intermediaire        sans emploi \n",
       "               135                227                 58                222 "
      ]
     },
     "metadata": {},
     "output_type": "display_data"
    }
   ],
   "source": [
    "# Affichage de l'effectif de chaque modélité\n",
    "table(smp$prof)"
   ]
  },
  {
   "cell_type": "code",
   "execution_count": 4,
   "metadata": {
    "scrolled": true
   },
   "outputs": [
    {
     "data": {
      "image/png": "iVBORw0KGgoAAAANSUhEUgAAA0gAAANICAMAAADKOT/pAAAAM1BMVEUAAABNTU1oaGh8fHyM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",
      "text/plain": [
       "plot without title"
      ]
     },
     "metadata": {},
     "output_type": "display_data"
    }
   ],
   "source": [
    "barplot(table(smp$prof))"
   ]
  },
  {
   "cell_type": "code",
   "execution_count": 5,
   "metadata": {
    "scrolled": true
   },
   "outputs": [
    {
     "data": {
      "image/png": "iVBORw0KGgoAAAANSUhEUgAAA0gAAANICAMAAADKOT/pAAAAP1BMVEUAAABNTU1oaGh8fHyM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\nKCAkQAEhAQoICVBASICC/wO7aVz8vLfPugAAAABJRU5ErkJggg==",
      "text/plain": [
       "plot without title"
      ]
     },
     "metadata": {},
     "output_type": "display_data"
    }
   ],
   "source": [
    "pie(table(smp$prof))"
   ]
  },
  {
   "cell_type": "markdown",
   "metadata": {},
   "source": [
    "Bien que le camembert soit destiné à la représentaiton graphique des variables ualitatives, beaucoup de statisticiens pensent que l'être humain a plus de acilité à distinguer les rapports de grandeurs dans un diagramme en bâton que ans le camembert. Cependant, le camembert serait le graphique idéal si l'on herchait à savoir la part que réprensente une profession donnée par rapport àl'ensemble des détenus de la prision.\n",
    "\n",
    "Répresentation graphique d'une variable quantitative : histogramme (hist sous R)  ne boîte à moustache (boxplot sous R) ; nuage de points ou diagramme cartésien our la distribution de deux variables quantitatives (plot sous R) ; pour les ariables temporelles, on a le diagramme temporelle ou diagramme de température (plotmeans sous R, obtenu avec la library gplots) ; et le diagramme en fagot pour représenter chaque observation (individus) en fonction du temps et d'une variable donnée (interaction.plot sous R)."
   ]
  },
  {
   "cell_type": "code",
   "execution_count": 6,
   "metadata": {
    "scrolled": true
   },
   "outputs": [
    {
     "data": {
      "image/png": "iVBORw0KGgoAAAANSUhEUgAAA0gAAANICAMAAADKOT/pAAAAMFBMVEUAAABNTU1oaGh8fHyM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\nBRAJQAFEAlAAkQAUQCQABRAJQIF/eF3siFKoi7MAAAAASUVORK5CYII=",
      "text/plain": [
       "Plot with title \"Histogram of smp$age\""
      ]
     },
     "metadata": {},
     "output_type": "display_data"
    }
   ],
   "source": [
    "hist(smp$age)"
   ]
  },
  {
   "cell_type": "code",
   "execution_count": 8,
   "metadata": {
    "scrolled": true
   },
   "outputs": [
    {
     "data": {
      "image/png": "iVBORw0KGgoAAAANSUhEUgAAA0gAAANICAMAAADKOT/pAAAAM1BMVEUAAABNTU1oaGh8fHyM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\nAABJRU5ErkJggg==",
      "text/plain": [
       "Plot with title \"Histogramme des âges\""
      ]
     },
     "metadata": {},
     "output_type": "display_data"
    }
   ],
   "source": [
    "hist(smp$age, col=\"grey\", main=\"Histogramme des âges\", xlab=\"âge\")"
   ]
  },
  {
   "cell_type": "code",
   "execution_count": 9,
   "metadata": {
    "scrolled": true
   },
   "outputs": [
    {
     "data": {
      "image/png": "iVBORw0KGgoAAAANSUhEUgAAA0gAAANICAMAAADKOT/pAAAAMFBMVEUAAABNTU1oaGh8fHyM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\nCQL8H4KXLBy78nQeAAAAAElFTkSuQmCC",
      "text/plain": [
       "plot without title"
      ]
     },
     "metadata": {},
     "output_type": "display_data"
    }
   ],
   "source": [
    "# le caractère contigu des batons de l'histogramme montre qu'il y a une continuité\n",
    "# dans les variables quantitatives utilisées.\n",
    "boxplot(smp$age, xlab=\"âge\")"
   ]
  },
  {
   "cell_type": "code",
   "execution_count": 10,
   "metadata": {
    "scrolled": true
   },
   "outputs": [
    {
     "data": {
      "image/png": "iVBORw0KGgoAAAANSUhEUgAAA0gAAANICAMAAADKOT/pAAAAMFBMVEUAAABNTU1oaGh8fHyM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\nRU5ErkJggg==",
      "text/plain": [
       "Plot with title \"Distribution du niveau de sensation en fonction de l'âge\""
      ]
     },
     "metadata": {},
     "output_type": "display_data"
    }
   ],
   "source": [
    "boxplot(smp$age ~ smp$rs, ylab = 'age', xlab = 'Recherche de sensation',\n",
    "        main=\"Distribution du niveau de sensation en fonction de l'âge\")"
   ]
  },
  {
   "cell_type": "code",
   "execution_count": 11,
   "metadata": {
    "scrolled": true
   },
   "outputs": [
    {
     "data": {
      "image/png": "iVBORw0KGgoAAAANSUhEUgAAA0gAAANICAMAAADKOT/pAAAAMFBMVEUAAABNTU1oaGh8fHyM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\nRU5ErkJggg==",
      "text/plain": [
       "Plot with title \"nombre d'enfants par âge des détenus\""
      ]
     },
     "metadata": {},
     "output_type": "display_data"
    }
   ],
   "source": [
    "plot(smp$age, smp$n.enfant, main=\"nombre d'enfants par âge des détenus\", xlab=\"âge\", ylab=\"nombre d'enfants\")"
   ]
  },
  {
   "cell_type": "code",
   "execution_count": 12,
   "metadata": {},
   "outputs": [
    {
     "data": {
      "image/png": "iVBORw0KGgoAAAANSUhEUgAAA0gAAANICAMAAADKOT/pAAAAMFBMVEUAAABNTU1oaGh8fHyM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\nP4fsUj+LGwbjAAAAAElFTkSuQmCC",
      "text/plain": [
       "Plot with title \"nombre d'enfants par âge des détenus\""
      ]
     },
     "metadata": {},
     "output_type": "display_data"
    }
   ],
   "source": [
    "# Il y a certains points qui sont supperposer, pour lever cela, on a:\n",
    "plot(jitter(smp$age), jitter(smp$n.enfant), main=\"nombre d'enfants par âge des détenus\", xlab=\"âge\", ylab=\"nombre d'enfants\")"
   ]
  },
  {
   "cell_type": "code",
   "execution_count": 13,
   "metadata": {},
   "outputs": [
    {
     "name": "stdout",
     "output_type": "stream",
     "text": [
      "'data.frame':\t1053 obs. of  3 variables:\n",
      " $ NUMERO: int  96 96 96 96 96 96 96 96 157 157 ...\n",
      " $ VISIT : int  0 4 7 14 21 28 42 56 0 4 ...\n",
      " $ HDRS  : int  34 26 12 7 5 1 1 1 27 19 ...\n"
     ]
    },
    {
     "data": {
      "text/html": [
       "<table>\n",
       "<thead><tr><th scope=col>NUMERO</th><th scope=col>VISIT</th><th scope=col>HDRS</th></tr></thead>\n",
       "<tbody>\n",
       "\t<tr><td>96</td><td> 0</td><td>34</td></tr>\n",
       "\t<tr><td>96</td><td> 4</td><td>26</td></tr>\n",
       "\t<tr><td>96</td><td> 7</td><td>12</td></tr>\n",
       "\t<tr><td>96</td><td>14</td><td> 7</td></tr>\n",
       "\t<tr><td>96</td><td>21</td><td> 5</td></tr>\n",
       "\t<tr><td>96</td><td>28</td><td> 1</td></tr>\n",
       "</tbody>\n",
       "</table>\n"
      ],
      "text/latex": [
       "\\begin{tabular}{r|lll}\n",
       " NUMERO & VISIT & HDRS\\\\\n",
       "\\hline\n",
       "\t 96 &  0 & 34\\\\\n",
       "\t 96 &  4 & 26\\\\\n",
       "\t 96 &  7 & 12\\\\\n",
       "\t 96 & 14 &  7\\\\\n",
       "\t 96 & 21 &  5\\\\\n",
       "\t 96 & 28 &  1\\\\\n",
       "\\end{tabular}\n"
      ],
      "text/markdown": [
       "\n",
       "| NUMERO | VISIT | HDRS |\n",
       "|---|---|---|\n",
       "| 96 |  0 | 34 |\n",
       "| 96 |  4 | 26 |\n",
       "| 96 |  7 | 12 |\n",
       "| 96 | 14 |  7 |\n",
       "| 96 | 21 |  5 |\n",
       "| 96 | 28 |  1 |\n",
       "\n"
      ],
      "text/plain": [
       "  NUMERO VISIT HDRS\n",
       "1 96      0    34  \n",
       "2 96      4    26  \n",
       "3 96      7    12  \n",
       "4 96     14     7  \n",
       "5 96     21     5  \n",
       "6 96     28     1  "
      ]
     },
     "metadata": {},
     "output_type": "display_data"
    }
   ],
   "source": [
    "# importation du deuxième dataset comportant des données temporelles\n",
    "repdat <- read.csv2(\"outils_hdrs.csv\")\n",
    "str(repdat)\n",
    "head(repdat)"
   ]
  },
  {
   "cell_type": "markdown",
   "metadata": {},
   "source": [
    "**Description de la base repdat** <br>\n",
    "VISIT est le nombre de visite qu'effectue chaque patient, donc la var temporelle <br>\n",
    "HDRS = Score de dépression. C'est L’échelle de dépression de Hamilton <br>\n",
    "HDRS = Hamilton Depression Rating Scale. <br>\n",
    "NUMERO désigne l'identifiant (ou le numéro) de chaque patient."
   ]
  },
  {
   "cell_type": "code",
   "execution_count": 2,
   "metadata": {},
   "outputs": [
    {
     "name": "stderr",
     "output_type": "stream",
     "text": [
      "Warning message:\n",
      "\"package 'gplots' was built under R version 3.6.3\"\n",
      "Attaching package: 'gplots'\n",
      "\n",
      "The following object is masked from 'package:stats':\n",
      "\n",
      "    lowess\n",
      "\n",
      "Warning message:\n",
      "\"package 'caTools' was built under R version 3.6.2\""
     ]
    }
   ],
   "source": [
    "# chargement des librairies\n",
    "library(gplots)\n",
    "library(caTools)"
   ]
  },
  {
   "cell_type": "code",
   "execution_count": 16,
   "metadata": {},
   "outputs": [
    {
     "name": "stderr",
     "output_type": "stream",
     "text": [
      "Warning message in plot.xy(xy.coords(x, y), type = type, ...):\n",
      "\"\"gap\" n'est pas un paramètre graphique\""
     ]
    },
    {
     "data": {
      "image/png": "iVBORw0KGgoAAAANSUhEUgAAA0gAAANICAMAAADKOT/pAAAAMFBMVEUAAABNTU1oaGh8fHyM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",
      "text/plain": [
       "Plot with title \"Etat symptomatique moyen des patients par rapport aux visites\""
      ]
     },
     "metadata": {},
     "output_type": "display_data"
    }
   ],
   "source": [
    "plotmeans(repdat$HDRS~repdat$VISIT, gap=0, barcol='black',\n",
    "          xlab='nombre de visite', ylab='Score de dépression',\n",
    "          main=\"Etat symptomatique moyen des patients par rapport aux visites\")"
   ]
  },
  {
   "cell_type": "code",
   "execution_count": 17,
   "metadata": {
    "scrolled": true
   },
   "outputs": [
    {
     "data": {
      "image/png": "iVBORw0KGgoAAAANSUhEUgAAA0gAAANICAMAAADKOT/pAAAAMFBMVEUAAABNTU1oaGh8fHyM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\nEgAOQEgAOAAhAeDA/wArMlRs+8J1DAAAAABJRU5ErkJggg==",
      "text/plain": [
       "Plot with title \"Etat symptomatique de chaque patient par rapport aux visites\""
      ]
     },
     "metadata": {},
     "output_type": "display_data"
    }
   ],
   "source": [
    "# Nous voyons qu'au cours du temps, l'état symptomatique des patients s'améliore progréssivement.\n",
    "interaction.plot(repdat$VISIT, repdat$NUMERO, repdat$HDRS, lty=1, legend=FALSE,\n",
    "                 ylab='score de dépression', xlab='nombre de visites',\n",
    "                 main=\"Etat symptomatique de chaque patient par rapport aux visites\")"
   ]
  },
  {
   "cell_type": "markdown",
   "metadata": {},
   "source": [
    "#   03 - 04 Mesures de position et de dispersion : Théorie et Pratique"
   ]
  },
  {
   "cell_type": "code",
   "execution_count": 18,
   "metadata": {},
   "outputs": [],
   "source": [
    "# Exercice de la partie théorique\n",
    "taille <- c(1.71, 1.70, 1.65, 1.54, 1.70, 1.63, 1.81, 400, 1.81, 1.64)"
   ]
  },
  {
   "cell_type": "code",
   "execution_count": 19,
   "metadata": {},
   "outputs": [
    {
     "data": {
      "text/plain": [
       "   Min. 1st Qu.  Median    Mean 3rd Qu.    Max. \n",
       "  1.540   1.643   1.700  41.519   1.785 400.000 "
      ]
     },
     "metadata": {},
     "output_type": "display_data"
    }
   ],
   "source": [
    "summary(taille)"
   ]
  },
  {
   "cell_type": "code",
   "execution_count": 20,
   "metadata": {},
   "outputs": [
    {
     "data": {
      "text/plain": [
       "      age                       prof        dep.cons         scz.cons     \n",
       " Min.   :19.0   ouvrier           :227   Min.   :0.0000   Min.   :0.0000  \n",
       " 1st Qu.:28.0   sans emploi       :222   1st Qu.:0.0000   1st Qu.:0.0000  \n",
       " Median :37.0   employe           :135   Median :0.0000   Median :0.0000  \n",
       " Mean   :38.9   artisan           : 90   Mean   :0.3967   Mean   :0.0826  \n",
       " 3rd Qu.:48.0   prof.intermediaire: 58   3rd Qu.:1.0000   3rd Qu.:0.0000  \n",
       " Max.   :83.0   (Other)           : 61   Max.   :1.0000   Max.   :1.0000  \n",
       " NA's   :2      NA's              :  6                                    \n",
       "   grav.cons        n.enfant            rs              ed       \n",
       " Min.   :1.000   Min.   : 0.000   Min.   :1.000   Min.   :1.000  \n",
       " 1st Qu.:2.000   1st Qu.: 0.000   1st Qu.:1.000   1st Qu.:1.000  \n",
       " Median :4.000   Median : 1.000   Median :2.000   Median :2.000  \n",
       " Mean   :3.643   Mean   : 1.755   Mean   :2.057   Mean   :1.866  \n",
       " 3rd Qu.:5.000   3rd Qu.: 3.000   3rd Qu.:3.000   3rd Qu.:3.000  \n",
       " Max.   :7.000   Max.   :13.000   Max.   :3.000   Max.   :3.000  \n",
       " NA's   :4       NA's   :26       NA's   :103     NA's   :107    \n",
       "       dr       \n",
       " Min.   :1.000  \n",
       " 1st Qu.:1.000  \n",
       " Median :2.000  \n",
       " Mean   :2.153  \n",
       " 3rd Qu.:3.000  \n",
       " Max.   :3.000  \n",
       " NA's   :111    "
      ]
     },
     "metadata": {},
     "output_type": "display_data"
    }
   ],
   "source": [
    "# Affichage des statistiques descriptives de notre base\n",
    "summary(smp)"
   ]
  },
  {
   "cell_type": "code",
   "execution_count": 6,
   "metadata": {},
   "outputs": [],
   "source": [
    "# Chargement de la librairie pour describe\n",
    "library(prettyR)\n",
    "# prettyR est le package R qui permet de générer les statisques descriptives\n",
    "# sans passer par summary qui prend beaucoup de place."
   ]
  },
  {
   "cell_type": "code",
   "execution_count": 23,
   "metadata": {},
   "outputs": [
    {
     "name": "stdout",
     "output_type": "stream",
     "text": [
      "Description of smp \n"
     ]
    },
    {
     "data": {
      "text/plain": [
       "\n",
       " Numeric \n",
       "           mean median    var    sd valid.n\n",
       "age       38.90     37 176.38 13.28     797\n",
       "dep.cons   0.40      0   0.24  0.49     799\n",
       "scz.cons   0.08      0   0.08  0.28     799\n",
       "grav.cons  3.64      4   2.73  1.65     795\n",
       "n.enfant   1.76      1   3.36  1.83     773\n",
       "rs         2.06      2   0.77  0.88     696\n",
       "ed         1.87      2   0.76  0.87     692\n",
       "dr         2.15      2   0.69  0.83     688\n",
       "\n",
       " Factor \n",
       "         \n",
       "prof      ouvrier sans emploi employe artisan prof.intermediaire autre cadre\n",
       "  Count    227.00      222.00   135.0   90.00              58.00 31.00    24\n",
       "  Percent   28.41       27.78    16.9   11.26               7.26  3.88     3\n",
       "         \n",
       "prof      agriculteur <NA>\n",
       "  Count          6.00 6.00\n",
       "  Percent        0.75 0.75\n",
       "Mode ouvrier "
      ]
     },
     "metadata": {},
     "output_type": "display_data"
    }
   ],
   "source": [
    "describe(smp)"
   ]
  },
  {
   "cell_type": "code",
   "execution_count": 24,
   "metadata": {},
   "outputs": [
    {
     "name": "stdout",
     "output_type": "stream",
     "text": [
      "Description of smp \n"
     ]
    },
    {
     "data": {
      "text/plain": [
       "\n",
       " Numeric \n",
       "           mean    sd median min max valid.n\n",
       "age       38.90 13.28     37  19  83     797\n",
       "dep.cons   0.40  0.49      0   0   1     799\n",
       "scz.cons   0.08  0.28      0   0   1     799\n",
       "grav.cons  3.64  1.65      4   1   7     795\n",
       "n.enfant   1.76  1.83      1   0  13     773\n",
       "rs         2.06  0.88      2   1   3     696\n",
       "ed         1.87  0.87      2   1   3     692\n",
       "dr         2.15  0.83      2   1   3     688\n",
       "\n",
       " Factor \n",
       "         \n",
       "prof      ouvrier sans emploi employe artisan prof.intermediaire autre cadre\n",
       "  Count    227.00      222.00   135.0   90.00              58.00 31.00    24\n",
       "  Percent   28.41       27.78    16.9   11.26               7.26  3.88     3\n",
       "         \n",
       "prof      agriculteur <NA>\n",
       "  Count          6.00 6.00\n",
       "  Percent        0.75 0.75\n",
       "Mode ouvrier "
      ]
     },
     "metadata": {},
     "output_type": "display_data"
    }
   ],
   "source": [
    "# Description de la base avec organisation de la disposition des indicateurs\n",
    "describe(smp, num.desc=c(\"mean\",\"sd\",\"median\",\"min\",\"max\",\"valid.n\"))"
   ]
  },
  {
   "cell_type": "markdown",
   "metadata": {},
   "source": [
    "**le min et max sont très important dans ce sens où ils nous permettent de détecter les données abérantes.Donc, nous allons l'insérer dans describe**"
   ]
  },
  {
   "cell_type": "code",
   "execution_count": 25,
   "metadata": {},
   "outputs": [
    {
     "data": {
      "text/html": [
       "38.8996235884567"
      ],
      "text/latex": [
       "38.8996235884567"
      ],
      "text/markdown": [
       "38.8996235884567"
      ],
      "text/plain": [
       "[1] 38.89962"
      ]
     },
     "metadata": {},
     "output_type": "display_data"
    }
   ],
   "source": [
    "mean(smp$age, na.rm = TRUE)   #Calculer seulement la moyenne d'une variable"
   ]
  },
  {
   "cell_type": "code",
   "execution_count": 26,
   "metadata": {},
   "outputs": [
    {
     "data": {
      "text/html": [
       "13.2809782877711"
      ],
      "text/latex": [
       "13.2809782877711"
      ],
      "text/markdown": [
       "13.2809782877711"
      ],
      "text/plain": [
       "[1] 13.28098"
      ]
     },
     "metadata": {},
     "output_type": "display_data"
    }
   ],
   "source": [
    "sd(smp$age, na.rm=TRUE)    # Calculer uniquement l'écart-type d'une variable"
   ]
  },
  {
   "cell_type": "code",
   "execution_count": 29,
   "metadata": {},
   "outputs": [
    {
     "data": {
      "text/plain": [
       "smp$prof\n",
       "       agriculteur            artisan              autre              cadre \n",
       "                 6                 90                 31                 24 \n",
       "           employe            ouvrier prof.intermediaire        sans emploi \n",
       "               135                227                 58                222 \n",
       "              <NA> \n",
       "                 6 "
      ]
     },
     "metadata": {},
     "output_type": "display_data"
    }
   ],
   "source": [
    "table(smp$prof, deparse.level=2, useNA=\"always\")\n",
    "# la fonction table renvoie le tableau d'effectif d'une variable"
   ]
  },
  {
   "cell_type": "markdown",
   "metadata": {},
   "source": [
    "<h1><center>Lab 1</center></h1>"
   ]
  },
  {
   "cell_type": "code",
   "execution_count": 4,
   "metadata": {},
   "outputs": [
    {
     "name": "stdout",
     "output_type": "stream",
     "text": [
      "'data.frame':\t799 obs. of  26 variables:\n",
      " $ age         : int  31 49 50 47 23 34 24 52 42 45 ...\n",
      " $ prof        : Factor w/ 8 levels \"agriculteur\",..: 3 NA 7 6 8 6 3 2 6 6 ...\n",
      " $ duree       : int  4 NA 5 NA 4 NA NA 5 4 NA ...\n",
      " $ discip      : int  0 0 0 0 1 0 0 0 1 0 ...\n",
      " $ n.enfant    : int  2 7 2 0 1 3 5 2 1 2 ...\n",
      " $ n.fratrie   : int  4 3 2 6 6 2 3 9 12 5 ...\n",
      " $ ecole       : int  1 2 2 1 1 2 1 2 1 2 ...\n",
      " $ separation  : int  0 1 0 1 1 0 1 0 1 0 ...\n",
      " $ juge.enfant : int  0 0 0 0 NA 0 1 0 1 0 ...\n",
      " $ place       : int  0 0 0 1 1 0 1 0 0 0 ...\n",
      " $ abus        : int  0 0 0 0 0 0 0 0 1 1 ...\n",
      " $ grav.cons   : int  1 2 2 1 2 1 5 1 5 5 ...\n",
      " $ dep.cons    : int  0 0 0 0 1 0 1 0 1 0 ...\n",
      " $ ago.cons    : int  1 0 0 0 0 0 0 0 0 0 ...\n",
      " $ ptsd.cons   : int  0 0 0 0 0 0 0 0 0 0 ...\n",
      " $ alc.cons    : int  0 0 0 0 0 0 0 0 1 1 ...\n",
      " $ subst.cons  : int  0 0 0 0 0 0 1 0 1 0 ...\n",
      " $ scz.cons    : int  0 0 0 0 0 0 0 0 0 0 ...\n",
      " $ char        : int  1 1 1 1 1 1 1 1 4 1 ...\n",
      " $ rs          : int  2 2 2 2 2 1 3 2 3 2 ...\n",
      " $ ed          : int  1 2 3 2 2 2 3 2 3 2 ...\n",
      " $ dr          : int  1 1 2 2 2 1 2 2 1 2 ...\n",
      " $ suicide.s   : int  0 0 0 1 0 0 3 0 4 0 ...\n",
      " $ suicide.hr  : int  0 0 0 0 0 0 1 0 1 0 ...\n",
      " $ suicide.past: int  0 0 0 0 1 0 1 0 1 0 ...\n",
      " $ dur.interv  : int  NA 70 NA 105 NA NA 105 84 78 60 ...\n"
     ]
    },
    {
     "data": {
      "text/html": [
       "<ol class=list-inline>\n",
       "\t<li>'age'</li>\n",
       "\t<li>'prof'</li>\n",
       "\t<li>'duree'</li>\n",
       "\t<li>'discip'</li>\n",
       "\t<li>'n.enfant'</li>\n",
       "\t<li>'n.fratrie'</li>\n",
       "\t<li>'ecole'</li>\n",
       "\t<li>'separation'</li>\n",
       "\t<li>'juge.enfant'</li>\n",
       "\t<li>'place'</li>\n",
       "\t<li>'abus'</li>\n",
       "\t<li>'grav.cons'</li>\n",
       "\t<li>'dep.cons'</li>\n",
       "\t<li>'ago.cons'</li>\n",
       "\t<li>'ptsd.cons'</li>\n",
       "\t<li>'alc.cons'</li>\n",
       "\t<li>'subst.cons'</li>\n",
       "\t<li>'scz.cons'</li>\n",
       "\t<li>'char'</li>\n",
       "\t<li>'rs'</li>\n",
       "\t<li>'ed'</li>\n",
       "\t<li>'dr'</li>\n",
       "\t<li>'suicide.s'</li>\n",
       "\t<li>'suicide.hr'</li>\n",
       "\t<li>'suicide.past'</li>\n",
       "\t<li>'dur.interv'</li>\n",
       "</ol>\n"
      ],
      "text/latex": [
       "\\begin{enumerate*}\n",
       "\\item 'age'\n",
       "\\item 'prof'\n",
       "\\item 'duree'\n",
       "\\item 'discip'\n",
       "\\item 'n.enfant'\n",
       "\\item 'n.fratrie'\n",
       "\\item 'ecole'\n",
       "\\item 'separation'\n",
       "\\item 'juge.enfant'\n",
       "\\item 'place'\n",
       "\\item 'abus'\n",
       "\\item 'grav.cons'\n",
       "\\item 'dep.cons'\n",
       "\\item 'ago.cons'\n",
       "\\item 'ptsd.cons'\n",
       "\\item 'alc.cons'\n",
       "\\item 'subst.cons'\n",
       "\\item 'scz.cons'\n",
       "\\item 'char'\n",
       "\\item 'rs'\n",
       "\\item 'ed'\n",
       "\\item 'dr'\n",
       "\\item 'suicide.s'\n",
       "\\item 'suicide.hr'\n",
       "\\item 'suicide.past'\n",
       "\\item 'dur.interv'\n",
       "\\end{enumerate*}\n"
      ],
      "text/markdown": [
       "1. 'age'\n",
       "2. 'prof'\n",
       "3. 'duree'\n",
       "4. 'discip'\n",
       "5. 'n.enfant'\n",
       "6. 'n.fratrie'\n",
       "7. 'ecole'\n",
       "8. 'separation'\n",
       "9. 'juge.enfant'\n",
       "10. 'place'\n",
       "11. 'abus'\n",
       "12. 'grav.cons'\n",
       "13. 'dep.cons'\n",
       "14. 'ago.cons'\n",
       "15. 'ptsd.cons'\n",
       "16. 'alc.cons'\n",
       "17. 'subst.cons'\n",
       "18. 'scz.cons'\n",
       "19. 'char'\n",
       "20. 'rs'\n",
       "21. 'ed'\n",
       "22. 'dr'\n",
       "23. 'suicide.s'\n",
       "24. 'suicide.hr'\n",
       "25. 'suicide.past'\n",
       "26. 'dur.interv'\n",
       "\n",
       "\n"
      ],
      "text/plain": [
       " [1] \"age\"          \"prof\"         \"duree\"        \"discip\"       \"n.enfant\"    \n",
       " [6] \"n.fratrie\"    \"ecole\"        \"separation\"   \"juge.enfant\"  \"place\"       \n",
       "[11] \"abus\"         \"grav.cons\"    \"dep.cons\"     \"ago.cons\"     \"ptsd.cons\"   \n",
       "[16] \"alc.cons\"     \"subst.cons\"   \"scz.cons\"     \"char\"         \"rs\"          \n",
       "[21] \"ed\"           \"dr\"           \"suicide.s\"    \"suicide.hr\"   \"suicide.past\"\n",
       "[26] \"dur.interv\"  "
      ]
     },
     "metadata": {},
     "output_type": "display_data"
    },
    {
     "data": {
      "text/plain": [
       "      age                       prof         duree           discip     \n",
       " Min.   :19.0   ouvrier           :227   Min.   :1.000   Min.   :0.000  \n",
       " 1st Qu.:28.0   sans emploi       :222   1st Qu.:4.000   1st Qu.:0.000  \n",
       " Median :37.0   employé           :135   Median :5.000   Median :0.000  \n",
       " Mean   :38.9   artisan           : 90   Mean   :4.302   Mean   :0.232  \n",
       " 3rd Qu.:48.0   prof.intermédiaire: 58   3rd Qu.:5.000   3rd Qu.:0.000  \n",
       " Max.   :83.0   (Other)           : 61   Max.   :5.000   Max.   :1.000  \n",
       " NA's   :2      NA's              :  6   NA's   :223     NA's   :6      \n",
       "    n.enfant        n.fratrie          ecole         separation    \n",
       " Min.   : 0.000   Min.   : 0.000   Min.   :1.000   Min.   :0.0000  \n",
       " 1st Qu.: 0.000   1st Qu.: 2.000   1st Qu.:1.000   1st Qu.:0.0000  \n",
       " Median : 1.000   Median : 3.000   Median :2.000   Median :0.0000  \n",
       " Mean   : 1.755   Mean   : 4.287   Mean   :1.866   Mean   :0.4226  \n",
       " 3rd Qu.: 3.000   3rd Qu.: 6.000   3rd Qu.:2.000   3rd Qu.:1.0000  \n",
       " Max.   :13.000   Max.   :21.000   Max.   :5.000   Max.   :1.0000  \n",
       " NA's   :26                        NA's   :5       NA's   :11      \n",
       "  juge.enfant         place             abus          grav.cons    \n",
       " Min.   :0.0000   Min.   :0.0000   Min.   :0.0000   Min.   :1.000  \n",
       " 1st Qu.:0.0000   1st Qu.:0.0000   1st Qu.:0.0000   1st Qu.:2.000  \n",
       " Median :0.0000   Median :0.0000   Median :0.0000   Median :4.000  \n",
       " Mean   :0.2771   Mean   :0.2285   Mean   :0.2778   Mean   :3.643  \n",
       " 3rd Qu.:1.0000   3rd Qu.:0.0000   3rd Qu.:1.0000   3rd Qu.:5.000  \n",
       " Max.   :1.0000   Max.   :1.0000   Max.   :1.0000   Max.   :7.000  \n",
       " NA's   :5        NA's   :7        NA's   :7        NA's   :4      \n",
       "    dep.cons         ago.cons        ptsd.cons         alc.cons     \n",
       " Min.   :0.0000   Min.   :0.0000   Min.   :0.0000   Min.   :0.0000  \n",
       " 1st Qu.:0.0000   1st Qu.:0.0000   1st Qu.:0.0000   1st Qu.:0.0000  \n",
       " Median :0.0000   Median :0.0000   Median :0.0000   Median :0.0000  \n",
       " Mean   :0.3967   Mean   :0.1665   Mean   :0.2165   Mean   :0.1865  \n",
       " 3rd Qu.:1.0000   3rd Qu.:0.0000   3rd Qu.:0.0000   3rd Qu.:0.0000  \n",
       " Max.   :1.0000   Max.   :1.0000   Max.   :1.0000   Max.   :1.0000  \n",
       "                                                                    \n",
       "   subst.cons        scz.cons           char             rs       \n",
       " Min.   :0.0000   Min.   :0.0000   Min.   :1.000   Min.   :1.000  \n",
       " 1st Qu.:0.0000   1st Qu.:0.0000   1st Qu.:1.000   1st Qu.:1.000  \n",
       " Median :0.0000   Median :0.0000   Median :1.000   Median :2.000  \n",
       " Mean   :0.2653   Mean   :0.0826   Mean   :1.512   Mean   :2.057  \n",
       " 3rd Qu.:1.0000   3rd Qu.:0.0000   3rd Qu.:2.000   3rd Qu.:3.000  \n",
       " Max.   :1.0000   Max.   :1.0000   Max.   :4.000   Max.   :3.000  \n",
       "                                   NA's   :96      NA's   :103    \n",
       "       ed              dr          suicide.s        suicide.hr    \n",
       " Min.   :1.000   Min.   :1.000   Min.   :0.0000   Min.   :0.0000  \n",
       " 1st Qu.:1.000   1st Qu.:1.000   1st Qu.:0.0000   1st Qu.:0.0000  \n",
       " Median :2.000   Median :2.000   Median :0.0000   Median :0.0000  \n",
       " Mean   :1.866   Mean   :2.153   Mean   :0.7942   Mean   :0.2013  \n",
       " 3rd Qu.:3.000   3rd Qu.:3.000   3rd Qu.:1.0000   3rd Qu.:0.0000  \n",
       " Max.   :3.000   Max.   :3.000   Max.   :5.0000   Max.   :1.0000  \n",
       " NA's   :107     NA's   :111     NA's   :41       NA's   :39      \n",
       "  suicide.past      dur.interv    \n",
       " Min.   :0.0000   Min.   :  0.00  \n",
       " 1st Qu.:0.0000   1st Qu.: 48.00  \n",
       " Median :0.0000   Median : 60.00  \n",
       " Mean   :0.2841   Mean   : 61.89  \n",
       " 3rd Qu.:1.0000   3rd Qu.: 75.00  \n",
       " Max.   :1.0000   Max.   :120.00  \n",
       " NA's   :14       NA's   :50      "
      ]
     },
     "metadata": {},
     "output_type": "display_data"
    }
   ],
   "source": [
    "# Importation du data set du lab\n",
    "smplab <- read.csv2(\"smp2.csv\")\n",
    "\n",
    "# View(smplab) # ouvrir le fichier sans cliquer dessus   | mais cette commande n'est pas prise en compte dans jupyter\n",
    "str(smplab)              # Affichage de la nature de chaque variable\n",
    "\n",
    "names(smplab) # obtenir le nom des variables de la dataframe\n",
    "\n",
    "summary(smplab)          # Affichage des statistiques "
   ]
  },
  {
   "cell_type": "code",
   "execution_count": 5,
   "metadata": {},
   "outputs": [
    {
     "data": {
      "text/plain": [
       "   Min. 1st Qu.  Median    Mean 3rd Qu.    Max.    NA's \n",
       "   19.0    28.0    37.0    38.9    48.0    83.0       2 "
      ]
     },
     "metadata": {},
     "output_type": "display_data"
    }
   ],
   "source": [
    "# Statistique d'une seule variable\n",
    "summary(smplab$age)"
   ]
  },
  {
   "cell_type": "code",
   "execution_count": 6,
   "metadata": {
    "scrolled": true
   },
   "outputs": [
    {
     "data": {
      "text/html": [
       "<ol class=list-inline>\n",
       "\t<li>autre</li>\n",
       "\t<li>&lt;NA&gt;</li>\n",
       "\t<li>prof.intermédiaire</li>\n",
       "\t<li>ouvrier</li>\n",
       "\t<li>sans emploi</li>\n",
       "\t<li>ouvrier</li>\n",
       "\t<li>autre</li>\n",
       "\t<li>artisan</li>\n",
       "\t<li>ouvrier</li>\n",
       "\t<li>ouvrier</li>\n",
       "\t<li>prof.intermédiaire</li>\n",
       "\t<li>&lt;NA&gt;</li>\n",
       "\t<li>employé</li>\n",
       "\t<li>artisan</li>\n",
       "\t<li>agriculteur</li>\n",
       "\t<li>ouvrier</li>\n",
       "\t<li>prof.intermédiaire</li>\n",
       "\t<li>employé</li>\n",
       "\t<li>&lt;NA&gt;</li>\n",
       "\t<li>ouvrier</li>\n",
       "\t<li>artisan</li>\n",
       "\t<li>employé</li>\n",
       "\t<li>sans emploi</li>\n",
       "\t<li>employé</li>\n",
       "\t<li>ouvrier</li>\n",
       "\t<li>artisan</li>\n",
       "\t<li>sans emploi</li>\n",
       "\t<li>ouvrier</li>\n",
       "\t<li>ouvrier</li>\n",
       "\t<li>ouvrier</li>\n",
       "\t<li>sans emploi</li>\n",
       "\t<li>sans emploi</li>\n",
       "\t<li>ouvrier</li>\n",
       "\t<li>employé</li>\n",
       "\t<li>prof.intermédiaire</li>\n",
       "\t<li>ouvrier</li>\n",
       "\t<li>autre</li>\n",
       "\t<li>ouvrier</li>\n",
       "\t<li>ouvrier</li>\n",
       "\t<li>ouvrier</li>\n",
       "\t<li>employé</li>\n",
       "\t<li>ouvrier</li>\n",
       "\t<li>ouvrier</li>\n",
       "\t<li>employé</li>\n",
       "\t<li>employé</li>\n",
       "\t<li>prof.intermédiaire</li>\n",
       "\t<li>autre</li>\n",
       "\t<li>sans emploi</li>\n",
       "\t<li>sans emploi</li>\n",
       "\t<li>sans emploi</li>\n",
       "\t<li>sans emploi</li>\n",
       "\t<li>ouvrier</li>\n",
       "\t<li>autre</li>\n",
       "\t<li>sans emploi</li>\n",
       "\t<li>sans emploi</li>\n",
       "\t<li>prof.intermédiaire</li>\n",
       "\t<li>ouvrier</li>\n",
       "\t<li>prof.intermédiaire</li>\n",
       "\t<li>ouvrier</li>\n",
       "\t<li>sans emploi</li>\n",
       "\t<li>prof.intermédiaire</li>\n",
       "\t<li>sans emploi</li>\n",
       "\t<li>prof.intermédiaire</li>\n",
       "\t<li>sans emploi</li>\n",
       "\t<li>prof.intermédiaire</li>\n",
       "\t<li>sans emploi</li>\n",
       "\t<li>artisan</li>\n",
       "\t<li>ouvrier</li>\n",
       "\t<li>cadre</li>\n",
       "\t<li>sans emploi</li>\n",
       "\t<li>autre</li>\n",
       "\t<li>sans emploi</li>\n",
       "\t<li>prof.intermédiaire</li>\n",
       "\t<li>artisan</li>\n",
       "\t<li>sans emploi</li>\n",
       "\t<li>sans emploi</li>\n",
       "\t<li>prof.intermédiaire</li>\n",
       "\t<li>employé</li>\n",
       "\t<li>employé</li>\n",
       "\t<li>employé</li>\n",
       "\t<li>employé</li>\n",
       "\t<li>sans emploi</li>\n",
       "\t<li>artisan</li>\n",
       "\t<li>prof.intermédiaire</li>\n",
       "\t<li>employé</li>\n",
       "\t<li>sans emploi</li>\n",
       "\t<li>prof.intermédiaire</li>\n",
       "\t<li>prof.intermédiaire</li>\n",
       "\t<li>ouvrier</li>\n",
       "\t<li>sans emploi</li>\n",
       "\t<li>ouvrier</li>\n",
       "\t<li>prof.intermédiaire</li>\n",
       "\t<li>employé</li>\n",
       "\t<li>employé</li>\n",
       "\t<li>artisan</li>\n",
       "\t<li>sans emploi</li>\n",
       "\t<li>prof.intermédiaire</li>\n",
       "\t<li>prof.intermédiaire</li>\n",
       "\t<li>ouvrier</li>\n",
       "\t<li>sans emploi</li>\n",
       "\t<li>artisan</li>\n",
       "\t<li>prof.intermédiaire</li>\n",
       "\t<li>ouvrier</li>\n",
       "\t<li>ouvrier</li>\n",
       "\t<li>sans emploi</li>\n",
       "\t<li>sans emploi</li>\n",
       "\t<li>sans emploi</li>\n",
       "\t<li>ouvrier</li>\n",
       "\t<li>ouvrier</li>\n",
       "\t<li>sans emploi</li>\n",
       "\t<li>ouvrier</li>\n",
       "\t<li>ouvrier</li>\n",
       "\t<li>employé</li>\n",
       "\t<li>ouvrier</li>\n",
       "\t<li>ouvrier</li>\n",
       "\t<li>sans emploi</li>\n",
       "\t<li>sans emploi</li>\n",
       "\t<li>sans emploi</li>\n",
       "\t<li>ouvrier</li>\n",
       "\t<li>ouvrier</li>\n",
       "\t<li>ouvrier</li>\n",
       "\t<li>ouvrier</li>\n",
       "\t<li>artisan</li>\n",
       "\t<li>artisan</li>\n",
       "\t<li>employé</li>\n",
       "\t<li>ouvrier</li>\n",
       "\t<li>ouvrier</li>\n",
       "\t<li>sans emploi</li>\n",
       "\t<li>employé</li>\n",
       "\t<li>ouvrier</li>\n",
       "\t<li>sans emploi</li>\n",
       "\t<li>ouvrier</li>\n",
       "\t<li>ouvrier</li>\n",
       "\t<li>employé</li>\n",
       "\t<li>sans emploi</li>\n",
       "\t<li>artisan</li>\n",
       "\t<li>autre</li>\n",
       "\t<li>ouvrier</li>\n",
       "\t<li>sans emploi</li>\n",
       "\t<li>cadre</li>\n",
       "\t<li>sans emploi</li>\n",
       "\t<li>sans emploi</li>\n",
       "\t<li>sans emploi</li>\n",
       "\t<li>artisan</li>\n",
       "\t<li>ouvrier</li>\n",
       "\t<li>ouvrier</li>\n",
       "\t<li>sans emploi</li>\n",
       "\t<li>ouvrier</li>\n",
       "\t<li>artisan</li>\n",
       "\t<li>ouvrier</li>\n",
       "\t<li>ouvrier</li>\n",
       "\t<li>sans emploi</li>\n",
       "\t<li>cadre</li>\n",
       "\t<li>ouvrier</li>\n",
       "\t<li>artisan</li>\n",
       "\t<li>employé</li>\n",
       "\t<li>employé</li>\n",
       "\t<li>ouvrier</li>\n",
       "\t<li>autre</li>\n",
       "\t<li>sans emploi</li>\n",
       "\t<li>sans emploi</li>\n",
       "\t<li>employé</li>\n",
       "\t<li>sans emploi</li>\n",
       "\t<li>sans emploi</li>\n",
       "\t<li>autre</li>\n",
       "\t<li>sans emploi</li>\n",
       "\t<li>sans emploi</li>\n",
       "\t<li>employé</li>\n",
       "\t<li>ouvrier</li>\n",
       "\t<li>employé</li>\n",
       "\t<li>employé</li>\n",
       "\t<li>sans emploi</li>\n",
       "\t<li>employé</li>\n",
       "\t<li>ouvrier</li>\n",
       "\t<li>employé</li>\n",
       "\t<li>ouvrier</li>\n",
       "\t<li>employé</li>\n",
       "\t<li>employé</li>\n",
       "\t<li>employé</li>\n",
       "\t<li>ouvrier</li>\n",
       "\t<li>ouvrier</li>\n",
       "\t<li>artisan</li>\n",
       "\t<li>prof.intermédiaire</li>\n",
       "\t<li>employé</li>\n",
       "\t<li>employé</li>\n",
       "\t<li>ouvrier</li>\n",
       "\t<li>cadre</li>\n",
       "\t<li>employé</li>\n",
       "\t<li>ouvrier</li>\n",
       "\t<li>artisan</li>\n",
       "\t<li>employé</li>\n",
       "\t<li>ouvrier</li>\n",
       "\t<li>ouvrier</li>\n",
       "\t<li>ouvrier</li>\n",
       "\t<li>sans emploi</li>\n",
       "\t<li>prof.intermédiaire</li>\n",
       "\t<li>employé</li>\n",
       "\t<li>ouvrier</li>\n",
       "\t<li>employé</li>\n",
       "\t<li>artisan</li>\n",
       "\t<li>sans emploi</li>\n",
       "\t<li>sans emploi</li>\n",
       "\t<li>sans emploi</li>\n",
       "\t<li>artisan</li>\n",
       "\t<li>sans emploi</li>\n",
       "\t<li>sans emploi</li>\n",
       "\t<li>ouvrier</li>\n",
       "\t<li>artisan</li>\n",
       "\t<li>ouvrier</li>\n",
       "\t<li>employé</li>\n",
       "\t<li>cadre</li>\n",
       "\t<li>ouvrier</li>\n",
       "\t<li>ouvrier</li>\n",
       "\t<li>ouvrier</li>\n",
       "\t<li>sans emploi</li>\n",
       "\t<li>cadre</li>\n",
       "\t<li>sans emploi</li>\n",
       "\t<li>prof.intermédiaire</li>\n",
       "\t<li>sans emploi</li>\n",
       "\t<li>employé</li>\n",
       "\t<li>sans emploi</li>\n",
       "\t<li>artisan</li>\n",
       "\t<li>artisan</li>\n",
       "\t<li>employé</li>\n",
       "\t<li>sans emploi</li>\n",
       "\t<li>sans emploi</li>\n",
       "\t<li>sans emploi</li>\n",
       "\t<li>sans emploi</li>\n",
       "\t<li>artisan</li>\n",
       "\t<li>employé</li>\n",
       "\t<li>ouvrier</li>\n",
       "\t<li>employé</li>\n",
       "\t<li>employé</li>\n",
       "\t<li>employé</li>\n",
       "\t<li>artisan</li>\n",
       "\t<li>employé</li>\n",
       "\t<li>ouvrier</li>\n",
       "\t<li>employé</li>\n",
       "\t<li>sans emploi</li>\n",
       "\t<li>prof.intermédiaire</li>\n",
       "\t<li>sans emploi</li>\n",
       "\t<li>sans emploi</li>\n",
       "\t<li>employé</li>\n",
       "\t<li>ouvrier</li>\n",
       "\t<li>employé</li>\n",
       "\t<li>artisan</li>\n",
       "\t<li>sans emploi</li>\n",
       "\t<li>employé</li>\n",
       "\t<li>prof.intermédiaire</li>\n",
       "\t<li>cadre</li>\n",
       "\t<li>prof.intermédiaire</li>\n",
       "\t<li>sans emploi</li>\n",
       "\t<li>employé</li>\n",
       "\t<li>employé</li>\n",
       "\t<li>ouvrier</li>\n",
       "\t<li>sans emploi</li>\n",
       "\t<li>employé</li>\n",
       "\t<li>artisan</li>\n",
       "\t<li>prof.intermédiaire</li>\n",
       "\t<li>artisan</li>\n",
       "\t<li>employé</li>\n",
       "\t<li>sans emploi</li>\n",
       "\t<li>ouvrier</li>\n",
       "\t<li>sans emploi</li>\n",
       "\t<li>artisan</li>\n",
       "\t<li>ouvrier</li>\n",
       "\t<li>artisan</li>\n",
       "\t<li>employé</li>\n",
       "\t<li>artisan</li>\n",
       "\t<li>ouvrier</li>\n",
       "\t<li>employé</li>\n",
       "\t<li>employé</li>\n",
       "\t<li>ouvrier</li>\n",
       "\t<li>prof.intermédiaire</li>\n",
       "\t<li>employé</li>\n",
       "\t<li>ouvrier</li>\n",
       "\t<li>employé</li>\n",
       "\t<li>employé</li>\n",
       "\t<li>artisan</li>\n",
       "\t<li>employé</li>\n",
       "\t<li>sans emploi</li>\n",
       "\t<li>sans emploi</li>\n",
       "\t<li>cadre</li>\n",
       "\t<li>artisan</li>\n",
       "\t<li>sans emploi</li>\n",
       "\t<li>ouvrier</li>\n",
       "\t<li>employé</li>\n",
       "\t<li>prof.intermédiaire</li>\n",
       "\t<li>ouvrier</li>\n",
       "\t<li>ouvrier</li>\n",
       "\t<li>sans emploi</li>\n",
       "\t<li>ouvrier</li>\n",
       "\t<li>artisan</li>\n",
       "\t<li>sans emploi</li>\n",
       "\t<li>sans emploi</li>\n",
       "\t<li>ouvrier</li>\n",
       "\t<li>employé</li>\n",
       "\t<li>employé</li>\n",
       "\t<li>sans emploi</li>\n",
       "\t<li>sans emploi</li>\n",
       "\t<li>ouvrier</li>\n",
       "\t<li>ouvrier</li>\n",
       "\t<li>sans emploi</li>\n",
       "\t<li>sans emploi</li>\n",
       "\t<li>artisan</li>\n",
       "\t<li>sans emploi</li>\n",
       "\t<li>employé</li>\n",
       "\t<li>sans emploi</li>\n",
       "\t<li>artisan</li>\n",
       "\t<li>ouvrier</li>\n",
       "\t<li>ouvrier</li>\n",
       "\t<li>agriculteur</li>\n",
       "\t<li>employé</li>\n",
       "\t<li>ouvrier</li>\n",
       "\t<li>ouvrier</li>\n",
       "\t<li>employé</li>\n",
       "\t<li>sans emploi</li>\n",
       "\t<li>ouvrier</li>\n",
       "\t<li>sans emploi</li>\n",
       "\t<li>ouvrier</li>\n",
       "\t<li>ouvrier</li>\n",
       "\t<li>ouvrier</li>\n",
       "\t<li>ouvrier</li>\n",
       "\t<li>artisan</li>\n",
       "\t<li>ouvrier</li>\n",
       "\t<li>ouvrier</li>\n",
       "\t<li>sans emploi</li>\n",
       "\t<li>ouvrier</li>\n",
       "\t<li>sans emploi</li>\n",
       "\t<li>artisan</li>\n",
       "\t<li>artisan</li>\n",
       "\t<li>ouvrier</li>\n",
       "\t<li>sans emploi</li>\n",
       "\t<li>employé</li>\n",
       "\t<li>sans emploi</li>\n",
       "\t<li>sans emploi</li>\n",
       "\t<li>&lt;NA&gt;</li>\n",
       "\t<li>ouvrier</li>\n",
       "\t<li>sans emploi</li>\n",
       "\t<li>ouvrier</li>\n",
       "\t<li>sans emploi</li>\n",
       "\t<li>sans emploi</li>\n",
       "\t<li>&lt;NA&gt;</li>\n",
       "\t<li>artisan</li>\n",
       "\t<li>ouvrier</li>\n",
       "\t<li>ouvrier</li>\n",
       "\t<li>sans emploi</li>\n",
       "\t<li>ouvrier</li>\n",
       "\t<li>sans emploi</li>\n",
       "\t<li>ouvrier</li>\n",
       "\t<li>sans emploi</li>\n",
       "\t<li>artisan</li>\n",
       "\t<li>employé</li>\n",
       "\t<li>ouvrier</li>\n",
       "\t<li>ouvrier</li>\n",
       "\t<li>sans emploi</li>\n",
       "\t<li>ouvrier</li>\n",
       "\t<li>employé</li>\n",
       "\t<li>autre</li>\n",
       "\t<li>autre</li>\n",
       "\t<li>sans emploi</li>\n",
       "\t<li>cadre</li>\n",
       "\t<li>ouvrier</li>\n",
       "\t<li>sans emploi</li>\n",
       "\t<li>ouvrier</li>\n",
       "\t<li>ouvrier</li>\n",
       "\t<li>sans emploi</li>\n",
       "\t<li>ouvrier</li>\n",
       "\t<li>cadre</li>\n",
       "\t<li>ouvrier</li>\n",
       "\t<li>ouvrier</li>\n",
       "\t<li>ouvrier</li>\n",
       "\t<li>sans emploi</li>\n",
       "\t<li>ouvrier</li>\n",
       "\t<li>prof.intermédiaire</li>\n",
       "\t<li>ouvrier</li>\n",
       "\t<li>employé</li>\n",
       "\t<li>autre</li>\n",
       "\t<li>sans emploi</li>\n",
       "\t<li>sans emploi</li>\n",
       "\t<li>ouvrier</li>\n",
       "\t<li>employé</li>\n",
       "\t<li>sans emploi</li>\n",
       "\t<li>agriculteur</li>\n",
       "\t<li>artisan</li>\n",
       "\t<li>sans emploi</li>\n",
       "\t<li>ouvrier</li>\n",
       "\t<li>sans emploi</li>\n",
       "\t<li>sans emploi</li>\n",
       "\t<li>ouvrier</li>\n",
       "\t<li>agriculteur</li>\n",
       "\t<li>sans emploi</li>\n",
       "\t<li>ouvrier</li>\n",
       "\t<li>sans emploi</li>\n",
       "\t<li>artisan</li>\n",
       "\t<li>sans emploi</li>\n",
       "\t<li>ouvrier</li>\n",
       "\t<li>ouvrier</li>\n",
       "\t<li>sans emploi</li>\n",
       "\t<li>ouvrier</li>\n",
       "\t<li>employé</li>\n",
       "\t<li>sans emploi</li>\n",
       "\t<li>sans emploi</li>\n",
       "\t<li>artisan</li>\n",
       "\t<li>artisan</li>\n",
       "\t<li>ouvrier</li>\n",
       "\t<li>ouvrier</li>\n",
       "\t<li>ouvrier</li>\n",
       "\t<li>ouvrier</li>\n",
       "\t<li>ouvrier</li>\n",
       "\t<li>ouvrier</li>\n",
       "\t<li>sans emploi</li>\n",
       "\t<li>employé</li>\n",
       "\t<li>ouvrier</li>\n",
       "\t<li>sans emploi</li>\n",
       "\t<li>sans emploi</li>\n",
       "\t<li>sans emploi</li>\n",
       "\t<li>sans emploi</li>\n",
       "\t<li>ouvrier</li>\n",
       "\t<li>ouvrier</li>\n",
       "\t<li>ouvrier</li>\n",
       "\t<li>ouvrier</li>\n",
       "\t<li>cadre</li>\n",
       "\t<li>autre</li>\n",
       "\t<li>ouvrier</li>\n",
       "\t<li>artisan</li>\n",
       "\t<li>sans emploi</li>\n",
       "\t<li>prof.intermédiaire</li>\n",
       "\t<li>artisan</li>\n",
       "\t<li>prof.intermédiaire</li>\n",
       "\t<li>artisan</li>\n",
       "\t<li>artisan</li>\n",
       "\t<li>ouvrier</li>\n",
       "\t<li>autre</li>\n",
       "\t<li>employé</li>\n",
       "\t<li>autre</li>\n",
       "\t<li>artisan</li>\n",
       "\t<li>sans emploi</li>\n",
       "\t<li>agriculteur</li>\n",
       "\t<li>artisan</li>\n",
       "\t<li>artisan</li>\n",
       "\t<li>agriculteur</li>\n",
       "\t<li>autre</li>\n",
       "\t<li>employé</li>\n",
       "\t<li>sans emploi</li>\n",
       "\t<li>ouvrier</li>\n",
       "\t<li>sans emploi</li>\n",
       "\t<li>sans emploi</li>\n",
       "\t<li>sans emploi</li>\n",
       "\t<li>artisan</li>\n",
       "\t<li>artisan</li>\n",
       "\t<li>ouvrier</li>\n",
       "\t<li>cadre</li>\n",
       "\t<li>sans emploi</li>\n",
       "\t<li>employé</li>\n",
       "\t<li>employé</li>\n",
       "\t<li>employé</li>\n",
       "\t<li>ouvrier</li>\n",
       "\t<li>artisan</li>\n",
       "\t<li>artisan</li>\n",
       "\t<li>employé</li>\n",
       "\t<li>ouvrier</li>\n",
       "\t<li>sans emploi</li>\n",
       "\t<li>prof.intermédiaire</li>\n",
       "\t<li>ouvrier</li>\n",
       "\t<li>autre</li>\n",
       "\t<li>ouvrier</li>\n",
       "\t<li>ouvrier</li>\n",
       "\t<li>prof.intermédiaire</li>\n",
       "\t<li>sans emploi</li>\n",
       "\t<li>artisan</li>\n",
       "\t<li>employé</li>\n",
       "\t<li>employé</li>\n",
       "\t<li>employé</li>\n",
       "\t<li>employé</li>\n",
       "\t<li>cadre</li>\n",
       "\t<li>employé</li>\n",
       "\t<li>artisan</li>\n",
       "\t<li>prof.intermédiaire</li>\n",
       "\t<li>artisan</li>\n",
       "\t<li>sans emploi</li>\n",
       "\t<li>employé</li>\n",
       "\t<li>employé</li>\n",
       "\t<li>artisan</li>\n",
       "\t<li>sans emploi</li>\n",
       "\t<li>artisan</li>\n",
       "\t<li>prof.intermédiaire</li>\n",
       "\t<li>autre</li>\n",
       "\t<li>sans emploi</li>\n",
       "\t<li>employé</li>\n",
       "\t<li>employé</li>\n",
       "\t<li>prof.intermédiaire</li>\n",
       "\t<li>employé</li>\n",
       "\t<li>sans emploi</li>\n",
       "\t<li>ouvrier</li>\n",
       "\t<li>cadre</li>\n",
       "\t<li>cadre</li>\n",
       "\t<li>sans emploi</li>\n",
       "\t<li>ouvrier</li>\n",
       "\t<li>sans emploi</li>\n",
       "\t<li>employé</li>\n",
       "\t<li>sans emploi</li>\n",
       "\t<li>employé</li>\n",
       "\t<li>sans emploi</li>\n",
       "\t<li>sans emploi</li>\n",
       "\t<li>employé</li>\n",
       "\t<li>employé</li>\n",
       "\t<li>employé</li>\n",
       "\t<li>sans emploi</li>\n",
       "\t<li>sans emploi</li>\n",
       "\t<li>artisan</li>\n",
       "\t<li>prof.intermédiaire</li>\n",
       "\t<li>prof.intermédiaire</li>\n",
       "\t<li>ouvrier</li>\n",
       "\t<li>autre</li>\n",
       "\t<li>ouvrier</li>\n",
       "\t<li>ouvrier</li>\n",
       "\t<li>ouvrier</li>\n",
       "\t<li>employé</li>\n",
       "\t<li>employé</li>\n",
       "\t<li>ouvrier</li>\n",
       "\t<li>ouvrier</li>\n",
       "\t<li>ouvrier</li>\n",
       "\t<li>sans emploi</li>\n",
       "\t<li>sans emploi</li>\n",
       "\t<li>ouvrier</li>\n",
       "\t<li>sans emploi</li>\n",
       "\t<li>employé</li>\n",
       "\t<li>sans emploi</li>\n",
       "\t<li>sans emploi</li>\n",
       "\t<li>artisan</li>\n",
       "\t<li>ouvrier</li>\n",
       "\t<li>ouvrier</li>\n",
       "\t<li>sans emploi</li>\n",
       "\t<li>sans emploi</li>\n",
       "\t<li>employé</li>\n",
       "\t<li>ouvrier</li>\n",
       "\t<li>ouvrier</li>\n",
       "\t<li>ouvrier</li>\n",
       "\t<li>autre</li>\n",
       "\t<li>ouvrier</li>\n",
       "\t<li>ouvrier</li>\n",
       "\t<li>ouvrier</li>\n",
       "\t<li>ouvrier</li>\n",
       "\t<li>sans emploi</li>\n",
       "\t<li>employé</li>\n",
       "\t<li>sans emploi</li>\n",
       "\t<li>ouvrier</li>\n",
       "\t<li>artisan</li>\n",
       "\t<li>prof.intermédiaire</li>\n",
       "\t<li>sans emploi</li>\n",
       "\t<li>ouvrier</li>\n",
       "\t<li>ouvrier</li>\n",
       "\t<li>sans emploi</li>\n",
       "\t<li>employé</li>\n",
       "\t<li>sans emploi</li>\n",
       "\t<li>employé</li>\n",
       "\t<li>prof.intermédiaire</li>\n",
       "\t<li>employé</li>\n",
       "\t<li>ouvrier</li>\n",
       "\t<li>employé</li>\n",
       "\t<li>ouvrier</li>\n",
       "\t<li>cadre</li>\n",
       "\t<li>ouvrier</li>\n",
       "\t<li>sans emploi</li>\n",
       "\t<li>ouvrier</li>\n",
       "\t<li>ouvrier</li>\n",
       "\t<li>ouvrier</li>\n",
       "\t<li>prof.intermédiaire</li>\n",
       "\t<li>prof.intermédiaire</li>\n",
       "\t<li>employé</li>\n",
       "\t<li>sans emploi</li>\n",
       "\t<li>sans emploi</li>\n",
       "\t<li>employé</li>\n",
       "\t<li>employé</li>\n",
       "\t<li>sans emploi</li>\n",
       "\t<li>sans emploi</li>\n",
       "\t<li>sans emploi</li>\n",
       "\t<li>employé</li>\n",
       "\t<li>ouvrier</li>\n",
       "\t<li>ouvrier</li>\n",
       "\t<li>artisan</li>\n",
       "\t<li>ouvrier</li>\n",
       "\t<li>employé</li>\n",
       "\t<li>ouvrier</li>\n",
       "\t<li>employé</li>\n",
       "\t<li>ouvrier</li>\n",
       "\t<li>sans emploi</li>\n",
       "\t<li>ouvrier</li>\n",
       "\t<li>sans emploi</li>\n",
       "\t<li>employé</li>\n",
       "\t<li>sans emploi</li>\n",
       "\t<li>ouvrier</li>\n",
       "\t<li>ouvrier</li>\n",
       "\t<li>prof.intermédiaire</li>\n",
       "\t<li>ouvrier</li>\n",
       "\t<li>ouvrier</li>\n",
       "\t<li>ouvrier</li>\n",
       "\t<li>autre</li>\n",
       "\t<li>artisan</li>\n",
       "\t<li>sans emploi</li>\n",
       "\t<li>employé</li>\n",
       "\t<li>sans emploi</li>\n",
       "\t<li>employé</li>\n",
       "\t<li>autre</li>\n",
       "\t<li>ouvrier</li>\n",
       "\t<li>ouvrier</li>\n",
       "\t<li>sans emploi</li>\n",
       "\t<li>ouvrier</li>\n",
       "\t<li>sans emploi</li>\n",
       "\t<li>employé</li>\n",
       "\t<li>sans emploi</li>\n",
       "\t<li>sans emploi</li>\n",
       "\t<li>sans emploi</li>\n",
       "\t<li>sans emploi</li>\n",
       "\t<li>sans emploi</li>\n",
       "\t<li>employé</li>\n",
       "\t<li>sans emploi</li>\n",
       "\t<li>sans emploi</li>\n",
       "\t<li>sans emploi</li>\n",
       "\t<li>ouvrier</li>\n",
       "\t<li>ouvrier</li>\n",
       "\t<li>ouvrier</li>\n",
       "\t<li>sans emploi</li>\n",
       "\t<li>sans emploi</li>\n",
       "\t<li>sans emploi</li>\n",
       "\t<li>sans emploi</li>\n",
       "\t<li>sans emploi</li>\n",
       "\t<li>sans emploi</li>\n",
       "\t<li>employé</li>\n",
       "\t<li>employé</li>\n",
       "\t<li>sans emploi</li>\n",
       "\t<li>sans emploi</li>\n",
       "\t<li>sans emploi</li>\n",
       "\t<li>ouvrier</li>\n",
       "\t<li>sans emploi</li>\n",
       "\t<li>sans emploi</li>\n",
       "\t<li>sans emploi</li>\n",
       "\t<li>sans emploi</li>\n",
       "\t<li>autre</li>\n",
       "\t<li>prof.intermédiaire</li>\n",
       "\t<li>sans emploi</li>\n",
       "\t<li>autre</li>\n",
       "\t<li>ouvrier</li>\n",
       "\t<li>sans emploi</li>\n",
       "\t<li>ouvrier</li>\n",
       "\t<li>ouvrier</li>\n",
       "\t<li>prof.intermédiaire</li>\n",
       "\t<li>sans emploi</li>\n",
       "\t<li>autre</li>\n",
       "\t<li>ouvrier</li>\n",
       "\t<li>artisan</li>\n",
       "\t<li>employé</li>\n",
       "\t<li>sans emploi</li>\n",
       "\t<li>cadre</li>\n",
       "\t<li>ouvrier</li>\n",
       "\t<li>employé</li>\n",
       "\t<li>employé</li>\n",
       "\t<li>prof.intermédiaire</li>\n",
       "\t<li>autre</li>\n",
       "\t<li>sans emploi</li>\n",
       "\t<li>employé</li>\n",
       "\t<li>artisan</li>\n",
       "\t<li>ouvrier</li>\n",
       "\t<li>employé</li>\n",
       "\t<li>sans emploi</li>\n",
       "\t<li>cadre</li>\n",
       "\t<li>prof.intermédiaire</li>\n",
       "\t<li>employé</li>\n",
       "\t<li>sans emploi</li>\n",
       "\t<li>cadre</li>\n",
       "\t<li>sans emploi</li>\n",
       "\t<li>employé</li>\n",
       "\t<li>ouvrier</li>\n",
       "\t<li>artisan</li>\n",
       "\t<li>autre</li>\n",
       "\t<li>sans emploi</li>\n",
       "\t<li>employé</li>\n",
       "\t<li>artisan</li>\n",
       "\t<li>ouvrier</li>\n",
       "\t<li>ouvrier</li>\n",
       "\t<li>ouvrier</li>\n",
       "\t<li>employé</li>\n",
       "\t<li>cadre</li>\n",
       "\t<li>prof.intermédiaire</li>\n",
       "\t<li>prof.intermédiaire</li>\n",
       "\t<li>sans emploi</li>\n",
       "\t<li>artisan</li>\n",
       "\t<li>artisan</li>\n",
       "\t<li>sans emploi</li>\n",
       "\t<li>employé</li>\n",
       "\t<li>artisan</li>\n",
       "\t<li>artisan</li>\n",
       "\t<li>sans emploi</li>\n",
       "\t<li>prof.intermédiaire</li>\n",
       "\t<li>autre</li>\n",
       "\t<li>employé</li>\n",
       "\t<li>sans emploi</li>\n",
       "\t<li>ouvrier</li>\n",
       "\t<li>ouvrier</li>\n",
       "\t<li>ouvrier</li>\n",
       "\t<li>sans emploi</li>\n",
       "\t<li>ouvrier</li>\n",
       "\t<li>ouvrier</li>\n",
       "\t<li>ouvrier</li>\n",
       "\t<li>ouvrier</li>\n",
       "\t<li>sans emploi</li>\n",
       "\t<li>ouvrier</li>\n",
       "\t<li>employé</li>\n",
       "\t<li>ouvrier</li>\n",
       "\t<li>cadre</li>\n",
       "\t<li>cadre</li>\n",
       "\t<li>ouvrier</li>\n",
       "\t<li>ouvrier</li>\n",
       "\t<li>sans emploi</li>\n",
       "\t<li>artisan</li>\n",
       "\t<li>sans emploi</li>\n",
       "\t<li>artisan</li>\n",
       "\t<li>ouvrier</li>\n",
       "\t<li>ouvrier</li>\n",
       "\t<li>artisan</li>\n",
       "\t<li>ouvrier</li>\n",
       "\t<li>employé</li>\n",
       "\t<li>prof.intermédiaire</li>\n",
       "\t<li>&lt;NA&gt;</li>\n",
       "\t<li>artisan</li>\n",
       "\t<li>employé</li>\n",
       "\t<li>ouvrier</li>\n",
       "\t<li>ouvrier</li>\n",
       "\t<li>artisan</li>\n",
       "\t<li>ouvrier</li>\n",
       "\t<li>artisan</li>\n",
       "\t<li>ouvrier</li>\n",
       "\t<li>autre</li>\n",
       "\t<li>artisan</li>\n",
       "\t<li>artisan</li>\n",
       "\t<li>ouvrier</li>\n",
       "\t<li>prof.intermédiaire</li>\n",
       "\t<li>ouvrier</li>\n",
       "\t<li>ouvrier</li>\n",
       "\t<li>ouvrier</li>\n",
       "\t<li>employé</li>\n",
       "\t<li>prof.intermédiaire</li>\n",
       "\t<li>sans emploi</li>\n",
       "\t<li>artisan</li>\n",
       "\t<li>artisan</li>\n",
       "\t<li>ouvrier</li>\n",
       "\t<li>ouvrier</li>\n",
       "\t<li>prof.intermédiaire</li>\n",
       "\t<li>sans emploi</li>\n",
       "\t<li>prof.intermédiaire</li>\n",
       "\t<li>artisan</li>\n",
       "\t<li>sans emploi</li>\n",
       "\t<li>prof.intermédiaire</li>\n",
       "\t<li>artisan</li>\n",
       "\t<li>sans emploi</li>\n",
       "\t<li>ouvrier</li>\n",
       "\t<li>employé</li>\n",
       "\t<li>employé</li>\n",
       "\t<li>sans emploi</li>\n",
       "\t<li>sans emploi</li>\n",
       "\t<li>ouvrier</li>\n",
       "\t<li>artisan</li>\n",
       "\t<li>employé</li>\n",
       "\t<li>sans emploi</li>\n",
       "\t<li>sans emploi</li>\n",
       "\t<li>prof.intermédiaire</li>\n",
       "\t<li>employé</li>\n",
       "\t<li>sans emploi</li>\n",
       "\t<li>sans emploi</li>\n",
       "\t<li>cadre</li>\n",
       "\t<li>sans emploi</li>\n",
       "\t<li>artisan</li>\n",
       "\t<li>ouvrier</li>\n",
       "\t<li>artisan</li>\n",
       "\t<li>sans emploi</li>\n",
       "\t<li>sans emploi</li>\n",
       "\t<li>sans emploi</li>\n",
       "\t<li>ouvrier</li>\n",
       "\t<li>sans emploi</li>\n",
       "\t<li>sans emploi</li>\n",
       "\t<li>sans emploi</li>\n",
       "\t<li>sans emploi</li>\n",
       "\t<li>sans emploi</li>\n",
       "\t<li>artisan</li>\n",
       "\t<li>ouvrier</li>\n",
       "\t<li>autre</li>\n",
       "\t<li>sans emploi</li>\n",
       "\t<li>sans emploi</li>\n",
       "\t<li>artisan</li>\n",
       "\t<li>ouvrier</li>\n",
       "\t<li>sans emploi</li>\n",
       "\t<li>ouvrier</li>\n",
       "\t<li>prof.intermédiaire</li>\n",
       "\t<li>sans emploi</li>\n",
       "\t<li>ouvrier</li>\n",
       "\t<li>cadre</li>\n",
       "\t<li>employé</li>\n",
       "\t<li>autre</li>\n",
       "</ol>\n",
       "\n",
       "<details>\n",
       "\t<summary style=display:list-item;cursor:pointer>\n",
       "\t\t<strong>Levels</strong>:\n",
       "\t</summary>\n",
       "\t<ol class=list-inline>\n",
       "\t\t<li>'agriculteur'</li>\n",
       "\t\t<li>'artisan'</li>\n",
       "\t\t<li>'autre'</li>\n",
       "\t\t<li>'cadre'</li>\n",
       "\t\t<li>'employé'</li>\n",
       "\t\t<li>'ouvrier'</li>\n",
       "\t\t<li>'prof.intermédiaire'</li>\n",
       "\t\t<li>'sans emploi'</li>\n",
       "\t</ol>\n",
       "</details>"
      ],
      "text/latex": [
       "\\begin{enumerate*}\n",
       "\\item autre\n",
       "\\item <NA>\n",
       "\\item prof.intermédiaire\n",
       "\\item ouvrier\n",
       "\\item sans emploi\n",
       "\\item ouvrier\n",
       "\\item autre\n",
       "\\item artisan\n",
       "\\item ouvrier\n",
       "\\item ouvrier\n",
       "\\item prof.intermédiaire\n",
       "\\item <NA>\n",
       "\\item employé\n",
       "\\item artisan\n",
       "\\item agriculteur\n",
       "\\item ouvrier\n",
       "\\item prof.intermédiaire\n",
       "\\item employé\n",
       "\\item <NA>\n",
       "\\item ouvrier\n",
       "\\item artisan\n",
       "\\item employé\n",
       "\\item sans emploi\n",
       "\\item employé\n",
       "\\item ouvrier\n",
       "\\item artisan\n",
       "\\item sans emploi\n",
       "\\item ouvrier\n",
       "\\item ouvrier\n",
       "\\item ouvrier\n",
       "\\item sans emploi\n",
       "\\item sans emploi\n",
       "\\item ouvrier\n",
       "\\item employé\n",
       "\\item prof.intermédiaire\n",
       "\\item ouvrier\n",
       "\\item autre\n",
       "\\item ouvrier\n",
       "\\item ouvrier\n",
       "\\item ouvrier\n",
       "\\item employé\n",
       "\\item ouvrier\n",
       "\\item ouvrier\n",
       "\\item employé\n",
       "\\item employé\n",
       "\\item prof.intermédiaire\n",
       "\\item autre\n",
       "\\item sans emploi\n",
       "\\item sans emploi\n",
       "\\item sans emploi\n",
       "\\item sans emploi\n",
       "\\item ouvrier\n",
       "\\item autre\n",
       "\\item sans emploi\n",
       "\\item sans emploi\n",
       "\\item prof.intermédiaire\n",
       "\\item ouvrier\n",
       "\\item prof.intermédiaire\n",
       "\\item ouvrier\n",
       "\\item sans emploi\n",
       "\\item prof.intermédiaire\n",
       "\\item sans emploi\n",
       "\\item prof.intermédiaire\n",
       "\\item sans emploi\n",
       "\\item prof.intermédiaire\n",
       "\\item sans emploi\n",
       "\\item artisan\n",
       "\\item ouvrier\n",
       "\\item cadre\n",
       "\\item sans emploi\n",
       "\\item autre\n",
       "\\item sans emploi\n",
       "\\item prof.intermédiaire\n",
       "\\item artisan\n",
       "\\item sans emploi\n",
       "\\item sans emploi\n",
       "\\item prof.intermédiaire\n",
       "\\item employé\n",
       "\\item employé\n",
       "\\item employé\n",
       "\\item employé\n",
       "\\item sans emploi\n",
       "\\item artisan\n",
       "\\item prof.intermédiaire\n",
       "\\item employé\n",
       "\\item sans emploi\n",
       "\\item prof.intermédiaire\n",
       "\\item prof.intermédiaire\n",
       "\\item ouvrier\n",
       "\\item sans emploi\n",
       "\\item ouvrier\n",
       "\\item prof.intermédiaire\n",
       "\\item employé\n",
       "\\item employé\n",
       "\\item artisan\n",
       "\\item sans emploi\n",
       "\\item prof.intermédiaire\n",
       "\\item prof.intermédiaire\n",
       "\\item ouvrier\n",
       "\\item sans emploi\n",
       "\\item artisan\n",
       "\\item prof.intermédiaire\n",
       "\\item ouvrier\n",
       "\\item ouvrier\n",
       "\\item sans emploi\n",
       "\\item sans emploi\n",
       "\\item sans emploi\n",
       "\\item ouvrier\n",
       "\\item ouvrier\n",
       "\\item sans emploi\n",
       "\\item ouvrier\n",
       "\\item ouvrier\n",
       "\\item employé\n",
       "\\item ouvrier\n",
       "\\item ouvrier\n",
       "\\item sans emploi\n",
       "\\item sans emploi\n",
       "\\item sans emploi\n",
       "\\item ouvrier\n",
       "\\item ouvrier\n",
       "\\item ouvrier\n",
       "\\item ouvrier\n",
       "\\item artisan\n",
       "\\item artisan\n",
       "\\item employé\n",
       "\\item ouvrier\n",
       "\\item ouvrier\n",
       "\\item sans emploi\n",
       "\\item employé\n",
       "\\item ouvrier\n",
       "\\item sans emploi\n",
       "\\item ouvrier\n",
       "\\item ouvrier\n",
       "\\item employé\n",
       "\\item sans emploi\n",
       "\\item artisan\n",
       "\\item autre\n",
       "\\item ouvrier\n",
       "\\item sans emploi\n",
       "\\item cadre\n",
       "\\item sans emploi\n",
       "\\item sans emploi\n",
       "\\item sans emploi\n",
       "\\item artisan\n",
       "\\item ouvrier\n",
       "\\item ouvrier\n",
       "\\item sans emploi\n",
       "\\item ouvrier\n",
       "\\item artisan\n",
       "\\item ouvrier\n",
       "\\item ouvrier\n",
       "\\item sans emploi\n",
       "\\item cadre\n",
       "\\item ouvrier\n",
       "\\item artisan\n",
       "\\item employé\n",
       "\\item employé\n",
       "\\item ouvrier\n",
       "\\item autre\n",
       "\\item sans emploi\n",
       "\\item sans emploi\n",
       "\\item employé\n",
       "\\item sans emploi\n",
       "\\item sans emploi\n",
       "\\item autre\n",
       "\\item sans emploi\n",
       "\\item sans emploi\n",
       "\\item employé\n",
       "\\item ouvrier\n",
       "\\item employé\n",
       "\\item employé\n",
       "\\item sans emploi\n",
       "\\item employé\n",
       "\\item ouvrier\n",
       "\\item employé\n",
       "\\item ouvrier\n",
       "\\item employé\n",
       "\\item employé\n",
       "\\item employé\n",
       "\\item ouvrier\n",
       "\\item ouvrier\n",
       "\\item artisan\n",
       "\\item prof.intermédiaire\n",
       "\\item employé\n",
       "\\item employé\n",
       "\\item ouvrier\n",
       "\\item cadre\n",
       "\\item employé\n",
       "\\item ouvrier\n",
       "\\item artisan\n",
       "\\item employé\n",
       "\\item ouvrier\n",
       "\\item ouvrier\n",
       "\\item ouvrier\n",
       "\\item sans emploi\n",
       "\\item prof.intermédiaire\n",
       "\\item employé\n",
       "\\item ouvrier\n",
       "\\item employé\n",
       "\\item artisan\n",
       "\\item sans emploi\n",
       "\\item sans emploi\n",
       "\\item sans emploi\n",
       "\\item artisan\n",
       "\\item sans emploi\n",
       "\\item sans emploi\n",
       "\\item ouvrier\n",
       "\\item artisan\n",
       "\\item ouvrier\n",
       "\\item employé\n",
       "\\item cadre\n",
       "\\item ouvrier\n",
       "\\item ouvrier\n",
       "\\item ouvrier\n",
       "\\item sans emploi\n",
       "\\item cadre\n",
       "\\item sans emploi\n",
       "\\item prof.intermédiaire\n",
       "\\item sans emploi\n",
       "\\item employé\n",
       "\\item sans emploi\n",
       "\\item artisan\n",
       "\\item artisan\n",
       "\\item employé\n",
       "\\item sans emploi\n",
       "\\item sans emploi\n",
       "\\item sans emploi\n",
       "\\item sans emploi\n",
       "\\item artisan\n",
       "\\item employé\n",
       "\\item ouvrier\n",
       "\\item employé\n",
       "\\item employé\n",
       "\\item employé\n",
       "\\item artisan\n",
       "\\item employé\n",
       "\\item ouvrier\n",
       "\\item employé\n",
       "\\item sans emploi\n",
       "\\item prof.intermédiaire\n",
       "\\item sans emploi\n",
       "\\item sans emploi\n",
       "\\item employé\n",
       "\\item ouvrier\n",
       "\\item employé\n",
       "\\item artisan\n",
       "\\item sans emploi\n",
       "\\item employé\n",
       "\\item prof.intermédiaire\n",
       "\\item cadre\n",
       "\\item prof.intermédiaire\n",
       "\\item sans emploi\n",
       "\\item employé\n",
       "\\item employé\n",
       "\\item ouvrier\n",
       "\\item sans emploi\n",
       "\\item employé\n",
       "\\item artisan\n",
       "\\item prof.intermédiaire\n",
       "\\item artisan\n",
       "\\item employé\n",
       "\\item sans emploi\n",
       "\\item ouvrier\n",
       "\\item sans emploi\n",
       "\\item artisan\n",
       "\\item ouvrier\n",
       "\\item artisan\n",
       "\\item employé\n",
       "\\item artisan\n",
       "\\item ouvrier\n",
       "\\item employé\n",
       "\\item employé\n",
       "\\item ouvrier\n",
       "\\item prof.intermédiaire\n",
       "\\item employé\n",
       "\\item ouvrier\n",
       "\\item employé\n",
       "\\item employé\n",
       "\\item artisan\n",
       "\\item employé\n",
       "\\item sans emploi\n",
       "\\item sans emploi\n",
       "\\item cadre\n",
       "\\item artisan\n",
       "\\item sans emploi\n",
       "\\item ouvrier\n",
       "\\item employé\n",
       "\\item prof.intermédiaire\n",
       "\\item ouvrier\n",
       "\\item ouvrier\n",
       "\\item sans emploi\n",
       "\\item ouvrier\n",
       "\\item artisan\n",
       "\\item sans emploi\n",
       "\\item sans emploi\n",
       "\\item ouvrier\n",
       "\\item employé\n",
       "\\item employé\n",
       "\\item sans emploi\n",
       "\\item sans emploi\n",
       "\\item ouvrier\n",
       "\\item ouvrier\n",
       "\\item sans emploi\n",
       "\\item sans emploi\n",
       "\\item artisan\n",
       "\\item sans emploi\n",
       "\\item employé\n",
       "\\item sans emploi\n",
       "\\item artisan\n",
       "\\item ouvrier\n",
       "\\item ouvrier\n",
       "\\item agriculteur\n",
       "\\item employé\n",
       "\\item ouvrier\n",
       "\\item ouvrier\n",
       "\\item employé\n",
       "\\item sans emploi\n",
       "\\item ouvrier\n",
       "\\item sans emploi\n",
       "\\item ouvrier\n",
       "\\item ouvrier\n",
       "\\item ouvrier\n",
       "\\item ouvrier\n",
       "\\item artisan\n",
       "\\item ouvrier\n",
       "\\item ouvrier\n",
       "\\item sans emploi\n",
       "\\item ouvrier\n",
       "\\item sans emploi\n",
       "\\item artisan\n",
       "\\item artisan\n",
       "\\item ouvrier\n",
       "\\item sans emploi\n",
       "\\item employé\n",
       "\\item sans emploi\n",
       "\\item sans emploi\n",
       "\\item <NA>\n",
       "\\item ouvrier\n",
       "\\item sans emploi\n",
       "\\item ouvrier\n",
       "\\item sans emploi\n",
       "\\item sans emploi\n",
       "\\item <NA>\n",
       "\\item artisan\n",
       "\\item ouvrier\n",
       "\\item ouvrier\n",
       "\\item sans emploi\n",
       "\\item ouvrier\n",
       "\\item sans emploi\n",
       "\\item ouvrier\n",
       "\\item sans emploi\n",
       "\\item artisan\n",
       "\\item employé\n",
       "\\item ouvrier\n",
       "\\item ouvrier\n",
       "\\item sans emploi\n",
       "\\item ouvrier\n",
       "\\item employé\n",
       "\\item autre\n",
       "\\item autre\n",
       "\\item sans emploi\n",
       "\\item cadre\n",
       "\\item ouvrier\n",
       "\\item sans emploi\n",
       "\\item ouvrier\n",
       "\\item ouvrier\n",
       "\\item sans emploi\n",
       "\\item ouvrier\n",
       "\\item cadre\n",
       "\\item ouvrier\n",
       "\\item ouvrier\n",
       "\\item ouvrier\n",
       "\\item sans emploi\n",
       "\\item ouvrier\n",
       "\\item prof.intermédiaire\n",
       "\\item ouvrier\n",
       "\\item employé\n",
       "\\item autre\n",
       "\\item sans emploi\n",
       "\\item sans emploi\n",
       "\\item ouvrier\n",
       "\\item employé\n",
       "\\item sans emploi\n",
       "\\item agriculteur\n",
       "\\item artisan\n",
       "\\item sans emploi\n",
       "\\item ouvrier\n",
       "\\item sans emploi\n",
       "\\item sans emploi\n",
       "\\item ouvrier\n",
       "\\item agriculteur\n",
       "\\item sans emploi\n",
       "\\item ouvrier\n",
       "\\item sans emploi\n",
       "\\item artisan\n",
       "\\item sans emploi\n",
       "\\item ouvrier\n",
       "\\item ouvrier\n",
       "\\item sans emploi\n",
       "\\item ouvrier\n",
       "\\item employé\n",
       "\\item sans emploi\n",
       "\\item sans emploi\n",
       "\\item artisan\n",
       "\\item artisan\n",
       "\\item ouvrier\n",
       "\\item ouvrier\n",
       "\\item ouvrier\n",
       "\\item ouvrier\n",
       "\\item ouvrier\n",
       "\\item ouvrier\n",
       "\\item sans emploi\n",
       "\\item employé\n",
       "\\item ouvrier\n",
       "\\item sans emploi\n",
       "\\item sans emploi\n",
       "\\item sans emploi\n",
       "\\item sans emploi\n",
       "\\item ouvrier\n",
       "\\item ouvrier\n",
       "\\item ouvrier\n",
       "\\item ouvrier\n",
       "\\item cadre\n",
       "\\item autre\n",
       "\\item ouvrier\n",
       "\\item artisan\n",
       "\\item sans emploi\n",
       "\\item prof.intermédiaire\n",
       "\\item artisan\n",
       "\\item prof.intermédiaire\n",
       "\\item artisan\n",
       "\\item artisan\n",
       "\\item ouvrier\n",
       "\\item autre\n",
       "\\item employé\n",
       "\\item autre\n",
       "\\item artisan\n",
       "\\item sans emploi\n",
       "\\item agriculteur\n",
       "\\item artisan\n",
       "\\item artisan\n",
       "\\item agriculteur\n",
       "\\item autre\n",
       "\\item employé\n",
       "\\item sans emploi\n",
       "\\item ouvrier\n",
       "\\item sans emploi\n",
       "\\item sans emploi\n",
       "\\item sans emploi\n",
       "\\item artisan\n",
       "\\item artisan\n",
       "\\item ouvrier\n",
       "\\item cadre\n",
       "\\item sans emploi\n",
       "\\item employé\n",
       "\\item employé\n",
       "\\item employé\n",
       "\\item ouvrier\n",
       "\\item artisan\n",
       "\\item artisan\n",
       "\\item employé\n",
       "\\item ouvrier\n",
       "\\item sans emploi\n",
       "\\item prof.intermédiaire\n",
       "\\item ouvrier\n",
       "\\item autre\n",
       "\\item ouvrier\n",
       "\\item ouvrier\n",
       "\\item prof.intermédiaire\n",
       "\\item sans emploi\n",
       "\\item artisan\n",
       "\\item employé\n",
       "\\item employé\n",
       "\\item employé\n",
       "\\item employé\n",
       "\\item cadre\n",
       "\\item employé\n",
       "\\item artisan\n",
       "\\item prof.intermédiaire\n",
       "\\item artisan\n",
       "\\item sans emploi\n",
       "\\item employé\n",
       "\\item employé\n",
       "\\item artisan\n",
       "\\item sans emploi\n",
       "\\item artisan\n",
       "\\item prof.intermédiaire\n",
       "\\item autre\n",
       "\\item sans emploi\n",
       "\\item employé\n",
       "\\item employé\n",
       "\\item prof.intermédiaire\n",
       "\\item employé\n",
       "\\item sans emploi\n",
       "\\item ouvrier\n",
       "\\item cadre\n",
       "\\item cadre\n",
       "\\item sans emploi\n",
       "\\item ouvrier\n",
       "\\item sans emploi\n",
       "\\item employé\n",
       "\\item sans emploi\n",
       "\\item employé\n",
       "\\item sans emploi\n",
       "\\item sans emploi\n",
       "\\item employé\n",
       "\\item employé\n",
       "\\item employé\n",
       "\\item sans emploi\n",
       "\\item sans emploi\n",
       "\\item artisan\n",
       "\\item prof.intermédiaire\n",
       "\\item prof.intermédiaire\n",
       "\\item ouvrier\n",
       "\\item autre\n",
       "\\item ouvrier\n",
       "\\item ouvrier\n",
       "\\item ouvrier\n",
       "\\item employé\n",
       "\\item employé\n",
       "\\item ouvrier\n",
       "\\item ouvrier\n",
       "\\item ouvrier\n",
       "\\item sans emploi\n",
       "\\item sans emploi\n",
       "\\item ouvrier\n",
       "\\item sans emploi\n",
       "\\item employé\n",
       "\\item sans emploi\n",
       "\\item sans emploi\n",
       "\\item artisan\n",
       "\\item ouvrier\n",
       "\\item ouvrier\n",
       "\\item sans emploi\n",
       "\\item sans emploi\n",
       "\\item employé\n",
       "\\item ouvrier\n",
       "\\item ouvrier\n",
       "\\item ouvrier\n",
       "\\item autre\n",
       "\\item ouvrier\n",
       "\\item ouvrier\n",
       "\\item ouvrier\n",
       "\\item ouvrier\n",
       "\\item sans emploi\n",
       "\\item employé\n",
       "\\item sans emploi\n",
       "\\item ouvrier\n",
       "\\item artisan\n",
       "\\item prof.intermédiaire\n",
       "\\item sans emploi\n",
       "\\item ouvrier\n",
       "\\item ouvrier\n",
       "\\item sans emploi\n",
       "\\item employé\n",
       "\\item sans emploi\n",
       "\\item employé\n",
       "\\item prof.intermédiaire\n",
       "\\item employé\n",
       "\\item ouvrier\n",
       "\\item employé\n",
       "\\item ouvrier\n",
       "\\item cadre\n",
       "\\item ouvrier\n",
       "\\item sans emploi\n",
       "\\item ouvrier\n",
       "\\item ouvrier\n",
       "\\item ouvrier\n",
       "\\item prof.intermédiaire\n",
       "\\item prof.intermédiaire\n",
       "\\item employé\n",
       "\\item sans emploi\n",
       "\\item sans emploi\n",
       "\\item employé\n",
       "\\item employé\n",
       "\\item sans emploi\n",
       "\\item sans emploi\n",
       "\\item sans emploi\n",
       "\\item employé\n",
       "\\item ouvrier\n",
       "\\item ouvrier\n",
       "\\item artisan\n",
       "\\item ouvrier\n",
       "\\item employé\n",
       "\\item ouvrier\n",
       "\\item employé\n",
       "\\item ouvrier\n",
       "\\item sans emploi\n",
       "\\item ouvrier\n",
       "\\item sans emploi\n",
       "\\item employé\n",
       "\\item sans emploi\n",
       "\\item ouvrier\n",
       "\\item ouvrier\n",
       "\\item prof.intermédiaire\n",
       "\\item ouvrier\n",
       "\\item ouvrier\n",
       "\\item ouvrier\n",
       "\\item autre\n",
       "\\item artisan\n",
       "\\item sans emploi\n",
       "\\item employé\n",
       "\\item sans emploi\n",
       "\\item employé\n",
       "\\item autre\n",
       "\\item ouvrier\n",
       "\\item ouvrier\n",
       "\\item sans emploi\n",
       "\\item ouvrier\n",
       "\\item sans emploi\n",
       "\\item employé\n",
       "\\item sans emploi\n",
       "\\item sans emploi\n",
       "\\item sans emploi\n",
       "\\item sans emploi\n",
       "\\item sans emploi\n",
       "\\item employé\n",
       "\\item sans emploi\n",
       "\\item sans emploi\n",
       "\\item sans emploi\n",
       "\\item ouvrier\n",
       "\\item ouvrier\n",
       "\\item ouvrier\n",
       "\\item sans emploi\n",
       "\\item sans emploi\n",
       "\\item sans emploi\n",
       "\\item sans emploi\n",
       "\\item sans emploi\n",
       "\\item sans emploi\n",
       "\\item employé\n",
       "\\item employé\n",
       "\\item sans emploi\n",
       "\\item sans emploi\n",
       "\\item sans emploi\n",
       "\\item ouvrier\n",
       "\\item sans emploi\n",
       "\\item sans emploi\n",
       "\\item sans emploi\n",
       "\\item sans emploi\n",
       "\\item autre\n",
       "\\item prof.intermédiaire\n",
       "\\item sans emploi\n",
       "\\item autre\n",
       "\\item ouvrier\n",
       "\\item sans emploi\n",
       "\\item ouvrier\n",
       "\\item ouvrier\n",
       "\\item prof.intermédiaire\n",
       "\\item sans emploi\n",
       "\\item autre\n",
       "\\item ouvrier\n",
       "\\item artisan\n",
       "\\item employé\n",
       "\\item sans emploi\n",
       "\\item cadre\n",
       "\\item ouvrier\n",
       "\\item employé\n",
       "\\item employé\n",
       "\\item prof.intermédiaire\n",
       "\\item autre\n",
       "\\item sans emploi\n",
       "\\item employé\n",
       "\\item artisan\n",
       "\\item ouvrier\n",
       "\\item employé\n",
       "\\item sans emploi\n",
       "\\item cadre\n",
       "\\item prof.intermédiaire\n",
       "\\item employé\n",
       "\\item sans emploi\n",
       "\\item cadre\n",
       "\\item sans emploi\n",
       "\\item employé\n",
       "\\item ouvrier\n",
       "\\item artisan\n",
       "\\item autre\n",
       "\\item sans emploi\n",
       "\\item employé\n",
       "\\item artisan\n",
       "\\item ouvrier\n",
       "\\item ouvrier\n",
       "\\item ouvrier\n",
       "\\item employé\n",
       "\\item cadre\n",
       "\\item prof.intermédiaire\n",
       "\\item prof.intermédiaire\n",
       "\\item sans emploi\n",
       "\\item artisan\n",
       "\\item artisan\n",
       "\\item sans emploi\n",
       "\\item employé\n",
       "\\item artisan\n",
       "\\item artisan\n",
       "\\item sans emploi\n",
       "\\item prof.intermédiaire\n",
       "\\item autre\n",
       "\\item employé\n",
       "\\item sans emploi\n",
       "\\item ouvrier\n",
       "\\item ouvrier\n",
       "\\item ouvrier\n",
       "\\item sans emploi\n",
       "\\item ouvrier\n",
       "\\item ouvrier\n",
       "\\item ouvrier\n",
       "\\item ouvrier\n",
       "\\item sans emploi\n",
       "\\item ouvrier\n",
       "\\item employé\n",
       "\\item ouvrier\n",
       "\\item cadre\n",
       "\\item cadre\n",
       "\\item ouvrier\n",
       "\\item ouvrier\n",
       "\\item sans emploi\n",
       "\\item artisan\n",
       "\\item sans emploi\n",
       "\\item artisan\n",
       "\\item ouvrier\n",
       "\\item ouvrier\n",
       "\\item artisan\n",
       "\\item ouvrier\n",
       "\\item employé\n",
       "\\item prof.intermédiaire\n",
       "\\item <NA>\n",
       "\\item artisan\n",
       "\\item employé\n",
       "\\item ouvrier\n",
       "\\item ouvrier\n",
       "\\item artisan\n",
       "\\item ouvrier\n",
       "\\item artisan\n",
       "\\item ouvrier\n",
       "\\item autre\n",
       "\\item artisan\n",
       "\\item artisan\n",
       "\\item ouvrier\n",
       "\\item prof.intermédiaire\n",
       "\\item ouvrier\n",
       "\\item ouvrier\n",
       "\\item ouvrier\n",
       "\\item employé\n",
       "\\item prof.intermédiaire\n",
       "\\item sans emploi\n",
       "\\item artisan\n",
       "\\item artisan\n",
       "\\item ouvrier\n",
       "\\item ouvrier\n",
       "\\item prof.intermédiaire\n",
       "\\item sans emploi\n",
       "\\item prof.intermédiaire\n",
       "\\item artisan\n",
       "\\item sans emploi\n",
       "\\item prof.intermédiaire\n",
       "\\item artisan\n",
       "\\item sans emploi\n",
       "\\item ouvrier\n",
       "\\item employé\n",
       "\\item employé\n",
       "\\item sans emploi\n",
       "\\item sans emploi\n",
       "\\item ouvrier\n",
       "\\item artisan\n",
       "\\item employé\n",
       "\\item sans emploi\n",
       "\\item sans emploi\n",
       "\\item prof.intermédiaire\n",
       "\\item employé\n",
       "\\item sans emploi\n",
       "\\item sans emploi\n",
       "\\item cadre\n",
       "\\item sans emploi\n",
       "\\item artisan\n",
       "\\item ouvrier\n",
       "\\item artisan\n",
       "\\item sans emploi\n",
       "\\item sans emploi\n",
       "\\item sans emploi\n",
       "\\item ouvrier\n",
       "\\item sans emploi\n",
       "\\item sans emploi\n",
       "\\item sans emploi\n",
       "\\item sans emploi\n",
       "\\item sans emploi\n",
       "\\item artisan\n",
       "\\item ouvrier\n",
       "\\item autre\n",
       "\\item sans emploi\n",
       "\\item sans emploi\n",
       "\\item artisan\n",
       "\\item ouvrier\n",
       "\\item sans emploi\n",
       "\\item ouvrier\n",
       "\\item prof.intermédiaire\n",
       "\\item sans emploi\n",
       "\\item ouvrier\n",
       "\\item cadre\n",
       "\\item employé\n",
       "\\item autre\n",
       "\\end{enumerate*}\n",
       "\n",
       "\\emph{Levels}: \\begin{enumerate*}\n",
       "\\item 'agriculteur'\n",
       "\\item 'artisan'\n",
       "\\item 'autre'\n",
       "\\item 'cadre'\n",
       "\\item 'employé'\n",
       "\\item 'ouvrier'\n",
       "\\item 'prof.intermédiaire'\n",
       "\\item 'sans emploi'\n",
       "\\end{enumerate*}\n"
      ],
      "text/markdown": [
       "1. autre\n",
       "2. &lt;NA&gt;\n",
       "3. prof.intermédiaire\n",
       "4. ouvrier\n",
       "5. sans emploi\n",
       "6. ouvrier\n",
       "7. autre\n",
       "8. artisan\n",
       "9. ouvrier\n",
       "10. ouvrier\n",
       "11. prof.intermédiaire\n",
       "12. &lt;NA&gt;\n",
       "13. employé\n",
       "14. artisan\n",
       "15. agriculteur\n",
       "16. ouvrier\n",
       "17. prof.intermédiaire\n",
       "18. employé\n",
       "19. &lt;NA&gt;\n",
       "20. ouvrier\n",
       "21. artisan\n",
       "22. employé\n",
       "23. sans emploi\n",
       "24. employé\n",
       "25. ouvrier\n",
       "26. artisan\n",
       "27. sans emploi\n",
       "28. ouvrier\n",
       "29. ouvrier\n",
       "30. ouvrier\n",
       "31. sans emploi\n",
       "32. sans emploi\n",
       "33. ouvrier\n",
       "34. employé\n",
       "35. prof.intermédiaire\n",
       "36. ouvrier\n",
       "37. autre\n",
       "38. ouvrier\n",
       "39. ouvrier\n",
       "40. ouvrier\n",
       "41. employé\n",
       "42. ouvrier\n",
       "43. ouvrier\n",
       "44. employé\n",
       "45. employé\n",
       "46. prof.intermédiaire\n",
       "47. autre\n",
       "48. sans emploi\n",
       "49. sans emploi\n",
       "50. sans emploi\n",
       "51. sans emploi\n",
       "52. ouvrier\n",
       "53. autre\n",
       "54. sans emploi\n",
       "55. sans emploi\n",
       "56. prof.intermédiaire\n",
       "57. ouvrier\n",
       "58. prof.intermédiaire\n",
       "59. ouvrier\n",
       "60. sans emploi\n",
       "61. prof.intermédiaire\n",
       "62. sans emploi\n",
       "63. prof.intermédiaire\n",
       "64. sans emploi\n",
       "65. prof.intermédiaire\n",
       "66. sans emploi\n",
       "67. artisan\n",
       "68. ouvrier\n",
       "69. cadre\n",
       "70. sans emploi\n",
       "71. autre\n",
       "72. sans emploi\n",
       "73. prof.intermédiaire\n",
       "74. artisan\n",
       "75. sans emploi\n",
       "76. sans emploi\n",
       "77. prof.intermédiaire\n",
       "78. employé\n",
       "79. employé\n",
       "80. employé\n",
       "81. employé\n",
       "82. sans emploi\n",
       "83. artisan\n",
       "84. prof.intermédiaire\n",
       "85. employé\n",
       "86. sans emploi\n",
       "87. prof.intermédiaire\n",
       "88. prof.intermédiaire\n",
       "89. ouvrier\n",
       "90. sans emploi\n",
       "91. ouvrier\n",
       "92. prof.intermédiaire\n",
       "93. employé\n",
       "94. employé\n",
       "95. artisan\n",
       "96. sans emploi\n",
       "97. prof.intermédiaire\n",
       "98. prof.intermédiaire\n",
       "99. ouvrier\n",
       "100. sans emploi\n",
       "101. artisan\n",
       "102. prof.intermédiaire\n",
       "103. ouvrier\n",
       "104. ouvrier\n",
       "105. sans emploi\n",
       "106. sans emploi\n",
       "107. sans emploi\n",
       "108. ouvrier\n",
       "109. ouvrier\n",
       "110. sans emploi\n",
       "111. ouvrier\n",
       "112. ouvrier\n",
       "113. employé\n",
       "114. ouvrier\n",
       "115. ouvrier\n",
       "116. sans emploi\n",
       "117. sans emploi\n",
       "118. sans emploi\n",
       "119. ouvrier\n",
       "120. ouvrier\n",
       "121. ouvrier\n",
       "122. ouvrier\n",
       "123. artisan\n",
       "124. artisan\n",
       "125. employé\n",
       "126. ouvrier\n",
       "127. ouvrier\n",
       "128. sans emploi\n",
       "129. employé\n",
       "130. ouvrier\n",
       "131. sans emploi\n",
       "132. ouvrier\n",
       "133. ouvrier\n",
       "134. employé\n",
       "135. sans emploi\n",
       "136. artisan\n",
       "137. autre\n",
       "138. ouvrier\n",
       "139. sans emploi\n",
       "140. cadre\n",
       "141. sans emploi\n",
       "142. sans emploi\n",
       "143. sans emploi\n",
       "144. artisan\n",
       "145. ouvrier\n",
       "146. ouvrier\n",
       "147. sans emploi\n",
       "148. ouvrier\n",
       "149. artisan\n",
       "150. ouvrier\n",
       "151. ouvrier\n",
       "152. sans emploi\n",
       "153. cadre\n",
       "154. ouvrier\n",
       "155. artisan\n",
       "156. employé\n",
       "157. employé\n",
       "158. ouvrier\n",
       "159. autre\n",
       "160. sans emploi\n",
       "161. sans emploi\n",
       "162. employé\n",
       "163. sans emploi\n",
       "164. sans emploi\n",
       "165. autre\n",
       "166. sans emploi\n",
       "167. sans emploi\n",
       "168. employé\n",
       "169. ouvrier\n",
       "170. employé\n",
       "171. employé\n",
       "172. sans emploi\n",
       "173. employé\n",
       "174. ouvrier\n",
       "175. employé\n",
       "176. ouvrier\n",
       "177. employé\n",
       "178. employé\n",
       "179. employé\n",
       "180. ouvrier\n",
       "181. ouvrier\n",
       "182. artisan\n",
       "183. prof.intermédiaire\n",
       "184. employé\n",
       "185. employé\n",
       "186. ouvrier\n",
       "187. cadre\n",
       "188. employé\n",
       "189. ouvrier\n",
       "190. artisan\n",
       "191. employé\n",
       "192. ouvrier\n",
       "193. ouvrier\n",
       "194. ouvrier\n",
       "195. sans emploi\n",
       "196. prof.intermédiaire\n",
       "197. employé\n",
       "198. ouvrier\n",
       "199. employé\n",
       "200. artisan\n",
       "201. sans emploi\n",
       "202. sans emploi\n",
       "203. sans emploi\n",
       "204. artisan\n",
       "205. sans emploi\n",
       "206. sans emploi\n",
       "207. ouvrier\n",
       "208. artisan\n",
       "209. ouvrier\n",
       "210. employé\n",
       "211. cadre\n",
       "212. ouvrier\n",
       "213. ouvrier\n",
       "214. ouvrier\n",
       "215. sans emploi\n",
       "216. cadre\n",
       "217. sans emploi\n",
       "218. prof.intermédiaire\n",
       "219. sans emploi\n",
       "220. employé\n",
       "221. sans emploi\n",
       "222. artisan\n",
       "223. artisan\n",
       "224. employé\n",
       "225. sans emploi\n",
       "226. sans emploi\n",
       "227. sans emploi\n",
       "228. sans emploi\n",
       "229. artisan\n",
       "230. employé\n",
       "231. ouvrier\n",
       "232. employé\n",
       "233. employé\n",
       "234. employé\n",
       "235. artisan\n",
       "236. employé\n",
       "237. ouvrier\n",
       "238. employé\n",
       "239. sans emploi\n",
       "240. prof.intermédiaire\n",
       "241. sans emploi\n",
       "242. sans emploi\n",
       "243. employé\n",
       "244. ouvrier\n",
       "245. employé\n",
       "246. artisan\n",
       "247. sans emploi\n",
       "248. employé\n",
       "249. prof.intermédiaire\n",
       "250. cadre\n",
       "251. prof.intermédiaire\n",
       "252. sans emploi\n",
       "253. employé\n",
       "254. employé\n",
       "255. ouvrier\n",
       "256. sans emploi\n",
       "257. employé\n",
       "258. artisan\n",
       "259. prof.intermédiaire\n",
       "260. artisan\n",
       "261. employé\n",
       "262. sans emploi\n",
       "263. ouvrier\n",
       "264. sans emploi\n",
       "265. artisan\n",
       "266. ouvrier\n",
       "267. artisan\n",
       "268. employé\n",
       "269. artisan\n",
       "270. ouvrier\n",
       "271. employé\n",
       "272. employé\n",
       "273. ouvrier\n",
       "274. prof.intermédiaire\n",
       "275. employé\n",
       "276. ouvrier\n",
       "277. employé\n",
       "278. employé\n",
       "279. artisan\n",
       "280. employé\n",
       "281. sans emploi\n",
       "282. sans emploi\n",
       "283. cadre\n",
       "284. artisan\n",
       "285. sans emploi\n",
       "286. ouvrier\n",
       "287. employé\n",
       "288. prof.intermédiaire\n",
       "289. ouvrier\n",
       "290. ouvrier\n",
       "291. sans emploi\n",
       "292. ouvrier\n",
       "293. artisan\n",
       "294. sans emploi\n",
       "295. sans emploi\n",
       "296. ouvrier\n",
       "297. employé\n",
       "298. employé\n",
       "299. sans emploi\n",
       "300. sans emploi\n",
       "301. ouvrier\n",
       "302. ouvrier\n",
       "303. sans emploi\n",
       "304. sans emploi\n",
       "305. artisan\n",
       "306. sans emploi\n",
       "307. employé\n",
       "308. sans emploi\n",
       "309. artisan\n",
       "310. ouvrier\n",
       "311. ouvrier\n",
       "312. agriculteur\n",
       "313. employé\n",
       "314. ouvrier\n",
       "315. ouvrier\n",
       "316. employé\n",
       "317. sans emploi\n",
       "318. ouvrier\n",
       "319. sans emploi\n",
       "320. ouvrier\n",
       "321. ouvrier\n",
       "322. ouvrier\n",
       "323. ouvrier\n",
       "324. artisan\n",
       "325. ouvrier\n",
       "326. ouvrier\n",
       "327. sans emploi\n",
       "328. ouvrier\n",
       "329. sans emploi\n",
       "330. artisan\n",
       "331. artisan\n",
       "332. ouvrier\n",
       "333. sans emploi\n",
       "334. employé\n",
       "335. sans emploi\n",
       "336. sans emploi\n",
       "337. &lt;NA&gt;\n",
       "338. ouvrier\n",
       "339. sans emploi\n",
       "340. ouvrier\n",
       "341. sans emploi\n",
       "342. sans emploi\n",
       "343. &lt;NA&gt;\n",
       "344. artisan\n",
       "345. ouvrier\n",
       "346. ouvrier\n",
       "347. sans emploi\n",
       "348. ouvrier\n",
       "349. sans emploi\n",
       "350. ouvrier\n",
       "351. sans emploi\n",
       "352. artisan\n",
       "353. employé\n",
       "354. ouvrier\n",
       "355. ouvrier\n",
       "356. sans emploi\n",
       "357. ouvrier\n",
       "358. employé\n",
       "359. autre\n",
       "360. autre\n",
       "361. sans emploi\n",
       "362. cadre\n",
       "363. ouvrier\n",
       "364. sans emploi\n",
       "365. ouvrier\n",
       "366. ouvrier\n",
       "367. sans emploi\n",
       "368. ouvrier\n",
       "369. cadre\n",
       "370. ouvrier\n",
       "371. ouvrier\n",
       "372. ouvrier\n",
       "373. sans emploi\n",
       "374. ouvrier\n",
       "375. prof.intermédiaire\n",
       "376. ouvrier\n",
       "377. employé\n",
       "378. autre\n",
       "379. sans emploi\n",
       "380. sans emploi\n",
       "381. ouvrier\n",
       "382. employé\n",
       "383. sans emploi\n",
       "384. agriculteur\n",
       "385. artisan\n",
       "386. sans emploi\n",
       "387. ouvrier\n",
       "388. sans emploi\n",
       "389. sans emploi\n",
       "390. ouvrier\n",
       "391. agriculteur\n",
       "392. sans emploi\n",
       "393. ouvrier\n",
       "394. sans emploi\n",
       "395. artisan\n",
       "396. sans emploi\n",
       "397. ouvrier\n",
       "398. ouvrier\n",
       "399. sans emploi\n",
       "400. ouvrier\n",
       "401. employé\n",
       "402. sans emploi\n",
       "403. sans emploi\n",
       "404. artisan\n",
       "405. artisan\n",
       "406. ouvrier\n",
       "407. ouvrier\n",
       "408. ouvrier\n",
       "409. ouvrier\n",
       "410. ouvrier\n",
       "411. ouvrier\n",
       "412. sans emploi\n",
       "413. employé\n",
       "414. ouvrier\n",
       "415. sans emploi\n",
       "416. sans emploi\n",
       "417. sans emploi\n",
       "418. sans emploi\n",
       "419. ouvrier\n",
       "420. ouvrier\n",
       "421. ouvrier\n",
       "422. ouvrier\n",
       "423. cadre\n",
       "424. autre\n",
       "425. ouvrier\n",
       "426. artisan\n",
       "427. sans emploi\n",
       "428. prof.intermédiaire\n",
       "429. artisan\n",
       "430. prof.intermédiaire\n",
       "431. artisan\n",
       "432. artisan\n",
       "433. ouvrier\n",
       "434. autre\n",
       "435. employé\n",
       "436. autre\n",
       "437. artisan\n",
       "438. sans emploi\n",
       "439. agriculteur\n",
       "440. artisan\n",
       "441. artisan\n",
       "442. agriculteur\n",
       "443. autre\n",
       "444. employé\n",
       "445. sans emploi\n",
       "446. ouvrier\n",
       "447. sans emploi\n",
       "448. sans emploi\n",
       "449. sans emploi\n",
       "450. artisan\n",
       "451. artisan\n",
       "452. ouvrier\n",
       "453. cadre\n",
       "454. sans emploi\n",
       "455. employé\n",
       "456. employé\n",
       "457. employé\n",
       "458. ouvrier\n",
       "459. artisan\n",
       "460. artisan\n",
       "461. employé\n",
       "462. ouvrier\n",
       "463. sans emploi\n",
       "464. prof.intermédiaire\n",
       "465. ouvrier\n",
       "466. autre\n",
       "467. ouvrier\n",
       "468. ouvrier\n",
       "469. prof.intermédiaire\n",
       "470. sans emploi\n",
       "471. artisan\n",
       "472. employé\n",
       "473. employé\n",
       "474. employé\n",
       "475. employé\n",
       "476. cadre\n",
       "477. employé\n",
       "478. artisan\n",
       "479. prof.intermédiaire\n",
       "480. artisan\n",
       "481. sans emploi\n",
       "482. employé\n",
       "483. employé\n",
       "484. artisan\n",
       "485. sans emploi\n",
       "486. artisan\n",
       "487. prof.intermédiaire\n",
       "488. autre\n",
       "489. sans emploi\n",
       "490. employé\n",
       "491. employé\n",
       "492. prof.intermédiaire\n",
       "493. employé\n",
       "494. sans emploi\n",
       "495. ouvrier\n",
       "496. cadre\n",
       "497. cadre\n",
       "498. sans emploi\n",
       "499. ouvrier\n",
       "500. sans emploi\n",
       "501. employé\n",
       "502. sans emploi\n",
       "503. employé\n",
       "504. sans emploi\n",
       "505. sans emploi\n",
       "506. employé\n",
       "507. employé\n",
       "508. employé\n",
       "509. sans emploi\n",
       "510. sans emploi\n",
       "511. artisan\n",
       "512. prof.intermédiaire\n",
       "513. prof.intermédiaire\n",
       "514. ouvrier\n",
       "515. autre\n",
       "516. ouvrier\n",
       "517. ouvrier\n",
       "518. ouvrier\n",
       "519. employé\n",
       "520. employé\n",
       "521. ouvrier\n",
       "522. ouvrier\n",
       "523. ouvrier\n",
       "524. sans emploi\n",
       "525. sans emploi\n",
       "526. ouvrier\n",
       "527. sans emploi\n",
       "528. employé\n",
       "529. sans emploi\n",
       "530. sans emploi\n",
       "531. artisan\n",
       "532. ouvrier\n",
       "533. ouvrier\n",
       "534. sans emploi\n",
       "535. sans emploi\n",
       "536. employé\n",
       "537. ouvrier\n",
       "538. ouvrier\n",
       "539. ouvrier\n",
       "540. autre\n",
       "541. ouvrier\n",
       "542. ouvrier\n",
       "543. ouvrier\n",
       "544. ouvrier\n",
       "545. sans emploi\n",
       "546. employé\n",
       "547. sans emploi\n",
       "548. ouvrier\n",
       "549. artisan\n",
       "550. prof.intermédiaire\n",
       "551. sans emploi\n",
       "552. ouvrier\n",
       "553. ouvrier\n",
       "554. sans emploi\n",
       "555. employé\n",
       "556. sans emploi\n",
       "557. employé\n",
       "558. prof.intermédiaire\n",
       "559. employé\n",
       "560. ouvrier\n",
       "561. employé\n",
       "562. ouvrier\n",
       "563. cadre\n",
       "564. ouvrier\n",
       "565. sans emploi\n",
       "566. ouvrier\n",
       "567. ouvrier\n",
       "568. ouvrier\n",
       "569. prof.intermédiaire\n",
       "570. prof.intermédiaire\n",
       "571. employé\n",
       "572. sans emploi\n",
       "573. sans emploi\n",
       "574. employé\n",
       "575. employé\n",
       "576. sans emploi\n",
       "577. sans emploi\n",
       "578. sans emploi\n",
       "579. employé\n",
       "580. ouvrier\n",
       "581. ouvrier\n",
       "582. artisan\n",
       "583. ouvrier\n",
       "584. employé\n",
       "585. ouvrier\n",
       "586. employé\n",
       "587. ouvrier\n",
       "588. sans emploi\n",
       "589. ouvrier\n",
       "590. sans emploi\n",
       "591. employé\n",
       "592. sans emploi\n",
       "593. ouvrier\n",
       "594. ouvrier\n",
       "595. prof.intermédiaire\n",
       "596. ouvrier\n",
       "597. ouvrier\n",
       "598. ouvrier\n",
       "599. autre\n",
       "600. artisan\n",
       "601. sans emploi\n",
       "602. employé\n",
       "603. sans emploi\n",
       "604. employé\n",
       "605. autre\n",
       "606. ouvrier\n",
       "607. ouvrier\n",
       "608. sans emploi\n",
       "609. ouvrier\n",
       "610. sans emploi\n",
       "611. employé\n",
       "612. sans emploi\n",
       "613. sans emploi\n",
       "614. sans emploi\n",
       "615. sans emploi\n",
       "616. sans emploi\n",
       "617. employé\n",
       "618. sans emploi\n",
       "619. sans emploi\n",
       "620. sans emploi\n",
       "621. ouvrier\n",
       "622. ouvrier\n",
       "623. ouvrier\n",
       "624. sans emploi\n",
       "625. sans emploi\n",
       "626. sans emploi\n",
       "627. sans emploi\n",
       "628. sans emploi\n",
       "629. sans emploi\n",
       "630. employé\n",
       "631. employé\n",
       "632. sans emploi\n",
       "633. sans emploi\n",
       "634. sans emploi\n",
       "635. ouvrier\n",
       "636. sans emploi\n",
       "637. sans emploi\n",
       "638. sans emploi\n",
       "639. sans emploi\n",
       "640. autre\n",
       "641. prof.intermédiaire\n",
       "642. sans emploi\n",
       "643. autre\n",
       "644. ouvrier\n",
       "645. sans emploi\n",
       "646. ouvrier\n",
       "647. ouvrier\n",
       "648. prof.intermédiaire\n",
       "649. sans emploi\n",
       "650. autre\n",
       "651. ouvrier\n",
       "652. artisan\n",
       "653. employé\n",
       "654. sans emploi\n",
       "655. cadre\n",
       "656. ouvrier\n",
       "657. employé\n",
       "658. employé\n",
       "659. prof.intermédiaire\n",
       "660. autre\n",
       "661. sans emploi\n",
       "662. employé\n",
       "663. artisan\n",
       "664. ouvrier\n",
       "665. employé\n",
       "666. sans emploi\n",
       "667. cadre\n",
       "668. prof.intermédiaire\n",
       "669. employé\n",
       "670. sans emploi\n",
       "671. cadre\n",
       "672. sans emploi\n",
       "673. employé\n",
       "674. ouvrier\n",
       "675. artisan\n",
       "676. autre\n",
       "677. sans emploi\n",
       "678. employé\n",
       "679. artisan\n",
       "680. ouvrier\n",
       "681. ouvrier\n",
       "682. ouvrier\n",
       "683. employé\n",
       "684. cadre\n",
       "685. prof.intermédiaire\n",
       "686. prof.intermédiaire\n",
       "687. sans emploi\n",
       "688. artisan\n",
       "689. artisan\n",
       "690. sans emploi\n",
       "691. employé\n",
       "692. artisan\n",
       "693. artisan\n",
       "694. sans emploi\n",
       "695. prof.intermédiaire\n",
       "696. autre\n",
       "697. employé\n",
       "698. sans emploi\n",
       "699. ouvrier\n",
       "700. ouvrier\n",
       "701. ouvrier\n",
       "702. sans emploi\n",
       "703. ouvrier\n",
       "704. ouvrier\n",
       "705. ouvrier\n",
       "706. ouvrier\n",
       "707. sans emploi\n",
       "708. ouvrier\n",
       "709. employé\n",
       "710. ouvrier\n",
       "711. cadre\n",
       "712. cadre\n",
       "713. ouvrier\n",
       "714. ouvrier\n",
       "715. sans emploi\n",
       "716. artisan\n",
       "717. sans emploi\n",
       "718. artisan\n",
       "719. ouvrier\n",
       "720. ouvrier\n",
       "721. artisan\n",
       "722. ouvrier\n",
       "723. employé\n",
       "724. prof.intermédiaire\n",
       "725. &lt;NA&gt;\n",
       "726. artisan\n",
       "727. employé\n",
       "728. ouvrier\n",
       "729. ouvrier\n",
       "730. artisan\n",
       "731. ouvrier\n",
       "732. artisan\n",
       "733. ouvrier\n",
       "734. autre\n",
       "735. artisan\n",
       "736. artisan\n",
       "737. ouvrier\n",
       "738. prof.intermédiaire\n",
       "739. ouvrier\n",
       "740. ouvrier\n",
       "741. ouvrier\n",
       "742. employé\n",
       "743. prof.intermédiaire\n",
       "744. sans emploi\n",
       "745. artisan\n",
       "746. artisan\n",
       "747. ouvrier\n",
       "748. ouvrier\n",
       "749. prof.intermédiaire\n",
       "750. sans emploi\n",
       "751. prof.intermédiaire\n",
       "752. artisan\n",
       "753. sans emploi\n",
       "754. prof.intermédiaire\n",
       "755. artisan\n",
       "756. sans emploi\n",
       "757. ouvrier\n",
       "758. employé\n",
       "759. employé\n",
       "760. sans emploi\n",
       "761. sans emploi\n",
       "762. ouvrier\n",
       "763. artisan\n",
       "764. employé\n",
       "765. sans emploi\n",
       "766. sans emploi\n",
       "767. prof.intermédiaire\n",
       "768. employé\n",
       "769. sans emploi\n",
       "770. sans emploi\n",
       "771. cadre\n",
       "772. sans emploi\n",
       "773. artisan\n",
       "774. ouvrier\n",
       "775. artisan\n",
       "776. sans emploi\n",
       "777. sans emploi\n",
       "778. sans emploi\n",
       "779. ouvrier\n",
       "780. sans emploi\n",
       "781. sans emploi\n",
       "782. sans emploi\n",
       "783. sans emploi\n",
       "784. sans emploi\n",
       "785. artisan\n",
       "786. ouvrier\n",
       "787. autre\n",
       "788. sans emploi\n",
       "789. sans emploi\n",
       "790. artisan\n",
       "791. ouvrier\n",
       "792. sans emploi\n",
       "793. ouvrier\n",
       "794. prof.intermédiaire\n",
       "795. sans emploi\n",
       "796. ouvrier\n",
       "797. cadre\n",
       "798. employé\n",
       "799. autre\n",
       "\n",
       "\n",
       "\n",
       "**Levels**: 1. 'agriculteur'\n",
       "2. 'artisan'\n",
       "3. 'autre'\n",
       "4. 'cadre'\n",
       "5. 'employé'\n",
       "6. 'ouvrier'\n",
       "7. 'prof.intermédiaire'\n",
       "8. 'sans emploi'\n",
       "\n",
       "\n"
      ],
      "text/plain": [
       "  [1] autre              <NA>               prof.intermédiaire\n",
       "  [4] ouvrier            sans emploi        ouvrier           \n",
       "  [7] autre              artisan            ouvrier           \n",
       " [10] ouvrier            prof.intermédiaire <NA>              \n",
       " [13] employé            artisan            agriculteur       \n",
       " [16] ouvrier            prof.intermédiaire employé           \n",
       " [19] <NA>               ouvrier            artisan           \n",
       " [22] employé            sans emploi        employé           \n",
       " [25] ouvrier            artisan            sans emploi       \n",
       " [28] ouvrier            ouvrier            ouvrier           \n",
       " [31] sans emploi        sans emploi        ouvrier           \n",
       " [34] employé            prof.intermédiaire ouvrier           \n",
       " [37] autre              ouvrier            ouvrier           \n",
       " [40] ouvrier            employé            ouvrier           \n",
       " [43] ouvrier            employé            employé           \n",
       " [46] prof.intermédiaire autre              sans emploi       \n",
       " [49] sans emploi        sans emploi        sans emploi       \n",
       " [52] ouvrier            autre              sans emploi       \n",
       " [55] sans emploi        prof.intermédiaire ouvrier           \n",
       " [58] prof.intermédiaire ouvrier            sans emploi       \n",
       " [61] prof.intermédiaire sans emploi        prof.intermédiaire\n",
       " [64] sans emploi        prof.intermédiaire sans emploi       \n",
       " [67] artisan            ouvrier            cadre             \n",
       " [70] sans emploi        autre              sans emploi       \n",
       " [73] prof.intermédiaire artisan            sans emploi       \n",
       " [76] sans emploi        prof.intermédiaire employé           \n",
       " [79] employé            employé            employé           \n",
       " [82] sans emploi        artisan            prof.intermédiaire\n",
       " [85] employé            sans emploi        prof.intermédiaire\n",
       " [88] prof.intermédiaire ouvrier            sans emploi       \n",
       " [91] ouvrier            prof.intermédiaire employé           \n",
       " [94] employé            artisan            sans emploi       \n",
       " [97] prof.intermédiaire prof.intermédiaire ouvrier           \n",
       "[100] sans emploi        artisan            prof.intermédiaire\n",
       "[103] ouvrier            ouvrier            sans emploi       \n",
       "[106] sans emploi        sans emploi        ouvrier           \n",
       "[109] ouvrier            sans emploi        ouvrier           \n",
       "[112] ouvrier            employé            ouvrier           \n",
       "[115] ouvrier            sans emploi        sans emploi       \n",
       "[118] sans emploi        ouvrier            ouvrier           \n",
       "[121] ouvrier            ouvrier            artisan           \n",
       "[124] artisan            employé            ouvrier           \n",
       "[127] ouvrier            sans emploi        employé           \n",
       "[130] ouvrier            sans emploi        ouvrier           \n",
       "[133] ouvrier            employé            sans emploi       \n",
       "[136] artisan            autre              ouvrier           \n",
       "[139] sans emploi        cadre              sans emploi       \n",
       "[142] sans emploi        sans emploi        artisan           \n",
       "[145] ouvrier            ouvrier            sans emploi       \n",
       "[148] ouvrier            artisan            ouvrier           \n",
       "[151] ouvrier            sans emploi        cadre             \n",
       "[154] ouvrier            artisan            employé           \n",
       "[157] employé            ouvrier            autre             \n",
       "[160] sans emploi        sans emploi        employé           \n",
       "[163] sans emploi        sans emploi        autre             \n",
       "[166] sans emploi        sans emploi        employé           \n",
       "[169] ouvrier            employé            employé           \n",
       "[172] sans emploi        employé            ouvrier           \n",
       "[175] employé            ouvrier            employé           \n",
       "[178] employé            employé            ouvrier           \n",
       "[181] ouvrier            artisan            prof.intermédiaire\n",
       "[184] employé            employé            ouvrier           \n",
       "[187] cadre              employé            ouvrier           \n",
       "[190] artisan            employé            ouvrier           \n",
       "[193] ouvrier            ouvrier            sans emploi       \n",
       "[196] prof.intermédiaire employé            ouvrier           \n",
       "[199] employé            artisan            sans emploi       \n",
       "[202] sans emploi        sans emploi        artisan           \n",
       "[205] sans emploi        sans emploi        ouvrier           \n",
       "[208] artisan            ouvrier            employé           \n",
       "[211] cadre              ouvrier            ouvrier           \n",
       "[214] ouvrier            sans emploi        cadre             \n",
       "[217] sans emploi        prof.intermédiaire sans emploi       \n",
       "[220] employé            sans emploi        artisan           \n",
       "[223] artisan            employé            sans emploi       \n",
       "[226] sans emploi        sans emploi        sans emploi       \n",
       "[229] artisan            employé            ouvrier           \n",
       "[232] employé            employé            employé           \n",
       "[235] artisan            employé            ouvrier           \n",
       "[238] employé            sans emploi        prof.intermédiaire\n",
       "[241] sans emploi        sans emploi        employé           \n",
       "[244] ouvrier            employé            artisan           \n",
       "[247] sans emploi        employé            prof.intermédiaire\n",
       "[250] cadre              prof.intermédiaire sans emploi       \n",
       "[253] employé            employé            ouvrier           \n",
       "[256] sans emploi        employé            artisan           \n",
       "[259] prof.intermédiaire artisan            employé           \n",
       "[262] sans emploi        ouvrier            sans emploi       \n",
       "[265] artisan            ouvrier            artisan           \n",
       "[268] employé            artisan            ouvrier           \n",
       "[271] employé            employé            ouvrier           \n",
       "[274] prof.intermédiaire employé            ouvrier           \n",
       "[277] employé            employé            artisan           \n",
       "[280] employé            sans emploi        sans emploi       \n",
       "[283] cadre              artisan            sans emploi       \n",
       "[286] ouvrier            employé            prof.intermédiaire\n",
       "[289] ouvrier            ouvrier            sans emploi       \n",
       "[292] ouvrier            artisan            sans emploi       \n",
       "[295] sans emploi        ouvrier            employé           \n",
       "[298] employé            sans emploi        sans emploi       \n",
       "[301] ouvrier            ouvrier            sans emploi       \n",
       "[304] sans emploi        artisan            sans emploi       \n",
       "[307] employé            sans emploi        artisan           \n",
       "[310] ouvrier            ouvrier            agriculteur       \n",
       "[313] employé            ouvrier            ouvrier           \n",
       "[316] employé            sans emploi        ouvrier           \n",
       "[319] sans emploi        ouvrier            ouvrier           \n",
       "[322] ouvrier            ouvrier            artisan           \n",
       "[325] ouvrier            ouvrier            sans emploi       \n",
       "[328] ouvrier            sans emploi        artisan           \n",
       "[331] artisan            ouvrier            sans emploi       \n",
       "[334] employé            sans emploi        sans emploi       \n",
       "[337] <NA>               ouvrier            sans emploi       \n",
       "[340] ouvrier            sans emploi        sans emploi       \n",
       "[343] <NA>               artisan            ouvrier           \n",
       "[346] ouvrier            sans emploi        ouvrier           \n",
       "[349] sans emploi        ouvrier            sans emploi       \n",
       "[352] artisan            employé            ouvrier           \n",
       "[355] ouvrier            sans emploi        ouvrier           \n",
       "[358] employé            autre              autre             \n",
       "[361] sans emploi        cadre              ouvrier           \n",
       "[364] sans emploi        ouvrier            ouvrier           \n",
       "[367] sans emploi        ouvrier            cadre             \n",
       "[370] ouvrier            ouvrier            ouvrier           \n",
       "[373] sans emploi        ouvrier            prof.intermédiaire\n",
       "[376] ouvrier            employé            autre             \n",
       "[379] sans emploi        sans emploi        ouvrier           \n",
       "[382] employé            sans emploi        agriculteur       \n",
       "[385] artisan            sans emploi        ouvrier           \n",
       "[388] sans emploi        sans emploi        ouvrier           \n",
       "[391] agriculteur        sans emploi        ouvrier           \n",
       "[394] sans emploi        artisan            sans emploi       \n",
       "[397] ouvrier            ouvrier            sans emploi       \n",
       "[400] ouvrier            employé            sans emploi       \n",
       "[403] sans emploi        artisan            artisan           \n",
       "[406] ouvrier            ouvrier            ouvrier           \n",
       "[409] ouvrier            ouvrier            ouvrier           \n",
       "[412] sans emploi        employé            ouvrier           \n",
       "[415] sans emploi        sans emploi        sans emploi       \n",
       "[418] sans emploi        ouvrier            ouvrier           \n",
       "[421] ouvrier            ouvrier            cadre             \n",
       "[424] autre              ouvrier            artisan           \n",
       "[427] sans emploi        prof.intermédiaire artisan           \n",
       "[430] prof.intermédiaire artisan            artisan           \n",
       "[433] ouvrier            autre              employé           \n",
       "[436] autre              artisan            sans emploi       \n",
       "[439] agriculteur        artisan            artisan           \n",
       "[442] agriculteur        autre              employé           \n",
       "[445] sans emploi        ouvrier            sans emploi       \n",
       "[448] sans emploi        sans emploi        artisan           \n",
       "[451] artisan            ouvrier            cadre             \n",
       "[454] sans emploi        employé            employé           \n",
       "[457] employé            ouvrier            artisan           \n",
       "[460] artisan            employé            ouvrier           \n",
       "[463] sans emploi        prof.intermédiaire ouvrier           \n",
       "[466] autre              ouvrier            ouvrier           \n",
       "[469] prof.intermédiaire sans emploi        artisan           \n",
       "[472] employé            employé            employé           \n",
       "[475] employé            cadre              employé           \n",
       "[478] artisan            prof.intermédiaire artisan           \n",
       "[481] sans emploi        employé            employé           \n",
       "[484] artisan            sans emploi        artisan           \n",
       "[487] prof.intermédiaire autre              sans emploi       \n",
       "[490] employé            employé            prof.intermédiaire\n",
       "[493] employé            sans emploi        ouvrier           \n",
       "[496] cadre              cadre              sans emploi       \n",
       "[499] ouvrier            sans emploi        employé           \n",
       "[502] sans emploi        employé            sans emploi       \n",
       "[505] sans emploi        employé            employé           \n",
       "[508] employé            sans emploi        sans emploi       \n",
       "[511] artisan            prof.intermédiaire prof.intermédiaire\n",
       "[514] ouvrier            autre              ouvrier           \n",
       "[517] ouvrier            ouvrier            employé           \n",
       "[520] employé            ouvrier            ouvrier           \n",
       "[523] ouvrier            sans emploi        sans emploi       \n",
       "[526] ouvrier            sans emploi        employé           \n",
       "[529] sans emploi        sans emploi        artisan           \n",
       "[532] ouvrier            ouvrier            sans emploi       \n",
       "[535] sans emploi        employé            ouvrier           \n",
       "[538] ouvrier            ouvrier            autre             \n",
       "[541] ouvrier            ouvrier            ouvrier           \n",
       "[544] ouvrier            sans emploi        employé           \n",
       "[547] sans emploi        ouvrier            artisan           \n",
       "[550] prof.intermédiaire sans emploi        ouvrier           \n",
       "[553] ouvrier            sans emploi        employé           \n",
       "[556] sans emploi        employé            prof.intermédiaire\n",
       "[559] employé            ouvrier            employé           \n",
       "[562] ouvrier            cadre              ouvrier           \n",
       "[565] sans emploi        ouvrier            ouvrier           \n",
       "[568] ouvrier            prof.intermédiaire prof.intermédiaire\n",
       "[571] employé            sans emploi        sans emploi       \n",
       "[574] employé            employé            sans emploi       \n",
       "[577] sans emploi        sans emploi        employé           \n",
       "[580] ouvrier            ouvrier            artisan           \n",
       "[583] ouvrier            employé            ouvrier           \n",
       "[586] employé            ouvrier            sans emploi       \n",
       "[589] ouvrier            sans emploi        employé           \n",
       "[592] sans emploi        ouvrier            ouvrier           \n",
       "[595] prof.intermédiaire ouvrier            ouvrier           \n",
       "[598] ouvrier            autre              artisan           \n",
       "[601] sans emploi        employé            sans emploi       \n",
       "[604] employé            autre              ouvrier           \n",
       "[607] ouvrier            sans emploi        ouvrier           \n",
       "[610] sans emploi        employé            sans emploi       \n",
       "[613] sans emploi        sans emploi        sans emploi       \n",
       "[616] sans emploi        employé            sans emploi       \n",
       "[619] sans emploi        sans emploi        ouvrier           \n",
       "[622] ouvrier            ouvrier            sans emploi       \n",
       "[625] sans emploi        sans emploi        sans emploi       \n",
       "[628] sans emploi        sans emploi        employé           \n",
       "[631] employé            sans emploi        sans emploi       \n",
       "[634] sans emploi        ouvrier            sans emploi       \n",
       "[637] sans emploi        sans emploi        sans emploi       \n",
       "[640] autre              prof.intermédiaire sans emploi       \n",
       "[643] autre              ouvrier            sans emploi       \n",
       "[646] ouvrier            ouvrier            prof.intermédiaire\n",
       "[649] sans emploi        autre              ouvrier           \n",
       "[652] artisan            employé            sans emploi       \n",
       "[655] cadre              ouvrier            employé           \n",
       "[658] employé            prof.intermédiaire autre             \n",
       "[661] sans emploi        employé            artisan           \n",
       "[664] ouvrier            employé            sans emploi       \n",
       "[667] cadre              prof.intermédiaire employé           \n",
       "[670] sans emploi        cadre              sans emploi       \n",
       "[673] employé            ouvrier            artisan           \n",
       "[676] autre              sans emploi        employé           \n",
       "[679] artisan            ouvrier            ouvrier           \n",
       "[682] ouvrier            employé            cadre             \n",
       "[685] prof.intermédiaire prof.intermédiaire sans emploi       \n",
       "[688] artisan            artisan            sans emploi       \n",
       "[691] employé            artisan            artisan           \n",
       "[694] sans emploi        prof.intermédiaire autre             \n",
       "[697] employé            sans emploi        ouvrier           \n",
       "[700] ouvrier            ouvrier            sans emploi       \n",
       "[703] ouvrier            ouvrier            ouvrier           \n",
       "[706] ouvrier            sans emploi        ouvrier           \n",
       "[709] employé            ouvrier            cadre             \n",
       "[712] cadre              ouvrier            ouvrier           \n",
       "[715] sans emploi        artisan            sans emploi       \n",
       "[718] artisan            ouvrier            ouvrier           \n",
       "[721] artisan            ouvrier            employé           \n",
       "[724] prof.intermédiaire <NA>               artisan           \n",
       "[727] employé            ouvrier            ouvrier           \n",
       "[730] artisan            ouvrier            artisan           \n",
       "[733] ouvrier            autre              artisan           \n",
       "[736] artisan            ouvrier            prof.intermédiaire\n",
       "[739] ouvrier            ouvrier            ouvrier           \n",
       "[742] employé            prof.intermédiaire sans emploi       \n",
       "[745] artisan            artisan            ouvrier           \n",
       "[748] ouvrier            prof.intermédiaire sans emploi       \n",
       "[751] prof.intermédiaire artisan            sans emploi       \n",
       "[754] prof.intermédiaire artisan            sans emploi       \n",
       "[757] ouvrier            employé            employé           \n",
       "[760] sans emploi        sans emploi        ouvrier           \n",
       "[763] artisan            employé            sans emploi       \n",
       "[766] sans emploi        prof.intermédiaire employé           \n",
       "[769] sans emploi        sans emploi        cadre             \n",
       "[772] sans emploi        artisan            ouvrier           \n",
       "[775] artisan            sans emploi        sans emploi       \n",
       "[778] sans emploi        ouvrier            sans emploi       \n",
       "[781] sans emploi        sans emploi        sans emploi       \n",
       "[784] sans emploi        artisan            ouvrier           \n",
       "[787] autre              sans emploi        sans emploi       \n",
       "[790] artisan            ouvrier            sans emploi       \n",
       "[793] ouvrier            prof.intermédiaire sans emploi       \n",
       "[796] ouvrier            cadre              employé           \n",
       "[799] autre             \n",
       "8 Levels: agriculteur artisan autre cadre employé ... sans emploi"
      ]
     },
     "metadata": {},
     "output_type": "display_data"
    }
   ],
   "source": [
    "smplab$prof"
   ]
  },
  {
   "cell_type": "code",
   "execution_count": 7,
   "metadata": {},
   "outputs": [
    {
     "data": {
      "text/html": [
       "<ol class=list-inline>\n",
       "\t<li>31</li>\n",
       "\t<li>49</li>\n",
       "\t<li>50</li>\n",
       "\t<li>47</li>\n",
       "\t<li>23</li>\n",
       "\t<li>34</li>\n",
       "\t<li>24</li>\n",
       "\t<li>52</li>\n",
       "\t<li>42</li>\n",
       "\t<li>45</li>\n",
       "\t<li>31</li>\n",
       "\t<li>&lt;NA&gt;</li>\n",
       "\t<li>21</li>\n",
       "\t<li>40</li>\n",
       "\t<li>64</li>\n",
       "\t<li>67</li>\n",
       "\t<li>60</li>\n",
       "\t<li>63</li>\n",
       "\t<li>&lt;NA&gt;</li>\n",
       "\t<li>28</li>\n",
       "</ol>\n"
      ],
      "text/latex": [
       "\\begin{enumerate*}\n",
       "\\item 31\n",
       "\\item 49\n",
       "\\item 50\n",
       "\\item 47\n",
       "\\item 23\n",
       "\\item 34\n",
       "\\item 24\n",
       "\\item 52\n",
       "\\item 42\n",
       "\\item 45\n",
       "\\item 31\n",
       "\\item <NA>\n",
       "\\item 21\n",
       "\\item 40\n",
       "\\item 64\n",
       "\\item 67\n",
       "\\item 60\n",
       "\\item 63\n",
       "\\item <NA>\n",
       "\\item 28\n",
       "\\end{enumerate*}\n"
      ],
      "text/markdown": [
       "1. 31\n",
       "2. 49\n",
       "3. 50\n",
       "4. 47\n",
       "5. 23\n",
       "6. 34\n",
       "7. 24\n",
       "8. 52\n",
       "9. 42\n",
       "10. 45\n",
       "11. 31\n",
       "12. &lt;NA&gt;\n",
       "13. 21\n",
       "14. 40\n",
       "15. 64\n",
       "16. 67\n",
       "17. 60\n",
       "18. 63\n",
       "19. &lt;NA&gt;\n",
       "20. 28\n",
       "\n",
       "\n"
      ],
      "text/plain": [
       " [1] 31 49 50 47 23 34 24 52 42 45 31 NA 21 40 64 67 60 63 NA 28"
      ]
     },
     "metadata": {},
     "output_type": "display_data"
    }
   ],
   "source": [
    "# Affichage des 20 premières observations\n",
    "smplab$age[1:20]"
   ]
  },
  {
   "cell_type": "code",
   "execution_count": 8,
   "metadata": {},
   "outputs": [
    {
     "data": {
      "text/html": [
       "&lt;NA&gt;"
      ],
      "text/latex": [
       "<NA>"
      ],
      "text/markdown": [
       "&lt;NA&gt;"
      ],
      "text/plain": [
       "[1] NA"
      ]
     },
     "metadata": {},
     "output_type": "display_data"
    }
   ],
   "source": [
    "# Minimum de la série\n",
    "min(smplab$age)"
   ]
  },
  {
   "cell_type": "code",
   "execution_count": 9,
   "metadata": {},
   "outputs": [
    {
     "data": {
      "text/html": [
       "19"
      ],
      "text/latex": [
       "19"
      ],
      "text/markdown": [
       "19"
      ],
      "text/plain": [
       "[1] 19"
      ]
     },
     "metadata": {},
     "output_type": "display_data"
    }
   ],
   "source": [
    "min(smplab$age,na.rm=TRUE)  # Affichage du minimum sans valeur manquante"
   ]
  },
  {
   "cell_type": "code",
   "execution_count": 10,
   "metadata": {},
   "outputs": [
    {
     "data": {
      "text/html": [
       "<ol class=list-inline>\n",
       "\t<li>0</li>\n",
       "\t<li>0</li>\n",
       "\t<li>0</li>\n",
       "\t<li>0</li>\n",
       "\t<li>0</li>\n",
       "\t<li>0</li>\n",
       "\t<li>0</li>\n",
       "\t<li>0</li>\n",
       "\t<li>1</li>\n",
       "\t<li>1</li>\n",
       "\t<li>1</li>\n",
       "\t<li>&lt;NA&gt;</li>\n",
       "\t<li>0</li>\n",
       "\t<li>0</li>\n",
       "\t<li>0</li>\n",
       "\t<li>1</li>\n",
       "\t<li>1</li>\n",
       "\t<li>1</li>\n",
       "\t<li>&lt;NA&gt;</li>\n",
       "\t<li>0</li>\n",
       "</ol>\n"
      ],
      "text/latex": [
       "\\begin{enumerate*}\n",
       "\\item 0\n",
       "\\item 0\n",
       "\\item 0\n",
       "\\item 0\n",
       "\\item 0\n",
       "\\item 0\n",
       "\\item 0\n",
       "\\item 0\n",
       "\\item 1\n",
       "\\item 1\n",
       "\\item 1\n",
       "\\item <NA>\n",
       "\\item 0\n",
       "\\item 0\n",
       "\\item 0\n",
       "\\item 1\n",
       "\\item 1\n",
       "\\item 1\n",
       "\\item <NA>\n",
       "\\item 0\n",
       "\\end{enumerate*}\n"
      ],
      "text/markdown": [
       "1. 0\n",
       "2. 0\n",
       "3. 0\n",
       "4. 0\n",
       "5. 0\n",
       "6. 0\n",
       "7. 0\n",
       "8. 0\n",
       "9. 1\n",
       "10. 1\n",
       "11. 1\n",
       "12. &lt;NA&gt;\n",
       "13. 0\n",
       "14. 0\n",
       "15. 0\n",
       "16. 1\n",
       "17. 1\n",
       "18. 1\n",
       "19. &lt;NA&gt;\n",
       "20. 0\n",
       "\n",
       "\n"
      ],
      "text/plain": [
       " [1]  0  0  0  0  0  0  0  0  1  1  1 NA  0  0  0  1  1  1 NA  0"
      ]
     },
     "metadata": {},
     "output_type": "display_data"
    }
   ],
   "source": [
    "smplab$abus[1:20]"
   ]
  },
  {
   "cell_type": "code",
   "execution_count": 11,
   "metadata": {},
   "outputs": [
    {
     "data": {
      "text/html": [
       "<ol class=list-inline>\n",
       "\t<li>0</li>\n",
       "\t<li>1</li>\n",
       "\t<li>&lt;NA&gt;</li>\n",
       "</ol>\n"
      ],
      "text/latex": [
       "\\begin{enumerate*}\n",
       "\\item 0\n",
       "\\item 1\n",
       "\\item <NA>\n",
       "\\end{enumerate*}\n"
      ],
      "text/markdown": [
       "1. 0\n",
       "2. 1\n",
       "3. &lt;NA&gt;\n",
       "\n",
       "\n"
      ],
      "text/plain": [
       "[1]  0  1 NA"
      ]
     },
     "metadata": {},
     "output_type": "display_data"
    }
   ],
   "source": [
    "unique(smplab$abus)"
   ]
  },
  {
   "cell_type": "code",
   "execution_count": 12,
   "metadata": {},
   "outputs": [
    {
     "data": {
      "text/html": [
       "<ol class=list-inline>\n",
       "\t<li>autre</li>\n",
       "\t<li>&lt;NA&gt;</li>\n",
       "\t<li>prof.intermédiaire</li>\n",
       "\t<li>ouvrier</li>\n",
       "\t<li>sans emploi</li>\n",
       "\t<li>artisan</li>\n",
       "\t<li>employé</li>\n",
       "\t<li>agriculteur</li>\n",
       "\t<li>cadre</li>\n",
       "</ol>\n",
       "\n",
       "<details>\n",
       "\t<summary style=display:list-item;cursor:pointer>\n",
       "\t\t<strong>Levels</strong>:\n",
       "\t</summary>\n",
       "\t<ol class=list-inline>\n",
       "\t\t<li>'agriculteur'</li>\n",
       "\t\t<li>'artisan'</li>\n",
       "\t\t<li>'autre'</li>\n",
       "\t\t<li>'cadre'</li>\n",
       "\t\t<li>'employé'</li>\n",
       "\t\t<li>'ouvrier'</li>\n",
       "\t\t<li>'prof.intermédiaire'</li>\n",
       "\t\t<li>'sans emploi'</li>\n",
       "\t</ol>\n",
       "</details>"
      ],
      "text/latex": [
       "\\begin{enumerate*}\n",
       "\\item autre\n",
       "\\item <NA>\n",
       "\\item prof.intermédiaire\n",
       "\\item ouvrier\n",
       "\\item sans emploi\n",
       "\\item artisan\n",
       "\\item employé\n",
       "\\item agriculteur\n",
       "\\item cadre\n",
       "\\end{enumerate*}\n",
       "\n",
       "\\emph{Levels}: \\begin{enumerate*}\n",
       "\\item 'agriculteur'\n",
       "\\item 'artisan'\n",
       "\\item 'autre'\n",
       "\\item 'cadre'\n",
       "\\item 'employé'\n",
       "\\item 'ouvrier'\n",
       "\\item 'prof.intermédiaire'\n",
       "\\item 'sans emploi'\n",
       "\\end{enumerate*}\n"
      ],
      "text/markdown": [
       "1. autre\n",
       "2. &lt;NA&gt;\n",
       "3. prof.intermédiaire\n",
       "4. ouvrier\n",
       "5. sans emploi\n",
       "6. artisan\n",
       "7. employé\n",
       "8. agriculteur\n",
       "9. cadre\n",
       "\n",
       "\n",
       "\n",
       "**Levels**: 1. 'agriculteur'\n",
       "2. 'artisan'\n",
       "3. 'autre'\n",
       "4. 'cadre'\n",
       "5. 'employé'\n",
       "6. 'ouvrier'\n",
       "7. 'prof.intermédiaire'\n",
       "8. 'sans emploi'\n",
       "\n",
       "\n"
      ],
      "text/plain": [
       "[1] autre              <NA>               prof.intermédiaire ouvrier           \n",
       "[5] sans emploi        artisan            employé            agriculteur       \n",
       "[9] cadre             \n",
       "8 Levels: agriculteur artisan autre cadre employé ... sans emploi"
      ]
     },
     "metadata": {},
     "output_type": "display_data"
    }
   ],
   "source": [
    "unique(smplab$prof)      # affichage des modalités"
   ]
  },
  {
   "cell_type": "code",
   "execution_count": 13,
   "metadata": {},
   "outputs": [
    {
     "data": {
      "text/html": [
       "<ol class=list-inline>\n",
       "\t<li>0</li>\n",
       "\t<li>0</li>\n",
       "\t<li>0</li>\n",
       "\t<li>0</li>\n",
       "\t<li>0</li>\n",
       "\t<li>0</li>\n",
       "\t<li>0</li>\n",
       "\t<li>0</li>\n",
       "\t<li>1</li>\n",
       "\t<li>1</li>\n",
       "\t<li>1</li>\n",
       "\t<li>&lt;NA&gt;</li>\n",
       "\t<li>0</li>\n",
       "\t<li>0</li>\n",
       "\t<li>0</li>\n",
       "\t<li>1</li>\n",
       "\t<li>1</li>\n",
       "\t<li>1</li>\n",
       "\t<li>&lt;NA&gt;</li>\n",
       "\t<li>0</li>\n",
       "</ol>\n"
      ],
      "text/latex": [
       "\\begin{enumerate*}\n",
       "\\item 0\n",
       "\\item 0\n",
       "\\item 0\n",
       "\\item 0\n",
       "\\item 0\n",
       "\\item 0\n",
       "\\item 0\n",
       "\\item 0\n",
       "\\item 1\n",
       "\\item 1\n",
       "\\item 1\n",
       "\\item <NA>\n",
       "\\item 0\n",
       "\\item 0\n",
       "\\item 0\n",
       "\\item 1\n",
       "\\item 1\n",
       "\\item 1\n",
       "\\item <NA>\n",
       "\\item 0\n",
       "\\end{enumerate*}\n"
      ],
      "text/markdown": [
       "1. 0\n",
       "2. 0\n",
       "3. 0\n",
       "4. 0\n",
       "5. 0\n",
       "6. 0\n",
       "7. 0\n",
       "8. 0\n",
       "9. 1\n",
       "10. 1\n",
       "11. 1\n",
       "12. &lt;NA&gt;\n",
       "13. 0\n",
       "14. 0\n",
       "15. 0\n",
       "16. 1\n",
       "17. 1\n",
       "18. 1\n",
       "19. &lt;NA&gt;\n",
       "20. 0\n",
       "\n",
       "\n"
      ],
      "text/plain": [
       " [1]  0  0  0  0  0  0  0  0  1  1  1 NA  0  0  0  1  1  1 NA  0"
      ]
     },
     "metadata": {},
     "output_type": "display_data"
    }
   ],
   "source": [
    "head(smplab$abus,n=20)"
   ]
  },
  {
   "cell_type": "code",
   "execution_count": 14,
   "metadata": {},
   "outputs": [
    {
     "data": {
      "text/plain": [
       "\n",
       "  0   1 \n",
       "572 220 "
      ]
     },
     "metadata": {},
     "output_type": "display_data"
    }
   ],
   "source": [
    "table(smplab$abus)"
   ]
  },
  {
   "cell_type": "code",
   "execution_count": 15,
   "metadata": {},
   "outputs": [
    {
     "data": {
      "text/html": [
       "799"
      ],
      "text/latex": [
       "799"
      ],
      "text/markdown": [
       "799"
      ],
      "text/plain": [
       "[1] 799"
      ]
     },
     "metadata": {},
     "output_type": "display_data"
    }
   ],
   "source": [
    "length(smplab$abus)     # dimension de la variable"
   ]
  },
  {
   "cell_type": "code",
   "execution_count": 16,
   "metadata": {},
   "outputs": [
    {
     "data": {
      "text/html": [
       "799"
      ],
      "text/latex": [
       "799"
      ],
      "text/markdown": [
       "799"
      ],
      "text/plain": [
       "[1] 799"
      ]
     },
     "metadata": {},
     "output_type": "display_data"
    }
   ],
   "source": [
    "nrow(smplab)            # nombre de ligne de notre dataset"
   ]
  },
  {
   "cell_type": "code",
   "execution_count": 17,
   "metadata": {},
   "outputs": [
    {
     "data": {
      "text/plain": [
       "\n",
       "   0    1 <NA> \n",
       " 572  220    7 "
      ]
     },
     "metadata": {},
     "output_type": "display_data"
    }
   ],
   "source": [
    "table(smplab$abus, useNA='always') # pour prendre les données manquantes en compte."
   ]
  },
  {
   "cell_type": "code",
   "execution_count": 18,
   "metadata": {},
   "outputs": [
    {
     "data": {
      "text/plain": [
       "   Min. 1st Qu.  Median    Mean 3rd Qu.    Max.    NA's \n",
       " 0.0000  0.0000  0.0000  0.2778  1.0000  1.0000       7 "
      ]
     },
     "metadata": {},
     "output_type": "display_data"
    }
   ],
   "source": [
    "summary(smplab$abus)"
   ]
  },
  {
   "cell_type": "code",
   "execution_count": 19,
   "metadata": {},
   "outputs": [
    {
     "data": {
      "text/html": [
       "<ol class=list-inline>\n",
       "\t<li>0</li>\n",
       "\t<li>0</li>\n",
       "\t<li>0</li>\n",
       "\t<li>0</li>\n",
       "\t<li>0</li>\n",
       "\t<li>0</li>\n",
       "</ol>\n"
      ],
      "text/latex": [
       "\\begin{enumerate*}\n",
       "\\item 0\n",
       "\\item 0\n",
       "\\item 0\n",
       "\\item 0\n",
       "\\item 0\n",
       "\\item 0\n",
       "\\end{enumerate*}\n"
      ],
      "text/markdown": [
       "1. 0\n",
       "2. 0\n",
       "3. 0\n",
       "4. 0\n",
       "5. 0\n",
       "6. 0\n",
       "\n",
       "\n"
      ],
      "text/plain": [
       "[1] 0 0 0 0 0 0"
      ]
     },
     "metadata": {},
     "output_type": "display_data"
    }
   ],
   "source": [
    "head(smplab$abus)"
   ]
  },
  {
   "cell_type": "code",
   "execution_count": 20,
   "metadata": {},
   "outputs": [
    {
     "data": {
      "text/html": [
       "<ol class=list-inline>\n",
       "\t<li>0</li>\n",
       "\t<li>0</li>\n",
       "\t<li>0</li>\n",
       "\t<li>0</li>\n",
       "\t<li>0</li>\n",
       "\t<li>0</li>\n",
       "</ol>\n",
       "\n",
       "<details>\n",
       "\t<summary style=display:list-item;cursor:pointer>\n",
       "\t\t<strong>Levels</strong>:\n",
       "\t</summary>\n",
       "\t<ol class=list-inline>\n",
       "\t\t<li>'0'</li>\n",
       "\t\t<li>'1'</li>\n",
       "\t</ol>\n",
       "</details>"
      ],
      "text/latex": [
       "\\begin{enumerate*}\n",
       "\\item 0\n",
       "\\item 0\n",
       "\\item 0\n",
       "\\item 0\n",
       "\\item 0\n",
       "\\item 0\n",
       "\\end{enumerate*}\n",
       "\n",
       "\\emph{Levels}: \\begin{enumerate*}\n",
       "\\item '0'\n",
       "\\item '1'\n",
       "\\end{enumerate*}\n"
      ],
      "text/markdown": [
       "1. 0\n",
       "2. 0\n",
       "3. 0\n",
       "4. 0\n",
       "5. 0\n",
       "6. 0\n",
       "\n",
       "\n",
       "\n",
       "**Levels**: 1. '0'\n",
       "2. '1'\n",
       "\n",
       "\n"
      ],
      "text/plain": [
       "[1] 0 0 0 0 0 0\n",
       "Levels: 0 1"
      ]
     },
     "metadata": {},
     "output_type": "display_data"
    }
   ],
   "source": [
    "head(factor(smplab$abus))"
   ]
  },
  {
   "cell_type": "code",
   "execution_count": 22,
   "metadata": {},
   "outputs": [
    {
     "data": {
      "text/plain": [
       "abus\n",
       "Non Oui \n",
       "572 220 "
      ]
     },
     "metadata": {},
     "output_type": "display_data"
    }
   ],
   "source": [
    "# nous allons procéder à la création de la variable catégorielle abus\n",
    "abus <- factor(smplab$abus, levels=c(0,1), labels=c(\"Non\",\"Oui\"))\n",
    "table(abus)"
   ]
  },
  {
   "cell_type": "code",
   "execution_count": 23,
   "metadata": {},
   "outputs": [
    {
     "data": {
      "text/plain": [
       "abus\n",
       " Non  Oui <NA> \n",
       " 572  220    7 "
      ]
     },
     "metadata": {},
     "output_type": "display_data"
    }
   ],
   "source": [
    "table(abus,useNA=\"always\")"
   ]
  },
  {
   "cell_type": "code",
   "execution_count": 24,
   "metadata": {},
   "outputs": [
    {
     "data": {
      "text/html": [
       "<ol class=list-inline>\n",
       "\t<li>'age'</li>\n",
       "\t<li>'prof'</li>\n",
       "\t<li>'duree'</li>\n",
       "\t<li>'discip'</li>\n",
       "\t<li>'n.enfant'</li>\n",
       "\t<li>'n.fratrie'</li>\n",
       "\t<li>'ecole'</li>\n",
       "\t<li>'separation'</li>\n",
       "\t<li>'juge.enfant'</li>\n",
       "\t<li>'place'</li>\n",
       "\t<li>'abus'</li>\n",
       "\t<li>'grav.cons'</li>\n",
       "\t<li>'dep.cons'</li>\n",
       "\t<li>'ago.cons'</li>\n",
       "\t<li>'ptsd.cons'</li>\n",
       "\t<li>'alc.cons'</li>\n",
       "\t<li>'subst.cons'</li>\n",
       "\t<li>'scz.cons'</li>\n",
       "\t<li>'char'</li>\n",
       "\t<li>'rs'</li>\n",
       "\t<li>'ed'</li>\n",
       "\t<li>'dr'</li>\n",
       "\t<li>'suicide.s'</li>\n",
       "\t<li>'suicide.hr'</li>\n",
       "\t<li>'suicide.past'</li>\n",
       "\t<li>'dur.interv'</li>\n",
       "</ol>\n"
      ],
      "text/latex": [
       "\\begin{enumerate*}\n",
       "\\item 'age'\n",
       "\\item 'prof'\n",
       "\\item 'duree'\n",
       "\\item 'discip'\n",
       "\\item 'n.enfant'\n",
       "\\item 'n.fratrie'\n",
       "\\item 'ecole'\n",
       "\\item 'separation'\n",
       "\\item 'juge.enfant'\n",
       "\\item 'place'\n",
       "\\item 'abus'\n",
       "\\item 'grav.cons'\n",
       "\\item 'dep.cons'\n",
       "\\item 'ago.cons'\n",
       "\\item 'ptsd.cons'\n",
       "\\item 'alc.cons'\n",
       "\\item 'subst.cons'\n",
       "\\item 'scz.cons'\n",
       "\\item 'char'\n",
       "\\item 'rs'\n",
       "\\item 'ed'\n",
       "\\item 'dr'\n",
       "\\item 'suicide.s'\n",
       "\\item 'suicide.hr'\n",
       "\\item 'suicide.past'\n",
       "\\item 'dur.interv'\n",
       "\\end{enumerate*}\n"
      ],
      "text/markdown": [
       "1. 'age'\n",
       "2. 'prof'\n",
       "3. 'duree'\n",
       "4. 'discip'\n",
       "5. 'n.enfant'\n",
       "6. 'n.fratrie'\n",
       "7. 'ecole'\n",
       "8. 'separation'\n",
       "9. 'juge.enfant'\n",
       "10. 'place'\n",
       "11. 'abus'\n",
       "12. 'grav.cons'\n",
       "13. 'dep.cons'\n",
       "14. 'ago.cons'\n",
       "15. 'ptsd.cons'\n",
       "16. 'alc.cons'\n",
       "17. 'subst.cons'\n",
       "18. 'scz.cons'\n",
       "19. 'char'\n",
       "20. 'rs'\n",
       "21. 'ed'\n",
       "22. 'dr'\n",
       "23. 'suicide.s'\n",
       "24. 'suicide.hr'\n",
       "25. 'suicide.past'\n",
       "26. 'dur.interv'\n",
       "\n",
       "\n"
      ],
      "text/plain": [
       " [1] \"age\"          \"prof\"         \"duree\"        \"discip\"       \"n.enfant\"    \n",
       " [6] \"n.fratrie\"    \"ecole\"        \"separation\"   \"juge.enfant\"  \"place\"       \n",
       "[11] \"abus\"         \"grav.cons\"    \"dep.cons\"     \"ago.cons\"     \"ptsd.cons\"   \n",
       "[16] \"alc.cons\"     \"subst.cons\"   \"scz.cons\"     \"char\"         \"rs\"          \n",
       "[21] \"ed\"           \"dr\"           \"suicide.s\"    \"suicide.hr\"   \"suicide.past\"\n",
       "[26] \"dur.interv\"  "
      ]
     },
     "metadata": {},
     "output_type": "display_data"
    }
   ],
   "source": [
    "names(smplab)"
   ]
  },
  {
   "cell_type": "code",
   "execution_count": 25,
   "metadata": {},
   "outputs": [
    {
     "data": {
      "text/html": [
       "<ol class=list-inline>\n",
       "\t<li>2</li>\n",
       "\t<li>7</li>\n",
       "\t<li>2</li>\n",
       "\t<li>0</li>\n",
       "\t<li>1</li>\n",
       "\t<li>3</li>\n",
       "</ol>\n"
      ],
      "text/latex": [
       "\\begin{enumerate*}\n",
       "\\item 2\n",
       "\\item 7\n",
       "\\item 2\n",
       "\\item 0\n",
       "\\item 1\n",
       "\\item 3\n",
       "\\end{enumerate*}\n"
      ],
      "text/markdown": [
       "1. 2\n",
       "2. 7\n",
       "3. 2\n",
       "4. 0\n",
       "5. 1\n",
       "6. 3\n",
       "\n",
       "\n"
      ],
      "text/plain": [
       "[1] 2 7 2 0 1 3"
      ]
     },
     "metadata": {},
     "output_type": "display_data"
    }
   ],
   "source": [
    "head(smplab$n.enfant)"
   ]
  },
  {
   "cell_type": "code",
   "execution_count": 26,
   "metadata": {},
   "outputs": [
    {
     "data": {
      "text/plain": [
       "   Min. 1st Qu.  Median    Mean 3rd Qu.    Max.    NA's \n",
       "  0.000   0.000   1.000   1.755   3.000  13.000      26 "
      ]
     },
     "metadata": {},
     "output_type": "display_data"
    }
   ],
   "source": [
    "summary(smplab$n.enfant)"
   ]
  },
  {
   "cell_type": "code",
   "execution_count": 27,
   "metadata": {},
   "outputs": [
    {
     "data": {
      "text/plain": [
       "\n",
       "  0   1   2   3   4   5   6   7   8   9  10  11  13 \n",
       "214 220 125 101  55  31   7   7   7   2   2   1   1 "
      ]
     },
     "metadata": {},
     "output_type": "display_data"
    }
   ],
   "source": [
    "table(smplab$n.enfant)"
   ]
  },
  {
   "cell_type": "code",
   "execution_count": 28,
   "metadata": {},
   "outputs": [
    {
     "data": {
      "text/plain": [
       "\n",
       "FALSE  TRUE \n",
       "  715    58 "
      ]
     },
     "metadata": {},
     "output_type": "display_data"
    }
   ],
   "source": [
    "table(smplab$n.enfant > 4)"
   ]
  },
  {
   "cell_type": "code",
   "execution_count": 29,
   "metadata": {},
   "outputs": [
    {
     "data": {
      "text/plain": [
       "\n",
       "  0   1   2   3   4   5   6   7   8   9  10  11  13 \n",
       "214 220 125 101  55  31   7   7   7   2   2   1   1 "
      ]
     },
     "metadata": {},
     "output_type": "display_data"
    }
   ],
   "source": [
    "smplab$n.enfant.cat <- factor(smplab$n.enfant)          # création d'une variable sous forme de facteur\n",
    "table(smplab$n.enfant)"
   ]
  },
  {
   "cell_type": "code",
   "execution_count": 30,
   "metadata": {},
   "outputs": [
    {
     "data": {
      "text/html": [
       "<ol class=list-inline>\n",
       "\t<li>'0'</li>\n",
       "\t<li>'1'</li>\n",
       "\t<li>'2'</li>\n",
       "\t<li>'3'</li>\n",
       "\t<li>'4'</li>\n",
       "\t<li>'5'</li>\n",
       "\t<li>'6'</li>\n",
       "\t<li>'7'</li>\n",
       "\t<li>'8'</li>\n",
       "\t<li>'9'</li>\n",
       "\t<li>'10'</li>\n",
       "\t<li>'11'</li>\n",
       "\t<li>'13'</li>\n",
       "</ol>\n"
      ],
      "text/latex": [
       "\\begin{enumerate*}\n",
       "\\item '0'\n",
       "\\item '1'\n",
       "\\item '2'\n",
       "\\item '3'\n",
       "\\item '4'\n",
       "\\item '5'\n",
       "\\item '6'\n",
       "\\item '7'\n",
       "\\item '8'\n",
       "\\item '9'\n",
       "\\item '10'\n",
       "\\item '11'\n",
       "\\item '13'\n",
       "\\end{enumerate*}\n"
      ],
      "text/markdown": [
       "1. '0'\n",
       "2. '1'\n",
       "3. '2'\n",
       "4. '3'\n",
       "5. '4'\n",
       "6. '5'\n",
       "7. '6'\n",
       "8. '7'\n",
       "9. '8'\n",
       "10. '9'\n",
       "11. '10'\n",
       "12. '11'\n",
       "13. '13'\n",
       "\n",
       "\n"
      ],
      "text/plain": [
       " [1] \"0\"  \"1\"  \"2\"  \"3\"  \"4\"  \"5\"  \"6\"  \"7\"  \"8\"  \"9\"  \"10\" \"11\" \"13\""
      ]
     },
     "metadata": {},
     "output_type": "display_data"
    }
   ],
   "source": [
    "levels(smplab$n.enfant.cat)                             # modalité du facteur"
   ]
  },
  {
   "cell_type": "code",
   "execution_count": 31,
   "metadata": {},
   "outputs": [
    {
     "data": {
      "text/html": [
       "13"
      ],
      "text/latex": [
       "13"
      ],
      "text/markdown": [
       "13"
      ],
      "text/plain": [
       "[1] 13"
      ]
     },
     "metadata": {},
     "output_type": "display_data"
    }
   ],
   "source": [
    "nlevels(smplab$n.enfant.cat) #permet de donner le nombre total de niveau d'une variable"
   ]
  },
  {
   "cell_type": "code",
   "execution_count": 32,
   "metadata": {},
   "outputs": [
    {
     "data": {
      "text/plain": [
       "\n",
       "  0   1   2   3   4  5+ \n",
       "214 220 125 101  55  58 "
      ]
     },
     "metadata": {},
     "output_type": "display_data"
    }
   ],
   "source": [
    "# nous souhaitons à présent agréger l'effectif de tout ce qui vient après 5\n",
    "levels(smplab$n.enfant.cat)[6:13] <- \"5+\"\n",
    "table(smplab$n.enfant.cat)"
   ]
  },
  {
   "cell_type": "code",
   "execution_count": 6,
   "metadata": {},
   "outputs": [
    {
     "data": {
      "text/html": [
       "793"
      ],
      "text/latex": [
       "793"
      ],
      "text/markdown": [
       "793"
      ],
      "text/plain": [
       "[1] 793"
      ]
     },
     "metadata": {},
     "output_type": "display_data"
    }
   ],
   "source": [
    "sum(table(smplab$prof))"
   ]
  },
  {
   "cell_type": "markdown",
   "metadata": {},
   "source": [
    "<h1><center>QUIZ EXERCICE 1</center></h1>"
   ]
  },
  {
   "cell_type": "code",
   "execution_count": 11,
   "metadata": {},
   "outputs": [
    {
     "name": "stdout",
     "output_type": "stream",
     "text": [
      "'data.frame':\t799 obs. of  26 variables:\n",
      " $ age         : int  31 49 50 47 23 34 24 52 42 45 ...\n",
      " $ prof        : Factor w/ 8 levels \"agriculteur\",..: 3 NA 7 6 8 6 3 2 6 6 ...\n",
      " $ duree       : int  4 NA 5 NA 4 NA NA 5 4 NA ...\n",
      " $ discip      : int  0 0 0 0 1 0 0 0 1 0 ...\n",
      " $ n.enfant    : int  2 7 2 0 1 3 5 2 1 2 ...\n",
      " $ n.fratrie   : int  4 3 2 6 6 2 3 9 12 5 ...\n",
      " $ ecole       : int  1 2 2 1 1 2 1 2 1 2 ...\n",
      " $ separation  : int  0 1 0 1 1 0 1 0 1 0 ...\n",
      " $ juge.enfant : int  0 0 0 0 NA 0 1 0 1 0 ...\n",
      " $ place       : int  0 0 0 1 1 0 1 0 0 0 ...\n",
      " $ abus        : int  0 0 0 0 0 0 0 0 1 1 ...\n",
      " $ grav.cons   : int  1 2 2 1 2 1 5 1 5 5 ...\n",
      " $ dep.cons    : int  0 0 0 0 1 0 1 0 1 0 ...\n",
      " $ ago.cons    : int  1 0 0 0 0 0 0 0 0 0 ...\n",
      " $ ptsd.cons   : int  0 0 0 0 0 0 0 0 0 0 ...\n",
      " $ alc.cons    : int  0 0 0 0 0 0 0 0 1 1 ...\n",
      " $ subst.cons  : int  0 0 0 0 0 0 1 0 1 0 ...\n",
      " $ scz.cons    : int  0 0 0 0 0 0 0 0 0 0 ...\n",
      " $ char        : int  1 1 1 1 1 1 1 1 4 1 ...\n",
      " $ rs          : int  2 2 2 2 2 1 3 2 3 2 ...\n",
      " $ ed          : int  1 2 3 2 2 2 3 2 3 2 ...\n",
      " $ dr          : int  1 1 2 2 2 1 2 2 1 2 ...\n",
      " $ suicide.s   : int  0 0 0 1 0 0 3 0 4 0 ...\n",
      " $ suicide.hr  : int  0 0 0 0 0 0 1 0 1 0 ...\n",
      " $ suicide.past: int  0 0 0 0 1 0 1 0 1 0 ...\n",
      " $ dur.interv  : int  NA 70 NA 105 NA NA 105 84 78 60 ...\n"
     ]
    }
   ],
   "source": [
    "smp <- read.csv2(\"smp2.csv\")\n",
    "str(smp)"
   ]
  },
  {
   "cell_type": "code",
   "execution_count": 10,
   "metadata": {},
   "outputs": [
    {
     "data": {
      "text/plain": [
       "   Min. 1st Qu.  Median    Mean 3rd Qu.    Max.    NA's \n",
       "   0.00   48.00   60.00   61.89   75.00  120.00      50 "
      ]
     },
     "metadata": {},
     "output_type": "display_data"
    }
   ],
   "source": [
    "# 5. la borne supérieure de l'intervalle interquantile est 75.\n",
    "summary(smp$dur.interv)"
   ]
  },
  {
   "cell_type": "code",
   "execution_count": 13,
   "metadata": {},
   "outputs": [
    {
     "data": {
      "text/plain": [
       "\n",
       "  0   1   2   3   4   5   6   7   8   9  10  11  12  13  14  16  17  18  19  20 \n",
       " 76  86 111 129  90  75  63  41  33  31  22  14  10   4   3   3   1   2   3   1 \n",
       " 21 \n",
       "  1 "
      ]
     },
     "metadata": {},
     "output_type": "display_data"
    }
   ],
   "source": [
    "# Transformation de la variable sous forme de facteur\n",
    "smp$n.fratrie2 <- factor(smp$n.fratrie)          \n",
    "table(smp$n.fratrie2)"
   ]
  },
  {
   "cell_type": "code",
   "execution_count": 14,
   "metadata": {},
   "outputs": [
    {
     "data": {
      "text/html": [
       "<ol class=list-inline>\n",
       "\t<li>'0'</li>\n",
       "\t<li>'1'</li>\n",
       "\t<li>'2'</li>\n",
       "\t<li>'3'</li>\n",
       "\t<li>'4'</li>\n",
       "\t<li>'5'</li>\n",
       "\t<li>'6'</li>\n",
       "\t<li>'7'</li>\n",
       "\t<li>'8'</li>\n",
       "\t<li>'9'</li>\n",
       "\t<li>'10'</li>\n",
       "\t<li>'11'</li>\n",
       "\t<li>'12'</li>\n",
       "\t<li>'13'</li>\n",
       "\t<li>'14'</li>\n",
       "\t<li>'16'</li>\n",
       "\t<li>'17'</li>\n",
       "\t<li>'18'</li>\n",
       "\t<li>'19'</li>\n",
       "\t<li>'20'</li>\n",
       "\t<li>'21'</li>\n",
       "</ol>\n"
      ],
      "text/latex": [
       "\\begin{enumerate*}\n",
       "\\item '0'\n",
       "\\item '1'\n",
       "\\item '2'\n",
       "\\item '3'\n",
       "\\item '4'\n",
       "\\item '5'\n",
       "\\item '6'\n",
       "\\item '7'\n",
       "\\item '8'\n",
       "\\item '9'\n",
       "\\item '10'\n",
       "\\item '11'\n",
       "\\item '12'\n",
       "\\item '13'\n",
       "\\item '14'\n",
       "\\item '16'\n",
       "\\item '17'\n",
       "\\item '18'\n",
       "\\item '19'\n",
       "\\item '20'\n",
       "\\item '21'\n",
       "\\end{enumerate*}\n"
      ],
      "text/markdown": [
       "1. '0'\n",
       "2. '1'\n",
       "3. '2'\n",
       "4. '3'\n",
       "5. '4'\n",
       "6. '5'\n",
       "7. '6'\n",
       "8. '7'\n",
       "9. '8'\n",
       "10. '9'\n",
       "11. '10'\n",
       "12. '11'\n",
       "13. '12'\n",
       "14. '13'\n",
       "15. '14'\n",
       "16. '16'\n",
       "17. '17'\n",
       "18. '18'\n",
       "19. '19'\n",
       "20. '20'\n",
       "21. '21'\n",
       "\n",
       "\n"
      ],
      "text/plain": [
       " [1] \"0\"  \"1\"  \"2\"  \"3\"  \"4\"  \"5\"  \"6\"  \"7\"  \"8\"  \"9\"  \"10\" \"11\" \"12\" \"13\" \"14\"\n",
       "[16] \"16\" \"17\" \"18\" \"19\" \"20\" \"21\""
      ]
     },
     "metadata": {},
     "output_type": "display_data"
    }
   ],
   "source": [
    "levels(smp$n.fratrie2)"
   ]
  },
  {
   "cell_type": "code",
   "execution_count": 16,
   "metadata": {},
   "outputs": [
    {
     "data": {
      "text/plain": [
       "n.fratrie3\n",
       " <5  5+ \n",
       "492 307 "
      ]
     },
     "metadata": {},
     "output_type": "display_data"
    }
   ],
   "source": [
    "# 6. Recoder n.fratrie en variable binaire : <5 et 5+\n",
    "n.fratrie3 <- factor(smp$n.fratrie >=5, labels=c(\"<5\",\"5+\"))\n",
    "table(n.fratrie3)"
   ]
  },
  {
   "cell_type": "code",
   "execution_count": 18,
   "metadata": {},
   "outputs": [
    {
     "data": {
      "text/plain": [
       "\n",
       "  1   2   3   4   5 \n",
       "340 301  90  45  18 "
      ]
     },
     "metadata": {},
     "output_type": "display_data"
    }
   ],
   "source": [
    "# 7. le nombre de lignes du tableau pour lesquelles ecole = 1, 2 ou 3 : 731\n",
    "table(smp$ecole)"
   ]
  },
  {
   "cell_type": "code",
   "execution_count": 17,
   "metadata": {},
   "outputs": [
    {
     "data": {
      "text/plain": [
       "\n",
       "       agriculteur            artisan              autre              cadre \n",
       "                 6                 90                 31                 24 \n",
       "           employé            ouvrier prof.intermédiaire        sans emploi \n",
       "               135                227                 58                222 "
      ]
     },
     "metadata": {},
     "output_type": "display_data"
    }
   ],
   "source": [
    "# 8. le nombre d'individus sans emploi = 222\n",
    "table(smp$prof)"
   ]
  },
  {
   "cell_type": "code",
   "execution_count": 23,
   "metadata": {},
   "outputs": [
    {
     "data": {
      "text/html": [
       "<table>\n",
       "<thead><tr><th scope=col>age</th><th scope=col>prof</th><th scope=col>duree</th><th scope=col>discip</th><th scope=col>n.enfant</th><th scope=col>n.fratrie</th><th scope=col>ecole</th><th scope=col>separation</th><th scope=col>juge.enfant</th><th scope=col>place</th><th scope=col>...</th><th scope=col>scz.cons</th><th scope=col>char</th><th scope=col>rs</th><th scope=col>ed</th><th scope=col>dr</th><th scope=col>suicide.s</th><th scope=col>suicide.hr</th><th scope=col>suicide.past</th><th scope=col>dur.interv</th><th scope=col>n.fratrie2</th></tr></thead>\n",
       "<tbody>\n",
       "\t<tr><td>31                </td><td>autre             </td><td> 4                </td><td>0                 </td><td>2                 </td><td>4                 </td><td>1                 </td><td>0                 </td><td> 0                </td><td>0                 </td><td>...               </td><td>0                 </td><td>1                 </td><td>2                 </td><td>1                 </td><td>1                 </td><td>0                 </td><td>0                 </td><td>0                 </td><td> NA               </td><td>5+                </td></tr>\n",
       "\t<tr><td>49                                                        </td><td><span style=white-space:pre-wrap>NA                </span></td><td>NA                                                        </td><td>0                                                         </td><td>7                                                         </td><td>3                                                         </td><td>2                                                         </td><td>1                                                         </td><td> 0                                                        </td><td>0                                                         </td><td>...                                                       </td><td>0                                                         </td><td>1                                                         </td><td>2                                                         </td><td>2                                                         </td><td>1                                                         </td><td>0                                                         </td><td>0                                                         </td><td>0                                                         </td><td> 70                                                       </td><td>&lt;5                                                     </td></tr>\n",
       "\t<tr><td>50                </td><td>prof.intermédiaire</td><td> 5                </td><td>0                 </td><td>2                 </td><td>2                 </td><td>2                 </td><td>0                 </td><td> 0                </td><td>0                 </td><td>...               </td><td>0                 </td><td>1                 </td><td>2                 </td><td>3                 </td><td>2                 </td><td>0                 </td><td>0                 </td><td>0                 </td><td> NA               </td><td>&lt;5             </td></tr>\n",
       "\t<tr><td>47                </td><td>ouvrier           </td><td>NA                </td><td>0                 </td><td>0                 </td><td>6                 </td><td>1                 </td><td>1                 </td><td> 0                </td><td>1                 </td><td>...               </td><td>0                 </td><td>1                 </td><td>2                 </td><td>2                 </td><td>2                 </td><td>1                 </td><td>0                 </td><td>0                 </td><td>105               </td><td>5+                </td></tr>\n",
       "\t<tr><td>23                </td><td>sans emploi       </td><td> 4                </td><td>1                 </td><td>1                 </td><td>6                 </td><td>1                 </td><td>1                 </td><td>NA                </td><td>1                 </td><td>...               </td><td>0                 </td><td>1                 </td><td>2                 </td><td>2                 </td><td>2                 </td><td>0                 </td><td>0                 </td><td>1                 </td><td> NA               </td><td>5+                </td></tr>\n",
       "\t<tr><td>34                                                        </td><td><span style=white-space:pre-wrap>ouvrier           </span></td><td>NA                                                        </td><td>0                                                         </td><td>3                                                         </td><td>2                                                         </td><td>2                                                         </td><td>0                                                         </td><td> 0                                                        </td><td>0                                                         </td><td>...                                                       </td><td>0                                                         </td><td>1                                                         </td><td>1                                                         </td><td>2                                                         </td><td>1                                                         </td><td>0                                                         </td><td>0                                                         </td><td>0                                                         </td><td> NA                                                       </td><td>&lt;5                                                     </td></tr>\n",
       "</tbody>\n",
       "</table>\n"
      ],
      "text/latex": [
       "\\begin{tabular}{r|lllllllllllllllllllllllllll}\n",
       " age & prof & duree & discip & n.enfant & n.fratrie & ecole & separation & juge.enfant & place & ... & scz.cons & char & rs & ed & dr & suicide.s & suicide.hr & suicide.past & dur.interv & n.fratrie2\\\\\n",
       "\\hline\n",
       "\t 31                 & autre              &  4                 & 0                  & 2                  & 4                  & 1                  & 0                  &  0                 & 0                  & ...                & 0                  & 1                  & 2                  & 1                  & 1                  & 0                  & 0                  & 0                  &  NA                & 5+                \\\\\n",
       "\t 49                 & NA                 & NA                 & 0                  & 7                  & 3                  & 2                  & 1                  &  0                 & 0                  & ...                & 0                  & 1                  & 2                  & 2                  & 1                  & 0                  & 0                  & 0                  &  70                & <5                \\\\\n",
       "\t 50                 & prof.intermédiaire &  5                 & 0                  & 2                  & 2                  & 2                  & 0                  &  0                 & 0                  & ...                & 0                  & 1                  & 2                  & 3                  & 2                  & 0                  & 0                  & 0                  &  NA                & <5                \\\\\n",
       "\t 47                 & ouvrier            & NA                 & 0                  & 0                  & 6                  & 1                  & 1                  &  0                 & 1                  & ...                & 0                  & 1                  & 2                  & 2                  & 2                  & 1                  & 0                  & 0                  & 105                & 5+                \\\\\n",
       "\t 23                 & sans emploi        &  4                 & 1                  & 1                  & 6                  & 1                  & 1                  & NA                 & 1                  & ...                & 0                  & 1                  & 2                  & 2                  & 2                  & 0                  & 0                  & 1                  &  NA                & 5+                \\\\\n",
       "\t 34                 & ouvrier            & NA                 & 0                  & 3                  & 2                  & 2                  & 0                  &  0                 & 0                  & ...                & 0                  & 1                  & 1                  & 2                  & 1                  & 0                  & 0                  & 0                  &  NA                & <5                \\\\\n",
       "\\end{tabular}\n"
      ],
      "text/markdown": [
       "\n",
       "| age | prof | duree | discip | n.enfant | n.fratrie | ecole | separation | juge.enfant | place | ... | scz.cons | char | rs | ed | dr | suicide.s | suicide.hr | suicide.past | dur.interv | n.fratrie2 |\n",
       "|---|---|---|---|---|---|---|---|---|---|---|---|---|---|---|---|---|---|---|---|---|\n",
       "| 31                 | autre              |  4                 | 0                  | 2                  | 4                  | 1                  | 0                  |  0                 | 0                  | ...                | 0                  | 1                  | 2                  | 1                  | 1                  | 0                  | 0                  | 0                  |  NA                | 5+                 |\n",
       "| 49                 | NA                 | NA                 | 0                  | 7                  | 3                  | 2                  | 1                  |  0                 | 0                  | ...                | 0                  | 1                  | 2                  | 2                  | 1                  | 0                  | 0                  | 0                  |  70                | <5                 |\n",
       "| 50                 | prof.intermédiaire |  5                 | 0                  | 2                  | 2                  | 2                  | 0                  |  0                 | 0                  | ...                | 0                  | 1                  | 2                  | 3                  | 2                  | 0                  | 0                  | 0                  |  NA                | <5                 |\n",
       "| 47                 | ouvrier            | NA                 | 0                  | 0                  | 6                  | 1                  | 1                  |  0                 | 1                  | ...                | 0                  | 1                  | 2                  | 2                  | 2                  | 1                  | 0                  | 0                  | 105                | 5+                 |\n",
       "| 23                 | sans emploi        |  4                 | 1                  | 1                  | 6                  | 1                  | 1                  | NA                 | 1                  | ...                | 0                  | 1                  | 2                  | 2                  | 2                  | 0                  | 0                  | 1                  |  NA                | 5+                 |\n",
       "| 34                 | ouvrier            | NA                 | 0                  | 3                  | 2                  | 2                  | 0                  |  0                 | 0                  | ...                | 0                  | 1                  | 1                  | 2                  | 1                  | 0                  | 0                  | 0                  |  NA                | <5                 |\n",
       "\n"
      ],
      "text/plain": [
       "  age prof               duree discip n.enfant n.fratrie ecole separation\n",
       "1 31  autre               4    0      2        4         1     0         \n",
       "2 49  NA                 NA    0      7        3         2     1         \n",
       "3 50  prof.intermédiaire  5    0      2        2         2     0         \n",
       "4 47  ouvrier            NA    0      0        6         1     1         \n",
       "5 23  sans emploi         4    1      1        6         1     1         \n",
       "6 34  ouvrier            NA    0      3        2         2     0         \n",
       "  juge.enfant place ... scz.cons char rs ed dr suicide.s suicide.hr\n",
       "1  0          0     ... 0        1    2  1  1  0         0         \n",
       "2  0          0     ... 0        1    2  2  1  0         0         \n",
       "3  0          0     ... 0        1    2  3  2  0         0         \n",
       "4  0          1     ... 0        1    2  2  2  1         0         \n",
       "5 NA          1     ... 0        1    2  2  2  0         0         \n",
       "6  0          0     ... 0        1    1  2  1  0         0         \n",
       "  suicide.past dur.interv n.fratrie2\n",
       "1 0             NA        5+        \n",
       "2 0             70        <5        \n",
       "3 0             NA        <5        \n",
       "4 0            105        5+        \n",
       "5 1             NA        5+        \n",
       "6 0             NA        <5        "
      ]
     },
     "metadata": {},
     "output_type": "display_data"
    }
   ],
   "source": [
    "head(smp)"
   ]
  },
  {
   "cell_type": "code",
   "execution_count": 24,
   "metadata": {},
   "outputs": [
    {
     "data": {
      "text/html": [
       "39.7"
      ],
      "text/latex": [
       "39.7"
      ],
      "text/markdown": [
       "39.7"
      ],
      "text/plain": [
       "[1] 39.7"
      ]
     },
     "metadata": {},
     "output_type": "display_data"
    }
   ],
   "source": [
    "mean(smp$age[1:10])"
   ]
  },
  {
   "cell_type": "code",
   "execution_count": 13,
   "metadata": {},
   "outputs": [
    {
     "name": "stdout",
     "output_type": "stream",
     "text": [
      "'data.frame':\t799 obs. of  26 variables:\n",
      " $ age         : int  31 49 50 47 23 34 24 52 42 45 ...\n",
      " $ prof        : Factor w/ 8 levels \"agriculteur\",..: 3 NA 7 6 8 6 3 2 6 6 ...\n",
      " $ duree       : int  4 NA 5 NA 4 NA NA 5 4 NA ...\n",
      " $ discip      : int  0 0 0 0 1 0 0 0 1 0 ...\n",
      " $ n.enfant    : int  2 7 2 0 1 3 5 2 1 2 ...\n",
      " $ n.fratrie   : int  4 3 2 6 6 2 3 9 12 5 ...\n",
      " $ ecole       : int  1 2 2 1 1 2 1 2 1 2 ...\n",
      " $ separation  : int  0 1 0 1 1 0 1 0 1 0 ...\n",
      " $ juge.enfant : int  0 0 0 0 NA 0 1 0 1 0 ...\n",
      " $ place       : int  0 0 0 1 1 0 1 0 0 0 ...\n",
      " $ abus        : int  0 0 0 0 0 0 0 0 1 1 ...\n",
      " $ grav.cons   : int  1 2 2 1 2 1 5 1 5 5 ...\n",
      " $ dep.cons    : int  0 0 0 0 1 0 1 0 1 0 ...\n",
      " $ ago.cons    : int  1 0 0 0 0 0 0 0 0 0 ...\n",
      " $ ptsd.cons   : int  0 0 0 0 0 0 0 0 0 0 ...\n",
      " $ alc.cons    : int  0 0 0 0 0 0 0 0 1 1 ...\n",
      " $ subst.cons  : int  0 0 0 0 0 0 1 0 1 0 ...\n",
      " $ scz.cons    : int  0 0 0 0 0 0 0 0 0 0 ...\n",
      " $ char        : int  1 1 1 1 1 1 1 1 4 1 ...\n",
      " $ rs          : int  2 2 2 2 2 1 3 2 3 2 ...\n",
      " $ ed          : int  1 2 3 2 2 2 3 2 3 2 ...\n",
      " $ dr          : int  1 1 2 2 2 1 2 2 1 2 ...\n",
      " $ suicide.s   : int  0 0 0 1 0 0 3 0 4 0 ...\n",
      " $ suicide.hr  : int  0 0 0 0 0 0 1 0 1 0 ...\n",
      " $ suicide.past: int  0 0 0 0 1 0 1 0 1 0 ...\n",
      " $ dur.interv  : int  NA 70 NA 105 NA NA 105 84 78 60 ...\n"
     ]
    }
   ],
   "source": [
    "str(smp)"
   ]
  },
  {
   "cell_type": "code",
   "execution_count": 15,
   "metadata": {},
   "outputs": [
    {
     "data": {
      "text/plain": [
       "   Min. 1st Qu.  Median    Mean 3rd Qu.    Max.    NA's \n",
       "    0.0    40.0    50.0    53.2    65.0   120.0      15 "
      ]
     },
     "metadata": {},
     "output_type": "display_data"
    }
   ],
   "source": [
    "summary(smp$dur.interv[1:300])"
   ]
  },
  {
   "cell_type": "markdown",
   "metadata": {},
   "source": [
    "<h1><center>DEVOIR EVALUE PAR LES PAIRS</center></h1>"
   ]
  },
  {
   "cell_type": "code",
   "execution_count": 1,
   "metadata": {},
   "outputs": [
    {
     "name": "stdout",
     "output_type": "stream",
     "text": [
      "'data.frame':\t534 obs. of  9 variables:\n",
      " $ service           : int  3 3 3 3 3 3 3 3 3 3 ...\n",
      " $ sexe              : int  0 1 1 0 1 0 0 0 0 1 ...\n",
      " $ age               : int  41 29 83 66 84 84 60 85 28 35 ...\n",
      " $ profession        : int  4 8 2 3 NA 6 3 3 3 3 ...\n",
      " $ amelioration.sante: int  1 2 2 2 NA 3 2 3 3 3 ...\n",
      " $ amelioration.moral: int  0 3 1 0 NA 3 1 1 1 2 ...\n",
      " $ recommander       : int  1 2 2 2 NA 2 1 2 1 NA ...\n",
      " $ score.relation    : int  36 33 40 32 NA 39 31 NA 36 NA ...\n",
      " $ score.information : int  22 36 37 35 NA 28 30 NA 29 NA ...\n"
     ]
    },
    {
     "data": {
      "text/plain": [
       "    service           sexe             age          profession   \n",
       " Min.   :1.000   Min.   :0.0000   Min.   :18.00   Min.   :1.000  \n",
       " 1st Qu.:3.000   1st Qu.:0.0000   1st Qu.:45.00   1st Qu.:3.000  \n",
       " Median :5.000   Median :0.0000   Median :60.00   Median :4.000  \n",
       " Mean   :4.549   Mean   :0.4981   Mean   :58.21   Mean   :4.431  \n",
       " 3rd Qu.:7.000   3rd Qu.:1.0000   3rd Qu.:72.00   3rd Qu.:5.500  \n",
       " Max.   :8.000   Max.   :1.0000   Max.   :97.00   Max.   :8.000  \n",
       "                                  NA's   :6       NA's   :107    \n",
       " amelioration.sante amelioration.moral  recommander    score.relation \n",
       " Min.   :0.000      Min.   :0.000      Min.   :0.000   Min.   :13.00  \n",
       " 1st Qu.:2.000      1st Qu.:1.000      1st Qu.:1.000   1st Qu.:33.00  \n",
       " Median :2.000      Median :1.000      Median :2.000   Median :36.00  \n",
       " Mean   :2.231      Mean   :1.679      Mean   :1.625   Mean   :35.22  \n",
       " 3rd Qu.:3.000      3rd Qu.:3.000      3rd Qu.:2.000   3rd Qu.:39.00  \n",
       " Max.   :3.000      Max.   :3.000      Max.   :2.000   Max.   :40.00  \n",
       " NA's   :158        NA's   :151        NA's   :129     NA's   :185    \n",
       " score.information\n",
       " Min.   :13.00    \n",
       " 1st Qu.:28.00    \n",
       " Median :33.00    \n",
       " Mean   :31.91    \n",
       " 3rd Qu.:38.00    \n",
       " Max.   :40.00    \n",
       " NA's   :176      "
      ]
     },
     "metadata": {},
     "output_type": "display_data"
    }
   ],
   "source": [
    "# Importation et description de la base\n",
    "hopital <- read.csv2(\"satisfaction_hopital.csv\")\n",
    "str(hopital)\n",
    "summary(hopital)"
   ]
  },
  {
   "cell_type": "code",
   "execution_count": 2,
   "metadata": {},
   "outputs": [
    {
     "data": {
      "text/plain": [
       "\n",
       "       0        1 \n",
       "50.18727 49.81273 "
      ]
     },
     "metadata": {},
     "output_type": "display_data"
    }
   ],
   "source": [
    "# Question 1 : Pourcentage des trois variables catégorielles (sexe, profession et recommander)\n",
    "table(hopital$sexe)/length(hopital$sexe)*100   # sexe\n",
    "                                               # les hommes sont de 50,2% contre 49,8% de femmes"
   ]
  },
  {
   "cell_type": "code",
   "execution_count": 3,
   "metadata": {},
   "outputs": [
    {
     "data": {
      "text/plain": [
       "\n",
       "         1          2          3          4          5          6          7 \n",
       " 0.1872659  7.1161049 23.2209738 16.4794007 12.9213483  8.2397004  4.1198502 \n",
       "         8       <NA> \n",
       " 7.6779026 20.0374532 "
      ]
     },
     "metadata": {},
     "output_type": "display_data"
    }
   ],
   "source": [
    "table(hopital$profession, useNA='always')/length(hopital$profession)*100  # pourcentage des professions"
   ]
  },
  {
   "cell_type": "code",
   "execution_count": 4,
   "metadata": {},
   "outputs": [
    {
     "data": {
      "text/plain": [
       "\n",
       "        0         1         2      <NA> \n",
       " 2.996255 22.471910 50.374532 24.157303 "
      ]
     },
     "metadata": {},
     "output_type": "display_data"
    }
   ],
   "source": [
    "table(hopital$recommander, useNA='always')/length(hopital$recommander)*100   # pourcentage des recommandations "
   ]
  },
  {
   "cell_type": "code",
   "execution_count": 7,
   "metadata": {},
   "outputs": [
    {
     "name": "stdout",
     "output_type": "stream",
     "text": [
      "Description of hopital \n"
     ]
    },
    {
     "data": {
      "text/plain": [
       "\n",
       " Numeric \n",
       "                    mean median    sd min max valid.n\n",
       "service             4.55      5  2.28   1   8     534\n",
       "sexe                0.50      0  0.50   0   1     534\n",
       "age                58.21     60 17.81  18  97     528\n",
       "profession          4.43      4  1.75   1   8     427\n",
       "amelioration.sante  2.23      2  0.77   0   3     376\n",
       "amelioration.moral  1.68      1  0.95   0   3     383\n",
       "recommander         1.62      2  0.56   0   2     405\n",
       "score.relation     35.22     36  4.62  13  40     349\n",
       "score.information  31.91     33  6.79  13  40     358"
      ]
     },
     "metadata": {},
     "output_type": "display_data"
    }
   ],
   "source": [
    "# Question 2 : Stats Synthétique (mon choix s'est porté sur les variables quantitatives réelles)\n",
    "describe(hopital, num.desc=c(\"mean\",\"median\",\"sd\",\"min\",\"max\",\"valid.n\"))"
   ]
  },
  {
   "cell_type": "code",
   "execution_count": 21,
   "metadata": {},
   "outputs": [
    {
     "data": {
      "text/plain": [
       "   Min. 1st Qu.  Median    Mean 3rd Qu.    Max.    NA's \n",
       "  18.00   45.00   60.00   58.21   72.00   97.00       6 "
      ]
     },
     "metadata": {},
     "output_type": "display_data"
    }
   ],
   "source": [
    "summary(hopital$age)"
   ]
  },
  {
   "cell_type": "code",
   "execution_count": 22,
   "metadata": {},
   "outputs": [
    {
     "data": {
      "text/plain": [
       "\n",
       "        0         1 \n",
       "0.5018727 0.4981273 "
      ]
     },
     "metadata": {},
     "output_type": "display_data"
    }
   ],
   "source": [
    "prop.table(table(hopital$sexe))"
   ]
  },
  {
   "cell_type": "code",
   "execution_count": 25,
   "metadata": {},
   "outputs": [
    {
     "name": "stdout",
     "output_type": "stream",
     "text": [
      "Description of sat1 \n"
     ]
    },
    {
     "data": {
      "text/plain": [
       "\n",
       " Numeric \n",
       "                    mean    sd median min max valid.n\n",
       "age                58.21 17.81     60  18  97     528\n",
       "amelioration.sante  2.23  0.77      2   0   3     376\n",
       "amelioration.moral  1.68  0.95      1   0   3     383\n",
       "recommander         1.62  0.56      2   0   2     405\n",
       "score.relation     35.22  4.62     36  13  40     349\n",
       "score.information  31.91  6.79     33  13  40     358"
      ]
     },
     "metadata": {},
     "output_type": "display_data"
    }
   ],
   "source": [
    "sat1 <- hopital[c(3,5,6,7,8,9)]\n",
    "describe(sat1, num.desc=c(\"mean\",\"sd\",\"median\",\"min\",\"max\",\"valid.n\"))"
   ]
  },
  {
   "cell_type": "code",
   "execution_count": 26,
   "metadata": {},
   "outputs": [
    {
     "name": "stdout",
     "output_type": "stream",
     "text": [
      "Description of hopital[c(3, 8, 9)] \n"
     ]
    },
    {
     "data": {
      "text/plain": [
       "\n",
       " Numeric \n",
       "                   mean    sd median min max valid.n\n",
       "age               58.21 17.81     60  18  97     528\n",
       "score.relation    35.22  4.62     36  13  40     349\n",
       "score.information 31.91  6.79     33  13  40     358"
      ]
     },
     "metadata": {},
     "output_type": "display_data"
    }
   ],
   "source": [
    "describe(hopital[c(3,8,9)], num.desc=c(\"mean\",\"sd\",\"median\",\"min\",\"max\",\"valid.n\"))"
   ]
  },
  {
   "cell_type": "code",
   "execution_count": 8,
   "metadata": {},
   "outputs": [
    {
     "data": {
      "image/png": "iVBORw0KGgoAAAANSUhEUgAAA0gAAANICAMAAADKOT/pAAAAM1BMVEUAAABNTU1oaGh8fHyM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\ntMU5oXaxewAAAABJRU5ErkJggg==",
      "text/plain": [
       "Plot with title \"Histogramme du Score de relation\""
      ]
     },
     "metadata": {},
     "output_type": "display_data"
    }
   ],
   "source": [
    "# Question 3 : histogramme du score de relation\n",
    "hist(hopital$score.relation, col=\"grey\", main=\"Histogramme du Score de relation\", xlab=\"Score de relation\")"
   ]
  },
  {
   "cell_type": "code",
   "execution_count": 10,
   "metadata": {},
   "outputs": [
    {
     "data": {
      "image/png": "iVBORw0KGgoAAAANSUhEUgAAA0gAAANICAMAAADKOT/pAAAAMFBMVEUAAABNTU1oaGh8fHyM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",
      "text/plain": [
       "Plot with title \"Distribution du score de relation chez les hommes et chez les femmes\""
      ]
     },
     "metadata": {},
     "output_type": "display_data"
    }
   ],
   "source": [
    "# Question 4 : Distribution du score de relation chez les hommes et chez les femmes\n",
    "boxplot(hopital$score.relation ~ hopital$sexe, xlab = 'Sexe', ylab = 'Score de relation',\n",
    "        main=\"Distribution du score de relation chez les hommes et chez les femmes\")"
   ]
  },
  {
   "cell_type": "markdown",
   "metadata": {},
   "source": [
    "<a id=\"ref2\"></a>\n",
    "<h1 align=center>SEMAINE 02</h1>\n",
    "<h1 align=center>Intervalles de confiance et association entre variables</h1>"
   ]
  },
  {
   "cell_type": "markdown",
   "metadata": {},
   "source": [
    "#   05 Intervalle de confiance"
   ]
  },
  {
   "cell_type": "code",
   "execution_count": 2,
   "metadata": {},
   "outputs": [
    {
     "name": "stdout",
     "output_type": "stream",
     "text": [
      "'data.frame':\t799 obs. of  9 variables:\n",
      " $ age      : int  31 49 50 47 23 34 24 52 42 45 ...\n",
      " $ prof     : Factor w/ 8 levels \"agriculteur\",..: 3 NA 7 6 8 6 3 2 6 6 ...\n",
      " $ dep.cons : int  0 0 0 0 1 0 1 0 1 0 ...\n",
      " $ scz.cons : int  0 0 0 0 0 0 0 0 0 0 ...\n",
      " $ grav.cons: int  1 2 2 1 2 1 5 1 5 5 ...\n",
      " $ n.enfant : int  2 7 2 0 1 3 5 2 1 2 ...\n",
      " $ rs       : int  2 2 2 2 2 1 3 2 3 2 ...\n",
      " $ ed       : int  1 2 3 2 2 2 3 2 3 2 ...\n",
      " $ dr       : int  1 1 2 2 2 1 2 2 1 2 ...\n"
     ]
    }
   ],
   "source": [
    "# importation des données du cours\n",
    "smpc <- read.csv2(\"smp1.csv\")\n",
    "str(smpc)"
   ]
  },
  {
   "cell_type": "code",
   "execution_count": 3,
   "metadata": {},
   "outputs": [
    {
     "name": "stdout",
     "output_type": "stream",
     "text": [
      "Description of structure(list(x = c(31L, 49L, 50L, 47L, 23L, 34L, 24L, 52L,  42L, 45L, 31L, NA, 21L, 40L, 64L, 67L, 60L, 63L, NA, 28L, 20L,  30L, 32L, 31L, 26L, 42L, 32L, 40L, 41L, 27L, 24L, 38L, 39L, 36L,  29L, 41L, 36L, 41L, 21L, 21L, 46L, 22L, 21L, 35L, 45L, 38L, 19L,  21L, 27L, 40L, 39L, 47L, 24L, 36L, 39L, 22L, 38L, 37L, 29L, 23L,  36L, 42L, 56L, 28L, 36L, 38L, 43L, 29L, 64L, 25L, 51L, 35L, 30L,  37L, 26L, 36L, 58L, 32L, 30L, 26L, 27L, 23L, 24L, 39L, 43L, 39L,  26L, 44L, 37L, 40L, 24L, 46L, 26L, 38L, 37L, 30L, 39L, 36L, 39L,  28L, 27L, 51L, 48L, 47L, 41L, 35L, 25L, 31L, 44L, 40L, 29L, 34L,  49L, 57L, 33L, 35L, 32L, 34L, 46L, 45L, 31L, 42L, 48L, 34L, 34L,  64L, 50L, 53L, 49L, 53L, 37L, 42L, 55L, 32L, 33L, 40L, 29L, 32L,  23L, 61L, 39L, 30L, 37L, 30L, 39L, 49L, 44L, 40L, 56L, 43L, 27L,  21L, 44L, 50L, 50L, 20L, 37L, 42L, 27L, 22L, 25L, 20L, 21L, 19L,  25L, 24L, 49L, 24L, 26L, 35L, 22L, 24L, 23L, 46L, 26L, 41L, 51L,  20L, 30L, 37L, 49L, 28L, 28L, 51L, 40L, 33L, 25L, 29L, 40L, 43L,  35L, 50L, 44L, 35L, 24L, 43L, 26L, 45L, 42L, 45L, 48L, 45L, 34L,  31L, 40L, 22L, 42L, 38L, 38L, 40L, 46L, 26L, 29L, 25L, 40L, 43L,  28L, 29L, 32L, 28L, 57L, 31L, 71L, 33L, 24L, 22L, 25L, 26L, 52L,  33L, 38L, 39L, 41L, 52L, 33L, 39L, 59L, 33L, 50L, 58L, 23L, 41L,  43L, 42L, 22L, 57L, 41L, 30L, 66L, 49L, 46L, 28L, 59L, 35L, 44L,  83L, 34L, 49L, 60L, 56L, 46L, 62L, 41L, 27L, 53L, 48L, 66L, 66L,  55L, 61L, 43L, 54L, 38L, 51L, 51L, 50L, 56L, 53L, 49L, 41L, 44L,  64L, 42L, 52L, 72L, 43L, 30L, 32L, 43L, 25L, 27L, 25L, 52L, 39L,  42L, 59L, 46L, 62L, 50L, 24L, 43L, 32L, 67L, 28L, 44L, 19L, 20L,  23L, 26L, 28L, 31L, 42L, 57L, 30L, 36L, 53L, 33L, 25L, 22L, 42L,  25L, 32L, 23L, 45L, 48L, 35L, 37L, 38L, 24L, 47L, 61L, 38L, 27L,  27L, 26L, 30L, 47L, 37L, 30L, 41L, 29L, 37L, 28L, 47L, 26L, 50L,  23L, 60L, 37L, 48L, 41L, 28L, 54L, 61L, 33L, 31L, 25L, 66L, 26L,  29L, 29L, 53L, 24L, 48L, 40L, 47L, 40L, 41L, 54L, 25L, 36L, 44L,  32L, 27L, 31L, 34L, 34L, 71L, 20L, 54L, 39L, 50L, 36L, 37L, 43L,  28L, 21L, 35L, 36L, 53L, 36L, 38L, 66L, 62L, 38L, 24L, 49L, 21L,  34L, 29L, 36L, 29L, 33L, 34L, 57L, 65L, 25L, 36L, 31L, 54L, 49L,  42L, 30L, 20L, 23L, 21L, 23L, 39L, 45L, 29L, 21L, 54L, 77L, 23L,  32L, 58L, 49L, 26L, 40L, 51L, 62L, 45L, 41L, 30L, 52L, 20L, 36L,  34L, 35L, 30L, 46L, 79L, 66L, 19L, 41L, 51L, 26L, 56L, 33L, 39L,  72L, 45L, 59L, 21L, 41L, 43L, 55L, 26L, 49L, 29L, 26L, 28L, 77L,  61L, 63L, 30L, 49L, 48L, 45L, 32L, 56L, 48L, 64L, 73L, 33L, 74L,  54L, 27L, 49L, 45L, 27L, 53L, 62L, 54L, 37L, 56L, 60L, 33L, 34L,  32L, 44L, 49L, 46L, 67L, 39L, 59L, 63L, 81L, 38L, 58L, 42L, 73L,  48L, 41L, 28L, 44L, 45L, 46L, 50L, 27L, 56L, 46L, 42L, 25L, 23L,  26L, 19L, 24L, 24L, 32L, 23L, 24L, 33L, 21L, 33L, 41L, 24L, 31L,  19L, 25L, 51L, 39L, 22L, 20L, 30L, 34L, 28L, 20L, 20L, 33L, 24L,  32L, 37L, 25L, 24L, 29L, 19L, 37L, 56L, 49L, 60L, 29L, 22L, 20L,  49L, 33L, 30L, 29L, 25L, 62L, 41L, 33L, 44L, 60L, 24L, 24L, 33L,  27L, 45L, 33L, 44L, 23L, 23L, 35L, 36L, 28L, 24L, 27L, 27L, 28L,  27L, 40L, 52L, 19L, 31L, 21L, 33L, 23L, 30L, 23L, 31L, 48L, 24L,  24L, 26L, 32L, 29L, 38L, 23L, 50L, 26L, 47L, 38L, 24L, 24L, 19L,  25L, 31L, 33L, 26L, 38L, 23L, 37L, 19L, 49L, 33L, 30L, 38L, 30L,  26L, 27L, 21L, 31L, 19L, 26L, 28L, 49L, 35L, 25L, 32L, 27L, 20L,  30L, 25L, 21L, 54L, 27L, 22L, 39L, 21L, 54L, 49L, 23L, 36L, 59L,  50L, 24L, 47L, 42L, 41L, 33L, 46L, 23L, 19L, 39L, 38L, 40L, 39L,  40L, 44L, 26L, 48L, 47L, 23L, 25L, 20L, 45L, 44L, 57L, 39L, 55L,  19L, 34L, 28L, 33L, 19L, 33L, 27L, 46L, 47L, 22L, 27L, 26L, 52L,  56L, 44L, 63L, 34L, 41L, 38L, 37L, 58L, 37L, 24L, 60L, 26L, 21L,  52L, 20L, 37L, 32L, 32L, 58L, 49L, 32L, 37L, 46L, 50L, 44L, 47L,  37L, 38L, 50L, 56L, 30L, 34L, 43L, 55L, 43L, 31L, 55L, 41L, 68L,  45L, 48L, 42L, 71L, 38L, 46L, 65L, 51L, 57L, 57L, 71L, 40L, 43L,  71L, 48L, 34L, 69L, 43L, 35L, 62L, 34L, 51L, 48L, 36L, 44L, 49L,  74L, 19L, 56L, 57L, 65L, 52L, 77L, 29L, 37L, 45L, 40L, 72L, 27L,  56L, 35L, 30L, 37L, 30L, 40L, 54L, 26L, 48L, 83L, 32L, 22L, 48L,  67L, 58L, 37L, 24L, 34L, 39L, 38L, 39L, 56L, 35L, 26L, 70L, 68L,  42L, 41L, 40L, 26L, 50L, 27L, 28L, 44L, 31L, 38L, 71L)), row.names = c(NA,  -799L), class = \"data.frame\") \n"
     ]
    },
    {
     "data": {
      "text/plain": [
       "\n",
       " Numeric \n",
       "  mean median    var    sd valid.n\n",
       "x 38.9     37 176.38 13.28     797"
      ]
     },
     "metadata": {},
     "output_type": "display_data"
    }
   ],
   "source": [
    "describe(smpc$age)"
   ]
  },
  {
   "attachments": {
    "image.png": {
     "image/png": "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"
    }
   },
   "cell_type": "markdown",
   "metadata": {},
   "source": [
    "![image.png](attachment:image.png)"
   ]
  },
  {
   "cell_type": "code",
   "execution_count": 4,
   "metadata": {},
   "outputs": [
    {
     "data": {
      "text/html": [
       "38.8996235884567"
      ],
      "text/latex": [
       "38.8996235884567"
      ],
      "text/markdown": [
       "38.8996235884567"
      ],
      "text/plain": [
       "[1] 38.89962"
      ]
     },
     "metadata": {},
     "output_type": "display_data"
    },
    {
     "data": {
      "text/html": [
       "13.2809782877711"
      ],
      "text/latex": [
       "13.2809782877711"
      ],
      "text/markdown": [
       "13.2809782877711"
      ],
      "text/plain": [
       "[1] 13.28098"
      ]
     },
     "metadata": {},
     "output_type": "display_data"
    },
    {
     "name": "stdout",
     "output_type": "stream",
     "text": [
      "[1] \"L'intervalle de confiance est\"\n"
     ]
    },
    {
     "data": {
      "text/html": [
       "37.98"
      ],
      "text/latex": [
       "37.98"
      ],
      "text/markdown": [
       "37.98"
      ],
      "text/plain": [
       "[1] 37.98"
      ]
     },
     "metadata": {},
     "output_type": "display_data"
    },
    {
     "data": {
      "text/html": [
       "39.82"
      ],
      "text/latex": [
       "39.82"
      ],
      "text/markdown": [
       "39.82"
      ],
      "text/plain": [
       "[1] 39.82"
      ]
     },
     "metadata": {},
     "output_type": "display_data"
    }
   ],
   "source": [
    "moy <- mean(smpc$age, na.rm = TRUE)\n",
    "et <- sd(smpc$age, na.rm = TRUE)\n",
    "moy\n",
    "et\n",
    "int0 <- moy - 1.96 * et/sqrt(nrow(smpc) - 2)\n",
    "int1 <- moy + 1.96 * et/sqrt(nrow(smpc) - 2)\n",
    "print(\"L'intervalle de confiance est\") \n",
    "round(int0,2)\n",
    "round(int1,2)"
   ]
  },
  {
   "cell_type": "code",
   "execution_count": 6,
   "metadata": {},
   "outputs": [
    {
     "data": {
      "text/html": [
       "<table>\n",
       "<thead><tr><th scope=col>method</th><th scope=col>x</th><th scope=col>n</th><th scope=col>mean</th><th scope=col>lower</th><th scope=col>upper</th></tr></thead>\n",
       "<tbody>\n",
       "\t<tr><td>agresti-coull</td><td>3            </td><td>10           </td><td>0.3000000    </td><td>0.10333842   </td><td>0.6076747    </td></tr>\n",
       "\t<tr><td>asymptotic   </td><td>3            </td><td>10           </td><td>0.3000000    </td><td>0.01597423   </td><td>0.5840258    </td></tr>\n",
       "\t<tr><td>bayes        </td><td>3            </td><td>10           </td><td>0.3181818    </td><td>0.07454423   </td><td>0.5794516    </td></tr>\n",
       "\t<tr><td>cloglog      </td><td>3            </td><td>10           </td><td>0.3000000    </td><td>0.07113449   </td><td>0.5778673    </td></tr>\n",
       "\t<tr><td>exact        </td><td>3            </td><td>10           </td><td>0.3000000    </td><td>0.06673951   </td><td>0.6524529    </td></tr>\n",
       "\t<tr><td>logit        </td><td>3            </td><td>10           </td><td>0.3000000    </td><td>0.09976832   </td><td>0.6236819    </td></tr>\n",
       "\t<tr><td>probit       </td><td>3            </td><td>10           </td><td>0.3000000    </td><td>0.08991347   </td><td>0.6150429    </td></tr>\n",
       "\t<tr><td>profile      </td><td>3            </td><td>10           </td><td>0.3000000    </td><td>0.08470272   </td><td>0.6065091    </td></tr>\n",
       "\t<tr><td>lrt          </td><td>3            </td><td>10           </td><td>0.3000000    </td><td>0.08458545   </td><td>0.6065389    </td></tr>\n",
       "\t<tr><td>prop.test    </td><td>3            </td><td>10           </td><td>0.3000000    </td><td>0.08094782   </td><td>0.6463293    </td></tr>\n",
       "\t<tr><td>wilson       </td><td>3            </td><td>10           </td><td>0.3000000    </td><td>0.10779127   </td><td>0.6032219    </td></tr>\n",
       "</tbody>\n",
       "</table>\n"
      ],
      "text/latex": [
       "\\begin{tabular}{r|llllll}\n",
       " method & x & n & mean & lower & upper\\\\\n",
       "\\hline\n",
       "\t agresti-coull & 3             & 10            & 0.3000000     & 0.10333842    & 0.6076747    \\\\\n",
       "\t asymptotic    & 3             & 10            & 0.3000000     & 0.01597423    & 0.5840258    \\\\\n",
       "\t bayes         & 3             & 10            & 0.3181818     & 0.07454423    & 0.5794516    \\\\\n",
       "\t cloglog       & 3             & 10            & 0.3000000     & 0.07113449    & 0.5778673    \\\\\n",
       "\t exact         & 3             & 10            & 0.3000000     & 0.06673951    & 0.6524529    \\\\\n",
       "\t logit         & 3             & 10            & 0.3000000     & 0.09976832    & 0.6236819    \\\\\n",
       "\t probit        & 3             & 10            & 0.3000000     & 0.08991347    & 0.6150429    \\\\\n",
       "\t profile       & 3             & 10            & 0.3000000     & 0.08470272    & 0.6065091    \\\\\n",
       "\t lrt           & 3             & 10            & 0.3000000     & 0.08458545    & 0.6065389    \\\\\n",
       "\t prop.test     & 3             & 10            & 0.3000000     & 0.08094782    & 0.6463293    \\\\\n",
       "\t wilson        & 3             & 10            & 0.3000000     & 0.10779127    & 0.6032219    \\\\\n",
       "\\end{tabular}\n"
      ],
      "text/markdown": [
       "\n",
       "| method | x | n | mean | lower | upper |\n",
       "|---|---|---|---|---|---|\n",
       "| agresti-coull | 3             | 10            | 0.3000000     | 0.10333842    | 0.6076747     |\n",
       "| asymptotic    | 3             | 10            | 0.3000000     | 0.01597423    | 0.5840258     |\n",
       "| bayes         | 3             | 10            | 0.3181818     | 0.07454423    | 0.5794516     |\n",
       "| cloglog       | 3             | 10            | 0.3000000     | 0.07113449    | 0.5778673     |\n",
       "| exact         | 3             | 10            | 0.3000000     | 0.06673951    | 0.6524529     |\n",
       "| logit         | 3             | 10            | 0.3000000     | 0.09976832    | 0.6236819     |\n",
       "| probit        | 3             | 10            | 0.3000000     | 0.08991347    | 0.6150429     |\n",
       "| profile       | 3             | 10            | 0.3000000     | 0.08470272    | 0.6065091     |\n",
       "| lrt           | 3             | 10            | 0.3000000     | 0.08458545    | 0.6065389     |\n",
       "| prop.test     | 3             | 10            | 0.3000000     | 0.08094782    | 0.6463293     |\n",
       "| wilson        | 3             | 10            | 0.3000000     | 0.10779127    | 0.6032219     |\n",
       "\n"
      ],
      "text/plain": [
       "   method        x n  mean      lower      upper    \n",
       "1  agresti-coull 3 10 0.3000000 0.10333842 0.6076747\n",
       "2  asymptotic    3 10 0.3000000 0.01597423 0.5840258\n",
       "3  bayes         3 10 0.3181818 0.07454423 0.5794516\n",
       "4  cloglog       3 10 0.3000000 0.07113449 0.5778673\n",
       "5  exact         3 10 0.3000000 0.06673951 0.6524529\n",
       "6  logit         3 10 0.3000000 0.09976832 0.6236819\n",
       "7  probit        3 10 0.3000000 0.08991347 0.6150429\n",
       "8  profile       3 10 0.3000000 0.08470272 0.6065091\n",
       "9  lrt           3 10 0.3000000 0.08458545 0.6065389\n",
       "10 prop.test     3 10 0.3000000 0.08094782 0.6463293\n",
       "11 wilson        3 10 0.3000000 0.10779127 0.6032219"
      ]
     },
     "metadata": {},
     "output_type": "display_data"
    }
   ],
   "source": [
    "binom.confint(3,10,method=\"all\")              # intervalle de confiance pour un petit dataset"
   ]
  },
  {
   "cell_type": "code",
   "execution_count": 7,
   "metadata": {},
   "outputs": [
    {
     "data": {
      "text/html": [
       "<table>\n",
       "<thead><tr><th scope=col>method</th><th scope=col>x</th><th scope=col>n</th><th scope=col>mean</th><th scope=col>lower</th><th scope=col>upper</th></tr></thead>\n",
       "<tbody>\n",
       "\t<tr><td>agresti-coull</td><td>300          </td><td>1000         </td><td>0.3000000    </td><td>0.2723966    </td><td>0.3291341    </td></tr>\n",
       "\t<tr><td>asymptotic   </td><td>300          </td><td>1000         </td><td>0.3000000    </td><td>0.2715974    </td><td>0.3284026    </td></tr>\n",
       "\t<tr><td>bayes        </td><td>300          </td><td>1000         </td><td>0.3001998    </td><td>0.2719448    </td><td>0.3286787    </td></tr>\n",
       "\t<tr><td>cloglog      </td><td>300          </td><td>1000         </td><td>0.3000000    </td><td>0.2718595    </td><td>0.3285966    </td></tr>\n",
       "\t<tr><td>exact        </td><td>300          </td><td>1000         </td><td>0.3000000    </td><td>0.2717211    </td><td>0.3294617    </td></tr>\n",
       "\t<tr><td>logit        </td><td>300          </td><td>1000         </td><td>0.3000000    </td><td>0.2723865    </td><td>0.3291466    </td></tr>\n",
       "\t<tr><td>probit       </td><td>300          </td><td>1000         </td><td>0.3000000    </td><td>0.2722277    </td><td>0.3289871    </td></tr>\n",
       "\t<tr><td>profile      </td><td>300          </td><td>1000         </td><td>0.3000000    </td><td>0.2721340    </td><td>0.3288893    </td></tr>\n",
       "\t<tr><td>lrt          </td><td>300          </td><td>1000         </td><td>0.3000000    </td><td>0.2721419    </td><td>0.3289000    </td></tr>\n",
       "\t<tr><td>prop.test    </td><td>300          </td><td>1000         </td><td>0.3000000    </td><td>0.2719222    </td><td>0.3296354    </td></tr>\n",
       "\t<tr><td>wilson       </td><td>300          </td><td>1000         </td><td>0.3000000    </td><td>0.2724068    </td><td>0.3291239    </td></tr>\n",
       "</tbody>\n",
       "</table>\n"
      ],
      "text/latex": [
       "\\begin{tabular}{r|llllll}\n",
       " method & x & n & mean & lower & upper\\\\\n",
       "\\hline\n",
       "\t agresti-coull & 300           & 1000          & 0.3000000     & 0.2723966     & 0.3291341    \\\\\n",
       "\t asymptotic    & 300           & 1000          & 0.3000000     & 0.2715974     & 0.3284026    \\\\\n",
       "\t bayes         & 300           & 1000          & 0.3001998     & 0.2719448     & 0.3286787    \\\\\n",
       "\t cloglog       & 300           & 1000          & 0.3000000     & 0.2718595     & 0.3285966    \\\\\n",
       "\t exact         & 300           & 1000          & 0.3000000     & 0.2717211     & 0.3294617    \\\\\n",
       "\t logit         & 300           & 1000          & 0.3000000     & 0.2723865     & 0.3291466    \\\\\n",
       "\t probit        & 300           & 1000          & 0.3000000     & 0.2722277     & 0.3289871    \\\\\n",
       "\t profile       & 300           & 1000          & 0.3000000     & 0.2721340     & 0.3288893    \\\\\n",
       "\t lrt           & 300           & 1000          & 0.3000000     & 0.2721419     & 0.3289000    \\\\\n",
       "\t prop.test     & 300           & 1000          & 0.3000000     & 0.2719222     & 0.3296354    \\\\\n",
       "\t wilson        & 300           & 1000          & 0.3000000     & 0.2724068     & 0.3291239    \\\\\n",
       "\\end{tabular}\n"
      ],
      "text/markdown": [
       "\n",
       "| method | x | n | mean | lower | upper |\n",
       "|---|---|---|---|---|---|\n",
       "| agresti-coull | 300           | 1000          | 0.3000000     | 0.2723966     | 0.3291341     |\n",
       "| asymptotic    | 300           | 1000          | 0.3000000     | 0.2715974     | 0.3284026     |\n",
       "| bayes         | 300           | 1000          | 0.3001998     | 0.2719448     | 0.3286787     |\n",
       "| cloglog       | 300           | 1000          | 0.3000000     | 0.2718595     | 0.3285966     |\n",
       "| exact         | 300           | 1000          | 0.3000000     | 0.2717211     | 0.3294617     |\n",
       "| logit         | 300           | 1000          | 0.3000000     | 0.2723865     | 0.3291466     |\n",
       "| probit        | 300           | 1000          | 0.3000000     | 0.2722277     | 0.3289871     |\n",
       "| profile       | 300           | 1000          | 0.3000000     | 0.2721340     | 0.3288893     |\n",
       "| lrt           | 300           | 1000          | 0.3000000     | 0.2721419     | 0.3289000     |\n",
       "| prop.test     | 300           | 1000          | 0.3000000     | 0.2719222     | 0.3296354     |\n",
       "| wilson        | 300           | 1000          | 0.3000000     | 0.2724068     | 0.3291239     |\n",
       "\n"
      ],
      "text/plain": [
       "   method        x   n    mean      lower     upper    \n",
       "1  agresti-coull 300 1000 0.3000000 0.2723966 0.3291341\n",
       "2  asymptotic    300 1000 0.3000000 0.2715974 0.3284026\n",
       "3  bayes         300 1000 0.3001998 0.2719448 0.3286787\n",
       "4  cloglog       300 1000 0.3000000 0.2718595 0.3285966\n",
       "5  exact         300 1000 0.3000000 0.2717211 0.3294617\n",
       "6  logit         300 1000 0.3000000 0.2723865 0.3291466\n",
       "7  probit        300 1000 0.3000000 0.2722277 0.3289871\n",
       "8  profile       300 1000 0.3000000 0.2721340 0.3288893\n",
       "9  lrt           300 1000 0.3000000 0.2721419 0.3289000\n",
       "10 prop.test     300 1000 0.3000000 0.2719222 0.3296354\n",
       "11 wilson        300 1000 0.3000000 0.2724068 0.3291239"
      ]
     },
     "metadata": {},
     "output_type": "display_data"
    }
   ],
   "source": [
    "binom.confint(300,1000,method=\"all\")             # intervalle de confiance pour un grand dataset"
   ]
  },
  {
   "cell_type": "markdown",
   "metadata": {},
   "source": [
    "**Plus la taille des données est grande et plus les différentes méthodes de détermination de l'intervalle de confiance seront cohérentes**"
   ]
  },
  {
   "cell_type": "markdown",
   "metadata": {},
   "source": [
    "# 06 Le coéfficient de corrélation"
   ]
  },
  {
   "cell_type": "code",
   "execution_count": 8,
   "metadata": {},
   "outputs": [
    {
     "data": {
      "text/html": [
       "0.43260389564375"
      ],
      "text/latex": [
       "0.43260389564375"
      ],
      "text/markdown": [
       "0.43260389564375"
      ],
      "text/plain": [
       "[1] 0.4326039"
      ]
     },
     "metadata": {},
     "output_type": "display_data"
    }
   ],
   "source": [
    "# exemple de calcul de la corrélation entre deux variables\n",
    "cor(smpc$age, smpc$n.enfant, use=\"complete.obs\")"
   ]
  },
  {
   "cell_type": "markdown",
   "metadata": {},
   "source": [
    "# 07 Risque rélatif et odds-ratio"
   ]
  },
  {
   "cell_type": "code",
   "execution_count": 5,
   "metadata": {},
   "outputs": [
    {
     "name": "stdout",
     "output_type": "stream",
     "text": [
      "'data.frame':\t799 obs. of  10 variables:\n",
      " $ age      : int  31 49 50 47 23 34 24 52 42 45 ...\n",
      " $ prof     : Factor w/ 8 levels \"agriculteur\",..: 3 NA 7 6 8 6 3 2 6 6 ...\n",
      " $ dep.cons : int  0 0 0 0 1 0 1 0 1 0 ...\n",
      " $ scz.cons : int  0 0 0 0 0 0 0 0 0 0 ...\n",
      " $ grav.cons: int  1 2 2 1 2 1 5 1 5 5 ...\n",
      " $ n.enfant : int  2 7 2 0 1 3 5 2 1 2 ...\n",
      " $ rs       : int  2 2 2 2 2 1 3 2 3 2 ...\n",
      " $ ed       : int  1 2 3 2 2 2 3 2 3 2 ...\n",
      " $ dr       : int  1 1 2 2 2 1 2 2 1 2 ...\n",
      " $ ed.b     : num  0 0 1 0 0 0 1 0 1 0 ...\n"
     ]
    }
   ],
   "source": [
    "# création de la variable binaire ed.b\n",
    "smpc$ed.b <- ifelse(smpc$ed>2, 1, 0)\n",
    "str(smpc)     # vérification de la bonne prise en compte de la création de la nouvelle variable"
   ]
  },
  {
   "cell_type": "code",
   "execution_count": 11,
   "metadata": {},
   "outputs": [
    {
     "data": {
      "text/plain": [
       "         smpc$ed\n",
       "smpc$ed.b   1   2   3 <NA>\n",
       "     0    315 155   0    0\n",
       "     1      0   0 222    0\n",
       "     <NA>   0   0   0  107"
      ]
     },
     "metadata": {},
     "output_type": "display_data"
    }
   ],
   "source": [
    "# Croisement des deux tables\n",
    "table(smpc$ed.b, smpc$ed, deparse.level=2, useNA=\"always\")"
   ]
  },
  {
   "cell_type": "code",
   "execution_count": 14,
   "metadata": {},
   "outputs": [
    {
     "name": "stderr",
     "output_type": "stream",
     "text": [
      "Installing package into 'D:/Documents/R/win-library/3.6'\n",
      "(as 'lib' is unspecified)\n",
      "also installing the dependencies 'cmprsk', 'etm'\n",
      "\n"
     ]
    },
    {
     "name": "stdout",
     "output_type": "stream",
     "text": [
      "package 'cmprsk' successfully unpacked and MD5 sums checked\n",
      "package 'etm' successfully unpacked and MD5 sums checked\n",
      "package 'Epi' successfully unpacked and MD5 sums checked\n",
      "\n",
      "The downloaded binary packages are in\n",
      "\tC:\\Users\\X230\\AppData\\Local\\Temp\\RtmpAdZBJ1\\downloaded_packages\n"
     ]
    }
   ],
   "source": [
    "install.packages(\"Epi\")   # INSTALLATION DE LA LIBRAIRIE"
   ]
  },
  {
   "cell_type": "code",
   "execution_count": 16,
   "metadata": {},
   "outputs": [
    {
     "name": "stderr",
     "output_type": "stream",
     "text": [
      "Warning message:\n",
      "\"package 'Epi' was built under R version 3.6.3\""
     ]
    }
   ],
   "source": [
    "library(Epi)             # CHARGEMENT DE LA LIBRAIRIE"
   ]
  },
  {
   "cell_type": "code",
   "execution_count": 17,
   "metadata": {},
   "outputs": [
    {
     "name": "stdout",
     "output_type": "stream",
     "text": [
      "2 by 2 table analysis: \n",
      "------------------------------------------------------ \n",
      "Outcome   : 0 \n",
      "Comparing : 0 vs. 1 \n",
      "\n",
      "    0   1    P(0) 95% conf. interval\n",
      "0 126  96  0.5676    0.5016   0.6312\n",
      "1 135 335  0.2872    0.2481   0.3298\n",
      "\n",
      "                                   95% conf. interval\n",
      "             Relative Risk: 1.9760    1.6456   2.3726\n",
      "         Sample Odds Ratio: 3.2569    2.3361   4.5408\n",
      "Conditional MLE Odds Ratio: 3.2508    2.3037   4.6035\n",
      "    Probability difference: 0.2803    0.2020   0.3549\n",
      "\n",
      "             Exact P-value: 0.0000 \n",
      "        Asymptotic P-value: 0.0000 \n",
      "------------------------------------------------------\n"
     ]
    }
   ],
   "source": [
    "# exemple de calcul du risque rélatif et de l'odds \n",
    "twoby2(1-smpc$ed.b, 1-smpc$dep.cons)"
   ]
  },
  {
   "cell_type": "markdown",
   "metadata": {},
   "source": [
    "<h2 align=center>QUIZ Exercice 02</h2>"
   ]
  },
  {
   "cell_type": "code",
   "execution_count": 3,
   "metadata": {},
   "outputs": [
    {
     "name": "stdout",
     "output_type": "stream",
     "text": [
      "'data.frame':\t799 obs. of  26 variables:\n",
      " $ age         : int  31 49 50 47 23 34 24 52 42 45 ...\n",
      " $ prof        : Factor w/ 8 levels \"agriculteur\",..: 3 NA 7 6 8 6 3 2 6 6 ...\n",
      " $ duree       : int  4 NA 5 NA 4 NA NA 5 4 NA ...\n",
      " $ discip      : int  0 0 0 0 1 0 0 0 1 0 ...\n",
      " $ n.enfant    : int  2 7 2 0 1 3 5 2 1 2 ...\n",
      " $ n.fratrie   : int  4 3 2 6 6 2 3 9 12 5 ...\n",
      " $ ecole       : int  1 2 2 1 1 2 1 2 1 2 ...\n",
      " $ separation  : int  0 1 0 1 1 0 1 0 1 0 ...\n",
      " $ juge.enfant : int  0 0 0 0 NA 0 1 0 1 0 ...\n",
      " $ place       : int  0 0 0 1 1 0 1 0 0 0 ...\n",
      " $ abus        : int  0 0 0 0 0 0 0 0 1 1 ...\n",
      " $ grav.cons   : int  1 2 2 1 2 1 5 1 5 5 ...\n",
      " $ dep.cons    : int  0 0 0 0 1 0 1 0 1 0 ...\n",
      " $ ago.cons    : int  1 0 0 0 0 0 0 0 0 0 ...\n",
      " $ ptsd.cons   : int  0 0 0 0 0 0 0 0 0 0 ...\n",
      " $ alc.cons    : int  0 0 0 0 0 0 0 0 1 1 ...\n",
      " $ subst.cons  : int  0 0 0 0 0 0 1 0 1 0 ...\n",
      " $ scz.cons    : int  0 0 0 0 0 0 0 0 0 0 ...\n",
      " $ char        : int  1 1 1 1 1 1 1 1 4 1 ...\n",
      " $ rs          : int  2 2 2 2 2 1 3 2 3 2 ...\n",
      " $ ed          : int  1 2 3 2 2 2 3 2 3 2 ...\n",
      " $ dr          : int  1 1 2 2 2 1 2 2 1 2 ...\n",
      " $ suicide.s   : int  0 0 0 1 0 0 3 0 4 0 ...\n",
      " $ suicide.hr  : int  0 0 0 0 0 0 1 0 1 0 ...\n",
      " $ suicide.past: int  0 0 0 0 1 0 1 0 1 0 ...\n",
      " $ dur.interv  : int  NA 70 NA 105 NA NA 105 84 78 60 ...\n"
     ]
    }
   ],
   "source": [
    "# importation des données\n",
    "smp <- read.csv2(\"smp2.csv\")\n",
    "str(smp)"
   ]
  },
  {
   "cell_type": "code",
   "execution_count": 21,
   "metadata": {},
   "outputs": [],
   "source": [
    "edf <- factor(smp$ed)"
   ]
  },
  {
   "cell_type": "code",
   "execution_count": 22,
   "metadata": {},
   "outputs": [
    {
     "data": {
      "text/html": [
       "<ol class=list-inline>\n",
       "\t<li>3</li>\n",
       "\t<li>7</li>\n",
       "\t<li>9</li>\n",
       "\t<li>35</li>\n",
       "\t<li>40</li>\n",
       "\t<li>42</li>\n",
       "\t<li>53</li>\n",
       "\t<li>54</li>\n",
       "\t<li>55</li>\n",
       "\t<li>56</li>\n",
       "\t<li>57</li>\n",
       "\t<li>58</li>\n",
       "\t<li>62</li>\n",
       "\t<li>63</li>\n",
       "\t<li>64</li>\n",
       "\t<li>73</li>\n",
       "\t<li>78</li>\n",
       "\t<li>80</li>\n",
       "\t<li>88</li>\n",
       "\t<li>89</li>\n",
       "\t<li>90</li>\n",
       "\t<li>92</li>\n",
       "\t<li>97</li>\n",
       "\t<li>104</li>\n",
       "\t<li>111</li>\n",
       "\t<li>131</li>\n",
       "\t<li>133</li>\n",
       "\t<li>134</li>\n",
       "\t<li>135</li>\n",
       "\t<li>145</li>\n",
       "\t<li>147</li>\n",
       "\t<li>150</li>\n",
       "\t<li>155</li>\n",
       "\t<li>161</li>\n",
       "\t<li>163</li>\n",
       "\t<li>166</li>\n",
       "\t<li>168</li>\n",
       "\t<li>174</li>\n",
       "\t<li>175</li>\n",
       "\t<li>180</li>\n",
       "\t<li>181</li>\n",
       "\t<li>183</li>\n",
       "\t<li>184</li>\n",
       "\t<li>193</li>\n",
       "\t<li>194</li>\n",
       "\t<li>197</li>\n",
       "\t<li>200</li>\n",
       "\t<li>202</li>\n",
       "\t<li>204</li>\n",
       "\t<li>206</li>\n",
       "\t<li>211</li>\n",
       "\t<li>215</li>\n",
       "\t<li>216</li>\n",
       "\t<li>220</li>\n",
       "\t<li>221</li>\n",
       "\t<li>223</li>\n",
       "\t<li>233</li>\n",
       "\t<li>236</li>\n",
       "\t<li>237</li>\n",
       "\t<li>239</li>\n",
       "\t<li>242</li>\n",
       "\t<li>244</li>\n",
       "\t<li>250</li>\n",
       "\t<li>253</li>\n",
       "\t<li>256</li>\n",
       "\t<li>262</li>\n",
       "\t<li>278</li>\n",
       "\t<li>283</li>\n",
       "\t<li>285</li>\n",
       "\t<li>289</li>\n",
       "\t<li>295</li>\n",
       "\t<li>297</li>\n",
       "\t<li>303</li>\n",
       "\t<li>309</li>\n",
       "\t<li>312</li>\n",
       "\t<li>335</li>\n",
       "\t<li>337</li>\n",
       "\t<li>341</li>\n",
       "\t<li>346</li>\n",
       "\t<li>357</li>\n",
       "\t<li>362</li>\n",
       "\t<li>363</li>\n",
       "\t<li>364</li>\n",
       "\t<li>365</li>\n",
       "\t<li>369</li>\n",
       "\t<li>371</li>\n",
       "\t<li>372</li>\n",
       "\t<li>373</li>\n",
       "\t<li>374</li>\n",
       "\t<li>375</li>\n",
       "\t<li>376</li>\n",
       "\t<li>377</li>\n",
       "\t<li>378</li>\n",
       "\t<li>380</li>\n",
       "\t<li>381</li>\n",
       "\t<li>382</li>\n",
       "\t<li>383</li>\n",
       "\t<li>384</li>\n",
       "\t<li>386</li>\n",
       "\t<li>387</li>\n",
       "\t<li>388</li>\n",
       "\t<li>389</li>\n",
       "\t<li>390</li>\n",
       "\t<li>391</li>\n",
       "\t<li>392</li>\n",
       "\t<li>393</li>\n",
       "\t<li>396</li>\n",
       "\t<li>397</li>\n",
       "\t<li>398</li>\n",
       "\t<li>399</li>\n",
       "\t<li>400</li>\n",
       "\t<li>401</li>\n",
       "\t<li>402</li>\n",
       "\t<li>403</li>\n",
       "\t<li>406</li>\n",
       "\t<li>407</li>\n",
       "\t<li>409</li>\n",
       "\t<li>410</li>\n",
       "\t<li>411</li>\n",
       "\t<li>413</li>\n",
       "\t<li>414</li>\n",
       "\t<li>415</li>\n",
       "\t<li>416</li>\n",
       "\t<li>419</li>\n",
       "\t<li>420</li>\n",
       "\t<li>421</li>\n",
       "\t<li>423</li>\n",
       "\t<li>434</li>\n",
       "\t<li>460</li>\n",
       "\t<li>467</li>\n",
       "\t<li>471</li>\n",
       "\t<li>477</li>\n",
       "\t<li>482</li>\n",
       "\t<li>490</li>\n",
       "\t<li>498</li>\n",
       "\t<li>503</li>\n",
       "\t<li>507</li>\n",
       "\t<li>508</li>\n",
       "\t<li>509</li>\n",
       "\t<li>517</li>\n",
       "\t<li>518</li>\n",
       "\t<li>523</li>\n",
       "\t<li>526</li>\n",
       "\t<li>527</li>\n",
       "\t<li>528</li>\n",
       "\t<li>530</li>\n",
       "\t<li>531</li>\n",
       "\t<li>533</li>\n",
       "\t<li>534</li>\n",
       "\t<li>536</li>\n",
       "\t<li>538</li>\n",
       "\t<li>541</li>\n",
       "\t<li>543</li>\n",
       "\t<li>544</li>\n",
       "\t<li>546</li>\n",
       "\t<li>552</li>\n",
       "\t<li>556</li>\n",
       "\t<li>564</li>\n",
       "\t<li>565</li>\n",
       "\t<li>566</li>\n",
       "\t<li>569</li>\n",
       "\t<li>570</li>\n",
       "\t<li>572</li>\n",
       "\t<li>573</li>\n",
       "\t<li>574</li>\n",
       "\t<li>575</li>\n",
       "\t<li>577</li>\n",
       "\t<li>578</li>\n",
       "\t<li>582</li>\n",
       "\t<li>583</li>\n",
       "\t<li>584</li>\n",
       "\t<li>585</li>\n",
       "\t<li>589</li>\n",
       "\t<li>590</li>\n",
       "\t<li>592</li>\n",
       "\t<li>594</li>\n",
       "\t<li>596</li>\n",
       "\t<li>597</li>\n",
       "\t<li>599</li>\n",
       "\t<li>604</li>\n",
       "\t<li>605</li>\n",
       "\t<li>610</li>\n",
       "\t<li>612</li>\n",
       "\t<li>614</li>\n",
       "\t<li>615</li>\n",
       "\t<li>616</li>\n",
       "\t<li>617</li>\n",
       "\t<li>619</li>\n",
       "\t<li>621</li>\n",
       "\t<li>623</li>\n",
       "\t<li>624</li>\n",
       "\t<li>626</li>\n",
       "\t<li>628</li>\n",
       "\t<li>629</li>\n",
       "\t<li>630</li>\n",
       "\t<li>633</li>\n",
       "\t<li>634</li>\n",
       "\t<li>647</li>\n",
       "\t<li>649</li>\n",
       "\t<li>653</li>\n",
       "\t<li>655</li>\n",
       "\t<li>673</li>\n",
       "\t<li>741</li>\n",
       "\t<li>750</li>\n",
       "\t<li>751</li>\n",
       "\t<li>755</li>\n",
       "\t<li>765</li>\n",
       "\t<li>766</li>\n",
       "\t<li>767</li>\n",
       "\t<li>768</li>\n",
       "\t<li>769</li>\n",
       "\t<li>771</li>\n",
       "\t<li>775</li>\n",
       "\t<li>777</li>\n",
       "\t<li>778</li>\n",
       "\t<li>779</li>\n",
       "\t<li>784</li>\n",
       "\t<li>785</li>\n",
       "\t<li>786</li>\n",
       "\t<li>788</li>\n",
       "\t<li>789</li>\n",
       "\t<li>790</li>\n",
       "</ol>\n"
      ],
      "text/latex": [
       "\\begin{enumerate*}\n",
       "\\item 3\n",
       "\\item 7\n",
       "\\item 9\n",
       "\\item 35\n",
       "\\item 40\n",
       "\\item 42\n",
       "\\item 53\n",
       "\\item 54\n",
       "\\item 55\n",
       "\\item 56\n",
       "\\item 57\n",
       "\\item 58\n",
       "\\item 62\n",
       "\\item 63\n",
       "\\item 64\n",
       "\\item 73\n",
       "\\item 78\n",
       "\\item 80\n",
       "\\item 88\n",
       "\\item 89\n",
       "\\item 90\n",
       "\\item 92\n",
       "\\item 97\n",
       "\\item 104\n",
       "\\item 111\n",
       "\\item 131\n",
       "\\item 133\n",
       "\\item 134\n",
       "\\item 135\n",
       "\\item 145\n",
       "\\item 147\n",
       "\\item 150\n",
       "\\item 155\n",
       "\\item 161\n",
       "\\item 163\n",
       "\\item 166\n",
       "\\item 168\n",
       "\\item 174\n",
       "\\item 175\n",
       "\\item 180\n",
       "\\item 181\n",
       "\\item 183\n",
       "\\item 184\n",
       "\\item 193\n",
       "\\item 194\n",
       "\\item 197\n",
       "\\item 200\n",
       "\\item 202\n",
       "\\item 204\n",
       "\\item 206\n",
       "\\item 211\n",
       "\\item 215\n",
       "\\item 216\n",
       "\\item 220\n",
       "\\item 221\n",
       "\\item 223\n",
       "\\item 233\n",
       "\\item 236\n",
       "\\item 237\n",
       "\\item 239\n",
       "\\item 242\n",
       "\\item 244\n",
       "\\item 250\n",
       "\\item 253\n",
       "\\item 256\n",
       "\\item 262\n",
       "\\item 278\n",
       "\\item 283\n",
       "\\item 285\n",
       "\\item 289\n",
       "\\item 295\n",
       "\\item 297\n",
       "\\item 303\n",
       "\\item 309\n",
       "\\item 312\n",
       "\\item 335\n",
       "\\item 337\n",
       "\\item 341\n",
       "\\item 346\n",
       "\\item 357\n",
       "\\item 362\n",
       "\\item 363\n",
       "\\item 364\n",
       "\\item 365\n",
       "\\item 369\n",
       "\\item 371\n",
       "\\item 372\n",
       "\\item 373\n",
       "\\item 374\n",
       "\\item 375\n",
       "\\item 376\n",
       "\\item 377\n",
       "\\item 378\n",
       "\\item 380\n",
       "\\item 381\n",
       "\\item 382\n",
       "\\item 383\n",
       "\\item 384\n",
       "\\item 386\n",
       "\\item 387\n",
       "\\item 388\n",
       "\\item 389\n",
       "\\item 390\n",
       "\\item 391\n",
       "\\item 392\n",
       "\\item 393\n",
       "\\item 396\n",
       "\\item 397\n",
       "\\item 398\n",
       "\\item 399\n",
       "\\item 400\n",
       "\\item 401\n",
       "\\item 402\n",
       "\\item 403\n",
       "\\item 406\n",
       "\\item 407\n",
       "\\item 409\n",
       "\\item 410\n",
       "\\item 411\n",
       "\\item 413\n",
       "\\item 414\n",
       "\\item 415\n",
       "\\item 416\n",
       "\\item 419\n",
       "\\item 420\n",
       "\\item 421\n",
       "\\item 423\n",
       "\\item 434\n",
       "\\item 460\n",
       "\\item 467\n",
       "\\item 471\n",
       "\\item 477\n",
       "\\item 482\n",
       "\\item 490\n",
       "\\item 498\n",
       "\\item 503\n",
       "\\item 507\n",
       "\\item 508\n",
       "\\item 509\n",
       "\\item 517\n",
       "\\item 518\n",
       "\\item 523\n",
       "\\item 526\n",
       "\\item 527\n",
       "\\item 528\n",
       "\\item 530\n",
       "\\item 531\n",
       "\\item 533\n",
       "\\item 534\n",
       "\\item 536\n",
       "\\item 538\n",
       "\\item 541\n",
       "\\item 543\n",
       "\\item 544\n",
       "\\item 546\n",
       "\\item 552\n",
       "\\item 556\n",
       "\\item 564\n",
       "\\item 565\n",
       "\\item 566\n",
       "\\item 569\n",
       "\\item 570\n",
       "\\item 572\n",
       "\\item 573\n",
       "\\item 574\n",
       "\\item 575\n",
       "\\item 577\n",
       "\\item 578\n",
       "\\item 582\n",
       "\\item 583\n",
       "\\item 584\n",
       "\\item 585\n",
       "\\item 589\n",
       "\\item 590\n",
       "\\item 592\n",
       "\\item 594\n",
       "\\item 596\n",
       "\\item 597\n",
       "\\item 599\n",
       "\\item 604\n",
       "\\item 605\n",
       "\\item 610\n",
       "\\item 612\n",
       "\\item 614\n",
       "\\item 615\n",
       "\\item 616\n",
       "\\item 617\n",
       "\\item 619\n",
       "\\item 621\n",
       "\\item 623\n",
       "\\item 624\n",
       "\\item 626\n",
       "\\item 628\n",
       "\\item 629\n",
       "\\item 630\n",
       "\\item 633\n",
       "\\item 634\n",
       "\\item 647\n",
       "\\item 649\n",
       "\\item 653\n",
       "\\item 655\n",
       "\\item 673\n",
       "\\item 741\n",
       "\\item 750\n",
       "\\item 751\n",
       "\\item 755\n",
       "\\item 765\n",
       "\\item 766\n",
       "\\item 767\n",
       "\\item 768\n",
       "\\item 769\n",
       "\\item 771\n",
       "\\item 775\n",
       "\\item 777\n",
       "\\item 778\n",
       "\\item 779\n",
       "\\item 784\n",
       "\\item 785\n",
       "\\item 786\n",
       "\\item 788\n",
       "\\item 789\n",
       "\\item 790\n",
       "\\end{enumerate*}\n"
      ],
      "text/markdown": [
       "1. 3\n",
       "2. 7\n",
       "3. 9\n",
       "4. 35\n",
       "5. 40\n",
       "6. 42\n",
       "7. 53\n",
       "8. 54\n",
       "9. 55\n",
       "10. 56\n",
       "11. 57\n",
       "12. 58\n",
       "13. 62\n",
       "14. 63\n",
       "15. 64\n",
       "16. 73\n",
       "17. 78\n",
       "18. 80\n",
       "19. 88\n",
       "20. 89\n",
       "21. 90\n",
       "22. 92\n",
       "23. 97\n",
       "24. 104\n",
       "25. 111\n",
       "26. 131\n",
       "27. 133\n",
       "28. 134\n",
       "29. 135\n",
       "30. 145\n",
       "31. 147\n",
       "32. 150\n",
       "33. 155\n",
       "34. 161\n",
       "35. 163\n",
       "36. 166\n",
       "37. 168\n",
       "38. 174\n",
       "39. 175\n",
       "40. 180\n",
       "41. 181\n",
       "42. 183\n",
       "43. 184\n",
       "44. 193\n",
       "45. 194\n",
       "46. 197\n",
       "47. 200\n",
       "48. 202\n",
       "49. 204\n",
       "50. 206\n",
       "51. 211\n",
       "52. 215\n",
       "53. 216\n",
       "54. 220\n",
       "55. 221\n",
       "56. 223\n",
       "57. 233\n",
       "58. 236\n",
       "59. 237\n",
       "60. 239\n",
       "61. 242\n",
       "62. 244\n",
       "63. 250\n",
       "64. 253\n",
       "65. 256\n",
       "66. 262\n",
       "67. 278\n",
       "68. 283\n",
       "69. 285\n",
       "70. 289\n",
       "71. 295\n",
       "72. 297\n",
       "73. 303\n",
       "74. 309\n",
       "75. 312\n",
       "76. 335\n",
       "77. 337\n",
       "78. 341\n",
       "79. 346\n",
       "80. 357\n",
       "81. 362\n",
       "82. 363\n",
       "83. 364\n",
       "84. 365\n",
       "85. 369\n",
       "86. 371\n",
       "87. 372\n",
       "88. 373\n",
       "89. 374\n",
       "90. 375\n",
       "91. 376\n",
       "92. 377\n",
       "93. 378\n",
       "94. 380\n",
       "95. 381\n",
       "96. 382\n",
       "97. 383\n",
       "98. 384\n",
       "99. 386\n",
       "100. 387\n",
       "101. 388\n",
       "102. 389\n",
       "103. 390\n",
       "104. 391\n",
       "105. 392\n",
       "106. 393\n",
       "107. 396\n",
       "108. 397\n",
       "109. 398\n",
       "110. 399\n",
       "111. 400\n",
       "112. 401\n",
       "113. 402\n",
       "114. 403\n",
       "115. 406\n",
       "116. 407\n",
       "117. 409\n",
       "118. 410\n",
       "119. 411\n",
       "120. 413\n",
       "121. 414\n",
       "122. 415\n",
       "123. 416\n",
       "124. 419\n",
       "125. 420\n",
       "126. 421\n",
       "127. 423\n",
       "128. 434\n",
       "129. 460\n",
       "130. 467\n",
       "131. 471\n",
       "132. 477\n",
       "133. 482\n",
       "134. 490\n",
       "135. 498\n",
       "136. 503\n",
       "137. 507\n",
       "138. 508\n",
       "139. 509\n",
       "140. 517\n",
       "141. 518\n",
       "142. 523\n",
       "143. 526\n",
       "144. 527\n",
       "145. 528\n",
       "146. 530\n",
       "147. 531\n",
       "148. 533\n",
       "149. 534\n",
       "150. 536\n",
       "151. 538\n",
       "152. 541\n",
       "153. 543\n",
       "154. 544\n",
       "155. 546\n",
       "156. 552\n",
       "157. 556\n",
       "158. 564\n",
       "159. 565\n",
       "160. 566\n",
       "161. 569\n",
       "162. 570\n",
       "163. 572\n",
       "164. 573\n",
       "165. 574\n",
       "166. 575\n",
       "167. 577\n",
       "168. 578\n",
       "169. 582\n",
       "170. 583\n",
       "171. 584\n",
       "172. 585\n",
       "173. 589\n",
       "174. 590\n",
       "175. 592\n",
       "176. 594\n",
       "177. 596\n",
       "178. 597\n",
       "179. 599\n",
       "180. 604\n",
       "181. 605\n",
       "182. 610\n",
       "183. 612\n",
       "184. 614\n",
       "185. 615\n",
       "186. 616\n",
       "187. 617\n",
       "188. 619\n",
       "189. 621\n",
       "190. 623\n",
       "191. 624\n",
       "192. 626\n",
       "193. 628\n",
       "194. 629\n",
       "195. 630\n",
       "196. 633\n",
       "197. 634\n",
       "198. 647\n",
       "199. 649\n",
       "200. 653\n",
       "201. 655\n",
       "202. 673\n",
       "203. 741\n",
       "204. 750\n",
       "205. 751\n",
       "206. 755\n",
       "207. 765\n",
       "208. 766\n",
       "209. 767\n",
       "210. 768\n",
       "211. 769\n",
       "212. 771\n",
       "213. 775\n",
       "214. 777\n",
       "215. 778\n",
       "216. 779\n",
       "217. 784\n",
       "218. 785\n",
       "219. 786\n",
       "220. 788\n",
       "221. 789\n",
       "222. 790\n",
       "\n",
       "\n"
      ],
      "text/plain": [
       "  [1]   3   7   9  35  40  42  53  54  55  56  57  58  62  63  64  73  78  80\n",
       " [19]  88  89  90  92  97 104 111 131 133 134 135 145 147 150 155 161 163 166\n",
       " [37] 168 174 175 180 181 183 184 193 194 197 200 202 204 206 211 215 216 220\n",
       " [55] 221 223 233 236 237 239 242 244 250 253 256 262 278 283 285 289 295 297\n",
       " [73] 303 309 312 335 337 341 346 357 362 363 364 365 369 371 372 373 374 375\n",
       " [91] 376 377 378 380 381 382 383 384 386 387 388 389 390 391 392 393 396 397\n",
       "[109] 398 399 400 401 402 403 406 407 409 410 411 413 414 415 416 419 420 421\n",
       "[127] 423 434 460 467 471 477 482 490 498 503 507 508 509 517 518 523 526 527\n",
       "[145] 528 530 531 533 534 536 538 541 543 544 546 552 556 564 565 566 569 570\n",
       "[163] 572 573 574 575 577 578 582 583 584 585 589 590 592 594 596 597 599 604\n",
       "[181] 605 610 612 614 615 616 617 619 621 623 624 626 628 629 630 633 634 647\n",
       "[199] 649 653 655 673 741 750 751 755 765 766 767 768 769 771 775 777 778 779\n",
       "[217] 784 785 786 788 789 790"
      ]
     },
     "metadata": {},
     "output_type": "display_data"
    }
   ],
   "source": [
    "# Question 1.\n",
    "which(edf == 3)"
   ]
  },
  {
   "cell_type": "code",
   "execution_count": 23,
   "metadata": {
    "scrolled": true
   },
   "outputs": [
    {
     "data": {
      "image/png": "iVBORw0KGgoAAAANSUhEUgAAA0gAAANICAMAAADKOT/pAAAAM1BMVEUAAABNTU1oaGh8fHyM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\nQgISEBKQgJCABIQEJCAkIMF/AW6J9agiN4gjAAAAAElFTkSuQmCC",
      "text/plain": [
       "plot without title"
      ]
     },
     "metadata": {},
     "output_type": "display_data"
    }
   ],
   "source": [
    "# Question 2.\n",
    "barplot(table(edf))"
   ]
  },
  {
   "cell_type": "code",
   "execution_count": 4,
   "metadata": {},
   "outputs": [],
   "source": [
    "# Question 3.\n",
    "help(subset)"
   ]
  },
  {
   "cell_type": "markdown",
   "metadata": {},
   "source": [
    "**Lab 04 pour apprendre la fonction subset**"
   ]
  },
  {
   "cell_type": "code",
   "execution_count": 30,
   "metadata": {},
   "outputs": [
    {
     "data": {
      "text/html": [
       "<table>\n",
       "<thead><tr><th></th><th scope=col>age</th><th scope=col>n.enfant</th><th scope=col>prof</th></tr></thead>\n",
       "<tbody>\n",
       "\t<tr><th scope=row>3</th><td>50                </td><td>2                 </td><td>prof.intermédiaire</td></tr>\n",
       "\t<tr><th scope=row>5</th><td>23                </td><td>1                 </td><td>sans emploi       </td></tr>\n",
       "\t<tr><th scope=row>11</th><td>31                </td><td>0                 </td><td>prof.intermédiaire</td></tr>\n",
       "\t<tr><th scope=row>17</th><td>60                </td><td>2                 </td><td>prof.intermédiaire</td></tr>\n",
       "\t<tr><th scope=row>23</th><td>32                </td><td>0                 </td><td>sans emploi       </td></tr>\n",
       "\t<tr><th scope=row>27</th><td>32                </td><td>1                 </td><td>sans emploi       </td></tr>\n",
       "</tbody>\n",
       "</table>\n"
      ],
      "text/latex": [
       "\\begin{tabular}{r|lll}\n",
       "  & age & n.enfant & prof\\\\\n",
       "\\hline\n",
       "\t3 & 50                 & 2                  & prof.intermédiaire\\\\\n",
       "\t5 & 23                 & 1                  & sans emploi       \\\\\n",
       "\t11 & 31                 & 0                  & prof.intermédiaire\\\\\n",
       "\t17 & 60                 & 2                  & prof.intermédiaire\\\\\n",
       "\t23 & 32                 & 0                  & sans emploi       \\\\\n",
       "\t27 & 32                 & 1                  & sans emploi       \\\\\n",
       "\\end{tabular}\n"
      ],
      "text/markdown": [
       "\n",
       "| <!--/--> | age | n.enfant | prof |\n",
       "|---|---|---|---|\n",
       "| 3 | 50                 | 2                  | prof.intermédiaire |\n",
       "| 5 | 23                 | 1                  | sans emploi        |\n",
       "| 11 | 31                 | 0                  | prof.intermédiaire |\n",
       "| 17 | 60                 | 2                  | prof.intermédiaire |\n",
       "| 23 | 32                 | 0                  | sans emploi        |\n",
       "| 27 | 32                 | 1                  | sans emploi        |\n",
       "\n"
      ],
      "text/plain": [
       "   age n.enfant prof              \n",
       "3  50  2        prof.intermédiaire\n",
       "5  23  1        sans emploi       \n",
       "11 31  0        prof.intermédiaire\n",
       "17 60  2        prof.intermédiaire\n",
       "23 32  0        sans emploi       \n",
       "27 32  1        sans emploi       "
      ]
     },
     "metadata": {},
     "output_type": "display_data"
    },
    {
     "name": "stdout",
     "output_type": "stream",
     "text": [
      "'data.frame':\t304 obs. of  3 variables:\n",
      " $ age     : int  50 23 31 60 32 32 24 38 29 38 ...\n",
      " $ n.enfant: int  2 1 0 2 0 1 1 3 2 2 ...\n",
      " $ prof    : Factor w/ 8 levels \"agriculteur\",..: 7 8 7 7 8 8 8 8 7 7 ...\n"
     ]
    }
   ],
   "source": [
    "# Création du sous ensemble\n",
    "so <- subset(smp, prof==\"sans emploi\" | prof == \"prof.intermédiaire\" | prof == \"cadre\", c(age, n.enfant, prof))\n",
    "head(so)\n",
    "str(so)"
   ]
  },
  {
   "cell_type": "code",
   "execution_count": 32,
   "metadata": {},
   "outputs": [
    {
     "data": {
      "text/plain": [
       "      age           n.enfant                      prof    \n",
       " Min.   :19.00   Min.   : 0.000   cadre             : 24  \n",
       " 1st Qu.:27.00   1st Qu.: 0.000   prof.intermédiaire: 58  \n",
       " Median :36.00   Median : 1.000   sans emploi       :222  \n",
       " Mean   :38.42   Mean   : 1.648                           \n",
       " 3rd Qu.:47.25   3rd Qu.: 3.000                           \n",
       " Max.   :83.00   Max.   :13.000                           \n",
       "                 NA's   :11                               "
      ]
     },
     "metadata": {},
     "output_type": "display_data"
    }
   ],
   "source": [
    "# conversion de prof en varibale catégorielle\n",
    "so$prof <- factor(so$prof)\n",
    "# resumer du sous ensemble\n",
    "summary(so)"
   ]
  },
  {
   "cell_type": "code",
   "execution_count": 29,
   "metadata": {},
   "outputs": [
    {
     "data": {
      "text/plain": [
       "\n",
       "       agriculteur            artisan              autre              cadre \n",
       "                 6                 90                 31                 24 \n",
       "           employé            ouvrier prof.intermédiaire        sans emploi \n",
       "               135                227                 58                222 "
      ]
     },
     "metadata": {},
     "output_type": "display_data"
    }
   ],
   "source": [
    "# Verification des effectifs dans l'ensemble d'origine\n",
    "table(smp$prof)"
   ]
  },
  {
   "cell_type": "markdown",
   "metadata": {},
   "source": [
    "Génial, nous constatons que le compte y est."
   ]
  },
  {
   "cell_type": "code",
   "execution_count": 33,
   "metadata": {},
   "outputs": [
    {
     "name": "stdout",
     "output_type": "stream",
     "text": [
      "[1] \"Calcul du nombre moyen d'enfant par profession\"\n"
     ]
    },
    {
     "data": {
      "text/html": [
       "<table>\n",
       "<thead><tr><th scope=col>prof</th><th scope=col>n.enfant</th></tr></thead>\n",
       "<tbody>\n",
       "\t<tr><td>cadre             </td><td>2.166667          </td></tr>\n",
       "\t<tr><td>prof.intermédiaire</td><td>2.107143          </td></tr>\n",
       "\t<tr><td>sans emploi       </td><td>1.469484          </td></tr>\n",
       "</tbody>\n",
       "</table>\n"
      ],
      "text/latex": [
       "\\begin{tabular}{r|ll}\n",
       " prof & n.enfant\\\\\n",
       "\\hline\n",
       "\t cadre              & 2.166667          \\\\\n",
       "\t prof.intermédiaire & 2.107143          \\\\\n",
       "\t sans emploi        & 1.469484          \\\\\n",
       "\\end{tabular}\n"
      ],
      "text/markdown": [
       "\n",
       "| prof | n.enfant |\n",
       "|---|---|\n",
       "| cadre              | 2.166667           |\n",
       "| prof.intermédiaire | 2.107143           |\n",
       "| sans emploi        | 1.469484           |\n",
       "\n"
      ],
      "text/plain": [
       "  prof               n.enfant\n",
       "1 cadre              2.166667\n",
       "2 prof.intermédiaire 2.107143\n",
       "3 sans emploi        1.469484"
      ]
     },
     "metadata": {},
     "output_type": "display_data"
    }
   ],
   "source": [
    "print(\"Calcul du nombre moyen d'enfant par profession\")\n",
    "aggregate(n.enfant ~ prof, so, mean)"
   ]
  },
  {
   "cell_type": "code",
   "execution_count": 34,
   "metadata": {
    "scrolled": true
   },
   "outputs": [
    {
     "data": {
      "image/png": "iVBORw0KGgoAAAANSUhEUgAAA0gAAANICAMAAADKOT/pAAAAMFBMVEUAAABNTU1oaGh8fHyM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\nRU5ErkJggg==",
      "text/plain": [
       "Plot with title \"Distribution du nombre d'enfant par profession\""
      ]
     },
     "metadata": {},
     "output_type": "display_data"
    }
   ],
   "source": [
    "boxplot(n.enfant ~ prof, so, main=\"Distribution du nombre d'enfant par profession\")"
   ]
  },
  {
   "cell_type": "markdown",
   "metadata": {},
   "source": [
    "**1. Réalisation d'une ANOVA (Analyse de Variance) grâce à la fonction lm**"
   ]
  },
  {
   "cell_type": "code",
   "execution_count": 35,
   "metadata": {},
   "outputs": [],
   "source": [
    "help(lm)        # Lecture de la documentation sur cette fonction"
   ]
  },
  {
   "cell_type": "code",
   "execution_count": 37,
   "metadata": {},
   "outputs": [
    {
     "data": {
      "text/plain": [
       "\n",
       "Call:\n",
       "lm(formula = n.enfant ~ prof, data = so)\n",
       "\n",
       "Coefficients:\n",
       "           (Intercept)  profprof.intermédiaire         profsans emploi  \n",
       "               2.16667                -0.05952                -0.69718  \n"
      ]
     },
     "metadata": {},
     "output_type": "display_data"
    }
   ],
   "source": [
    "# réalisation de l'ANOVA\n",
    "m01 <- lm(n.enfant ~ prof, so)\n",
    "m01"
   ]
  },
  {
   "cell_type": "code",
   "execution_count": 39,
   "metadata": {},
   "outputs": [
    {
     "name": "stdout",
     "output_type": "stream",
     "text": [
      "[1] \"Tableau d'Analyse de Variance\"\n"
     ]
    },
    {
     "data": {
      "text/html": [
       "<table>\n",
       "<thead><tr><th></th><th scope=col>Df</th><th scope=col>Sum of Sq</th><th scope=col>RSS</th><th scope=col>AIC</th><th scope=col>F value</th><th scope=col>Pr(&gt;F)</th></tr></thead>\n",
       "<tbody>\n",
       "\t<tr><th scope=row>&lt;none&gt;</th><td>NA        </td><td>      NA  </td><td>947.7421  </td><td>349.9556  </td><td>      NA  </td><td>        NA</td></tr>\n",
       "\t<tr><th scope=row>prof</th><td> 2        </td><td>25.04969  </td><td>972.7918  </td><td>353.5993  </td><td>3.832482  </td><td>0.02276094</td></tr>\n",
       "</tbody>\n",
       "</table>\n"
      ],
      "text/latex": [
       "\\begin{tabular}{r|llllll}\n",
       "  & Df & Sum of Sq & RSS & AIC & F value & Pr(>F)\\\\\n",
       "\\hline\n",
       "\t<none> & NA         &       NA   & 947.7421   & 349.9556   &       NA   &         NA\\\\\n",
       "\tprof &  2         & 25.04969   & 972.7918   & 353.5993   & 3.832482   & 0.02276094\\\\\n",
       "\\end{tabular}\n"
      ],
      "text/markdown": [
       "\n",
       "| <!--/--> | Df | Sum of Sq | RSS | AIC | F value | Pr(>F) |\n",
       "|---|---|---|---|---|---|---|\n",
       "| <none> | NA         |       NA   | 947.7421   | 349.9556   |       NA   |         NA |\n",
       "| prof |  2         | 25.04969   | 972.7918   | 353.5993   | 3.832482   | 0.02276094 |\n",
       "\n"
      ],
      "text/plain": [
       "       Df Sum of Sq RSS      AIC      F value  Pr(>F)    \n",
       "<none> NA       NA  947.7421 349.9556       NA         NA\n",
       "prof    2 25.04969  972.7918 353.5993 3.832482 0.02276094"
      ]
     },
     "metadata": {},
     "output_type": "display_data"
    }
   ],
   "source": [
    "print(\"Tableau d'Analyse de Variance\")\n",
    "drop1(m01, test=\"F\")"
   ]
  },
  {
   "cell_type": "code",
   "execution_count": 40,
   "metadata": {},
   "outputs": [
    {
     "data": {
      "text/plain": [
       "\n",
       "Call:\n",
       "lm(formula = n.enfant ~ prof, data = so)\n",
       "\n",
       "Residuals:\n",
       "    Min      1Q  Median      3Q     Max \n",
       "-2.1667 -1.4695 -0.4695  0.8333 11.5305 \n",
       "\n",
       "Coefficients:\n",
       "                       Estimate Std. Error t value Pr(>|t|)    \n",
       "(Intercept)             2.16667    0.36901   5.872 1.18e-08 ***\n",
       "profprof.intermédiaire -0.05952    0.44105  -0.135   0.8927    \n",
       "profsans emploi        -0.69718    0.38925  -1.791   0.0743 .  \n",
       "---\n",
       "Signif. codes:  0 '***' 0.001 '**' 0.01 '*' 0.05 '.' 0.1 ' ' 1\n",
       "\n",
       "Residual standard error: 1.808 on 290 degrees of freedom\n",
       "  (11 observations deleted due to missingness)\n",
       "Multiple R-squared:  0.02575,\tAdjusted R-squared:  0.01903 \n",
       "F-statistic: 3.832 on 2 and 290 DF,  p-value: 0.02276\n"
      ]
     },
     "metadata": {},
     "output_type": "display_data"
    }
   ],
   "source": [
    "summary(m01)\n",
    "# Summary n'est pas très adapté pour une ANOVA d'où il est préférable de se limiter à la fonction drop1()"
   ]
  },
  {
   "cell_type": "code",
   "execution_count": 47,
   "metadata": {},
   "outputs": [
    {
     "data": {
      "text/html": [
       "<table>\n",
       "<thead><tr><th></th><th scope=col>Df</th><th scope=col>Sum Sq</th><th scope=col>Mean Sq</th><th scope=col>F value</th><th scope=col>Pr(&gt;F)</th></tr></thead>\n",
       "<tbody>\n",
       "\t<tr><th scope=row>prof</th><td>  2       </td><td> 25.04969 </td><td>12.524845 </td><td>3.832482  </td><td>0.02276094</td></tr>\n",
       "\t<tr><th scope=row>Residuals</th><td>290       </td><td>947.74212 </td><td> 3.268076 </td><td>      NA  </td><td>        NA</td></tr>\n",
       "</tbody>\n",
       "</table>\n"
      ],
      "text/latex": [
       "\\begin{tabular}{r|lllll}\n",
       "  & Df & Sum Sq & Mean Sq & F value & Pr(>F)\\\\\n",
       "\\hline\n",
       "\tprof &   2        &  25.04969  & 12.524845  & 3.832482   & 0.02276094\\\\\n",
       "\tResiduals & 290        & 947.74212  &  3.268076  &       NA   &         NA\\\\\n",
       "\\end{tabular}\n"
      ],
      "text/markdown": [
       "\n",
       "| <!--/--> | Df | Sum Sq | Mean Sq | F value | Pr(>F) |\n",
       "|---|---|---|---|---|---|\n",
       "| prof |   2        |  25.04969  | 12.524845  | 3.832482   | 0.02276094 |\n",
       "| Residuals | 290        | 947.74212  |  3.268076  |       NA   |         NA |\n",
       "\n"
      ],
      "text/plain": [
       "          Df  Sum Sq    Mean Sq   F value  Pr(>F)    \n",
       "prof        2  25.04969 12.524845 3.832482 0.02276094\n",
       "Residuals 290 947.74212  3.268076       NA         NA"
      ]
     },
     "metadata": {},
     "output_type": "display_data"
    }
   ],
   "source": [
    "# Essai de l'ANOVA sur le premier model\n",
    "anova(m01)"
   ]
  },
  {
   "cell_type": "markdown",
   "metadata": {},
   "source": [
    "**2. Régression linéaire**"
   ]
  },
  {
   "cell_type": "code",
   "execution_count": 41,
   "metadata": {},
   "outputs": [
    {
     "data": {
      "text/plain": [
       "\n",
       "Call:\n",
       "lm(formula = n.enfant ~ age, data = so)\n",
       "\n",
       "Coefficients:\n",
       "(Intercept)          age  \n",
       "   -1.00902      0.06849  \n"
      ]
     },
     "metadata": {},
     "output_type": "display_data"
    }
   ],
   "source": [
    "# Génération d'une régression linéaire\n",
    "m02 <- lm(n.enfant ~ age, so)\n",
    "m02"
   ]
  },
  {
   "cell_type": "code",
   "execution_count": 42,
   "metadata": {},
   "outputs": [
    {
     "data": {
      "text/plain": [
       "\n",
       "Call:\n",
       "lm(formula = n.enfant ~ age, data = so)\n",
       "\n",
       "Residuals:\n",
       "    Min      1Q  Median      3Q     Max \n",
       "-4.2646 -0.9087 -0.2511  0.5708  9.0094 \n",
       "\n",
       "Coefficients:\n",
       "             Estimate Std. Error t value Pr(>|t|)    \n",
       "(Intercept) -1.009022   0.262696  -3.841  0.00015 ***\n",
       "age          0.068488   0.006357  10.773  < 2e-16 ***\n",
       "---\n",
       "Signif. codes:  0 '***' 0.001 '**' 0.01 '*' 0.05 '.' 0.1 ' ' 1\n",
       "\n",
       "Residual standard error: 1.546 on 291 degrees of freedom\n",
       "  (11 observations deleted due to missingness)\n",
       "Multiple R-squared:  0.2851,\tAdjusted R-squared:  0.2827 \n",
       "F-statistic: 116.1 on 1 and 291 DF,  p-value: < 2.2e-16\n"
      ]
     },
     "metadata": {},
     "output_type": "display_data"
    }
   ],
   "source": [
    "summary(m02)"
   ]
  },
  {
   "cell_type": "code",
   "execution_count": 43,
   "metadata": {},
   "outputs": [
    {
     "data": {
      "text/html": [
       "<dl class=dl-horizontal>\n",
       "\t<dt>(Intercept)</dt>\n",
       "\t\t<dd>-1.00902159327146</dd>\n",
       "\t<dt>age</dt>\n",
       "\t\t<dd>0.0684882862897826</dd>\n",
       "</dl>\n"
      ],
      "text/latex": [
       "\\begin{description*}\n",
       "\\item[(Intercept)] -1.00902159327146\n",
       "\\item[age] 0.0684882862897826\n",
       "\\end{description*}\n"
      ],
      "text/markdown": [
       "(Intercept)\n",
       ":   -1.00902159327146age\n",
       ":   0.0684882862897826\n",
       "\n"
      ],
      "text/plain": [
       "(Intercept)         age \n",
       "-1.00902159  0.06848829 "
      ]
     },
     "metadata": {},
     "output_type": "display_data"
    }
   ],
   "source": [
    "# les coefficient du modèle\n",
    "coef(m02)"
   ]
  },
  {
   "cell_type": "code",
   "execution_count": 44,
   "metadata": {},
   "outputs": [
    {
     "data": {
      "text/html": [
       "<table>\n",
       "<thead><tr><th></th><th scope=col>2.5 %</th><th scope=col>97.5 %</th></tr></thead>\n",
       "<tbody>\n",
       "\t<tr><th scope=row>(Intercept)</th><td>-1.52604619</td><td>-0.49199700</td></tr>\n",
       "\t<tr><th scope=row>age</th><td> 0.05597581</td><td> 0.08100076</td></tr>\n",
       "</tbody>\n",
       "</table>\n"
      ],
      "text/latex": [
       "\\begin{tabular}{r|ll}\n",
       "  & 2.5 \\% & 97.5 \\%\\\\\n",
       "\\hline\n",
       "\t(Intercept) & -1.52604619 & -0.49199700\\\\\n",
       "\tage &  0.05597581 &  0.08100076\\\\\n",
       "\\end{tabular}\n"
      ],
      "text/markdown": [
       "\n",
       "| <!--/--> | 2.5 % | 97.5 % |\n",
       "|---|---|---|\n",
       "| (Intercept) | -1.52604619 | -0.49199700 |\n",
       "| age |  0.05597581 |  0.08100076 |\n",
       "\n"
      ],
      "text/plain": [
       "            2.5 %       97.5 %     \n",
       "(Intercept) -1.52604619 -0.49199700\n",
       "age          0.05597581  0.08100076"
      ]
     },
     "metadata": {},
     "output_type": "display_data"
    }
   ],
   "source": [
    "# interval de confiance du modèle\n",
    "confint(m02)"
   ]
  },
  {
   "cell_type": "code",
   "execution_count": 45,
   "metadata": {},
   "outputs": [],
   "source": [
    "help(confint)"
   ]
  },
  {
   "cell_type": "code",
   "execution_count": 46,
   "metadata": {},
   "outputs": [
    {
     "data": {
      "text/html": [
       "<table>\n",
       "<thead><tr><th></th><th scope=col>Df</th><th scope=col>Sum Sq</th><th scope=col>Mean Sq</th><th scope=col>F value</th><th scope=col>Pr(&gt;F)</th></tr></thead>\n",
       "<tbody>\n",
       "\t<tr><th scope=row>age</th><td>  1         </td><td>277.3509    </td><td>277.350912  </td><td>116.0546    </td><td>5.375781e-23</td></tr>\n",
       "\t<tr><th scope=row>Residuals</th><td>291         </td><td>695.4409    </td><td>  2.389831  </td><td>      NA    </td><td>          NA</td></tr>\n",
       "</tbody>\n",
       "</table>\n"
      ],
      "text/latex": [
       "\\begin{tabular}{r|lllll}\n",
       "  & Df & Sum Sq & Mean Sq & F value & Pr(>F)\\\\\n",
       "\\hline\n",
       "\tage &   1          & 277.3509     & 277.350912   & 116.0546     & 5.375781e-23\\\\\n",
       "\tResiduals & 291          & 695.4409     &   2.389831   &       NA     &           NA\\\\\n",
       "\\end{tabular}\n"
      ],
      "text/markdown": [
       "\n",
       "| <!--/--> | Df | Sum Sq | Mean Sq | F value | Pr(>F) |\n",
       "|---|---|---|---|---|---|\n",
       "| age |   1          | 277.3509     | 277.350912   | 116.0546     | 5.375781e-23 |\n",
       "| Residuals | 291          | 695.4409     |   2.389831   |       NA     |           NA |\n",
       "\n"
      ],
      "text/plain": [
       "          Df  Sum Sq   Mean Sq    F value  Pr(>F)      \n",
       "age         1 277.3509 277.350912 116.0546 5.375781e-23\n",
       "Residuals 291 695.4409   2.389831       NA           NA"
      ]
     },
     "metadata": {},
     "output_type": "display_data"
    }
   ],
   "source": [
    "# Analyse de la variance de notre modèle de régression linéaire\n",
    "anova(m02)"
   ]
  },
  {
   "cell_type": "code",
   "execution_count": 49,
   "metadata": {},
   "outputs": [
    {
     "data": {
      "text/html": [
       "<table>\n",
       "<thead><tr><th scope=col>fit</th><th scope=col>lwr</th><th scope=col>upr</th></tr></thead>\n",
       "<tbody>\n",
       "\t<tr><td>0.3607441 </td><td>0.06588459</td><td>0.6556037 </td></tr>\n",
       "\t<tr><td>1.0456270 </td><td>0.83652266</td><td>1.2547313 </td></tr>\n",
       "\t<tr><td>1.7305099 </td><td>1.55212966</td><td>1.9088901 </td></tr>\n",
       "</tbody>\n",
       "</table>\n"
      ],
      "text/latex": [
       "\\begin{tabular}{r|lll}\n",
       " fit & lwr & upr\\\\\n",
       "\\hline\n",
       "\t 0.3607441  & 0.06588459 & 0.6556037 \\\\\n",
       "\t 1.0456270  & 0.83652266 & 1.2547313 \\\\\n",
       "\t 1.7305099  & 1.55212966 & 1.9088901 \\\\\n",
       "\\end{tabular}\n"
      ],
      "text/markdown": [
       "\n",
       "| fit | lwr | upr |\n",
       "|---|---|---|\n",
       "| 0.3607441  | 0.06588459 | 0.6556037  |\n",
       "| 1.0456270  | 0.83652266 | 1.2547313  |\n",
       "| 1.7305099  | 1.55212966 | 1.9088901  |\n",
       "\n"
      ],
      "text/plain": [
       "  fit       lwr        upr      \n",
       "1 0.3607441 0.06588459 0.6556037\n",
       "2 1.0456270 0.83652266 1.2547313\n",
       "3 1.7305099 1.55212966 1.9088901"
      ]
     },
     "metadata": {},
     "output_type": "display_data"
    }
   ],
   "source": [
    "# Prédiction sur de nouvelle variable\n",
    "predict(m02, data.frame(age=c(20,30,40)), interval=\"confidence\")"
   ]
  },
  {
   "cell_type": "markdown",
   "metadata": {},
   "source": [
    "**3. Régression logistique**"
   ]
  },
  {
   "cell_type": "code",
   "execution_count": 50,
   "metadata": {},
   "outputs": [
    {
     "data": {
      "text/plain": [
       "                smp$n.enfant\n",
       "smp$n.enfant.bin   0   1   2   3   4   5   6   7   8   9  10  11  13 <NA>\n",
       "            0    214 220 125   0   0   0   0   0   0   0   0   0   0    0\n",
       "            1      0   0   0 101  55  31   7   7   7   2   2   1   1    0\n",
       "            <NA>   0   0   0   0   0   0   0   0   0   0   0   0   0   26"
      ]
     },
     "metadata": {},
     "output_type": "display_data"
    }
   ],
   "source": [
    "# Création d'une variable binaire à l'aide du nombre d'enfant\n",
    "smp$n.enfant.bin <- ifelse(smp$n.enfant > 2, 1, 0)\n",
    "\n",
    "# croisement des deux tables\n",
    "table(smp$n.enfant.bin, smp$n.enfant, deparse.level=2, useNA=\"always\")"
   ]
  },
  {
   "cell_type": "code",
   "execution_count": 51,
   "metadata": {},
   "outputs": [],
   "source": [
    "# documentation sur la GLM\n",
    "help(glm)"
   ]
  },
  {
   "cell_type": "code",
   "execution_count": 52,
   "metadata": {},
   "outputs": [
    {
     "data": {
      "text/plain": [
       "\n",
       "Call:\n",
       "glm(formula = smp$n.enfant.bin ~ age, family = binomial(\"logit\"), \n",
       "    data = smp)\n",
       "\n",
       "Deviance Residuals: \n",
       "    Min       1Q   Median       3Q      Max  \n",
       "-1.8551  -0.7525  -0.5326   0.8763   2.1301  \n",
       "\n",
       "Coefficients:\n",
       "             Estimate Std. Error z value Pr(>|z|)    \n",
       "(Intercept) -3.827089   0.312803 -12.235   <2e-16 ***\n",
       "age          0.069487   0.007016   9.904   <2e-16 ***\n",
       "---\n",
       "Signif. codes:  0 '***' 0.001 '**' 0.01 '*' 0.05 '.' 0.1 ' ' 1\n",
       "\n",
       "(Dispersion parameter for binomial family taken to be 1)\n",
       "\n",
       "    Null deviance: 912.06  on 772  degrees of freedom\n",
       "Residual deviance: 794.16  on 771  degrees of freedom\n",
       "  (26 observations deleted due to missingness)\n",
       "AIC: 798.16\n",
       "\n",
       "Number of Fisher Scoring iterations: 4\n"
      ]
     },
     "metadata": {},
     "output_type": "display_data"
    }
   ],
   "source": [
    "# modélisation \n",
    "m03 <- glm(smp$n.enfant.bin ~ age, smp, family=binomial(\"logit\"))\n",
    "summary(m03)"
   ]
  },
  {
   "cell_type": "markdown",
   "metadata": {},
   "source": [
    "**********************************------------------------------------------------------------------------------------------------------------------------------------------------------------------*************************************************\n",
    "<br>\n",
    "**********************************------------------------------------------------------------------------------------------------------------------------------------------------------------------*************************************************"
   ]
  },
  {
   "cell_type": "code",
   "execution_count": 53,
   "metadata": {},
   "outputs": [
    {
     "name": "stdout",
     "output_type": "stream",
     "text": [
      "[1] \"4. Nombre moyen d'enfant par dep.cons\"\n"
     ]
    },
    {
     "data": {
      "text/html": [
       "<table>\n",
       "<thead><tr><th scope=col>dep.cons</th><th scope=col>n.enfant</th></tr></thead>\n",
       "<tbody>\n",
       "\t<tr><td>0       </td><td>1.749460</td></tr>\n",
       "\t<tr><td>1       </td><td>1.764516</td></tr>\n",
       "</tbody>\n",
       "</table>\n"
      ],
      "text/latex": [
       "\\begin{tabular}{r|ll}\n",
       " dep.cons & n.enfant\\\\\n",
       "\\hline\n",
       "\t 0        & 1.749460\\\\\n",
       "\t 1        & 1.764516\\\\\n",
       "\\end{tabular}\n"
      ],
      "text/markdown": [
       "\n",
       "| dep.cons | n.enfant |\n",
       "|---|---|\n",
       "| 0        | 1.749460 |\n",
       "| 1        | 1.764516 |\n",
       "\n"
      ],
      "text/plain": [
       "  dep.cons n.enfant\n",
       "1 0        1.749460\n",
       "2 1        1.764516"
      ]
     },
     "metadata": {},
     "output_type": "display_data"
    }
   ],
   "source": [
    "# QUESTION 4\n",
    "print(\"4. Nombre moyen d'enfant par dep.cons\")\n",
    "aggregate(n.enfant ~ dep.cons, smp, mean)"
   ]
  },
  {
   "cell_type": "code",
   "execution_count": 54,
   "metadata": {},
   "outputs": [],
   "source": [
    "help(aggregate)"
   ]
  },
  {
   "cell_type": "code",
   "execution_count": 58,
   "metadata": {},
   "outputs": [
    {
     "data": {
      "text/html": [
       "<table>\n",
       "<thead><tr><th></th><th scope=col>age</th><th scope=col>duree</th><th scope=col>n.enfant</th><th scope=col>prof</th></tr></thead>\n",
       "<tbody>\n",
       "\t<tr><th scope=row>1</th><td>31                </td><td> 4                </td><td>2                 </td><td>autre             </td></tr>\n",
       "\t<tr><th scope=row>5</th><td>23                </td><td> 4                </td><td>1                 </td><td>sans emploi       </td></tr>\n",
       "\t<tr><th scope=row>6</th><td>34                </td><td>NA                </td><td>3                 </td><td>ouvrier           </td></tr>\n",
       "\t<tr><th scope=row>7</th><td>24                </td><td>NA                </td><td>5                 </td><td>autre             </td></tr>\n",
       "\t<tr><th scope=row>11</th><td>31                </td><td> 3                </td><td>0                 </td><td>prof.intermédiaire</td></tr>\n",
       "\t<tr><th scope=row>13</th><td>21                </td><td> 4                </td><td>0                 </td><td>employé           </td></tr>\n",
       "</tbody>\n",
       "</table>\n"
      ],
      "text/latex": [
       "\\begin{tabular}{r|llll}\n",
       "  & age & duree & n.enfant & prof\\\\\n",
       "\\hline\n",
       "\t1 & 31                 &  4                 & 2                  & autre             \\\\\n",
       "\t5 & 23                 &  4                 & 1                  & sans emploi       \\\\\n",
       "\t6 & 34                 & NA                 & 3                  & ouvrier           \\\\\n",
       "\t7 & 24                 & NA                 & 5                  & autre             \\\\\n",
       "\t11 & 31                 &  3                 & 0                  & prof.intermédiaire\\\\\n",
       "\t13 & 21                 &  4                 & 0                  & employé           \\\\\n",
       "\\end{tabular}\n"
      ],
      "text/markdown": [
       "\n",
       "| <!--/--> | age | duree | n.enfant | prof |\n",
       "|---|---|---|---|---|\n",
       "| 1 | 31                 |  4                 | 2                  | autre              |\n",
       "| 5 | 23                 |  4                 | 1                  | sans emploi        |\n",
       "| 6 | 34                 | NA                 | 3                  | ouvrier            |\n",
       "| 7 | 24                 | NA                 | 5                  | autre              |\n",
       "| 11 | 31                 |  3                 | 0                  | prof.intermédiaire |\n",
       "| 13 | 21                 |  4                 | 0                  | employé            |\n",
       "\n"
      ],
      "text/plain": [
       "   age duree n.enfant prof              \n",
       "1  31   4    2        autre             \n",
       "5  23   4    1        sans emploi       \n",
       "6  34  NA    3        ouvrier           \n",
       "7  24  NA    5        autre             \n",
       "11 31   3    0        prof.intermédiaire\n",
       "13 21   4    0        employé           "
      ]
     },
     "metadata": {},
     "output_type": "display_data"
    },
    {
     "name": "stdout",
     "output_type": "stream",
     "text": [
      "'data.frame':\t343 obs. of  4 variables:\n",
      " $ age     : int  31 23 34 24 31 21 28 20 30 32 ...\n",
      " $ duree   : int  4 4 NA NA 3 4 5 NA 2 4 ...\n",
      " $ n.enfant: int  2 1 3 5 0 0 1 1 0 0 ...\n",
      " $ prof    : Factor w/ 8 levels \"agriculteur\",..: 3 8 6 3 7 5 6 2 5 8 ...\n"
     ]
    }
   ],
   "source": [
    "# création de la base age strictement inférieur à 35 ans\n",
    "q5 <- subset(smp, age < 35, c(age, duree, n.enfant, prof))\n",
    "head(q5)\n",
    "str(q5)"
   ]
  },
  {
   "cell_type": "code",
   "execution_count": 59,
   "metadata": {},
   "outputs": [
    {
     "name": "stdout",
     "output_type": "stream",
     "text": [
      "[1] \"5. Borne sup. de l'interval interquantile\"\n"
     ]
    },
    {
     "data": {
      "text/plain": [
       "   Min. 1st Qu.  Median    Mean 3rd Qu.    Max.    NA's \n",
       "  1.000   3.250   4.000   4.005   5.000   5.000     129 "
      ]
     },
     "metadata": {},
     "output_type": "display_data"
    }
   ],
   "source": [
    "# QUESTION 5\n",
    "print(\"5. Borne sup. de l'interval interquantile\")  # la borne supérieur est 5.00\n",
    "summary(q5$duree)"
   ]
  },
  {
   "cell_type": "code",
   "execution_count": 61,
   "metadata": {},
   "outputs": [
    {
     "data": {
      "text/html": [
       "67.3507109004739"
      ],
      "text/latex": [
       "67.3507109004739"
      ],
      "text/markdown": [
       "67.3507109004739"
      ],
      "text/plain": [
       "[1] 67.35071"
      ]
     },
     "metadata": {},
     "output_type": "display_data"
    }
   ],
   "source": [
    "mean(smp$dur.interv[smp$suicide.past == 1], na.rm=TRUE)"
   ]
  },
  {
   "cell_type": "code",
   "execution_count": 62,
   "metadata": {},
   "outputs": [
    {
     "data": {
      "text/html": [
       "67.3507109004739"
      ],
      "text/latex": [
       "67.3507109004739"
      ],
      "text/markdown": [
       "67.3507109004739"
      ],
      "text/plain": [
       "[1] 67.35071"
      ]
     },
     "metadata": {},
     "output_type": "display_data"
    }
   ],
   "source": [
    "# QUESTION 6\n",
    "mean(smp[smp$suicide.past == 1, 'dur.interv'], na.rm=TRUE)"
   ]
  },
  {
   "cell_type": "code",
   "execution_count": 63,
   "metadata": {},
   "outputs": [
    {
     "data": {
      "text/plain": [
       "   Min. 1st Qu.  Median    Mean 3rd Qu.    Max.    NA's \n",
       "   19.0    28.0    37.0    38.9    48.0    83.0       2 "
      ]
     },
     "metadata": {},
     "output_type": "display_data"
    }
   ],
   "source": [
    "# Question 7\n",
    "summary(smp$age)"
   ]
  },
  {
   "cell_type": "code",
   "execution_count": 64,
   "metadata": {},
   "outputs": [
    {
     "data": {
      "text/plain": [
       "age4c\n",
       "(19,28] (28,37] (37,48] (48,83] \n",
       "    197     190     209     186 "
      ]
     },
     "metadata": {},
     "output_type": "display_data"
    }
   ],
   "source": [
    "# QUESTION 7 : L'effectif est 209\n",
    "age4c <- cut(smp$age, c(19.0, 28.0, 37.0, 48.0, 83.0))\n",
    "table(age4c)"
   ]
  },
  {
   "cell_type": "markdown",
   "metadata": {},
   "source": [
    "<a id=\"ref3\"></a>\n",
    "<h1 align=center>SEMAINE 03</h1>\n",
    "<h1 align=center>Tests statistiques - pratiques des tests statistiques</h1>"
   ]
  },
  {
   "cell_type": "markdown",
   "metadata": {},
   "source": [
    "# 08 Principe des tests statistiques : le p"
   ]
  },
  {
   "cell_type": "code",
   "execution_count": 2,
   "metadata": {},
   "outputs": [
    {
     "name": "stdout",
     "output_type": "stream",
     "text": [
      "'data.frame':\t799 obs. of  9 variables:\n",
      " $ age      : int  31 49 50 47 23 34 24 52 42 45 ...\n",
      " $ prof     : Factor w/ 8 levels \"agriculteur\",..: 3 NA 7 6 8 6 3 2 6 6 ...\n",
      " $ dep.cons : int  0 0 0 0 1 0 1 0 1 0 ...\n",
      " $ scz.cons : int  0 0 0 0 0 0 0 0 0 0 ...\n",
      " $ grav.cons: int  1 2 2 1 2 1 5 1 5 5 ...\n",
      " $ n.enfant : int  2 7 2 0 1 3 5 2 1 2 ...\n",
      " $ rs       : int  2 2 2 2 2 1 3 2 3 2 ...\n",
      " $ ed       : int  1 2 3 2 2 2 3 2 3 2 ...\n",
      " $ dr       : int  1 1 2 2 2 1 2 2 1 2 ...\n"
     ]
    }
   ],
   "source": [
    "# importation des données\n",
    "smpc <- read.csv2(\"smp1.csv\")\n",
    "str(smpc)"
   ]
  },
  {
   "cell_type": "code",
   "execution_count": 3,
   "metadata": {},
   "outputs": [
    {
     "data": {
      "text/html": [
       "0.43260389564375"
      ],
      "text/latex": [
       "0.43260389564375"
      ],
      "text/markdown": [
       "0.43260389564375"
      ],
      "text/plain": [
       "[1] 0.4326039"
      ]
     },
     "metadata": {},
     "output_type": "display_data"
    }
   ],
   "source": [
    "# calcul du coefficient de correlation\n",
    "cor(smpc$age, smpc$n.enfant, use=\"complete.obs\")"
   ]
  },
  {
   "cell_type": "markdown",
   "metadata": {},
   "source": [
    "## 09 Principe des tests statistiques"
   ]
  },
  {
   "cell_type": "markdown",
   "metadata": {},
   "source": [
    "## 10 Les tests statistiques en pratique : comparaison de deux pourcentages"
   ]
  },
  {
   "cell_type": "markdown",
   "metadata": {},
   "source": [
    "##                                                           Test du Chi-2"
   ]
  },
  {
   "cell_type": "code",
   "execution_count": 6,
   "metadata": {},
   "outputs": [
    {
     "data": {
      "text/plain": [
       "         smpc$dep.cons\n",
       "smpc$ed.b   0   1 <NA>\n",
       "     0    335 135    0\n",
       "     1     96 126    0\n",
       "     <NA>  51  56    0"
      ]
     },
     "metadata": {},
     "output_type": "display_data"
    }
   ],
   "source": [
    "#Tableau croiser des deux variables\n",
    "table(smpc$ed.b, smpc$dep.cons, deparse.level=2, useNA=\"always\")"
   ]
  },
  {
   "cell_type": "code",
   "execution_count": 7,
   "metadata": {},
   "outputs": [
    {
     "data": {
      "text/plain": [
       "         smpc$dep.cons\n",
       "smpc$ed.b         0         1\n",
       "        0 0.7127660 0.2872340\n",
       "        1 0.4324324 0.5675676"
      ]
     },
     "metadata": {},
     "output_type": "display_data"
    }
   ],
   "source": [
    "# Stockage du tableau croisé \n",
    "tab <- table(smpc$ed.b, smpc$dep.cons, deparse.level=2)\n",
    "\n",
    "# génération des pourcentage par ligne\n",
    "prop.table(tab,1)"
   ]
  },
  {
   "cell_type": "code",
   "execution_count": 8,
   "metadata": {},
   "outputs": [
    {
     "data": {
      "text/plain": [
       "         smpc$dep.cons\n",
       "smpc$ed.b         0         1\n",
       "        0 0.7772622 0.5172414\n",
       "        1 0.2227378 0.4827586"
      ]
     },
     "metadata": {},
     "output_type": "display_data"
    }
   ],
   "source": [
    "# génération des pourcentage par colonne\n",
    "prop.table(tab,2)"
   ]
  },
  {
   "cell_type": "code",
   "execution_count": 9,
   "metadata": {},
   "outputs": [
    {
     "data": {
      "text/plain": [
       "\n",
       "\tPearson's Chi-squared test\n",
       "\n",
       "data:  smpc$ed.b and smpc$dep.cons\n",
       "X-squared = 50.442, df = 1, p-value = 1.228e-12\n"
      ]
     },
     "metadata": {},
     "output_type": "display_data"
    }
   ],
   "source": [
    "# test du Chi-2 au sens de Pearson\n",
    "chisq.test(smpc$ed.b, smpc$dep.cons, correct=FALSE)"
   ]
  },
  {
   "cell_type": "code",
   "execution_count": 10,
   "metadata": {},
   "outputs": [
    {
     "data": {
      "text/plain": [
       "\n",
       "\tFisher's Exact Test for Count Data\n",
       "\n",
       "data:  smpc$ed.b and smpc$dep.cons\n",
       "p-value = 2.033e-12\n",
       "alternative hypothesis: true odds ratio is not equal to 1\n",
       "95 percent confidence interval:\n",
       " 2.303664 4.603460\n",
       "sample estimates:\n",
       "odds ratio \n",
       "  3.250819 \n"
      ]
     },
     "metadata": {},
     "output_type": "display_data"
    }
   ],
   "source": [
    "# Pour des données peu voluminéux, nous procédons au test de fisher\n",
    "fisher.test(smpc$ed.b, smpc$dep.cons)"
   ]
  },
  {
   "cell_type": "markdown",
   "metadata": {},
   "source": [
    "## 11 Comparaison de deux moyennes : Test t de Student\n",
    "\n",
    "Existe-t-il, en moyenne, une différence significative d'âge entre les détenus ayant un haut niveau d'évitement du danger et les autres.\n",
    "\n",
    "L'une des conditions de validité du test t de Student est la normalité de la variable. Nous allons vérifier ce point à travers un histogramme. Nous avons déjà l'assurance que n > 30. Nous n'entamerons pas la vérification de l'égalité des variances dans ce travail."
   ]
  },
  {
   "cell_type": "code",
   "execution_count": 13,
   "metadata": {
    "scrolled": true
   },
   "outputs": [
    {
     "data": {
      "image/png": "iVBORw0KGgoAAAANSUhEUgAAA0gAAANICAMAAADKOT/pAAAAM1BMVEUAAABNTU1oaGh8fHyM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",
      "text/plain": [
       "Plot with title \"Histogram of smpc$age\""
      ]
     },
     "metadata": {},
     "output_type": "display_data"
    }
   ],
   "source": [
    "hist(smpc$age, col=\"grey\")"
   ]
  },
  {
   "cell_type": "code",
   "execution_count": 14,
   "metadata": {
    "scrolled": true
   },
   "outputs": [
    {
     "data": {
      "image/png": "iVBORw0KGgoAAAANSUhEUgAAA0gAAANICAMAAADKOT/pAAAAMFBMVEUAAABNTU1oaGh8fHyM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\nQmCC",
      "text/plain": [
       "Plot with title \"Normal Q-Q Plot\""
      ]
     },
     "metadata": {},
     "output_type": "display_data"
    }
   ],
   "source": [
    "# Test de normalité à l'aide du QQ Plot\n",
    "qqnorm(smpc$age); qqline(smpc$age)"
   ]
  },
  {
   "cell_type": "markdown",
   "metadata": {},
   "source": [
    "**Pour une variable qui suit la loi normale, l'ensemble des points doivent être alignés dans ce qqplot. Nous constatons que c'est pratiquement le cas dans le cadre de la variable : age (très bien alignée à droite mais à gauche, entre -4 et -1, les points sont un peu éloingés). Il s'agit donc d'une varible proche de la loi normale comme cela est très souvent le cas.**"
   ]
  },
  {
   "cell_type": "code",
   "execution_count": 15,
   "metadata": {},
   "outputs": [
    {
     "data": {
      "text/plain": [
       "smpc$ed.b: 0\n",
       "[1] 13.38593\n",
       "------------------------------------------------------------ \n",
       "smpc$ed.b: 1\n",
       "[1] 13.29636"
      ]
     },
     "metadata": {},
     "output_type": "display_data"
    }
   ],
   "source": [
    "# vérification de l'égalité des écart types\n",
    "by(smpc$age, smpc$ed.b, sd, na.rm=TRUE)"
   ]
  },
  {
   "cell_type": "code",
   "execution_count": 17,
   "metadata": {},
   "outputs": [
    {
     "data": {
      "text/plain": [
       "smpc$ed.b: 0\n",
       "[1] 39.46383\n",
       "------------------------------------------------------------ \n",
       "smpc$ed.b: 1\n",
       "[1] 37.5991"
      ]
     },
     "metadata": {},
     "output_type": "display_data"
    }
   ],
   "source": [
    "# vérification de l'égalité des moyennes\n",
    "by(smpc$age, smpc$ed.b, mean, na.rm=TRUE)"
   ]
  },
  {
   "cell_type": "code",
   "execution_count": 18,
   "metadata": {},
   "outputs": [
    {
     "data": {
      "text/plain": [
       "smpc$ed.b: 0\n",
       "[1] 179.1831\n",
       "------------------------------------------------------------ \n",
       "smpc$ed.b: 1\n",
       "[1] 176.7933"
      ]
     },
     "metadata": {},
     "output_type": "display_data"
    }
   ],
   "source": [
    "# vérification de l'égalité des variances\n",
    "by(smpc$age, smpc$ed.b, var, na.rm=TRUE)"
   ]
  },
  {
   "cell_type": "code",
   "execution_count": 16,
   "metadata": {},
   "outputs": [
    {
     "data": {
      "text/plain": [
       "\n",
       "\tTwo Sample t-test\n",
       "\n",
       "data:  smpc$age by smpc$ed.b\n",
       "t = 1.7142, df = 690, p-value = 0.08694\n",
       "alternative hypothesis: true difference in means is not equal to 0\n",
       "95 percent confidence interval:\n",
       " -0.2710524  4.0005138\n",
       "sample estimates:\n",
       "mean in group 0 mean in group 1 \n",
       "       39.46383        37.59910 \n"
      ]
     },
     "metadata": {},
     "output_type": "display_data"
    }
   ],
   "source": [
    "# Procédons au test de Studen maintenant\n",
    "t.test(smpc$age ~ smpc$ed.b, var.equal=TRUE)"
   ]
  },
  {
   "cell_type": "code",
   "execution_count": 19,
   "metadata": {},
   "outputs": [
    {
     "data": {
      "text/plain": [
       "\n",
       "\tWilcoxon rank sum test with continuity correction\n",
       "\n",
       "data:  smpc$age by smpc$ed.b\n",
       "W = 56770, p-value = 0.06091\n",
       "alternative hypothesis: true location shift is not equal to 0\n"
      ]
     },
     "metadata": {},
     "output_type": "display_data"
    }
   ],
   "source": [
    "# Test de Mann-Whitney (Wilcoxon)\n",
    "wilcox.test(smpc$age ~ smpc$ed.b)"
   ]
  },
  {
   "cell_type": "markdown",
   "metadata": {},
   "source": [
    "## 12 Test de nullité d'un coefficient de corrélation"
   ]
  },
  {
   "cell_type": "code",
   "execution_count": 20,
   "metadata": {},
   "outputs": [
    {
     "data": {
      "text/plain": [
       "\n",
       "\tPearson's product-moment correlation\n",
       "\n",
       "data:  smpc$age and smpc$rs\n",
       "t = -6.02, df = 694, p-value = 2.825e-09\n",
       "alternative hypothesis: true correlation is not equal to 0\n",
       "95 percent confidence interval:\n",
       " -0.2922516 -0.1509579\n",
       "sample estimates:\n",
       "       cor \n",
       "-0.2227744 \n"
      ]
     },
     "metadata": {},
     "output_type": "display_data"
    }
   ],
   "source": [
    "# test sur les variables : age et recherche de sensation\n",
    "cor.test(smpc$age, smpc$rs)"
   ]
  },
  {
   "cell_type": "code",
   "execution_count": 21,
   "metadata": {},
   "outputs": [
    {
     "name": "stderr",
     "output_type": "stream",
     "text": [
      "Warning message in cor.test.default(smpc$age, smpc$rs, method = \"spearman\"):\n",
      "\"Cannot compute exact p-value with ties\""
     ]
    },
    {
     "data": {
      "text/plain": [
       "\n",
       "\tSpearman's rank correlation rho\n",
       "\n",
       "data:  smpc$age and smpc$rs\n",
       "S = 68742508, p-value = 2.567e-09\n",
       "alternative hypothesis: true rho is not equal to 0\n",
       "sample estimates:\n",
       "       rho \n",
       "-0.2233474 \n"
      ]
     },
     "metadata": {},
     "output_type": "display_data"
    }
   ],
   "source": [
    "# Corrélation des rang de Spearman\n",
    "cor.test(smpc$age, smpc$rs, method=\"spearman\")"
   ]
  },
  {
   "cell_type": "code",
   "execution_count": 22,
   "metadata": {},
   "outputs": [
    {
     "data": {
      "text/plain": [
       "\n",
       "\tOne Sample t-test\n",
       "\n",
       "data:  smpc$age\n",
       "t = 31.672, df = 796, p-value < 2.2e-16\n",
       "alternative hypothesis: true mean is not equal to 24\n",
       "95 percent confidence interval:\n",
       " 37.97618 39.82307\n",
       "sample estimates:\n",
       "mean of x \n",
       " 38.89962 \n"
      ]
     },
     "metadata": {},
     "output_type": "display_data"
    }
   ],
   "source": [
    "# Comparaison d'une moyenne à une référence\n",
    "t.test(smpc$age, mu=24)"
   ]
  },
  {
   "cell_type": "markdown",
   "metadata": {},
   "source": [
    "## Quiz Exercice 03"
   ]
  },
  {
   "cell_type": "code",
   "execution_count": 2,
   "metadata": {},
   "outputs": [
    {
     "name": "stdout",
     "output_type": "stream",
     "text": [
      "'data.frame':\t799 obs. of  26 variables:\n",
      " $ age         : int  31 49 50 47 23 34 24 52 42 45 ...\n",
      " $ prof        : Factor w/ 8 levels \"agriculteur\",..: 3 NA 7 6 8 6 3 2 6 6 ...\n",
      " $ duree       : int  4 NA 5 NA 4 NA NA 5 4 NA ...\n",
      " $ discip      : int  0 0 0 0 1 0 0 0 1 0 ...\n",
      " $ n.enfant    : int  2 7 2 0 1 3 5 2 1 2 ...\n",
      " $ n.fratrie   : int  4 3 2 6 6 2 3 9 12 5 ...\n",
      " $ ecole       : int  1 2 2 1 1 2 1 2 1 2 ...\n",
      " $ separation  : int  0 1 0 1 1 0 1 0 1 0 ...\n",
      " $ juge.enfant : int  0 0 0 0 NA 0 1 0 1 0 ...\n",
      " $ place       : int  0 0 0 1 1 0 1 0 0 0 ...\n",
      " $ abus        : int  0 0 0 0 0 0 0 0 1 1 ...\n",
      " $ grav.cons   : int  1 2 2 1 2 1 5 1 5 5 ...\n",
      " $ dep.cons    : int  0 0 0 0 1 0 1 0 1 0 ...\n",
      " $ ago.cons    : int  1 0 0 0 0 0 0 0 0 0 ...\n",
      " $ ptsd.cons   : int  0 0 0 0 0 0 0 0 0 0 ...\n",
      " $ alc.cons    : int  0 0 0 0 0 0 0 0 1 1 ...\n",
      " $ subst.cons  : int  0 0 0 0 0 0 1 0 1 0 ...\n",
      " $ scz.cons    : int  0 0 0 0 0 0 0 0 0 0 ...\n",
      " $ char        : int  1 1 1 1 1 1 1 1 4 1 ...\n",
      " $ rs          : int  2 2 2 2 2 1 3 2 3 2 ...\n",
      " $ ed          : int  1 2 3 2 2 2 3 2 3 2 ...\n",
      " $ dr          : int  1 1 2 2 2 1 2 2 1 2 ...\n",
      " $ suicide.s   : int  0 0 0 1 0 0 3 0 4 0 ...\n",
      " $ suicide.hr  : int  0 0 0 0 0 0 1 0 1 0 ...\n",
      " $ suicide.past: int  0 0 0 0 1 0 1 0 1 0 ...\n",
      " $ dur.interv  : int  NA 70 NA 105 NA NA 105 84 78 60 ...\n"
     ]
    }
   ],
   "source": [
    "# importation des données\n",
    "smp <- read.csv2(\"smp2.csv\")\n",
    "str(smp)"
   ]
  },
  {
   "cell_type": "code",
   "execution_count": 5,
   "metadata": {},
   "outputs": [
    {
     "data": {
      "text/plain": [
       "                    smp$place\n",
       "smp$prof                0    1\n",
       "  agriculteur        0.67 0.33\n",
       "  artisan            0.85 0.15\n",
       "  autre              0.74 0.26\n",
       "  cadre              0.92 0.08\n",
       "  employé            0.74 0.26\n",
       "  ouvrier            0.82 0.18\n",
       "  prof.intermédiaire 0.84 0.16\n",
       "  sans emploi        0.68 0.32"
      ]
     },
     "metadata": {},
     "output_type": "display_data"
    }
   ],
   "source": [
    "# Question 1.\n",
    "smp$place <- factor(smp$place)\n",
    "profession <- table(smp$prof, smp$place, deparse.level=2)      # nous allons stocker l'élément dans un vecteur\n",
    "round(prop.table(profession, margin=1), 2)                     # pourcentage des effectifs en ligne"
   ]
  },
  {
   "cell_type": "code",
   "execution_count": 11,
   "metadata": {},
   "outputs": [
    {
     "data": {
      "text/plain": [
       "                    smp$place\n",
       "smp$prof                0    1\n",
       "  agriculteur        0.01 0.01\n",
       "  artisan            0.12 0.07\n",
       "  autre              0.04 0.04\n",
       "  cadre              0.04 0.01\n",
       "  employé            0.16 0.19\n",
       "  ouvrier            0.31 0.23\n",
       "  prof.intermédiaire 0.08 0.05\n",
       "  sans emploi        0.25 0.39"
      ]
     },
     "metadata": {},
     "output_type": "display_data"
    }
   ],
   "source": [
    "round(prop.table(profession, margin=2), 2)              # pourcentage des effectifs en colonne"
   ]
  },
  {
   "cell_type": "code",
   "execution_count": 9,
   "metadata": {},
   "outputs": [
    {
     "name": "stderr",
     "output_type": "stream",
     "text": [
      "Warning message in mean.default(data[x, , drop = FALSE], ...):\n",
      "\"argument is not numeric or logical: returning NA\"Warning message in mean.default(data[x, , drop = FALSE], ...):\n",
      "\"argument is not numeric or logical: returning NA\""
     ]
    },
    {
     "data": {
      "text/plain": [
       "smp$place: 0\n",
       "[1] NA\n",
       "------------------------------------------------------------ \n",
       "smp$place: 1\n",
       "[1] NA"
      ]
     },
     "metadata": {},
     "output_type": "display_data"
    }
   ],
   "source": [
    "# Question 2.\n",
    "by(smp[c(\"duree\", \"place\")], smp$place, mean)"
   ]
  },
  {
   "cell_type": "code",
   "execution_count": 10,
   "metadata": {},
   "outputs": [
    {
     "data": {
      "text/html": [
       "<ol class=list-inline>\n",
       "\t<li>799</li>\n",
       "\t<li>26</li>\n",
       "</ol>\n"
      ],
      "text/latex": [
       "\\begin{enumerate*}\n",
       "\\item 799\n",
       "\\item 26\n",
       "\\end{enumerate*}\n"
      ],
      "text/markdown": [
       "1. 799\n",
       "2. 26\n",
       "\n",
       "\n"
      ],
      "text/plain": [
       "[1] 799  26"
      ]
     },
     "metadata": {},
     "output_type": "display_data"
    }
   ],
   "source": [
    "dim(smp) # taille du dataframe"
   ]
  },
  {
   "cell_type": "code",
   "execution_count": 11,
   "metadata": {},
   "outputs": [
    {
     "data": {
      "text/html": [
       "26"
      ],
      "text/latex": [
       "26"
      ],
      "text/markdown": [
       "26"
      ],
      "text/plain": [
       "[1] 26"
      ]
     },
     "metadata": {},
     "output_type": "display_data"
    }
   ],
   "source": [
    "ncol(smp)  # nombre de colonne du dataframe"
   ]
  },
  {
   "cell_type": "code",
   "execution_count": 12,
   "metadata": {},
   "outputs": [
    {
     "data": {
      "text/html": [
       "799"
      ],
      "text/latex": [
       "799"
      ],
      "text/markdown": [
       "799"
      ],
      "text/plain": [
       "[1] 799"
      ]
     },
     "metadata": {},
     "output_type": "display_data"
    }
   ],
   "source": [
    "nrow(smp)   # nombre de ligne du dataframe"
   ]
  },
  {
   "cell_type": "code",
   "execution_count": 13,
   "metadata": {},
   "outputs": [
    {
     "data": {
      "text/html": [
       "<ol class=list-inline>\n",
       "\t<li>'age'</li>\n",
       "\t<li>'prof'</li>\n",
       "\t<li>'duree'</li>\n",
       "\t<li>'discip'</li>\n",
       "\t<li>'n.enfant'</li>\n",
       "\t<li>'n.fratrie'</li>\n",
       "\t<li>'ecole'</li>\n",
       "\t<li>'separation'</li>\n",
       "\t<li>'juge.enfant'</li>\n",
       "\t<li>'place'</li>\n",
       "\t<li>'abus'</li>\n",
       "\t<li>'grav.cons'</li>\n",
       "\t<li>'dep.cons'</li>\n",
       "\t<li>'ago.cons'</li>\n",
       "\t<li>'ptsd.cons'</li>\n",
       "\t<li>'alc.cons'</li>\n",
       "\t<li>'subst.cons'</li>\n",
       "\t<li>'scz.cons'</li>\n",
       "\t<li>'char'</li>\n",
       "\t<li>'rs'</li>\n",
       "\t<li>'ed'</li>\n",
       "\t<li>'dr'</li>\n",
       "\t<li>'suicide.s'</li>\n",
       "\t<li>'suicide.hr'</li>\n",
       "\t<li>'suicide.past'</li>\n",
       "\t<li>'dur.interv'</li>\n",
       "</ol>\n"
      ],
      "text/latex": [
       "\\begin{enumerate*}\n",
       "\\item 'age'\n",
       "\\item 'prof'\n",
       "\\item 'duree'\n",
       "\\item 'discip'\n",
       "\\item 'n.enfant'\n",
       "\\item 'n.fratrie'\n",
       "\\item 'ecole'\n",
       "\\item 'separation'\n",
       "\\item 'juge.enfant'\n",
       "\\item 'place'\n",
       "\\item 'abus'\n",
       "\\item 'grav.cons'\n",
       "\\item 'dep.cons'\n",
       "\\item 'ago.cons'\n",
       "\\item 'ptsd.cons'\n",
       "\\item 'alc.cons'\n",
       "\\item 'subst.cons'\n",
       "\\item 'scz.cons'\n",
       "\\item 'char'\n",
       "\\item 'rs'\n",
       "\\item 'ed'\n",
       "\\item 'dr'\n",
       "\\item 'suicide.s'\n",
       "\\item 'suicide.hr'\n",
       "\\item 'suicide.past'\n",
       "\\item 'dur.interv'\n",
       "\\end{enumerate*}\n"
      ],
      "text/markdown": [
       "1. 'age'\n",
       "2. 'prof'\n",
       "3. 'duree'\n",
       "4. 'discip'\n",
       "5. 'n.enfant'\n",
       "6. 'n.fratrie'\n",
       "7. 'ecole'\n",
       "8. 'separation'\n",
       "9. 'juge.enfant'\n",
       "10. 'place'\n",
       "11. 'abus'\n",
       "12. 'grav.cons'\n",
       "13. 'dep.cons'\n",
       "14. 'ago.cons'\n",
       "15. 'ptsd.cons'\n",
       "16. 'alc.cons'\n",
       "17. 'subst.cons'\n",
       "18. 'scz.cons'\n",
       "19. 'char'\n",
       "20. 'rs'\n",
       "21. 'ed'\n",
       "22. 'dr'\n",
       "23. 'suicide.s'\n",
       "24. 'suicide.hr'\n",
       "25. 'suicide.past'\n",
       "26. 'dur.interv'\n",
       "\n",
       "\n"
      ],
      "text/plain": [
       " [1] \"age\"          \"prof\"         \"duree\"        \"discip\"       \"n.enfant\"    \n",
       " [6] \"n.fratrie\"    \"ecole\"        \"separation\"   \"juge.enfant\"  \"place\"       \n",
       "[11] \"abus\"         \"grav.cons\"    \"dep.cons\"     \"ago.cons\"     \"ptsd.cons\"   \n",
       "[16] \"alc.cons\"     \"subst.cons\"   \"scz.cons\"     \"char\"         \"rs\"          \n",
       "[21] \"ed\"           \"dr\"           \"suicide.s\"    \"suicide.hr\"   \"suicide.past\"\n",
       "[26] \"dur.interv\"  "
      ]
     },
     "metadata": {},
     "output_type": "display_data"
    }
   ],
   "source": [
    "names(smp)"
   ]
  },
  {
   "cell_type": "code",
   "execution_count": 14,
   "metadata": {},
   "outputs": [
    {
     "data": {
      "text/html": [
       "<ol class=list-inline>\n",
       "\t<li>'age'</li>\n",
       "\t<li>'prof'</li>\n",
       "\t<li>'duree'</li>\n",
       "\t<li>'discip'</li>\n",
       "\t<li>'n.enfant'</li>\n",
       "\t<li>'n.fratrie'</li>\n",
       "\t<li>'ecole'</li>\n",
       "\t<li>'separation'</li>\n",
       "\t<li>'juge.enfant'</li>\n",
       "\t<li>'place'</li>\n",
       "\t<li>'abus'</li>\n",
       "\t<li>'grav.cons'</li>\n",
       "\t<li>'dep.cons'</li>\n",
       "\t<li>'ago.cons'</li>\n",
       "\t<li>'ptsd.cons'</li>\n",
       "\t<li>'alc.cons'</li>\n",
       "\t<li>'subst.cons'</li>\n",
       "\t<li>'scz.cons'</li>\n",
       "\t<li>'char'</li>\n",
       "\t<li>'rs'</li>\n",
       "\t<li>'ed'</li>\n",
       "\t<li>'dr'</li>\n",
       "\t<li>'suicide.s'</li>\n",
       "\t<li>'suicide.hr'</li>\n",
       "\t<li>'suicide.past'</li>\n",
       "\t<li>'dur.interv'</li>\n",
       "</ol>\n"
      ],
      "text/latex": [
       "\\begin{enumerate*}\n",
       "\\item 'age'\n",
       "\\item 'prof'\n",
       "\\item 'duree'\n",
       "\\item 'discip'\n",
       "\\item 'n.enfant'\n",
       "\\item 'n.fratrie'\n",
       "\\item 'ecole'\n",
       "\\item 'separation'\n",
       "\\item 'juge.enfant'\n",
       "\\item 'place'\n",
       "\\item 'abus'\n",
       "\\item 'grav.cons'\n",
       "\\item 'dep.cons'\n",
       "\\item 'ago.cons'\n",
       "\\item 'ptsd.cons'\n",
       "\\item 'alc.cons'\n",
       "\\item 'subst.cons'\n",
       "\\item 'scz.cons'\n",
       "\\item 'char'\n",
       "\\item 'rs'\n",
       "\\item 'ed'\n",
       "\\item 'dr'\n",
       "\\item 'suicide.s'\n",
       "\\item 'suicide.hr'\n",
       "\\item 'suicide.past'\n",
       "\\item 'dur.interv'\n",
       "\\end{enumerate*}\n"
      ],
      "text/markdown": [
       "1. 'age'\n",
       "2. 'prof'\n",
       "3. 'duree'\n",
       "4. 'discip'\n",
       "5. 'n.enfant'\n",
       "6. 'n.fratrie'\n",
       "7. 'ecole'\n",
       "8. 'separation'\n",
       "9. 'juge.enfant'\n",
       "10. 'place'\n",
       "11. 'abus'\n",
       "12. 'grav.cons'\n",
       "13. 'dep.cons'\n",
       "14. 'ago.cons'\n",
       "15. 'ptsd.cons'\n",
       "16. 'alc.cons'\n",
       "17. 'subst.cons'\n",
       "18. 'scz.cons'\n",
       "19. 'char'\n",
       "20. 'rs'\n",
       "21. 'ed'\n",
       "22. 'dr'\n",
       "23. 'suicide.s'\n",
       "24. 'suicide.hr'\n",
       "25. 'suicide.past'\n",
       "26. 'dur.interv'\n",
       "\n",
       "\n"
      ],
      "text/plain": [
       " [1] \"age\"          \"prof\"         \"duree\"        \"discip\"       \"n.enfant\"    \n",
       " [6] \"n.fratrie\"    \"ecole\"        \"separation\"   \"juge.enfant\"  \"place\"       \n",
       "[11] \"abus\"         \"grav.cons\"    \"dep.cons\"     \"ago.cons\"     \"ptsd.cons\"   \n",
       "[16] \"alc.cons\"     \"subst.cons\"   \"scz.cons\"     \"char\"         \"rs\"          \n",
       "[21] \"ed\"           \"dr\"           \"suicide.s\"    \"suicide.hr\"   \"suicide.past\"\n",
       "[26] \"dur.interv\"  "
      ]
     },
     "metadata": {},
     "output_type": "display_data"
    }
   ],
   "source": [
    "colnames(smp)"
   ]
  },
  {
   "cell_type": "code",
   "execution_count": 17,
   "metadata": {
    "scrolled": true
   },
   "outputs": [
    {
     "data": {
      "text/html": [
       "<table>\n",
       "<thead><tr><th scope=col>Id</th><th scope=col>SEXE</th><th scope=col>Poids</th></tr></thead>\n",
       "<tbody>\n",
       "\t<tr><td>1 </td><td>H </td><td>75</td></tr>\n",
       "\t<tr><td>2 </td><td>F </td><td>68</td></tr>\n",
       "\t<tr><td>3 </td><td>F </td><td>48</td></tr>\n",
       "\t<tr><td>4 </td><td>H </td><td>72</td></tr>\n",
       "</tbody>\n",
       "</table>\n"
      ],
      "text/latex": [
       "\\begin{tabular}{r|lll}\n",
       " Id & SEXE & Poids\\\\\n",
       "\\hline\n",
       "\t 1  & H  & 75\\\\\n",
       "\t 2  & F  & 68\\\\\n",
       "\t 3  & F  & 48\\\\\n",
       "\t 4  & H  & 72\\\\\n",
       "\\end{tabular}\n"
      ],
      "text/markdown": [
       "\n",
       "| Id | SEXE | Poids |\n",
       "|---|---|---|\n",
       "| 1  | H  | 75 |\n",
       "| 2  | F  | 68 |\n",
       "| 3  | F  | 48 |\n",
       "| 4  | H  | 72 |\n",
       "\n"
      ],
      "text/plain": [
       "  Id SEXE Poids\n",
       "1 1  H    75   \n",
       "2 2  F    68   \n",
       "3 3  F    48   \n",
       "4 4  H    72   "
      ]
     },
     "metadata": {},
     "output_type": "display_data"
    },
    {
     "data": {
      "text/html": [
       "<table>\n",
       "<thead><tr><th scope=col>Id</th><th scope=col>SEXE</th><th scope=col>Taille</th></tr></thead>\n",
       "<tbody>\n",
       "\t<tr><td>1  </td><td>H  </td><td>182</td></tr>\n",
       "\t<tr><td>2  </td><td>F  </td><td>165</td></tr>\n",
       "\t<tr><td>3  </td><td>F  </td><td>160</td></tr>\n",
       "\t<tr><td>4  </td><td>H  </td><td>178</td></tr>\n",
       "</tbody>\n",
       "</table>\n"
      ],
      "text/latex": [
       "\\begin{tabular}{r|lll}\n",
       " Id & SEXE & Taille\\\\\n",
       "\\hline\n",
       "\t 1   & H   & 182\\\\\n",
       "\t 2   & F   & 165\\\\\n",
       "\t 3   & F   & 160\\\\\n",
       "\t 4   & H   & 178\\\\\n",
       "\\end{tabular}\n"
      ],
      "text/markdown": [
       "\n",
       "| Id | SEXE | Taille |\n",
       "|---|---|---|\n",
       "| 1   | H   | 182 |\n",
       "| 2   | F   | 165 |\n",
       "| 3   | F   | 160 |\n",
       "| 4   | H   | 178 |\n",
       "\n"
      ],
      "text/plain": [
       "  Id SEXE Taille\n",
       "1 1  H    182   \n",
       "2 2  F    165   \n",
       "3 3  F    160   \n",
       "4 4  H    178   "
      ]
     },
     "metadata": {},
     "output_type": "display_data"
    }
   ],
   "source": [
    "X1 <- data.frame(Id=1:4,SEXE=c(\"H\",\"F\",\"F\",\"H\"), Poids=c(75,68,48,72))\n",
    "X2 <- data.frame(Id=1:4,SEXE=c(\"H\",\"F\",\"F\",\"H\"), Taille=c(182,165,160,178))\n",
    "X1\n",
    "X2"
   ]
  },
  {
   "cell_type": "code",
   "execution_count": 18,
   "metadata": {},
   "outputs": [
    {
     "data": {
      "text/html": [
       "<table>\n",
       "<thead><tr><th scope=col>Id</th><th scope=col>SEXE</th><th scope=col>Poids</th><th scope=col>Id</th><th scope=col>SEXE</th><th scope=col>Taille</th></tr></thead>\n",
       "<tbody>\n",
       "\t<tr><td>1  </td><td>H  </td><td>75 </td><td>1  </td><td>H  </td><td>182</td></tr>\n",
       "\t<tr><td>2  </td><td>F  </td><td>68 </td><td>2  </td><td>F  </td><td>165</td></tr>\n",
       "\t<tr><td>3  </td><td>F  </td><td>48 </td><td>3  </td><td>F  </td><td>160</td></tr>\n",
       "\t<tr><td>4  </td><td>H  </td><td>72 </td><td>4  </td><td>H  </td><td>178</td></tr>\n",
       "</tbody>\n",
       "</table>\n"
      ],
      "text/latex": [
       "\\begin{tabular}{r|llllll}\n",
       " Id & SEXE & Poids & Id & SEXE & Taille\\\\\n",
       "\\hline\n",
       "\t 1   & H   & 75  & 1   & H   & 182\\\\\n",
       "\t 2   & F   & 68  & 2   & F   & 165\\\\\n",
       "\t 3   & F   & 48  & 3   & F   & 160\\\\\n",
       "\t 4   & H   & 72  & 4   & H   & 178\\\\\n",
       "\\end{tabular}\n"
      ],
      "text/markdown": [
       "\n",
       "| Id | SEXE | Poids | Id | SEXE | Taille |\n",
       "|---|---|---|---|---|---|\n",
       "| 1   | H   | 75  | 1   | H   | 182 |\n",
       "| 2   | F   | 68  | 2   | F   | 165 |\n",
       "| 3   | F   | 48  | 3   | F   | 160 |\n",
       "| 4   | H   | 72  | 4   | H   | 178 |\n",
       "\n"
      ],
      "text/plain": [
       "  Id SEXE Poids Id SEXE Taille\n",
       "1 1  H    75    1  H    182   \n",
       "2 2  F    68    2  F    165   \n",
       "3 3  F    48    3  F    160   \n",
       "4 4  H    72    4  H    178   "
      ]
     },
     "metadata": {},
     "output_type": "display_data"
    }
   ],
   "source": [
    "# FUSIONNER LES DEUX TABLES\n",
    "cbind(X1,X2)"
   ]
  },
  {
   "cell_type": "code",
   "execution_count": 19,
   "metadata": {},
   "outputs": [
    {
     "data": {
      "text/html": [
       "<table>\n",
       "<thead><tr><th scope=col>Id</th><th scope=col>SEXE</th><th scope=col>Poids</th><th scope=col>Taille</th></tr></thead>\n",
       "<tbody>\n",
       "\t<tr><td>1  </td><td>H  </td><td>75 </td><td>182</td></tr>\n",
       "\t<tr><td>2  </td><td>F  </td><td>68 </td><td>165</td></tr>\n",
       "\t<tr><td>3  </td><td>F  </td><td>48 </td><td>160</td></tr>\n",
       "\t<tr><td>4  </td><td>H  </td><td>72 </td><td>178</td></tr>\n",
       "</tbody>\n",
       "</table>\n"
      ],
      "text/latex": [
       "\\begin{tabular}{r|llll}\n",
       " Id & SEXE & Poids & Taille\\\\\n",
       "\\hline\n",
       "\t 1   & H   & 75  & 182\\\\\n",
       "\t 2   & F   & 68  & 165\\\\\n",
       "\t 3   & F   & 48  & 160\\\\\n",
       "\t 4   & H   & 72  & 178\\\\\n",
       "\\end{tabular}\n"
      ],
      "text/markdown": [
       "\n",
       "| Id | SEXE | Poids | Taille |\n",
       "|---|---|---|---|\n",
       "| 1   | H   | 75  | 182 |\n",
       "| 2   | F   | 68  | 165 |\n",
       "| 3   | F   | 48  | 160 |\n",
       "| 4   | H   | 72  | 178 |\n",
       "\n"
      ],
      "text/plain": [
       "  Id SEXE Poids Taille\n",
       "1 1  H    75    182   \n",
       "2 2  F    68    165   \n",
       "3 3  F    48    160   \n",
       "4 4  H    72    178   "
      ]
     },
     "metadata": {},
     "output_type": "display_data"
    }
   ],
   "source": [
    "# la fonction utile pour les fusions de dataframe est :\n",
    "merge(X1,X2)"
   ]
  },
  {
   "cell_type": "code",
   "execution_count": 24,
   "metadata": {},
   "outputs": [
    {
     "data": {
      "text/html": [
       "<dl class=dl-horizontal>\n",
       "\t<dt>agriculteur</dt>\n",
       "\t\t<dd>4.2</dd>\n",
       "\t<dt>artisan</dt>\n",
       "\t\t<dd>4.51515151515152</dd>\n",
       "\t<dt>autre</dt>\n",
       "\t\t<dd>3.90909090909091</dd>\n",
       "\t<dt>cadre</dt>\n",
       "\t\t<dd>4.45</dd>\n",
       "\t<dt>employé</dt>\n",
       "\t\t<dd>4.26744186046512</dd>\n",
       "\t<dt>ouvrier</dt>\n",
       "\t\t<dd>4.26666666666667</dd>\n",
       "\t<dt>prof.intermédiaire</dt>\n",
       "\t\t<dd>4.54054054054054</dd>\n",
       "\t<dt>sans emploi</dt>\n",
       "\t\t<dd>4.25316455696202</dd>\n",
       "</dl>\n"
      ],
      "text/latex": [
       "\\begin{description*}\n",
       "\\item[agriculteur] 4.2\n",
       "\\item[artisan] 4.51515151515152\n",
       "\\item[autre] 3.90909090909091\n",
       "\\item[cadre] 4.45\n",
       "\\item[employé] 4.26744186046512\n",
       "\\item[ouvrier] 4.26666666666667\n",
       "\\item[prof.intermédiaire] 4.54054054054054\n",
       "\\item[sans emploi] 4.25316455696202\n",
       "\\end{description*}\n"
      ],
      "text/markdown": [
       "agriculteur\n",
       ":   4.2artisan\n",
       ":   4.51515151515152autre\n",
       ":   3.90909090909091cadre\n",
       ":   4.45employé\n",
       ":   4.26744186046512ouvrier\n",
       ":   4.26666666666667prof.intermédiaire\n",
       ":   4.54054054054054sans emploi\n",
       ":   4.25316455696202\n",
       "\n"
      ],
      "text/plain": [
       "       agriculteur            artisan              autre              cadre \n",
       "          4.200000           4.515152           3.909091           4.450000 \n",
       "           employé            ouvrier prof.intermédiaire        sans emploi \n",
       "          4.267442           4.266667           4.540541           4.253165 "
      ]
     },
     "metadata": {},
     "output_type": "display_data"
    }
   ],
   "source": [
    "# Question 2\n",
    "with(smp, tapply(duree, prof, mean, na.rm=TRUE))"
   ]
  },
  {
   "cell_type": "code",
   "execution_count": 26,
   "metadata": {},
   "outputs": [
    {
     "data": {
      "text/html": [
       "<dl class=dl-horizontal>\n",
       "\t<dt>agriculteur</dt>\n",
       "\t\t<dd>0.836660026534076</dd>\n",
       "\t<dt>artisan</dt>\n",
       "\t\t<dd>0.749203150891239</dd>\n",
       "\t<dt>autre</dt>\n",
       "\t\t<dd>1.1509454047327</dd>\n",
       "\t<dt>cadre</dt>\n",
       "\t\t<dd>0.604805318829299</dd>\n",
       "\t<dt>employé</dt>\n",
       "\t\t<dd>0.987265011262113</dd>\n",
       "\t<dt>ouvrier</dt>\n",
       "\t\t<dd>0.862632064215266</dd>\n",
       "\t<dt>prof.intermédiaire</dt>\n",
       "\t\t<dd>0.690997451136744</dd>\n",
       "\t<dt>sans emploi</dt>\n",
       "\t\t<dd>0.859096762090208</dd>\n",
       "</dl>\n"
      ],
      "text/latex": [
       "\\begin{description*}\n",
       "\\item[agriculteur] 0.836660026534076\n",
       "\\item[artisan] 0.749203150891239\n",
       "\\item[autre] 1.1509454047327\n",
       "\\item[cadre] 0.604805318829299\n",
       "\\item[employé] 0.987265011262113\n",
       "\\item[ouvrier] 0.862632064215266\n",
       "\\item[prof.intermédiaire] 0.690997451136744\n",
       "\\item[sans emploi] 0.859096762090208\n",
       "\\end{description*}\n"
      ],
      "text/markdown": [
       "agriculteur\n",
       ":   0.836660026534076artisan\n",
       ":   0.749203150891239autre\n",
       ":   1.1509454047327cadre\n",
       ":   0.604805318829299employé\n",
       ":   0.987265011262113ouvrier\n",
       ":   0.862632064215266prof.intermédiaire\n",
       ":   0.690997451136744sans emploi\n",
       ":   0.859096762090208\n",
       "\n"
      ],
      "text/plain": [
       "       agriculteur            artisan              autre              cadre \n",
       "         0.8366600          0.7492032          1.1509454          0.6048053 \n",
       "           employé            ouvrier prof.intermédiaire        sans emploi \n",
       "         0.9872650          0.8626321          0.6909975          0.8590968 "
      ]
     },
     "metadata": {},
     "output_type": "display_data"
    }
   ],
   "source": [
    "with(smp, tapply(duree, prof, sd, na.rm=TRUE))"
   ]
  },
  {
   "cell_type": "code",
   "execution_count": 30,
   "metadata": {},
   "outputs": [
    {
     "data": {
      "text/plain": [
       "\n",
       "\tTwo Sample t-test\n",
       "\n",
       "data:  smp$age by smp$place\n",
       "t = 4.8977, df = 790, p-value = 1.176e-06\n",
       "alternative hypothesis: true difference in means is not equal to 0\n",
       "95 percent confidence interval:\n",
       " 3.257075 7.614171\n",
       "sample estimates:\n",
       "mean in group 0 mean in group 1 \n",
       "       40.10966        34.67403 \n"
      ]
     },
     "metadata": {},
     "output_type": "display_data"
    }
   ],
   "source": [
    "# Question 3.\n",
    "t.test(smp$age ~ smp$place, var.equal=TRUE)"
   ]
  },
  {
   "cell_type": "code",
   "execution_count": 32,
   "metadata": {},
   "outputs": [
    {
     "data": {
      "text/plain": [
       "\n",
       "\tWelch Two Sample t-test\n",
       "\n",
       "data:  age by place\n",
       "t = 5.4385, df = 351.87, p-value = 1.007e-07\n",
       "alternative hypothesis: true difference in means is not equal to 0\n",
       "95 percent confidence interval:\n",
       " 3.469949 7.401298\n",
       "sample estimates:\n",
       "mean in group 0 mean in group 1 \n",
       "       40.10966        34.67403 \n"
      ]
     },
     "metadata": {},
     "output_type": "display_data"
    }
   ],
   "source": [
    "t.test(age ~ place, data=smp)"
   ]
  },
  {
   "cell_type": "code",
   "execution_count": 36,
   "metadata": {},
   "outputs": [
    {
     "data": {
      "text/plain": [
       "smp$dep.cons: 0\n",
       "[1] 60\n",
       "------------------------------------------------------------ \n",
       "smp$dep.cons: 1\n",
       "[1] 65"
      ]
     },
     "metadata": {},
     "output_type": "display_data"
    }
   ],
   "source": [
    "# Question 4\n",
    "by(smp$dur.interv, smp$dep.cons, median, na.rm=TRUE)"
   ]
  },
  {
   "cell_type": "code",
   "execution_count": 38,
   "metadata": {},
   "outputs": [
    {
     "data": {
      "text/html": [
       "0.086"
      ],
      "text/latex": [
       "0.086"
      ],
      "text/markdown": [
       "0.086"
      ],
      "text/plain": [
       "[1] 0.086"
      ]
     },
     "metadata": {},
     "output_type": "display_data"
    }
   ],
   "source": [
    "# Question 5\n",
    "round(cor(smp$dur.interv, smp$age, use=\"complete.obs\"), 3)"
   ]
  },
  {
   "cell_type": "code",
   "execution_count": 39,
   "metadata": {},
   "outputs": [
    {
     "data": {
      "text/plain": [
       "\n",
       "\tWilcoxon rank sum test with continuity correction\n",
       "\n",
       "data:  smp$dur.interv by smp$suicide.past\n",
       "W = 41893, p-value = 1.355e-07\n",
       "alternative hypothesis: true location shift is not equal to 0\n"
      ]
     },
     "metadata": {},
     "output_type": "display_data"
    }
   ],
   "source": [
    "# Question 6\n",
    "smp$suicide.past <- factor(smp$suicide.past)\n",
    "wilcox.test(smp$dur.interv ~ smp$suicide.past)"
   ]
  },
  {
   "cell_type": "markdown",
   "metadata": {},
   "source": [
    "<a id=\"ref4\"></a>\n",
    "<h1 align=center>SEMAINE 04</h1>\n",
    "<h1 align=center>Régression linéaire - Régression logistique</h1>"
   ]
  },
  {
   "cell_type": "markdown",
   "metadata": {},
   "source": [
    "## 13. Régresion linéaire simple"
   ]
  },
  {
   "cell_type": "code",
   "execution_count": 2,
   "metadata": {
    "scrolled": true
   },
   "outputs": [
    {
     "name": "stdout",
     "output_type": "stream",
     "text": [
      "'data.frame':\t799 obs. of  26 variables:\n",
      " $ age         : int  31 49 50 47 23 34 24 52 42 45 ...\n",
      " $ prof        : Factor w/ 8 levels \"agriculteur\",..: 3 NA 7 6 8 6 3 2 6 6 ...\n",
      " $ duree       : int  4 NA 5 NA 4 NA NA 5 4 NA ...\n",
      " $ discip      : int  0 0 0 0 1 0 0 0 1 0 ...\n",
      " $ n.enfant    : int  2 7 2 0 1 3 5 2 1 2 ...\n",
      " $ n.fratrie   : int  4 3 2 6 6 2 3 9 12 5 ...\n",
      " $ ecole       : int  1 2 2 1 1 2 1 2 1 2 ...\n",
      " $ separation  : int  0 1 0 1 1 0 1 0 1 0 ...\n",
      " $ juge.enfant : int  0 0 0 0 NA 0 1 0 1 0 ...\n",
      " $ place       : int  0 0 0 1 1 0 1 0 0 0 ...\n",
      " $ abus        : int  0 0 0 0 0 0 0 0 1 1 ...\n",
      " $ grav.cons   : int  1 2 2 1 2 1 5 1 5 5 ...\n",
      " $ dep.cons    : int  0 0 0 0 1 0 1 0 1 0 ...\n",
      " $ ago.cons    : int  1 0 0 0 0 0 0 0 0 0 ...\n",
      " $ ptsd.cons   : int  0 0 0 0 0 0 0 0 0 0 ...\n",
      " $ alc.cons    : int  0 0 0 0 0 0 0 0 1 1 ...\n",
      " $ subst.cons  : int  0 0 0 0 0 0 1 0 1 0 ...\n",
      " $ scz.cons    : int  0 0 0 0 0 0 0 0 0 0 ...\n",
      " $ char        : int  1 1 1 1 1 1 1 1 4 1 ...\n",
      " $ rs          : int  2 2 2 2 2 1 3 2 3 2 ...\n",
      " $ ed          : int  1 2 3 2 2 2 3 2 3 2 ...\n",
      " $ dr          : int  1 1 2 2 2 1 2 2 1 2 ...\n",
      " $ suicide.s   : int  0 0 0 1 0 0 3 0 4 0 ...\n",
      " $ suicide.hr  : int  0 0 0 0 0 0 1 0 1 0 ...\n",
      " $ suicide.past: int  0 0 0 0 1 0 1 0 1 0 ...\n",
      " $ dur.interv  : int  NA 70 NA 105 NA NA 105 84 78 60 ...\n"
     ]
    }
   ],
   "source": [
    "# Chargement des données\n",
    "smpl <- read.csv2(\"smp2.csv\")                                        # Il s'agit toujours de smp2.csv\n",
    "str(smpl)"
   ]
  },
  {
   "cell_type": "code",
   "execution_count": 3,
   "metadata": {
    "scrolled": true
   },
   "outputs": [
    {
     "data": {
      "image/png": "iVBORw0KGgoAAAANSUhEUgAAA0gAAANICAMAAADKOT/pAAAAMFBMVEUAAABNTU1oaGh8fHyM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\nv2oxDtMcAAAAAElFTkSuQmCC",
      "text/plain": [
       "plot without title"
      ]
     },
     "metadata": {},
     "output_type": "display_data"
    }
   ],
   "source": [
    "# représentation graphique \n",
    "plot(smpl$age, smpl$dur.interv)"
   ]
  },
  {
   "cell_type": "code",
   "execution_count": 4,
   "metadata": {
    "scrolled": true
   },
   "outputs": [
    {
     "data": {
      "image/png": "iVBORw0KGgoAAAANSUhEUgAAA0gAAANICAMAAADKOT/pAAAAMFBMVEUAAABNTU1oaGh8fHyM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\nICQAFPgPIRW6bfDd95MAAAAASUVORK5CYII=",
      "text/plain": [
       "plot without title"
      ]
     },
     "metadata": {},
     "output_type": "display_data"
    }
   ],
   "source": [
    "# représentation graphique - pivoter le graphique pour mettre en évidence les observations superposées\n",
    "plot(jitter(smpl$age), jitter(smpl$dur.interv))"
   ]
  },
  {
   "cell_type": "code",
   "execution_count": 5,
   "metadata": {},
   "outputs": [
    {
     "ename": "ERROR",
     "evalue": "Error in int_abline(a = a, b = b, h = h, v = v, untf = untf, ...): plot.new has not been called yet\n",
     "output_type": "error",
     "traceback": [
      "Error in int_abline(a = a, b = b, h = h, v = v, untf = untf, ...): plot.new has not been called yet\nTraceback:\n",
      "1. abline(lm(dur.interv ~ age, data = smpl))",
      "2. int_abline(a = a, b = b, h = h, v = v, untf = untf, ...)"
     ]
    }
   ],
   "source": [
    "# droite de la régression\n",
    "abline(lm(dur.interv ~ age, data=smpl))"
   ]
  },
  {
   "cell_type": "code",
   "execution_count": 48,
   "metadata": {},
   "outputs": [],
   "source": [
    "help(abline)"
   ]
  },
  {
   "cell_type": "code",
   "execution_count": 6,
   "metadata": {},
   "outputs": [
    {
     "data": {
      "text/plain": [
       "\n",
       "Call:\n",
       "lm(formula = dur.interv ~ age, data = smpl)\n",
       "\n",
       "Residuals:\n",
       "    Min      1Q  Median      3Q     Max \n",
       "-62.470 -14.402  -1.712  12.341  60.055 \n",
       "\n",
       "Coefficients:\n",
       "            Estimate Std. Error t value Pr(>|t|)    \n",
       "(Intercept) 57.04091    2.22028  25.691   <2e-16 ***\n",
       "age          0.12625    0.05375   2.349   0.0191 *  \n",
       "---\n",
       "Signif. codes:  0 '***' 0.001 '**' 0.01 '*' 0.05 '.' 0.1 ' ' 1\n",
       "\n",
       "Residual standard error: 19.57 on 745 degrees of freedom\n",
       "  (52 observations deleted due to missingness)\n",
       "Multiple R-squared:  0.00735,\tAdjusted R-squared:  0.006018 \n",
       "F-statistic: 5.516 on 1 and 745 DF,  p-value: 0.0191\n"
      ]
     },
     "metadata": {},
     "output_type": "display_data"
    }
   ],
   "source": [
    "# modèle de régression linéaire simple\n",
    "mod1 <- lm(dur.interv ~ age, data=smpl)\n",
    "summary(mod1)"
   ]
  },
  {
   "cell_type": "markdown",
   "metadata": {},
   "source": [
    "## 14. Régression linéaire : au délà de la corrélation et du test t"
   ]
  },
  {
   "cell_type": "code",
   "execution_count": 7,
   "metadata": {},
   "outputs": [
    {
     "data": {
      "text/plain": [
       "\n",
       "\tPearson's product-moment correlation\n",
       "\n",
       "data:  smpl$dur.interv and smpl$age\n",
       "t = 2.3487, df = 745, p-value = 0.0191\n",
       "alternative hypothesis: true correlation is not equal to 0\n",
       "95 percent confidence interval:\n",
       " 0.01408787 0.15650345\n",
       "sample estimates:\n",
       "       cor \n",
       "0.08573358 \n"
      ]
     },
     "metadata": {},
     "output_type": "display_data"
    }
   ],
   "source": [
    "# test de corrélation\n",
    "cor.test(smpl$dur.interv, smpl$age)"
   ]
  },
  {
   "cell_type": "code",
   "execution_count": 8,
   "metadata": {},
   "outputs": [
    {
     "data": {
      "text/plain": [
       "\n",
       "Call:\n",
       "lm(formula = smpl$dur.interv ~ smpl$dep.cons, data = smpl)\n",
       "\n",
       "Residuals:\n",
       "    Min      1Q  Median      3Q     Max \n",
       "-62.538 -13.923   1.077  12.077  61.077 \n",
       "\n",
       "Coefficients:\n",
       "              Estimate Std. Error t value Pr(>|t|)    \n",
       "(Intercept)    58.9234     0.9041  65.171  < 2e-16 ***\n",
       "smpl$dep.cons   7.6143     1.4481   5.258  1.9e-07 ***\n",
       "---\n",
       "Signif. codes:  0 '***' 0.001 '**' 0.01 '*' 0.05 '.' 0.1 ' ' 1\n",
       "\n",
       "Residual standard error: 19.33 on 747 degrees of freedom\n",
       "  (50 observations deleted due to missingness)\n",
       "Multiple R-squared:  0.03569,\tAdjusted R-squared:  0.0344 \n",
       "F-statistic: 27.65 on 1 and 747 DF,  p-value: 1.9e-07\n"
      ]
     },
     "metadata": {},
     "output_type": "display_data"
    }
   ],
   "source": [
    "# Lien entre la régression linéaire et le t test\n",
    "mod2 <- lm(smpl$dur.interv ~ smpl$dep.cons, data=smpl)\n",
    "summary(mod2)"
   ]
  },
  {
   "cell_type": "code",
   "execution_count": 9,
   "metadata": {},
   "outputs": [
    {
     "data": {
      "text/plain": [
       "\n",
       "\tTwo Sample t-test\n",
       "\n",
       "data:  smpl$dur.interv by smpl$dep.cons\n",
       "t = -5.2583, df = 747, p-value = 1.9e-07\n",
       "alternative hypothesis: true difference in means is not equal to 0\n",
       "95 percent confidence interval:\n",
       " -10.457001  -4.771515\n",
       "sample estimates:\n",
       "mean in group 0 mean in group 1 \n",
       "       58.92341        66.53767 \n"
      ]
     },
     "metadata": {},
     "output_type": "display_data"
    }
   ],
   "source": [
    "t.test(smpl$dur.interv ~ smpl$dep.cons, var.equal=TRUE)"
   ]
  },
  {
   "cell_type": "markdown",
   "metadata": {},
   "source": [
    "**Nous constatons que la régression linéaire est une généralisation du test t de student dans ce sens qu'ils ont les même p-value. la constante du modèle de régression linéaire (58.92) correpsond à la moyenne de la modalité de référence (dep.cons=0) et le coefficient de la variable (b=7.6143) correspond parfaitement à la différence entre la moyenne des deux modalités, soit 66.53 - 58.92 = 7.61.**"
   ]
  },
  {
   "cell_type": "markdown",
   "metadata": {},
   "source": [
    "## 15. Régression linéaire multiple"
   ]
  },
  {
   "cell_type": "code",
   "execution_count": 10,
   "metadata": {},
   "outputs": [
    {
     "data": {
      "text/plain": [
       "\n",
       "Call:\n",
       "lm(formula = dur.interv ~ age + dep.cons + subst.cons + scz.cons, \n",
       "    data = smpl)\n",
       "\n",
       "Residuals:\n",
       "    Min      1Q  Median      3Q     Max \n",
       "-63.654 -14.522  -1.193  11.482  62.482 \n",
       "\n",
       "Coefficients:\n",
       "            Estimate Std. Error t value Pr(>|t|)    \n",
       "(Intercept) 48.90105    2.62213  18.649  < 2e-16 ***\n",
       "age          0.22096    0.05708   3.871 0.000118 ***\n",
       "dep.cons     7.38932    1.44783   5.104 4.24e-07 ***\n",
       "subst.cons   5.25157    1.74318   3.013 0.002678 ** \n",
       "scz.cons     2.27256    2.52323   0.901 0.368062    \n",
       "---\n",
       "Signif. codes:  0 '***' 0.001 '**' 0.01 '*' 0.05 '.' 0.1 ' ' 1\n",
       "\n",
       "Residual standard error: 19.1 on 742 degrees of freedom\n",
       "  (52 observations deleted due to missingness)\n",
       "Multiple R-squared:  0.05833,\tAdjusted R-squared:  0.05325 \n",
       "F-statistic: 11.49 on 4 and 742 DF,  p-value: 4.692e-09\n"
      ]
     },
     "metadata": {},
     "output_type": "display_data"
    }
   ],
   "source": [
    "# modélisation\n",
    "mod3 <- lm(dur.interv ~ age + dep.cons + subst.cons + scz.cons, data=smpl)\n",
    "summary(mod3)"
   ]
  },
  {
   "cell_type": "code",
   "execution_count": 11,
   "metadata": {},
   "outputs": [
    {
     "data": {
      "text/plain": [
       "\n",
       "Call:\n",
       "lm(formula = dur.interv ~ age + dep.cons + subst.cons + scz.cons + \n",
       "    prof, data = smpl)\n",
       "\n",
       "Residuals:\n",
       "    Min      1Q  Median      3Q     Max \n",
       "-63.280 -14.164  -1.337  10.959  63.184 \n",
       "\n",
       "Coefficients:\n",
       "                        Estimate Std. Error t value Pr(>|t|)    \n",
       "(Intercept)             62.79202   10.20779   6.151 1.26e-09 ***\n",
       "age                      0.21289    0.05884   3.618 0.000317 ***\n",
       "dep.cons                 7.36792    1.45840   5.052 5.53e-07 ***\n",
       "subst.cons               5.34589    1.76902   3.022 0.002599 ** \n",
       "scz.cons                 2.50439    2.54734   0.983 0.325863    \n",
       "profartisan            -11.48515    9.82936  -1.168 0.243005    \n",
       "profautre              -10.28748   10.33482  -0.995 0.319862    \n",
       "profcadre              -19.29636   10.38568  -1.858 0.063574 .  \n",
       "profemployé            -13.55809    9.76340  -1.389 0.165358    \n",
       "profouvrier            -14.01270    9.72111  -1.441 0.149880    \n",
       "profprof.intermédiaire -13.01926    9.96911  -1.306 0.191977    \n",
       "profsans emploi        -14.27866    9.71782  -1.469 0.142174    \n",
       "---\n",
       "Signif. codes:  0 '***' 0.001 '**' 0.01 '*' 0.05 '.' 0.1 ' ' 1\n",
       "\n",
       "Residual standard error: 19.11 on 731 degrees of freedom\n",
       "  (56 observations deleted due to missingness)\n",
       "Multiple R-squared:  0.06595,\tAdjusted R-squared:  0.05189 \n",
       "F-statistic: 4.692 on 11 and 731 DF,  p-value: 5.825e-07\n"
      ]
     },
     "metadata": {},
     "output_type": "display_data"
    }
   ],
   "source": [
    "# 4e modèle en rajoutant la profession - ajout d'une variable catégorielle à plus de deux modalités\n",
    "mod4 <- lm(dur.interv ~ age + dep.cons + subst.cons + scz.cons + prof, data=smpl)\n",
    "summary(mod4)"
   ]
  },
  {
   "cell_type": "code",
   "execution_count": 12,
   "metadata": {},
   "outputs": [
    {
     "data": {
      "text/plain": [
       "\n",
       "Call:\n",
       "lm(formula = dur.interv ~ age + dep.cons + subst.cons + scz.cons + \n",
       "    prof, data = smpl)\n",
       "\n",
       "Residuals:\n",
       "    Min      1Q  Median      3Q     Max \n",
       "-63.280 -14.164  -1.337  10.959  63.184 \n",
       "\n",
       "Coefficients:\n",
       "                       Estimate Std. Error t value Pr(>|t|)    \n",
       "(Intercept)            48.77932    2.83938  17.180  < 2e-16 ***\n",
       "age                     0.21289    0.05884   3.618 0.000317 ***\n",
       "dep.cons                7.36792    1.45840   5.052 5.53e-07 ***\n",
       "subst.cons              5.34589    1.76902   3.022 0.002599 ** \n",
       "scz.cons                2.50439    2.54734   0.983 0.325863    \n",
       "profagriculteur        14.01270    9.72111   1.441 0.149880    \n",
       "profartisan             2.52755    2.48989   1.015 0.310381    \n",
       "profautre               3.72522    3.99637   0.932 0.351567    \n",
       "profcadre              -5.28366    4.25567  -1.242 0.214798    \n",
       "profemployé             0.45460    2.12659   0.214 0.830785    \n",
       "profprof.intermédiaire  0.99344    2.95809   0.336 0.737089    \n",
       "profsans emploi        -0.26596    1.87727  -0.142 0.887375    \n",
       "---\n",
       "Signif. codes:  0 '***' 0.001 '**' 0.01 '*' 0.05 '.' 0.1 ' ' 1\n",
       "\n",
       "Residual standard error: 19.11 on 731 degrees of freedom\n",
       "  (56 observations deleted due to missingness)\n",
       "Multiple R-squared:  0.06595,\tAdjusted R-squared:  0.05189 \n",
       "F-statistic: 4.692 on 11 and 731 DF,  p-value: 5.825e-07\n"
      ]
     },
     "metadata": {},
     "output_type": "display_data"
    }
   ],
   "source": [
    "# fixer la modalité de référence pour la variable qualitative à plusieurs modalités\n",
    "smpl$prof <- relevel(smpl$prof, ref=\"ouvrier\")\n",
    "mod5 <- lm(dur.interv ~ age + dep.cons + subst.cons + scz.cons + prof, data=smpl)\n",
    "summary(mod5)"
   ]
  },
  {
   "cell_type": "code",
   "execution_count": 13,
   "metadata": {},
   "outputs": [
    {
     "data": {
      "text/html": [
       "<table>\n",
       "<thead><tr><th></th><th scope=col>Df</th><th scope=col>Sum of Sq</th><th scope=col>RSS</th><th scope=col>AIC</th><th scope=col>F value</th><th scope=col>Pr(&gt;F)</th></tr></thead>\n",
       "<tbody>\n",
       "\t<tr><th scope=row>&lt;none&gt;</th><td>NA          </td><td>       NA   </td><td>266846.1    </td><td>4395.612    </td><td>        NA  </td><td>          NA</td></tr>\n",
       "\t<tr><th scope=row>age</th><td> 1          </td><td>4778.3670   </td><td>271624.5    </td><td>4406.799    </td><td>13.0898906  </td><td>3.173322e-04</td></tr>\n",
       "\t<tr><th scope=row>dep.cons</th><td> 1          </td><td>9317.0855   </td><td>276163.2    </td><td>4419.112    </td><td>25.5232865  </td><td>5.526601e-07</td></tr>\n",
       "\t<tr><th scope=row>subst.cons</th><td> 1          </td><td>3333.6496   </td><td>270179.8    </td><td>4402.837    </td><td> 9.1322221  </td><td>2.599152e-03</td></tr>\n",
       "\t<tr><th scope=row>scz.cons</th><td> 1          </td><td> 352.8378   </td><td>267198.9    </td><td>4394.594    </td><td> 0.9665663  </td><td>3.258633e-01</td></tr>\n",
       "\t<tr><th scope=row>prof</th><td> 7          </td><td>2295.4642   </td><td>269141.6    </td><td>4387.976    </td><td> 0.8983157  </td><td>5.071556e-01</td></tr>\n",
       "</tbody>\n",
       "</table>\n"
      ],
      "text/latex": [
       "\\begin{tabular}{r|llllll}\n",
       "  & Df & Sum of Sq & RSS & AIC & F value & Pr(>F)\\\\\n",
       "\\hline\n",
       "\t<none> & NA           &        NA    & 266846.1     & 4395.612     &         NA   &           NA\\\\\n",
       "\tage &  1           & 4778.3670    & 271624.5     & 4406.799     & 13.0898906   & 3.173322e-04\\\\\n",
       "\tdep.cons &  1           & 9317.0855    & 276163.2     & 4419.112     & 25.5232865   & 5.526601e-07\\\\\n",
       "\tsubst.cons &  1           & 3333.6496    & 270179.8     & 4402.837     &  9.1322221   & 2.599152e-03\\\\\n",
       "\tscz.cons &  1           &  352.8378    & 267198.9     & 4394.594     &  0.9665663   & 3.258633e-01\\\\\n",
       "\tprof &  7           & 2295.4642    & 269141.6     & 4387.976     &  0.8983157   & 5.071556e-01\\\\\n",
       "\\end{tabular}\n"
      ],
      "text/markdown": [
       "\n",
       "| <!--/--> | Df | Sum of Sq | RSS | AIC | F value | Pr(>F) |\n",
       "|---|---|---|---|---|---|---|\n",
       "| <none> | NA           |        NA    | 266846.1     | 4395.612     |         NA   |           NA |\n",
       "| age |  1           | 4778.3670    | 271624.5     | 4406.799     | 13.0898906   | 3.173322e-04 |\n",
       "| dep.cons |  1           | 9317.0855    | 276163.2     | 4419.112     | 25.5232865   | 5.526601e-07 |\n",
       "| subst.cons |  1           | 3333.6496    | 270179.8     | 4402.837     |  9.1322221   | 2.599152e-03 |\n",
       "| scz.cons |  1           |  352.8378    | 267198.9     | 4394.594     |  0.9665663   | 3.258633e-01 |\n",
       "| prof |  7           | 2295.4642    | 269141.6     | 4387.976     |  0.8983157   | 5.071556e-01 |\n",
       "\n"
      ],
      "text/plain": [
       "           Df Sum of Sq RSS      AIC      F value    Pr(>F)      \n",
       "<none>     NA        NA 266846.1 4395.612         NA           NA\n",
       "age         1 4778.3670 271624.5 4406.799 13.0898906 3.173322e-04\n",
       "dep.cons    1 9317.0855 276163.2 4419.112 25.5232865 5.526601e-07\n",
       "subst.cons  1 3333.6496 270179.8 4402.837  9.1322221 2.599152e-03\n",
       "scz.cons    1  352.8378 267198.9 4394.594  0.9665663 3.258633e-01\n",
       "prof        7 2295.4642 269141.6 4387.976  0.8983157 5.071556e-01"
      ]
     },
     "metadata": {},
     "output_type": "display_data"
    }
   ],
   "source": [
    "drop1(mod5,.~.,test=\"F\")"
   ]
  },
  {
   "cell_type": "code",
   "execution_count": 14,
   "metadata": {
    "scrolled": false
   },
   "outputs": [
    {
     "data": {
      "text/plain": [
       "\n",
       "Call:\n",
       "lm(formula = dur.interv ~ age + dep.cons * subst.cons + scz.cons, \n",
       "    data = smpl)\n",
       "\n",
       "Residuals:\n",
       "    Min      1Q  Median      3Q     Max \n",
       "-62.032 -14.251  -1.163  11.472  62.313 \n",
       "\n",
       "Coefficients:\n",
       "                    Estimate Std. Error t value Pr(>|t|)    \n",
       "(Intercept)         49.51693    2.65788  18.630  < 2e-16 ***\n",
       "age                  0.21728    0.05711   3.805 0.000154 ***\n",
       "dep.cons             6.15780    1.69775   3.627 0.000306 ***\n",
       "subst.cons           3.17244    2.29849   1.380 0.167931    \n",
       "scz.cons             1.97233    2.53094   0.779 0.436059    \n",
       "dep.cons:subst.cons  4.49688    3.24296   1.387 0.165963    \n",
       "---\n",
       "Signif. codes:  0 '***' 0.001 '**' 0.01 '*' 0.05 '.' 0.1 ' ' 1\n",
       "\n",
       "Residual standard error: 19.08 on 741 degrees of freedom\n",
       "  (52 observations deleted due to missingness)\n",
       "Multiple R-squared:  0.06077,\tAdjusted R-squared:  0.05443 \n",
       "F-statistic: 9.588 on 5 and 741 DF,  p-value: 7.024e-09\n"
      ]
     },
     "metadata": {},
     "output_type": "display_data"
    }
   ],
   "source": [
    "# Régression avec intérraction entre deux variables\n",
    "mod6 <- lm(dur.interv ~ age + dep.cons*subst.cons + scz.cons, data=smpl)\n",
    "summary(mod6)"
   ]
  },
  {
   "cell_type": "markdown",
   "metadata": {},
   "source": [
    "**Nous constatons que l'intérraction des deux variables n'est pas significative dans ce modèle.**\n"
   ]
  },
  {
   "cell_type": "code",
   "execution_count": 15,
   "metadata": {},
   "outputs": [
    {
     "data": {
      "text/plain": [
       "\n",
       "Call:\n",
       "lm(formula = dur.interv ~ prof, data = smpl)\n",
       "\n",
       "Residuals:\n",
       "    Min      1Q  Median      3Q     Max \n",
       "-61.731 -13.826  -1.731  12.947  58.912 \n",
       "\n",
       "Coefficients:\n",
       "                       Estimate Std. Error t value Pr(>|t|)    \n",
       "(Intercept)             61.7315     1.3359  46.211   <2e-16 ***\n",
       "profagriculteur         17.0185     9.9071   1.718   0.0863 .  \n",
       "profartisan              2.0941     2.5033   0.837   0.4031    \n",
       "profautre                2.4993     4.0755   0.613   0.5399    \n",
       "profcadre               -4.7750     4.3063  -1.109   0.2679    \n",
       "profemployé              0.3220     2.1742   0.148   0.8823    \n",
       "profprof.intermédiaire   1.3440     3.0096   0.447   0.6553    \n",
       "profsans emploi         -0.6432     1.9168  -0.336   0.7373    \n",
       "---\n",
       "Signif. codes:  0 '***' 0.001 '**' 0.01 '*' 0.05 '.' 0.1 ' ' 1\n",
       "\n",
       "Residual standard error: 19.63 on 735 degrees of freedom\n",
       "  (56 observations deleted due to missingness)\n",
       "Multiple R-squared:  0.008295,\tAdjusted R-squared:  -0.001149 \n",
       "F-statistic: 0.8783 on 7 and 735 DF,  p-value: 0.5231\n"
      ]
     },
     "metadata": {},
     "output_type": "display_data"
    }
   ],
   "source": [
    "# Procédons désormais à l'analyse de variance\n",
    "mod7 <- lm(dur.interv~prof, data=smpl)\n",
    "summary(mod7)"
   ]
  },
  {
   "cell_type": "code",
   "execution_count": 16,
   "metadata": {},
   "outputs": [
    {
     "data": {
      "text/html": [
       "<table>\n",
       "<thead><tr><th></th><th scope=col>Df</th><th scope=col>Sum of Sq</th><th scope=col>RSS</th><th scope=col>AIC</th><th scope=col>F value</th><th scope=col>Pr(&gt;F)</th></tr></thead>\n",
       "<tbody>\n",
       "\t<tr><th scope=row>&lt;none&gt;</th><td>NA       </td><td>      NA </td><td>283315.9 </td><td>4432.111 </td><td>       NA</td><td>       NA</td></tr>\n",
       "\t<tr><th scope=row>prof</th><td> 7       </td><td>2369.869 </td><td>285685.7 </td><td>4424.300 </td><td>0.8782996</td><td>0.5231185</td></tr>\n",
       "</tbody>\n",
       "</table>\n"
      ],
      "text/latex": [
       "\\begin{tabular}{r|llllll}\n",
       "  & Df & Sum of Sq & RSS & AIC & F value & Pr(>F)\\\\\n",
       "\\hline\n",
       "\t<none> & NA        &       NA  & 283315.9  & 4432.111  &        NA &        NA\\\\\n",
       "\tprof &  7        & 2369.869  & 285685.7  & 4424.300  & 0.8782996 & 0.5231185\\\\\n",
       "\\end{tabular}\n"
      ],
      "text/markdown": [
       "\n",
       "| <!--/--> | Df | Sum of Sq | RSS | AIC | F value | Pr(>F) |\n",
       "|---|---|---|---|---|---|---|\n",
       "| <none> | NA        |       NA  | 283315.9  | 4432.111  |        NA |        NA |\n",
       "| prof |  7        | 2369.869  | 285685.7  | 4424.300  | 0.8782996 | 0.5231185 |\n",
       "\n"
      ],
      "text/plain": [
       "       Df Sum of Sq RSS      AIC      F value   Pr(>F)   \n",
       "<none> NA       NA  283315.9 4432.111        NA        NA\n",
       "prof    7 2369.869  285685.7 4424.300 0.8782996 0.5231185"
      ]
     },
     "metadata": {},
     "output_type": "display_data"
    }
   ],
   "source": [
    "# tableau d'ANOVA\n",
    "drop1(mod7,.~.,test=\"F\")"
   ]
  },
  {
   "cell_type": "code",
   "execution_count": 17,
   "metadata": {},
   "outputs": [
    {
     "data": {
      "image/png": "iVBORw0KGgoAAAANSUhEUgAAA0gAAANICAMAAADKOT/pAAAAM1BMVEUAAAAAAP9NTU1oaGh8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\nQmCC",
      "text/plain": [
       "Plot with title \"Histogram of resid(mod3)\""
      ]
     },
     "metadata": {},
     "output_type": "display_data"
    }
   ],
   "source": [
    "# vérification des conditions de validité de la régression linéaire par la normalité du résidu\n",
    "hist(resid(mod3), col=\"blue\")"
   ]
  },
  {
   "cell_type": "markdown",
   "metadata": {},
   "source": [
    "## 16. Introduction à la Régression logisitique"
   ]
  },
  {
   "cell_type": "code",
   "execution_count": 18,
   "metadata": {},
   "outputs": [
    {
     "data": {
      "text/plain": [
       "\n",
       "Call:\n",
       "glm(formula = suicide.hr ~ abus, family = \"binomial\", data = smpl)\n",
       "\n",
       "Deviance Residuals: \n",
       "    Min       1Q   Median       3Q      Max  \n",
       "-0.8446  -0.6020  -0.6020  -0.6020   1.8959  \n",
       "\n",
       "Coefficients:\n",
       "            Estimate Std. Error z value Pr(>|z|)    \n",
       "(Intercept)  -1.6161     0.1154 -14.003  < 2e-16 ***\n",
       "abus          0.7688     0.1897   4.052 5.07e-05 ***\n",
       "---\n",
       "Signif. codes:  0 '***' 0.001 '**' 0.01 '*' 0.05 '.' 0.1 ' ' 1\n",
       "\n",
       "(Dispersion parameter for binomial family taken to be 1)\n",
       "\n",
       "    Null deviance: 760.21  on 752  degrees of freedom\n",
       "Residual deviance: 744.26  on 751  degrees of freedom\n",
       "  (46 observations deleted due to missingness)\n",
       "AIC: 748.26\n",
       "\n",
       "Number of Fisher Scoring iterations: 4\n"
      ]
     },
     "metadata": {},
     "output_type": "display_data"
    }
   ],
   "source": [
    "# modèle logistique avec une seule variable explicative\n",
    "model1 <- glm(suicide.hr~abus, data=smpl, family=\"binomial\")\n",
    "summary(model1)"
   ]
  },
  {
   "cell_type": "code",
   "execution_count": 19,
   "metadata": {},
   "outputs": [
    {
     "data": {
      "text/html": [
       "<dl class=dl-horizontal>\n",
       "\t<dt>(Intercept)</dt>\n",
       "\t\t<dd>0.198675496688742</dd>\n",
       "\t<dt>abus</dt>\n",
       "\t\t<dd>2.15714285714538</dd>\n",
       "</dl>\n"
      ],
      "text/latex": [
       "\\begin{description*}\n",
       "\\item[(Intercept)] 0.198675496688742\n",
       "\\item[abus] 2.15714285714538\n",
       "\\end{description*}\n"
      ],
      "text/markdown": [
       "(Intercept)\n",
       ":   0.198675496688742abus\n",
       ":   2.15714285714538\n",
       "\n"
      ],
      "text/plain": [
       "(Intercept)        abus \n",
       "  0.1986755   2.1571429 "
      ]
     },
     "metadata": {},
     "output_type": "display_data"
    }
   ],
   "source": [
    "# calcul de l'exponentiel afin d'une meilleure interprétation\n",
    "exp(coef(model1))"
   ]
  },
  {
   "cell_type": "code",
   "execution_count": 21,
   "metadata": {},
   "outputs": [
    {
     "name": "stdout",
     "output_type": "stream",
     "text": [
      "2 by 2 table analysis: \n",
      "------------------------------------------------------ \n",
      "Outcome   : 0 \n",
      "Comparing : 0 vs. 1 \n",
      "\n",
      "    0   1    P(0) 95% conf. interval\n",
      "0  63  90  0.4118    0.3366   0.4913\n",
      "1 147 453  0.2450    0.2122   0.2810\n",
      "\n",
      "                                   95% conf. interval\n",
      "             Relative Risk: 1.6807    1.3276   2.1276\n",
      "         Sample Odds Ratio: 2.1571    1.4873   3.1287\n",
      "Conditional MLE Odds Ratio: 2.1547    1.4577   3.1764\n",
      "    Probability difference: 0.1668    0.0837   0.2525\n",
      "\n",
      "             Exact P-value: 0.0001 \n",
      "        Asymptotic P-value: 0.0001 \n",
      "------------------------------------------------------\n"
     ]
    }
   ],
   "source": [
    "# calcul de l'odds-ratio\n",
    "twoby2(1-smpl$suicide.hr, 1-smpl$abus)"
   ]
  },
  {
   "cell_type": "markdown",
   "metadata": {},
   "source": [
    "**Nous constatons que l'odds-ratio de 2.1571 correspond parfaitement à l'exponentiel du coefficient de la variable explicative**"
   ]
  },
  {
   "cell_type": "markdown",
   "metadata": {},
   "source": [
    "## 17. Régression linéaire avec plusieurs variables explicatives"
   ]
  },
  {
   "cell_type": "code",
   "execution_count": 22,
   "metadata": {},
   "outputs": [
    {
     "data": {
      "text/plain": [
       "\n",
       "Call:\n",
       "glm(formula = suicide.hr ~ abus + discip + duree, family = \"binomial\", \n",
       "    data = smpl)\n",
       "\n",
       "Deviance Residuals: \n",
       "    Min       1Q   Median       3Q      Max  \n",
       "-1.3200  -0.6655  -0.6012  -0.4997   2.0700  \n",
       "\n",
       "Coefficients:\n",
       "            Estimate Std. Error z value Pr(>|z|)    \n",
       "(Intercept) -0.02462    0.49635  -0.050 0.960439    \n",
       "abus         0.62289    0.22764   2.736 0.006213 ** \n",
       "discip       0.52809    0.23767   2.222 0.026287 *  \n",
       "duree       -0.39862    0.11723  -3.400 0.000673 ***\n",
       "---\n",
       "Signif. codes:  0 '***' 0.001 '**' 0.01 '*' 0.05 '.' 0.1 ' ' 1\n",
       "\n",
       "(Dispersion parameter for binomial family taken to be 1)\n",
       "\n",
       "    Null deviance: 555.94  on 549  degrees of freedom\n",
       "Residual deviance: 533.26  on 546  degrees of freedom\n",
       "  (249 observations deleted due to missingness)\n",
       "AIC: 541.26\n",
       "\n",
       "Number of Fisher Scoring iterations: 4\n"
      ]
     },
     "metadata": {},
     "output_type": "display_data"
    }
   ],
   "source": [
    "model2 <- glm(suicide.hr~abus+discip+duree, data=smpl, family=\"binomial\")\n",
    "summary(model2)"
   ]
  },
  {
   "cell_type": "code",
   "execution_count": 23,
   "metadata": {},
   "outputs": [
    {
     "data": {
      "text/html": [
       "<dl class=dl-horizontal>\n",
       "\t<dt>(Intercept)</dt>\n",
       "\t\t<dd>0.975680250847185</dd>\n",
       "\t<dt>abus</dt>\n",
       "\t\t<dd>1.86431466968475</dd>\n",
       "\t<dt>discip</dt>\n",
       "\t\t<dd>1.6956872682901</dd>\n",
       "\t<dt>duree</dt>\n",
       "\t\t<dd>0.671248531657587</dd>\n",
       "</dl>\n"
      ],
      "text/latex": [
       "\\begin{description*}\n",
       "\\item[(Intercept)] 0.975680250847185\n",
       "\\item[abus] 1.86431466968475\n",
       "\\item[discip] 1.6956872682901\n",
       "\\item[duree] 0.671248531657587\n",
       "\\end{description*}\n"
      ],
      "text/markdown": [
       "(Intercept)\n",
       ":   0.975680250847185abus\n",
       ":   1.86431466968475discip\n",
       ":   1.6956872682901duree\n",
       ":   0.671248531657587\n",
       "\n"
      ],
      "text/plain": [
       "(Intercept)        abus      discip       duree \n",
       "  0.9756803   1.8643147   1.6956873   0.6712485 "
      ]
     },
     "metadata": {},
     "output_type": "display_data"
    }
   ],
   "source": [
    "exp(coefficients(model2))"
   ]
  },
  {
   "cell_type": "code",
   "execution_count": 24,
   "metadata": {},
   "outputs": [
    {
     "data": {
      "text/html": [
       "<dl class=dl-horizontal>\n",
       "\t<dt>(Intercept)</dt>\n",
       "\t\t<dd>0.975680250847185</dd>\n",
       "\t<dt>abus</dt>\n",
       "\t\t<dd>1.86431466968475</dd>\n",
       "\t<dt>discip</dt>\n",
       "\t\t<dd>1.6956872682901</dd>\n",
       "\t<dt>duree</dt>\n",
       "\t\t<dd>0.671248531657587</dd>\n",
       "</dl>\n"
      ],
      "text/latex": [
       "\\begin{description*}\n",
       "\\item[(Intercept)] 0.975680250847185\n",
       "\\item[abus] 1.86431466968475\n",
       "\\item[discip] 1.6956872682901\n",
       "\\item[duree] 0.671248531657587\n",
       "\\end{description*}\n"
      ],
      "text/markdown": [
       "(Intercept)\n",
       ":   0.975680250847185abus\n",
       ":   1.86431466968475discip\n",
       ":   1.6956872682901duree\n",
       ":   0.671248531657587\n",
       "\n"
      ],
      "text/plain": [
       "(Intercept)        abus      discip       duree \n",
       "  0.9756803   1.8643147   1.6956873   0.6712485 "
      ]
     },
     "metadata": {},
     "output_type": "display_data"
    }
   ],
   "source": [
    "exp(coef(model2))"
   ]
  },
  {
   "cell_type": "code",
   "execution_count": 25,
   "metadata": {},
   "outputs": [
    {
     "data": {
      "text/html": [
       "<table>\n",
       "<thead><tr><th></th><th scope=col>Df</th><th scope=col>Deviance</th><th scope=col>AIC</th><th scope=col>LRT</th><th scope=col>Pr(&gt;Chi)</th></tr></thead>\n",
       "<tbody>\n",
       "\t<tr><th scope=row>&lt;none&gt;</th><td>NA         </td><td>744.2597   </td><td>748.2597   </td><td>      NA   </td><td>         NA</td></tr>\n",
       "\t<tr><th scope=row>abus</th><td> 1         </td><td>760.2126   </td><td>762.2126   </td><td>15.95292   </td><td>6.49375e-05</td></tr>\n",
       "</tbody>\n",
       "</table>\n"
      ],
      "text/latex": [
       "\\begin{tabular}{r|lllll}\n",
       "  & Df & Deviance & AIC & LRT & Pr(>Chi)\\\\\n",
       "\\hline\n",
       "\t<none> & NA          & 744.2597    & 748.2597    &       NA    &          NA\\\\\n",
       "\tabus &  1          & 760.2126    & 762.2126    & 15.95292    & 6.49375e-05\\\\\n",
       "\\end{tabular}\n"
      ],
      "text/markdown": [
       "\n",
       "| <!--/--> | Df | Deviance | AIC | LRT | Pr(>Chi) |\n",
       "|---|---|---|---|---|---|\n",
       "| <none> | NA          | 744.2597    | 748.2597    |       NA    |          NA |\n",
       "| abus |  1          | 760.2126    | 762.2126    | 15.95292    | 6.49375e-05 |\n",
       "\n"
      ],
      "text/plain": [
       "       Df Deviance AIC      LRT      Pr(>Chi)   \n",
       "<none> NA 744.2597 748.2597       NA          NA\n",
       "abus    1 760.2126 762.2126 15.95292 6.49375e-05"
      ]
     },
     "metadata": {},
     "output_type": "display_data"
    }
   ],
   "source": [
    "drop1(model1,.~.,test=\"Chisq\")"
   ]
  },
  {
   "cell_type": "code",
   "execution_count": 26,
   "metadata": {},
   "outputs": [
    {
     "data": {
      "text/html": [
       "<table>\n",
       "<thead><tr><th></th><th scope=col>Df</th><th scope=col>Deviance</th><th scope=col>AIC</th><th scope=col>LRT</th><th scope=col>Pr(&gt;Chi)</th></tr></thead>\n",
       "<tbody>\n",
       "\t<tr><th scope=row>&lt;none&gt;</th><td>NA          </td><td>533.2607    </td><td>541.2607    </td><td>       NA   </td><td>          NA</td></tr>\n",
       "\t<tr><th scope=row>abus</th><td> 1          </td><td>540.5681    </td><td>546.5681    </td><td> 7.307320   </td><td>0.0068674291</td></tr>\n",
       "\t<tr><th scope=row>discip</th><td> 1          </td><td>538.0516    </td><td>544.0516    </td><td> 4.790888   </td><td>0.0286106690</td></tr>\n",
       "\t<tr><th scope=row>duree</th><td> 1          </td><td>544.5065    </td><td>550.5065    </td><td>11.245747   </td><td>0.0007980565</td></tr>\n",
       "</tbody>\n",
       "</table>\n"
      ],
      "text/latex": [
       "\\begin{tabular}{r|lllll}\n",
       "  & Df & Deviance & AIC & LRT & Pr(>Chi)\\\\\n",
       "\\hline\n",
       "\t<none> & NA           & 533.2607     & 541.2607     &        NA    &           NA\\\\\n",
       "\tabus &  1           & 540.5681     & 546.5681     &  7.307320    & 0.0068674291\\\\\n",
       "\tdiscip &  1           & 538.0516     & 544.0516     &  4.790888    & 0.0286106690\\\\\n",
       "\tduree &  1           & 544.5065     & 550.5065     & 11.245747    & 0.0007980565\\\\\n",
       "\\end{tabular}\n"
      ],
      "text/markdown": [
       "\n",
       "| <!--/--> | Df | Deviance | AIC | LRT | Pr(>Chi) |\n",
       "|---|---|---|---|---|---|\n",
       "| <none> | NA           | 533.2607     | 541.2607     |        NA    |           NA |\n",
       "| abus |  1           | 540.5681     | 546.5681     |  7.307320    | 0.0068674291 |\n",
       "| discip |  1           | 538.0516     | 544.0516     |  4.790888    | 0.0286106690 |\n",
       "| duree |  1           | 544.5065     | 550.5065     | 11.245747    | 0.0007980565 |\n",
       "\n"
      ],
      "text/plain": [
       "       Df Deviance AIC      LRT       Pr(>Chi)    \n",
       "<none> NA 533.2607 541.2607        NA           NA\n",
       "abus    1 540.5681 546.5681  7.307320 0.0068674291\n",
       "discip  1 538.0516 544.0516  4.790888 0.0286106690\n",
       "duree   1 544.5065 550.5065 11.245747 0.0007980565"
      ]
     },
     "metadata": {},
     "output_type": "display_data"
    }
   ],
   "source": [
    "drop1(model2,.~.,test=\"Chisq\")"
   ]
  },
  {
   "cell_type": "code",
   "execution_count": 28,
   "metadata": {},
   "outputs": [
    {
     "data": {
      "text/html": [
       "<table>\n",
       "<thead><tr><th></th><th scope=col>Df</th><th scope=col>Deviance</th><th scope=col>AIC</th><th scope=col>LRT</th><th scope=col>Pr(&gt;Chi)</th></tr></thead>\n",
       "<tbody>\n",
       "\t<tr><th scope=row>&lt;none&gt;</th><td>NA          </td><td>533.2607    </td><td>541.2607    </td><td>       NA   </td><td>          NA</td></tr>\n",
       "\t<tr><th scope=row>abus</th><td> 1          </td><td>540.5681    </td><td>546.5681    </td><td> 7.307320   </td><td>0.0068674291</td></tr>\n",
       "\t<tr><th scope=row>discip</th><td> 1          </td><td>538.0516    </td><td>544.0516    </td><td> 4.790888   </td><td>0.0286106690</td></tr>\n",
       "\t<tr><th scope=row>duree</th><td> 1          </td><td>544.5065    </td><td>550.5065    </td><td>11.245747   </td><td>0.0007980565</td></tr>\n",
       "</tbody>\n",
       "</table>\n"
      ],
      "text/latex": [
       "\\begin{tabular}{r|lllll}\n",
       "  & Df & Deviance & AIC & LRT & Pr(>Chi)\\\\\n",
       "\\hline\n",
       "\t<none> & NA           & 533.2607     & 541.2607     &        NA    &           NA\\\\\n",
       "\tabus &  1           & 540.5681     & 546.5681     &  7.307320    & 0.0068674291\\\\\n",
       "\tdiscip &  1           & 538.0516     & 544.0516     &  4.790888    & 0.0286106690\\\\\n",
       "\tduree &  1           & 544.5065     & 550.5065     & 11.245747    & 0.0007980565\\\\\n",
       "\\end{tabular}\n"
      ],
      "text/markdown": [
       "\n",
       "| <!--/--> | Df | Deviance | AIC | LRT | Pr(>Chi) |\n",
       "|---|---|---|---|---|---|\n",
       "| <none> | NA           | 533.2607     | 541.2607     |        NA    |           NA |\n",
       "| abus |  1           | 540.5681     | 546.5681     |  7.307320    | 0.0068674291 |\n",
       "| discip |  1           | 538.0516     | 544.0516     |  4.790888    | 0.0286106690 |\n",
       "| duree |  1           | 544.5065     | 550.5065     | 11.245747    | 0.0007980565 |\n",
       "\n"
      ],
      "text/plain": [
       "       Df Deviance AIC      LRT       Pr(>Chi)    \n",
       "<none> NA 533.2607 541.2607        NA           NA\n",
       "abus    1 540.5681 546.5681  7.307320 0.0068674291\n",
       "discip  1 538.0516 544.0516  4.790888 0.0286106690\n",
       "duree   1 544.5065 550.5065 11.245747 0.0007980565"
      ]
     },
     "metadata": {},
     "output_type": "display_data"
    }
   ],
   "source": [
    "drop1(model2, test=\"Chisq\")"
   ]
  },
  {
   "cell_type": "code",
   "execution_count": 29,
   "metadata": {},
   "outputs": [
    {
     "data": {
      "text/html": [
       "<table>\n",
       "<thead><tr><th></th><th scope=col>Df</th><th scope=col>Sum of Sq</th><th scope=col>RSS</th><th scope=col>AIC</th><th scope=col>F value</th><th scope=col>Pr(&gt;F)</th></tr></thead>\n",
       "<tbody>\n",
       "\t<tr><th scope=row>&lt;none&gt;</th><td>NA          </td><td>       NA   </td><td>269847.8    </td><td>4411.493    </td><td>        NA  </td><td>          NA</td></tr>\n",
       "\t<tr><th scope=row>age</th><td> 1          </td><td>5271.0616   </td><td>275118.9    </td><td>4423.943    </td><td>14.4742933  </td><td>0.0001538015</td></tr>\n",
       "\t<tr><th scope=row>scz.cons</th><td> 1          </td><td> 221.1546   </td><td>270069.0    </td><td>4410.105    </td><td> 0.6072889  </td><td>0.4360592320</td></tr>\n",
       "\t<tr><th scope=row>dep.cons:subst.cons</th><td> 1          </td><td> 700.2292   </td><td>270548.1    </td><td>4411.428    </td><td> 1.9228237  </td><td>0.1659627298</td></tr>\n",
       "</tbody>\n",
       "</table>\n"
      ],
      "text/latex": [
       "\\begin{tabular}{r|llllll}\n",
       "  & Df & Sum of Sq & RSS & AIC & F value & Pr(>F)\\\\\n",
       "\\hline\n",
       "\t<none> & NA           &        NA    & 269847.8     & 4411.493     &         NA   &           NA\\\\\n",
       "\tage &  1           & 5271.0616    & 275118.9     & 4423.943     & 14.4742933   & 0.0001538015\\\\\n",
       "\tscz.cons &  1           &  221.1546    & 270069.0     & 4410.105     &  0.6072889   & 0.4360592320\\\\\n",
       "\tdep.cons:subst.cons &  1           &  700.2292    & 270548.1     & 4411.428     &  1.9228237   & 0.1659627298\\\\\n",
       "\\end{tabular}\n"
      ],
      "text/markdown": [
       "\n",
       "| <!--/--> | Df | Sum of Sq | RSS | AIC | F value | Pr(>F) |\n",
       "|---|---|---|---|---|---|---|\n",
       "| <none> | NA           |        NA    | 269847.8     | 4411.493     |         NA   |           NA |\n",
       "| age |  1           | 5271.0616    | 275118.9     | 4423.943     | 14.4742933   | 0.0001538015 |\n",
       "| scz.cons |  1           |  221.1546    | 270069.0     | 4410.105     |  0.6072889   | 0.4360592320 |\n",
       "| dep.cons:subst.cons |  1           |  700.2292    | 270548.1     | 4411.428     |  1.9228237   | 0.1659627298 |\n",
       "\n"
      ],
      "text/plain": [
       "                    Df Sum of Sq RSS      AIC      F value    Pr(>F)      \n",
       "<none>              NA        NA 269847.8 4411.493         NA           NA\n",
       "age                  1 5271.0616 275118.9 4423.943 14.4742933 0.0001538015\n",
       "scz.cons             1  221.1546 270069.0 4410.105  0.6072889 0.4360592320\n",
       "dep.cons:subst.cons  1  700.2292 270548.1 4411.428  1.9228237 0.1659627298"
      ]
     },
     "metadata": {},
     "output_type": "display_data"
    }
   ],
   "source": [
    "drop1(mod6,test=\"F\")"
   ]
  },
  {
   "cell_type": "code",
   "execution_count": 30,
   "metadata": {},
   "outputs": [
    {
     "data": {
      "text/html": [
       "7.02868758058929"
      ],
      "text/latex": [
       "7.02868758058929"
      ],
      "text/markdown": [
       "7.02868758058929"
      ],
      "text/plain": [
       "[1] 7.028688"
      ]
     },
     "metadata": {},
     "output_type": "display_data"
    }
   ],
   "source": [
    "exp(1.95)"
   ]
  },
  {
   "cell_type": "code",
   "execution_count": 32,
   "metadata": {},
   "outputs": [
    {
     "data": {
      "text/html": [
       "<dl class=dl-horizontal>\n",
       "\t<dt>1</dt>\n",
       "\t\t<dd>-1.61908364062717</dd>\n",
       "\t<dt>3</dt>\n",
       "\t\t<dd>-2.01769946126336</dd>\n",
       "\t<dt>5</dt>\n",
       "\t\t<dd>-1.09099551395694</dd>\n",
       "\t<dt>8</dt>\n",
       "\t\t<dd>-2.01769946126336</dd>\n",
       "\t<dt>9</dt>\n",
       "\t\t<dd>-0.468101997732499</dd>\n",
       "\t<dt>13</dt>\n",
       "\t\t<dd>-1.61908364062717</dd>\n",
       "\t<dt>14</dt>\n",
       "\t\t<dd>-1.61908364062717</dd>\n",
       "\t<dt>16</dt>\n",
       "\t\t<dd>-0.996190124402729</dd>\n",
       "\t<dt>17</dt>\n",
       "\t\t<dd>-1.39480594503891</dd>\n",
       "\t<dt>20</dt>\n",
       "\t\t<dd>-2.01769946126336</dd>\n",
       "\t<dt>22</dt>\n",
       "\t\t<dd>-0.821851999354799</dd>\n",
       "\t<dt>23</dt>\n",
       "\t\t<dd>-0.996190124402729</dd>\n",
       "\t<dt>25</dt>\n",
       "\t\t<dd>-1.61908364062717</dd>\n",
       "\t<dt>28</dt>\n",
       "\t\t<dd>-2.01769946126336</dd>\n",
       "\t<dt>32</dt>\n",
       "\t\t<dd>-1.22046781999099</dd>\n",
       "\t<dt>33</dt>\n",
       "\t\t<dd>-1.61908364062717</dd>\n",
       "\t<dt>34</dt>\n",
       "\t\t<dd>-2.01769946126336</dd>\n",
       "\t<dt>35</dt>\n",
       "\t\t<dd>-1.39480594503891</dd>\n",
       "\t<dt>38</dt>\n",
       "\t\t<dd>-1.48961133459313</dd>\n",
       "\t<dt>40</dt>\n",
       "\t\t<dd>-1.61908364062717</dd>\n",
       "\t<dt>41</dt>\n",
       "\t\t<dd>-0.996190124402729</dd>\n",
       "\t<dt>42</dt>\n",
       "\t\t<dd>-0.692379693320756</dd>\n",
       "\t<dt>44</dt>\n",
       "\t\t<dd>-1.22046781999099</dd>\n",
       "\t<dt>45</dt>\n",
       "\t\t<dd>-2.01769946126336</dd>\n",
       "\t<dt>48</dt>\n",
       "\t\t<dd>-1.22046781999099</dd>\n",
       "\t<dt>49</dt>\n",
       "\t\t<dd>-0.866717818368685</dd>\n",
       "\t<dt>50</dt>\n",
       "\t\t<dd>-1.22046781999099</dd>\n",
       "\t<dt>51</dt>\n",
       "\t\t<dd>-1.09099551395694</dd>\n",
       "\t<dt>52</dt>\n",
       "\t\t<dd>-0.597574303766543</dd>\n",
       "\t<dt>53</dt>\n",
       "\t\t<dd>-1.22046781999099</dd>\n",
       "\t<dt>54</dt>\n",
       "\t\t<dd>-0.597574303766543</dd>\n",
       "\t<dt>55</dt>\n",
       "\t\t<dd>-0.821851999354799</dd>\n",
       "\t<dt>63</dt>\n",
       "\t\t<dd>-1.22046781999099</dd>\n",
       "\t<dt>66</dt>\n",
       "\t\t<dd>-0.597574303766543</dd>\n",
       "\t<dt>67</dt>\n",
       "\t\t<dd>-1.61908364062717</dd>\n",
       "\t<dt>71</dt>\n",
       "\t\t<dd>-1.61908364062717</dd>\n",
       "\t<dt>77</dt>\n",
       "\t\t<dd>-2.01769946126336</dd>\n",
       "\t<dt>89</dt>\n",
       "\t\t<dd>-2.01769946126336</dd>\n",
       "\t<dt>95</dt>\n",
       "\t\t<dd>-1.48961133459313</dd>\n",
       "\t<dt>96</dt>\n",
       "\t\t<dd>-2.01769946126336</dd>\n",
       "\t<dt>97</dt>\n",
       "\t\t<dd>-1.61908364062717</dd>\n",
       "\t<dt>98</dt>\n",
       "\t\t<dd>-1.61908364062717</dd>\n",
       "\t<dt>99</dt>\n",
       "\t\t<dd>-2.01769946126336</dd>\n",
       "\t<dt>100</dt>\n",
       "\t\t<dd>-0.866717818368685</dd>\n",
       "\t<dt>101</dt>\n",
       "\t\t<dd>-2.01769946126336</dd>\n",
       "\t<dt>102</dt>\n",
       "\t\t<dd>-1.39480594503891</dd>\n",
       "\t<dt>103</dt>\n",
       "\t\t<dd>-2.01769946126336</dd>\n",
       "\t<dt>104</dt>\n",
       "\t\t<dd>-2.01769946126336</dd>\n",
       "\t<dt>105</dt>\n",
       "\t\t<dd>-1.48961133459313</dd>\n",
       "\t<dt>106</dt>\n",
       "\t\t<dd>-2.01769946126336</dd>\n",
       "\t<dt>107</dt>\n",
       "\t\t<dd>-1.48961133459313</dd>\n",
       "\t<dt>108</dt>\n",
       "\t\t<dd>-1.39480594503891</dd>\n",
       "\t<dt>109</dt>\n",
       "\t\t<dd>-1.48961133459313</dd>\n",
       "\t<dt>110</dt>\n",
       "\t\t<dd>-1.48961133459313</dd>\n",
       "\t<dt>111</dt>\n",
       "\t\t<dd>-1.48961133459313</dd>\n",
       "\t<dt>112</dt>\n",
       "\t\t<dd>-1.39480594503891</dd>\n",
       "\t<dt>113</dt>\n",
       "\t\t<dd>-0.866717818368685</dd>\n",
       "\t<dt>114</dt>\n",
       "\t\t<dd>-1.48961133459313</dd>\n",
       "\t<dt>115</dt>\n",
       "\t\t<dd>-0.866717818368685</dd>\n",
       "\t<dt>116</dt>\n",
       "\t\t<dd>-1.39480594503891</dd>\n",
       "\t<dt>117</dt>\n",
       "\t\t<dd>-2.01769946126336</dd>\n",
       "\t<dt>118</dt>\n",
       "\t\t<dd>-0.866717818368685</dd>\n",
       "\t<dt>119</dt>\n",
       "\t\t<dd>-1.39480594503891</dd>\n",
       "\t<dt>120</dt>\n",
       "\t\t<dd>-2.01769946126336</dd>\n",
       "\t<dt>121</dt>\n",
       "\t\t<dd>-1.48961133459313</dd>\n",
       "\t<dt>122</dt>\n",
       "\t\t<dd>-1.48961133459313</dd>\n",
       "\t<dt>123</dt>\n",
       "\t\t<dd>-0.866717818368685</dd>\n",
       "\t<dt>124</dt>\n",
       "\t\t<dd>-2.01769946126336</dd>\n",
       "\t<dt>125</dt>\n",
       "\t\t<dd>-1.48961133459313</dd>\n",
       "\t<dt>126</dt>\n",
       "\t\t<dd>-2.01769946126336</dd>\n",
       "\t<dt>127</dt>\n",
       "\t\t<dd>-2.01769946126336</dd>\n",
       "\t<dt>128</dt>\n",
       "\t\t<dd>-1.39480594503891</dd>\n",
       "\t<dt>129</dt>\n",
       "\t\t<dd>-1.48961133459313</dd>\n",
       "\t<dt>130</dt>\n",
       "\t\t<dd>-1.39480594503891</dd>\n",
       "\t<dt>131</dt>\n",
       "\t\t<dd>-0.866717818368685</dd>\n",
       "\t<dt>132</dt>\n",
       "\t\t<dd>-0.866717818368685</dd>\n",
       "\t<dt>133</dt>\n",
       "\t\t<dd>-2.01769946126336</dd>\n",
       "\t<dt>134</dt>\n",
       "\t\t<dd>-0.866717818368685</dd>\n",
       "\t<dt>135</dt>\n",
       "\t\t<dd>-2.01769946126336</dd>\n",
       "\t<dt>136</dt>\n",
       "\t\t<dd>-1.39480594503891</dd>\n",
       "\t<dt>137</dt>\n",
       "\t\t<dd>-0.866717818368685</dd>\n",
       "\t<dt>138</dt>\n",
       "\t\t<dd>-2.01769946126336</dd>\n",
       "\t<dt>139</dt>\n",
       "\t\t<dd>-1.39480594503891</dd>\n",
       "\t<dt>140</dt>\n",
       "\t\t<dd>-2.01769946126336</dd>\n",
       "\t<dt>141</dt>\n",
       "\t\t<dd>-1.48961133459313</dd>\n",
       "\t<dt>142</dt>\n",
       "\t\t<dd>-0.866717818368685</dd>\n",
       "\t<dt>143</dt>\n",
       "\t\t<dd>-2.01769946126336</dd>\n",
       "\t<dt>144</dt>\n",
       "\t\t<dd>-2.01769946126336</dd>\n",
       "\t<dt>145</dt>\n",
       "\t\t<dd>-1.39480594503891</dd>\n",
       "\t<dt>146</dt>\n",
       "\t\t<dd>-2.01769946126336</dd>\n",
       "\t<dt>148</dt>\n",
       "\t\t<dd>-2.01769946126336</dd>\n",
       "\t<dt>153</dt>\n",
       "\t\t<dd>-1.61908364062717</dd>\n",
       "\t<dt>154</dt>\n",
       "\t\t<dd>-1.61908364062717</dd>\n",
       "\t<dt>157</dt>\n",
       "\t\t<dd>-1.61908364062717</dd>\n",
       "\t<dt>158</dt>\n",
       "\t\t<dd>-1.61908364062717</dd>\n",
       "\t<dt>167</dt>\n",
       "\t\t<dd>-1.61908364062717</dd>\n",
       "\t<dt>173</dt>\n",
       "\t\t<dd>-0.821851999354799</dd>\n",
       "\t<dt>181</dt>\n",
       "\t\t<dd>-1.61908364062717</dd>\n",
       "\t<dt>183</dt>\n",
       "\t\t<dd>-1.22046781999099</dd>\n",
       "\t<dt>186</dt>\n",
       "\t\t<dd>-2.01769946126336</dd>\n",
       "\t<dt>188</dt>\n",
       "\t\t<dd>-1.61908364062717</dd>\n",
       "\t<dt>189</dt>\n",
       "\t\t<dd>-1.61908364062717</dd>\n",
       "\t<dt>192</dt>\n",
       "\t\t<dd>-0.821851999354799</dd>\n",
       "\t<dt>195</dt>\n",
       "\t\t<dd>-1.09099551395694</dd>\n",
       "\t<dt>198</dt>\n",
       "\t\t<dd>-1.61908364062717</dd>\n",
       "\t<dt>203</dt>\n",
       "\t\t<dd>-1.09099551395694</dd>\n",
       "\t<dt>205</dt>\n",
       "\t\t<dd>-0.866717818368685</dd>\n",
       "\t<dt>207</dt>\n",
       "\t\t<dd>-1.61908364062717</dd>\n",
       "\t<dt>209</dt>\n",
       "\t\t<dd>-1.22046781999099</dd>\n",
       "\t<dt>211</dt>\n",
       "\t\t<dd>-2.01769946126336</dd>\n",
       "\t<dt>213</dt>\n",
       "\t\t<dd>-1.09099551395694</dd>\n",
       "\t<dt>214</dt>\n",
       "\t\t<dd>-1.48961133459313</dd>\n",
       "\t<dt>215</dt>\n",
       "\t\t<dd>-0.866717818368685</dd>\n",
       "\t<dt>217</dt>\n",
       "\t\t<dd>-1.09099551395694</dd>\n",
       "\t<dt>219</dt>\n",
       "\t\t<dd>-1.09099551395694</dd>\n",
       "\t<dt>221</dt>\n",
       "\t\t<dd>-1.39480594503891</dd>\n",
       "\t<dt>223</dt>\n",
       "\t\t<dd>-2.01769946126336</dd>\n",
       "\t<dt>225</dt>\n",
       "\t\t<dd>-0.866717818368685</dd>\n",
       "\t<dt>226</dt>\n",
       "\t\t<dd>-1.61908364062717</dd>\n",
       "\t<dt>228</dt>\n",
       "\t\t<dd>-1.39480594503891</dd>\n",
       "\t<dt>230</dt>\n",
       "\t\t<dd>-2.01769946126336</dd>\n",
       "\t<dt>231</dt>\n",
       "\t\t<dd>-2.01769946126336</dd>\n",
       "\t<dt>233</dt>\n",
       "\t\t<dd>-2.01769946126336</dd>\n",
       "\t<dt>238</dt>\n",
       "\t\t<dd>-1.39480594503891</dd>\n",
       "\t<dt>239</dt>\n",
       "\t\t<dd>-2.01769946126336</dd>\n",
       "\t<dt>240</dt>\n",
       "\t\t<dd>-1.39480594503891</dd>\n",
       "\t<dt>242</dt>\n",
       "\t\t<dd>-0.866717818368685</dd>\n",
       "\t<dt>243</dt>\n",
       "\t\t<dd>-1.61908364062717</dd>\n",
       "\t<dt>246</dt>\n",
       "\t\t<dd>-0.821851999354799</dd>\n",
       "\t<dt>249</dt>\n",
       "\t\t<dd>-2.01769946126336</dd>\n",
       "\t<dt>250</dt>\n",
       "\t\t<dd>-1.39480594503891</dd>\n",
       "\t<dt>251</dt>\n",
       "\t\t<dd>-2.01769946126336</dd>\n",
       "\t<dt>252</dt>\n",
       "\t\t<dd>-2.01769946126336</dd>\n",
       "\t<dt>253</dt>\n",
       "\t\t<dd>-1.39480594503891</dd>\n",
       "\t<dt>254</dt>\n",
       "\t\t<dd>-2.01769946126336</dd>\n",
       "\t<dt>255</dt>\n",
       "\t\t<dd>-2.01769946126336</dd>\n",
       "\t<dt>256</dt>\n",
       "\t\t<dd>-2.01769946126336</dd>\n",
       "\t<dt>257</dt>\n",
       "\t\t<dd>-0.866717818368685</dd>\n",
       "\t<dt>258</dt>\n",
       "\t\t<dd>-0.866717818368685</dd>\n",
       "\t<dt>259</dt>\n",
       "\t\t<dd>-1.39480594503891</dd>\n",
       "\t<dt>260</dt>\n",
       "\t\t<dd>-1.39480594503891</dd>\n",
       "\t<dt>261</dt>\n",
       "\t\t<dd>-1.39480594503891</dd>\n",
       "\t<dt>262</dt>\n",
       "\t\t<dd>-1.39480594503891</dd>\n",
       "\t<dt>263</dt>\n",
       "\t\t<dd>-2.01769946126336</dd>\n",
       "\t<dt>264</dt>\n",
       "\t\t<dd>-2.01769946126336</dd>\n",
       "\t<dt>265</dt>\n",
       "\t\t<dd>-2.01769946126336</dd>\n",
       "\t<dt>266</dt>\n",
       "\t\t<dd>-2.01769946126336</dd>\n",
       "\t<dt>267</dt>\n",
       "\t\t<dd>-1.39480594503891</dd>\n",
       "\t<dt>268</dt>\n",
       "\t\t<dd>-1.39480594503891</dd>\n",
       "\t<dt>269</dt>\n",
       "\t\t<dd>-2.01769946126336</dd>\n",
       "\t<dt>270</dt>\n",
       "\t\t<dd>-2.01769946126336</dd>\n",
       "\t<dt>271</dt>\n",
       "\t\t<dd>-2.01769946126336</dd>\n",
       "\t<dt>272</dt>\n",
       "\t\t<dd>-1.39480594503891</dd>\n",
       "\t<dt>273</dt>\n",
       "\t\t<dd>-1.39480594503891</dd>\n",
       "\t<dt>274</dt>\n",
       "\t\t<dd>-2.01769946126336</dd>\n",
       "\t<dt>275</dt>\n",
       "\t\t<dd>-0.866717818368685</dd>\n",
       "\t<dt>276</dt>\n",
       "\t\t<dd>-1.39480594503891</dd>\n",
       "\t<dt>277</dt>\n",
       "\t\t<dd>-1.39480594503891</dd>\n",
       "\t<dt>278</dt>\n",
       "\t\t<dd>-2.01769946126336</dd>\n",
       "\t<dt>279</dt>\n",
       "\t\t<dd>-1.22046781999099</dd>\n",
       "\t<dt>280</dt>\n",
       "\t\t<dd>-2.01769946126336</dd>\n",
       "\t<dt>281</dt>\n",
       "\t\t<dd>-2.01769946126336</dd>\n",
       "\t<dt>282</dt>\n",
       "\t\t<dd>-2.01769946126336</dd>\n",
       "\t<dt>283</dt>\n",
       "\t\t<dd>-1.39480594503891</dd>\n",
       "\t<dt>284</dt>\n",
       "\t\t<dd>-1.48961133459313</dd>\n",
       "\t<dt>285</dt>\n",
       "\t\t<dd>-2.01769946126336</dd>\n",
       "\t<dt>286</dt>\n",
       "\t\t<dd>-2.01769946126336</dd>\n",
       "\t<dt>287</dt>\n",
       "\t\t<dd>-1.48961133459313</dd>\n",
       "\t<dt>288</dt>\n",
       "\t\t<dd>-2.01769946126336</dd>\n",
       "\t<dt>289</dt>\n",
       "\t\t<dd>-2.01769946126336</dd>\n",
       "\t<dt>290</dt>\n",
       "\t\t<dd>-1.48961133459313</dd>\n",
       "\t<dt>291</dt>\n",
       "\t\t<dd>-1.39480594503891</dd>\n",
       "\t<dt>292</dt>\n",
       "\t\t<dd>-1.48961133459313</dd>\n",
       "\t<dt>293</dt>\n",
       "\t\t<dd>-2.01769946126336</dd>\n",
       "\t<dt>294</dt>\n",
       "\t\t<dd>-1.48961133459313</dd>\n",
       "\t<dt>295</dt>\n",
       "\t\t<dd>-1.39480594503891</dd>\n",
       "\t<dt>296</dt>\n",
       "\t\t<dd>-2.01769946126336</dd>\n",
       "\t<dt>297</dt>\n",
       "\t\t<dd>-1.61908364062717</dd>\n",
       "\t<dt>298</dt>\n",
       "\t\t<dd>-1.39480594503891</dd>\n",
       "\t<dt>301</dt>\n",
       "\t\t<dd>-2.01769946126336</dd>\n",
       "\t<dt>303</dt>\n",
       "\t\t<dd>-1.61908364062717</dd>\n",
       "\t<dt>305</dt>\n",
       "\t\t<dd>-1.61908364062717</dd>\n",
       "\t<dt>307</dt>\n",
       "\t\t<dd>-1.61908364062717</dd>\n",
       "\t<dt>308</dt>\n",
       "\t\t<dd>-0.821851999354799</dd>\n",
       "\t<dt>311</dt>\n",
       "\t\t<dd>-0.29376387268457</dd>\n",
       "\t<dt>312</dt>\n",
       "\t\t<dd>-1.61908364062717</dd>\n",
       "\t<dt>313</dt>\n",
       "\t\t<dd>-1.61908364062717</dd>\n",
       "\t<dt>314</dt>\n",
       "\t\t<dd>-1.61908364062717</dd>\n",
       "\t<dt>315</dt>\n",
       "\t\t<dd>-0.468101997732499</dd>\n",
       "\t<dt>317</dt>\n",
       "\t\t<dd>-1.61908364062717</dd>\n",
       "\t<dt>318</dt>\n",
       "\t\t<dd>-1.39480594503891</dd>\n",
       "\t<dt>319</dt>\n",
       "\t\t<dd>-0.597574303766543</dd>\n",
       "\t<dt>320</dt>\n",
       "\t\t<dd>-1.09099551395694</dd>\n",
       "\t<dt>321</dt>\n",
       "\t\t<dd>-2.01769946126336</dd>\n",
       "\t<dt>322</dt>\n",
       "\t\t<dd>-1.61908364062717</dd>\n",
       "\t<dt>323</dt>\n",
       "\t\t<dd>-1.61908364062717</dd>\n",
       "\t<dt>324</dt>\n",
       "\t\t<dd>-0.996190124402729</dd>\n",
       "\t<dt>325</dt>\n",
       "\t\t<dd>-2.01769946126336</dd>\n",
       "\t<dt>326</dt>\n",
       "\t\t<dd>-1.61908364062717</dd>\n",
       "\t<dt>327</dt>\n",
       "\t\t<dd>-0.996190124402729</dd>\n",
       "\t<dt>329</dt>\n",
       "\t\t<dd>-0.468101997732499</dd>\n",
       "\t<dt>330</dt>\n",
       "\t\t<dd>-1.61908364062717</dd>\n",
       "\t<dt>331</dt>\n",
       "\t\t<dd>-1.61908364062717</dd>\n",
       "\t<dt>332</dt>\n",
       "\t\t<dd>-0.996190124402729</dd>\n",
       "\t<dt>333</dt>\n",
       "\t\t<dd>-0.866717818368685</dd>\n",
       "\t<dt>334</dt>\n",
       "\t\t<dd>-1.61908364062717</dd>\n",
       "\t<dt>335</dt>\n",
       "\t\t<dd>-1.61908364062717</dd>\n",
       "\t<dt>336</dt>\n",
       "\t\t<dd>-0.468101997732499</dd>\n",
       "\t<dt>337</dt>\n",
       "\t\t<dd>-2.01769946126336</dd>\n",
       "\t<dt>338</dt>\n",
       "\t\t<dd>-1.61908364062717</dd>\n",
       "\t<dt>339</dt>\n",
       "\t\t<dd>-0.866717818368685</dd>\n",
       "\t<dt>340</dt>\n",
       "\t\t<dd>-1.09099551395694</dd>\n",
       "\t<dt>341</dt>\n",
       "\t\t<dd>-0.996190124402729</dd>\n",
       "\t<dt>342</dt>\n",
       "\t\t<dd>-1.61908364062717</dd>\n",
       "\t<dt>343</dt>\n",
       "\t\t<dd>-1.09099551395694</dd>\n",
       "\t<dt>344</dt>\n",
       "\t\t<dd>-1.61908364062717</dd>\n",
       "\t<dt>345</dt>\n",
       "\t\t<dd>-1.61908364062717</dd>\n",
       "\t<dt>346</dt>\n",
       "\t\t<dd>-2.01769946126336</dd>\n",
       "\t<dt>347</dt>\n",
       "\t\t<dd>-1.61908364062717</dd>\n",
       "\t<dt>349</dt>\n",
       "\t\t<dd>-1.09099551395694</dd>\n",
       "\t<dt>350</dt>\n",
       "\t\t<dd>-2.01769946126336</dd>\n",
       "\t<dt>351</dt>\n",
       "\t\t<dd>-2.01769946126336</dd>\n",
       "\t<dt>352</dt>\n",
       "\t\t<dd>-2.01769946126336</dd>\n",
       "\t<dt>353</dt>\n",
       "\t\t<dd>-1.39480594503891</dd>\n",
       "\t<dt>354</dt>\n",
       "\t\t<dd>-1.61908364062717</dd>\n",
       "\t<dt>355</dt>\n",
       "\t\t<dd>-1.61908364062717</dd>\n",
       "\t<dt>356</dt>\n",
       "\t\t<dd>-0.692379693320756</dd>\n",
       "\t<dt>357</dt>\n",
       "\t\t<dd>-1.39480594503891</dd>\n",
       "\t<dt>358</dt>\n",
       "\t\t<dd>-1.61908364062717</dd>\n",
       "\t<dt>359</dt>\n",
       "\t\t<dd>-0.996190124402729</dd>\n",
       "\t<dt>360</dt>\n",
       "\t\t<dd>-0.996190124402729</dd>\n",
       "\t<dt>361</dt>\n",
       "\t\t<dd>-1.48961133459313</dd>\n",
       "\t<dt>362</dt>\n",
       "\t\t<dd>-1.09099551395694</dd>\n",
       "\t<dt>363</dt>\n",
       "\t\t<dd>-0.996190124402729</dd>\n",
       "\t<dt>364</dt>\n",
       "\t\t<dd>-2.01769946126336</dd>\n",
       "\t<dt>365</dt>\n",
       "\t\t<dd>-1.09099551395694</dd>\n",
       "\t<dt>366</dt>\n",
       "\t\t<dd>-2.01769946126336</dd>\n",
       "\t<dt>367</dt>\n",
       "\t\t<dd>-1.61908364062717</dd>\n",
       "\t<dt>368</dt>\n",
       "\t\t<dd>-0.996190124402729</dd>\n",
       "\t<dt>369</dt>\n",
       "\t\t<dd>-1.61908364062717</dd>\n",
       "\t<dt>370</dt>\n",
       "\t\t<dd>-1.09099551395694</dd>\n",
       "\t<dt>371</dt>\n",
       "\t\t<dd>-2.01769946126336</dd>\n",
       "\t<dt>372</dt>\n",
       "\t\t<dd>-2.01769946126336</dd>\n",
       "\t<dt>373</dt>\n",
       "\t\t<dd>-1.09099551395694</dd>\n",
       "\t<dt>374</dt>\n",
       "\t\t<dd>-0.468101997732499</dd>\n",
       "\t<dt>375</dt>\n",
       "\t\t<dd>-2.01769946126336</dd>\n",
       "\t<dt>376</dt>\n",
       "\t\t<dd>-1.48961133459313</dd>\n",
       "\t<dt>377</dt>\n",
       "\t\t<dd>-1.61908364062717</dd>\n",
       "\t<dt>378</dt>\n",
       "\t\t<dd>-2.01769946126336</dd>\n",
       "\t<dt>379</dt>\n",
       "\t\t<dd>-1.48961133459313</dd>\n",
       "\t<dt>380</dt>\n",
       "\t\t<dd>-1.61908364062717</dd>\n",
       "\t<dt>381</dt>\n",
       "\t\t<dd>-1.09099551395694</dd>\n",
       "\t<dt>382</dt>\n",
       "\t\t<dd>-1.48961133459313</dd>\n",
       "\t<dt>383</dt>\n",
       "\t\t<dd>-1.61908364062717</dd>\n",
       "\t<dt>384</dt>\n",
       "\t\t<dd>-0.866717818368685</dd>\n",
       "\t<dt>385</dt>\n",
       "\t\t<dd>-1.09099551395694</dd>\n",
       "\t<dt>386</dt>\n",
       "\t\t<dd>-0.468101997732499</dd>\n",
       "\t<dt>387</dt>\n",
       "\t\t<dd>-2.01769946126336</dd>\n",
       "\t<dt>388</dt>\n",
       "\t\t<dd>-1.61908364062717</dd>\n",
       "\t<dt>389</dt>\n",
       "\t\t<dd>-0.468101997732499</dd>\n",
       "\t<dt>390</dt>\n",
       "\t\t<dd>-2.01769946126336</dd>\n",
       "\t<dt>391</dt>\n",
       "\t\t<dd>-1.09099551395694</dd>\n",
       "\t<dt>392</dt>\n",
       "\t\t<dd>-1.48961133459313</dd>\n",
       "\t<dt>393</dt>\n",
       "\t\t<dd>-2.01769946126336</dd>\n",
       "\t<dt>394</dt>\n",
       "\t\t<dd>-0.996190124402729</dd>\n",
       "\t<dt>395</dt>\n",
       "\t\t<dd>-1.61908364062717</dd>\n",
       "\t<dt>396</dt>\n",
       "\t\t<dd>-1.61908364062717</dd>\n",
       "\t<dt>397</dt>\n",
       "\t\t<dd>-1.61908364062717</dd>\n",
       "\t<dt>398</dt>\n",
       "\t\t<dd>-1.61908364062717</dd>\n",
       "\t<dt>399</dt>\n",
       "\t\t<dd>-1.48961133459313</dd>\n",
       "\t<dt>400</dt>\n",
       "\t\t<dd>-2.01769946126336</dd>\n",
       "\t<dt>401</dt>\n",
       "\t\t<dd>-1.61908364062717</dd>\n",
       "\t<dt>402</dt>\n",
       "\t\t<dd>-0.468101997732499</dd>\n",
       "\t<dt>403</dt>\n",
       "\t\t<dd>-1.48961133459313</dd>\n",
       "\t<dt>404</dt>\n",
       "\t\t<dd>-1.09099551395694</dd>\n",
       "\t<dt>405</dt>\n",
       "\t\t<dd>-1.61908364062717</dd>\n",
       "\t<dt>406</dt>\n",
       "\t\t<dd>-1.61908364062717</dd>\n",
       "\t<dt>407</dt>\n",
       "\t\t<dd>-0.692379693320756</dd>\n",
       "\t<dt>408</dt>\n",
       "\t\t<dd>-0.996190124402729</dd>\n",
       "\t<dt>409</dt>\n",
       "\t\t<dd>-1.09099551395694</dd>\n",
       "\t<dt>410</dt>\n",
       "\t\t<dd>-1.48961133459313</dd>\n",
       "\t<dt>411</dt>\n",
       "\t\t<dd>-1.61908364062717</dd>\n",
       "\t<dt>414</dt>\n",
       "\t\t<dd>-1.22046781999099</dd>\n",
       "\t<dt>416</dt>\n",
       "\t\t<dd>-1.22046781999099</dd>\n",
       "\t<dt>417</dt>\n",
       "\t\t<dd>-0.597574303766543</dd>\n",
       "\t<dt>418</dt>\n",
       "\t\t<dd>-0.198958483130356</dd>\n",
       "\t<dt>419</dt>\n",
       "\t\t<dd>-2.01769946126336</dd>\n",
       "\t<dt>421</dt>\n",
       "\t\t<dd>-0.821851999354799</dd>\n",
       "\t<dt>423</dt>\n",
       "\t\t<dd>-0.996190124402729</dd>\n",
       "\t<dt>424</dt>\n",
       "\t\t<dd>-1.61908364062717</dd>\n",
       "\t<dt>425</dt>\n",
       "\t\t<dd>-1.22046781999099</dd>\n",
       "\t<dt>427</dt>\n",
       "\t\t<dd>-1.22046781999099</dd>\n",
       "\t<dt>432</dt>\n",
       "\t\t<dd>-0.821851999354799</dd>\n",
       "\t<dt>435</dt>\n",
       "\t\t<dd>-2.01769946126336</dd>\n",
       "\t<dt>436</dt>\n",
       "\t\t<dd>-0.423236178718613</dd>\n",
       "\t<dt>437</dt>\n",
       "\t\t<dd>-0.597574303766543</dd>\n",
       "\t<dt>438</dt>\n",
       "\t\t<dd>-1.61908364062717</dd>\n",
       "\t<dt>442</dt>\n",
       "\t\t<dd>-2.01769946126336</dd>\n",
       "\t<dt>443</dt>\n",
       "\t\t<dd>-1.39480594503891</dd>\n",
       "\t<dt>444</dt>\n",
       "\t\t<dd>-0.821851999354799</dd>\n",
       "\t<dt>446</dt>\n",
       "\t\t<dd>-1.22046781999099</dd>\n",
       "\t<dt>450</dt>\n",
       "\t\t<dd>-1.61908364062717</dd>\n",
       "\t<dt>452</dt>\n",
       "\t\t<dd>-1.61908364062717</dd>\n",
       "\t<dt>453</dt>\n",
       "\t\t<dd>-1.61908364062717</dd>\n",
       "\t<dt>454</dt>\n",
       "\t\t<dd>-1.22046781999099</dd>\n",
       "\t<dt>455</dt>\n",
       "\t\t<dd>-1.61908364062717</dd>\n",
       "\t<dt>456</dt>\n",
       "\t\t<dd>-1.22046781999099</dd>\n",
       "\t<dt>457</dt>\n",
       "\t\t<dd>-1.22046781999099</dd>\n",
       "\t<dt>461</dt>\n",
       "\t\t<dd>-1.61908364062717</dd>\n",
       "\t<dt>462</dt>\n",
       "\t\t<dd>-0.821851999354799</dd>\n",
       "\t<dt>463</dt>\n",
       "\t\t<dd>-2.01769946126336</dd>\n",
       "\t<dt>464</dt>\n",
       "\t\t<dd>-2.01769946126336</dd>\n",
       "\t<dt>465</dt>\n",
       "\t\t<dd>-1.48961133459313</dd>\n",
       "\t<dt>467</dt>\n",
       "\t\t<dd>-1.39480594503891</dd>\n",
       "\t<dt>468</dt>\n",
       "\t\t<dd>-2.01769946126336</dd>\n",
       "\t<dt>469</dt>\n",
       "\t\t<dd>-2.01769946126336</dd>\n",
       "\t<dt>470</dt>\n",
       "\t\t<dd>-2.01769946126336</dd>\n",
       "\t<dt>471</dt>\n",
       "\t\t<dd>-2.01769946126336</dd>\n",
       "\t<dt>472</dt>\n",
       "\t\t<dd>-1.39480594503891</dd>\n",
       "\t<dt>473</dt>\n",
       "\t\t<dd>-1.48961133459313</dd>\n",
       "\t<dt>474</dt>\n",
       "\t\t<dd>-2.01769946126336</dd>\n",
       "\t<dt>475</dt>\n",
       "\t\t<dd>-2.01769946126336</dd>\n",
       "\t<dt>476</dt>\n",
       "\t\t<dd>-2.01769946126336</dd>\n",
       "\t<dt>477</dt>\n",
       "\t\t<dd>-0.866717818368685</dd>\n",
       "\t<dt>478</dt>\n",
       "\t\t<dd>-1.48961133459313</dd>\n",
       "\t<dt>479</dt>\n",
       "\t\t<dd>-2.01769946126336</dd>\n",
       "\t<dt>480</dt>\n",
       "\t\t<dd>-2.01769946126336</dd>\n",
       "\t<dt>481</dt>\n",
       "\t\t<dd>-2.01769946126336</dd>\n",
       "\t<dt>482</dt>\n",
       "\t\t<dd>-0.866717818368685</dd>\n",
       "\t<dt>483</dt>\n",
       "\t\t<dd>-2.01769946126336</dd>\n",
       "\t<dt>484</dt>\n",
       "\t\t<dd>-2.01769946126336</dd>\n",
       "\t<dt>485</dt>\n",
       "\t\t<dd>-2.01769946126336</dd>\n",
       "\t<dt>486</dt>\n",
       "\t\t<dd>-1.39480594503891</dd>\n",
       "\t<dt>487</dt>\n",
       "\t\t<dd>-1.39480594503891</dd>\n",
       "\t<dt>488</dt>\n",
       "\t\t<dd>-2.01769946126336</dd>\n",
       "\t<dt>489</dt>\n",
       "\t\t<dd>-1.48961133459313</dd>\n",
       "\t<dt>490</dt>\n",
       "\t\t<dd>-1.48961133459313</dd>\n",
       "\t<dt>491</dt>\n",
       "\t\t<dd>-2.01769946126336</dd>\n",
       "\t<dt>492</dt>\n",
       "\t\t<dd>-1.39480594503891</dd>\n",
       "\t<dt>493</dt>\n",
       "\t\t<dd>-2.01769946126336</dd>\n",
       "\t<dt>494</dt>\n",
       "\t\t<dd>-1.39480594503891</dd>\n",
       "\t<dt>495</dt>\n",
       "\t\t<dd>-0.866717818368685</dd>\n",
       "\t<dt>496</dt>\n",
       "\t\t<dd>-2.01769946126336</dd>\n",
       "\t<dt>497</dt>\n",
       "\t\t<dd>-2.01769946126336</dd>\n",
       "\t<dt>498</dt>\n",
       "\t\t<dd>-2.01769946126336</dd>\n",
       "\t<dt>499</dt>\n",
       "\t\t<dd>-1.48961133459313</dd>\n",
       "\t<dt>500</dt>\n",
       "\t\t<dd>-1.39480594503891</dd>\n",
       "\t<dt>501</dt>\n",
       "\t\t<dd>-2.01769946126336</dd>\n",
       "\t<dt>502</dt>\n",
       "\t\t<dd>-2.01769946126336</dd>\n",
       "\t<dt>503</dt>\n",
       "\t\t<dd>-1.39480594503891</dd>\n",
       "\t<dt>504</dt>\n",
       "\t\t<dd>-1.39480594503891</dd>\n",
       "\t<dt>505</dt>\n",
       "\t\t<dd>-2.01769946126336</dd>\n",
       "\t<dt>506</dt>\n",
       "\t\t<dd>-2.01769946126336</dd>\n",
       "\t<dt>507</dt>\n",
       "\t\t<dd>-0.866717818368685</dd>\n",
       "\t<dt>508</dt>\n",
       "\t\t<dd>-1.39480594503891</dd>\n",
       "\t<dt>509</dt>\n",
       "\t\t<dd>-2.01769946126336</dd>\n",
       "\t<dt>510</dt>\n",
       "\t\t<dd>-1.48961133459313</dd>\n",
       "\t<dt>511</dt>\n",
       "\t\t<dd>-2.01769946126336</dd>\n",
       "\t<dt>512</dt>\n",
       "\t\t<dd>-2.01769946126336</dd>\n",
       "\t<dt>513</dt>\n",
       "\t\t<dd>-2.01769946126336</dd>\n",
       "\t<dt>514</dt>\n",
       "\t\t<dd>-0.198958483130356</dd>\n",
       "\t<dt>515</dt>\n",
       "\t\t<dd>-0.198958483130356</dd>\n",
       "\t<dt>516</dt>\n",
       "\t\t<dd>-0.996190124402729</dd>\n",
       "\t<dt>518</dt>\n",
       "\t\t<dd>-0.0694861770963129</dd>\n",
       "\t<dt>519</dt>\n",
       "\t\t<dd>-1.09099551395694</dd>\n",
       "\t<dt>521</dt>\n",
       "\t\t<dd>-1.09099551395694</dd>\n",
       "\t<dt>523</dt>\n",
       "\t\t<dd>-0.597574303766543</dd>\n",
       "\t<dt>524</dt>\n",
       "\t\t<dd>-0.821851999354799</dd>\n",
       "\t<dt>528</dt>\n",
       "\t\t<dd>-0.0694861770963129</dd>\n",
       "\t<dt>529</dt>\n",
       "\t\t<dd>-0.468101997732499</dd>\n",
       "\t<dt>531</dt>\n",
       "\t\t<dd>-1.39480594503891</dd>\n",
       "\t<dt>532</dt>\n",
       "\t\t<dd>-0.821851999354799</dd>\n",
       "\t<dt>533</dt>\n",
       "\t\t<dd>-1.61908364062717</dd>\n",
       "\t<dt>537</dt>\n",
       "\t\t<dd>-0.597574303766543</dd>\n",
       "\t<dt>538</dt>\n",
       "\t\t<dd>-1.22046781999099</dd>\n",
       "\t<dt>539</dt>\n",
       "\t\t<dd>-1.22046781999099</dd>\n",
       "\t<dt>541</dt>\n",
       "\t\t<dd>-0.597574303766543</dd>\n",
       "\t<dt>542</dt>\n",
       "\t\t<dd>-1.22046781999099</dd>\n",
       "\t<dt>543</dt>\n",
       "\t\t<dd>-0.692379693320756</dd>\n",
       "\t<dt>544</dt>\n",
       "\t\t<dd>-0.821851999354799</dd>\n",
       "\t<dt>545</dt>\n",
       "\t\t<dd>-0.996190124402729</dd>\n",
       "\t<dt>546</dt>\n",
       "\t\t<dd>-0.996190124402729</dd>\n",
       "\t<dt>547</dt>\n",
       "\t\t<dd>-1.22046781999099</dd>\n",
       "\t<dt>548</dt>\n",
       "\t\t<dd>-1.48961133459313</dd>\n",
       "\t<dt>549</dt>\n",
       "\t\t<dd>-2.01769946126336</dd>\n",
       "\t<dt>551</dt>\n",
       "\t\t<dd>-1.39480594503891</dd>\n",
       "\t<dt>552</dt>\n",
       "\t\t<dd>-1.09099551395694</dd>\n",
       "\t<dt>554</dt>\n",
       "\t\t<dd>-1.61908364062717</dd>\n",
       "\t<dt>558</dt>\n",
       "\t\t<dd>-1.61908364062717</dd>\n",
       "\t<dt>560</dt>\n",
       "\t\t<dd>-1.22046781999099</dd>\n",
       "\t<dt>563</dt>\n",
       "\t\t<dd>-1.61908364062717</dd>\n",
       "\t<dt>564</dt>\n",
       "\t\t<dd>-1.22046781999099</dd>\n",
       "\t<dt>565</dt>\n",
       "\t\t<dd>-0.468101997732499</dd>\n",
       "\t<dt>566</dt>\n",
       "\t\t<dd>-1.09099551395694</dd>\n",
       "\t<dt>567</dt>\n",
       "\t\t<dd>-0.597574303766543</dd>\n",
       "\t<dt>569</dt>\n",
       "\t\t<dd>-0.996190124402729</dd>\n",
       "\t<dt>572</dt>\n",
       "\t\t<dd>-0.692379693320756</dd>\n",
       "\t<dt>573</dt>\n",
       "\t\t<dd>-1.39480594503891</dd>\n",
       "\t<dt>574</dt>\n",
       "\t\t<dd>-0.597574303766543</dd>\n",
       "\t<dt>575</dt>\n",
       "\t\t<dd>-1.61908364062717</dd>\n",
       "\t<dt>578</dt>\n",
       "\t\t<dd>0.329129643539873</dd>\n",
       "\t<dt>580</dt>\n",
       "\t\t<dd>-1.61908364062717</dd>\n",
       "\t<dt>582</dt>\n",
       "\t\t<dd>-1.61908364062717</dd>\n",
       "\t<dt>583</dt>\n",
       "\t\t<dd>-1.39480594503891</dd>\n",
       "\t<dt>584</dt>\n",
       "\t\t<dd>-1.22046781999099</dd>\n",
       "\t<dt>585</dt>\n",
       "\t\t<dd>-1.61908364062717</dd>\n",
       "\t<dt>586</dt>\n",
       "\t\t<dd>-0.821851999354799</dd>\n",
       "\t<dt>587</dt>\n",
       "\t\t<dd>-1.61908364062717</dd>\n",
       "\t<dt>589</dt>\n",
       "\t\t<dd>-0.0694861770963129</dd>\n",
       "\t<dt>592</dt>\n",
       "\t\t<dd>-0.821851999354799</dd>\n",
       "\t<dt>594</dt>\n",
       "\t\t<dd>-0.821851999354799</dd>\n",
       "\t<dt>595</dt>\n",
       "\t\t<dd>-1.09099551395694</dd>\n",
       "\t<dt>596</dt>\n",
       "\t\t<dd>-1.48961133459313</dd>\n",
       "\t<dt>599</dt>\n",
       "\t\t<dd>-0.29376387268457</dd>\n",
       "\t<dt>601</dt>\n",
       "\t\t<dd>-0.597574303766543</dd>\n",
       "\t<dt>602</dt>\n",
       "\t\t<dd>-2.01769946126336</dd>\n",
       "\t<dt>603</dt>\n",
       "\t\t<dd>-1.22046781999099</dd>\n",
       "\t<dt>605</dt>\n",
       "\t\t<dd>-1.09099551395694</dd>\n",
       "\t<dt>606</dt>\n",
       "\t\t<dd>-0.468101997732499</dd>\n",
       "\t<dt>611</dt>\n",
       "\t\t<dd>-1.61908364062717</dd>\n",
       "\t<dt>616</dt>\n",
       "\t\t<dd>-0.821851999354799</dd>\n",
       "\t<dt>628</dt>\n",
       "\t\t<dd>-0.597574303766543</dd>\n",
       "\t<dt>629</dt>\n",
       "\t\t<dd>-0.468101997732499</dd>\n",
       "\t<dt>630</dt>\n",
       "\t\t<dd>-1.61908364062717</dd>\n",
       "\t<dt>634</dt>\n",
       "\t\t<dd>-0.468101997732499</dd>\n",
       "\t<dt>637</dt>\n",
       "\t\t<dd>-0.468101997732499</dd>\n",
       "\t<dt>638</dt>\n",
       "\t\t<dd>-1.09099551395694</dd>\n",
       "\t<dt>640</dt>\n",
       "\t\t<dd>-1.48961133459313</dd>\n",
       "\t<dt>642</dt>\n",
       "\t\t<dd>-2.01769946126336</dd>\n",
       "\t<dt>643</dt>\n",
       "\t\t<dd>-0.0694861770963129</dd>\n",
       "\t<dt>644</dt>\n",
       "\t\t<dd>-1.61908364062717</dd>\n",
       "\t<dt>645</dt>\n",
       "\t\t<dd>-1.61908364062717</dd>\n",
       "\t<dt>646</dt>\n",
       "\t\t<dd>-1.39480594503891</dd>\n",
       "\t<dt>648</dt>\n",
       "\t\t<dd>-2.01769946126336</dd>\n",
       "\t<dt>649</dt>\n",
       "\t\t<dd>-2.01769946126336</dd>\n",
       "\t<dt>650</dt>\n",
       "\t\t<dd>-1.22046781999099</dd>\n",
       "\t<dt>651</dt>\n",
       "\t\t<dd>-0.821851999354799</dd>\n",
       "\t<dt>652</dt>\n",
       "\t\t<dd>-2.01769946126336</dd>\n",
       "\t<dt>656</dt>\n",
       "\t\t<dd>-1.61908364062717</dd>\n",
       "\t<dt>659</dt>\n",
       "\t\t<dd>-1.22046781999099</dd>\n",
       "\t<dt>665</dt>\n",
       "\t\t<dd>-0.821851999354799</dd>\n",
       "\t<dt>666</dt>\n",
       "\t\t<dd>-1.61908364062717</dd>\n",
       "\t<dt>667</dt>\n",
       "\t\t<dd>-1.22046781999099</dd>\n",
       "\t<dt>670</dt>\n",
       "\t\t<dd>-2.01769946126336</dd>\n",
       "\t<dt>671</dt>\n",
       "\t\t<dd>-1.61908364062717</dd>\n",
       "\t<dt>675</dt>\n",
       "\t\t<dd>-0.597574303766543</dd>\n",
       "\t<dt>678</dt>\n",
       "\t\t<dd>0.19965733750583</dd>\n",
       "\t<dt>679</dt>\n",
       "\t\t<dd>-1.48961133459313</dd>\n",
       "\t<dt>680</dt>\n",
       "\t\t<dd>-1.22046781999099</dd>\n",
       "\t<dt>681</dt>\n",
       "\t\t<dd>-1.22046781999099</dd>\n",
       "\t<dt>684</dt>\n",
       "\t\t<dd>-2.01769946126336</dd>\n",
       "\t<dt>689</dt>\n",
       "\t\t<dd>-0.597574303766543</dd>\n",
       "\t<dt>700</dt>\n",
       "\t\t<dd>-1.39480594503891</dd>\n",
       "\t<dt>701</dt>\n",
       "\t\t<dd>-2.01769946126336</dd>\n",
       "\t<dt>703</dt>\n",
       "\t\t<dd>-1.48961133459313</dd>\n",
       "\t<dt>704</dt>\n",
       "\t\t<dd>-1.22046781999099</dd>\n",
       "\t<dt>705</dt>\n",
       "\t\t<dd>-1.61908364062717</dd>\n",
       "\t<dt>706</dt>\n",
       "\t\t<dd>-1.61908364062717</dd>\n",
       "\t<dt>707</dt>\n",
       "\t\t<dd>-0.996190124402729</dd>\n",
       "\t<dt>708</dt>\n",
       "\t\t<dd>-0.996190124402729</dd>\n",
       "\t<dt>709</dt>\n",
       "\t\t<dd>-1.61908364062717</dd>\n",
       "\t<dt>710</dt>\n",
       "\t\t<dd>-1.39480594503891</dd>\n",
       "\t<dt>711</dt>\n",
       "\t\t<dd>-2.01769946126336</dd>\n",
       "\t<dt>712</dt>\n",
       "\t\t<dd>-2.01769946126336</dd>\n",
       "\t<dt>713</dt>\n",
       "\t\t<dd>-2.01769946126336</dd>\n",
       "\t<dt>714</dt>\n",
       "\t\t<dd>-2.01769946126336</dd>\n",
       "\t<dt>715</dt>\n",
       "\t\t<dd>-1.39480594503891</dd>\n",
       "\t<dt>716</dt>\n",
       "\t\t<dd>-2.01769946126336</dd>\n",
       "\t<dt>717</dt>\n",
       "\t\t<dd>-2.01769946126336</dd>\n",
       "\t<dt>718</dt>\n",
       "\t\t<dd>-1.39480594503891</dd>\n",
       "\t<dt>719</dt>\n",
       "\t\t<dd>-1.39480594503891</dd>\n",
       "\t<dt>720</dt>\n",
       "\t\t<dd>-2.01769946126336</dd>\n",
       "\t<dt>721</dt>\n",
       "\t\t<dd>-2.01769946126336</dd>\n",
       "\t<dt>722</dt>\n",
       "\t\t<dd>-2.01769946126336</dd>\n",
       "\t<dt>723</dt>\n",
       "\t\t<dd>-2.01769946126336</dd>\n",
       "\t<dt>724</dt>\n",
       "\t\t<dd>-1.48961133459313</dd>\n",
       "\t<dt>726</dt>\n",
       "\t\t<dd>-0.866717818368685</dd>\n",
       "\t<dt>727</dt>\n",
       "\t\t<dd>-2.01769946126336</dd>\n",
       "\t<dt>728</dt>\n",
       "\t\t<dd>-2.01769946126336</dd>\n",
       "\t<dt>729</dt>\n",
       "\t\t<dd>-1.39480594503891</dd>\n",
       "\t<dt>730</dt>\n",
       "\t\t<dd>-2.01769946126336</dd>\n",
       "\t<dt>731</dt>\n",
       "\t\t<dd>-1.39480594503891</dd>\n",
       "\t<dt>732</dt>\n",
       "\t\t<dd>-2.01769946126336</dd>\n",
       "\t<dt>733</dt>\n",
       "\t\t<dd>-2.01769946126336</dd>\n",
       "\t<dt>734</dt>\n",
       "\t\t<dd>-2.01769946126336</dd>\n",
       "\t<dt>735</dt>\n",
       "\t\t<dd>-2.01769946126336</dd>\n",
       "\t<dt>736</dt>\n",
       "\t\t<dd>-2.01769946126336</dd>\n",
       "\t<dt>737</dt>\n",
       "\t\t<dd>-2.01769946126336</dd>\n",
       "\t<dt>738</dt>\n",
       "\t\t<dd>-2.01769946126336</dd>\n",
       "\t<dt>739</dt>\n",
       "\t\t<dd>-2.01769946126336</dd>\n",
       "\t<dt>740</dt>\n",
       "\t\t<dd>-2.01769946126336</dd>\n",
       "\t<dt>741</dt>\n",
       "\t\t<dd>-2.01769946126336</dd>\n",
       "\t<dt>742</dt>\n",
       "\t\t<dd>-1.39480594503891</dd>\n",
       "\t<dt>743</dt>\n",
       "\t\t<dd>-1.39480594503891</dd>\n",
       "\t<dt>744</dt>\n",
       "\t\t<dd>-1.39480594503891</dd>\n",
       "\t<dt>745</dt>\n",
       "\t\t<dd>-2.01769946126336</dd>\n",
       "\t<dt>746</dt>\n",
       "\t\t<dd>-2.01769946126336</dd>\n",
       "\t<dt>747</dt>\n",
       "\t\t<dd>-1.48961133459313</dd>\n",
       "\t<dt>748</dt>\n",
       "\t\t<dd>-2.01769946126336</dd>\n",
       "\t<dt>749</dt>\n",
       "\t\t<dd>-2.01769946126336</dd>\n",
       "\t<dt>750</dt>\n",
       "\t\t<dd>-1.61908364062717</dd>\n",
       "\t<dt>751</dt>\n",
       "\t\t<dd>-1.61908364062717</dd>\n",
       "\t<dt>752</dt>\n",
       "\t\t<dd>-1.61908364062717</dd>\n",
       "\t<dt>753</dt>\n",
       "\t\t<dd>-1.39480594503891</dd>\n",
       "\t<dt>754</dt>\n",
       "\t\t<dd>-1.61908364062717</dd>\n",
       "\t<dt>755</dt>\n",
       "\t\t<dd>-2.01769946126336</dd>\n",
       "\t<dt>756</dt>\n",
       "\t\t<dd>-1.61908364062717</dd>\n",
       "\t<dt>757</dt>\n",
       "\t\t<dd>-0.468101997732499</dd>\n",
       "\t<dt>758</dt>\n",
       "\t\t<dd>-0.692379693320756</dd>\n",
       "\t<dt>759</dt>\n",
       "\t\t<dd>-1.22046781999099</dd>\n",
       "\t<dt>760</dt>\n",
       "\t\t<dd>-0.597574303766543</dd>\n",
       "\t<dt>761</dt>\n",
       "\t\t<dd>-1.61908364062717</dd>\n",
       "\t<dt>762</dt>\n",
       "\t\t<dd>-1.61908364062717</dd>\n",
       "\t<dt>763</dt>\n",
       "\t\t<dd>-1.61908364062717</dd>\n",
       "\t<dt>764</dt>\n",
       "\t\t<dd>-1.22046781999099</dd>\n",
       "\t<dt>765</dt>\n",
       "\t\t<dd>-1.61908364062717</dd>\n",
       "\t<dt>766</dt>\n",
       "\t\t<dd>-1.09099551395694</dd>\n",
       "\t<dt>767</dt>\n",
       "\t\t<dd>-0.996190124402729</dd>\n",
       "\t<dt>768</dt>\n",
       "\t\t<dd>-0.996190124402729</dd>\n",
       "\t<dt>769</dt>\n",
       "\t\t<dd>-1.61908364062717</dd>\n",
       "\t<dt>770</dt>\n",
       "\t\t<dd>-1.09099551395694</dd>\n",
       "\t<dt>771</dt>\n",
       "\t\t<dd>-0.468101997732499</dd>\n",
       "\t<dt>772</dt>\n",
       "\t\t<dd>-1.22046781999099</dd>\n",
       "\t<dt>773</dt>\n",
       "\t\t<dd>-1.48961133459313</dd>\n",
       "\t<dt>774</dt>\n",
       "\t\t<dd>-0.468101997732499</dd>\n",
       "\t<dt>775</dt>\n",
       "\t\t<dd>-1.09099551395694</dd>\n",
       "\t<dt>776</dt>\n",
       "\t\t<dd>-1.61908364062717</dd>\n",
       "\t<dt>777</dt>\n",
       "\t\t<dd>-1.61908364062717</dd>\n",
       "\t<dt>778</dt>\n",
       "\t\t<dd>-1.09099551395694</dd>\n",
       "\t<dt>779</dt>\n",
       "\t\t<dd>-1.09099551395694</dd>\n",
       "\t<dt>780</dt>\n",
       "\t\t<dd>-2.01769946126336</dd>\n",
       "\t<dt>781</dt>\n",
       "\t\t<dd>-2.01769946126336</dd>\n",
       "\t<dt>782</dt>\n",
       "\t\t<dd>-0.468101997732499</dd>\n",
       "\t<dt>783</dt>\n",
       "\t\t<dd>-1.61908364062717</dd>\n",
       "\t<dt>784</dt>\n",
       "\t\t<dd>-1.48961133459313</dd>\n",
       "\t<dt>785</dt>\n",
       "\t\t<dd>-1.61908364062717</dd>\n",
       "\t<dt>786</dt>\n",
       "\t\t<dd>-1.09099551395694</dd>\n",
       "\t<dt>787</dt>\n",
       "\t\t<dd>-2.01769946126336</dd>\n",
       "\t<dt>788</dt>\n",
       "\t\t<dd>-2.01769946126336</dd>\n",
       "\t<dt>789</dt>\n",
       "\t\t<dd>-2.01769946126336</dd>\n",
       "\t<dt>790</dt>\n",
       "\t\t<dd>-1.39480594503891</dd>\n",
       "\t<dt>791</dt>\n",
       "\t\t<dd>-1.09099551395694</dd>\n",
       "\t<dt>792</dt>\n",
       "\t\t<dd>-0.866717818368685</dd>\n",
       "\t<dt>793</dt>\n",
       "\t\t<dd>-2.01769946126336</dd>\n",
       "\t<dt>794</dt>\n",
       "\t\t<dd>-0.996190124402729</dd>\n",
       "\t<dt>795</dt>\n",
       "\t\t<dd>-2.01769946126336</dd>\n",
       "\t<dt>796</dt>\n",
       "\t\t<dd>-1.09099551395694</dd>\n",
       "\t<dt>797</dt>\n",
       "\t\t<dd>-1.61908364062717</dd>\n",
       "\t<dt>798</dt>\n",
       "\t\t<dd>-2.01769946126336</dd>\n",
       "\t<dt>799</dt>\n",
       "\t\t<dd>-0.996190124402729</dd>\n",
       "</dl>\n"
      ],
      "text/latex": [
       "\\begin{description*}\n",
       "\\item[1] -1.61908364062717\n",
       "\\item[3] -2.01769946126336\n",
       "\\item[5] -1.09099551395694\n",
       "\\item[8] -2.01769946126336\n",
       "\\item[9] -0.468101997732499\n",
       "\\item[13] -1.61908364062717\n",
       "\\item[14] -1.61908364062717\n",
       "\\item[16] -0.996190124402729\n",
       "\\item[17] -1.39480594503891\n",
       "\\item[20] -2.01769946126336\n",
       "\\item[22] -0.821851999354799\n",
       "\\item[23] -0.996190124402729\n",
       "\\item[25] -1.61908364062717\n",
       "\\item[28] -2.01769946126336\n",
       "\\item[32] -1.22046781999099\n",
       "\\item[33] -1.61908364062717\n",
       "\\item[34] -2.01769946126336\n",
       "\\item[35] -1.39480594503891\n",
       "\\item[38] -1.48961133459313\n",
       "\\item[40] -1.61908364062717\n",
       "\\item[41] -0.996190124402729\n",
       "\\item[42] -0.692379693320756\n",
       "\\item[44] -1.22046781999099\n",
       "\\item[45] -2.01769946126336\n",
       "\\item[48] -1.22046781999099\n",
       "\\item[49] -0.866717818368685\n",
       "\\item[50] -1.22046781999099\n",
       "\\item[51] -1.09099551395694\n",
       "\\item[52] -0.597574303766543\n",
       "\\item[53] -1.22046781999099\n",
       "\\item[54] -0.597574303766543\n",
       "\\item[55] -0.821851999354799\n",
       "\\item[63] -1.22046781999099\n",
       "\\item[66] -0.597574303766543\n",
       "\\item[67] -1.61908364062717\n",
       "\\item[71] -1.61908364062717\n",
       "\\item[77] -2.01769946126336\n",
       "\\item[89] -2.01769946126336\n",
       "\\item[95] -1.48961133459313\n",
       "\\item[96] -2.01769946126336\n",
       "\\item[97] -1.61908364062717\n",
       "\\item[98] -1.61908364062717\n",
       "\\item[99] -2.01769946126336\n",
       "\\item[100] -0.866717818368685\n",
       "\\item[101] -2.01769946126336\n",
       "\\item[102] -1.39480594503891\n",
       "\\item[103] -2.01769946126336\n",
       "\\item[104] -2.01769946126336\n",
       "\\item[105] -1.48961133459313\n",
       "\\item[106] -2.01769946126336\n",
       "\\item[107] -1.48961133459313\n",
       "\\item[108] -1.39480594503891\n",
       "\\item[109] -1.48961133459313\n",
       "\\item[110] -1.48961133459313\n",
       "\\item[111] -1.48961133459313\n",
       "\\item[112] -1.39480594503891\n",
       "\\item[113] -0.866717818368685\n",
       "\\item[114] -1.48961133459313\n",
       "\\item[115] -0.866717818368685\n",
       "\\item[116] -1.39480594503891\n",
       "\\item[117] -2.01769946126336\n",
       "\\item[118] -0.866717818368685\n",
       "\\item[119] -1.39480594503891\n",
       "\\item[120] -2.01769946126336\n",
       "\\item[121] -1.48961133459313\n",
       "\\item[122] -1.48961133459313\n",
       "\\item[123] -0.866717818368685\n",
       "\\item[124] -2.01769946126336\n",
       "\\item[125] -1.48961133459313\n",
       "\\item[126] -2.01769946126336\n",
       "\\item[127] -2.01769946126336\n",
       "\\item[128] -1.39480594503891\n",
       "\\item[129] -1.48961133459313\n",
       "\\item[130] -1.39480594503891\n",
       "\\item[131] -0.866717818368685\n",
       "\\item[132] -0.866717818368685\n",
       "\\item[133] -2.01769946126336\n",
       "\\item[134] -0.866717818368685\n",
       "\\item[135] -2.01769946126336\n",
       "\\item[136] -1.39480594503891\n",
       "\\item[137] -0.866717818368685\n",
       "\\item[138] -2.01769946126336\n",
       "\\item[139] -1.39480594503891\n",
       "\\item[140] -2.01769946126336\n",
       "\\item[141] -1.48961133459313\n",
       "\\item[142] -0.866717818368685\n",
       "\\item[143] -2.01769946126336\n",
       "\\item[144] -2.01769946126336\n",
       "\\item[145] -1.39480594503891\n",
       "\\item[146] -2.01769946126336\n",
       "\\item[148] -2.01769946126336\n",
       "\\item[153] -1.61908364062717\n",
       "\\item[154] -1.61908364062717\n",
       "\\item[157] -1.61908364062717\n",
       "\\item[158] -1.61908364062717\n",
       "\\item[167] -1.61908364062717\n",
       "\\item[173] -0.821851999354799\n",
       "\\item[181] -1.61908364062717\n",
       "\\item[183] -1.22046781999099\n",
       "\\item[186] -2.01769946126336\n",
       "\\item[188] -1.61908364062717\n",
       "\\item[189] -1.61908364062717\n",
       "\\item[192] -0.821851999354799\n",
       "\\item[195] -1.09099551395694\n",
       "\\item[198] -1.61908364062717\n",
       "\\item[203] -1.09099551395694\n",
       "\\item[205] -0.866717818368685\n",
       "\\item[207] -1.61908364062717\n",
       "\\item[209] -1.22046781999099\n",
       "\\item[211] -2.01769946126336\n",
       "\\item[213] -1.09099551395694\n",
       "\\item[214] -1.48961133459313\n",
       "\\item[215] -0.866717818368685\n",
       "\\item[217] -1.09099551395694\n",
       "\\item[219] -1.09099551395694\n",
       "\\item[221] -1.39480594503891\n",
       "\\item[223] -2.01769946126336\n",
       "\\item[225] -0.866717818368685\n",
       "\\item[226] -1.61908364062717\n",
       "\\item[228] -1.39480594503891\n",
       "\\item[230] -2.01769946126336\n",
       "\\item[231] -2.01769946126336\n",
       "\\item[233] -2.01769946126336\n",
       "\\item[238] -1.39480594503891\n",
       "\\item[239] -2.01769946126336\n",
       "\\item[240] -1.39480594503891\n",
       "\\item[242] -0.866717818368685\n",
       "\\item[243] -1.61908364062717\n",
       "\\item[246] -0.821851999354799\n",
       "\\item[249] -2.01769946126336\n",
       "\\item[250] -1.39480594503891\n",
       "\\item[251] -2.01769946126336\n",
       "\\item[252] -2.01769946126336\n",
       "\\item[253] -1.39480594503891\n",
       "\\item[254] -2.01769946126336\n",
       "\\item[255] -2.01769946126336\n",
       "\\item[256] -2.01769946126336\n",
       "\\item[257] -0.866717818368685\n",
       "\\item[258] -0.866717818368685\n",
       "\\item[259] -1.39480594503891\n",
       "\\item[260] -1.39480594503891\n",
       "\\item[261] -1.39480594503891\n",
       "\\item[262] -1.39480594503891\n",
       "\\item[263] -2.01769946126336\n",
       "\\item[264] -2.01769946126336\n",
       "\\item[265] -2.01769946126336\n",
       "\\item[266] -2.01769946126336\n",
       "\\item[267] -1.39480594503891\n",
       "\\item[268] -1.39480594503891\n",
       "\\item[269] -2.01769946126336\n",
       "\\item[270] -2.01769946126336\n",
       "\\item[271] -2.01769946126336\n",
       "\\item[272] -1.39480594503891\n",
       "\\item[273] -1.39480594503891\n",
       "\\item[274] -2.01769946126336\n",
       "\\item[275] -0.866717818368685\n",
       "\\item[276] -1.39480594503891\n",
       "\\item[277] -1.39480594503891\n",
       "\\item[278] -2.01769946126336\n",
       "\\item[279] -1.22046781999099\n",
       "\\item[280] -2.01769946126336\n",
       "\\item[281] -2.01769946126336\n",
       "\\item[282] -2.01769946126336\n",
       "\\item[283] -1.39480594503891\n",
       "\\item[284] -1.48961133459313\n",
       "\\item[285] -2.01769946126336\n",
       "\\item[286] -2.01769946126336\n",
       "\\item[287] -1.48961133459313\n",
       "\\item[288] -2.01769946126336\n",
       "\\item[289] -2.01769946126336\n",
       "\\item[290] -1.48961133459313\n",
       "\\item[291] -1.39480594503891\n",
       "\\item[292] -1.48961133459313\n",
       "\\item[293] -2.01769946126336\n",
       "\\item[294] -1.48961133459313\n",
       "\\item[295] -1.39480594503891\n",
       "\\item[296] -2.01769946126336\n",
       "\\item[297] -1.61908364062717\n",
       "\\item[298] -1.39480594503891\n",
       "\\item[301] -2.01769946126336\n",
       "\\item[303] -1.61908364062717\n",
       "\\item[305] -1.61908364062717\n",
       "\\item[307] -1.61908364062717\n",
       "\\item[308] -0.821851999354799\n",
       "\\item[311] -0.29376387268457\n",
       "\\item[312] -1.61908364062717\n",
       "\\item[313] -1.61908364062717\n",
       "\\item[314] -1.61908364062717\n",
       "\\item[315] -0.468101997732499\n",
       "\\item[317] -1.61908364062717\n",
       "\\item[318] -1.39480594503891\n",
       "\\item[319] -0.597574303766543\n",
       "\\item[320] -1.09099551395694\n",
       "\\item[321] -2.01769946126336\n",
       "\\item[322] -1.61908364062717\n",
       "\\item[323] -1.61908364062717\n",
       "\\item[324] -0.996190124402729\n",
       "\\item[325] -2.01769946126336\n",
       "\\item[326] -1.61908364062717\n",
       "\\item[327] -0.996190124402729\n",
       "\\item[329] -0.468101997732499\n",
       "\\item[330] -1.61908364062717\n",
       "\\item[331] -1.61908364062717\n",
       "\\item[332] -0.996190124402729\n",
       "\\item[333] -0.866717818368685\n",
       "\\item[334] -1.61908364062717\n",
       "\\item[335] -1.61908364062717\n",
       "\\item[336] -0.468101997732499\n",
       "\\item[337] -2.01769946126336\n",
       "\\item[338] -1.61908364062717\n",
       "\\item[339] -0.866717818368685\n",
       "\\item[340] -1.09099551395694\n",
       "\\item[341] -0.996190124402729\n",
       "\\item[342] -1.61908364062717\n",
       "\\item[343] -1.09099551395694\n",
       "\\item[344] -1.61908364062717\n",
       "\\item[345] -1.61908364062717\n",
       "\\item[346] -2.01769946126336\n",
       "\\item[347] -1.61908364062717\n",
       "\\item[349] -1.09099551395694\n",
       "\\item[350] -2.01769946126336\n",
       "\\item[351] -2.01769946126336\n",
       "\\item[352] -2.01769946126336\n",
       "\\item[353] -1.39480594503891\n",
       "\\item[354] -1.61908364062717\n",
       "\\item[355] -1.61908364062717\n",
       "\\item[356] -0.692379693320756\n",
       "\\item[357] -1.39480594503891\n",
       "\\item[358] -1.61908364062717\n",
       "\\item[359] -0.996190124402729\n",
       "\\item[360] -0.996190124402729\n",
       "\\item[361] -1.48961133459313\n",
       "\\item[362] -1.09099551395694\n",
       "\\item[363] -0.996190124402729\n",
       "\\item[364] -2.01769946126336\n",
       "\\item[365] -1.09099551395694\n",
       "\\item[366] -2.01769946126336\n",
       "\\item[367] -1.61908364062717\n",
       "\\item[368] -0.996190124402729\n",
       "\\item[369] -1.61908364062717\n",
       "\\item[370] -1.09099551395694\n",
       "\\item[371] -2.01769946126336\n",
       "\\item[372] -2.01769946126336\n",
       "\\item[373] -1.09099551395694\n",
       "\\item[374] -0.468101997732499\n",
       "\\item[375] -2.01769946126336\n",
       "\\item[376] -1.48961133459313\n",
       "\\item[377] -1.61908364062717\n",
       "\\item[378] -2.01769946126336\n",
       "\\item[379] -1.48961133459313\n",
       "\\item[380] -1.61908364062717\n",
       "\\item[381] -1.09099551395694\n",
       "\\item[382] -1.48961133459313\n",
       "\\item[383] -1.61908364062717\n",
       "\\item[384] -0.866717818368685\n",
       "\\item[385] -1.09099551395694\n",
       "\\item[386] -0.468101997732499\n",
       "\\item[387] -2.01769946126336\n",
       "\\item[388] -1.61908364062717\n",
       "\\item[389] -0.468101997732499\n",
       "\\item[390] -2.01769946126336\n",
       "\\item[391] -1.09099551395694\n",
       "\\item[392] -1.48961133459313\n",
       "\\item[393] -2.01769946126336\n",
       "\\item[394] -0.996190124402729\n",
       "\\item[395] -1.61908364062717\n",
       "\\item[396] -1.61908364062717\n",
       "\\item[397] -1.61908364062717\n",
       "\\item[398] -1.61908364062717\n",
       "\\item[399] -1.48961133459313\n",
       "\\item[400] -2.01769946126336\n",
       "\\item[401] -1.61908364062717\n",
       "\\item[402] -0.468101997732499\n",
       "\\item[403] -1.48961133459313\n",
       "\\item[404] -1.09099551395694\n",
       "\\item[405] -1.61908364062717\n",
       "\\item[406] -1.61908364062717\n",
       "\\item[407] -0.692379693320756\n",
       "\\item[408] -0.996190124402729\n",
       "\\item[409] -1.09099551395694\n",
       "\\item[410] -1.48961133459313\n",
       "\\item[411] -1.61908364062717\n",
       "\\item[414] -1.22046781999099\n",
       "\\item[416] -1.22046781999099\n",
       "\\item[417] -0.597574303766543\n",
       "\\item[418] -0.198958483130356\n",
       "\\item[419] -2.01769946126336\n",
       "\\item[421] -0.821851999354799\n",
       "\\item[423] -0.996190124402729\n",
       "\\item[424] -1.61908364062717\n",
       "\\item[425] -1.22046781999099\n",
       "\\item[427] -1.22046781999099\n",
       "\\item[432] -0.821851999354799\n",
       "\\item[435] -2.01769946126336\n",
       "\\item[436] -0.423236178718613\n",
       "\\item[437] -0.597574303766543\n",
       "\\item[438] -1.61908364062717\n",
       "\\item[442] -2.01769946126336\n",
       "\\item[443] -1.39480594503891\n",
       "\\item[444] -0.821851999354799\n",
       "\\item[446] -1.22046781999099\n",
       "\\item[450] -1.61908364062717\n",
       "\\item[452] -1.61908364062717\n",
       "\\item[453] -1.61908364062717\n",
       "\\item[454] -1.22046781999099\n",
       "\\item[455] -1.61908364062717\n",
       "\\item[456] -1.22046781999099\n",
       "\\item[457] -1.22046781999099\n",
       "\\item[461] -1.61908364062717\n",
       "\\item[462] -0.821851999354799\n",
       "\\item[463] -2.01769946126336\n",
       "\\item[464] -2.01769946126336\n",
       "\\item[465] -1.48961133459313\n",
       "\\item[467] -1.39480594503891\n",
       "\\item[468] -2.01769946126336\n",
       "\\item[469] -2.01769946126336\n",
       "\\item[470] -2.01769946126336\n",
       "\\item[471] -2.01769946126336\n",
       "\\item[472] -1.39480594503891\n",
       "\\item[473] -1.48961133459313\n",
       "\\item[474] -2.01769946126336\n",
       "\\item[475] -2.01769946126336\n",
       "\\item[476] -2.01769946126336\n",
       "\\item[477] -0.866717818368685\n",
       "\\item[478] -1.48961133459313\n",
       "\\item[479] -2.01769946126336\n",
       "\\item[480] -2.01769946126336\n",
       "\\item[481] -2.01769946126336\n",
       "\\item[482] -0.866717818368685\n",
       "\\item[483] -2.01769946126336\n",
       "\\item[484] -2.01769946126336\n",
       "\\item[485] -2.01769946126336\n",
       "\\item[486] -1.39480594503891\n",
       "\\item[487] -1.39480594503891\n",
       "\\item[488] -2.01769946126336\n",
       "\\item[489] -1.48961133459313\n",
       "\\item[490] -1.48961133459313\n",
       "\\item[491] -2.01769946126336\n",
       "\\item[492] -1.39480594503891\n",
       "\\item[493] -2.01769946126336\n",
       "\\item[494] -1.39480594503891\n",
       "\\item[495] -0.866717818368685\n",
       "\\item[496] -2.01769946126336\n",
       "\\item[497] -2.01769946126336\n",
       "\\item[498] -2.01769946126336\n",
       "\\item[499] -1.48961133459313\n",
       "\\item[500] -1.39480594503891\n",
       "\\item[501] -2.01769946126336\n",
       "\\item[502] -2.01769946126336\n",
       "\\item[503] -1.39480594503891\n",
       "\\item[504] -1.39480594503891\n",
       "\\item[505] -2.01769946126336\n",
       "\\item[506] -2.01769946126336\n",
       "\\item[507] -0.866717818368685\n",
       "\\item[508] -1.39480594503891\n",
       "\\item[509] -2.01769946126336\n",
       "\\item[510] -1.48961133459313\n",
       "\\item[511] -2.01769946126336\n",
       "\\item[512] -2.01769946126336\n",
       "\\item[513] -2.01769946126336\n",
       "\\item[514] -0.198958483130356\n",
       "\\item[515] -0.198958483130356\n",
       "\\item[516] -0.996190124402729\n",
       "\\item[518] -0.0694861770963129\n",
       "\\item[519] -1.09099551395694\n",
       "\\item[521] -1.09099551395694\n",
       "\\item[523] -0.597574303766543\n",
       "\\item[524] -0.821851999354799\n",
       "\\item[528] -0.0694861770963129\n",
       "\\item[529] -0.468101997732499\n",
       "\\item[531] -1.39480594503891\n",
       "\\item[532] -0.821851999354799\n",
       "\\item[533] -1.61908364062717\n",
       "\\item[537] -0.597574303766543\n",
       "\\item[538] -1.22046781999099\n",
       "\\item[539] -1.22046781999099\n",
       "\\item[541] -0.597574303766543\n",
       "\\item[542] -1.22046781999099\n",
       "\\item[543] -0.692379693320756\n",
       "\\item[544] -0.821851999354799\n",
       "\\item[545] -0.996190124402729\n",
       "\\item[546] -0.996190124402729\n",
       "\\item[547] -1.22046781999099\n",
       "\\item[548] -1.48961133459313\n",
       "\\item[549] -2.01769946126336\n",
       "\\item[551] -1.39480594503891\n",
       "\\item[552] -1.09099551395694\n",
       "\\item[554] -1.61908364062717\n",
       "\\item[558] -1.61908364062717\n",
       "\\item[560] -1.22046781999099\n",
       "\\item[563] -1.61908364062717\n",
       "\\item[564] -1.22046781999099\n",
       "\\item[565] -0.468101997732499\n",
       "\\item[566] -1.09099551395694\n",
       "\\item[567] -0.597574303766543\n",
       "\\item[569] -0.996190124402729\n",
       "\\item[572] -0.692379693320756\n",
       "\\item[573] -1.39480594503891\n",
       "\\item[574] -0.597574303766543\n",
       "\\item[575] -1.61908364062717\n",
       "\\item[578] 0.329129643539873\n",
       "\\item[580] -1.61908364062717\n",
       "\\item[582] -1.61908364062717\n",
       "\\item[583] -1.39480594503891\n",
       "\\item[584] -1.22046781999099\n",
       "\\item[585] -1.61908364062717\n",
       "\\item[586] -0.821851999354799\n",
       "\\item[587] -1.61908364062717\n",
       "\\item[589] -0.0694861770963129\n",
       "\\item[592] -0.821851999354799\n",
       "\\item[594] -0.821851999354799\n",
       "\\item[595] -1.09099551395694\n",
       "\\item[596] -1.48961133459313\n",
       "\\item[599] -0.29376387268457\n",
       "\\item[601] -0.597574303766543\n",
       "\\item[602] -2.01769946126336\n",
       "\\item[603] -1.22046781999099\n",
       "\\item[605] -1.09099551395694\n",
       "\\item[606] -0.468101997732499\n",
       "\\item[611] -1.61908364062717\n",
       "\\item[616] -0.821851999354799\n",
       "\\item[628] -0.597574303766543\n",
       "\\item[629] -0.468101997732499\n",
       "\\item[630] -1.61908364062717\n",
       "\\item[634] -0.468101997732499\n",
       "\\item[637] -0.468101997732499\n",
       "\\item[638] -1.09099551395694\n",
       "\\item[640] -1.48961133459313\n",
       "\\item[642] -2.01769946126336\n",
       "\\item[643] -0.0694861770963129\n",
       "\\item[644] -1.61908364062717\n",
       "\\item[645] -1.61908364062717\n",
       "\\item[646] -1.39480594503891\n",
       "\\item[648] -2.01769946126336\n",
       "\\item[649] -2.01769946126336\n",
       "\\item[650] -1.22046781999099\n",
       "\\item[651] -0.821851999354799\n",
       "\\item[652] -2.01769946126336\n",
       "\\item[656] -1.61908364062717\n",
       "\\item[659] -1.22046781999099\n",
       "\\item[665] -0.821851999354799\n",
       "\\item[666] -1.61908364062717\n",
       "\\item[667] -1.22046781999099\n",
       "\\item[670] -2.01769946126336\n",
       "\\item[671] -1.61908364062717\n",
       "\\item[675] -0.597574303766543\n",
       "\\item[678] 0.19965733750583\n",
       "\\item[679] -1.48961133459313\n",
       "\\item[680] -1.22046781999099\n",
       "\\item[681] -1.22046781999099\n",
       "\\item[684] -2.01769946126336\n",
       "\\item[689] -0.597574303766543\n",
       "\\item[700] -1.39480594503891\n",
       "\\item[701] -2.01769946126336\n",
       "\\item[703] -1.48961133459313\n",
       "\\item[704] -1.22046781999099\n",
       "\\item[705] -1.61908364062717\n",
       "\\item[706] -1.61908364062717\n",
       "\\item[707] -0.996190124402729\n",
       "\\item[708] -0.996190124402729\n",
       "\\item[709] -1.61908364062717\n",
       "\\item[710] -1.39480594503891\n",
       "\\item[711] -2.01769946126336\n",
       "\\item[712] -2.01769946126336\n",
       "\\item[713] -2.01769946126336\n",
       "\\item[714] -2.01769946126336\n",
       "\\item[715] -1.39480594503891\n",
       "\\item[716] -2.01769946126336\n",
       "\\item[717] -2.01769946126336\n",
       "\\item[718] -1.39480594503891\n",
       "\\item[719] -1.39480594503891\n",
       "\\item[720] -2.01769946126336\n",
       "\\item[721] -2.01769946126336\n",
       "\\item[722] -2.01769946126336\n",
       "\\item[723] -2.01769946126336\n",
       "\\item[724] -1.48961133459313\n",
       "\\item[726] -0.866717818368685\n",
       "\\item[727] -2.01769946126336\n",
       "\\item[728] -2.01769946126336\n",
       "\\item[729] -1.39480594503891\n",
       "\\item[730] -2.01769946126336\n",
       "\\item[731] -1.39480594503891\n",
       "\\item[732] -2.01769946126336\n",
       "\\item[733] -2.01769946126336\n",
       "\\item[734] -2.01769946126336\n",
       "\\item[735] -2.01769946126336\n",
       "\\item[736] -2.01769946126336\n",
       "\\item[737] -2.01769946126336\n",
       "\\item[738] -2.01769946126336\n",
       "\\item[739] -2.01769946126336\n",
       "\\item[740] -2.01769946126336\n",
       "\\item[741] -2.01769946126336\n",
       "\\item[742] -1.39480594503891\n",
       "\\item[743] -1.39480594503891\n",
       "\\item[744] -1.39480594503891\n",
       "\\item[745] -2.01769946126336\n",
       "\\item[746] -2.01769946126336\n",
       "\\item[747] -1.48961133459313\n",
       "\\item[748] -2.01769946126336\n",
       "\\item[749] -2.01769946126336\n",
       "\\item[750] -1.61908364062717\n",
       "\\item[751] -1.61908364062717\n",
       "\\item[752] -1.61908364062717\n",
       "\\item[753] -1.39480594503891\n",
       "\\item[754] -1.61908364062717\n",
       "\\item[755] -2.01769946126336\n",
       "\\item[756] -1.61908364062717\n",
       "\\item[757] -0.468101997732499\n",
       "\\item[758] -0.692379693320756\n",
       "\\item[759] -1.22046781999099\n",
       "\\item[760] -0.597574303766543\n",
       "\\item[761] -1.61908364062717\n",
       "\\item[762] -1.61908364062717\n",
       "\\item[763] -1.61908364062717\n",
       "\\item[764] -1.22046781999099\n",
       "\\item[765] -1.61908364062717\n",
       "\\item[766] -1.09099551395694\n",
       "\\item[767] -0.996190124402729\n",
       "\\item[768] -0.996190124402729\n",
       "\\item[769] -1.61908364062717\n",
       "\\item[770] -1.09099551395694\n",
       "\\item[771] -0.468101997732499\n",
       "\\item[772] -1.22046781999099\n",
       "\\item[773] -1.48961133459313\n",
       "\\item[774] -0.468101997732499\n",
       "\\item[775] -1.09099551395694\n",
       "\\item[776] -1.61908364062717\n",
       "\\item[777] -1.61908364062717\n",
       "\\item[778] -1.09099551395694\n",
       "\\item[779] -1.09099551395694\n",
       "\\item[780] -2.01769946126336\n",
       "\\item[781] -2.01769946126336\n",
       "\\item[782] -0.468101997732499\n",
       "\\item[783] -1.61908364062717\n",
       "\\item[784] -1.48961133459313\n",
       "\\item[785] -1.61908364062717\n",
       "\\item[786] -1.09099551395694\n",
       "\\item[787] -2.01769946126336\n",
       "\\item[788] -2.01769946126336\n",
       "\\item[789] -2.01769946126336\n",
       "\\item[790] -1.39480594503891\n",
       "\\item[791] -1.09099551395694\n",
       "\\item[792] -0.866717818368685\n",
       "\\item[793] -2.01769946126336\n",
       "\\item[794] -0.996190124402729\n",
       "\\item[795] -2.01769946126336\n",
       "\\item[796] -1.09099551395694\n",
       "\\item[797] -1.61908364062717\n",
       "\\item[798] -2.01769946126336\n",
       "\\item[799] -0.996190124402729\n",
       "\\end{description*}\n"
      ],
      "text/markdown": [
       "1\n",
       ":   -1.619083640627173\n",
       ":   -2.017699461263365\n",
       ":   -1.090995513956948\n",
       ":   -2.017699461263369\n",
       ":   -0.46810199773249913\n",
       ":   -1.6190836406271714\n",
       ":   -1.6190836406271716\n",
       ":   -0.99619012440272917\n",
       ":   -1.3948059450389120\n",
       ":   -2.0176994612633622\n",
       ":   -0.82185199935479923\n",
       ":   -0.99619012440272925\n",
       ":   -1.6190836406271728\n",
       ":   -2.0176994612633632\n",
       ":   -1.2204678199909933\n",
       ":   -1.6190836406271734\n",
       ":   -2.0176994612633635\n",
       ":   -1.3948059450389138\n",
       ":   -1.4896113345931340\n",
       ":   -1.6190836406271741\n",
       ":   -0.99619012440272942\n",
       ":   -0.69237969332075644\n",
       ":   -1.2204678199909945\n",
       ":   -2.0176994612633648\n",
       ":   -1.2204678199909949\n",
       ":   -0.86671781836868550\n",
       ":   -1.2204678199909951\n",
       ":   -1.0909955139569452\n",
       ":   -0.59757430376654353\n",
       ":   -1.2204678199909954\n",
       ":   -0.59757430376654355\n",
       ":   -0.82185199935479963\n",
       ":   -1.2204678199909966\n",
       ":   -0.59757430376654367\n",
       ":   -1.6190836406271771\n",
       ":   -1.6190836406271777\n",
       ":   -2.0176994612633689\n",
       ":   -2.0176994612633695\n",
       ":   -1.4896113345931396\n",
       ":   -2.0176994612633697\n",
       ":   -1.6190836406271798\n",
       ":   -1.6190836406271799\n",
       ":   -2.01769946126336100\n",
       ":   -0.866717818368685101\n",
       ":   -2.01769946126336102\n",
       ":   -1.39480594503891103\n",
       ":   -2.01769946126336104\n",
       ":   -2.01769946126336105\n",
       ":   -1.48961133459313106\n",
       ":   -2.01769946126336107\n",
       ":   -1.48961133459313108\n",
       ":   -1.39480594503891109\n",
       ":   -1.48961133459313110\n",
       ":   -1.48961133459313111\n",
       ":   -1.48961133459313112\n",
       ":   -1.39480594503891113\n",
       ":   -0.866717818368685114\n",
       ":   -1.48961133459313115\n",
       ":   -0.866717818368685116\n",
       ":   -1.39480594503891117\n",
       ":   -2.01769946126336118\n",
       ":   -0.866717818368685119\n",
       ":   -1.39480594503891120\n",
       ":   -2.01769946126336121\n",
       ":   -1.48961133459313122\n",
       ":   -1.48961133459313123\n",
       ":   -0.866717818368685124\n",
       ":   -2.01769946126336125\n",
       ":   -1.48961133459313126\n",
       ":   -2.01769946126336127\n",
       ":   -2.01769946126336128\n",
       ":   -1.39480594503891129\n",
       ":   -1.48961133459313130\n",
       ":   -1.39480594503891131\n",
       ":   -0.866717818368685132\n",
       ":   -0.866717818368685133\n",
       ":   -2.01769946126336134\n",
       ":   -0.866717818368685135\n",
       ":   -2.01769946126336136\n",
       ":   -1.39480594503891137\n",
       ":   -0.866717818368685138\n",
       ":   -2.01769946126336139\n",
       ":   -1.39480594503891140\n",
       ":   -2.01769946126336141\n",
       ":   -1.48961133459313142\n",
       ":   -0.866717818368685143\n",
       ":   -2.01769946126336144\n",
       ":   -2.01769946126336145\n",
       ":   -1.39480594503891146\n",
       ":   -2.01769946126336148\n",
       ":   -2.01769946126336153\n",
       ":   -1.61908364062717154\n",
       ":   -1.61908364062717157\n",
       ":   -1.61908364062717158\n",
       ":   -1.61908364062717167\n",
       ":   -1.61908364062717173\n",
       ":   -0.821851999354799181\n",
       ":   -1.61908364062717183\n",
       ":   -1.22046781999099186\n",
       ":   -2.01769946126336188\n",
       ":   -1.61908364062717189\n",
       ":   -1.61908364062717192\n",
       ":   -0.821851999354799195\n",
       ":   -1.09099551395694198\n",
       ":   -1.61908364062717203\n",
       ":   -1.09099551395694205\n",
       ":   -0.866717818368685207\n",
       ":   -1.61908364062717209\n",
       ":   -1.22046781999099211\n",
       ":   -2.01769946126336213\n",
       ":   -1.09099551395694214\n",
       ":   -1.48961133459313215\n",
       ":   -0.866717818368685217\n",
       ":   -1.09099551395694219\n",
       ":   -1.09099551395694221\n",
       ":   -1.39480594503891223\n",
       ":   -2.01769946126336225\n",
       ":   -0.866717818368685226\n",
       ":   -1.61908364062717228\n",
       ":   -1.39480594503891230\n",
       ":   -2.01769946126336231\n",
       ":   -2.01769946126336233\n",
       ":   -2.01769946126336238\n",
       ":   -1.39480594503891239\n",
       ":   -2.01769946126336240\n",
       ":   -1.39480594503891242\n",
       ":   -0.866717818368685243\n",
       ":   -1.61908364062717246\n",
       ":   -0.821851999354799249\n",
       ":   -2.01769946126336250\n",
       ":   -1.39480594503891251\n",
       ":   -2.01769946126336252\n",
       ":   -2.01769946126336253\n",
       ":   -1.39480594503891254\n",
       ":   -2.01769946126336255\n",
       ":   -2.01769946126336256\n",
       ":   -2.01769946126336257\n",
       ":   -0.866717818368685258\n",
       ":   -0.866717818368685259\n",
       ":   -1.39480594503891260\n",
       ":   -1.39480594503891261\n",
       ":   -1.39480594503891262\n",
       ":   -1.39480594503891263\n",
       ":   -2.01769946126336264\n",
       ":   -2.01769946126336265\n",
       ":   -2.01769946126336266\n",
       ":   -2.01769946126336267\n",
       ":   -1.39480594503891268\n",
       ":   -1.39480594503891269\n",
       ":   -2.01769946126336270\n",
       ":   -2.01769946126336271\n",
       ":   -2.01769946126336272\n",
       ":   -1.39480594503891273\n",
       ":   -1.39480594503891274\n",
       ":   -2.01769946126336275\n",
       ":   -0.866717818368685276\n",
       ":   -1.39480594503891277\n",
       ":   -1.39480594503891278\n",
       ":   -2.01769946126336279\n",
       ":   -1.22046781999099280\n",
       ":   -2.01769946126336281\n",
       ":   -2.01769946126336282\n",
       ":   -2.01769946126336283\n",
       ":   -1.39480594503891284\n",
       ":   -1.48961133459313285\n",
       ":   -2.01769946126336286\n",
       ":   -2.01769946126336287\n",
       ":   -1.48961133459313288\n",
       ":   -2.01769946126336289\n",
       ":   -2.01769946126336290\n",
       ":   -1.48961133459313291\n",
       ":   -1.39480594503891292\n",
       ":   -1.48961133459313293\n",
       ":   -2.01769946126336294\n",
       ":   -1.48961133459313295\n",
       ":   -1.39480594503891296\n",
       ":   -2.01769946126336297\n",
       ":   -1.61908364062717298\n",
       ":   -1.39480594503891301\n",
       ":   -2.01769946126336303\n",
       ":   -1.61908364062717305\n",
       ":   -1.61908364062717307\n",
       ":   -1.61908364062717308\n",
       ":   -0.821851999354799311\n",
       ":   -0.29376387268457312\n",
       ":   -1.61908364062717313\n",
       ":   -1.61908364062717314\n",
       ":   -1.61908364062717315\n",
       ":   -0.468101997732499317\n",
       ":   -1.61908364062717318\n",
       ":   -1.39480594503891319\n",
       ":   -0.597574303766543320\n",
       ":   -1.09099551395694321\n",
       ":   -2.01769946126336322\n",
       ":   -1.61908364062717323\n",
       ":   -1.61908364062717324\n",
       ":   -0.996190124402729325\n",
       ":   -2.01769946126336326\n",
       ":   -1.61908364062717327\n",
       ":   -0.996190124402729329\n",
       ":   -0.468101997732499330\n",
       ":   -1.61908364062717331\n",
       ":   -1.61908364062717332\n",
       ":   -0.996190124402729333\n",
       ":   -0.866717818368685334\n",
       ":   -1.61908364062717335\n",
       ":   -1.61908364062717336\n",
       ":   -0.468101997732499337\n",
       ":   -2.01769946126336338\n",
       ":   -1.61908364062717339\n",
       ":   -0.866717818368685340\n",
       ":   -1.09099551395694341\n",
       ":   -0.996190124402729342\n",
       ":   -1.61908364062717343\n",
       ":   -1.09099551395694344\n",
       ":   -1.61908364062717345\n",
       ":   -1.61908364062717346\n",
       ":   -2.01769946126336347\n",
       ":   -1.61908364062717349\n",
       ":   -1.09099551395694350\n",
       ":   -2.01769946126336351\n",
       ":   -2.01769946126336352\n",
       ":   -2.01769946126336353\n",
       ":   -1.39480594503891354\n",
       ":   -1.61908364062717355\n",
       ":   -1.61908364062717356\n",
       ":   -0.692379693320756357\n",
       ":   -1.39480594503891358\n",
       ":   -1.61908364062717359\n",
       ":   -0.996190124402729360\n",
       ":   -0.996190124402729361\n",
       ":   -1.48961133459313362\n",
       ":   -1.09099551395694363\n",
       ":   -0.996190124402729364\n",
       ":   -2.01769946126336365\n",
       ":   -1.09099551395694366\n",
       ":   -2.01769946126336367\n",
       ":   -1.61908364062717368\n",
       ":   -0.996190124402729369\n",
       ":   -1.61908364062717370\n",
       ":   -1.09099551395694371\n",
       ":   -2.01769946126336372\n",
       ":   -2.01769946126336373\n",
       ":   -1.09099551395694374\n",
       ":   -0.468101997732499375\n",
       ":   -2.01769946126336376\n",
       ":   -1.48961133459313377\n",
       ":   -1.61908364062717378\n",
       ":   -2.01769946126336379\n",
       ":   -1.48961133459313380\n",
       ":   -1.61908364062717381\n",
       ":   -1.09099551395694382\n",
       ":   -1.48961133459313383\n",
       ":   -1.61908364062717384\n",
       ":   -0.866717818368685385\n",
       ":   -1.09099551395694386\n",
       ":   -0.468101997732499387\n",
       ":   -2.01769946126336388\n",
       ":   -1.61908364062717389\n",
       ":   -0.468101997732499390\n",
       ":   -2.01769946126336391\n",
       ":   -1.09099551395694392\n",
       ":   -1.48961133459313393\n",
       ":   -2.01769946126336394\n",
       ":   -0.996190124402729395\n",
       ":   -1.61908364062717396\n",
       ":   -1.61908364062717397\n",
       ":   -1.61908364062717398\n",
       ":   -1.61908364062717399\n",
       ":   -1.48961133459313400\n",
       ":   -2.01769946126336401\n",
       ":   -1.61908364062717402\n",
       ":   -0.468101997732499403\n",
       ":   -1.48961133459313404\n",
       ":   -1.09099551395694405\n",
       ":   -1.61908364062717406\n",
       ":   -1.61908364062717407\n",
       ":   -0.692379693320756408\n",
       ":   -0.996190124402729409\n",
       ":   -1.09099551395694410\n",
       ":   -1.48961133459313411\n",
       ":   -1.61908364062717414\n",
       ":   -1.22046781999099416\n",
       ":   -1.22046781999099417\n",
       ":   -0.597574303766543418\n",
       ":   -0.198958483130356419\n",
       ":   -2.01769946126336421\n",
       ":   -0.821851999354799423\n",
       ":   -0.996190124402729424\n",
       ":   -1.61908364062717425\n",
       ":   -1.22046781999099427\n",
       ":   -1.22046781999099432\n",
       ":   -0.821851999354799435\n",
       ":   -2.01769946126336436\n",
       ":   -0.423236178718613437\n",
       ":   -0.597574303766543438\n",
       ":   -1.61908364062717442\n",
       ":   -2.01769946126336443\n",
       ":   -1.39480594503891444\n",
       ":   -0.821851999354799446\n",
       ":   -1.22046781999099450\n",
       ":   -1.61908364062717452\n",
       ":   -1.61908364062717453\n",
       ":   -1.61908364062717454\n",
       ":   -1.22046781999099455\n",
       ":   -1.61908364062717456\n",
       ":   -1.22046781999099457\n",
       ":   -1.22046781999099461\n",
       ":   -1.61908364062717462\n",
       ":   -0.821851999354799463\n",
       ":   -2.01769946126336464\n",
       ":   -2.01769946126336465\n",
       ":   -1.48961133459313467\n",
       ":   -1.39480594503891468\n",
       ":   -2.01769946126336469\n",
       ":   -2.01769946126336470\n",
       ":   -2.01769946126336471\n",
       ":   -2.01769946126336472\n",
       ":   -1.39480594503891473\n",
       ":   -1.48961133459313474\n",
       ":   -2.01769946126336475\n",
       ":   -2.01769946126336476\n",
       ":   -2.01769946126336477\n",
       ":   -0.866717818368685478\n",
       ":   -1.48961133459313479\n",
       ":   -2.01769946126336480\n",
       ":   -2.01769946126336481\n",
       ":   -2.01769946126336482\n",
       ":   -0.866717818368685483\n",
       ":   -2.01769946126336484\n",
       ":   -2.01769946126336485\n",
       ":   -2.01769946126336486\n",
       ":   -1.39480594503891487\n",
       ":   -1.39480594503891488\n",
       ":   -2.01769946126336489\n",
       ":   -1.48961133459313490\n",
       ":   -1.48961133459313491\n",
       ":   -2.01769946126336492\n",
       ":   -1.39480594503891493\n",
       ":   -2.01769946126336494\n",
       ":   -1.39480594503891495\n",
       ":   -0.866717818368685496\n",
       ":   -2.01769946126336497\n",
       ":   -2.01769946126336498\n",
       ":   -2.01769946126336499\n",
       ":   -1.48961133459313500\n",
       ":   -1.39480594503891501\n",
       ":   -2.01769946126336502\n",
       ":   -2.01769946126336503\n",
       ":   -1.39480594503891504\n",
       ":   -1.39480594503891505\n",
       ":   -2.01769946126336506\n",
       ":   -2.01769946126336507\n",
       ":   -0.866717818368685508\n",
       ":   -1.39480594503891509\n",
       ":   -2.01769946126336510\n",
       ":   -1.48961133459313511\n",
       ":   -2.01769946126336512\n",
       ":   -2.01769946126336513\n",
       ":   -2.01769946126336514\n",
       ":   -0.198958483130356515\n",
       ":   -0.198958483130356516\n",
       ":   -0.996190124402729518\n",
       ":   -0.0694861770963129519\n",
       ":   -1.09099551395694521\n",
       ":   -1.09099551395694523\n",
       ":   -0.597574303766543524\n",
       ":   -0.821851999354799528\n",
       ":   -0.0694861770963129529\n",
       ":   -0.468101997732499531\n",
       ":   -1.39480594503891532\n",
       ":   -0.821851999354799533\n",
       ":   -1.61908364062717537\n",
       ":   -0.597574303766543538\n",
       ":   -1.22046781999099539\n",
       ":   -1.22046781999099541\n",
       ":   -0.597574303766543542\n",
       ":   -1.22046781999099543\n",
       ":   -0.692379693320756544\n",
       ":   -0.821851999354799545\n",
       ":   -0.996190124402729546\n",
       ":   -0.996190124402729547\n",
       ":   -1.22046781999099548\n",
       ":   -1.48961133459313549\n",
       ":   -2.01769946126336551\n",
       ":   -1.39480594503891552\n",
       ":   -1.09099551395694554\n",
       ":   -1.61908364062717558\n",
       ":   -1.61908364062717560\n",
       ":   -1.22046781999099563\n",
       ":   -1.61908364062717564\n",
       ":   -1.22046781999099565\n",
       ":   -0.468101997732499566\n",
       ":   -1.09099551395694567\n",
       ":   -0.597574303766543569\n",
       ":   -0.996190124402729572\n",
       ":   -0.692379693320756573\n",
       ":   -1.39480594503891574\n",
       ":   -0.597574303766543575\n",
       ":   -1.61908364062717578\n",
       ":   0.329129643539873580\n",
       ":   -1.61908364062717582\n",
       ":   -1.61908364062717583\n",
       ":   -1.39480594503891584\n",
       ":   -1.22046781999099585\n",
       ":   -1.61908364062717586\n",
       ":   -0.821851999354799587\n",
       ":   -1.61908364062717589\n",
       ":   -0.0694861770963129592\n",
       ":   -0.821851999354799594\n",
       ":   -0.821851999354799595\n",
       ":   -1.09099551395694596\n",
       ":   -1.48961133459313599\n",
       ":   -0.29376387268457601\n",
       ":   -0.597574303766543602\n",
       ":   -2.01769946126336603\n",
       ":   -1.22046781999099605\n",
       ":   -1.09099551395694606\n",
       ":   -0.468101997732499611\n",
       ":   -1.61908364062717616\n",
       ":   -0.821851999354799628\n",
       ":   -0.597574303766543629\n",
       ":   -0.468101997732499630\n",
       ":   -1.61908364062717634\n",
       ":   -0.468101997732499637\n",
       ":   -0.468101997732499638\n",
       ":   -1.09099551395694640\n",
       ":   -1.48961133459313642\n",
       ":   -2.01769946126336643\n",
       ":   -0.0694861770963129644\n",
       ":   -1.61908364062717645\n",
       ":   -1.61908364062717646\n",
       ":   -1.39480594503891648\n",
       ":   -2.01769946126336649\n",
       ":   -2.01769946126336650\n",
       ":   -1.22046781999099651\n",
       ":   -0.821851999354799652\n",
       ":   -2.01769946126336656\n",
       ":   -1.61908364062717659\n",
       ":   -1.22046781999099665\n",
       ":   -0.821851999354799666\n",
       ":   -1.61908364062717667\n",
       ":   -1.22046781999099670\n",
       ":   -2.01769946126336671\n",
       ":   -1.61908364062717675\n",
       ":   -0.597574303766543678\n",
       ":   0.19965733750583679\n",
       ":   -1.48961133459313680\n",
       ":   -1.22046781999099681\n",
       ":   -1.22046781999099684\n",
       ":   -2.01769946126336689\n",
       ":   -0.597574303766543700\n",
       ":   -1.39480594503891701\n",
       ":   -2.01769946126336703\n",
       ":   -1.48961133459313704\n",
       ":   -1.22046781999099705\n",
       ":   -1.61908364062717706\n",
       ":   -1.61908364062717707\n",
       ":   -0.996190124402729708\n",
       ":   -0.996190124402729709\n",
       ":   -1.61908364062717710\n",
       ":   -1.39480594503891711\n",
       ":   -2.01769946126336712\n",
       ":   -2.01769946126336713\n",
       ":   -2.01769946126336714\n",
       ":   -2.01769946126336715\n",
       ":   -1.39480594503891716\n",
       ":   -2.01769946126336717\n",
       ":   -2.01769946126336718\n",
       ":   -1.39480594503891719\n",
       ":   -1.39480594503891720\n",
       ":   -2.01769946126336721\n",
       ":   -2.01769946126336722\n",
       ":   -2.01769946126336723\n",
       ":   -2.01769946126336724\n",
       ":   -1.48961133459313726\n",
       ":   -0.866717818368685727\n",
       ":   -2.01769946126336728\n",
       ":   -2.01769946126336729\n",
       ":   -1.39480594503891730\n",
       ":   -2.01769946126336731\n",
       ":   -1.39480594503891732\n",
       ":   -2.01769946126336733\n",
       ":   -2.01769946126336734\n",
       ":   -2.01769946126336735\n",
       ":   -2.01769946126336736\n",
       ":   -2.01769946126336737\n",
       ":   -2.01769946126336738\n",
       ":   -2.01769946126336739\n",
       ":   -2.01769946126336740\n",
       ":   -2.01769946126336741\n",
       ":   -2.01769946126336742\n",
       ":   -1.39480594503891743\n",
       ":   -1.39480594503891744\n",
       ":   -1.39480594503891745\n",
       ":   -2.01769946126336746\n",
       ":   -2.01769946126336747\n",
       ":   -1.48961133459313748\n",
       ":   -2.01769946126336749\n",
       ":   -2.01769946126336750\n",
       ":   -1.61908364062717751\n",
       ":   -1.61908364062717752\n",
       ":   -1.61908364062717753\n",
       ":   -1.39480594503891754\n",
       ":   -1.61908364062717755\n",
       ":   -2.01769946126336756\n",
       ":   -1.61908364062717757\n",
       ":   -0.468101997732499758\n",
       ":   -0.692379693320756759\n",
       ":   -1.22046781999099760\n",
       ":   -0.597574303766543761\n",
       ":   -1.61908364062717762\n",
       ":   -1.61908364062717763\n",
       ":   -1.61908364062717764\n",
       ":   -1.22046781999099765\n",
       ":   -1.61908364062717766\n",
       ":   -1.09099551395694767\n",
       ":   -0.996190124402729768\n",
       ":   -0.996190124402729769\n",
       ":   -1.61908364062717770\n",
       ":   -1.09099551395694771\n",
       ":   -0.468101997732499772\n",
       ":   -1.22046781999099773\n",
       ":   -1.48961133459313774\n",
       ":   -0.468101997732499775\n",
       ":   -1.09099551395694776\n",
       ":   -1.61908364062717777\n",
       ":   -1.61908364062717778\n",
       ":   -1.09099551395694779\n",
       ":   -1.09099551395694780\n",
       ":   -2.01769946126336781\n",
       ":   -2.01769946126336782\n",
       ":   -0.468101997732499783\n",
       ":   -1.61908364062717784\n",
       ":   -1.48961133459313785\n",
       ":   -1.61908364062717786\n",
       ":   -1.09099551395694787\n",
       ":   -2.01769946126336788\n",
       ":   -2.01769946126336789\n",
       ":   -2.01769946126336790\n",
       ":   -1.39480594503891791\n",
       ":   -1.09099551395694792\n",
       ":   -0.866717818368685793\n",
       ":   -2.01769946126336794\n",
       ":   -0.996190124402729795\n",
       ":   -2.01769946126336796\n",
       ":   -1.09099551395694797\n",
       ":   -1.61908364062717798\n",
       ":   -2.01769946126336799\n",
       ":   -0.996190124402729\n",
       "\n"
      ],
      "text/plain": [
       "          1           3           5           8           9          13 \n",
       "-1.61908364 -2.01769946 -1.09099551 -2.01769946 -0.46810200 -1.61908364 \n",
       "         14          16          17          20          22          23 \n",
       "-1.61908364 -0.99619012 -1.39480595 -2.01769946 -0.82185200 -0.99619012 \n",
       "         25          28          32          33          34          35 \n",
       "-1.61908364 -2.01769946 -1.22046782 -1.61908364 -2.01769946 -1.39480595 \n",
       "         38          40          41          42          44          45 \n",
       "-1.48961133 -1.61908364 -0.99619012 -0.69237969 -1.22046782 -2.01769946 \n",
       "         48          49          50          51          52          53 \n",
       "-1.22046782 -0.86671782 -1.22046782 -1.09099551 -0.59757430 -1.22046782 \n",
       "         54          55          63          66          67          71 \n",
       "-0.59757430 -0.82185200 -1.22046782 -0.59757430 -1.61908364 -1.61908364 \n",
       "         77          89          95          96          97          98 \n",
       "-2.01769946 -2.01769946 -1.48961133 -2.01769946 -1.61908364 -1.61908364 \n",
       "         99         100         101         102         103         104 \n",
       "-2.01769946 -0.86671782 -2.01769946 -1.39480595 -2.01769946 -2.01769946 \n",
       "        105         106         107         108         109         110 \n",
       "-1.48961133 -2.01769946 -1.48961133 -1.39480595 -1.48961133 -1.48961133 \n",
       "        111         112         113         114         115         116 \n",
       "-1.48961133 -1.39480595 -0.86671782 -1.48961133 -0.86671782 -1.39480595 \n",
       "        117         118         119         120         121         122 \n",
       "-2.01769946 -0.86671782 -1.39480595 -2.01769946 -1.48961133 -1.48961133 \n",
       "        123         124         125         126         127         128 \n",
       "-0.86671782 -2.01769946 -1.48961133 -2.01769946 -2.01769946 -1.39480595 \n",
       "        129         130         131         132         133         134 \n",
       "-1.48961133 -1.39480595 -0.86671782 -0.86671782 -2.01769946 -0.86671782 \n",
       "        135         136         137         138         139         140 \n",
       "-2.01769946 -1.39480595 -0.86671782 -2.01769946 -1.39480595 -2.01769946 \n",
       "        141         142         143         144         145         146 \n",
       "-1.48961133 -0.86671782 -2.01769946 -2.01769946 -1.39480595 -2.01769946 \n",
       "        148         153         154         157         158         167 \n",
       "-2.01769946 -1.61908364 -1.61908364 -1.61908364 -1.61908364 -1.61908364 \n",
       "        173         181         183         186         188         189 \n",
       "-0.82185200 -1.61908364 -1.22046782 -2.01769946 -1.61908364 -1.61908364 \n",
       "        192         195         198         203         205         207 \n",
       "-0.82185200 -1.09099551 -1.61908364 -1.09099551 -0.86671782 -1.61908364 \n",
       "        209         211         213         214         215         217 \n",
       "-1.22046782 -2.01769946 -1.09099551 -1.48961133 -0.86671782 -1.09099551 \n",
       "        219         221         223         225         226         228 \n",
       "-1.09099551 -1.39480595 -2.01769946 -0.86671782 -1.61908364 -1.39480595 \n",
       "        230         231         233         238         239         240 \n",
       "-2.01769946 -2.01769946 -2.01769946 -1.39480595 -2.01769946 -1.39480595 \n",
       "        242         243         246         249         250         251 \n",
       "-0.86671782 -1.61908364 -0.82185200 -2.01769946 -1.39480595 -2.01769946 \n",
       "        252         253         254         255         256         257 \n",
       "-2.01769946 -1.39480595 -2.01769946 -2.01769946 -2.01769946 -0.86671782 \n",
       "        258         259         260         261         262         263 \n",
       "-0.86671782 -1.39480595 -1.39480595 -1.39480595 -1.39480595 -2.01769946 \n",
       "        264         265         266         267         268         269 \n",
       "-2.01769946 -2.01769946 -2.01769946 -1.39480595 -1.39480595 -2.01769946 \n",
       "        270         271         272         273         274         275 \n",
       "-2.01769946 -2.01769946 -1.39480595 -1.39480595 -2.01769946 -0.86671782 \n",
       "        276         277         278         279         280         281 \n",
       "-1.39480595 -1.39480595 -2.01769946 -1.22046782 -2.01769946 -2.01769946 \n",
       "        282         283         284         285         286         287 \n",
       "-2.01769946 -1.39480595 -1.48961133 -2.01769946 -2.01769946 -1.48961133 \n",
       "        288         289         290         291         292         293 \n",
       "-2.01769946 -2.01769946 -1.48961133 -1.39480595 -1.48961133 -2.01769946 \n",
       "        294         295         296         297         298         301 \n",
       "-1.48961133 -1.39480595 -2.01769946 -1.61908364 -1.39480595 -2.01769946 \n",
       "        303         305         307         308         311         312 \n",
       "-1.61908364 -1.61908364 -1.61908364 -0.82185200 -0.29376387 -1.61908364 \n",
       "        313         314         315         317         318         319 \n",
       "-1.61908364 -1.61908364 -0.46810200 -1.61908364 -1.39480595 -0.59757430 \n",
       "        320         321         322         323         324         325 \n",
       "-1.09099551 -2.01769946 -1.61908364 -1.61908364 -0.99619012 -2.01769946 \n",
       "        326         327         329         330         331         332 \n",
       "-1.61908364 -0.99619012 -0.46810200 -1.61908364 -1.61908364 -0.99619012 \n",
       "        333         334         335         336         337         338 \n",
       "-0.86671782 -1.61908364 -1.61908364 -0.46810200 -2.01769946 -1.61908364 \n",
       "        339         340         341         342         343         344 \n",
       "-0.86671782 -1.09099551 -0.99619012 -1.61908364 -1.09099551 -1.61908364 \n",
       "        345         346         347         349         350         351 \n",
       "-1.61908364 -2.01769946 -1.61908364 -1.09099551 -2.01769946 -2.01769946 \n",
       "        352         353         354         355         356         357 \n",
       "-2.01769946 -1.39480595 -1.61908364 -1.61908364 -0.69237969 -1.39480595 \n",
       "        358         359         360         361         362         363 \n",
       "-1.61908364 -0.99619012 -0.99619012 -1.48961133 -1.09099551 -0.99619012 \n",
       "        364         365         366         367         368         369 \n",
       "-2.01769946 -1.09099551 -2.01769946 -1.61908364 -0.99619012 -1.61908364 \n",
       "        370         371         372         373         374         375 \n",
       "-1.09099551 -2.01769946 -2.01769946 -1.09099551 -0.46810200 -2.01769946 \n",
       "        376         377         378         379         380         381 \n",
       "-1.48961133 -1.61908364 -2.01769946 -1.48961133 -1.61908364 -1.09099551 \n",
       "        382         383         384         385         386         387 \n",
       "-1.48961133 -1.61908364 -0.86671782 -1.09099551 -0.46810200 -2.01769946 \n",
       "        388         389         390         391         392         393 \n",
       "-1.61908364 -0.46810200 -2.01769946 -1.09099551 -1.48961133 -2.01769946 \n",
       "        394         395         396         397         398         399 \n",
       "-0.99619012 -1.61908364 -1.61908364 -1.61908364 -1.61908364 -1.48961133 \n",
       "        400         401         402         403         404         405 \n",
       "-2.01769946 -1.61908364 -0.46810200 -1.48961133 -1.09099551 -1.61908364 \n",
       "        406         407         408         409         410         411 \n",
       "-1.61908364 -0.69237969 -0.99619012 -1.09099551 -1.48961133 -1.61908364 \n",
       "        414         416         417         418         419         421 \n",
       "-1.22046782 -1.22046782 -0.59757430 -0.19895848 -2.01769946 -0.82185200 \n",
       "        423         424         425         427         432         435 \n",
       "-0.99619012 -1.61908364 -1.22046782 -1.22046782 -0.82185200 -2.01769946 \n",
       "        436         437         438         442         443         444 \n",
       "-0.42323618 -0.59757430 -1.61908364 -2.01769946 -1.39480595 -0.82185200 \n",
       "        446         450         452         453         454         455 \n",
       "-1.22046782 -1.61908364 -1.61908364 -1.61908364 -1.22046782 -1.61908364 \n",
       "        456         457         461         462         463         464 \n",
       "-1.22046782 -1.22046782 -1.61908364 -0.82185200 -2.01769946 -2.01769946 \n",
       "        465         467         468         469         470         471 \n",
       "-1.48961133 -1.39480595 -2.01769946 -2.01769946 -2.01769946 -2.01769946 \n",
       "        472         473         474         475         476         477 \n",
       "-1.39480595 -1.48961133 -2.01769946 -2.01769946 -2.01769946 -0.86671782 \n",
       "        478         479         480         481         482         483 \n",
       "-1.48961133 -2.01769946 -2.01769946 -2.01769946 -0.86671782 -2.01769946 \n",
       "        484         485         486         487         488         489 \n",
       "-2.01769946 -2.01769946 -1.39480595 -1.39480595 -2.01769946 -1.48961133 \n",
       "        490         491         492         493         494         495 \n",
       "-1.48961133 -2.01769946 -1.39480595 -2.01769946 -1.39480595 -0.86671782 \n",
       "        496         497         498         499         500         501 \n",
       "-2.01769946 -2.01769946 -2.01769946 -1.48961133 -1.39480595 -2.01769946 \n",
       "        502         503         504         505         506         507 \n",
       "-2.01769946 -1.39480595 -1.39480595 -2.01769946 -2.01769946 -0.86671782 \n",
       "        508         509         510         511         512         513 \n",
       "-1.39480595 -2.01769946 -1.48961133 -2.01769946 -2.01769946 -2.01769946 \n",
       "        514         515         516         518         519         521 \n",
       "-0.19895848 -0.19895848 -0.99619012 -0.06948618 -1.09099551 -1.09099551 \n",
       "        523         524         528         529         531         532 \n",
       "-0.59757430 -0.82185200 -0.06948618 -0.46810200 -1.39480595 -0.82185200 \n",
       "        533         537         538         539         541         542 \n",
       "-1.61908364 -0.59757430 -1.22046782 -1.22046782 -0.59757430 -1.22046782 \n",
       "        543         544         545         546         547         548 \n",
       "-0.69237969 -0.82185200 -0.99619012 -0.99619012 -1.22046782 -1.48961133 \n",
       "        549         551         552         554         558         560 \n",
       "-2.01769946 -1.39480595 -1.09099551 -1.61908364 -1.61908364 -1.22046782 \n",
       "        563         564         565         566         567         569 \n",
       "-1.61908364 -1.22046782 -0.46810200 -1.09099551 -0.59757430 -0.99619012 \n",
       "        572         573         574         575         578         580 \n",
       "-0.69237969 -1.39480595 -0.59757430 -1.61908364  0.32912964 -1.61908364 \n",
       "        582         583         584         585         586         587 \n",
       "-1.61908364 -1.39480595 -1.22046782 -1.61908364 -0.82185200 -1.61908364 \n",
       "        589         592         594         595         596         599 \n",
       "-0.06948618 -0.82185200 -0.82185200 -1.09099551 -1.48961133 -0.29376387 \n",
       "        601         602         603         605         606         611 \n",
       "-0.59757430 -2.01769946 -1.22046782 -1.09099551 -0.46810200 -1.61908364 \n",
       "        616         628         629         630         634         637 \n",
       "-0.82185200 -0.59757430 -0.46810200 -1.61908364 -0.46810200 -0.46810200 \n",
       "        638         640         642         643         644         645 \n",
       "-1.09099551 -1.48961133 -2.01769946 -0.06948618 -1.61908364 -1.61908364 \n",
       "        646         648         649         650         651         652 \n",
       "-1.39480595 -2.01769946 -2.01769946 -1.22046782 -0.82185200 -2.01769946 \n",
       "        656         659         665         666         667         670 \n",
       "-1.61908364 -1.22046782 -0.82185200 -1.61908364 -1.22046782 -2.01769946 \n",
       "        671         675         678         679         680         681 \n",
       "-1.61908364 -0.59757430  0.19965734 -1.48961133 -1.22046782 -1.22046782 \n",
       "        684         689         700         701         703         704 \n",
       "-2.01769946 -0.59757430 -1.39480595 -2.01769946 -1.48961133 -1.22046782 \n",
       "        705         706         707         708         709         710 \n",
       "-1.61908364 -1.61908364 -0.99619012 -0.99619012 -1.61908364 -1.39480595 \n",
       "        711         712         713         714         715         716 \n",
       "-2.01769946 -2.01769946 -2.01769946 -2.01769946 -1.39480595 -2.01769946 \n",
       "        717         718         719         720         721         722 \n",
       "-2.01769946 -1.39480595 -1.39480595 -2.01769946 -2.01769946 -2.01769946 \n",
       "        723         724         726         727         728         729 \n",
       "-2.01769946 -1.48961133 -0.86671782 -2.01769946 -2.01769946 -1.39480595 \n",
       "        730         731         732         733         734         735 \n",
       "-2.01769946 -1.39480595 -2.01769946 -2.01769946 -2.01769946 -2.01769946 \n",
       "        736         737         738         739         740         741 \n",
       "-2.01769946 -2.01769946 -2.01769946 -2.01769946 -2.01769946 -2.01769946 \n",
       "        742         743         744         745         746         747 \n",
       "-1.39480595 -1.39480595 -1.39480595 -2.01769946 -2.01769946 -1.48961133 \n",
       "        748         749         750         751         752         753 \n",
       "-2.01769946 -2.01769946 -1.61908364 -1.61908364 -1.61908364 -1.39480595 \n",
       "        754         755         756         757         758         759 \n",
       "-1.61908364 -2.01769946 -1.61908364 -0.46810200 -0.69237969 -1.22046782 \n",
       "        760         761         762         763         764         765 \n",
       "-0.59757430 -1.61908364 -1.61908364 -1.61908364 -1.22046782 -1.61908364 \n",
       "        766         767         768         769         770         771 \n",
       "-1.09099551 -0.99619012 -0.99619012 -1.61908364 -1.09099551 -0.46810200 \n",
       "        772         773         774         775         776         777 \n",
       "-1.22046782 -1.48961133 -0.46810200 -1.09099551 -1.61908364 -1.61908364 \n",
       "        778         779         780         781         782         783 \n",
       "-1.09099551 -1.09099551 -2.01769946 -2.01769946 -0.46810200 -1.61908364 \n",
       "        784         785         786         787         788         789 \n",
       "-1.48961133 -1.61908364 -1.09099551 -2.01769946 -2.01769946 -2.01769946 \n",
       "        790         791         792         793         794         795 \n",
       "-1.39480595 -1.09099551 -0.86671782 -2.01769946 -0.99619012 -2.01769946 \n",
       "        796         797         798         799 \n",
       "-1.09099551 -1.61908364 -2.01769946 -0.99619012 "
      ]
     },
     "metadata": {},
     "output_type": "display_data"
    }
   ],
   "source": [
    "predict(model2)"
   ]
  },
  {
   "cell_type": "code",
   "execution_count": 34,
   "metadata": {},
   "outputs": [],
   "source": [
    "help(predict.glm)"
   ]
  },
  {
   "cell_type": "markdown",
   "metadata": {},
   "source": [
    "<h2 align=\"center\">Quiz Exercice 04</h2>"
   ]
  },
  {
   "cell_type": "code",
   "execution_count": 31,
   "metadata": {},
   "outputs": [
    {
     "data": {
      "text/html": [
       "<ol class=list-inline>\n",
       "\t<li>799</li>\n",
       "\t<li>26</li>\n",
       "</ol>\n"
      ],
      "text/latex": [
       "\\begin{enumerate*}\n",
       "\\item 799\n",
       "\\item 26\n",
       "\\end{enumerate*}\n"
      ],
      "text/markdown": [
       "1. 799\n",
       "2. 26\n",
       "\n",
       "\n"
      ],
      "text/plain": [
       "[1] 799  26"
      ]
     },
     "metadata": {},
     "output_type": "display_data"
    }
   ],
   "source": [
    "# chargement de la data set\n",
    "smp <- read.csv2(\"smp2.csv\")\n",
    "dim(smp)"
   ]
  },
  {
   "cell_type": "code",
   "execution_count": 57,
   "metadata": {},
   "outputs": [
    {
     "data": {
      "text/html": [
       "<table>\n",
       "<thead><tr><th></th><th scope=col>age</th><th scope=col>n.enfant</th><th scope=col>prof</th></tr></thead>\n",
       "<tbody>\n",
       "\t<tr><th scope=row>89</th><td>37         </td><td> 4         </td><td>ouvrier    </td></tr>\n",
       "\t<tr><th scope=row>119</th><td>46         </td><td> 5         </td><td>ouvrier    </td></tr>\n",
       "\t<tr><th scope=row>127</th><td>50         </td><td>10         </td><td>ouvrier    </td></tr>\n",
       "\t<tr><th scope=row>128</th><td>53         </td><td> 4         </td><td>sans emploi</td></tr>\n",
       "\t<tr><th scope=row>146</th><td>49         </td><td>11         </td><td>ouvrier    </td></tr>\n",
       "\t<tr><th scope=row>158</th><td>42         </td><td> 4         </td><td>ouvrier    </td></tr>\n",
       "</tbody>\n",
       "</table>\n"
      ],
      "text/latex": [
       "\\begin{tabular}{r|lll}\n",
       "  & age & n.enfant & prof\\\\\n",
       "\\hline\n",
       "\t89 & 37          &  4          & ouvrier    \\\\\n",
       "\t119 & 46          &  5          & ouvrier    \\\\\n",
       "\t127 & 50          & 10          & ouvrier    \\\\\n",
       "\t128 & 53          &  4          & sans emploi\\\\\n",
       "\t146 & 49          & 11          & ouvrier    \\\\\n",
       "\t158 & 42          &  4          & ouvrier    \\\\\n",
       "\\end{tabular}\n"
      ],
      "text/markdown": [
       "\n",
       "| <!--/--> | age | n.enfant | prof |\n",
       "|---|---|---|---|\n",
       "| 89 | 37          |  4          | ouvrier     |\n",
       "| 119 | 46          |  5          | ouvrier     |\n",
       "| 127 | 50          | 10          | ouvrier     |\n",
       "| 128 | 53          |  4          | sans emploi |\n",
       "| 146 | 49          | 11          | ouvrier     |\n",
       "| 158 | 42          |  4          | ouvrier     |\n",
       "\n"
      ],
      "text/plain": [
       "    age n.enfant prof       \n",
       "89  37   4       ouvrier    \n",
       "119 46   5       ouvrier    \n",
       "127 50  10       ouvrier    \n",
       "128 53   4       sans emploi\n",
       "146 49  11       ouvrier    \n",
       "158 42   4       ouvrier    "
      ]
     },
     "metadata": {},
     "output_type": "display_data"
    },
    {
     "data": {
      "text/html": [
       "<ol class=list-inline>\n",
       "\t<li>74</li>\n",
       "\t<li>3</li>\n",
       "</ol>\n"
      ],
      "text/latex": [
       "\\begin{enumerate*}\n",
       "\\item 74\n",
       "\\item 3\n",
       "\\end{enumerate*}\n"
      ],
      "text/markdown": [
       "1. 74\n",
       "2. 3\n",
       "\n",
       "\n"
      ],
      "text/plain": [
       "[1] 74  3"
      ]
     },
     "metadata": {},
     "output_type": "display_data"
    }
   ],
   "source": [
    "# Question 4\n",
    "q4 <- subset(smp, n.enfant>=4 & (prof==\"sans emploi\"|prof==\"ouvrier\"|prof==\"cadre\"|prof==\"employé\"), c(age, n.enfant, prof))\n",
    "head(q4)\n",
    "dim(q4)"
   ]
  },
  {
   "cell_type": "code",
   "execution_count": 58,
   "metadata": {
    "scrolled": true
   },
   "outputs": [
    {
     "data": {
      "text/plain": [
       "q4$prof: agriculteur\n",
       "[1] NA\n",
       "------------------------------------------------------------ \n",
       "q4$prof: artisan\n",
       "[1] NA\n",
       "------------------------------------------------------------ \n",
       "q4$prof: autre\n",
       "[1] NA\n",
       "------------------------------------------------------------ \n",
       "q4$prof: cadre\n",
       "[1] 158\n",
       "------------------------------------------------------------ \n",
       "q4$prof: employé\n",
       "[1] 135.7167\n",
       "------------------------------------------------------------ \n",
       "q4$prof: ouvrier\n",
       "[1] 88.22619\n",
       "------------------------------------------------------------ \n",
       "q4$prof: prof.intermédiaire\n",
       "[1] NA\n",
       "------------------------------------------------------------ \n",
       "q4$prof: sans emploi\n",
       "[1] 281.2262"
      ]
     },
     "metadata": {},
     "output_type": "display_data"
    }
   ],
   "source": [
    "by(q4$age, q4$prof, var, na.rm=TRUE)"
   ]
  },
  {
   "cell_type": "code",
   "execution_count": 59,
   "metadata": {},
   "outputs": [
    {
     "data": {
      "text/plain": [
       "\n",
       "       agriculteur            artisan              autre              cadre \n",
       "                 0                  0                  0                  4 \n",
       "           employé            ouvrier prof.intermédiaire        sans emploi \n",
       "                16                 28                  0                 26 "
      ]
     },
     "metadata": {},
     "output_type": "display_data"
    }
   ],
   "source": [
    "table(q4$prof)"
   ]
  },
  {
   "cell_type": "code",
   "execution_count": 60,
   "metadata": {},
   "outputs": [
    {
     "data": {
      "text/plain": [
       "   Min. 1st Qu.  Median    Mean 3rd Qu.    Max. \n",
       "  4.000   4.000   5.000   5.243   5.000  13.000 "
      ]
     },
     "metadata": {},
     "output_type": "display_data"
    }
   ],
   "source": [
    "summary(q4$n.enfant)"
   ]
  },
  {
   "cell_type": "code",
   "execution_count": 61,
   "metadata": {},
   "outputs": [
    {
     "data": {
      "text/html": [
       "1.77991265822785"
      ],
      "text/latex": [
       "1.77991265822785"
      ],
      "text/markdown": [
       "1.77991265822785"
      ],
      "text/plain": [
       "[1] 1.779913"
      ]
     },
     "metadata": {},
     "output_type": "display_data"
    }
   ],
   "source": [
    "281.2262/158\n",
    "# La réponse à la question 4 est que le rapport est suppérieur à 4"
   ]
  },
  {
   "cell_type": "code",
   "execution_count": 64,
   "metadata": {},
   "outputs": [
    {
     "name": "stdout",
     "output_type": "stream",
     "text": [
      "'data.frame':\t799 obs. of  26 variables:\n",
      " $ age         : int  31 49 50 47 23 34 24 52 42 45 ...\n",
      " $ prof        : Factor w/ 8 levels \"agriculteur\",..: 3 NA 7 6 8 6 3 2 6 6 ...\n",
      " $ duree       : int  4 NA 5 NA 4 NA NA 5 4 NA ...\n",
      " $ discip      : Factor w/ 2 levels \"0\",\"1\": 1 1 1 1 2 1 1 1 2 1 ...\n",
      " $ n.enfant    : int  2 7 2 0 1 3 5 2 1 2 ...\n",
      " $ n.fratrie   : int  4 3 2 6 6 2 3 9 12 5 ...\n",
      " $ ecole       : Factor w/ 5 levels \"1\",\"2\",\"3\",\"4\",..: 1 2 2 1 1 2 1 2 1 2 ...\n",
      " $ separation  : Factor w/ 2 levels \"0\",\"1\": 1 2 1 2 2 1 2 1 2 1 ...\n",
      " $ juge.enfant : Factor w/ 2 levels \"0\",\"1\": 1 1 1 1 NA 1 2 1 2 1 ...\n",
      " $ place       : Factor w/ 2 levels \"0\",\"1\": 1 1 1 2 2 1 2 1 1 1 ...\n",
      " $ abus        : Factor w/ 2 levels \"0\",\"1\": 1 1 1 1 1 1 1 1 2 2 ...\n",
      " $ grav.cons   : int  1 2 2 1 2 1 5 1 5 5 ...\n",
      " $ dep.cons    : Factor w/ 2 levels \"0\",\"1\": 1 1 1 1 2 1 2 1 2 1 ...\n",
      " $ ago.cons    : Factor w/ 2 levels \"0\",\"1\": 2 1 1 1 1 1 1 1 1 1 ...\n",
      " $ ptsd.cons   : Factor w/ 2 levels \"0\",\"1\": 1 1 1 1 1 1 1 1 1 1 ...\n",
      " $ alc.cons    : Factor w/ 2 levels \"0\",\"1\": 1 1 1 1 1 1 1 1 2 2 ...\n",
      " $ subst.cons  : Factor w/ 2 levels \"0\",\"1\": 1 1 1 1 1 1 2 1 2 1 ...\n",
      " $ scz.cons    : Factor w/ 2 levels \"0\",\"1\": 1 1 1 1 1 1 1 1 1 1 ...\n",
      " $ char        : Factor w/ 4 levels \"1\",\"2\",\"3\",\"4\": 1 1 1 1 1 1 1 1 4 1 ...\n",
      " $ rs          : Factor w/ 3 levels \"1\",\"2\",\"3\": 2 2 2 2 2 1 3 2 3 2 ...\n",
      " $ ed          : Factor w/ 3 levels \"1\",\"2\",\"3\": 1 2 3 2 2 2 3 2 3 2 ...\n",
      " $ dr          : Factor w/ 3 levels \"1\",\"2\",\"3\": 1 1 2 2 2 1 2 2 1 2 ...\n",
      " $ suicide.s   : Factor w/ 6 levels \"0\",\"1\",\"2\",\"3\",..: 1 1 1 2 1 1 4 1 5 1 ...\n",
      " $ suicide.hr  : Factor w/ 2 levels \"0\",\"1\": 1 1 1 1 1 1 2 1 2 1 ...\n",
      " $ suicide.past: Factor w/ 2 levels \"0\",\"1\": 1 1 1 1 2 1 2 1 2 1 ...\n",
      " $ dur.interv  : int  NA 70 NA 105 NA NA 105 84 78 60 ...\n"
     ]
    }
   ],
   "source": [
    "# CONVERSION DES VARIABLES QUALITATIVES DE LA BASE\n",
    "varcat <- c(\"discip\",\"ecole\",\"separation\",\"juge.enfant\",\"place\",\"abus\",\"dep.cons\",\"ago.cons\",\"ptsd.cons\",\"alc.cons\",\n",
    "            \"subst.cons\",\"scz.cons\",\"char\",\"rs\",\"ed\",\"dr\",\"suicide.s\",\"suicide.hr\",\"suicide.past\")\n",
    "smp[varcat] <- lapply(smp[varcat], factor)\n",
    "str(smp)"
   ]
  },
  {
   "cell_type": "code",
   "execution_count": 66,
   "metadata": {},
   "outputs": [
    {
     "name": "stdout",
     "output_type": "stream",
     "text": [
      "Description of smp \n"
     ]
    },
    {
     "data": {
      "text/plain": [
       "\n",
       " Numeric \n",
       "            mean median    var    sd valid.n\n",
       "age        38.90     37 176.38 13.28     797\n",
       "duree       4.30      5   0.75  0.87     576\n",
       "n.enfant    1.76      1   3.36  1.83     773\n",
       "n.fratrie   4.29      3  11.84  3.44     799\n",
       "grav.cons   3.64      4   2.73  1.65     795\n",
       "dur.interv 61.89     60 386.89 19.67     749\n",
       "\n",
       " Factor \n",
       "         \n",
       "prof      ouvrier sans emploi employé artisan prof.intermédiaire autre cadre\n",
       "  Count    227.00      222.00   135.0   90.00              58.00 31.00    24\n",
       "  Percent   28.41       27.78    16.9   11.26               7.26  3.88     3\n",
       "         \n",
       "prof      agriculteur <NA>\n",
       "  Count          6.00 6.00\n",
       "  Percent        0.75 0.75\n",
       "Mode ouvrier \n",
       "         \n",
       "discip         0      1 <NA>\n",
       "  Count   609.00 184.00 6.00\n",
       "  Percent  76.22  23.03 0.75\n",
       "Mode 0 \n",
       "         \n",
       "ecole          1      2     3     4     5 <NA>\n",
       "  Count   340.00 301.00 90.00 45.00 18.00 5.00\n",
       "  Percent  42.55  37.67 11.26  5.63  2.25 0.63\n",
       "Mode 1 \n",
       "          \n",
       "separation      0      1  <NA>\n",
       "   Count   455.00 333.00 11.00\n",
       "   Percent  56.95  41.68  1.38\n",
       "Mode 0 \n",
       "           \n",
       "juge.enfant      0      1 <NA>\n",
       "    Count   574.00 220.00 5.00\n",
       "    Percent  71.84  27.53 0.63\n",
       "Mode 0 \n",
       "         \n",
       "place          0      1 <NA>\n",
       "  Count   611.00 181.00 7.00\n",
       "  Percent  76.47  22.65 0.88\n",
       "Mode 0 \n",
       "         \n",
       "abus           0      1 <NA>\n",
       "  Count   572.00 220.00 7.00\n",
       "  Percent  71.59  27.53 0.88\n",
       "Mode 0 \n",
       "         \n",
       "dep.cons       0      1\n",
       "  Count   482.00 317.00\n",
       "  Percent  60.33  39.67\n",
       "Mode 0 \n",
       "         \n",
       "ago.cons       0      1\n",
       "  Count   666.00 133.00\n",
       "  Percent  83.35  16.65\n",
       "Mode 0 \n",
       "         \n",
       "ptsd.cons      0      1\n",
       "  Count   626.00 173.00\n",
       "  Percent  78.35  21.65\n",
       "Mode 0 \n",
       "         \n",
       "alc.cons       0      1\n",
       "  Count   650.00 149.00\n",
       "  Percent  81.35  18.65\n",
       "Mode 0 \n",
       "          \n",
       "subst.cons      0      1\n",
       "   Count   587.00 212.00\n",
       "   Percent  73.47  26.53\n",
       "Mode 0 \n",
       "         \n",
       "scz.cons       0     1\n",
       "  Count   733.00 66.00\n",
       "  Percent  91.74  8.26\n",
       "Mode 0 \n",
       "         \n",
       "char           1      2  <NA>     3     4\n",
       "  Count   480.00 117.00 96.00 75.00 31.00\n",
       "  Percent  60.08  14.64 12.02  9.39  3.88\n",
       "Mode 1 \n",
       "         \n",
       "rs             3      1      2   <NA>\n",
       "  Count   289.00 249.00 158.00 103.00\n",
       "  Percent  36.17  31.16  19.77  12.89\n",
       "Mode 3 \n",
       "         \n",
       "ed             1      3     2   <NA>\n",
       "  Count   315.00 222.00 155.0 107.00\n",
       "  Percent  39.42  27.78  19.4  13.39\n",
       "Mode 1 \n",
       "         \n",
       "dr             3      2      1   <NA>\n",
       "  Count   297.00 199.00 192.00 111.00\n",
       "  Percent  37.17  24.91  24.03  13.89\n",
       "Mode 3 \n",
       "         \n",
       "suicide.s      0     1     4     3  <NA>     2     5\n",
       "  Count   534.00 66.00 51.00 49.00 41.00 35.00 23.00\n",
       "  Percent  66.83  8.26  6.38  6.13  5.13  4.38  2.88\n",
       "Mode 0 \n",
       "          \n",
       "suicide.hr      0      1  <NA>\n",
       "   Count   607.00 153.00 39.00\n",
       "   Percent  75.97  19.15  4.88\n",
       "Mode 0 \n",
       "            \n",
       "suicide.past      0      1  <NA>\n",
       "     Count   562.00 223.00 14.00\n",
       "     Percent  70.34  27.91  1.75\n",
       "Mode 0 "
      ]
     },
     "metadata": {},
     "output_type": "display_data"
    }
   ],
   "source": [
    "describe(smp)"
   ]
  },
  {
   "cell_type": "code",
   "execution_count": 65,
   "metadata": {},
   "outputs": [
    {
     "data": {
      "text/plain": [
       "\n",
       "Call:\n",
       "glm(formula = separation ~ age, family = \"binomial\", data = smp)\n",
       "\n",
       "Deviance Residuals: \n",
       "    Min       1Q   Median       3Q      Max  \n",
       "-1.1529  -1.0567  -0.9597   1.2748   1.5691  \n",
       "\n",
       "Coefficients:\n",
       "             Estimate Std. Error z value Pr(>|z|)  \n",
       "(Intercept)  0.187954   0.224813   0.836   0.4031  \n",
       "age         -0.012936   0.005536  -2.337   0.0195 *\n",
       "---\n",
       "Signif. codes:  0 '***' 0.001 '**' 0.01 '*' 0.05 '.' 0.1 ' ' 1\n",
       "\n",
       "(Dispersion parameter for binomial family taken to be 1)\n",
       "\n",
       "    Null deviance: 1073.4  on 787  degrees of freedom\n",
       "Residual deviance: 1067.9  on 786  degrees of freedom\n",
       "  (11 observations deleted due to missingness)\n",
       "AIC: 1071.9\n",
       "\n",
       "Number of Fisher Scoring iterations: 4\n"
      ]
     },
     "metadata": {},
     "output_type": "display_data"
    }
   ],
   "source": [
    "# QUESTION 6\n",
    "model <- glm(separation~age, data=smp, family=\"binomial\")\n",
    "summary(model)"
   ]
  },
  {
   "cell_type": "code",
   "execution_count": 71,
   "metadata": {},
   "outputs": [
    {
     "name": "stdout",
     "output_type": "stream",
     "text": [
      "2 by 2 table analysis: \n",
      "------------------------------------------------------ \n",
      "Outcome   : 19 \n",
      "Comparing : 0 vs. 1 \n",
      "\n",
      "  19 20    P(19) 95% conf. interval\n",
      "0  9 10   0.4737    0.2678   0.6889\n",
      "1  6  5   0.5455    0.2681   0.7972\n",
      "\n",
      "                                    95% conf. interval\n",
      "             Relative Risk:  0.8684    0.4235   1.7807\n",
      "         Sample Odds Ratio:  0.7500    0.1691   3.3272\n",
      "Conditional MLE Odds Ratio:  0.7573    0.1304   4.2190\n",
      "    Probability difference: -0.0718   -0.3858   0.2662\n",
      "\n",
      "             Exact P-value: 1.0000 \n",
      "        Asymptotic P-value: 0.7051 \n",
      "------------------------------------------------------\n"
     ]
    }
   ],
   "source": [
    "twoby2(smpl$separation, smpl$age)"
   ]
  },
  {
   "cell_type": "code",
   "execution_count": null,
   "metadata": {},
   "outputs": [],
   "source": [
    "twoby2(1-smpl$suicide.hr, 1-smpl$abus)"
   ]
  },
  {
   "cell_type": "code",
   "execution_count": 72,
   "metadata": {},
   "outputs": [
    {
     "data": {
      "text/plain": [
       "   Min. 1st Qu.  Median    Mean 3rd Qu.    Max. \n",
       "  0.000   2.000   3.000   4.287   6.000  21.000 "
      ]
     },
     "metadata": {},
     "output_type": "display_data"
    }
   ],
   "source": [
    "summary(smpl$n.fratrie)"
   ]
  },
  {
   "cell_type": "markdown",
   "metadata": {},
   "source": [
    "<a id=\"ref5\"></a>\n",
    "<h1 align=center>SEMAINE 05</h1>\n",
    "<h1 align=center>Données de survie - Méthode multidimentionnelle</h1>"
   ]
  },
  {
   "cell_type": "markdown",
   "metadata": {},
   "source": [
    "## 18. Données censurées - survie"
   ]
  },
  {
   "cell_type": "code",
   "execution_count": 2,
   "metadata": {},
   "outputs": [
    {
     "name": "stdout",
     "output_type": "stream",
     "text": [
      "'data.frame':\t125 obs. of  5 variables:\n",
      " $ t     : int  121 121 40 39 66 64 5 30 34 5 ...\n",
      " $ SEVRE : int  0 0 0 0 0 0 1 0 0 0 ...\n",
      " $ AGE   : int  53 52 45 48 45 42 35 35 41 37 ...\n",
      " $ SEXE  : int  1 2 2 1 1 1 1 1 1 1 ...\n",
      " $ EDVNEG: int  0 0 0 1 0 0 0 0 0 0 ...\n"
     ]
    }
   ],
   "source": [
    "# chargement des données\n",
    "alc <- read.csv2(\"alcool.csv\")\n",
    "str(alc)"
   ]
  },
  {
   "cell_type": "code",
   "execution_count": 9,
   "metadata": {},
   "outputs": [
    {
     "name": "stderr",
     "output_type": "stream",
     "text": [
      "Warning message:\n",
      "\"package 'survival' was built under R version 3.6.3\""
     ]
    }
   ],
   "source": [
    "# librairie pour la courbe de Kaplan-Meier\n",
    "library(survival)"
   ]
  },
  {
   "cell_type": "code",
   "execution_count": 4,
   "metadata": {
    "scrolled": true
   },
   "outputs": [
    {
     "data": {
      "image/png": "iVBORw0KGgoAAAANSUhEUgAAA0gAAANICAMAAADKOT/pAAAAMFBMVEUAAABNTU1oaGh8fHyM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",
      "text/plain": [
       "Plot with title \"Courbe de maintien dans l'abstinence\""
      ]
     },
     "metadata": {},
     "output_type": "display_data"
    }
   ],
   "source": [
    "plot(survfit(Surv(alc$t, alc$SEVRE) ~1), main=\"Courbe de maintien dans l'abstinence\")"
   ]
  },
  {
   "cell_type": "code",
   "execution_count": 5,
   "metadata": {
    "scrolled": true
   },
   "outputs": [
    {
     "data": {
      "image/png": "iVBORw0KGgoAAAANSUhEUgAAA0gAAANICAMAAADKOT/pAAAAM1BMVEUAAABNTU1oaGh8fHyM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\nggAhQYCQIEBIEPA/Rs1QqnsYztQAAAAASUVORK5CYII=",
      "text/plain": [
       "Plot with title \"Courbe de maintien dans l'abstinence\""
      ]
     },
     "metadata": {},
     "output_type": "display_data"
    }
   ],
   "source": [
    "# Comparaison de deux groupes\n",
    "plot(survfit(Surv(t, SEVRE) ~ SEXE, data=alc), col=c(\"black\", \"red\"), main=\"Courbe de maintien dans l'abstinence\")"
   ]
  },
  {
   "cell_type": "code",
   "execution_count": 6,
   "metadata": {},
   "outputs": [
    {
     "data": {
      "text/plain": [
       "Call: survfit(formula = Surv(alc$t, alc$SEVRE) ~ 1)\n",
       "\n",
       "      n  events  median 0.95LCL 0.95UCL \n",
       "    125      27      NA     160      NA "
      ]
     },
     "metadata": {},
     "output_type": "display_data"
    }
   ],
   "source": [
    "# Médiane de survie\n",
    "survfit(Surv(alc$t, alc$SEVRE) ~1)"
   ]
  },
  {
   "cell_type": "markdown",
   "metadata": {},
   "source": [
    "## 19. Tests statistiques et modélisation"
   ]
  },
  {
   "cell_type": "code",
   "execution_count": 7,
   "metadata": {},
   "outputs": [
    {
     "data": {
      "text/plain": [
       "Call:\n",
       "survdiff(formula = Surv(t, SEVRE) ~ SEXE, data = alc)\n",
       "\n",
       "         N Observed Expected (O-E)^2/E (O-E)^2/V\n",
       "SEXE=1 107       24    23.74   0.00281    0.0235\n",
       "SEXE=2  18        3     3.26   0.02046    0.0235\n",
       "\n",
       " Chisq= 0  on 1 degrees of freedom, p= 0.9 "
      ]
     },
     "metadata": {},
     "output_type": "display_data"
    }
   ],
   "source": [
    "# comparaison de deux moyenne en fonction du  / TEST DE LOG-RANK\n",
    "survdiff(Surv(t, SEVRE) ~SEXE, data=alc)"
   ]
  },
  {
   "cell_type": "code",
   "execution_count": 8,
   "metadata": {},
   "outputs": [
    {
     "data": {
      "text/plain": [
       "Call:\n",
       "coxph(formula = Surv(t, SEVRE) ~ AGE, data = alc)\n",
       "\n",
       "        coef exp(coef) se(coef)      z      p\n",
       "AGE -0.04671   0.95436  0.02349 -1.989 0.0467\n",
       "\n",
       "Likelihood ratio test=4.09  on 1 df, p=0.04312\n",
       "n= 125, number of events= 27 "
      ]
     },
     "metadata": {},
     "output_type": "display_data"
    }
   ],
   "source": [
    "# Modèle de Cox pour tester l'association de la survie à une variable quantitative\n",
    "coxph(Surv(t, SEVRE) ~AGE, data=alc)"
   ]
  },
  {
   "cell_type": "code",
   "execution_count": 9,
   "metadata": {},
   "outputs": [
    {
     "data": {
      "text/plain": [
       "Call:\n",
       "coxph(formula = Surv(t, SEVRE) ~ AGE + SEXE + EDVNEG, data = alc)\n",
       "\n",
       "           coef exp(coef) se(coef)      z      p\n",
       "AGE    -0.04733   0.95378  0.02367 -1.999 0.0456\n",
       "SEXE   -0.01511   0.98500  0.62057 -0.024 0.9806\n",
       "EDVNEG -0.44278   0.64225  1.02405 -0.432 0.6655\n",
       "\n",
       "Likelihood ratio test=4.31  on 3 df, p=0.2303\n",
       "n= 125, number of events= 27 "
      ]
     },
     "metadata": {},
     "output_type": "display_data"
    }
   ],
   "source": [
    "mod <- coxph(Surv(t, SEVRE) ~AGE+SEXE+EDVNEG, data=alc)\n",
    "mod"
   ]
  },
  {
   "cell_type": "code",
   "execution_count": 10,
   "metadata": {},
   "outputs": [
    {
     "data": {
      "text/html": [
       "<dl class=dl-horizontal>\n",
       "\t<dt>AGE</dt>\n",
       "\t\t<dd>0.953776262021191</dd>\n",
       "\t<dt>SEXE</dt>\n",
       "\t\t<dd>0.985003733918673</dd>\n",
       "\t<dt>EDVNEG</dt>\n",
       "\t\t<dd>0.642247538720682</dd>\n",
       "</dl>\n"
      ],
      "text/latex": [
       "\\begin{description*}\n",
       "\\item[AGE] 0.953776262021191\n",
       "\\item[SEXE] 0.985003733918673\n",
       "\\item[EDVNEG] 0.642247538720682\n",
       "\\end{description*}\n"
      ],
      "text/markdown": [
       "AGE\n",
       ":   0.953776262021191SEXE\n",
       ":   0.985003733918673EDVNEG\n",
       ":   0.642247538720682\n",
       "\n"
      ],
      "text/plain": [
       "      AGE      SEXE    EDVNEG \n",
       "0.9537763 0.9850037 0.6422475 "
      ]
     },
     "metadata": {},
     "output_type": "display_data"
    }
   ],
   "source": [
    "# calcul des exponentielles des coefficients\n",
    "exp(coef(mod))"
   ]
  },
  {
   "cell_type": "code",
   "execution_count": 11,
   "metadata": {},
   "outputs": [
    {
     "data": {
      "image/png": "iVBORw0KGgoAAAANSUhEUgAAA0gAAANICAMAAADKOT/pAAAABlBMVEUAAAD///+l2Z/dAAAA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",
      "text/plain": [
       "plot without title"
      ]
     },
     "metadata": {},
     "output_type": "display_data"
    }
   ],
   "source": [
    "par(mfrow=c(2,2))\n",
    "plot(cox.zph(mod))"
   ]
  },
  {
   "cell_type": "markdown",
   "metadata": {},
   "source": [
    "## 20. Introduction à la statistique exploratoire multidiementionnelle"
   ]
  },
  {
   "cell_type": "code",
   "execution_count": 12,
   "metadata": {
    "scrolled": true
   },
   "outputs": [
    {
     "name": "stdout",
     "output_type": "stream",
     "text": [
      "'data.frame':\t799 obs. of  26 variables:\n",
      " $ age         : int  31 49 50 47 23 34 24 52 42 45 ...\n",
      " $ prof        : Factor w/ 8 levels \"agriculteur\",..: 3 NA 7 6 8 6 3 2 6 6 ...\n",
      " $ duree       : int  4 NA 5 NA 4 NA NA 5 4 NA ...\n",
      " $ discip      : int  0 0 0 0 1 0 0 0 1 0 ...\n",
      " $ n.enfant    : int  2 7 2 0 1 3 5 2 1 2 ...\n",
      " $ n.fratrie   : int  4 3 2 6 6 2 3 9 12 5 ...\n",
      " $ ecole       : int  1 2 2 1 1 2 1 2 1 2 ...\n",
      " $ separation  : int  0 1 0 1 1 0 1 0 1 0 ...\n",
      " $ juge.enfant : int  0 0 0 0 NA 0 1 0 1 0 ...\n",
      " $ place       : int  0 0 0 1 1 0 1 0 0 0 ...\n",
      " $ abus        : int  0 0 0 0 0 0 0 0 1 1 ...\n",
      " $ grav.cons   : int  1 2 2 1 2 1 5 1 5 5 ...\n",
      " $ dep.cons    : int  0 0 0 0 1 0 1 0 1 0 ...\n",
      " $ ago.cons    : int  1 0 0 0 0 0 0 0 0 0 ...\n",
      " $ ptsd.cons   : int  0 0 0 0 0 0 0 0 0 0 ...\n",
      " $ alc.cons    : int  0 0 0 0 0 0 0 0 1 1 ...\n",
      " $ subst.cons  : int  0 0 0 0 0 0 1 0 1 0 ...\n",
      " $ scz.cons    : int  0 0 0 0 0 0 0 0 0 0 ...\n",
      " $ char        : int  1 1 1 1 1 1 1 1 4 1 ...\n",
      " $ rs          : int  2 2 2 2 2 1 3 2 3 2 ...\n",
      " $ ed          : int  1 2 3 2 2 2 3 2 3 2 ...\n",
      " $ dr          : int  1 1 2 2 2 1 2 2 1 2 ...\n",
      " $ suicide.s   : int  0 0 0 1 0 0 3 0 4 0 ...\n",
      " $ suicide.hr  : int  0 0 0 0 0 0 1 0 1 0 ...\n",
      " $ suicide.past: int  0 0 0 0 1 0 1 0 1 0 ...\n",
      " $ dur.interv  : int  NA 70 NA 105 NA NA 105 84 78 60 ...\n"
     ]
    }
   ],
   "source": [
    "# retour à la base initiale smp\n",
    "smpl <- read.csv2(\"smp2.csv\")\n",
    "str(smpl)"
   ]
  },
  {
   "cell_type": "code",
   "execution_count": 16,
   "metadata": {},
   "outputs": [
    {
     "data": {
      "text/html": [
       "<table>\n",
       "<thead><tr><th></th><th scope=col>age</th><th scope=col>n.enfant</th><th scope=col>scz.cons</th><th scope=col>dep.cons</th><th scope=col>grav.cons</th><th scope=col>rs</th><th scope=col>ed</th><th scope=col>dr</th></tr></thead>\n",
       "<tbody>\n",
       "\t<tr><th scope=row>age</th><td> 1.000</td><td> 0.441</td><td>-0.044</td><td>-0.110</td><td>-0.139</td><td>-0.223</td><td>-0.038</td><td> 0.003</td></tr>\n",
       "\t<tr><th scope=row>n.enfant</th><td> 0.441</td><td> 1.000</td><td> 0.003</td><td> 0.002</td><td>-0.055</td><td>-0.126</td><td> 0.011</td><td> 0.015</td></tr>\n",
       "\t<tr><th scope=row>scz.cons</th><td>-0.044</td><td> 0.003</td><td> 1.000</td><td> 0.064</td><td> 0.290</td><td> 0.021</td><td> 0.077</td><td>-0.009</td></tr>\n",
       "\t<tr><th scope=row>dep.cons</th><td>-0.110</td><td> 0.002</td><td> 0.064</td><td> 1.000</td><td> 0.439</td><td> 0.107</td><td> 0.259</td><td> 0.093</td></tr>\n",
       "\t<tr><th scope=row>grav.cons</th><td>-0.139</td><td>-0.055</td><td> 0.290</td><td> 0.439</td><td> 1.000</td><td> 0.151</td><td> 0.234</td><td> 0.001</td></tr>\n",
       "\t<tr><th scope=row>rs</th><td>-0.223</td><td>-0.126</td><td> 0.021</td><td> 0.107</td><td> 0.151</td><td> 1.000</td><td> 0.093</td><td> 0.088</td></tr>\n",
       "\t<tr><th scope=row>ed</th><td>-0.038</td><td> 0.011</td><td> 0.077</td><td> 0.259</td><td> 0.234</td><td> 0.093</td><td> 1.000</td><td> 0.115</td></tr>\n",
       "\t<tr><th scope=row>dr</th><td> 0.003</td><td> 0.015</td><td>-0.009</td><td> 0.093</td><td> 0.001</td><td> 0.088</td><td> 0.115</td><td> 1.000</td></tr>\n",
       "</tbody>\n",
       "</table>\n"
      ],
      "text/latex": [
       "\\begin{tabular}{r|llllllll}\n",
       "  & age & n.enfant & scz.cons & dep.cons & grav.cons & rs & ed & dr\\\\\n",
       "\\hline\n",
       "\tage &  1.000 &  0.441 & -0.044 & -0.110 & -0.139 & -0.223 & -0.038 &  0.003\\\\\n",
       "\tn.enfant &  0.441 &  1.000 &  0.003 &  0.002 & -0.055 & -0.126 &  0.011 &  0.015\\\\\n",
       "\tscz.cons & -0.044 &  0.003 &  1.000 &  0.064 &  0.290 &  0.021 &  0.077 & -0.009\\\\\n",
       "\tdep.cons & -0.110 &  0.002 &  0.064 &  1.000 &  0.439 &  0.107 &  0.259 &  0.093\\\\\n",
       "\tgrav.cons & -0.139 & -0.055 &  0.290 &  0.439 &  1.000 &  0.151 &  0.234 &  0.001\\\\\n",
       "\trs & -0.223 & -0.126 &  0.021 &  0.107 &  0.151 &  1.000 &  0.093 &  0.088\\\\\n",
       "\ted & -0.038 &  0.011 &  0.077 &  0.259 &  0.234 &  0.093 &  1.000 &  0.115\\\\\n",
       "\tdr &  0.003 &  0.015 & -0.009 &  0.093 &  0.001 &  0.088 &  0.115 &  1.000\\\\\n",
       "\\end{tabular}\n"
      ],
      "text/markdown": [
       "\n",
       "| <!--/--> | age | n.enfant | scz.cons | dep.cons | grav.cons | rs | ed | dr |\n",
       "|---|---|---|---|---|---|---|---|---|\n",
       "| age |  1.000 |  0.441 | -0.044 | -0.110 | -0.139 | -0.223 | -0.038 |  0.003 |\n",
       "| n.enfant |  0.441 |  1.000 |  0.003 |  0.002 | -0.055 | -0.126 |  0.011 |  0.015 |\n",
       "| scz.cons | -0.044 |  0.003 |  1.000 |  0.064 |  0.290 |  0.021 |  0.077 | -0.009 |\n",
       "| dep.cons | -0.110 |  0.002 |  0.064 |  1.000 |  0.439 |  0.107 |  0.259 |  0.093 |\n",
       "| grav.cons | -0.139 | -0.055 |  0.290 |  0.439 |  1.000 |  0.151 |  0.234 |  0.001 |\n",
       "| rs | -0.223 | -0.126 |  0.021 |  0.107 |  0.151 |  1.000 |  0.093 |  0.088 |\n",
       "| ed | -0.038 |  0.011 |  0.077 |  0.259 |  0.234 |  0.093 |  1.000 |  0.115 |\n",
       "| dr |  0.003 |  0.015 | -0.009 |  0.093 |  0.001 |  0.088 |  0.115 |  1.000 |\n",
       "\n"
      ],
      "text/plain": [
       "          age    n.enfant scz.cons dep.cons grav.cons rs     ed     dr    \n",
       "age        1.000  0.441   -0.044   -0.110   -0.139    -0.223 -0.038  0.003\n",
       "n.enfant   0.441  1.000    0.003    0.002   -0.055    -0.126  0.011  0.015\n",
       "scz.cons  -0.044  0.003    1.000    0.064    0.290     0.021  0.077 -0.009\n",
       "dep.cons  -0.110  0.002    0.064    1.000    0.439     0.107  0.259  0.093\n",
       "grav.cons -0.139 -0.055    0.290    0.439    1.000     0.151  0.234  0.001\n",
       "rs        -0.223 -0.126    0.021    0.107    0.151     1.000  0.093  0.088\n",
       "ed        -0.038  0.011    0.077    0.259    0.234     0.093  1.000  0.115\n",
       "dr         0.003  0.015   -0.009    0.093    0.001     0.088  0.115  1.000"
      ]
     },
     "metadata": {},
     "output_type": "display_data"
    }
   ],
   "source": [
    "# calcul de la matrice de corrélation\n",
    "var <- c(\"age\",\"n.enfant\",\"scz.cons\",\"dep.cons\",\"grav.cons\",\"rs\",\"ed\",\"dr\")\n",
    "matrice <- round(cor(smpl[,var], use=\"complete.obs\"), digits=3)\n",
    "matrice"
   ]
  },
  {
   "cell_type": "code",
   "execution_count": 17,
   "metadata": {},
   "outputs": [
    {
     "data": {
      "image/png": "iVBORw0KGgoAAAANSUhEUgAAA0gAAANICAMAAADKOT/pAAACjlBMVEUAAAAFMGEGMmQHNWgJ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",
      "text/plain": [
       "Plot with title \"\""
      ]
     },
     "metadata": {},
     "output_type": "display_data"
    }
   ],
   "source": [
    "corrplot(matrice,, method=\"circle\")"
   ]
  },
  {
   "cell_type": "markdown",
   "metadata": {},
   "source": [
    "## 20. Analyse en composantes principales - ACP"
   ]
  },
  {
   "cell_type": "code",
   "execution_count": 5,
   "metadata": {},
   "outputs": [],
   "source": [
    "library(psy)"
   ]
  },
  {
   "cell_type": "code",
   "execution_count": 20,
   "metadata": {},
   "outputs": [
    {
     "name": "stderr",
     "output_type": "stream",
     "text": [
      "Installing package into 'D:/Documents/R/win-library/3.6'\n",
      "(as 'lib' is unspecified)\n"
     ]
    },
    {
     "name": "stdout",
     "output_type": "stream",
     "text": [
      "package 'psy' successfully unpacked and MD5 sums checked\n",
      "\n",
      "The downloaded binary packages are in\n",
      "\tC:\\Users\\X230\\AppData\\Local\\Temp\\RtmpMnV0I1\\downloaded_packages\n"
     ]
    }
   ],
   "source": [
    "install.packages(\"psy\")"
   ]
  },
  {
   "cell_type": "code",
   "execution_count": 22,
   "metadata": {
    "scrolled": true
   },
   "outputs": [
    {
     "data": {
      "image/png": "iVBORw0KGgoAAAANSUhEUgAAA0gAAANICAMAAADKOT/pAAAADFBMVEUAAAC+vr7/AAD////i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\nBAQgJCAAIQEBCAkIQEhAAEICAvwPniICbvAUTAMAAAAASUVORK5CYII=",
      "text/plain": [
       "plot without title"
      ]
     },
     "metadata": {},
     "output_type": "display_data"
    }
   ],
   "source": [
    "# APPLICATION DE L'ACP SUR LES VARIABLES\n",
    "var <- c(\"age\",\"n.enfant\",\"scz.cons\",\"dep.cons\",\"grav.cons\",\"rs\",\"ed\",\"dr\")\n",
    "mdspca(smpl[,var])"
   ]
  },
  {
   "cell_type": "code",
   "execution_count": 23,
   "metadata": {},
   "outputs": [],
   "source": [
    "help(mdspca)"
   ]
  },
  {
   "cell_type": "code",
   "execution_count": 24,
   "metadata": {},
   "outputs": [],
   "source": [
    "help(sphpca)"
   ]
  },
  {
   "cell_type": "code",
   "execution_count": 25,
   "metadata": {
    "scrolled": true
   },
   "outputs": [
    {
     "data": {
      "image/png": "iVBORw0KGgoAAAANSUhEUgAAA0gAAANICAMAAADKOT/pAAAACVBMVEUAAAD/AAD///9nGWQe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\nCUDAf3oiLSwIWpAgAAAAAElFTkSuQmCC",
      "text/plain": [
       "plot without title"
      ]
     },
     "metadata": {},
     "output_type": "display_data"
    }
   ],
   "source": [
    "# Représentation sphérique de la matrice de corrélation grâce à l'ACP\n",
    "sphpca(smpl[,var])"
   ]
  },
  {
   "cell_type": "code",
   "execution_count": 27,
   "metadata": {
    "scrolled": true
   },
   "outputs": [
    {
     "data": {
      "image/png": "iVBORw0KGgoAAAANSUhEUgAAA0gAAANICAMAAADKOT/pAAAACVBMVEUAAAD/AAD///9nGWQe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\nAf8BPOAtaC/1/bcAAAAASUVORK5CYII=",
      "text/plain": [
       "plot without title"
      ]
     },
     "metadata": {},
     "output_type": "display_data"
    }
   ],
   "source": [
    "sphpca(smpl[,var], v=55)"
   ]
  },
  {
   "cell_type": "code",
   "execution_count": 31,
   "metadata": {},
   "outputs": [],
   "source": [
    "help(fpca)"
   ]
  },
  {
   "cell_type": "code",
   "execution_count": 30,
   "metadata": {},
   "outputs": [
    {
     "data": {
      "image/png": "iVBORw0KGgoAAAANSUhEUgAAA0gAAANICAMAAADKOT/pAAAAP1BMVEUAAAAAAP8A/wBNTU1o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\nNdQMAAAAAElFTkSuQmCC",
      "text/plain": [
       "plot without title"
      ]
     },
     "metadata": {},
     "output_type": "display_data"
    }
   ],
   "source": [
    "# ACP autour d'une variable à expliquer\n",
    "expliquer <- \"grav.cons\"\n",
    "explicatives <- c(\"age\",\"n.enfant\",\"scz.cons\",\"dep.cons\",\"rs\",\"ed\",\"dr\")\n",
    "fpca(data=smpl, y=expliquer, x=explicatives, partial=\"No\")"
   ]
  },
  {
   "cell_type": "markdown",
   "metadata": {},
   "source": [
    "**Les variables en vert sont positivement corrélées avec la variable à expliquer alors qu'en jaune, ils le sont négativement.**"
   ]
  },
  {
   "cell_type": "markdown",
   "metadata": {},
   "source": [
    "## 22. Classification Ascendante hiérarchique"
   ]
  },
  {
   "cell_type": "code",
   "execution_count": 32,
   "metadata": {
    "scrolled": true
   },
   "outputs": [
    {
     "name": "stderr",
     "output_type": "stream",
     "text": [
      "The \"ward\" method has been renamed to \"ward.D\"; note new \"ward.D2\"\n"
     ]
    },
    {
     "data": {
      "image/png": "iVBORw0KGgoAAAANSUhEUgAAA0gAAANICAMAAADKOT/pAAAAMFBMVEUAAABNTU1oaGh8fHyM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\nCJL/Fk1+Nxvz161CkAAFBAlQQJAABX/wKleOh62HIAAAAABJRU5ErkJggg==",
      "text/plain": [
       "Plot with title \"Cluster Dendrogram\""
      ]
     },
     "metadata": {},
     "output_type": "display_data"
    }
   ],
   "source": [
    "# CAH sur les variables\n",
    "var <- c(\"age\",\"n.enfant\",\"scz.cons\",\"dep.cons\",\"grav.cons\",\"rs\",\"ed\",\"dr\")\n",
    "cha <- hclust(dist(t(scale(smpl[,var]))), method=\"ward\")\n",
    "plot(cha)"
   ]
  },
  {
   "cell_type": "code",
   "execution_count": 34,
   "metadata": {},
   "outputs": [
    {
     "data": {
      "image/png": "iVBORw0KGgoAAAANSUhEUgAAA0gAAANICAMAAADKOT/pAAAAS1BMVEUAAABNTU1oaGh8fHx9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",
      "text/plain": [
       "plot without title"
      ]
     },
     "metadata": {},
     "output_type": "display_data"
    }
   ],
   "source": [
    "# CAH sur les variables avec un heatmap\n",
    "obj <- cor(smpl[,var], use=\"pairwise.complete.obs\")\n",
    "heatmap(obj)"
   ]
  },
  {
   "cell_type": "code",
   "execution_count": 37,
   "metadata": {
    "scrolled": true
   },
   "outputs": [
    {
     "name": "stderr",
     "output_type": "stream",
     "text": [
      "The \"ward\" method has been renamed to \"ward.D\"; note new \"ward.D2\"\n"
     ]
    },
    {
     "data": {
      "image/png": "iVBORw0KGgoAAAANSUhEUgAAA0gAAANICAMAAADKOT/pAAAB6VBMVEUAAAABAQECAgIDAwME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\nrkJggg==",
      "text/plain": [
       "Plot with title \"Cluster Dendrogram\""
      ]
     },
     "metadata": {},
     "output_type": "display_data"
    }
   ],
   "source": [
    "# CAH sur les observations                                t() permet de classer les variables ; scale permet de CR\n",
    "cah <- hclust(dist(scale(smpl[,var])), method=\"ward\")\n",
    "plot(cah)"
   ]
  },
  {
   "cell_type": "markdown",
   "metadata": {},
   "source": [
    "<h2 align=\"center\">QUIZ EXERCICE 05</h2>"
   ]
  },
  {
   "cell_type": "code",
   "execution_count": 2,
   "metadata": {},
   "outputs": [
    {
     "data": {
      "text/html": [
       "<ol class=list-inline>\n",
       "\t<li>125</li>\n",
       "\t<li>5</li>\n",
       "</ol>\n"
      ],
      "text/latex": [
       "\\begin{enumerate*}\n",
       "\\item 125\n",
       "\\item 5\n",
       "\\end{enumerate*}\n"
      ],
      "text/markdown": [
       "1. 125\n",
       "2. 5\n",
       "\n",
       "\n"
      ],
      "text/plain": [
       "[1] 125   5"
      ]
     },
     "metadata": {},
     "output_type": "display_data"
    },
    {
     "name": "stdout",
     "output_type": "stream",
     "text": [
      "'data.frame':\t125 obs. of  5 variables:\n",
      " $ t     : int  121 121 40 39 66 64 5 30 34 5 ...\n",
      " $ SEVRE : int  0 0 0 0 0 0 1 0 0 0 ...\n",
      " $ AGE   : int  53 52 45 48 45 42 35 35 41 37 ...\n",
      " $ SEXE  : int  1 2 2 1 1 1 1 1 1 1 ...\n",
      " $ EDVNEG: int  0 0 0 1 0 0 0 0 0 0 ...\n"
     ]
    }
   ],
   "source": [
    "# importation de la data set\n",
    "alcool <- read.csv2(\"alcool.csv\")\n",
    "dim(alcool)\n",
    "str(alcool)"
   ]
  },
  {
   "cell_type": "code",
   "execution_count": 3,
   "metadata": {},
   "outputs": [
    {
     "data": {
      "text/plain": [
       "\n",
       " 0  1 \n",
       "73 52 "
      ]
     },
     "metadata": {},
     "output_type": "display_data"
    },
    {
     "data": {
      "text/plain": [
       "   \n",
       "    31 32 33 34 35 36 37 38 39 40 41 42 43 44 45 46 47 48 49 50 51 52 53 54 55\n",
       "  0  1  1  4  2  5  4  2  2  5  4  3  4  4  4  6  8  1  7  4  2  0  0  0  0  0\n",
       "  1  0  0  0  0  0  0  0  0  0  0  0  0  0  0  0  0  0  0  0  0  8  3  6  5  4\n",
       "   \n",
       "    56 57 58 59 60 62 63 64 65\n",
       "  0  0  0  0  0  0  0  0  0  0\n",
       "  1  5  4  2  3  2  2  5  2  1"
      ]
     },
     "metadata": {},
     "output_type": "display_data"
    }
   ],
   "source": [
    "# constitution du sous ensemble des moins et + de 50 ans\n",
    "alcool$AGEgroup <- ifelse(alcool$AGE > 50, 1, 0)\n",
    "table(alcool$AGEgroup)\n",
    "table(alcool$AGEgroup, alcool$AGE)"
   ]
  },
  {
   "cell_type": "code",
   "execution_count": 10,
   "metadata": {},
   "outputs": [
    {
     "data": {
      "text/plain": [
       "Call:\n",
       "survdiff(formula = Surv(t, SEVRE) ~ AGEgroup, data = alcool)\n",
       "\n",
       "            N Observed Expected (O-E)^2/E (O-E)^2/V\n",
       "AGEgroup=0 73       21     15.1      2.30      5.25\n",
       "AGEgroup=1 52        6     11.9      2.92      5.25\n",
       "\n",
       " Chisq= 5.3  on 1 degrees of freedom, p= 0.02 "
      ]
     },
     "metadata": {},
     "output_type": "display_data"
    }
   ],
   "source": [
    "# QUESTION 1.\n",
    "survdiff(Surv(t, SEVRE) ~AGEgroup, data=alcool)"
   ]
  },
  {
   "cell_type": "code",
   "execution_count": 7,
   "metadata": {},
   "outputs": [],
   "source": [
    "help(survdiff)"
   ]
  },
  {
   "cell_type": "code",
   "execution_count": 11,
   "metadata": {},
   "outputs": [
    {
     "data": {
      "text/plain": [
       "Call:\n",
       "coxph(formula = Surv(t, SEVRE) ~ AGEgroup, data = alcool)\n",
       "\n",
       "            coef exp(coef) se(coef)      z     p\n",
       "AGEgroup -1.0182    0.3612   0.4635 -2.197 0.028\n",
       "\n",
       "Likelihood ratio test=5.66  on 1 df, p=0.01736\n",
       "n= 125, number of events= 27 "
      ]
     },
     "metadata": {},
     "output_type": "display_data"
    }
   ],
   "source": [
    "# toujours QUESTION 1 pour avoir quatre décimal à la p-value\n",
    "coxph(Surv(t, SEVRE) ~AGEgroup, data=alcool)"
   ]
  },
  {
   "cell_type": "code",
   "execution_count": 15,
   "metadata": {},
   "outputs": [
    {
     "data": {
      "text/plain": [
       "Call:\n",
       "coxph(formula = Surv(t, SEVRE) ~ AGE + SEXE + AGE * SEXE, data = alcool)\n",
       "\n",
       "             coef exp(coef) se(coef)      z     p\n",
       "AGE       0.03170   1.03220  0.08732  0.363 0.717\n",
       "SEXE      3.21470  24.89576  3.36854  0.954 0.340\n",
       "AGE:SEXE -0.07112   0.93135  0.07630 -0.932 0.351\n",
       "\n",
       "Likelihood ratio test=4.96  on 3 df, p=0.1749\n",
       "n= 125, number of events= 27 "
      ]
     },
     "metadata": {},
     "output_type": "display_data"
    }
   ],
   "source": [
    "# QUESTION 2\n",
    "coxph(Surv(t, SEVRE) ~AGE+SEXE+AGE*SEXE, data=alcool)"
   ]
  },
  {
   "cell_type": "markdown",
   "metadata": {},
   "source": [
    "<h1 align=\"center\">Dévoir corrigé par les paires 2/3</h1>"
   ]
  },
  {
   "cell_type": "code",
   "execution_count": 16,
   "metadata": {},
   "outputs": [
    {
     "data": {
      "text/html": [
       "<ol class=list-inline>\n",
       "\t<li>534</li>\n",
       "\t<li>9</li>\n",
       "</ol>\n"
      ],
      "text/latex": [
       "\\begin{enumerate*}\n",
       "\\item 534\n",
       "\\item 9\n",
       "\\end{enumerate*}\n"
      ],
      "text/markdown": [
       "1. 534\n",
       "2. 9\n",
       "\n",
       "\n"
      ],
      "text/plain": [
       "[1] 534   9"
      ]
     },
     "metadata": {},
     "output_type": "display_data"
    },
    {
     "name": "stdout",
     "output_type": "stream",
     "text": [
      "'data.frame':\t534 obs. of  9 variables:\n",
      " $ service           : int  3 3 3 3 3 3 3 3 3 3 ...\n",
      " $ sexe              : int  0 1 1 0 1 0 0 0 0 1 ...\n",
      " $ age               : int  41 29 83 66 84 84 60 85 28 35 ...\n",
      " $ profession        : int  4 8 2 3 NA 6 3 3 3 3 ...\n",
      " $ amelioration.sante: int  1 2 2 2 NA 3 2 3 3 3 ...\n",
      " $ amelioration.moral: int  0 3 1 0 NA 3 1 1 1 2 ...\n",
      " $ recommander       : int  1 2 2 2 NA 2 1 2 1 NA ...\n",
      " $ score.relation    : int  36 33 40 32 NA 39 31 NA 36 NA ...\n",
      " $ score.information : int  22 36 37 35 NA 28 30 NA 29 NA ...\n"
     ]
    }
   ],
   "source": [
    "# importation des données\n",
    "satis <- read.csv2(\"satisfaction_hopital.csv\")\n",
    "dim(satis)\n",
    "str(satis)"
   ]
  },
  {
   "cell_type": "code",
   "execution_count": 17,
   "metadata": {},
   "outputs": [
    {
     "data": {
      "text/plain": [
       "\n",
       "  0   1   2 \n",
       " 16 120 269 "
      ]
     },
     "metadata": {},
     "output_type": "display_data"
    }
   ],
   "source": [
    "# Inspection des effectifs de la variable recommander\n",
    "table(satis$recommander)"
   ]
  },
  {
   "cell_type": "code",
   "execution_count": 18,
   "metadata": {},
   "outputs": [
    {
     "data": {
      "text/plain": [
       "   \n",
       "      0   1   2\n",
       "  0  16 120   0\n",
       "  1   0   0 269"
      ]
     },
     "metadata": {},
     "output_type": "display_data"
    }
   ],
   "source": [
    "# Question 1 : Transformation de la variable recommander en binaire\n",
    "satis$recommander.b <- ifelse(satis$recommander <=1, 0, 1)\n",
    "table(satis$recommander.b, satis$recommander)"
   ]
  },
  {
   "cell_type": "code",
   "execution_count": 19,
   "metadata": {},
   "outputs": [
    {
     "name": "stdout",
     "output_type": "stream",
     "text": [
      "2 by 2 table analysis: \n",
      "------------------------------------------------------ \n",
      "Outcome   : 0 \n",
      "Comparing : 0 vs. 1 \n",
      "\n",
      "    0   1    P(0) 95% conf. interval\n",
      "0 130 139  0.4833    0.4241   0.5429\n",
      "1  63  73  0.4632    0.3812   0.5473\n",
      "\n",
      "                                   95% conf. interval\n",
      "             Relative Risk: 1.0433    0.8380   1.2988\n",
      "         Sample Odds Ratio: 1.0837    0.7169   1.6383\n",
      "Conditional MLE Odds Ratio: 1.0835    0.7021   1.6745\n",
      "    Probability difference: 0.0200   -0.0824   0.1211\n",
      "\n",
      "             Exact P-value: 0.7523 \n",
      "        Asymptotic P-value: 0.7030 \n",
      "------------------------------------------------------\n"
     ]
    }
   ],
   "source": [
    "# Question 2 : Estimation de la force d'association entre recommander.b et sexe à l'aide de l'odds-ratio\n",
    "twoby2(1-satis$recommander.b, 1-satis$sexe)\n",
    "# L'intervalle de confiance est directement donnée dans les résultats de l'odds-ratio et est : [0.7169 ; 1.6383]"
   ]
  },
  {
   "cell_type": "code",
   "execution_count": 20,
   "metadata": {},
   "outputs": [
    {
     "data": {
      "text/plain": [
       "\n",
       "\tPearson's product-moment correlation\n",
       "\n",
       "data:  satis$score.relation and satis$age\n",
       "t = 1.796, df = 347, p-value = 0.07336\n",
       "alternative hypothesis: true correlation is not equal to 0\n",
       "95 percent confidence interval:\n",
       " -0.009102243  0.198945290\n",
       "sample estimates:\n",
       "       cor \n",
       "0.09596955 \n"
      ]
     },
     "metadata": {},
     "output_type": "display_data"
    }
   ],
   "source": [
    "# Question 3 : Calcul de la corrélation de Pearson\n",
    "cor.test(satis$score.relation, satis$age)"
   ]
  },
  {
   "cell_type": "code",
   "execution_count": 21,
   "metadata": {},
   "outputs": [
    {
     "data": {
      "text/plain": [
       "\n",
       "\tTwo Sample t-test\n",
       "\n",
       "data:  satis$score.relation and satis$age\n",
       "t = -23.597, df = 875, p-value < 2.2e-16\n",
       "alternative hypothesis: true difference in means is not equal to 0\n",
       "95 percent confidence interval:\n",
       " -24.90695 -21.08176\n",
       "sample estimates:\n",
       "mean of x mean of y \n",
       " 35.21777  58.21212 \n"
      ]
     },
     "metadata": {},
     "output_type": "display_data"
    }
   ],
   "source": [
    "# Question 4 : Evaluation de la différence du score de relation entre les sexe\n",
    "t.test(satis$score.relation, satis$age, var.equal=TRUE)\n",
    "# Les résultats du test t de student montrent une différence significative entre la moyenne du score de relation chez les \n",
    "# hommes et chez les femmes. Pour inclure le test de validité de ce test, nous nous sommes servi de : var.equal=TRUE."
   ]
  },
  {
   "cell_type": "code",
   "execution_count": 26,
   "metadata": {},
   "outputs": [],
   "source": [
    "help(t.test)"
   ]
  },
  {
   "cell_type": "code",
   "execution_count": null,
   "metadata": {},
   "outputs": [],
   "source": [
    "# CODE à EXPORTER\n",
    "# importation des données\n",
    "satis <- read.csv2(\"satisfaction_hopital.csv\")\n",
    "dim(satis)\n",
    "str(satis)\n",
    "\n",
    "# Inspection des effectifs de la variable recommander\n",
    "table(satis$recommander)\n",
    "\n",
    "# Question 1 : Transformation de la variable recommander en binaire\n",
    "satis$recommander.b <- ifelse(satis$recommander <=1, 0, 1)\n",
    "table(satis$recommander.b, satis$recommander)\n",
    "\n",
    "# Question 2 : Estimation de la force d'association entre recommander.b et sexe à l'aide de l'odds-ratio\n",
    "twoby2(1-satis$recommander.b, 1-satis$sexe)\n",
    "# L'intervalle de confiance est directement donnée dans les résultats de l'odds-ratio et est : [0.7169 ; 1.6383]\n",
    "\n",
    "# Question 3 : Calcul de la corrélation de Pearson\n",
    "cor.test(satis$score.relation, satis$age)\n",
    "\n",
    "# Question 4 : Evaluation de la différence du score de relation entre les sexe\n",
    "t.test(satis$score.relation, satis$age, var.equal=TRUE)\n",
    "# Les résultats du test t de student montrent une différence significative entre la moyenne du score de relation chez les \n",
    "# hommes et chez les femmes. Pour inclure le test de validité de ce test, nous nous sommes servi de : var.equal=TRUE."
   ]
  },
  {
   "cell_type": "markdown",
   "metadata": {},
   "source": [
    "<h1 align=\"center\">Dévoir corrigé par les paires 3/3</h1>"
   ]
  },
  {
   "cell_type": "code",
   "execution_count": 27,
   "metadata": {},
   "outputs": [
    {
     "data": {
      "text/plain": [
       "\n",
       "Call:\n",
       "lm(formula = score.relation ~ age + sexe + score.information + \n",
       "    amelioration.sante + amelioration.moral + profession + service, \n",
       "    data = satis)\n",
       "\n",
       "Residuals:\n",
       "     Min       1Q   Median       3Q      Max \n",
       "-16.7892  -2.1343   0.6682   2.7140  10.1691 \n",
       "\n",
       "Coefficients:\n",
       "                   Estimate Std. Error t value Pr(>|t|)    \n",
       "(Intercept)        20.74420    1.79158  11.579  < 2e-16 ***\n",
       "age                 0.04276    0.01468   2.914  0.00386 ** \n",
       "sexe               -0.49000    0.49332  -0.993  0.32143    \n",
       "score.information   0.27390    0.03788   7.230 4.59e-12 ***\n",
       "amelioration.sante  0.65586    0.34225   1.916  0.05634 .  \n",
       "amelioration.moral  0.74913    0.28617   2.618  0.00933 ** \n",
       "profession          0.07315    0.14513   0.504  0.61464    \n",
       "service             0.10190    0.10819   0.942  0.34707    \n",
       "---\n",
       "Signif. codes:  0 '***' 0.001 '**' 0.01 '*' 0.05 '.' 0.1 ' ' 1\n",
       "\n",
       "Residual standard error: 4.103 on 281 degrees of freedom\n",
       "  (245 observations deleted due to missingness)\n",
       "Multiple R-squared:  0.2733,\tAdjusted R-squared:  0.2552 \n",
       "F-statistic:  15.1 on 7 and 281 DF,  p-value: < 2.2e-16\n"
      ]
     },
     "metadata": {},
     "output_type": "display_data"
    }
   ],
   "source": [
    "# QUESTION 1 : ESTIMATION DU MODELE DE REGRESSION LINEAIRE\n",
    "mod1 <- lm(score.relation ~ age+sexe+score.information+amelioration.sante+amelioration.moral+profession+service, data=satis)\n",
    "summary(mod1)"
   ]
  },
  {
   "cell_type": "code",
   "execution_count": 28,
   "metadata": {},
   "outputs": [
    {
     "data": {
      "text/plain": [
       "\n",
       "Call:\n",
       "glm(formula = recommander.b ~ age + sexe + score.information + \n",
       "    amelioration.sante + amelioration.moral + profession + service, \n",
       "    family = binomial(\"logit\"), data = satis)\n",
       "\n",
       "Deviance Residuals: \n",
       "    Min       1Q   Median       3Q      Max  \n",
       "-2.2368  -0.9558   0.5539   0.8580   1.5854  \n",
       "\n",
       "Coefficients:\n",
       "                    Estimate Std. Error z value Pr(>|z|)    \n",
       "(Intercept)        -4.132041   1.016251  -4.066 4.78e-05 ***\n",
       "age                 0.010876   0.007863   1.383   0.1666    \n",
       "sexe                0.435549   0.274599   1.586   0.1127    \n",
       "score.information   0.101498   0.021107   4.809 1.52e-06 ***\n",
       "amelioration.sante  0.386929   0.182781   2.117   0.0343 *  \n",
       "amelioration.moral  0.269792   0.159343   1.693   0.0904 .  \n",
       "profession         -0.048853   0.078028  -0.626   0.5312    \n",
       "service            -0.021586   0.058126  -0.371   0.7104    \n",
       "---\n",
       "Signif. codes:  0 '***' 0.001 '**' 0.01 '*' 0.05 '.' 0.1 ' ' 1\n",
       "\n",
       "(Dispersion parameter for binomial family taken to be 1)\n",
       "\n",
       "    Null deviance: 391.41  on 313  degrees of freedom\n",
       "Residual deviance: 340.68  on 306  degrees of freedom\n",
       "  (220 observations deleted due to missingness)\n",
       "AIC: 356.68\n",
       "\n",
       "Number of Fisher Scoring iterations: 4\n"
      ]
     },
     "metadata": {},
     "output_type": "display_data"
    }
   ],
   "source": [
    "# QUESTION 2 : ESTIMATION DU MODELE DE REGRESSION LOGISTIQUE\n",
    "mod2 <- glm(recommander.b ~ age+sexe+score.information+amelioration.sante+amelioration.moral+profession+service, \n",
    "            data=satis, family=binomial(\"logit\"))\n",
    "summary(mod2)"
   ]
  },
  {
   "cell_type": "code",
   "execution_count": null,
   "metadata": {},
   "outputs": [],
   "source": [
    "# CODE à EXPORTER\n",
    "# importation des données\n",
    "satis <- read.csv2(\"satisfaction_hopital.csv\")\n",
    "dim(satis)\n",
    "str(satis)\n",
    "\n",
    "# Inspection des effectifs de la variable recommander\n",
    "table(satis$recommander)\n",
    "\n",
    "# Question 1 : Transformation de la variable recommander en binaire\n",
    "satis$recommander.b <- ifelse(satis$recommander <=1, 0, 1)\n",
    "table(satis$recommander.b, satis$recommander)\n",
    "\n",
    "# QUESTION 1 : ESTIMATION DU MODELE DE REGRESSION LINEAIRE\n",
    "mod1 <- lm(score.relation ~ age+sexe+score.information+amelioration.sante+amelioration.moral+profession+service, data=satis)\n",
    "summary(mod1)\n",
    "\n",
    "# QUESTION 2 : ESTIMATION DU MODELE DE REGRESSION LOGISTIQUE\n",
    "mod2 <- glm(recommander.b ~ age+sexe+score.information+amelioration.sante+amelioration.moral+profession+service, \n",
    "            data=satis, family=binomial(\"logit\"))\n",
    "summary(mod2)"
   ]
  },
  {
   "cell_type": "markdown",
   "metadata": {},
   "source": [
    "Un très bon mooc, qui m'a permis de revenir sur certaines notions de statistiques apprises depuis des années maintenant."
   ]
  }
 ],
 "metadata": {
  "kernelspec": {
   "display_name": "R",
   "language": "R",
   "name": "ir"
  },
  "language_info": {
   "codemirror_mode": "r",
   "file_extension": ".r",
   "mimetype": "text/x-r-source",
   "name": "R",
   "pygments_lexer": "r",
   "version": "3.6.1"
  }
 },
 "nbformat": 4,
 "nbformat_minor": 4
}
