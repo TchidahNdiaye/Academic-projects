{
 "cells": [
  {
   "cell_type": "code",
   "execution_count": 1,
   "metadata": {},
   "outputs": [],
   "source": [
    "# Chargement des librairie\n",
    "\n",
    "import pandas as pd\n",
    "import numpy as np\n",
    "\n",
    "import sklearn\n",
    "from sklearn.preprocessing import StandardScaler\n",
    "from sklearn.decomposition import PCA\n",
    "\n",
    "import matplotlib.pyplot as plt"
   ]
  },
  {
   "cell_type": "code",
   "execution_count": 2,
   "metadata": {},
   "outputs": [
    {
     "data": {
      "text/plain": [
       "(18, 6)"
      ]
     },
     "execution_count": 2,
     "metadata": {},
     "output_type": "execute_result"
    }
   ],
   "source": [
    "#chargement de la première feuille de données\n",
    "X = pd.read_excel(\"autos_acp_pour_python.xlsx\",\n",
    "                  sheet_name=0,header=0,index_col=0)\n",
    "\n",
    "#dimension\n",
    "X.shape"
   ]
  },
  {
   "cell_type": "code",
   "execution_count": 3,
   "metadata": {},
   "outputs": [
    {
     "data": {
      "text/html": [
       "<div>\n",
       "<style scoped>\n",
       "    .dataframe tbody tr th:only-of-type {\n",
       "        vertical-align: middle;\n",
       "    }\n",
       "\n",
       "    .dataframe tbody tr th {\n",
       "        vertical-align: top;\n",
       "    }\n",
       "\n",
       "    .dataframe thead th {\n",
       "        text-align: right;\n",
       "    }\n",
       "</style>\n",
       "<table border=\"1\" class=\"dataframe\">\n",
       "  <thead>\n",
       "    <tr style=\"text-align: right;\">\n",
       "      <th></th>\n",
       "      <th>CYL</th>\n",
       "      <th>PUISS</th>\n",
       "      <th>LONG</th>\n",
       "      <th>LARG</th>\n",
       "      <th>POIDS</th>\n",
       "      <th>V_MAX</th>\n",
       "    </tr>\n",
       "    <tr>\n",
       "      <th>Modele</th>\n",
       "      <th></th>\n",
       "      <th></th>\n",
       "      <th></th>\n",
       "      <th></th>\n",
       "      <th></th>\n",
       "      <th></th>\n",
       "    </tr>\n",
       "  </thead>\n",
       "  <tbody>\n",
       "    <tr>\n",
       "      <th>Alfasud TI</th>\n",
       "      <td>1350</td>\n",
       "      <td>79</td>\n",
       "      <td>393</td>\n",
       "      <td>161</td>\n",
       "      <td>870</td>\n",
       "      <td>165</td>\n",
       "    </tr>\n",
       "    <tr>\n",
       "      <th>Audi 100</th>\n",
       "      <td>1588</td>\n",
       "      <td>85</td>\n",
       "      <td>468</td>\n",
       "      <td>177</td>\n",
       "      <td>1110</td>\n",
       "      <td>160</td>\n",
       "    </tr>\n",
       "    <tr>\n",
       "      <th>Simca 1300</th>\n",
       "      <td>1294</td>\n",
       "      <td>68</td>\n",
       "      <td>424</td>\n",
       "      <td>168</td>\n",
       "      <td>1050</td>\n",
       "      <td>152</td>\n",
       "    </tr>\n",
       "    <tr>\n",
       "      <th>Citroen GS Club</th>\n",
       "      <td>1222</td>\n",
       "      <td>59</td>\n",
       "      <td>412</td>\n",
       "      <td>161</td>\n",
       "      <td>930</td>\n",
       "      <td>151</td>\n",
       "    </tr>\n",
       "    <tr>\n",
       "      <th>Fiat 132</th>\n",
       "      <td>1585</td>\n",
       "      <td>98</td>\n",
       "      <td>439</td>\n",
       "      <td>164</td>\n",
       "      <td>1105</td>\n",
       "      <td>165</td>\n",
       "    </tr>\n",
       "  </tbody>\n",
       "</table>\n",
       "</div>"
      ],
      "text/plain": [
       "                  CYL  PUISS  LONG  LARG  POIDS  V_MAX\n",
       "Modele                                                \n",
       "Alfasud TI       1350     79   393   161    870    165\n",
       "Audi 100         1588     85   468   177   1110    160\n",
       "Simca 1300       1294     68   424   168   1050    152\n",
       "Citroen GS Club  1222     59   412   161    930    151\n",
       "Fiat 132         1585     98   439   164   1105    165"
      ]
     },
     "execution_count": 3,
     "metadata": {},
     "output_type": "execute_result"
    }
   ],
   "source": [
    "# Affichage des cinq première observations\n",
    "X.head()"
   ]
  },
  {
   "cell_type": "code",
   "execution_count": 4,
   "metadata": {},
   "outputs": [
    {
     "data": {
      "text/plain": [
       "18"
      ]
     },
     "execution_count": 4,
     "metadata": {},
     "output_type": "execute_result"
    }
   ],
   "source": [
    "#nombre d'observations\n",
    "n = X.shape[0]\n",
    "n"
   ]
  },
  {
   "cell_type": "code",
   "execution_count": 5,
   "metadata": {},
   "outputs": [],
   "source": [
    "#nombre de variables\n",
    "p = X.shape[1]"
   ]
  },
  {
   "cell_type": "code",
   "execution_count": 6,
   "metadata": {},
   "outputs": [
    {
     "data": {
      "text/plain": [
       "6"
      ]
     },
     "execution_count": 6,
     "metadata": {},
     "output_type": "execute_result"
    }
   ],
   "source": [
    "p"
   ]
  },
  {
   "cell_type": "code",
   "execution_count": 8,
   "metadata": {
    "scrolled": true
   },
   "outputs": [
    {
     "data": {
      "text/html": [
       "<div>\n",
       "<style scoped>\n",
       "    .dataframe tbody tr th:only-of-type {\n",
       "        vertical-align: middle;\n",
       "    }\n",
       "\n",
       "    .dataframe tbody tr th {\n",
       "        vertical-align: top;\n",
       "    }\n",
       "\n",
       "    .dataframe thead th {\n",
       "        text-align: right;\n",
       "    }\n",
       "</style>\n",
       "<table border=\"1\" class=\"dataframe\">\n",
       "  <thead>\n",
       "    <tr style=\"text-align: right;\">\n",
       "      <th></th>\n",
       "      <th>CYL</th>\n",
       "      <th>PUISS</th>\n",
       "      <th>LONG</th>\n",
       "      <th>LARG</th>\n",
       "      <th>POIDS</th>\n",
       "      <th>V_MAX</th>\n",
       "    </tr>\n",
       "    <tr>\n",
       "      <th>Modele</th>\n",
       "      <th></th>\n",
       "      <th></th>\n",
       "      <th></th>\n",
       "      <th></th>\n",
       "      <th></th>\n",
       "      <th></th>\n",
       "    </tr>\n",
       "  </thead>\n",
       "  <tbody>\n",
       "    <tr>\n",
       "      <th>Alfasud TI</th>\n",
       "      <td>1350</td>\n",
       "      <td>79</td>\n",
       "      <td>393</td>\n",
       "      <td>161</td>\n",
       "      <td>870</td>\n",
       "      <td>165</td>\n",
       "    </tr>\n",
       "    <tr>\n",
       "      <th>Audi 100</th>\n",
       "      <td>1588</td>\n",
       "      <td>85</td>\n",
       "      <td>468</td>\n",
       "      <td>177</td>\n",
       "      <td>1110</td>\n",
       "      <td>160</td>\n",
       "    </tr>\n",
       "    <tr>\n",
       "      <th>Simca 1300</th>\n",
       "      <td>1294</td>\n",
       "      <td>68</td>\n",
       "      <td>424</td>\n",
       "      <td>168</td>\n",
       "      <td>1050</td>\n",
       "      <td>152</td>\n",
       "    </tr>\n",
       "    <tr>\n",
       "      <th>Citroen GS Club</th>\n",
       "      <td>1222</td>\n",
       "      <td>59</td>\n",
       "      <td>412</td>\n",
       "      <td>161</td>\n",
       "      <td>930</td>\n",
       "      <td>151</td>\n",
       "    </tr>\n",
       "    <tr>\n",
       "      <th>Fiat 132</th>\n",
       "      <td>1585</td>\n",
       "      <td>98</td>\n",
       "      <td>439</td>\n",
       "      <td>164</td>\n",
       "      <td>1105</td>\n",
       "      <td>165</td>\n",
       "    </tr>\n",
       "    <tr>\n",
       "      <th>Lancia Beta</th>\n",
       "      <td>1297</td>\n",
       "      <td>82</td>\n",
       "      <td>429</td>\n",
       "      <td>169</td>\n",
       "      <td>1080</td>\n",
       "      <td>160</td>\n",
       "    </tr>\n",
       "    <tr>\n",
       "      <th>Peugeot 504</th>\n",
       "      <td>1796</td>\n",
       "      <td>79</td>\n",
       "      <td>449</td>\n",
       "      <td>169</td>\n",
       "      <td>1160</td>\n",
       "      <td>154</td>\n",
       "    </tr>\n",
       "    <tr>\n",
       "      <th>Renault 16 TL</th>\n",
       "      <td>1565</td>\n",
       "      <td>55</td>\n",
       "      <td>424</td>\n",
       "      <td>163</td>\n",
       "      <td>1010</td>\n",
       "      <td>140</td>\n",
       "    </tr>\n",
       "    <tr>\n",
       "      <th>Renault 30</th>\n",
       "      <td>2664</td>\n",
       "      <td>128</td>\n",
       "      <td>452</td>\n",
       "      <td>173</td>\n",
       "      <td>1320</td>\n",
       "      <td>180</td>\n",
       "    </tr>\n",
       "    <tr>\n",
       "      <th>Toyota Corolla</th>\n",
       "      <td>1166</td>\n",
       "      <td>55</td>\n",
       "      <td>399</td>\n",
       "      <td>157</td>\n",
       "      <td>815</td>\n",
       "      <td>140</td>\n",
       "    </tr>\n",
       "    <tr>\n",
       "      <th>Alfetta-1.66</th>\n",
       "      <td>1570</td>\n",
       "      <td>109</td>\n",
       "      <td>428</td>\n",
       "      <td>162</td>\n",
       "      <td>1060</td>\n",
       "      <td>175</td>\n",
       "    </tr>\n",
       "    <tr>\n",
       "      <th>Princess-1800</th>\n",
       "      <td>1798</td>\n",
       "      <td>82</td>\n",
       "      <td>445</td>\n",
       "      <td>172</td>\n",
       "      <td>1160</td>\n",
       "      <td>158</td>\n",
       "    </tr>\n",
       "    <tr>\n",
       "      <th>Datsun-200L</th>\n",
       "      <td>1998</td>\n",
       "      <td>115</td>\n",
       "      <td>469</td>\n",
       "      <td>169</td>\n",
       "      <td>1370</td>\n",
       "      <td>160</td>\n",
       "    </tr>\n",
       "    <tr>\n",
       "      <th>Taunus-2000</th>\n",
       "      <td>1993</td>\n",
       "      <td>98</td>\n",
       "      <td>438</td>\n",
       "      <td>170</td>\n",
       "      <td>1080</td>\n",
       "      <td>167</td>\n",
       "    </tr>\n",
       "    <tr>\n",
       "      <th>Rancho</th>\n",
       "      <td>1442</td>\n",
       "      <td>80</td>\n",
       "      <td>431</td>\n",
       "      <td>166</td>\n",
       "      <td>1129</td>\n",
       "      <td>144</td>\n",
       "    </tr>\n",
       "    <tr>\n",
       "      <th>Mazda-9295</th>\n",
       "      <td>1769</td>\n",
       "      <td>83</td>\n",
       "      <td>440</td>\n",
       "      <td>165</td>\n",
       "      <td>1095</td>\n",
       "      <td>165</td>\n",
       "    </tr>\n",
       "    <tr>\n",
       "      <th>Opel-Rekord</th>\n",
       "      <td>1979</td>\n",
       "      <td>100</td>\n",
       "      <td>459</td>\n",
       "      <td>173</td>\n",
       "      <td>1120</td>\n",
       "      <td>173</td>\n",
       "    </tr>\n",
       "    <tr>\n",
       "      <th>Lada-1300</th>\n",
       "      <td>1294</td>\n",
       "      <td>68</td>\n",
       "      <td>404</td>\n",
       "      <td>161</td>\n",
       "      <td>955</td>\n",
       "      <td>140</td>\n",
       "    </tr>\n",
       "  </tbody>\n",
       "</table>\n",
       "</div>"
      ],
      "text/plain": [
       "                  CYL  PUISS  LONG  LARG  POIDS  V_MAX\n",
       "Modele                                                \n",
       "Alfasud TI       1350     79   393   161    870    165\n",
       "Audi 100         1588     85   468   177   1110    160\n",
       "Simca 1300       1294     68   424   168   1050    152\n",
       "Citroen GS Club  1222     59   412   161    930    151\n",
       "Fiat 132         1585     98   439   164   1105    165\n",
       "Lancia Beta      1297     82   429   169   1080    160\n",
       "Peugeot 504      1796     79   449   169   1160    154\n",
       "Renault 16 TL    1565     55   424   163   1010    140\n",
       "Renault 30       2664    128   452   173   1320    180\n",
       "Toyota Corolla   1166     55   399   157    815    140\n",
       "Alfetta-1.66     1570    109   428   162   1060    175\n",
       "Princess-1800    1798     82   445   172   1160    158\n",
       "Datsun-200L      1998    115   469   169   1370    160\n",
       "Taunus-2000      1993     98   438   170   1080    167\n",
       "Rancho           1442     80   431   166   1129    144\n",
       "Mazda-9295       1769     83   440   165   1095    165\n",
       "Opel-Rekord      1979    100   459   173   1120    173\n",
       "Lada-1300        1294     68   404   161    955    140"
      ]
     },
     "execution_count": 8,
     "metadata": {},
     "output_type": "execute_result"
    }
   ],
   "source": [
    "X"
   ]
  },
  {
   "cell_type": "code",
   "execution_count": 7,
   "metadata": {
    "scrolled": true
   },
   "outputs": [
    {
     "data": {
      "text/plain": [
       "array([[-0.77509889, -0.28335818, -1.88508077, -1.09734528, -1.56900676,\n",
       "         0.56976043],\n",
       "       [-0.12016326,  0.01963869,  1.60580955,  2.0010414 ,  0.23416142,\n",
       "         0.14597168],\n",
       "       [-0.92920139, -0.83885242, -0.44217944,  0.25819889, -0.21663062,\n",
       "        -0.53209032],\n",
       "       [-1.12733318, -1.29334771, -1.00072189, -1.09734528, -1.11821472,\n",
       "        -0.61684807],\n",
       "       [-0.12841875,  0.67613189,  0.25599862, -0.51639778,  0.19659542,\n",
       "         0.56976043],\n",
       "       [-0.9209459 , -0.13185975, -0.20945342,  0.45184806,  0.0087654 ,\n",
       "         0.14597168],\n",
       "       [ 0.45221746, -0.28335818,  0.72145067,  0.45184806,  0.60982146,\n",
       "        -0.36257482],\n",
       "       [-0.18345536, -1.49534562, -0.44217944, -0.71004695, -0.51715865,\n",
       "        -1.54918332],\n",
       "       [ 2.84080623,  2.19111619,  0.86108628,  1.22644473,  1.81193359,\n",
       "         1.84112668],\n",
       "       [-1.28143568, -1.49534562, -1.60580955, -1.87194195, -1.98223281,\n",
       "        -1.54918332],\n",
       "       [-0.16969621,  1.23162613, -0.25599862, -0.90369611, -0.14149861,\n",
       "         1.41733793],\n",
       "       [ 0.45772112, -0.13185975,  0.53526985,  1.03279556,  0.60982146,\n",
       "        -0.02354382],\n",
       "       [ 1.0080872 ,  1.53462299,  1.65235475,  0.45184806,  2.18759363,\n",
       "         0.14597168],\n",
       "       [ 0.99432805,  0.67613189,  0.20945342,  0.64549722,  0.0087654 ,\n",
       "         0.73927593],\n",
       "       [-0.5219305 , -0.2328587 , -0.11636301, -0.12909944,  0.37691224,\n",
       "        -1.21015232],\n",
       "       [ 0.37791804, -0.08136027,  0.30254383, -0.32274861,  0.12146341,\n",
       "         0.56976043],\n",
       "       [ 0.95580242,  0.77713084,  1.18690271,  1.22644473,  0.30929343,\n",
       "         1.24782243],\n",
       "       [-0.92920139, -0.83885242, -1.37308353, -1.09734528, -0.9303847 ,\n",
       "        -1.54918332]])"
      ]
     },
     "execution_count": 7,
     "metadata": {},
     "output_type": "execute_result"
    }
   ],
   "source": [
    "# Centrage et réduction des variables\n",
    "#instanciation\n",
    "sc = StandardScaler()\n",
    "\n",
    "#transformation\n",
    "Z = sc.fit_transform(X)\n",
    "Z"
   ]
  },
  {
   "cell_type": "code",
   "execution_count": 10,
   "metadata": {},
   "outputs": [
    {
     "data": {
      "text/plain": [
       "array([-2.22044605e-16, -1.41861831e-16,  0.00000000e+00,  1.86270752e-15,\n",
       "        5.73615229e-16,  5.55111512e-16])"
      ]
     },
     "execution_count": 10,
     "metadata": {},
     "output_type": "execute_result"
    }
   ],
   "source": [
    "# moyenne\n",
    "np.mean(Z,axis=0)"
   ]
  },
  {
   "cell_type": "code",
   "execution_count": 11,
   "metadata": {},
   "outputs": [
    {
     "data": {
      "text/plain": [
       "array([1., 1., 1., 1., 1., 1.])"
      ]
     },
     "execution_count": 11,
     "metadata": {},
     "output_type": "execute_result"
    }
   ],
   "source": [
    "#ecart-type des données centrées et réduies\n",
    "np.std(Z,axis=0,ddof=0)"
   ]
  },
  {
   "cell_type": "code",
   "execution_count": 12,
   "metadata": {},
   "outputs": [
    {
     "data": {
      "text/plain": [
       "PCA(copy=True, iterated_power='auto', n_components=None, random_state=None,\n",
       "    svd_solver='full', tol=0.0, whiten=False)"
      ]
     },
     "execution_count": 12,
     "metadata": {},
     "output_type": "execute_result"
    }
   ],
   "source": [
    "# Application de l'ACP sur nos données\n",
    "\n",
    "#instanciation\n",
    "acp = PCA(svd_solver='full')\n",
    "\n",
    "#affichage des paramètres\n",
    "acp"
   ]
  },
  {
   "cell_type": "code",
   "execution_count": 13,
   "metadata": {},
   "outputs": [],
   "source": [
    "#calculs\n",
    "coord = acp.fit_transform(Z)"
   ]
  },
  {
   "cell_type": "code",
   "execution_count": 14,
   "metadata": {},
   "outputs": [
    {
     "data": {
      "text/plain": [
       "6"
      ]
     },
     "execution_count": 14,
     "metadata": {},
     "output_type": "execute_result"
    }
   ],
   "source": [
    "#nombre de composantes calculées\n",
    "acp.n_components_"
   ]
  },
  {
   "cell_type": "code",
   "execution_count": 15,
   "metadata": {},
   "outputs": [
    {
     "data": {
      "text/plain": [
       "array([4.68090853, 0.90641889, 0.39501114, 0.22650574, 0.09826011,\n",
       "       0.04583676])"
      ]
     },
     "execution_count": 15,
     "metadata": {},
     "output_type": "execute_result"
    }
   ],
   "source": [
    "#variance expliquée\n",
    "acp.explained_variance_"
   ]
  },
  {
   "cell_type": "code",
   "execution_count": 16,
   "metadata": {},
   "outputs": [
    {
     "data": {
      "text/plain": [
       "array([4.42085806, 0.85606229, 0.37306608, 0.21392209, 0.09280121,\n",
       "       0.04329027])"
      ]
     },
     "execution_count": 16,
     "metadata": {},
     "output_type": "execute_result"
    }
   ],
   "source": [
    "#valeur corrigée\n",
    "eigval = (n-1)/n*acp.explained_variance_\n",
    "eigval"
   ]
  },
  {
   "cell_type": "code",
   "execution_count": 17,
   "metadata": {},
   "outputs": [
    {
     "data": {
      "text/plain": [
       "array([4.42085806, 0.85606229, 0.37306608, 0.21392209, 0.09280121,\n",
       "       0.04329027])"
      ]
     },
     "execution_count": 17,
     "metadata": {},
     "output_type": "execute_result"
    }
   ],
   "source": [
    "#ou bien en passant par les valeurs singulières\n",
    "acp.singular_values_**2/n"
   ]
  },
  {
   "cell_type": "code",
   "execution_count": 18,
   "metadata": {},
   "outputs": [
    {
     "data": {
      "text/plain": [
       "array([0.73680968, 0.14267705, 0.06217768, 0.03565368, 0.01546687,\n",
       "       0.00721505])"
      ]
     },
     "execution_count": 18,
     "metadata": {},
     "output_type": "execute_result"
    }
   ],
   "source": [
    "#proportion de variance expliquée\n",
    "acp.explained_variance_ratio_"
   ]
  },
  {
   "cell_type": "code",
   "execution_count": 20,
   "metadata": {},
   "outputs": [
    {
     "data": {
      "image/png": "[encoded data removed]",
      "text/plain": [
       "<Figure size 432x288 with 1 Axes>"
      ]
     },
     "metadata": {
      "needs_background": "light"
     },
     "output_type": "display_data"
    }
   ],
   "source": [
    "#scree plot\n",
    "plt.plot(np.arange(1,p+1),eigval)\n",
    "plt.title(\"Scree plot\")\n",
    "plt.ylabel(\"Eigen values\")\n",
    "plt.xlabel(\"Factor number\")\n",
    "plt.show()"
   ]
  },
  {
   "cell_type": "code",
   "execution_count": 21,
   "metadata": {},
   "outputs": [
    {
     "data": {
      "image/png": "[encoded data removed]",
      "text/plain": [
       "<Figure size 432x288 with 1 Axes>"
      ]
     },
     "metadata": {
      "needs_background": "light"
     },
     "output_type": "display_data"
    }
   ],
   "source": [
    "#cumul de variance expliquée\n",
    "plt.plot(np.arange(1,p+1),np.cumsum(acp.explained_variance_ratio_))\n",
    "plt.title(\"Explained variance vs. # of factors\")\n",
    "plt.ylabel(\"Cumsum explained variance ratio\")\n",
    "plt.xlabel(\"Factor number\")\n",
    "plt.show()"
   ]
  },
  {
   "cell_type": "code",
   "execution_count": 22,
   "metadata": {},
   "outputs": [],
   "source": [
    "#seuils pour test des bâtons brisés\n",
    "bs = 1/np.arange(p,0,-1)\n",
    "bs = np.cumsum(bs)\n",
    "bs = bs[::-1]"
   ]
  },
  {
   "cell_type": "code",
   "execution_count": 23,
   "metadata": {},
   "outputs": [
    {
     "data": {
      "text/html": [
       "<div>\n",
       "<style scoped>\n",
       "    .dataframe tbody tr th:only-of-type {\n",
       "        vertical-align: middle;\n",
       "    }\n",
       "\n",
       "    .dataframe tbody tr th {\n",
       "        vertical-align: top;\n",
       "    }\n",
       "\n",
       "    .dataframe thead th {\n",
       "        text-align: right;\n",
       "    }\n",
       "</style>\n",
       "<table border=\"1\" class=\"dataframe\">\n",
       "  <thead>\n",
       "    <tr style=\"text-align: right;\">\n",
       "      <th></th>\n",
       "      <th>Val.Propre</th>\n",
       "      <th>Seuils</th>\n",
       "    </tr>\n",
       "  </thead>\n",
       "  <tbody>\n",
       "    <tr>\n",
       "      <th>0</th>\n",
       "      <td>4.420858</td>\n",
       "      <td>2.450000</td>\n",
       "    </tr>\n",
       "    <tr>\n",
       "      <th>1</th>\n",
       "      <td>0.856062</td>\n",
       "      <td>1.450000</td>\n",
       "    </tr>\n",
       "    <tr>\n",
       "      <th>2</th>\n",
       "      <td>0.373066</td>\n",
       "      <td>0.950000</td>\n",
       "    </tr>\n",
       "    <tr>\n",
       "      <th>3</th>\n",
       "      <td>0.213922</td>\n",
       "      <td>0.616667</td>\n",
       "    </tr>\n",
       "    <tr>\n",
       "      <th>4</th>\n",
       "      <td>0.092801</td>\n",
       "      <td>0.366667</td>\n",
       "    </tr>\n",
       "    <tr>\n",
       "      <th>5</th>\n",
       "      <td>0.043290</td>\n",
       "      <td>0.166667</td>\n",
       "    </tr>\n",
       "  </tbody>\n",
       "</table>\n",
       "</div>"
      ],
      "text/plain": [
       "   Val.Propre    Seuils\n",
       "0    4.420858  2.450000\n",
       "1    0.856062  1.450000\n",
       "2    0.373066  0.950000\n",
       "3    0.213922  0.616667\n",
       "4    0.092801  0.366667\n",
       "5    0.043290  0.166667"
      ]
     },
     "execution_count": 23,
     "metadata": {},
     "output_type": "execute_result"
    }
   ],
   "source": [
    "#test des bâtons brisés\n",
    "pd.DataFrame({'Val.Propre':eigval,'Seuils':bs})"
   ]
  },
  {
   "cell_type": "code",
   "execution_count": 24,
   "metadata": {
    "scrolled": true
   },
   "outputs": [
    {
     "data": {
      "text/html": [
       "<div>\n",
       "<style scoped>\n",
       "    .dataframe tbody tr th:only-of-type {\n",
       "        vertical-align: middle;\n",
       "    }\n",
       "\n",
       "    .dataframe tbody tr th {\n",
       "        vertical-align: top;\n",
       "    }\n",
       "\n",
       "    .dataframe thead th {\n",
       "        text-align: right;\n",
       "    }\n",
       "</style>\n",
       "<table border=\"1\" class=\"dataframe\">\n",
       "  <thead>\n",
       "    <tr style=\"text-align: right;\">\n",
       "      <th></th>\n",
       "      <th>1</th>\n",
       "      <th>2</th>\n",
       "      <th>3</th>\n",
       "      <th>4</th>\n",
       "      <th>5</th>\n",
       "      <th>6</th>\n",
       "    </tr>\n",
       "    <tr>\n",
       "      <th>Modele</th>\n",
       "      <th></th>\n",
       "      <th></th>\n",
       "      <th></th>\n",
       "      <th></th>\n",
       "      <th></th>\n",
       "      <th></th>\n",
       "    </tr>\n",
       "  </thead>\n",
       "  <tbody>\n",
       "    <tr>\n",
       "      <th>Alfasud TI</th>\n",
       "      <td>-2.138924</td>\n",
       "      <td>1.785681</td>\n",
       "      <td>0.571862</td>\n",
       "      <td>0.201927</td>\n",
       "      <td>-0.301357</td>\n",
       "      <td>0.053921</td>\n",
       "    </tr>\n",
       "    <tr>\n",
       "      <th>Audi 100</th>\n",
       "      <td>1.561459</td>\n",
       "      <td>-1.527040</td>\n",
       "      <td>1.315271</td>\n",
       "      <td>-0.211352</td>\n",
       "      <td>0.148516</td>\n",
       "      <td>-0.327238</td>\n",
       "    </tr>\n",
       "    <tr>\n",
       "      <th>Simca 1300</th>\n",
       "      <td>-1.119385</td>\n",
       "      <td>-0.674505</td>\n",
       "      <td>0.456588</td>\n",
       "      <td>-0.167626</td>\n",
       "      <td>-0.375364</td>\n",
       "      <td>0.271803</td>\n",
       "    </tr>\n",
       "    <tr>\n",
       "      <th>Citroen GS Club</th>\n",
       "      <td>-2.573742</td>\n",
       "      <td>0.112884</td>\n",
       "      <td>0.148570</td>\n",
       "      <td>-0.017343</td>\n",
       "      <td>0.226853</td>\n",
       "      <td>0.263476</td>\n",
       "    </tr>\n",
       "    <tr>\n",
       "      <th>Fiat 132</th>\n",
       "      <td>0.427855</td>\n",
       "      <td>0.695567</td>\n",
       "      <td>-0.193286</td>\n",
       "      <td>-0.627754</td>\n",
       "      <td>0.263505</td>\n",
       "      <td>-0.037153</td>\n",
       "    </tr>\n",
       "    <tr>\n",
       "      <th>Lancia Beta</th>\n",
       "      <td>-0.304238</td>\n",
       "      <td>-0.196149</td>\n",
       "      <td>0.675803</td>\n",
       "      <td>-0.555941</td>\n",
       "      <td>-0.445086</td>\n",
       "      <td>0.200083</td>\n",
       "    </tr>\n",
       "    <tr>\n",
       "      <th>Peugeot 504</th>\n",
       "      <td>0.683928</td>\n",
       "      <td>-0.933057</td>\n",
       "      <td>-0.256823</td>\n",
       "      <td>0.203134</td>\n",
       "      <td>0.208652</td>\n",
       "      <td>0.153892</td>\n",
       "    </tr>\n",
       "    <tr>\n",
       "      <th>Renault 16 TL</th>\n",
       "      <td>-1.948493</td>\n",
       "      <td>-0.980448</td>\n",
       "      <td>-0.619575</td>\n",
       "      <td>0.630319</td>\n",
       "      <td>0.293165</td>\n",
       "      <td>0.108642</td>\n",
       "    </tr>\n",
       "    <tr>\n",
       "      <th>Renault 30</th>\n",
       "      <td>4.409735</td>\n",
       "      <td>1.063633</td>\n",
       "      <td>-0.593528</td>\n",
       "      <td>0.847248</td>\n",
       "      <td>-0.374890</td>\n",
       "      <td>0.043997</td>\n",
       "    </tr>\n",
       "    <tr>\n",
       "      <th>Toyota Corolla</th>\n",
       "      <td>-3.985782</td>\n",
       "      <td>0.236240</td>\n",
       "      <td>-0.303133</td>\n",
       "      <td>0.265122</td>\n",
       "      <td>0.278428</td>\n",
       "      <td>-0.328892</td>\n",
       "    </tr>\n",
       "    <tr>\n",
       "      <th>Alfetta-1.66</th>\n",
       "      <td>0.437658</td>\n",
       "      <td>1.912448</td>\n",
       "      <td>0.024942</td>\n",
       "      <td>-0.758910</td>\n",
       "      <td>0.168103</td>\n",
       "      <td>-0.054241</td>\n",
       "    </tr>\n",
       "    <tr>\n",
       "      <th>Princess-1800</th>\n",
       "      <td>1.018175</td>\n",
       "      <td>-0.841712</td>\n",
       "      <td>0.216610</td>\n",
       "      <td>0.303426</td>\n",
       "      <td>-0.184876</td>\n",
       "      <td>0.184894</td>\n",
       "    </tr>\n",
       "    <tr>\n",
       "      <th>Datsun-200L</th>\n",
       "      <td>2.941080</td>\n",
       "      <td>-0.559175</td>\n",
       "      <td>-1.243988</td>\n",
       "      <td>-0.772171</td>\n",
       "      <td>0.054412</td>\n",
       "      <td>-0.057263</td>\n",
       "    </tr>\n",
       "    <tr>\n",
       "      <th>Taunus-2000</th>\n",
       "      <td>1.314880</td>\n",
       "      <td>0.486522</td>\n",
       "      <td>0.282621</td>\n",
       "      <td>0.582226</td>\n",
       "      <td>-0.066735</td>\n",
       "      <td>-0.253092</td>\n",
       "    </tr>\n",
       "    <tr>\n",
       "      <th>Rancho</th>\n",
       "      <td>-0.691111</td>\n",
       "      <td>-0.897721</td>\n",
       "      <td>-0.628407</td>\n",
       "      <td>-0.357737</td>\n",
       "      <td>-0.377086</td>\n",
       "      <td>-0.121532</td>\n",
       "    </tr>\n",
       "    <tr>\n",
       "      <th>Mazda-9295</th>\n",
       "      <td>0.385709</td>\n",
       "      <td>0.356185</td>\n",
       "      <td>-0.075583</td>\n",
       "      <td>0.102899</td>\n",
       "      <td>0.527043</td>\n",
       "      <td>0.338832</td>\n",
       "    </tr>\n",
       "    <tr>\n",
       "      <th>Opel-Rekord</th>\n",
       "      <td>2.289768</td>\n",
       "      <td>0.104345</td>\n",
       "      <td>0.796384</td>\n",
       "      <td>0.236347</td>\n",
       "      <td>0.338461</td>\n",
       "      <td>-0.156681</td>\n",
       "    </tr>\n",
       "    <tr>\n",
       "      <th>Lada-1300</th>\n",
       "      <td>-2.708574</td>\n",
       "      <td>-0.143699</td>\n",
       "      <td>-0.574329</td>\n",
       "      <td>0.096185</td>\n",
       "      <td>-0.381746</td>\n",
       "      <td>-0.283448</td>\n",
       "    </tr>\n",
       "  </tbody>\n",
       "</table>\n",
       "</div>"
      ],
      "text/plain": [
       "                        1         2         3         4         5         6\n",
       "Modele                                                                     \n",
       "Alfasud TI      -2.138924  1.785681  0.571862  0.201927 -0.301357  0.053921\n",
       "Audi 100         1.561459 -1.527040  1.315271 -0.211352  0.148516 -0.327238\n",
       "Simca 1300      -1.119385 -0.674505  0.456588 -0.167626 -0.375364  0.271803\n",
       "Citroen GS Club -2.573742  0.112884  0.148570 -0.017343  0.226853  0.263476\n",
       "Fiat 132         0.427855  0.695567 -0.193286 -0.627754  0.263505 -0.037153\n",
       "Lancia Beta     -0.304238 -0.196149  0.675803 -0.555941 -0.445086  0.200083\n",
       "Peugeot 504      0.683928 -0.933057 -0.256823  0.203134  0.208652  0.153892\n",
       "Renault 16 TL   -1.948493 -0.980448 -0.619575  0.630319  0.293165  0.108642\n",
       "Renault 30       4.409735  1.063633 -0.593528  0.847248 -0.374890  0.043997\n",
       "Toyota Corolla  -3.985782  0.236240 -0.303133  0.265122  0.278428 -0.328892\n",
       "Alfetta-1.66     0.437658  1.912448  0.024942 -0.758910  0.168103 -0.054241\n",
       "Princess-1800    1.018175 -0.841712  0.216610  0.303426 -0.184876  0.184894\n",
       "Datsun-200L      2.941080 -0.559175 -1.243988 -0.772171  0.054412 -0.057263\n",
       "Taunus-2000      1.314880  0.486522  0.282621  0.582226 -0.066735 -0.253092\n",
       "Rancho          -0.691111 -0.897721 -0.628407 -0.357737 -0.377086 -0.121532\n",
       "Mazda-9295       0.385709  0.356185 -0.075583  0.102899  0.527043  0.338832\n",
       "Opel-Rekord      2.289768  0.104345  0.796384  0.236347  0.338461 -0.156681\n",
       "Lada-1300       -2.708574 -0.143699 -0.574329  0.096185 -0.381746 -0.283448"
      ]
     },
     "execution_count": 24,
     "metadata": {},
     "output_type": "execute_result"
    }
   ],
   "source": [
    "#coordonnées factorielles des individus\n",
    "cf = pd.DataFrame(coord,index=X.index,columns=np.arange(1,p+1))\n",
    "cf"
   ]
  },
  {
   "cell_type": "code",
   "execution_count": 26,
   "metadata": {},
   "outputs": [
    {
     "data": {
      "image/png": "[encoded data removed]",
      "text/plain": [
       "<Figure size 864x864 with 1 Axes>"
      ]
     },
     "metadata": {
      "needs_background": "light"
     },
     "output_type": "display_data"
    }
   ],
   "source": [
    "#positionnement des individus dans le premier plan\n",
    "fig, axes = plt.subplots(figsize=(12,12))\n",
    "axes.set_xlim(-6,6)\n",
    "axes.set_ylim(-6,6)\n",
    "\n",
    "for i in range(n):\n",
    "    plt.annotate(X.index[i],(coord[i,0],coord[i,1]))\n",
    "    \n",
    "#ajouter les axes\n",
    "plt.plot([-6,6],[0,0],color='silver',linestyle='-',linewidth=1)\n",
    "plt.plot([0,0],[-6,6],color='silver',linestyle='-',linewidth=1)\n",
    "\n",
    "#affichage\n",
    "plt.show()"
   ]
  },
  {
   "cell_type": "code",
   "execution_count": 28,
   "metadata": {
    "scrolled": true
   },
   "outputs": [
    {
     "data": {
      "text/html": [
       "<div>\n",
       "<style scoped>\n",
       "    .dataframe tbody tr th:only-of-type {\n",
       "        vertical-align: middle;\n",
       "    }\n",
       "\n",
       "    .dataframe tbody tr th {\n",
       "        vertical-align: top;\n",
       "    }\n",
       "\n",
       "    .dataframe thead th {\n",
       "        text-align: right;\n",
       "    }\n",
       "</style>\n",
       "<table border=\"1\" class=\"dataframe\">\n",
       "  <thead>\n",
       "    <tr style=\"text-align: right;\">\n",
       "      <th></th>\n",
       "      <th>ID</th>\n",
       "      <th>d_i</th>\n",
       "    </tr>\n",
       "  </thead>\n",
       "  <tbody>\n",
       "    <tr>\n",
       "      <th>0</th>\n",
       "      <td>Alfasud TI</td>\n",
       "      <td>8.225176</td>\n",
       "    </tr>\n",
       "    <tr>\n",
       "      <th>1</th>\n",
       "      <td>Audi 100</td>\n",
       "      <td>6.673755</td>\n",
       "    </tr>\n",
       "    <tr>\n",
       "      <th>2</th>\n",
       "      <td>Simca 1300</td>\n",
       "      <td>2.159327</td>\n",
       "    </tr>\n",
       "    <tr>\n",
       "      <th>3</th>\n",
       "      <td>Citroen GS Club</td>\n",
       "      <td>6.780145</td>\n",
       "    </tr>\n",
       "    <tr>\n",
       "      <th>4</th>\n",
       "      <td>Fiat 132</td>\n",
       "      <td>1.169124</td>\n",
       "    </tr>\n",
       "    <tr>\n",
       "      <th>5</th>\n",
       "      <td>Lancia Beta</td>\n",
       "      <td>1.134950</td>\n",
       "    </tr>\n",
       "    <tr>\n",
       "      <th>6</th>\n",
       "      <td>Peugeot 504</td>\n",
       "      <td>1.512793</td>\n",
       "    </tr>\n",
       "    <tr>\n",
       "      <th>7</th>\n",
       "      <td>Renault 16 TL</td>\n",
       "      <td>5.636826</td>\n",
       "    </tr>\n",
       "    <tr>\n",
       "      <th>8</th>\n",
       "      <td>Renault 30</td>\n",
       "      <td>21.789657</td>\n",
       "    </tr>\n",
       "    <tr>\n",
       "      <th>9</th>\n",
       "      <td>Toyota Corolla</td>\n",
       "      <td>16.290143</td>\n",
       "    </tr>\n",
       "    <tr>\n",
       "      <th>10</th>\n",
       "      <td>Alfetta-1.66</td>\n",
       "      <td>4.456770</td>\n",
       "    </tr>\n",
       "    <tr>\n",
       "      <th>11</th>\n",
       "      <td>Princess-1800</td>\n",
       "      <td>1.952513</td>\n",
       "    </tr>\n",
       "    <tr>\n",
       "      <th>12</th>\n",
       "      <td>Datsun-200L</td>\n",
       "      <td>11.112624</td>\n",
       "    </tr>\n",
       "    <tr>\n",
       "      <th>13</th>\n",
       "      <td>Taunus-2000</td>\n",
       "      <td>2.452986</td>\n",
       "    </tr>\n",
       "    <tr>\n",
       "      <th>14</th>\n",
       "      <td>Rancho</td>\n",
       "      <td>1.963373</td>\n",
       "    </tr>\n",
       "    <tr>\n",
       "      <th>15</th>\n",
       "      <td>Mazda-9295</td>\n",
       "      <td>0.684521</td>\n",
       "    </tr>\n",
       "    <tr>\n",
       "      <th>16</th>\n",
       "      <td>Opel-Rekord</td>\n",
       "      <td>6.083119</td>\n",
       "    </tr>\n",
       "    <tr>\n",
       "      <th>17</th>\n",
       "      <td>Lada-1300</td>\n",
       "      <td>7.922198</td>\n",
       "    </tr>\n",
       "  </tbody>\n",
       "</table>\n",
       "</div>"
      ],
      "text/plain": [
       "                 ID        d_i\n",
       "0        Alfasud TI   8.225176\n",
       "1          Audi 100   6.673755\n",
       "2        Simca 1300   2.159327\n",
       "3   Citroen GS Club   6.780145\n",
       "4          Fiat 132   1.169124\n",
       "5       Lancia Beta   1.134950\n",
       "6       Peugeot 504   1.512793\n",
       "7     Renault 16 TL   5.636826\n",
       "8        Renault 30  21.789657\n",
       "9    Toyota Corolla  16.290143\n",
       "10     Alfetta-1.66   4.456770\n",
       "11    Princess-1800   1.952513\n",
       "12      Datsun-200L  11.112624\n",
       "13      Taunus-2000   2.452986\n",
       "14           Rancho   1.963373\n",
       "15       Mazda-9295   0.684521\n",
       "16      Opel-Rekord   6.083119\n",
       "17        Lada-1300   7.922198"
      ]
     },
     "execution_count": 28,
     "metadata": {},
     "output_type": "execute_result"
    }
   ],
   "source": [
    "#contribution des individus dans l'inertie totale\n",
    "di = np.sum(Z**2,axis=1)\n",
    "pd.DataFrame({'ID':X.index,'d_i':di})"
   ]
  },
  {
   "cell_type": "code",
   "execution_count": 29,
   "metadata": {},
   "outputs": [
    {
     "data": {
      "text/html": [
       "<div>\n",
       "<style scoped>\n",
       "    .dataframe tbody tr th:only-of-type {\n",
       "        vertical-align: middle;\n",
       "    }\n",
       "\n",
       "    .dataframe tbody tr th {\n",
       "        vertical-align: top;\n",
       "    }\n",
       "\n",
       "    .dataframe thead th {\n",
       "        text-align: right;\n",
       "    }\n",
       "</style>\n",
       "<table border=\"1\" class=\"dataframe\">\n",
       "  <thead>\n",
       "    <tr style=\"text-align: right;\">\n",
       "      <th></th>\n",
       "      <th>id</th>\n",
       "      <th>COS2_1</th>\n",
       "      <th>COS2_2</th>\n",
       "    </tr>\n",
       "  </thead>\n",
       "  <tbody>\n",
       "    <tr>\n",
       "      <th>0</th>\n",
       "      <td>Alfasud TI</td>\n",
       "      <td>0.556218</td>\n",
       "      <td>0.387670</td>\n",
       "    </tr>\n",
       "    <tr>\n",
       "      <th>1</th>\n",
       "      <td>Audi 100</td>\n",
       "      <td>0.365334</td>\n",
       "      <td>0.349406</td>\n",
       "    </tr>\n",
       "    <tr>\n",
       "      <th>2</th>\n",
       "      <td>Simca 1300</td>\n",
       "      <td>0.580284</td>\n",
       "      <td>0.210694</td>\n",
       "    </tr>\n",
       "    <tr>\n",
       "      <th>3</th>\n",
       "      <td>Citroen GS Club</td>\n",
       "      <td>0.976992</td>\n",
       "      <td>0.001879</td>\n",
       "    </tr>\n",
       "    <tr>\n",
       "      <th>4</th>\n",
       "      <td>Fiat 132</td>\n",
       "      <td>0.156579</td>\n",
       "      <td>0.413826</td>\n",
       "    </tr>\n",
       "    <tr>\n",
       "      <th>5</th>\n",
       "      <td>Lancia Beta</td>\n",
       "      <td>0.081555</td>\n",
       "      <td>0.033900</td>\n",
       "    </tr>\n",
       "    <tr>\n",
       "      <th>6</th>\n",
       "      <td>Peugeot 504</td>\n",
       "      <td>0.309202</td>\n",
       "      <td>0.575488</td>\n",
       "    </tr>\n",
       "    <tr>\n",
       "      <th>7</th>\n",
       "      <td>Renault 16 TL</td>\n",
       "      <td>0.673539</td>\n",
       "      <td>0.170535</td>\n",
       "    </tr>\n",
       "    <tr>\n",
       "      <th>8</th>\n",
       "      <td>Renault 30</td>\n",
       "      <td>0.892431</td>\n",
       "      <td>0.051920</td>\n",
       "    </tr>\n",
       "    <tr>\n",
       "      <th>9</th>\n",
       "      <td>Toyota Corolla</td>\n",
       "      <td>0.975219</td>\n",
       "      <td>0.003426</td>\n",
       "    </tr>\n",
       "    <tr>\n",
       "      <th>10</th>\n",
       "      <td>Alfetta-1.66</td>\n",
       "      <td>0.042978</td>\n",
       "      <td>0.820652</td>\n",
       "    </tr>\n",
       "    <tr>\n",
       "      <th>11</th>\n",
       "      <td>Princess-1800</td>\n",
       "      <td>0.530947</td>\n",
       "      <td>0.362855</td>\n",
       "    </tr>\n",
       "    <tr>\n",
       "      <th>12</th>\n",
       "      <td>Datsun-200L</td>\n",
       "      <td>0.778390</td>\n",
       "      <td>0.028137</td>\n",
       "    </tr>\n",
       "    <tr>\n",
       "      <th>13</th>\n",
       "      <td>Taunus-2000</td>\n",
       "      <td>0.704819</td>\n",
       "      <td>0.096496</td>\n",
       "    </tr>\n",
       "    <tr>\n",
       "      <th>14</th>\n",
       "      <td>Rancho</td>\n",
       "      <td>0.243273</td>\n",
       "      <td>0.410469</td>\n",
       "    </tr>\n",
       "    <tr>\n",
       "      <th>15</th>\n",
       "      <td>Mazda-9295</td>\n",
       "      <td>0.217336</td>\n",
       "      <td>0.185337</td>\n",
       "    </tr>\n",
       "    <tr>\n",
       "      <th>16</th>\n",
       "      <td>Opel-Rekord</td>\n",
       "      <td>0.861900</td>\n",
       "      <td>0.001790</td>\n",
       "    </tr>\n",
       "    <tr>\n",
       "      <th>17</th>\n",
       "      <td>Lada-1300</td>\n",
       "      <td>0.926052</td>\n",
       "      <td>0.002607</td>\n",
       "    </tr>\n",
       "  </tbody>\n",
       "</table>\n",
       "</div>"
      ],
      "text/plain": [
       "                 id    COS2_1    COS2_2\n",
       "0        Alfasud TI  0.556218  0.387670\n",
       "1          Audi 100  0.365334  0.349406\n",
       "2        Simca 1300  0.580284  0.210694\n",
       "3   Citroen GS Club  0.976992  0.001879\n",
       "4          Fiat 132  0.156579  0.413826\n",
       "5       Lancia Beta  0.081555  0.033900\n",
       "6       Peugeot 504  0.309202  0.575488\n",
       "7     Renault 16 TL  0.673539  0.170535\n",
       "8        Renault 30  0.892431  0.051920\n",
       "9    Toyota Corolla  0.975219  0.003426\n",
       "10     Alfetta-1.66  0.042978  0.820652\n",
       "11    Princess-1800  0.530947  0.362855\n",
       "12      Datsun-200L  0.778390  0.028137\n",
       "13      Taunus-2000  0.704819  0.096496\n",
       "14           Rancho  0.243273  0.410469\n",
       "15       Mazda-9295  0.217336  0.185337\n",
       "16      Opel-Rekord  0.861900  0.001790\n",
       "17        Lada-1300  0.926052  0.002607"
      ]
     },
     "execution_count": 29,
     "metadata": {},
     "output_type": "execute_result"
    }
   ],
   "source": [
    "#qualité de représentation des individus - COS2\n",
    "cos2 = coord**2\n",
    "for j in range(p):\n",
    "    cos2[:,j] = cos2[:,j]/di\n",
    "\n",
    "pd.DataFrame({'id':X.index,'COS2_1':cos2[:,0],'COS2_2':cos2[:,1]})"
   ]
  },
  {
   "cell_type": "code",
   "execution_count": 30,
   "metadata": {},
   "outputs": [
    {
     "data": {
      "text/plain": [
       "array([1., 1., 1., 1., 1., 1., 1., 1., 1., 1., 1., 1., 1., 1., 1., 1., 1.,\n",
       "       1.])"
      ]
     },
     "execution_count": 30,
     "metadata": {},
     "output_type": "execute_result"
    }
   ],
   "source": [
    "#vérifions la théorie - somme en ligne des cos2 = 1\n",
    "np.sum(cos2,axis=1)"
   ]
  },
  {
   "cell_type": "code",
   "execution_count": 31,
   "metadata": {},
   "outputs": [
    {
     "data": {
      "text/html": [
       "<div>\n",
       "<style scoped>\n",
       "    .dataframe tbody tr th:only-of-type {\n",
       "        vertical-align: middle;\n",
       "    }\n",
       "\n",
       "    .dataframe tbody tr th {\n",
       "        vertical-align: top;\n",
       "    }\n",
       "\n",
       "    .dataframe thead th {\n",
       "        text-align: right;\n",
       "    }\n",
       "</style>\n",
       "<table border=\"1\" class=\"dataframe\">\n",
       "  <thead>\n",
       "    <tr style=\"text-align: right;\">\n",
       "      <th></th>\n",
       "      <th>id</th>\n",
       "      <th>CTR_1</th>\n",
       "      <th>CTR_2</th>\n",
       "    </tr>\n",
       "  </thead>\n",
       "  <tbody>\n",
       "    <tr>\n",
       "      <th>0</th>\n",
       "      <td>Alfasud TI</td>\n",
       "      <td>0.057493</td>\n",
       "      <td>0.206933</td>\n",
       "    </tr>\n",
       "    <tr>\n",
       "      <th>1</th>\n",
       "      <td>Audi 100</td>\n",
       "      <td>0.030640</td>\n",
       "      <td>0.151329</td>\n",
       "    </tr>\n",
       "    <tr>\n",
       "      <th>2</th>\n",
       "      <td>Simca 1300</td>\n",
       "      <td>0.015746</td>\n",
       "      <td>0.029525</td>\n",
       "    </tr>\n",
       "    <tr>\n",
       "      <th>3</th>\n",
       "      <td>Citroen GS Club</td>\n",
       "      <td>0.083244</td>\n",
       "      <td>0.000827</td>\n",
       "    </tr>\n",
       "    <tr>\n",
       "      <th>4</th>\n",
       "      <td>Fiat 132</td>\n",
       "      <td>0.002300</td>\n",
       "      <td>0.031398</td>\n",
       "    </tr>\n",
       "    <tr>\n",
       "      <th>5</th>\n",
       "      <td>Lancia Beta</td>\n",
       "      <td>0.001163</td>\n",
       "      <td>0.002497</td>\n",
       "    </tr>\n",
       "    <tr>\n",
       "      <th>6</th>\n",
       "      <td>Peugeot 504</td>\n",
       "      <td>0.005878</td>\n",
       "      <td>0.056499</td>\n",
       "    </tr>\n",
       "    <tr>\n",
       "      <th>7</th>\n",
       "      <td>Renault 16 TL</td>\n",
       "      <td>0.047711</td>\n",
       "      <td>0.062384</td>\n",
       "    </tr>\n",
       "    <tr>\n",
       "      <th>8</th>\n",
       "      <td>Renault 30</td>\n",
       "      <td>0.244369</td>\n",
       "      <td>0.073419</td>\n",
       "    </tr>\n",
       "    <tr>\n",
       "      <th>9</th>\n",
       "      <td>Toyota Corolla</td>\n",
       "      <td>0.199640</td>\n",
       "      <td>0.003622</td>\n",
       "    </tr>\n",
       "    <tr>\n",
       "      <th>10</th>\n",
       "      <td>Alfetta-1.66</td>\n",
       "      <td>0.002407</td>\n",
       "      <td>0.237357</td>\n",
       "    </tr>\n",
       "    <tr>\n",
       "      <th>11</th>\n",
       "      <td>Princess-1800</td>\n",
       "      <td>0.013028</td>\n",
       "      <td>0.045978</td>\n",
       "    </tr>\n",
       "    <tr>\n",
       "      <th>12</th>\n",
       "      <td>Datsun-200L</td>\n",
       "      <td>0.108701</td>\n",
       "      <td>0.020292</td>\n",
       "    </tr>\n",
       "    <tr>\n",
       "      <th>13</th>\n",
       "      <td>Taunus-2000</td>\n",
       "      <td>0.021727</td>\n",
       "      <td>0.015361</td>\n",
       "    </tr>\n",
       "    <tr>\n",
       "      <th>14</th>\n",
       "      <td>Rancho</td>\n",
       "      <td>0.006002</td>\n",
       "      <td>0.052300</td>\n",
       "    </tr>\n",
       "    <tr>\n",
       "      <th>15</th>\n",
       "      <td>Mazda-9295</td>\n",
       "      <td>0.001870</td>\n",
       "      <td>0.008233</td>\n",
       "    </tr>\n",
       "    <tr>\n",
       "      <th>16</th>\n",
       "      <td>Opel-Rekord</td>\n",
       "      <td>0.065888</td>\n",
       "      <td>0.000707</td>\n",
       "    </tr>\n",
       "    <tr>\n",
       "      <th>17</th>\n",
       "      <td>Lada-1300</td>\n",
       "      <td>0.092194</td>\n",
       "      <td>0.001340</td>\n",
       "    </tr>\n",
       "  </tbody>\n",
       "</table>\n",
       "</div>"
      ],
      "text/plain": [
       "                 id     CTR_1     CTR_2\n",
       "0        Alfasud TI  0.057493  0.206933\n",
       "1          Audi 100  0.030640  0.151329\n",
       "2        Simca 1300  0.015746  0.029525\n",
       "3   Citroen GS Club  0.083244  0.000827\n",
       "4          Fiat 132  0.002300  0.031398\n",
       "5       Lancia Beta  0.001163  0.002497\n",
       "6       Peugeot 504  0.005878  0.056499\n",
       "7     Renault 16 TL  0.047711  0.062384\n",
       "8        Renault 30  0.244369  0.073419\n",
       "9    Toyota Corolla  0.199640  0.003622\n",
       "10     Alfetta-1.66  0.002407  0.237357\n",
       "11    Princess-1800  0.013028  0.045978\n",
       "12      Datsun-200L  0.108701  0.020292\n",
       "13      Taunus-2000  0.021727  0.015361\n",
       "14           Rancho  0.006002  0.052300\n",
       "15       Mazda-9295  0.001870  0.008233\n",
       "16      Opel-Rekord  0.065888  0.000707\n",
       "17        Lada-1300  0.092194  0.001340"
      ]
     },
     "execution_count": 31,
     "metadata": {},
     "output_type": "execute_result"
    }
   ],
   "source": [
    "#contributions aux axes\n",
    "ctr = coord**2\n",
    "for j in range(p):\n",
    "    ctr[:,j] = ctr[:,j]/(n*eigval[j])\n",
    "    \n",
    "pd.DataFrame({'id':X.index,'CTR_1':ctr[:,0],'CTR_2':ctr[:,1]})"
   ]
  },
  {
   "cell_type": "code",
   "execution_count": 32,
   "metadata": {},
   "outputs": [
    {
     "data": {
      "text/plain": [
       "array([1., 1., 1., 1., 1., 1.])"
      ]
     },
     "execution_count": 32,
     "metadata": {},
     "output_type": "execute_result"
    }
   ],
   "source": [
    "#vérifions la théorie\n",
    "np.sum(ctr,axis=0)"
   ]
  },
  {
   "cell_type": "code",
   "execution_count": 33,
   "metadata": {},
   "outputs": [
    {
     "data": {
      "text/plain": [
       "array([[ 0.42493602,  0.42179441,  0.42145993,  0.38692224,  0.43051198,\n",
       "         0.35894427],\n",
       "       [ 0.12419108,  0.41577389, -0.41181773, -0.446087  , -0.24267581,\n",
       "         0.6198626 ],\n",
       "       [-0.35361252, -0.18492049,  0.06763394,  0.60486812, -0.48439601,\n",
       "         0.48547226],\n",
       "       [ 0.80778648, -0.35779199, -0.27975231,  0.21156941, -0.30171136,\n",
       "        -0.0735743 ],\n",
       "       [ 0.15158003, -0.29373465,  0.73056903, -0.47819008, -0.30455842,\n",
       "         0.18865511],\n",
       "       [-0.05889517, -0.63303302, -0.19029153, -0.10956624,  0.5808122 ,\n",
       "         0.45852167]])"
      ]
     },
     "execution_count": 33,
     "metadata": {},
     "output_type": "execute_result"
    }
   ],
   "source": [
    "#le champ components_ de l'objet ACP\n",
    "acp.components_"
   ]
  },
  {
   "cell_type": "code",
   "execution_count": 34,
   "metadata": {},
   "outputs": [
    {
     "data": {
      "text/plain": [
       "array([[ 0.89346354,  0.1149061 , -0.21598347,  0.37361508,  0.04617627,\n",
       "        -0.01225391],\n",
       "       [ 0.88685803,  0.38468911, -0.11294784, -0.16548492, -0.08948124,\n",
       "        -0.13171084],\n",
       "       [ 0.88615477, -0.38102873,  0.04131023, -0.12939024,  0.22255537,\n",
       "        -0.03959265],\n",
       "       [ 0.81353638, -0.4127359 ,  0.36944822,  0.09785447, -0.14567244,\n",
       "        -0.0227967 ],\n",
       "       [ 0.90518746, -0.22453248, -0.29586489, -0.13954667, -0.09277852,\n",
       "         0.12084561],\n",
       "       [ 0.75471037,  0.57351941,  0.29652226, -0.03402937,  0.05747056,\n",
       "         0.09540146]])"
      ]
     },
     "execution_count": 34,
     "metadata": {},
     "output_type": "execute_result"
    }
   ],
   "source": [
    "#racine carrée des valeurs propres\n",
    "sqrt_eigval = np.sqrt(eigval)\n",
    "\n",
    "#corrélation des variables avec les axes\n",
    "corvar = np.zeros((p,p))\n",
    "\n",
    "for k in range(p):\n",
    "    corvar[:,k] = acp.components_[k,:] * sqrt_eigval[k]\n",
    "    \n",
    "#afficher la matrice des corrélations variables x facteurs    \n",
    "corvar"
   ]
  },
  {
   "cell_type": "code",
   "execution_count": 35,
   "metadata": {},
   "outputs": [
    {
     "data": {
      "text/html": [
       "<div>\n",
       "<style scoped>\n",
       "    .dataframe tbody tr th:only-of-type {\n",
       "        vertical-align: middle;\n",
       "    }\n",
       "\n",
       "    .dataframe tbody tr th {\n",
       "        vertical-align: top;\n",
       "    }\n",
       "\n",
       "    .dataframe thead th {\n",
       "        text-align: right;\n",
       "    }\n",
       "</style>\n",
       "<table border=\"1\" class=\"dataframe\">\n",
       "  <thead>\n",
       "    <tr style=\"text-align: right;\">\n",
       "      <th></th>\n",
       "      <th>id</th>\n",
       "      <th>COR_1</th>\n",
       "      <th>COR_2</th>\n",
       "    </tr>\n",
       "  </thead>\n",
       "  <tbody>\n",
       "    <tr>\n",
       "      <th>0</th>\n",
       "      <td>CYL</td>\n",
       "      <td>0.893464</td>\n",
       "      <td>0.114906</td>\n",
       "    </tr>\n",
       "    <tr>\n",
       "      <th>1</th>\n",
       "      <td>PUISS</td>\n",
       "      <td>0.886858</td>\n",
       "      <td>0.384689</td>\n",
       "    </tr>\n",
       "    <tr>\n",
       "      <th>2</th>\n",
       "      <td>LONG</td>\n",
       "      <td>0.886155</td>\n",
       "      <td>-0.381029</td>\n",
       "    </tr>\n",
       "    <tr>\n",
       "      <th>3</th>\n",
       "      <td>LARG</td>\n",
       "      <td>0.813536</td>\n",
       "      <td>-0.412736</td>\n",
       "    </tr>\n",
       "    <tr>\n",
       "      <th>4</th>\n",
       "      <td>POIDS</td>\n",
       "      <td>0.905187</td>\n",
       "      <td>-0.224532</td>\n",
       "    </tr>\n",
       "    <tr>\n",
       "      <th>5</th>\n",
       "      <td>V_MAX</td>\n",
       "      <td>0.754710</td>\n",
       "      <td>0.573519</td>\n",
       "    </tr>\n",
       "  </tbody>\n",
       "</table>\n",
       "</div>"
      ],
      "text/plain": [
       "      id     COR_1     COR_2\n",
       "0    CYL  0.893464  0.114906\n",
       "1  PUISS  0.886858  0.384689\n",
       "2   LONG  0.886155 -0.381029\n",
       "3   LARG  0.813536 -0.412736\n",
       "4  POIDS  0.905187 -0.224532\n",
       "5  V_MAX  0.754710  0.573519"
      ]
     },
     "execution_count": 35,
     "metadata": {},
     "output_type": "execute_result"
    }
   ],
   "source": [
    "#on affiche pour les deux premiers axes\n",
    "pd.DataFrame({'id':X.columns,'COR_1':corvar[:,0],'COR_2':corvar[:,1]})"
   ]
  },
  {
   "cell_type": "code",
   "execution_count": 36,
   "metadata": {},
   "outputs": [
    {
     "data": {
      "image/png": "[encoded data removed]",
      "text/plain": [
       "<Figure size 576x576 with 1 Axes>"
      ]
     },
     "metadata": {
      "needs_background": "light"
     },
     "output_type": "display_data"
    }
   ],
   "source": [
    "#cercle des corrélations\n",
    "fig, axes = plt.subplots(figsize=(8,8))\n",
    "axes.set_xlim(-1,1)\n",
    "axes.set_ylim(-1,1)\n",
    "\n",
    "for j in range(p):\n",
    "    plt.annotate(X.columns[j],(corvar[j,0],corvar[j,1]))\n",
    "    \n",
    "#ajouter les axes\n",
    "plt.plot([-1,1],[0,0],color='silver',linestyle='-',linewidth=1)\n",
    "plt.plot([0,0],[-1,1],color='silver',linestyle='-',linewidth=1)\n",
    "\n",
    "#ajouter un cercle\n",
    "cercle = plt.Circle((0,0),1,color='blue',fill=False)\n",
    "axes.add_artist(cercle)\n",
    "\n",
    "#affichage\n",
    "plt.show()"
   ]
  },
  {
   "cell_type": "code",
   "execution_count": 37,
   "metadata": {},
   "outputs": [
    {
     "data": {
      "text/html": [
       "<div>\n",
       "<style scoped>\n",
       "    .dataframe tbody tr th:only-of-type {\n",
       "        vertical-align: middle;\n",
       "    }\n",
       "\n",
       "    .dataframe tbody tr th {\n",
       "        vertical-align: top;\n",
       "    }\n",
       "\n",
       "    .dataframe thead th {\n",
       "        text-align: right;\n",
       "    }\n",
       "</style>\n",
       "<table border=\"1\" class=\"dataframe\">\n",
       "  <thead>\n",
       "    <tr style=\"text-align: right;\">\n",
       "      <th></th>\n",
       "      <th>id</th>\n",
       "      <th>COS2_1</th>\n",
       "      <th>COS2_2</th>\n",
       "    </tr>\n",
       "  </thead>\n",
       "  <tbody>\n",
       "    <tr>\n",
       "      <th>0</th>\n",
       "      <td>CYL</td>\n",
       "      <td>0.798277</td>\n",
       "      <td>0.013203</td>\n",
       "    </tr>\n",
       "    <tr>\n",
       "      <th>1</th>\n",
       "      <td>PUISS</td>\n",
       "      <td>0.786517</td>\n",
       "      <td>0.147986</td>\n",
       "    </tr>\n",
       "    <tr>\n",
       "      <th>2</th>\n",
       "      <td>LONG</td>\n",
       "      <td>0.785270</td>\n",
       "      <td>0.145183</td>\n",
       "    </tr>\n",
       "    <tr>\n",
       "      <th>3</th>\n",
       "      <td>LARG</td>\n",
       "      <td>0.661841</td>\n",
       "      <td>0.170351</td>\n",
       "    </tr>\n",
       "    <tr>\n",
       "      <th>4</th>\n",
       "      <td>POIDS</td>\n",
       "      <td>0.819364</td>\n",
       "      <td>0.050415</td>\n",
       "    </tr>\n",
       "    <tr>\n",
       "      <th>5</th>\n",
       "      <td>V_MAX</td>\n",
       "      <td>0.569588</td>\n",
       "      <td>0.328925</td>\n",
       "    </tr>\n",
       "  </tbody>\n",
       "</table>\n",
       "</div>"
      ],
      "text/plain": [
       "      id    COS2_1    COS2_2\n",
       "0    CYL  0.798277  0.013203\n",
       "1  PUISS  0.786517  0.147986\n",
       "2   LONG  0.785270  0.145183\n",
       "3   LARG  0.661841  0.170351\n",
       "4  POIDS  0.819364  0.050415\n",
       "5  V_MAX  0.569588  0.328925"
      ]
     },
     "execution_count": 37,
     "metadata": {},
     "output_type": "execute_result"
    }
   ],
   "source": [
    "#cosinus carré des variables\n",
    "cos2var = corvar**2\n",
    "pd.DataFrame({'id':X.columns,'COS2_1':cos2var[:,0],'COS2_2':cos2var[:,1]})"
   ]
  },
  {
   "cell_type": "code",
   "execution_count": 38,
   "metadata": {},
   "outputs": [
    {
     "data": {
      "text/plain": [
       "array([1., 1., 1., 1., 1., 1.])"
      ]
     },
     "execution_count": 38,
     "metadata": {},
     "output_type": "execute_result"
    }
   ],
   "source": [
    "#vérification de la théorie\n",
    "np.sum(cos2var,axis=1)"
   ]
  },
  {
   "cell_type": "code",
   "execution_count": 39,
   "metadata": {},
   "outputs": [
    {
     "data": {
      "text/html": [
       "<div>\n",
       "<style scoped>\n",
       "    .dataframe tbody tr th:only-of-type {\n",
       "        vertical-align: middle;\n",
       "    }\n",
       "\n",
       "    .dataframe tbody tr th {\n",
       "        vertical-align: top;\n",
       "    }\n",
       "\n",
       "    .dataframe thead th {\n",
       "        text-align: right;\n",
       "    }\n",
       "</style>\n",
       "<table border=\"1\" class=\"dataframe\">\n",
       "  <thead>\n",
       "    <tr style=\"text-align: right;\">\n",
       "      <th></th>\n",
       "      <th>id</th>\n",
       "      <th>CTR_1</th>\n",
       "      <th>CTR_2</th>\n",
       "    </tr>\n",
       "  </thead>\n",
       "  <tbody>\n",
       "    <tr>\n",
       "      <th>0</th>\n",
       "      <td>CYL</td>\n",
       "      <td>0.180571</td>\n",
       "      <td>0.015423</td>\n",
       "    </tr>\n",
       "    <tr>\n",
       "      <th>1</th>\n",
       "      <td>PUISS</td>\n",
       "      <td>0.177911</td>\n",
       "      <td>0.172868</td>\n",
       "    </tr>\n",
       "    <tr>\n",
       "      <th>2</th>\n",
       "      <td>LONG</td>\n",
       "      <td>0.177628</td>\n",
       "      <td>0.169594</td>\n",
       "    </tr>\n",
       "    <tr>\n",
       "      <th>3</th>\n",
       "      <td>LARG</td>\n",
       "      <td>0.149709</td>\n",
       "      <td>0.198994</td>\n",
       "    </tr>\n",
       "    <tr>\n",
       "      <th>4</th>\n",
       "      <td>POIDS</td>\n",
       "      <td>0.185341</td>\n",
       "      <td>0.058892</td>\n",
       "    </tr>\n",
       "    <tr>\n",
       "      <th>5</th>\n",
       "      <td>V_MAX</td>\n",
       "      <td>0.128841</td>\n",
       "      <td>0.384230</td>\n",
       "    </tr>\n",
       "  </tbody>\n",
       "</table>\n",
       "</div>"
      ],
      "text/plain": [
       "      id     CTR_1     CTR_2\n",
       "0    CYL  0.180571  0.015423\n",
       "1  PUISS  0.177911  0.172868\n",
       "2   LONG  0.177628  0.169594\n",
       "3   LARG  0.149709  0.198994\n",
       "4  POIDS  0.185341  0.058892\n",
       "5  V_MAX  0.128841  0.384230"
      ]
     },
     "execution_count": 39,
     "metadata": {},
     "output_type": "execute_result"
    }
   ],
   "source": [
    "#contributions\n",
    "ctrvar = cos2var\n",
    "\n",
    "for k in range(p):\n",
    "    ctrvar[:,k] = ctrvar[:,k]/eigval[k]\n",
    "\n",
    "#on n'affiche que pour les deux premiers axes\n",
    "pd.DataFrame({'id':X.columns,'CTR_1':ctrvar[:,0],'CTR_2':ctrvar[:,1]})"
   ]
  },
  {
   "cell_type": "code",
   "execution_count": 40,
   "metadata": {},
   "outputs": [
    {
     "data": {
      "text/plain": [
       "array([1., 1., 1., 1., 1., 1.])"
      ]
     },
     "execution_count": 40,
     "metadata": {},
     "output_type": "execute_result"
    }
   ],
   "source": [
    "#ici, on peut vérifier\n",
    "np.sum(ctrvar,axis=0)"
   ]
  },
  {
   "cell_type": "code",
   "execution_count": 41,
   "metadata": {},
   "outputs": [
    {
     "data": {
      "text/html": [
       "<div>\n",
       "<style scoped>\n",
       "    .dataframe tbody tr th:only-of-type {\n",
       "        vertical-align: middle;\n",
       "    }\n",
       "\n",
       "    .dataframe tbody tr th {\n",
       "        vertical-align: top;\n",
       "    }\n",
       "\n",
       "    .dataframe thead th {\n",
       "        text-align: right;\n",
       "    }\n",
       "</style>\n",
       "<table border=\"1\" class=\"dataframe\">\n",
       "  <thead>\n",
       "    <tr style=\"text-align: right;\">\n",
       "      <th></th>\n",
       "      <th>CYL</th>\n",
       "      <th>PUISS</th>\n",
       "      <th>LONG</th>\n",
       "      <th>LARG</th>\n",
       "      <th>POIDS</th>\n",
       "      <th>V_MAX</th>\n",
       "    </tr>\n",
       "    <tr>\n",
       "      <th>Modele</th>\n",
       "      <th></th>\n",
       "      <th></th>\n",
       "      <th></th>\n",
       "      <th></th>\n",
       "      <th></th>\n",
       "      <th></th>\n",
       "    </tr>\n",
       "  </thead>\n",
       "  <tbody>\n",
       "    <tr>\n",
       "      <th>Peugeot 604</th>\n",
       "      <td>2664</td>\n",
       "      <td>136</td>\n",
       "      <td>472</td>\n",
       "      <td>177</td>\n",
       "      <td>1410</td>\n",
       "      <td>180</td>\n",
       "    </tr>\n",
       "    <tr>\n",
       "      <th>Peugeot 304 S</th>\n",
       "      <td>1288</td>\n",
       "      <td>74</td>\n",
       "      <td>414</td>\n",
       "      <td>157</td>\n",
       "      <td>915</td>\n",
       "      <td>160</td>\n",
       "    </tr>\n",
       "  </tbody>\n",
       "</table>\n",
       "</div>"
      ],
      "text/plain": [
       "                CYL  PUISS  LONG  LARG  POIDS  V_MAX\n",
       "Modele                                              \n",
       "Peugeot 604    2664    136   472   177   1410    180\n",
       "Peugeot 304 S  1288     74   414   157    915    160"
      ]
     },
     "execution_count": 41,
     "metadata": {},
     "output_type": "execute_result"
    }
   ],
   "source": [
    "#chargement des individus supplémentaires\n",
    "indSupp = pd.read_excel(\"autos_acp_pour_python.xlsx\",\n",
    "                        sheet_name=1,header=0,index_col=0)\n",
    "indSupp"
   ]
  },
  {
   "cell_type": "code",
   "execution_count": 42,
   "metadata": {},
   "outputs": [
    {
     "data": {
      "text/plain": [
       "array([[ 2.84080623,  2.59511201,  1.79199036,  2.0010414 ,  2.48812166,\n",
       "         1.84112668],\n",
       "       [-0.94571238, -0.53585556, -0.90763148, -1.87194195, -1.23091273,\n",
       "         0.14597168]])"
      ]
     },
     "execution_count": 42,
     "metadata": {},
     "output_type": "execute_result"
    }
   ],
   "source": [
    "#centrage-réduction avec les paramètres des individus actifs\n",
    "ZIndSupp = sc.transform(indSupp)\n",
    "ZIndSupp"
   ]
  },
  {
   "cell_type": "code",
   "execution_count": 43,
   "metadata": {},
   "outputs": [
    {
     "data": {
      "text/plain": [
       "array([[ 5.56329226,  0.33860928, -0.46428878,  0.40214608, -0.38981076,\n",
       "        -0.08102064],\n",
       "       [-2.21224139,  1.25777905, -0.09304388, -0.35370189,  0.648528  ,\n",
       "         0.12473042]])"
      ]
     },
     "execution_count": 43,
     "metadata": {},
     "output_type": "execute_result"
    }
   ],
   "source": [
    "#projection dans l'espace factoriel\n",
    "coordSupp = acp.transform(ZIndSupp)\n",
    "coordSupp"
   ]
  },
  {
   "cell_type": "code",
   "execution_count": 44,
   "metadata": {},
   "outputs": [
    {
     "data": {
      "image/png": "[encoded data removed]",
      "text/plain": [
       "<Figure size 864x864 with 1 Axes>"
      ]
     },
     "metadata": {
      "needs_background": "light"
     },
     "output_type": "display_data"
    }
   ],
   "source": [
    "#positionnement des individus supplémentaires dans le premier plan\n",
    "fig, axes = plt.subplots(figsize=(12,12))\n",
    "axes.set_xlim(-6,6)\n",
    "axes.set_ylim(-6,6)\n",
    "\n",
    "for i in range(n):\n",
    "    plt.annotate(X.index[i],(coord[i,0],coord[i,1]))\n",
    "    \n",
    "for i in range(coordSupp.shape[0]):\n",
    "    plt.annotate(indSupp.index[i],(coordSupp[i,0],coordSupp[i,1]),color='b')\n",
    "    \n",
    "#ajouter les axes\n",
    "plt.plot([-6,6],[0,0],color='silver',linestyle='-',linewidth=1)\n",
    "plt.plot([0,0],[-6,6],color='silver',linestyle='-',linewidth=1)\n",
    "\n",
    "#affichage\n",
    "plt.show()"
   ]
  },
  {
   "cell_type": "code",
   "execution_count": 45,
   "metadata": {},
   "outputs": [
    {
     "data": {
      "text/html": [
       "<div>\n",
       "<style scoped>\n",
       "    .dataframe tbody tr th:only-of-type {\n",
       "        vertical-align: middle;\n",
       "    }\n",
       "\n",
       "    .dataframe tbody tr th {\n",
       "        vertical-align: top;\n",
       "    }\n",
       "\n",
       "    .dataframe thead th {\n",
       "        text-align: right;\n",
       "    }\n",
       "</style>\n",
       "<table border=\"1\" class=\"dataframe\">\n",
       "  <thead>\n",
       "    <tr style=\"text-align: right;\">\n",
       "      <th></th>\n",
       "      <th>PRIX</th>\n",
       "      <th>R_POIDS_PUIS</th>\n",
       "      <th>FINITION</th>\n",
       "    </tr>\n",
       "    <tr>\n",
       "      <th>Modele</th>\n",
       "      <th></th>\n",
       "      <th></th>\n",
       "      <th></th>\n",
       "    </tr>\n",
       "  </thead>\n",
       "  <tbody>\n",
       "    <tr>\n",
       "      <th>Alfasud TI</th>\n",
       "      <td>30570</td>\n",
       "      <td>11.012658</td>\n",
       "      <td>2_B</td>\n",
       "    </tr>\n",
       "    <tr>\n",
       "      <th>Audi 100</th>\n",
       "      <td>39990</td>\n",
       "      <td>13.058824</td>\n",
       "      <td>3_TB</td>\n",
       "    </tr>\n",
       "    <tr>\n",
       "      <th>Simca 1300</th>\n",
       "      <td>29600</td>\n",
       "      <td>15.441176</td>\n",
       "      <td>1_M</td>\n",
       "    </tr>\n",
       "    <tr>\n",
       "      <th>Citroen GS Club</th>\n",
       "      <td>28250</td>\n",
       "      <td>15.762712</td>\n",
       "      <td>1_M</td>\n",
       "    </tr>\n",
       "    <tr>\n",
       "      <th>Fiat 132</th>\n",
       "      <td>34900</td>\n",
       "      <td>11.275510</td>\n",
       "      <td>2_B</td>\n",
       "    </tr>\n",
       "    <tr>\n",
       "      <th>Lancia Beta</th>\n",
       "      <td>35480</td>\n",
       "      <td>13.170732</td>\n",
       "      <td>3_TB</td>\n",
       "    </tr>\n",
       "    <tr>\n",
       "      <th>Peugeot 504</th>\n",
       "      <td>32300</td>\n",
       "      <td>14.683544</td>\n",
       "      <td>2_B</td>\n",
       "    </tr>\n",
       "    <tr>\n",
       "      <th>Renault 16 TL</th>\n",
       "      <td>32000</td>\n",
       "      <td>18.363636</td>\n",
       "      <td>2_B</td>\n",
       "    </tr>\n",
       "    <tr>\n",
       "      <th>Renault 30</th>\n",
       "      <td>47700</td>\n",
       "      <td>10.312500</td>\n",
       "      <td>3_TB</td>\n",
       "    </tr>\n",
       "    <tr>\n",
       "      <th>Toyota Corolla</th>\n",
       "      <td>26540</td>\n",
       "      <td>14.818182</td>\n",
       "      <td>1_M</td>\n",
       "    </tr>\n",
       "    <tr>\n",
       "      <th>Alfetta-1.66</th>\n",
       "      <td>42395</td>\n",
       "      <td>9.724771</td>\n",
       "      <td>3_TB</td>\n",
       "    </tr>\n",
       "    <tr>\n",
       "      <th>Princess-1800</th>\n",
       "      <td>33990</td>\n",
       "      <td>14.146341</td>\n",
       "      <td>2_B</td>\n",
       "    </tr>\n",
       "    <tr>\n",
       "      <th>Datsun-200L</th>\n",
       "      <td>43980</td>\n",
       "      <td>11.913043</td>\n",
       "      <td>3_TB</td>\n",
       "    </tr>\n",
       "    <tr>\n",
       "      <th>Taunus-2000</th>\n",
       "      <td>35010</td>\n",
       "      <td>11.020408</td>\n",
       "      <td>2_B</td>\n",
       "    </tr>\n",
       "    <tr>\n",
       "      <th>Rancho</th>\n",
       "      <td>39450</td>\n",
       "      <td>14.112500</td>\n",
       "      <td>3_TB</td>\n",
       "    </tr>\n",
       "    <tr>\n",
       "      <th>Mazda-9295</th>\n",
       "      <td>27900</td>\n",
       "      <td>13.192771</td>\n",
       "      <td>1_M</td>\n",
       "    </tr>\n",
       "    <tr>\n",
       "      <th>Opel-Rekord</th>\n",
       "      <td>32700</td>\n",
       "      <td>11.200000</td>\n",
       "      <td>2_B</td>\n",
       "    </tr>\n",
       "    <tr>\n",
       "      <th>Lada-1300</th>\n",
       "      <td>22100</td>\n",
       "      <td>14.044118</td>\n",
       "      <td>1_M</td>\n",
       "    </tr>\n",
       "  </tbody>\n",
       "</table>\n",
       "</div>"
      ],
      "text/plain": [
       "                  PRIX  R_POIDS_PUIS FINITION\n",
       "Modele                                       \n",
       "Alfasud TI       30570     11.012658      2_B\n",
       "Audi 100         39990     13.058824     3_TB\n",
       "Simca 1300       29600     15.441176      1_M\n",
       "Citroen GS Club  28250     15.762712      1_M\n",
       "Fiat 132         34900     11.275510      2_B\n",
       "Lancia Beta      35480     13.170732     3_TB\n",
       "Peugeot 504      32300     14.683544      2_B\n",
       "Renault 16 TL    32000     18.363636      2_B\n",
       "Renault 30       47700     10.312500     3_TB\n",
       "Toyota Corolla   26540     14.818182      1_M\n",
       "Alfetta-1.66     42395      9.724771     3_TB\n",
       "Princess-1800    33990     14.146341      2_B\n",
       "Datsun-200L      43980     11.913043     3_TB\n",
       "Taunus-2000      35010     11.020408      2_B\n",
       "Rancho           39450     14.112500     3_TB\n",
       "Mazda-9295       27900     13.192771      1_M\n",
       "Opel-Rekord      32700     11.200000      2_B\n",
       "Lada-1300        22100     14.044118      1_M"
      ]
     },
     "execution_count": 45,
     "metadata": {},
     "output_type": "execute_result"
    }
   ],
   "source": [
    "#importation des variables supplémentaires\n",
    "varSupp = pd.read_excel(\"autos_acp_pour_python.xlsx\",\n",
    "                        sheet_name=2,header=0,index_col=0)\n",
    "varSupp"
   ]
  },
  {
   "cell_type": "code",
   "execution_count": 46,
   "metadata": {},
   "outputs": [
    {
     "data": {
      "text/plain": [
       "array([[3.05700000e+04, 1.10126582e+01],\n",
       "       [3.99900000e+04, 1.30588235e+01],\n",
       "       [2.96000000e+04, 1.54411765e+01],\n",
       "       [2.82500000e+04, 1.57627119e+01],\n",
       "       [3.49000000e+04, 1.12755102e+01],\n",
       "       [3.54800000e+04, 1.31707317e+01],\n",
       "       [3.23000000e+04, 1.46835443e+01],\n",
       "       [3.20000000e+04, 1.83636364e+01],\n",
       "       [4.77000000e+04, 1.03125000e+01],\n",
       "       [2.65400000e+04, 1.48181818e+01],\n",
       "       [4.23950000e+04, 9.72477064e+00],\n",
       "       [3.39900000e+04, 1.41463415e+01],\n",
       "       [4.39800000e+04, 1.19130435e+01],\n",
       "       [3.50100000e+04, 1.10204082e+01],\n",
       "       [3.94500000e+04, 1.41125000e+01],\n",
       "       [2.79000000e+04, 1.31927711e+01],\n",
       "       [3.27000000e+04, 1.12000000e+01],\n",
       "       [2.21000000e+04, 1.40441176e+01]])"
      ]
     },
     "execution_count": 46,
     "metadata": {},
     "output_type": "execute_result"
    }
   ],
   "source": [
    "#variables supplémentaires quanti\n",
    "vsQuanti = varSupp.iloc[:,:2].values\n",
    "vsQuanti"
   ]
  },
  {
   "cell_type": "code",
   "execution_count": 47,
   "metadata": {},
   "outputs": [
    {
     "data": {
      "text/plain": [
       "array([[ 0.77247524,  0.08670844, -0.13389277, -0.22582891, -0.15944978,\n",
       "        -0.10254878],\n",
       "       [-0.58903888, -0.67254512, -0.15017616,  0.21365718,  0.10162791,\n",
       "         0.28999742]])"
      ]
     },
     "execution_count": 47,
     "metadata": {},
     "output_type": "execute_result"
    }
   ],
   "source": [
    "#corrélation avec les axes factoriels\n",
    "corSupp = np.zeros((vsQuanti.shape[1],p))\n",
    "\n",
    "for k in range(p):\n",
    "    for j in range(vsQuanti.shape[1]):\n",
    "        corSupp[j,k] = np.corrcoef(vsQuanti[:,j],coord[:,k])[0,1]\n",
    "        \n",
    "#affichage des corrélations avec les axes\n",
    "corSupp"
   ]
  },
  {
   "cell_type": "code",
   "execution_count": 48,
   "metadata": {},
   "outputs": [
    {
     "data": {
      "image/png": "[encoded data removed]",
      "text/plain": [
       "<Figure size 576x576 with 1 Axes>"
      ]
     },
     "metadata": {
      "needs_background": "light"
     },
     "output_type": "display_data"
    }
   ],
   "source": [
    "#cercle des corrélations avec les var. supp\n",
    "fig, axes = plt.subplots(figsize=(8,8))\n",
    "axes.set_xlim(-1,1)\n",
    "axes.set_ylim(-1,1)\n",
    "\n",
    "for j in range(p):\n",
    "    plt.annotate(X.columns[j],(corvar[j,0],corvar[j,1]))\n",
    "    \n",
    "for j in range(vsQuanti.shape[1]):\n",
    "    plt.annotate(varSupp.columns[j],(corSupp[j,0],corSupp[j,1]),color='g')\n",
    "    \n",
    "#ajouter les axes\n",
    "plt.plot([-1,1],[0,0],color='silver',linestyle='-',linewidth=1)\n",
    "plt.plot([0,0],[-1,1],color='silver',linestyle='-',linewidth=1)\n",
    "\n",
    "#ajouter un cercle\n",
    "cercle = plt.Circle((0,0),1,color='blue',fill=False)\n",
    "axes.add_artist(cercle)\n",
    "\n",
    "#affichage\n",
    "plt.show()"
   ]
  },
  {
   "cell_type": "code",
   "execution_count": 49,
   "metadata": {},
   "outputs": [
    {
     "data": {
      "text/plain": [
       "Modele\n",
       "Alfasud TI          2_B\n",
       "Audi 100           3_TB\n",
       "Simca 1300          1_M\n",
       "Citroen GS Club     1_M\n",
       "Fiat 132            2_B\n",
       "Lancia Beta        3_TB\n",
       "Peugeot 504         2_B\n",
       "Renault 16 TL       2_B\n",
       "Renault 30         3_TB\n",
       "Toyota Corolla      1_M\n",
       "Alfetta-1.66       3_TB\n",
       "Princess-1800       2_B\n",
       "Datsun-200L        3_TB\n",
       "Taunus-2000         2_B\n",
       "Rancho             3_TB\n",
       "Mazda-9295          1_M\n",
       "Opel-Rekord         2_B\n",
       "Lada-1300           1_M\n",
       "Name: FINITION, dtype: object"
      ]
     },
     "execution_count": 49,
     "metadata": {},
     "output_type": "execute_result"
    }
   ],
   "source": [
    "#traitement de var. quali supplementaire\n",
    "vsQuali = varSupp.iloc[:,2]\n",
    "vsQuali"
   ]
  },
  {
   "cell_type": "code",
   "execution_count": 50,
   "metadata": {},
   "outputs": [
    {
     "data": {
      "text/plain": [
       "array(['1_M', '2_B', '3_TB'], dtype=object)"
      ]
     },
     "execution_count": 50,
     "metadata": {},
     "output_type": "execute_result"
    }
   ],
   "source": [
    "#modalités de la variable qualitative\n",
    "modalites = np.unique(vsQuali)\n",
    "modalites"
   ]
  },
  {
   "cell_type": "code",
   "execution_count": 51,
   "metadata": {},
   "outputs": [
    {
     "data": {
      "image/png": "[encoded data removed]",
      "text/plain": [
       "<Figure size 864x864 with 1 Axes>"
      ]
     },
     "metadata": {
      "needs_background": "light"
     },
     "output_type": "display_data"
    }
   ],
   "source": [
    "#liste des couleurs\n",
    "couleurs = ['r','g','b']\n",
    "\n",
    "#faire un graphique en coloriant les points\n",
    "fig, axes = plt.subplots(figsize=(12,12))\n",
    "axes.set_xlim(-6,6)\n",
    "axes.set_ylim(-6,6)\n",
    "\n",
    "#pour chaque modalité de la var. illustrative\n",
    "for c in range(len(modalites)):\n",
    "    #numéro des individus concernés\n",
    "    numero = np.where(vsQuali == modalites[c])\n",
    "    \n",
    "    #les passer en revue pour affichage\n",
    "    for i in numero[0]:\n",
    "        plt.annotate(X.index[i],(coord[i,0],coord[i,1]),color=couleurs[c])\n",
    "    \n",
    "#ajouter les axes\n",
    "plt.plot([-6,6],[0,0],color='silver',linestyle='-',linewidth=1)\n",
    "plt.plot([0,0],[-6,6],color='silver',linestyle='-',linewidth=1)\n",
    "\n",
    "#affichage\n",
    "plt.show()"
   ]
  },
  {
   "cell_type": "code",
   "execution_count": 52,
   "metadata": {},
   "outputs": [
    {
     "data": {
      "text/html": [
       "<div>\n",
       "<style scoped>\n",
       "    .dataframe tbody tr th:only-of-type {\n",
       "        vertical-align: middle;\n",
       "    }\n",
       "\n",
       "    .dataframe tbody tr th {\n",
       "        vertical-align: top;\n",
       "    }\n",
       "\n",
       "    .dataframe thead th {\n",
       "        text-align: right;\n",
       "    }\n",
       "</style>\n",
       "<table border=\"1\" class=\"dataframe\">\n",
       "  <thead>\n",
       "    <tr style=\"text-align: right;\">\n",
       "      <th></th>\n",
       "      <th>F1</th>\n",
       "      <th>F2</th>\n",
       "    </tr>\n",
       "    <tr>\n",
       "      <th>Finition</th>\n",
       "      <th></th>\n",
       "      <th></th>\n",
       "    </tr>\n",
       "  </thead>\n",
       "  <tbody>\n",
       "    <tr>\n",
       "      <th>1_M</th>\n",
       "      <td>-2.000355</td>\n",
       "      <td>-0.022579</td>\n",
       "    </tr>\n",
       "    <tr>\n",
       "      <th>2_B</th>\n",
       "      <td>0.235313</td>\n",
       "      <td>0.045271</td>\n",
       "    </tr>\n",
       "    <tr>\n",
       "      <th>3_TB</th>\n",
       "      <td>1.392430</td>\n",
       "      <td>-0.034001</td>\n",
       "    </tr>\n",
       "  </tbody>\n",
       "</table>\n",
       "</div>"
      ],
      "text/plain": [
       "                F1        F2\n",
       "Finition                    \n",
       "1_M      -2.000355 -0.022579\n",
       "2_B       0.235313  0.045271\n",
       "3_TB      1.392430 -0.034001"
      ]
     },
     "execution_count": 52,
     "metadata": {},
     "output_type": "execute_result"
    }
   ],
   "source": [
    "#structure intermédiaire\n",
    "df = pd.DataFrame({'Finition':vsQuali,'F1':coord[:,0],'F2':coord[:,1]})\n",
    "\n",
    "#puis calculer les moyennes conditionnelles\n",
    "df.pivot_table(index='Finition',values=['F1','F2'],aggfunc=pd.Series.mean)"
   ]
  },
  {
   "cell_type": "code",
   "execution_count": null,
   "metadata": {},
   "outputs": [],
   "source": []
  }
 ],
 "metadata": {
  "kernelspec": {
   "display_name": "Python 3",
   "language": "python",
   "name": "python3"
  },
  "language_info": {
   "codemirror_mode": {
    "name": "ipython",
    "version": 3
   },
   "file_extension": ".py",
   "mimetype": "text/x-python",
   "name": "python",
   "nbconvert_exporter": "python",
   "pygments_lexer": "ipython3",
   "version": "3.7.6"
  }
 },
 "nbformat": 4,
 "nbformat_minor": 4
}
