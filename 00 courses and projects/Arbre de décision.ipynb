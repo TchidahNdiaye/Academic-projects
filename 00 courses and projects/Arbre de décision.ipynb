{
 "cells": [
  {
   "cell_type": "markdown",
   "metadata": {},
   "source": [
    "# Arbre de décision avec Python"
   ]
  },
  {
   "cell_type": "code",
   "execution_count": 1,
   "metadata": {},
   "outputs": [],
   "source": [
    "# Chargement des librairies\n",
    "\n",
    "import os\n",
    "import pandas as pd\n",
    "import numpy as np\n",
    "from sklearn.model_selection import train_test_split\n",
    "from sklearn.tree import DecisionTreeClassifier\n",
    "from sklearn.tree import plot_tree\n",
    "from sklearn.tree import export_text\n",
    "from sklearn import metrics\n",
    "import matplotlib.pyplot as plt"
   ]
  },
  {
   "cell_type": "code",
   "execution_count": 3,
   "metadata": {},
   "outputs": [],
   "source": [
    "# choix du Working directory\n",
    "os.chdir(\"D:\\\\Documents\\\\01 Docs\\\\Read\\\\Machine Learning Ricco Rakotomalala\\\\Machine Learning Analyse prédictive et scoring\\\\03 Arbres de décision - CHAID C4.5 et CART\\\\arbre_scikit_learn\")"
   ]
  },
  {
   "cell_type": "code",
   "execution_count": 4,
   "metadata": {},
   "outputs": [],
   "source": [
    "#importer les données\n",
    "df = pd.read_excel(\"breast.xlsx\",sheet_name = 0)"
   ]
  },
  {
   "cell_type": "code",
   "execution_count": 5,
   "metadata": {},
   "outputs": [
    {
     "data": {
      "text/plain": [
       "(699, 10)"
      ]
     },
     "execution_count": 5,
     "metadata": {},
     "output_type": "execute_result"
    }
   ],
   "source": [
    "# Dimension du data frame\n",
    "df.shape"
   ]
  },
  {
   "cell_type": "code",
   "execution_count": 6,
   "metadata": {},
   "outputs": [
    {
     "data": {
      "text/html": [
       "<div>\n",
       "<style scoped>\n",
       "    .dataframe tbody tr th:only-of-type {\n",
       "        vertical-align: middle;\n",
       "    }\n",
       "\n",
       "    .dataframe tbody tr th {\n",
       "        vertical-align: top;\n",
       "    }\n",
       "\n",
       "    .dataframe thead th {\n",
       "        text-align: right;\n",
       "    }\n",
       "</style>\n",
       "<table border=\"1\" class=\"dataframe\">\n",
       "  <thead>\n",
       "    <tr style=\"text-align: right;\">\n",
       "      <th></th>\n",
       "      <th>clump</th>\n",
       "      <th>ucellsize</th>\n",
       "      <th>ucellshape</th>\n",
       "      <th>mgadhesion</th>\n",
       "      <th>sepics</th>\n",
       "      <th>bnuclei</th>\n",
       "      <th>bchromatin</th>\n",
       "      <th>normnucl</th>\n",
       "      <th>mitoses</th>\n",
       "      <th>classe</th>\n",
       "    </tr>\n",
       "  </thead>\n",
       "  <tbody>\n",
       "    <tr>\n",
       "      <th>0</th>\n",
       "      <td>4</td>\n",
       "      <td>2</td>\n",
       "      <td>2</td>\n",
       "      <td>1</td>\n",
       "      <td>2</td>\n",
       "      <td>1</td>\n",
       "      <td>2</td>\n",
       "      <td>1</td>\n",
       "      <td>1</td>\n",
       "      <td>begnin</td>\n",
       "    </tr>\n",
       "    <tr>\n",
       "      <th>1</th>\n",
       "      <td>1</td>\n",
       "      <td>1</td>\n",
       "      <td>1</td>\n",
       "      <td>1</td>\n",
       "      <td>2</td>\n",
       "      <td>1</td>\n",
       "      <td>2</td>\n",
       "      <td>1</td>\n",
       "      <td>1</td>\n",
       "      <td>begnin</td>\n",
       "    </tr>\n",
       "    <tr>\n",
       "      <th>2</th>\n",
       "      <td>2</td>\n",
       "      <td>1</td>\n",
       "      <td>1</td>\n",
       "      <td>1</td>\n",
       "      <td>2</td>\n",
       "      <td>1</td>\n",
       "      <td>2</td>\n",
       "      <td>1</td>\n",
       "      <td>1</td>\n",
       "      <td>begnin</td>\n",
       "    </tr>\n",
       "    <tr>\n",
       "      <th>3</th>\n",
       "      <td>10</td>\n",
       "      <td>6</td>\n",
       "      <td>6</td>\n",
       "      <td>2</td>\n",
       "      <td>4</td>\n",
       "      <td>10</td>\n",
       "      <td>9</td>\n",
       "      <td>7</td>\n",
       "      <td>1</td>\n",
       "      <td>malignant</td>\n",
       "    </tr>\n",
       "    <tr>\n",
       "      <th>4</th>\n",
       "      <td>4</td>\n",
       "      <td>1</td>\n",
       "      <td>1</td>\n",
       "      <td>1</td>\n",
       "      <td>2</td>\n",
       "      <td>1</td>\n",
       "      <td>2</td>\n",
       "      <td>1</td>\n",
       "      <td>1</td>\n",
       "      <td>begnin</td>\n",
       "    </tr>\n",
       "  </tbody>\n",
       "</table>\n",
       "</div>"
      ],
      "text/plain": [
       "   clump  ucellsize  ucellshape  mgadhesion  sepics  bnuclei  bchromatin  \\\n",
       "0      4          2           2           1       2        1           2   \n",
       "1      1          1           1           1       2        1           2   \n",
       "2      2          1           1           1       2        1           2   \n",
       "3     10          6           6           2       4       10           9   \n",
       "4      4          1           1           1       2        1           2   \n",
       "\n",
       "   normnucl  mitoses     classe  \n",
       "0         1        1     begnin  \n",
       "1         1        1     begnin  \n",
       "2         1        1     begnin  \n",
       "3         7        1  malignant  \n",
       "4         1        1     begnin  "
      ]
     },
     "execution_count": 6,
     "metadata": {},
     "output_type": "execute_result"
    }
   ],
   "source": [
    "# Affichage des premières lignes\n",
    "df.head()"
   ]
  },
  {
   "cell_type": "code",
   "execution_count": 7,
   "metadata": {},
   "outputs": [
    {
     "name": "stdout",
     "output_type": "stream",
     "text": [
      "<class 'pandas.core.frame.DataFrame'>\n",
      "RangeIndex: 699 entries, 0 to 698\n",
      "Data columns (total 10 columns):\n",
      " #   Column      Non-Null Count  Dtype \n",
      "---  ------      --------------  ----- \n",
      " 0   clump       699 non-null    int64 \n",
      " 1   ucellsize   699 non-null    int64 \n",
      " 2   ucellshape  699 non-null    int64 \n",
      " 3   mgadhesion  699 non-null    int64 \n",
      " 4   sepics      699 non-null    int64 \n",
      " 5   bnuclei     699 non-null    int64 \n",
      " 6   bchromatin  699 non-null    int64 \n",
      " 7   normnucl    699 non-null    int64 \n",
      " 8   mitoses     699 non-null    int64 \n",
      " 9   classe      699 non-null    object\n",
      "dtypes: int64(9), object(1)\n",
      "memory usage: 54.7+ KB\n"
     ]
    }
   ],
   "source": [
    "# information sur les variables\n",
    "df.info()"
   ]
  },
  {
   "cell_type": "code",
   "execution_count": 9,
   "metadata": {},
   "outputs": [
    {
     "data": {
      "text/plain": [
       "begnin       458\n",
       "malignant    241\n",
       "Name: classe, dtype: int64"
      ]
     },
     "execution_count": 9,
     "metadata": {},
     "output_type": "execute_result"
    }
   ],
   "source": [
    "# Vérifier la distribution absolue des classes\n",
    "df.classe.value_counts()"
   ]
  },
  {
   "cell_type": "code",
   "execution_count": 10,
   "metadata": {},
   "outputs": [
    {
     "data": {
      "text/plain": [
       "begnin       0.655222\n",
       "malignant    0.344778\n",
       "Name: classe, dtype: float64"
      ]
     },
     "execution_count": 10,
     "metadata": {},
     "output_type": "execute_result"
    }
   ],
   "source": [
    "# la distribution relative\n",
    "df.classe.value_counts(normalize=True)"
   ]
  },
  {
   "cell_type": "code",
   "execution_count": 11,
   "metadata": {},
   "outputs": [],
   "source": [
    "# Subdiviser les données en échantillons d'apprentissage et de test\n",
    "dfTrain, dfTest = train_test_split(df,\n",
    "                                   test_size=300,\n",
    "                                   random_state=1,\n",
    "                                   stratify=df.classe)"
   ]
  },
  {
   "cell_type": "code",
   "execution_count": 12,
   "metadata": {},
   "outputs": [
    {
     "name": "stdout",
     "output_type": "stream",
     "text": [
      "les dimensions de l'ensemble d'apprentissage sont:  (399, 10)\n",
      "les dimensions de l'ensemble de test sont:  (300, 10)\n"
     ]
    }
   ],
   "source": [
    "# Vérification des dimensions\n",
    "print(\"les dimensions de l'ensemble d'apprentissage sont: \",dfTrain.shape)\n",
    "print(\"les dimensions de l'ensemble de test sont: \",dfTest.shape)"
   ]
  },
  {
   "cell_type": "code",
   "execution_count": 13,
   "metadata": {},
   "outputs": [
    {
     "data": {
      "text/plain": [
       "begnin       0.654135\n",
       "malignant    0.345865\n",
       "Name: classe, dtype: float64"
      ]
     },
     "execution_count": 13,
     "metadata": {},
     "output_type": "execute_result"
    }
   ],
   "source": [
    "#vérification des distributions en apprentissage\n",
    "dfTrain.classe.value_counts(normalize=True)"
   ]
  },
  {
   "cell_type": "code",
   "execution_count": 14,
   "metadata": {},
   "outputs": [],
   "source": [
    "#instanciation de l'arbre\n",
    "arbreFirst = DecisionTreeClassifier(min_samples_split=30,\n",
    "                                    min_samples_leaf=10)"
   ]
  },
  {
   "cell_type": "code",
   "execution_count": 15,
   "metadata": {},
   "outputs": [
    {
     "data": {
      "text/plain": [
       "DecisionTreeClassifier(ccp_alpha=0.0, class_weight=None, criterion='gini',\n",
       "                       max_depth=None, max_features=None, max_leaf_nodes=None,\n",
       "                       min_impurity_decrease=0.0, min_impurity_split=None,\n",
       "                       min_samples_leaf=10, min_samples_split=30,\n",
       "                       min_weight_fraction_leaf=0.0, presort='deprecated',\n",
       "                       random_state=None, splitter='best')"
      ]
     },
     "execution_count": 15,
     "metadata": {},
     "output_type": "execute_result"
    }
   ],
   "source": [
    "#construction de l'arbre\n",
    "arbreFirst.fit(X = dfTrain.iloc[:,:-1], y = dfTrain.classe)"
   ]
  },
  {
   "cell_type": "code",
   "execution_count": 16,
   "metadata": {
    "scrolled": true
   },
   "outputs": [
    {
     "data": {
      "text/plain": [
       "[Text(182.61818181818182, 195.696, 'ucellsize <= 3.5\\ngini = 0.452\\nsamples = 399\\nvalue = [261, 138]'),\n",
       " Text(121.74545454545455, 152.208, 'bnuclei <= 6.0\\ngini = 0.136\\nsamples = 273\\nvalue = [253, 20]'),\n",
       " Text(91.30909090909091, 108.72, 'ucellshape <= 3.5\\ngini = 0.045\\nsamples = 259\\nvalue = [253, 6]'),\n",
       " Text(60.872727272727275, 65.232, 'bnuclei <= 3.5\\ngini = 0.008\\nsamples = 247\\nvalue = [246, 1]'),\n",
       " Text(30.436363636363637, 21.744, 'gini = 0.0\\nsamples = 232\\nvalue = [232, 0]'),\n",
       " Text(91.30909090909091, 21.744, 'gini = 0.124\\nsamples = 15\\nvalue = [14, 1]'),\n",
       " Text(121.74545454545455, 65.232, 'gini = 0.486\\nsamples = 12\\nvalue = [7, 5]'),\n",
       " Text(152.1818181818182, 108.72, 'gini = 0.0\\nsamples = 14\\nvalue = [0, 14]'),\n",
       " Text(243.4909090909091, 152.208, 'ucellsize <= 4.5\\ngini = 0.119\\nsamples = 126\\nvalue = [8, 118]'),\n",
       " Text(213.05454545454546, 108.72, 'gini = 0.393\\nsamples = 26\\nvalue = [7, 19]'),\n",
       " Text(273.92727272727274, 108.72, 'mgadhesion <= 2.5\\ngini = 0.02\\nsamples = 100\\nvalue = [1, 99]'),\n",
       " Text(243.4909090909091, 65.232, 'gini = 0.117\\nsamples = 16\\nvalue = [1, 15]'),\n",
       " Text(304.3636363636364, 65.232, 'gini = 0.0\\nsamples = 84\\nvalue = [0, 84]')]"
      ]
     },
     "execution_count": 16,
     "metadata": {},
     "output_type": "execute_result"
    },
    {
     "data": {
      "image/png": "[encoded data removed]",
      "text/plain": [
       "<Figure size 432x288 with 1 Axes>"
      ]
     },
     "metadata": {
      "needs_background": "light"
     },
     "output_type": "display_data"
    }
   ],
   "source": [
    "#affichage graphique de l'arbre - depuis sklearn 0.21\n",
    "\n",
    "plot_tree(arbreFirst,feature_names = list(df.columns[:-1]),filled=True)"
   ]
  },
  {
   "cell_type": "code",
   "execution_count": 17,
   "metadata": {},
   "outputs": [
    {
     "data": {
      "image/png": "[encoded data removed]",
      "text/plain": [
       "<Figure size 720x720 with 1 Axes>"
      ]
     },
     "metadata": {
      "needs_background": "light"
     },
     "output_type": "display_data"
    }
   ],
   "source": [
    "#affichage plus grand pour une meilleure lisibilité\n",
    "\n",
    "plt.figure(figsize=(10,10))\n",
    "plot_tree(arbreFirst,feature_names = list(df.columns[:-1]),filled=True)\n",
    "plt.show()"
   ]
  },
  {
   "cell_type": "code",
   "execution_count": 18,
   "metadata": {},
   "outputs": [
    {
     "data": {
      "text/plain": [
       "'|--- ucellsize <= 3.50\\n|   |--- bnuclei <= 6.00\\n|   |   |--- ucellshape <= 3.50\\n|   |   |   |--- bnuclei <= 3.50\\n|   |   |   |   |--- weights: [232.00, 0.00] class: begnin\\n|   |   |   |--- bnuclei >  3.50\\n|   |   |   |   |--- weights: [14.00, 1.00] class: begnin\\n|   |   |--- ucellshape >  3.50\\n|   |   |   |--- weights: [7.00, 5.00] class: begnin\\n|   |--- bnuclei >  6.00\\n|   |   |--- weights: [0.00, 14.00] class: malignant\\n|--- ucellsize >  3.50\\n|   |--- ucellsize <= 4.50\\n|   |   |--- weights: [7.00, 19.00] class: malignant\\n|   |--- ucellsize >  4.50\\n|   |   |--- mgadhesion <= 2.50\\n|   |   |   |--- weights: [1.00, 15.00] class: malignant\\n|   |   |--- mgadhesion >  2.50\\n|   |   |   |--- weights: [0.00, 84.00] class: malignant\\n'"
      ]
     },
     "execution_count": 18,
     "metadata": {},
     "output_type": "execute_result"
    }
   ],
   "source": [
    "#affichage sous forme de règles\n",
    "#plus facile à appréhender quand l'arbre est très grand\n",
    "\n",
    "tree_rules = export_text(arbreFirst,\n",
    "                         feature_names = list(df.columns[:-1]),\n",
    "                         show_weights=True)\n",
    "tree_rules"
   ]
  },
  {
   "cell_type": "code",
   "execution_count": 19,
   "metadata": {},
   "outputs": [
    {
     "name": "stdout",
     "output_type": "stream",
     "text": [
      "|--- ucellsize <= 3.50\n",
      "|   |--- bnuclei <= 6.00\n",
      "|   |   |--- ucellshape <= 3.50\n",
      "|   |   |   |--- bnuclei <= 3.50\n",
      "|   |   |   |   |--- weights: [232.00, 0.00] class: begnin\n",
      "|   |   |   |--- bnuclei >  3.50\n",
      "|   |   |   |   |--- weights: [14.00, 1.00] class: begnin\n",
      "|   |   |--- ucellshape >  3.50\n",
      "|   |   |   |--- weights: [7.00, 5.00] class: begnin\n",
      "|   |--- bnuclei >  6.00\n",
      "|   |   |--- weights: [0.00, 14.00] class: malignant\n",
      "|--- ucellsize >  3.50\n",
      "|   |--- ucellsize <= 4.50\n",
      "|   |   |--- weights: [7.00, 19.00] class: malignant\n",
      "|   |--- ucellsize >  4.50\n",
      "|   |   |--- mgadhesion <= 2.50\n",
      "|   |   |   |--- weights: [1.00, 15.00] class: malignant\n",
      "|   |   |--- mgadhesion >  2.50\n",
      "|   |   |   |--- weights: [0.00, 84.00] class: malignant\n",
      "\n"
     ]
    }
   ],
   "source": [
    "print(tree_rules)"
   ]
  },
  {
   "cell_type": "code",
   "execution_count": 20,
   "metadata": {},
   "outputs": [
    {
     "data": {
      "text/html": [
       "<div>\n",
       "<style scoped>\n",
       "    .dataframe tbody tr th:only-of-type {\n",
       "        vertical-align: middle;\n",
       "    }\n",
       "\n",
       "    .dataframe tbody tr th {\n",
       "        vertical-align: top;\n",
       "    }\n",
       "\n",
       "    .dataframe thead th {\n",
       "        text-align: right;\n",
       "    }\n",
       "</style>\n",
       "<table border=\"1\" class=\"dataframe\">\n",
       "  <thead>\n",
       "    <tr style=\"text-align: right;\">\n",
       "      <th></th>\n",
       "      <th>Variable</th>\n",
       "      <th>Importance</th>\n",
       "    </tr>\n",
       "  </thead>\n",
       "  <tbody>\n",
       "    <tr>\n",
       "      <th>1</th>\n",
       "      <td>ucellsize</td>\n",
       "      <td>0.816627</td>\n",
       "    </tr>\n",
       "    <tr>\n",
       "      <th>5</th>\n",
       "      <td>bnuclei</td>\n",
       "      <td>0.158477</td>\n",
       "    </tr>\n",
       "    <tr>\n",
       "      <th>2</th>\n",
       "      <td>ucellshape</td>\n",
       "      <td>0.024243</td>\n",
       "    </tr>\n",
       "    <tr>\n",
       "      <th>3</th>\n",
       "      <td>mgadhesion</td>\n",
       "      <td>0.000653</td>\n",
       "    </tr>\n",
       "    <tr>\n",
       "      <th>0</th>\n",
       "      <td>clump</td>\n",
       "      <td>0.000000</td>\n",
       "    </tr>\n",
       "    <tr>\n",
       "      <th>4</th>\n",
       "      <td>sepics</td>\n",
       "      <td>0.000000</td>\n",
       "    </tr>\n",
       "    <tr>\n",
       "      <th>6</th>\n",
       "      <td>bchromatin</td>\n",
       "      <td>0.000000</td>\n",
       "    </tr>\n",
       "    <tr>\n",
       "      <th>7</th>\n",
       "      <td>normnucl</td>\n",
       "      <td>0.000000</td>\n",
       "    </tr>\n",
       "    <tr>\n",
       "      <th>8</th>\n",
       "      <td>mitoses</td>\n",
       "      <td>0.000000</td>\n",
       "    </tr>\n",
       "  </tbody>\n",
       "</table>\n",
       "</div>"
      ],
      "text/plain": [
       "     Variable  Importance\n",
       "1   ucellsize    0.816627\n",
       "5     bnuclei    0.158477\n",
       "2  ucellshape    0.024243\n",
       "3  mgadhesion    0.000653\n",
       "0       clump    0.000000\n",
       "4      sepics    0.000000\n",
       "6  bchromatin    0.000000\n",
       "7    normnucl    0.000000\n",
       "8     mitoses    0.000000"
      ]
     },
     "execution_count": 20,
     "metadata": {},
     "output_type": "execute_result"
    }
   ],
   "source": [
    "#importance des variables\n",
    "impVarFirst = {\"Variable\":df.columns[:-1],\"Importance\":arbreFirst.feature_importances_}\n",
    "pd.DataFrame(impVarFirst).sort_values(by=\"Importance\",ascending=False)"
   ]
  },
  {
   "cell_type": "code",
   "execution_count": 21,
   "metadata": {},
   "outputs": [
    {
     "data": {
      "text/plain": [
       "(array(['begnin', 'malignant'], dtype=object), array([199, 101], dtype=int64))"
      ]
     },
     "execution_count": 21,
     "metadata": {},
     "output_type": "execute_result"
    }
   ],
   "source": [
    "#prédiction sur l'échantillon test\n",
    "predFirst = arbreFirst.predict(X=dfTest.iloc[:,:-1])\n",
    "\n",
    "#distribution des predictions\n",
    "np.unique(predFirst,return_counts=True)"
   ]
  },
  {
   "cell_type": "code",
   "execution_count": 22,
   "metadata": {},
   "outputs": [
    {
     "name": "stdout",
     "output_type": "stream",
     "text": [
      "(array(['begnin', 'malignant'], dtype=object), array([199, 101], dtype=int64))\n"
     ]
    }
   ],
   "source": [
    "print(np.unique(predFirst,return_counts=True))"
   ]
  },
  {
   "cell_type": "code",
   "execution_count": 23,
   "metadata": {},
   "outputs": [
    {
     "data": {
      "text/plain": [
       "array([[189,   8],\n",
       "       [ 10,  93]], dtype=int64)"
      ]
     },
     "execution_count": 23,
     "metadata": {},
     "output_type": "execute_result"
    }
   ],
   "source": [
    "#matrice de confusion\n",
    "metrics.confusion_matrix(dfTest.classe,predFirst)"
   ]
  },
  {
   "cell_type": "code",
   "execution_count": 24,
   "metadata": {},
   "outputs": [
    {
     "data": {
      "text/plain": [
       "0.94"
      ]
     },
     "execution_count": 24,
     "metadata": {},
     "output_type": "execute_result"
    }
   ],
   "source": [
    "#taux de reconnaissance\n",
    "metrics.accuracy_score(dfTest.classe,predFirst)"
   ]
  },
  {
   "cell_type": "code",
   "execution_count": 25,
   "metadata": {},
   "outputs": [
    {
     "data": {
      "text/plain": [
       "0.06000000000000005"
      ]
     },
     "execution_count": 25,
     "metadata": {},
     "output_type": "execute_result"
    }
   ],
   "source": [
    "#taux d'erreur\n",
    "1.0 - metrics.accuracy_score(dfTest.classe,predFirst)"
   ]
  },
  {
   "cell_type": "code",
   "execution_count": 26,
   "metadata": {},
   "outputs": [
    {
     "data": {
      "text/plain": [
       "0.9029126213592233"
      ]
     },
     "execution_count": 26,
     "metadata": {},
     "output_type": "execute_result"
    }
   ],
   "source": [
    "#rappel - sensibilité\n",
    "metrics.recall_score(dfTest.classe,predFirst,pos_label='malignant')"
   ]
  },
  {
   "cell_type": "code",
   "execution_count": 27,
   "metadata": {},
   "outputs": [
    {
     "data": {
      "text/plain": [
       "0.9207920792079208"
      ]
     },
     "execution_count": 27,
     "metadata": {},
     "output_type": "execute_result"
    }
   ],
   "source": [
    "#précision\n",
    "metrics.precision_score(dfTest.classe,predFirst,pos_label='malignant')"
   ]
  },
  {
   "cell_type": "code",
   "execution_count": 28,
   "metadata": {},
   "outputs": [
    {
     "data": {
      "text/plain": [
       "0.911764705882353"
      ]
     },
     "execution_count": 28,
     "metadata": {},
     "output_type": "execute_result"
    }
   ],
   "source": [
    "#F1-score\n",
    "metrics.f1_score(dfTest.classe,predFirst,pos_label='malignant')"
   ]
  },
  {
   "cell_type": "code",
   "execution_count": 30,
   "metadata": {},
   "outputs": [
    {
     "name": "stdout",
     "output_type": "stream",
     "text": [
      "              precision    recall  f1-score   support\n",
      "\n",
      "      begnin       0.95      0.96      0.95       197\n",
      "   malignant       0.92      0.90      0.91       103\n",
      "\n",
      "    accuracy                           0.94       300\n",
      "   macro avg       0.94      0.93      0.93       300\n",
      "weighted avg       0.94      0.94      0.94       300\n",
      "\n"
     ]
    }
   ],
   "source": [
    "#rapport de prédiction\n",
    "print(metrics.classification_report(dfTest.classe,predFirst))"
   ]
  },
  {
   "cell_type": "code",
   "execution_count": 31,
   "metadata": {},
   "outputs": [],
   "source": [
    "#modifier les paramètres d'apprentissage\n",
    "arbreSecond = DecisionTreeClassifier(min_samples_split=30,\n",
    "                                     min_samples_leaf=10,\n",
    "                                     max_leaf_nodes=3)"
   ]
  },
  {
   "cell_type": "code",
   "execution_count": 32,
   "metadata": {},
   "outputs": [
    {
     "data": {
      "text/plain": [
       "DecisionTreeClassifier(ccp_alpha=0.0, class_weight=None, criterion='gini',\n",
       "                       max_depth=None, max_features=None, max_leaf_nodes=3,\n",
       "                       min_impurity_decrease=0.0, min_impurity_split=None,\n",
       "                       min_samples_leaf=10, min_samples_split=30,\n",
       "                       min_weight_fraction_leaf=0.0, presort='deprecated',\n",
       "                       random_state=None, splitter='best')"
      ]
     },
     "execution_count": 32,
     "metadata": {},
     "output_type": "execute_result"
    }
   ],
   "source": [
    "#construction de l'arbre\n",
    "arbreSecond.fit(X = dfTrain.iloc[:,:-1], y = dfTrain.classe)"
   ]
  },
  {
   "cell_type": "code",
   "execution_count": 33,
   "metadata": {},
   "outputs": [
    {
     "data": {
      "text/plain": [
       "[Text(200.88000000000002, 181.2, 'ucellsize <= 3.5\\ngini = 0.452\\nsamples = 399\\nvalue = [261, 138]'),\n",
       " Text(133.92000000000002, 108.72, 'bnuclei <= 6.0\\ngini = 0.136\\nsamples = 273\\nvalue = [253, 20]'),\n",
       " Text(66.96000000000001, 36.23999999999998, 'gini = 0.045\\nsamples = 259\\nvalue = [253, 6]'),\n",
       " Text(200.88000000000002, 36.23999999999998, 'gini = 0.0\\nsamples = 14\\nvalue = [0, 14]'),\n",
       " Text(267.84000000000003, 108.72, 'gini = 0.119\\nsamples = 126\\nvalue = [8, 118]')]"
      ]
     },
     "execution_count": 33,
     "metadata": {},
     "output_type": "execute_result"
    },
    {
     "data": {
      "image/png": "[encoded data removed]",
      "text/plain": [
       "<Figure size 432x288 with 1 Axes>"
      ]
     },
     "metadata": {
      "needs_background": "light"
     },
     "output_type": "display_data"
    }
   ],
   "source": [
    "#affichage graphique de l'arbre\n",
    "plot_tree(arbreSecond,feature_names = list(df.columns[:-1]),filled=True)"
   ]
  },
  {
   "cell_type": "code",
   "execution_count": 35,
   "metadata": {},
   "outputs": [
    {
     "data": {
      "text/html": [
       "<div>\n",
       "<style scoped>\n",
       "    .dataframe tbody tr th:only-of-type {\n",
       "        vertical-align: middle;\n",
       "    }\n",
       "\n",
       "    .dataframe tbody tr th {\n",
       "        vertical-align: top;\n",
       "    }\n",
       "\n",
       "    .dataframe thead th {\n",
       "        text-align: right;\n",
       "    }\n",
       "</style>\n",
       "<table border=\"1\" class=\"dataframe\">\n",
       "  <thead>\n",
       "    <tr style=\"text-align: right;\">\n",
       "      <th></th>\n",
       "      <th>Variable</th>\n",
       "      <th>Importance</th>\n",
       "    </tr>\n",
       "  </thead>\n",
       "  <tbody>\n",
       "    <tr>\n",
       "      <th>1</th>\n",
       "      <td>ucellsize</td>\n",
       "      <td>0.835229</td>\n",
       "    </tr>\n",
       "    <tr>\n",
       "      <th>5</th>\n",
       "      <td>bnuclei</td>\n",
       "      <td>0.164771</td>\n",
       "    </tr>\n",
       "    <tr>\n",
       "      <th>0</th>\n",
       "      <td>clump</td>\n",
       "      <td>0.000000</td>\n",
       "    </tr>\n",
       "    <tr>\n",
       "      <th>2</th>\n",
       "      <td>ucellshape</td>\n",
       "      <td>0.000000</td>\n",
       "    </tr>\n",
       "    <tr>\n",
       "      <th>3</th>\n",
       "      <td>mgadhesion</td>\n",
       "      <td>0.000000</td>\n",
       "    </tr>\n",
       "    <tr>\n",
       "      <th>4</th>\n",
       "      <td>sepics</td>\n",
       "      <td>0.000000</td>\n",
       "    </tr>\n",
       "    <tr>\n",
       "      <th>6</th>\n",
       "      <td>bchromatin</td>\n",
       "      <td>0.000000</td>\n",
       "    </tr>\n",
       "    <tr>\n",
       "      <th>7</th>\n",
       "      <td>normnucl</td>\n",
       "      <td>0.000000</td>\n",
       "    </tr>\n",
       "    <tr>\n",
       "      <th>8</th>\n",
       "      <td>mitoses</td>\n",
       "      <td>0.000000</td>\n",
       "    </tr>\n",
       "  </tbody>\n",
       "</table>\n",
       "</div>"
      ],
      "text/plain": [
       "     Variable  Importance\n",
       "1   ucellsize    0.835229\n",
       "5     bnuclei    0.164771\n",
       "0       clump    0.000000\n",
       "2  ucellshape    0.000000\n",
       "3  mgadhesion    0.000000\n",
       "4      sepics    0.000000\n",
       "6  bchromatin    0.000000\n",
       "7    normnucl    0.000000\n",
       "8     mitoses    0.000000"
      ]
     },
     "execution_count": 35,
     "metadata": {},
     "output_type": "execute_result"
    }
   ],
   "source": [
    "#importance des variables\n",
    "impVarSecond = {\"Variable\":df.columns[:-1],\"Importance\":arbreSecond.feature_importances_}\n",
    "pd.DataFrame(impVarSecond).sort_values(by=\"Importance\",ascending=False)"
   ]
  },
  {
   "cell_type": "code",
   "execution_count": 36,
   "metadata": {},
   "outputs": [],
   "source": [
    "#prédiction sur l'échantillon test\n",
    "predSecond = arbreSecond.predict(X=dfTest.iloc[:,:-1])"
   ]
  },
  {
   "cell_type": "code",
   "execution_count": 37,
   "metadata": {},
   "outputs": [
    {
     "data": {
      "text/plain": [
       "array([[189,   8],\n",
       "       [ 10,  93]], dtype=int64)"
      ]
     },
     "execution_count": 37,
     "metadata": {},
     "output_type": "execute_result"
    }
   ],
   "source": [
    "#matrice de confusion\n",
    "metrics.confusion_matrix(dfTest.classe,predSecond)"
   ]
  },
  {
   "cell_type": "code",
   "execution_count": 38,
   "metadata": {},
   "outputs": [
    {
     "data": {
      "text/plain": [
       "0.94"
      ]
     },
     "execution_count": 38,
     "metadata": {},
     "output_type": "execute_result"
    }
   ],
   "source": [
    "#taux de reconnaissance\n",
    "metrics.accuracy_score(dfTest.classe,predSecond)"
   ]
  },
  {
   "cell_type": "markdown",
   "metadata": {},
   "source": [
    "***************************************************************************\n",
    "<br>\n",
    "\n",
    "\n",
    "\n",
    "\n",
    "***************************************************************************\n",
    "<br>\n",
    "\n",
    "\n",
    "\n",
    "\n",
    "***************************************************************************\n",
    "<br>"
   ]
  },
  {
   "cell_type": "markdown",
   "metadata": {},
   "source": [
    "# Arbre de décision \"Heart\""
   ]
  },
  {
   "cell_type": "code",
   "execution_count": 40,
   "metadata": {},
   "outputs": [
    {
     "data": {
      "text/html": [
       "<div>\n",
       "<style scoped>\n",
       "    .dataframe tbody tr th:only-of-type {\n",
       "        vertical-align: middle;\n",
       "    }\n",
       "\n",
       "    .dataframe tbody tr th {\n",
       "        vertical-align: top;\n",
       "    }\n",
       "\n",
       "    .dataframe thead th {\n",
       "        text-align: right;\n",
       "    }\n",
       "</style>\n",
       "<table border=\"1\" class=\"dataframe\">\n",
       "  <thead>\n",
       "    <tr style=\"text-align: right;\">\n",
       "      <th></th>\n",
       "      <th>age</th>\n",
       "      <th>sexe</th>\n",
       "      <th>type_douleur</th>\n",
       "      <th>pression</th>\n",
       "      <th>cholester</th>\n",
       "      <th>sucre</th>\n",
       "      <th>electro</th>\n",
       "      <th>taux_max</th>\n",
       "      <th>angine</th>\n",
       "      <th>depression</th>\n",
       "      <th>pic</th>\n",
       "      <th>vaisseau</th>\n",
       "      <th>coeur</th>\n",
       "    </tr>\n",
       "  </thead>\n",
       "  <tbody>\n",
       "    <tr>\n",
       "      <th>0</th>\n",
       "      <td>58</td>\n",
       "      <td>masculin</td>\n",
       "      <td>D</td>\n",
       "      <td>100</td>\n",
       "      <td>234</td>\n",
       "      <td>A</td>\n",
       "      <td>A</td>\n",
       "      <td>156</td>\n",
       "      <td>non</td>\n",
       "      <td>1</td>\n",
       "      <td>1</td>\n",
       "      <td>B</td>\n",
       "      <td>presence</td>\n",
       "    </tr>\n",
       "    <tr>\n",
       "      <th>1</th>\n",
       "      <td>41</td>\n",
       "      <td>feminin</td>\n",
       "      <td>B</td>\n",
       "      <td>130</td>\n",
       "      <td>204</td>\n",
       "      <td>A</td>\n",
       "      <td>C</td>\n",
       "      <td>172</td>\n",
       "      <td>non</td>\n",
       "      <td>14</td>\n",
       "      <td>1</td>\n",
       "      <td>A</td>\n",
       "      <td>absence</td>\n",
       "    </tr>\n",
       "    <tr>\n",
       "      <th>2</th>\n",
       "      <td>58</td>\n",
       "      <td>masculin</td>\n",
       "      <td>D</td>\n",
       "      <td>150</td>\n",
       "      <td>270</td>\n",
       "      <td>A</td>\n",
       "      <td>C</td>\n",
       "      <td>111</td>\n",
       "      <td>oui</td>\n",
       "      <td>8</td>\n",
       "      <td>1</td>\n",
       "      <td>A</td>\n",
       "      <td>presence</td>\n",
       "    </tr>\n",
       "    <tr>\n",
       "      <th>3</th>\n",
       "      <td>53</td>\n",
       "      <td>masculin</td>\n",
       "      <td>D</td>\n",
       "      <td>140</td>\n",
       "      <td>203</td>\n",
       "      <td>B</td>\n",
       "      <td>C</td>\n",
       "      <td>155</td>\n",
       "      <td>oui</td>\n",
       "      <td>31</td>\n",
       "      <td>3</td>\n",
       "      <td>A</td>\n",
       "      <td>presence</td>\n",
       "    </tr>\n",
       "    <tr>\n",
       "      <th>4</th>\n",
       "      <td>41</td>\n",
       "      <td>masculin</td>\n",
       "      <td>C</td>\n",
       "      <td>130</td>\n",
       "      <td>214</td>\n",
       "      <td>A</td>\n",
       "      <td>C</td>\n",
       "      <td>168</td>\n",
       "      <td>non</td>\n",
       "      <td>20</td>\n",
       "      <td>2</td>\n",
       "      <td>A</td>\n",
       "      <td>absence</td>\n",
       "    </tr>\n",
       "  </tbody>\n",
       "</table>\n",
       "</div>"
      ],
      "text/plain": [
       "   age      sexe type_douleur  pression  cholester sucre electro  taux_max  \\\n",
       "0   58  masculin            D       100        234     A       A       156   \n",
       "1   41   feminin            B       130        204     A       C       172   \n",
       "2   58  masculin            D       150        270     A       C       111   \n",
       "3   53  masculin            D       140        203     B       C       155   \n",
       "4   41  masculin            C       130        214     A       C       168   \n",
       "\n",
       "  angine  depression  pic vaisseau     coeur  \n",
       "0    non           1    1        B  presence  \n",
       "1    non          14    1        A   absence  \n",
       "2    oui           8    1        A  presence  \n",
       "3    oui          31    3        A  presence  \n",
       "4    non          20    2        A   absence  "
      ]
     },
     "execution_count": 40,
     "metadata": {},
     "output_type": "execute_result"
    }
   ],
   "source": [
    "#importation des données\n",
    "dfHeart = pd.read_excel(\"heart_dataset.xlsx\",sheet_name = 0)\n",
    "dfHeart.head()"
   ]
  },
  {
   "cell_type": "code",
   "execution_count": 41,
   "metadata": {},
   "outputs": [
    {
     "data": {
      "text/plain": [
       "(270, 13)"
      ]
     },
     "execution_count": 41,
     "metadata": {},
     "output_type": "execute_result"
    }
   ],
   "source": [
    "dfHeart.shape"
   ]
  },
  {
   "cell_type": "code",
   "execution_count": 42,
   "metadata": {},
   "outputs": [
    {
     "name": "stdout",
     "output_type": "stream",
     "text": [
      "<class 'pandas.core.frame.DataFrame'>\n",
      "RangeIndex: 270 entries, 0 to 269\n",
      "Data columns (total 13 columns):\n",
      " #   Column        Non-Null Count  Dtype \n",
      "---  ------        --------------  ----- \n",
      " 0   age           270 non-null    int64 \n",
      " 1   sexe          270 non-null    object\n",
      " 2   type_douleur  270 non-null    object\n",
      " 3   pression      270 non-null    int64 \n",
      " 4   cholester     270 non-null    int64 \n",
      " 5   sucre         270 non-null    object\n",
      " 6   electro       270 non-null    object\n",
      " 7   taux_max      270 non-null    int64 \n",
      " 8   angine        270 non-null    object\n",
      " 9   depression    270 non-null    int64 \n",
      " 10  pic           270 non-null    int64 \n",
      " 11  vaisseau      270 non-null    object\n",
      " 12  coeur         270 non-null    object\n",
      "dtypes: int64(6), object(7)\n",
      "memory usage: 27.5+ KB\n",
      "None\n"
     ]
    }
   ],
   "source": [
    "#liste des variables\n",
    "print(dfHeart.info())"
   ]
  },
  {
   "cell_type": "code",
   "execution_count": 43,
   "metadata": {},
   "outputs": [
    {
     "name": "stdout",
     "output_type": "stream",
     "text": [
      "['sexe', 'type_douleur', 'sucre', 'electro', 'angine', 'vaisseau']\n"
     ]
    }
   ],
   "source": [
    "#liste des variables quanlitative\n",
    "\n",
    "lstQuali =  [var for var in dfHeart.columns[:-1] \n",
    "             if dfHeart[var].dtype == np.object_]\n",
    "print(lstQuali)"
   ]
  },
  {
   "cell_type": "code",
   "execution_count": 44,
   "metadata": {},
   "outputs": [
    {
     "name": "stdout",
     "output_type": "stream",
     "text": [
      "<class 'pandas.core.frame.DataFrame'>\n",
      "RangeIndex: 270 entries, 0 to 269\n",
      "Data columns (total 17 columns):\n",
      " #   Column          Non-Null Count  Dtype\n",
      "---  ------          --------------  -----\n",
      " 0   sexe_feminin    270 non-null    uint8\n",
      " 1   sexe_masculin   270 non-null    uint8\n",
      " 2   type_douleur_A  270 non-null    uint8\n",
      " 3   type_douleur_B  270 non-null    uint8\n",
      " 4   type_douleur_C  270 non-null    uint8\n",
      " 5   type_douleur_D  270 non-null    uint8\n",
      " 6   sucre_A         270 non-null    uint8\n",
      " 7   sucre_B         270 non-null    uint8\n",
      " 8   electro_A       270 non-null    uint8\n",
      " 9   electro_B       270 non-null    uint8\n",
      " 10  electro_C       270 non-null    uint8\n",
      " 11  angine_non      270 non-null    uint8\n",
      " 12  angine_oui      270 non-null    uint8\n",
      " 13  vaisseau_A      270 non-null    uint8\n",
      " 14  vaisseau_B      270 non-null    uint8\n",
      " 15  vaisseau_C      270 non-null    uint8\n",
      " 16  vaisseau_D      270 non-null    uint8\n",
      "dtypes: uint8(17)\n",
      "memory usage: 4.6 KB\n"
     ]
    }
   ],
   "source": [
    "#recoder en 0/1 ces variables\n",
    "dfQualiEncoded = pd.get_dummies(dfHeart[lstQuali])\n",
    "dfQualiEncoded.info()"
   ]
  },
  {
   "cell_type": "code",
   "execution_count": 45,
   "metadata": {},
   "outputs": [
    {
     "name": "stdout",
     "output_type": "stream",
     "text": [
      "<class 'pandas.core.frame.DataFrame'>\n",
      "RangeIndex: 270 entries, 0 to 269\n",
      "Data columns (total 17 columns):\n",
      " #   Column          Non-Null Count  Dtype\n",
      "---  ------          --------------  -----\n",
      " 0   sexe_feminin    270 non-null    uint8\n",
      " 1   sexe_masculin   270 non-null    uint8\n",
      " 2   type_douleur_A  270 non-null    uint8\n",
      " 3   type_douleur_B  270 non-null    uint8\n",
      " 4   type_douleur_C  270 non-null    uint8\n",
      " 5   type_douleur_D  270 non-null    uint8\n",
      " 6   sucre_A         270 non-null    uint8\n",
      " 7   sucre_B         270 non-null    uint8\n",
      " 8   electro_A       270 non-null    uint8\n",
      " 9   electro_B       270 non-null    uint8\n",
      " 10  electro_C       270 non-null    uint8\n",
      " 11  angine_non      270 non-null    uint8\n",
      " 12  angine_oui      270 non-null    uint8\n",
      " 13  vaisseau_A      270 non-null    uint8\n",
      " 14  vaisseau_B      270 non-null    uint8\n",
      " 15  vaisseau_C      270 non-null    uint8\n",
      " 16  vaisseau_D      270 non-null    uint8\n",
      "dtypes: uint8(17)\n",
      "memory usage: 4.6 KB\n",
      "None\n"
     ]
    }
   ],
   "source": [
    "print(dfQualiEncoded.info())"
   ]
  },
  {
   "cell_type": "code",
   "execution_count": 46,
   "metadata": {},
   "outputs": [
    {
     "data": {
      "text/plain": [
       "['age', 'pression', 'cholester', 'taux_max', 'depression', 'pic']"
      ]
     },
     "execution_count": 46,
     "metadata": {},
     "output_type": "execute_result"
    }
   ],
   "source": [
    "#liste des variables quanti\n",
    "lstQuanti = [var for var in dfHeart.columns[:-1] if dfHeart[var].dtype != np.object_]\n",
    "lstQuanti"
   ]
  },
  {
   "cell_type": "code",
   "execution_count": 47,
   "metadata": {},
   "outputs": [
    {
     "name": "stdout",
     "output_type": "stream",
     "text": [
      "<class 'pandas.core.frame.DataFrame'>\n",
      "RangeIndex: 270 entries, 0 to 269\n",
      "Data columns (total 23 columns):\n",
      " #   Column          Non-Null Count  Dtype\n",
      "---  ------          --------------  -----\n",
      " 0   sexe_feminin    270 non-null    uint8\n",
      " 1   sexe_masculin   270 non-null    uint8\n",
      " 2   type_douleur_A  270 non-null    uint8\n",
      " 3   type_douleur_B  270 non-null    uint8\n",
      " 4   type_douleur_C  270 non-null    uint8\n",
      " 5   type_douleur_D  270 non-null    uint8\n",
      " 6   sucre_A         270 non-null    uint8\n",
      " 7   sucre_B         270 non-null    uint8\n",
      " 8   electro_A       270 non-null    uint8\n",
      " 9   electro_B       270 non-null    uint8\n",
      " 10  electro_C       270 non-null    uint8\n",
      " 11  angine_non      270 non-null    uint8\n",
      " 12  angine_oui      270 non-null    uint8\n",
      " 13  vaisseau_A      270 non-null    uint8\n",
      " 14  vaisseau_B      270 non-null    uint8\n",
      " 15  vaisseau_C      270 non-null    uint8\n",
      " 16  vaisseau_D      270 non-null    uint8\n",
      " 17  age             270 non-null    int64\n",
      " 18  pression        270 non-null    int64\n",
      " 19  cholester       270 non-null    int64\n",
      " 20  taux_max        270 non-null    int64\n",
      " 21  depression      270 non-null    int64\n",
      " 22  pic             270 non-null    int64\n",
      "dtypes: int64(6), uint8(17)\n",
      "memory usage: 17.3 KB\n"
     ]
    }
   ],
   "source": [
    "#réunir dummies et quanti dans le même data frame\n",
    "dfNew = pd.concat([dfQualiEncoded,dfHeart[lstQuanti]],axis=1)\n",
    "dfNew.info()"
   ]
  },
  {
   "cell_type": "code",
   "execution_count": 48,
   "metadata": {},
   "outputs": [
    {
     "data": {
      "text/html": [
       "<div>\n",
       "<style scoped>\n",
       "    .dataframe tbody tr th:only-of-type {\n",
       "        vertical-align: middle;\n",
       "    }\n",
       "\n",
       "    .dataframe tbody tr th {\n",
       "        vertical-align: top;\n",
       "    }\n",
       "\n",
       "    .dataframe thead th {\n",
       "        text-align: right;\n",
       "    }\n",
       "</style>\n",
       "<table border=\"1\" class=\"dataframe\">\n",
       "  <thead>\n",
       "    <tr style=\"text-align: right;\">\n",
       "      <th></th>\n",
       "      <th>sexe_feminin</th>\n",
       "      <th>sexe_masculin</th>\n",
       "      <th>type_douleur_A</th>\n",
       "      <th>type_douleur_B</th>\n",
       "      <th>type_douleur_C</th>\n",
       "      <th>type_douleur_D</th>\n",
       "      <th>sucre_A</th>\n",
       "      <th>sucre_B</th>\n",
       "      <th>electro_A</th>\n",
       "      <th>electro_B</th>\n",
       "      <th>...</th>\n",
       "      <th>vaisseau_A</th>\n",
       "      <th>vaisseau_B</th>\n",
       "      <th>vaisseau_C</th>\n",
       "      <th>vaisseau_D</th>\n",
       "      <th>age</th>\n",
       "      <th>pression</th>\n",
       "      <th>cholester</th>\n",
       "      <th>taux_max</th>\n",
       "      <th>depression</th>\n",
       "      <th>pic</th>\n",
       "    </tr>\n",
       "  </thead>\n",
       "  <tbody>\n",
       "    <tr>\n",
       "      <th>0</th>\n",
       "      <td>0</td>\n",
       "      <td>1</td>\n",
       "      <td>0</td>\n",
       "      <td>0</td>\n",
       "      <td>0</td>\n",
       "      <td>1</td>\n",
       "      <td>1</td>\n",
       "      <td>0</td>\n",
       "      <td>1</td>\n",
       "      <td>0</td>\n",
       "      <td>...</td>\n",
       "      <td>0</td>\n",
       "      <td>1</td>\n",
       "      <td>0</td>\n",
       "      <td>0</td>\n",
       "      <td>58</td>\n",
       "      <td>100</td>\n",
       "      <td>234</td>\n",
       "      <td>156</td>\n",
       "      <td>1</td>\n",
       "      <td>1</td>\n",
       "    </tr>\n",
       "    <tr>\n",
       "      <th>1</th>\n",
       "      <td>1</td>\n",
       "      <td>0</td>\n",
       "      <td>0</td>\n",
       "      <td>1</td>\n",
       "      <td>0</td>\n",
       "      <td>0</td>\n",
       "      <td>1</td>\n",
       "      <td>0</td>\n",
       "      <td>0</td>\n",
       "      <td>0</td>\n",
       "      <td>...</td>\n",
       "      <td>1</td>\n",
       "      <td>0</td>\n",
       "      <td>0</td>\n",
       "      <td>0</td>\n",
       "      <td>41</td>\n",
       "      <td>130</td>\n",
       "      <td>204</td>\n",
       "      <td>172</td>\n",
       "      <td>14</td>\n",
       "      <td>1</td>\n",
       "    </tr>\n",
       "    <tr>\n",
       "      <th>2</th>\n",
       "      <td>0</td>\n",
       "      <td>1</td>\n",
       "      <td>0</td>\n",
       "      <td>0</td>\n",
       "      <td>0</td>\n",
       "      <td>1</td>\n",
       "      <td>1</td>\n",
       "      <td>0</td>\n",
       "      <td>0</td>\n",
       "      <td>0</td>\n",
       "      <td>...</td>\n",
       "      <td>1</td>\n",
       "      <td>0</td>\n",
       "      <td>0</td>\n",
       "      <td>0</td>\n",
       "      <td>58</td>\n",
       "      <td>150</td>\n",
       "      <td>270</td>\n",
       "      <td>111</td>\n",
       "      <td>8</td>\n",
       "      <td>1</td>\n",
       "    </tr>\n",
       "    <tr>\n",
       "      <th>3</th>\n",
       "      <td>0</td>\n",
       "      <td>1</td>\n",
       "      <td>0</td>\n",
       "      <td>0</td>\n",
       "      <td>0</td>\n",
       "      <td>1</td>\n",
       "      <td>0</td>\n",
       "      <td>1</td>\n",
       "      <td>0</td>\n",
       "      <td>0</td>\n",
       "      <td>...</td>\n",
       "      <td>1</td>\n",
       "      <td>0</td>\n",
       "      <td>0</td>\n",
       "      <td>0</td>\n",
       "      <td>53</td>\n",
       "      <td>140</td>\n",
       "      <td>203</td>\n",
       "      <td>155</td>\n",
       "      <td>31</td>\n",
       "      <td>3</td>\n",
       "    </tr>\n",
       "    <tr>\n",
       "      <th>4</th>\n",
       "      <td>0</td>\n",
       "      <td>1</td>\n",
       "      <td>0</td>\n",
       "      <td>0</td>\n",
       "      <td>1</td>\n",
       "      <td>0</td>\n",
       "      <td>1</td>\n",
       "      <td>0</td>\n",
       "      <td>0</td>\n",
       "      <td>0</td>\n",
       "      <td>...</td>\n",
       "      <td>1</td>\n",
       "      <td>0</td>\n",
       "      <td>0</td>\n",
       "      <td>0</td>\n",
       "      <td>41</td>\n",
       "      <td>130</td>\n",
       "      <td>214</td>\n",
       "      <td>168</td>\n",
       "      <td>20</td>\n",
       "      <td>2</td>\n",
       "    </tr>\n",
       "  </tbody>\n",
       "</table>\n",
       "<p>5 rows × 23 columns</p>\n",
       "</div>"
      ],
      "text/plain": [
       "   sexe_feminin  sexe_masculin  type_douleur_A  type_douleur_B  \\\n",
       "0             0              1               0               0   \n",
       "1             1              0               0               1   \n",
       "2             0              1               0               0   \n",
       "3             0              1               0               0   \n",
       "4             0              1               0               0   \n",
       "\n",
       "   type_douleur_C  type_douleur_D  sucre_A  sucre_B  electro_A  electro_B  \\\n",
       "0               0               1        1        0          1          0   \n",
       "1               0               0        1        0          0          0   \n",
       "2               0               1        1        0          0          0   \n",
       "3               0               1        0        1          0          0   \n",
       "4               1               0        1        0          0          0   \n",
       "\n",
       "   ...  vaisseau_A  vaisseau_B  vaisseau_C  vaisseau_D  age  pression  \\\n",
       "0  ...           0           1           0           0   58       100   \n",
       "1  ...           1           0           0           0   41       130   \n",
       "2  ...           1           0           0           0   58       150   \n",
       "3  ...           1           0           0           0   53       140   \n",
       "4  ...           1           0           0           0   41       130   \n",
       "\n",
       "   cholester  taux_max  depression  pic  \n",
       "0        234       156           1    1  \n",
       "1        204       172          14    1  \n",
       "2        270       111           8    1  \n",
       "3        203       155          31    3  \n",
       "4        214       168          20    2  \n",
       "\n",
       "[5 rows x 23 columns]"
      ]
     },
     "execution_count": 48,
     "metadata": {},
     "output_type": "execute_result"
    }
   ],
   "source": [
    "dfNew.head()"
   ]
  },
  {
   "cell_type": "code",
   "execution_count": 49,
   "metadata": {},
   "outputs": [
    {
     "name": "stdout",
     "output_type": "stream",
     "text": [
      "<class 'pandas.core.frame.DataFrame'>\n",
      "RangeIndex: 270 entries, 0 to 269\n",
      "Data columns (total 24 columns):\n",
      " #   Column          Non-Null Count  Dtype \n",
      "---  ------          --------------  ----- \n",
      " 0   sexe_feminin    270 non-null    uint8 \n",
      " 1   sexe_masculin   270 non-null    uint8 \n",
      " 2   type_douleur_A  270 non-null    uint8 \n",
      " 3   type_douleur_B  270 non-null    uint8 \n",
      " 4   type_douleur_C  270 non-null    uint8 \n",
      " 5   type_douleur_D  270 non-null    uint8 \n",
      " 6   sucre_A         270 non-null    uint8 \n",
      " 7   sucre_B         270 non-null    uint8 \n",
      " 8   electro_A       270 non-null    uint8 \n",
      " 9   electro_B       270 non-null    uint8 \n",
      " 10  electro_C       270 non-null    uint8 \n",
      " 11  angine_non      270 non-null    uint8 \n",
      " 12  angine_oui      270 non-null    uint8 \n",
      " 13  vaisseau_A      270 non-null    uint8 \n",
      " 14  vaisseau_B      270 non-null    uint8 \n",
      " 15  vaisseau_C      270 non-null    uint8 \n",
      " 16  vaisseau_D      270 non-null    uint8 \n",
      " 17  age             270 non-null    int64 \n",
      " 18  pression        270 non-null    int64 \n",
      " 19  cholester       270 non-null    int64 \n",
      " 20  taux_max        270 non-null    int64 \n",
      " 21  depression      270 non-null    int64 \n",
      " 22  pic             270 non-null    int64 \n",
      " 23  coeur           270 non-null    object\n",
      "dtypes: int64(6), object(1), uint8(17)\n",
      "memory usage: 19.4+ KB\n",
      "None\n"
     ]
    }
   ],
   "source": [
    "#rajouter la variable cible\n",
    "dfNew['coeur'] = dfHeart.coeur\n",
    "print(dfNew.info())"
   ]
  },
  {
   "cell_type": "code",
   "execution_count": 50,
   "metadata": {},
   "outputs": [],
   "source": [
    "#instanciation de l'arbre\n",
    "\n",
    "arbreHeart = DecisionTreeClassifier(max_depth = 2)"
   ]
  },
  {
   "cell_type": "code",
   "execution_count": 51,
   "metadata": {},
   "outputs": [
    {
     "data": {
      "text/plain": [
       "DecisionTreeClassifier(ccp_alpha=0.0, class_weight=None, criterion='gini',\n",
       "                       max_depth=2, max_features=None, max_leaf_nodes=None,\n",
       "                       min_impurity_decrease=0.0, min_impurity_split=None,\n",
       "                       min_samples_leaf=1, min_samples_split=2,\n",
       "                       min_weight_fraction_leaf=0.0, presort='deprecated',\n",
       "                       random_state=None, splitter='best')"
      ]
     },
     "execution_count": 51,
     "metadata": {},
     "output_type": "execute_result"
    }
   ],
   "source": [
    "#construction de l'arbre\n",
    "arbreHeart.fit(X = dfNew.iloc[:,:-1], y = dfNew.coeur)"
   ]
  },
  {
   "cell_type": "code",
   "execution_count": 52,
   "metadata": {},
   "outputs": [
    {
     "data": {
      "image/png": "[encoded data removed]",
      "text/plain": [
       "<Figure size 1080x720 with 1 Axes>"
      ]
     },
     "metadata": {
      "needs_background": "light"
     },
     "output_type": "display_data"
    }
   ],
   "source": [
    "#affichage graphique de l'arbre - depuis sklearn 0.21\n",
    "\n",
    "plt.figure(figsize=(15,10))\n",
    "plot_tree(arbreHeart,feature_names = list(dfNew.columns[:-1]),filled=True)\n",
    "plt.show()"
   ]
  },
  {
   "cell_type": "markdown",
   "metadata": {},
   "source": [
    "***************************************************************************\n",
    "<br>\n",
    "\n",
    "\n",
    "\n",
    "\n",
    "***************************************************************************\n",
    "<br>\n",
    "\n",
    "\n",
    "\n",
    "\n",
    "***************************************************************************\n",
    "<br>"
   ]
  },
  {
   "cell_type": "markdown",
   "metadata": {},
   "source": [
    "# Arbre de décision \"Vote\""
   ]
  },
  {
   "cell_type": "code",
   "execution_count": 53,
   "metadata": {},
   "outputs": [
    {
     "data": {
      "text/plain": [
       "(435, 7)"
      ]
     },
     "execution_count": 53,
     "metadata": {},
     "output_type": "execute_result"
    }
   ],
   "source": [
    "#importer les données\n",
    "\n",
    "dfVote = pd.read_excel(\"vote_simplified.xlsx\",sheet_name = 0)\n",
    "\n",
    "#dimensions\n",
    "dfVote.shape"
   ]
  },
  {
   "cell_type": "code",
   "execution_count": 54,
   "metadata": {},
   "outputs": [
    {
     "name": "stdout",
     "output_type": "stream",
     "text": [
      "<class 'pandas.core.frame.DataFrame'>\n",
      "RangeIndex: 435 entries, 0 to 434\n",
      "Data columns (total 7 columns):\n",
      " #   Column                     Non-Null Count  Dtype \n",
      "---  ------                     --------------  ----- \n",
      " 0   adoption_of_the_budget_re  435 non-null    object\n",
      " 1   physician_fee_freeze       435 non-null    object\n",
      " 2   mx_missile                 435 non-null    object\n",
      " 3   superfund_right_to_sue     435 non-null    object\n",
      " 4   crime                      435 non-null    object\n",
      " 5   duty_free_exports          435 non-null    object\n",
      " 6   groupe                     435 non-null    object\n",
      "dtypes: object(7)\n",
      "memory usage: 23.9+ KB\n"
     ]
    }
   ],
   "source": [
    "#liste et type des variables\n",
    "dfVote.info()"
   ]
  },
  {
   "cell_type": "code",
   "execution_count": 55,
   "metadata": {},
   "outputs": [
    {
     "data": {
      "text/html": [
       "<div>\n",
       "<style scoped>\n",
       "    .dataframe tbody tr th:only-of-type {\n",
       "        vertical-align: middle;\n",
       "    }\n",
       "\n",
       "    .dataframe tbody tr th {\n",
       "        vertical-align: top;\n",
       "    }\n",
       "\n",
       "    .dataframe thead th {\n",
       "        text-align: right;\n",
       "    }\n",
       "</style>\n",
       "<table border=\"1\" class=\"dataframe\">\n",
       "  <thead>\n",
       "    <tr style=\"text-align: right;\">\n",
       "      <th></th>\n",
       "      <th>adoption_of_the_budget_re</th>\n",
       "      <th>physician_fee_freeze</th>\n",
       "      <th>mx_missile</th>\n",
       "      <th>superfund_right_to_sue</th>\n",
       "      <th>crime</th>\n",
       "      <th>duty_free_exports</th>\n",
       "      <th>groupe</th>\n",
       "    </tr>\n",
       "  </thead>\n",
       "  <tbody>\n",
       "    <tr>\n",
       "      <th>0</th>\n",
       "      <td>n</td>\n",
       "      <td>y</td>\n",
       "      <td>n</td>\n",
       "      <td>y</td>\n",
       "      <td>y</td>\n",
       "      <td>n</td>\n",
       "      <td>republican</td>\n",
       "    </tr>\n",
       "    <tr>\n",
       "      <th>1</th>\n",
       "      <td>n</td>\n",
       "      <td>y</td>\n",
       "      <td>n</td>\n",
       "      <td>y</td>\n",
       "      <td>y</td>\n",
       "      <td>n</td>\n",
       "      <td>republican</td>\n",
       "    </tr>\n",
       "    <tr>\n",
       "      <th>2</th>\n",
       "      <td>y</td>\n",
       "      <td>_?</td>\n",
       "      <td>n</td>\n",
       "      <td>y</td>\n",
       "      <td>y</td>\n",
       "      <td>n</td>\n",
       "      <td>democrat</td>\n",
       "    </tr>\n",
       "    <tr>\n",
       "      <th>3</th>\n",
       "      <td>y</td>\n",
       "      <td>n</td>\n",
       "      <td>n</td>\n",
       "      <td>y</td>\n",
       "      <td>n</td>\n",
       "      <td>n</td>\n",
       "      <td>democrat</td>\n",
       "    </tr>\n",
       "    <tr>\n",
       "      <th>4</th>\n",
       "      <td>y</td>\n",
       "      <td>n</td>\n",
       "      <td>n</td>\n",
       "      <td>y</td>\n",
       "      <td>y</td>\n",
       "      <td>y</td>\n",
       "      <td>democrat</td>\n",
       "    </tr>\n",
       "  </tbody>\n",
       "</table>\n",
       "</div>"
      ],
      "text/plain": [
       "  adoption_of_the_budget_re physician_fee_freeze mx_missile  \\\n",
       "0                         n                    y          n   \n",
       "1                         n                    y          n   \n",
       "2                         y                   _?          n   \n",
       "3                         y                    n          n   \n",
       "4                         y                    n          n   \n",
       "\n",
       "  superfund_right_to_sue crime duty_free_exports      groupe  \n",
       "0                      y     y                 n  republican  \n",
       "1                      y     y                 n  republican  \n",
       "2                      y     y                 n    democrat  \n",
       "3                      y     n                 n    democrat  \n",
       "4                      y     y                 y    democrat  "
      ]
     },
     "execution_count": 55,
     "metadata": {},
     "output_type": "execute_result"
    }
   ],
   "source": [
    "# Affichage des premières lignes\n",
    "dfVote.head()"
   ]
  },
  {
   "cell_type": "code",
   "execution_count": 56,
   "metadata": {},
   "outputs": [],
   "source": [
    "#instanciation de l'arbre\n",
    "\n",
    "arbreVote = DecisionTreeClassifier(max_depth = 3)"
   ]
  },
  {
   "cell_type": "code",
   "execution_count": 57,
   "metadata": {
    "scrolled": true
   },
   "outputs": [
    {
     "ename": "ValueError",
     "evalue": "could not convert string to float: 'n'",
     "output_type": "error",
     "traceback": [
      "\u001b[1;31m---------------------------------------------------------------------------\u001b[0m",
      "\u001b[1;31mValueError\u001b[0m                                Traceback (most recent call last)",
      "\u001b[1;32m<ipython-input-57-02b094be3bd6>\u001b[0m in \u001b[0;36m<module>\u001b[1;34m\u001b[0m\n\u001b[0;32m      1\u001b[0m \u001b[1;31m#construction de l'arbre\u001b[0m\u001b[1;33m\u001b[0m\u001b[1;33m\u001b[0m\u001b[1;33m\u001b[0m\u001b[0m\n\u001b[1;32m----> 2\u001b[1;33m \u001b[0marbreVote\u001b[0m\u001b[1;33m.\u001b[0m\u001b[0mfit\u001b[0m\u001b[1;33m(\u001b[0m\u001b[0mX\u001b[0m \u001b[1;33m=\u001b[0m \u001b[0mdfVote\u001b[0m\u001b[1;33m.\u001b[0m\u001b[0miloc\u001b[0m\u001b[1;33m[\u001b[0m\u001b[1;33m:\u001b[0m\u001b[1;33m,\u001b[0m\u001b[1;33m:\u001b[0m\u001b[1;33m-\u001b[0m\u001b[1;36m1\u001b[0m\u001b[1;33m]\u001b[0m\u001b[1;33m,\u001b[0m \u001b[0my\u001b[0m \u001b[1;33m=\u001b[0m \u001b[0mdfVote\u001b[0m\u001b[1;33m.\u001b[0m\u001b[0mgroupe\u001b[0m\u001b[1;33m)\u001b[0m\u001b[1;33m\u001b[0m\u001b[1;33m\u001b[0m\u001b[0m\n\u001b[0m",
      "\u001b[1;32m~\\anaconda3\\lib\\site-packages\\sklearn\\tree\\_classes.py\u001b[0m in \u001b[0;36mfit\u001b[1;34m(self, X, y, sample_weight, check_input, X_idx_sorted)\u001b[0m\n\u001b[0;32m    875\u001b[0m             \u001b[0msample_weight\u001b[0m\u001b[1;33m=\u001b[0m\u001b[0msample_weight\u001b[0m\u001b[1;33m,\u001b[0m\u001b[1;33m\u001b[0m\u001b[1;33m\u001b[0m\u001b[0m\n\u001b[0;32m    876\u001b[0m             \u001b[0mcheck_input\u001b[0m\u001b[1;33m=\u001b[0m\u001b[0mcheck_input\u001b[0m\u001b[1;33m,\u001b[0m\u001b[1;33m\u001b[0m\u001b[1;33m\u001b[0m\u001b[0m\n\u001b[1;32m--> 877\u001b[1;33m             X_idx_sorted=X_idx_sorted)\n\u001b[0m\u001b[0;32m    878\u001b[0m         \u001b[1;32mreturn\u001b[0m \u001b[0mself\u001b[0m\u001b[1;33m\u001b[0m\u001b[1;33m\u001b[0m\u001b[0m\n\u001b[0;32m    879\u001b[0m \u001b[1;33m\u001b[0m\u001b[0m\n",
      "\u001b[1;32m~\\anaconda3\\lib\\site-packages\\sklearn\\tree\\_classes.py\u001b[0m in \u001b[0;36mfit\u001b[1;34m(self, X, y, sample_weight, check_input, X_idx_sorted)\u001b[0m\n\u001b[0;32m    147\u001b[0m \u001b[1;33m\u001b[0m\u001b[0m\n\u001b[0;32m    148\u001b[0m         \u001b[1;32mif\u001b[0m \u001b[0mcheck_input\u001b[0m\u001b[1;33m:\u001b[0m\u001b[1;33m\u001b[0m\u001b[1;33m\u001b[0m\u001b[0m\n\u001b[1;32m--> 149\u001b[1;33m             \u001b[0mX\u001b[0m \u001b[1;33m=\u001b[0m \u001b[0mcheck_array\u001b[0m\u001b[1;33m(\u001b[0m\u001b[0mX\u001b[0m\u001b[1;33m,\u001b[0m \u001b[0mdtype\u001b[0m\u001b[1;33m=\u001b[0m\u001b[0mDTYPE\u001b[0m\u001b[1;33m,\u001b[0m \u001b[0maccept_sparse\u001b[0m\u001b[1;33m=\u001b[0m\u001b[1;34m\"csc\"\u001b[0m\u001b[1;33m)\u001b[0m\u001b[1;33m\u001b[0m\u001b[1;33m\u001b[0m\u001b[0m\n\u001b[0m\u001b[0;32m    150\u001b[0m             \u001b[0my\u001b[0m \u001b[1;33m=\u001b[0m \u001b[0mcheck_array\u001b[0m\u001b[1;33m(\u001b[0m\u001b[0my\u001b[0m\u001b[1;33m,\u001b[0m \u001b[0mensure_2d\u001b[0m\u001b[1;33m=\u001b[0m\u001b[1;32mFalse\u001b[0m\u001b[1;33m,\u001b[0m \u001b[0mdtype\u001b[0m\u001b[1;33m=\u001b[0m\u001b[1;32mNone\u001b[0m\u001b[1;33m)\u001b[0m\u001b[1;33m\u001b[0m\u001b[1;33m\u001b[0m\u001b[0m\n\u001b[0;32m    151\u001b[0m             \u001b[1;32mif\u001b[0m \u001b[0missparse\u001b[0m\u001b[1;33m(\u001b[0m\u001b[0mX\u001b[0m\u001b[1;33m)\u001b[0m\u001b[1;33m:\u001b[0m\u001b[1;33m\u001b[0m\u001b[1;33m\u001b[0m\u001b[0m\n",
      "\u001b[1;32m~\\anaconda3\\lib\\site-packages\\sklearn\\utils\\validation.py\u001b[0m in \u001b[0;36mcheck_array\u001b[1;34m(array, accept_sparse, accept_large_sparse, dtype, order, copy, force_all_finite, ensure_2d, allow_nd, ensure_min_samples, ensure_min_features, warn_on_dtype, estimator)\u001b[0m\n\u001b[0;32m    529\u001b[0m                     \u001b[0marray\u001b[0m \u001b[1;33m=\u001b[0m \u001b[0marray\u001b[0m\u001b[1;33m.\u001b[0m\u001b[0mastype\u001b[0m\u001b[1;33m(\u001b[0m\u001b[0mdtype\u001b[0m\u001b[1;33m,\u001b[0m \u001b[0mcasting\u001b[0m\u001b[1;33m=\u001b[0m\u001b[1;34m\"unsafe\"\u001b[0m\u001b[1;33m,\u001b[0m \u001b[0mcopy\u001b[0m\u001b[1;33m=\u001b[0m\u001b[1;32mFalse\u001b[0m\u001b[1;33m)\u001b[0m\u001b[1;33m\u001b[0m\u001b[1;33m\u001b[0m\u001b[0m\n\u001b[0;32m    530\u001b[0m                 \u001b[1;32melse\u001b[0m\u001b[1;33m:\u001b[0m\u001b[1;33m\u001b[0m\u001b[1;33m\u001b[0m\u001b[0m\n\u001b[1;32m--> 531\u001b[1;33m                     \u001b[0marray\u001b[0m \u001b[1;33m=\u001b[0m \u001b[0mnp\u001b[0m\u001b[1;33m.\u001b[0m\u001b[0masarray\u001b[0m\u001b[1;33m(\u001b[0m\u001b[0marray\u001b[0m\u001b[1;33m,\u001b[0m \u001b[0morder\u001b[0m\u001b[1;33m=\u001b[0m\u001b[0morder\u001b[0m\u001b[1;33m,\u001b[0m \u001b[0mdtype\u001b[0m\u001b[1;33m=\u001b[0m\u001b[0mdtype\u001b[0m\u001b[1;33m)\u001b[0m\u001b[1;33m\u001b[0m\u001b[1;33m\u001b[0m\u001b[0m\n\u001b[0m\u001b[0;32m    532\u001b[0m             \u001b[1;32mexcept\u001b[0m \u001b[0mComplexWarning\u001b[0m\u001b[1;33m:\u001b[0m\u001b[1;33m\u001b[0m\u001b[1;33m\u001b[0m\u001b[0m\n\u001b[0;32m    533\u001b[0m                 raise ValueError(\"Complex data not supported\\n\"\n",
      "\u001b[1;32m~\\anaconda3\\lib\\site-packages\\numpy\\core\\_asarray.py\u001b[0m in \u001b[0;36masarray\u001b[1;34m(a, dtype, order)\u001b[0m\n\u001b[0;32m     83\u001b[0m \u001b[1;33m\u001b[0m\u001b[0m\n\u001b[0;32m     84\u001b[0m     \"\"\"\n\u001b[1;32m---> 85\u001b[1;33m     \u001b[1;32mreturn\u001b[0m \u001b[0marray\u001b[0m\u001b[1;33m(\u001b[0m\u001b[0ma\u001b[0m\u001b[1;33m,\u001b[0m \u001b[0mdtype\u001b[0m\u001b[1;33m,\u001b[0m \u001b[0mcopy\u001b[0m\u001b[1;33m=\u001b[0m\u001b[1;32mFalse\u001b[0m\u001b[1;33m,\u001b[0m \u001b[0morder\u001b[0m\u001b[1;33m=\u001b[0m\u001b[0morder\u001b[0m\u001b[1;33m)\u001b[0m\u001b[1;33m\u001b[0m\u001b[1;33m\u001b[0m\u001b[0m\n\u001b[0m\u001b[0;32m     86\u001b[0m \u001b[1;33m\u001b[0m\u001b[0m\n\u001b[0;32m     87\u001b[0m \u001b[1;33m\u001b[0m\u001b[0m\n",
      "\u001b[1;31mValueError\u001b[0m: could not convert string to float: 'n'"
     ]
    }
   ],
   "source": [
    "#construction de l'arbre\n",
    "arbreVote.fit(X = dfVote.iloc[:,:-1], y = dfVote.groupe)"
   ]
  },
  {
   "cell_type": "code",
   "execution_count": 58,
   "metadata": {},
   "outputs": [
    {
     "data": {
      "text/plain": [
       "Index(['adoption_of_the_budget_re', 'physician_fee_freeze', 'mx_missile',\n",
       "       'superfund_right_to_sue', 'crime', 'duty_free_exports', 'groupe'],\n",
       "      dtype='object')"
      ]
     },
     "execution_count": 58,
     "metadata": {},
     "output_type": "execute_result"
    }
   ],
   "source": [
    "#liste des variables\n",
    "dfVote.columns"
   ]
  },
  {
   "cell_type": "code",
   "execution_count": 59,
   "metadata": {},
   "outputs": [
    {
     "name": "stdout",
     "output_type": "stream",
     "text": [
      "<class 'pandas.core.frame.DataFrame'>\n",
      "RangeIndex: 435 entries, 0 to 434\n",
      "Data columns (total 18 columns):\n",
      " #   Column                        Non-Null Count  Dtype\n",
      "---  ------                        --------------  -----\n",
      " 0   adoption_of_the_budget_re__?  435 non-null    uint8\n",
      " 1   adoption_of_the_budget_re_n   435 non-null    uint8\n",
      " 2   adoption_of_the_budget_re_y   435 non-null    uint8\n",
      " 3   physician_fee_freeze__?       435 non-null    uint8\n",
      " 4   physician_fee_freeze_n        435 non-null    uint8\n",
      " 5   physician_fee_freeze_y        435 non-null    uint8\n",
      " 6   mx_missile__?                 435 non-null    uint8\n",
      " 7   mx_missile_n                  435 non-null    uint8\n",
      " 8   mx_missile_y                  435 non-null    uint8\n",
      " 9   superfund_right_to_sue__?     435 non-null    uint8\n",
      " 10  superfund_right_to_sue_n      435 non-null    uint8\n",
      " 11  superfund_right_to_sue_y      435 non-null    uint8\n",
      " 12  crime__?                      435 non-null    uint8\n",
      " 13  crime_n                       435 non-null    uint8\n",
      " 14  crime_y                       435 non-null    uint8\n",
      " 15  duty_free_exports__?          435 non-null    uint8\n",
      " 16  duty_free_exports_n           435 non-null    uint8\n",
      " 17  duty_free_exports_y           435 non-null    uint8\n",
      "dtypes: uint8(18)\n",
      "memory usage: 7.8 KB\n",
      "None\n"
     ]
    }
   ],
   "source": [
    "#encodage des prédictives\n",
    "dfVoteBis = pd.get_dummies(dfVote[dfVote.columns[:-1]])\n",
    "print(dfVoteBis.info())"
   ]
  },
  {
   "cell_type": "code",
   "execution_count": 60,
   "metadata": {},
   "outputs": [
    {
     "name": "stdout",
     "output_type": "stream",
     "text": [
      "y     0.570115\n",
      "n     0.390805\n",
      "_?    0.039080\n",
      "Name: crime, dtype: float64\n"
     ]
    }
   ],
   "source": [
    "#répartition de la variable crime par ex.\n",
    "print(dfVote['crime'].value_counts(normalize=True))"
   ]
  },
  {
   "cell_type": "code",
   "execution_count": 61,
   "metadata": {},
   "outputs": [
    {
     "name": "stdout",
     "output_type": "stream",
     "text": [
      "adoption_of_the_budget_re__?    0.025287\n",
      "adoption_of_the_budget_re_n     0.393103\n",
      "adoption_of_the_budget_re_y     0.581609\n",
      "physician_fee_freeze__?         0.025287\n",
      "physician_fee_freeze_n          0.567816\n",
      "physician_fee_freeze_y          0.406897\n",
      "mx_missile__?                   0.050575\n",
      "mx_missile_n                    0.473563\n",
      "mx_missile_y                    0.475862\n",
      "superfund_right_to_sue__?       0.057471\n",
      "superfund_right_to_sue_n        0.462069\n",
      "superfund_right_to_sue_y        0.480460\n",
      "crime__?                        0.039080\n",
      "crime_n                         0.390805\n",
      "crime_y                         0.570115\n",
      "duty_free_exports__?            0.064368\n",
      "duty_free_exports_n             0.535632\n",
      "duty_free_exports_y             0.400000\n",
      "dtype: float64\n"
     ]
    }
   ],
   "source": [
    "#moyennes par variables -- proportions\n",
    "print(dfVoteBis.apply(func='mean',axis=0))"
   ]
  },
  {
   "cell_type": "code",
   "execution_count": 62,
   "metadata": {},
   "outputs": [
    {
     "name": "stdout",
     "output_type": "stream",
     "text": [
      "<class 'pandas.core.frame.DataFrame'>\n",
      "RangeIndex: 435 entries, 0 to 434\n",
      "Data columns (total 19 columns):\n",
      " #   Column                        Non-Null Count  Dtype \n",
      "---  ------                        --------------  ----- \n",
      " 0   adoption_of_the_budget_re__?  435 non-null    uint8 \n",
      " 1   adoption_of_the_budget_re_n   435 non-null    uint8 \n",
      " 2   adoption_of_the_budget_re_y   435 non-null    uint8 \n",
      " 3   physician_fee_freeze__?       435 non-null    uint8 \n",
      " 4   physician_fee_freeze_n        435 non-null    uint8 \n",
      " 5   physician_fee_freeze_y        435 non-null    uint8 \n",
      " 6   mx_missile__?                 435 non-null    uint8 \n",
      " 7   mx_missile_n                  435 non-null    uint8 \n",
      " 8   mx_missile_y                  435 non-null    uint8 \n",
      " 9   superfund_right_to_sue__?     435 non-null    uint8 \n",
      " 10  superfund_right_to_sue_n      435 non-null    uint8 \n",
      " 11  superfund_right_to_sue_y      435 non-null    uint8 \n",
      " 12  crime__?                      435 non-null    uint8 \n",
      " 13  crime_n                       435 non-null    uint8 \n",
      " 14  crime_y                       435 non-null    uint8 \n",
      " 15  duty_free_exports__?          435 non-null    uint8 \n",
      " 16  duty_free_exports_n           435 non-null    uint8 \n",
      " 17  duty_free_exports_y           435 non-null    uint8 \n",
      " 18  groupe                        435 non-null    object\n",
      "dtypes: object(1), uint8(18)\n",
      "memory usage: 11.2+ KB\n",
      "None\n"
     ]
    }
   ],
   "source": [
    "#ajouter la variabgle 'groupe'\n",
    "dfVoteBis['groupe'] = dfVote.groupe\n",
    "print(dfVoteBis.info())"
   ]
  },
  {
   "cell_type": "code",
   "execution_count": 63,
   "metadata": {},
   "outputs": [
    {
     "data": {
      "text/plain": [
       "DecisionTreeClassifier(ccp_alpha=0.0, class_weight=None, criterion='gini',\n",
       "                       max_depth=3, max_features=None, max_leaf_nodes=None,\n",
       "                       min_impurity_decrease=0.0, min_impurity_split=None,\n",
       "                       min_samples_leaf=1, min_samples_split=2,\n",
       "                       min_weight_fraction_leaf=0.0, presort='deprecated',\n",
       "                       random_state=None, splitter='best')"
      ]
     },
     "execution_count": 63,
     "metadata": {},
     "output_type": "execute_result"
    }
   ],
   "source": [
    "#réinstancier l'arbre de décision\n",
    "arbreVote = DecisionTreeClassifier(max_depth = 3)\n",
    "\n",
    "#construction de l'arbre\n",
    "arbreVote.fit(X = dfVoteBis.iloc[:,:-1], y = dfVoteBis.groupe)"
   ]
  },
  {
   "cell_type": "code",
   "execution_count": 68,
   "metadata": {},
   "outputs": [
    {
     "data": {
      "image/png": "[encoded data removed]",
      "text/plain": [
       "<Figure size 1080x720 with 1 Axes>"
      ]
     },
     "metadata": {
      "needs_background": "light"
     },
     "output_type": "display_data"
    }
   ],
   "source": [
    "#affichage graphique de l'arbre - depuis sklearn 0.21\n",
    "\n",
    "plt.figure(figsize=(15,10))\n",
    "plot_tree(arbreVote,\n",
    "          feature_names = list(dfVoteBis.columns[:-1]),\n",
    "          filled=True)\n",
    "plt.show()"
   ]
  },
  {
   "cell_type": "code",
   "execution_count": null,
   "metadata": {},
   "outputs": [],
   "source": []
  }
 ],
 "metadata": {
  "kernelspec": {
   "display_name": "Python 3",
   "language": "python",
   "name": "python3"
  },
  "language_info": {
   "codemirror_mode": {
    "name": "ipython",
    "version": 3
   },
   "file_extension": ".py",
   "mimetype": "text/x-python",
   "name": "python",
   "nbconvert_exporter": "python",
   "pygments_lexer": "ipython3",
   "version": "3.7.6"
  }
 },
 "nbformat": 4,
 "nbformat_minor": 4
}
